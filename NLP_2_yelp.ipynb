{
  "nbformat": 4,
  "nbformat_minor": 0,
  "metadata": {
    "colab": {
      "name": "NLP_2_yelp.ipynb",
      "version": "0.3.2",
      "provenance": [],
      "collapsed_sections": [],
      "include_colab_link": true
    },
    "kernelspec": {
      "name": "python3",
      "display_name": "Python 3"
    }
  },
  "cells": [
    {
      "cell_type": "markdown",
      "metadata": {
        "id": "view-in-github",
        "colab_type": "text"
      },
      "source": [
        "<a href=\"https://colab.research.google.com/github/cyuancheng/NLP_Yelp_review/blob/master/NLP_2_yelp.ipynb\" target=\"_parent\"><img src=\"https://colab.research.google.com/assets/colab-badge.svg\" alt=\"Open In Colab\"/></a>"
      ]
    },
    {
      "metadata": {
        "id": "2KTF4FByD2_V",
        "colab_type": "text"
      },
      "cell_type": "markdown",
      "source": [
        "##Natural Language Processing and Sentiment Analysis for Yelp##\n",
        "\n",
        "Explore Starbucks review in New York City"
      ]
    },
    {
      "metadata": {
        "id": "Bv_JR_8LHEZS",
        "colab_type": "code",
        "colab": {
          "base_uri": "https://localhost:8080/",
          "height": 71
        },
        "outputId": "81a8da46-1793-4822-d8dc-5750ca95b884"
      },
      "cell_type": "code",
      "source": [
        "import pandas as pd\n",
        "import requests\n",
        "import spacy #use NLP functions\n",
        "from spacy import displacy\n",
        "from textblob import TextBlob\n",
        "import re\n",
        "import matplotlib as mpl\n",
        "import matplotlib.pyplot as plt\n",
        "import seaborn as sns\n",
        "\n",
        "from nltk.sentiment.vader import SentimentIntensityAnalyzer\n",
        "\n",
        "import folium\n",
        "import warnings\n",
        "warnings.filterwarnings(\"ignore\")"
      ],
      "execution_count": 1,
      "outputs": [
        {
          "output_type": "stream",
          "text": [
            "/usr/local/lib/python3.6/dist-packages/nltk/twitter/__init__.py:20: UserWarning: The twython library has not been installed. Some functionality from the twitter package will not be available.\n",
            "  warnings.warn(\"The twython library has not been installed. \"\n"
          ],
          "name": "stderr"
        }
      ]
    },
    {
      "metadata": {
        "id": "5yO9p5IfpbM_",
        "colab_type": "text"
      },
      "cell_type": "markdown",
      "source": [
        "###1. Data pre-process and cleaning###\n",
        "Get data from Yelp api"
      ]
    },
    {
      "metadata": {
        "id": "nu8hn15rl7MQ",
        "colab_type": "code",
        "colab": {}
      },
      "cell_type": "code",
      "source": [
        "#get yelp api (https://www.yelp.com/developers)\n",
        "\n",
        "client_id = 'fl6Gc_WOT5VLrae0o6fc7w' \n",
        "key = 'kArR8ttjf4JdZDtC27-InwcgepdkWrtTcSfaHKwf_JMtQY0LvXgfaG3lmUA3F2oCCp-KUa-W8tPuVXdm8Abwj6N0m0YJniJHVa61rXEFMLuAM11d2IrYSV5NEYGJXHYx'\n",
        "\n",
        "ENDPOINT = 'https://api.yelp.com/v3/businesses/search'\n",
        "\n",
        "HEADERS = {'Authorization':'bearer {}'.format(key)}\n",
        "\n",
        "PARAMETERS = {'term' : 'Starbucks',\n",
        "              'limit':50,\n",
        "             'radius':40000, # meter\n",
        "              'latitude': 40.758862,\n",
        "              'longitude':-73.978663  # Rockefeller Center\n",
        "              #'sort_by' :'review_count', \n",
        "             #'location':\"New York City\"\n",
        "             }\n",
        "\n",
        "response = requests.get(url = ENDPOINT, params = PARAMETERS, headers = HEADERS)"
      ],
      "execution_count": 0,
      "outputs": []
    },
    {
      "metadata": {
        "id": "VXu-5_E-pmI7",
        "colab_type": "text"
      },
      "cell_type": "markdown",
      "source": [
        "- Process/Clean business data"
      ]
    },
    {
      "metadata": {
        "id": "vI-XhgJ7mDaH",
        "colab_type": "code",
        "colab": {}
      },
      "cell_type": "code",
      "source": [
        "data = response.json()"
      ],
      "execution_count": 0,
      "outputs": []
    },
    {
      "metadata": {
        "id": "SsQ8funaVwrd",
        "colab_type": "code",
        "outputId": "68d6037b-deba-490f-9867-49dd28932d92",
        "colab": {
          "base_uri": "https://localhost:8080/",
          "height": 428
        }
      },
      "cell_type": "code",
      "source": [
        "data[\"businesses\"][0]"
      ],
      "execution_count": 4,
      "outputs": [
        {
          "output_type": "execute_result",
          "data": {
            "text/plain": [
              "{'alias': 'starbucks-new-york-273',\n",
              " 'categories': [{'alias': 'coffee', 'title': 'Coffee & Tea'}],\n",
              " 'coordinates': {'latitude': 40.758856, 'longitude': -73.978954},\n",
              " 'display_phone': '(212) 397-7950',\n",
              " 'distance': 24.51886376624723,\n",
              " 'id': '5WHpzFh-ZbTBY919PlZPTw',\n",
              " 'image_url': 'https://s3-media2.fl.yelpcdn.com/bphoto/6f8_MgbQJiloz02QX6Oqxw/o.jpg',\n",
              " 'is_closed': False,\n",
              " 'location': {'address1': '30 Rockefeller Plaza',\n",
              "  'address2': '',\n",
              "  'address3': '',\n",
              "  'city': 'New York',\n",
              "  'country': 'US',\n",
              "  'display_address': ['30 Rockefeller Plaza', 'New York, NY 10112'],\n",
              "  'state': 'NY',\n",
              "  'zip_code': '10112'},\n",
              " 'name': 'Starbucks',\n",
              " 'phone': '+12123977950',\n",
              " 'price': '$$',\n",
              " 'rating': 3.0,\n",
              " 'review_count': 72,\n",
              " 'transactions': [],\n",
              " 'url': 'https://www.yelp.com/biz/starbucks-new-york-273?adjust_creative=fl6Gc_WOT5VLrae0o6fc7w&utm_campaign=yelp_api_v3&utm_medium=api_v3_business_search&utm_source=fl6Gc_WOT5VLrae0o6fc7w'}"
            ]
          },
          "metadata": {
            "tags": []
          },
          "execution_count": 4
        }
      ]
    },
    {
      "metadata": {
        "id": "lS1G3_fjGuIl",
        "colab_type": "text"
      },
      "cell_type": "markdown",
      "source": [
        "Next, we can make a list of the businesses with their id, rating, price, and location"
      ]
    },
    {
      "metadata": {
        "id": "N1so2K95L3pl",
        "colab_type": "code",
        "colab": {}
      },
      "cell_type": "code",
      "source": [
        "# list of id in businesses with rating\n",
        "list_buss = []\n",
        "\n",
        "for item in data['businesses']:\n",
        "  try:\n",
        "    list_buss.append([item['id'], item['rating'], item['price'],item['review_count'],\\\n",
        "                      item['coordinates']['latitude'],item['coordinates']['longitude'] ])\n",
        "  except:\n",
        "    list_buss.append([item['id'], item['rating'], None, None, None, None])"
      ],
      "execution_count": 0,
      "outputs": []
    },
    {
      "metadata": {
        "id": "fN9qqsHWG9Ze",
        "colab_type": "code",
        "outputId": "c38583aa-1a39-4744-a152-22a21291053f",
        "colab": {
          "base_uri": "https://localhost:8080/",
          "height": 204
        }
      },
      "cell_type": "code",
      "source": [
        "# convert to pandas format\n",
        "list_buss = pd.DataFrame(list_buss, columns = ['id','rating','price', 'count', 'latitude','longitude' ])\n",
        "list_buss.head()"
      ],
      "execution_count": 6,
      "outputs": [
        {
          "output_type": "execute_result",
          "data": {
            "text/html": [
              "<div>\n",
              "<style scoped>\n",
              "    .dataframe tbody tr th:only-of-type {\n",
              "        vertical-align: middle;\n",
              "    }\n",
              "\n",
              "    .dataframe tbody tr th {\n",
              "        vertical-align: top;\n",
              "    }\n",
              "\n",
              "    .dataframe thead th {\n",
              "        text-align: right;\n",
              "    }\n",
              "</style>\n",
              "<table border=\"1\" class=\"dataframe\">\n",
              "  <thead>\n",
              "    <tr style=\"text-align: right;\">\n",
              "      <th></th>\n",
              "      <th>id</th>\n",
              "      <th>rating</th>\n",
              "      <th>price</th>\n",
              "      <th>count</th>\n",
              "      <th>latitude</th>\n",
              "      <th>longitude</th>\n",
              "    </tr>\n",
              "  </thead>\n",
              "  <tbody>\n",
              "    <tr>\n",
              "      <th>0</th>\n",
              "      <td>5WHpzFh-ZbTBY919PlZPTw</td>\n",
              "      <td>3.0</td>\n",
              "      <td>$$</td>\n",
              "      <td>72.0</td>\n",
              "      <td>40.758856</td>\n",
              "      <td>-73.978954</td>\n",
              "    </tr>\n",
              "    <tr>\n",
              "      <th>1</th>\n",
              "      <td>AJR1lIu3RzgC8bgCk2tFog</td>\n",
              "      <td>2.5</td>\n",
              "      <td>$$</td>\n",
              "      <td>30.0</td>\n",
              "      <td>40.758859</td>\n",
              "      <td>-73.978956</td>\n",
              "    </tr>\n",
              "    <tr>\n",
              "      <th>2</th>\n",
              "      <td>t8_nm5-yk8ArhZjT3nHxRA</td>\n",
              "      <td>2.5</td>\n",
              "      <td>$$</td>\n",
              "      <td>15.0</td>\n",
              "      <td>40.757802</td>\n",
              "      <td>-73.979602</td>\n",
              "    </tr>\n",
              "    <tr>\n",
              "      <th>3</th>\n",
              "      <td>DTRLsTwx0534Iv-0xfXijA</td>\n",
              "      <td>2.5</td>\n",
              "      <td>$$</td>\n",
              "      <td>26.0</td>\n",
              "      <td>40.760364</td>\n",
              "      <td>-73.979084</td>\n",
              "    </tr>\n",
              "    <tr>\n",
              "      <th>4</th>\n",
              "      <td>4VwDtb5wOxfaXFOvTp7C6A</td>\n",
              "      <td>2.5</td>\n",
              "      <td>$$</td>\n",
              "      <td>22.0</td>\n",
              "      <td>40.760587</td>\n",
              "      <td>-73.978598</td>\n",
              "    </tr>\n",
              "  </tbody>\n",
              "</table>\n",
              "</div>"
            ],
            "text/plain": [
              "                       id  rating price  count   latitude  longitude\n",
              "0  5WHpzFh-ZbTBY919PlZPTw     3.0    $$   72.0  40.758856 -73.978954\n",
              "1  AJR1lIu3RzgC8bgCk2tFog     2.5    $$   30.0  40.758859 -73.978956\n",
              "2  t8_nm5-yk8ArhZjT3nHxRA     2.5    $$   15.0  40.757802 -73.979602\n",
              "3  DTRLsTwx0534Iv-0xfXijA     2.5    $$   26.0  40.760364 -73.979084\n",
              "4  4VwDtb5wOxfaXFOvTp7C6A     2.5    $$   22.0  40.760587 -73.978598"
            ]
          },
          "metadata": {
            "tags": []
          },
          "execution_count": 6
        }
      ]
    },
    {
      "metadata": {
        "id": "Kh1QYa-JRYRT",
        "colab_type": "code",
        "outputId": "d0e3d618-b366-401e-c185-bf143aeeec90",
        "colab": {
          "base_uri": "https://localhost:8080/",
          "height": 34
        }
      },
      "cell_type": "code",
      "source": [
        "locations = list_buss[['latitude', 'longitude']]\n",
        "locationlist = locations.values.tolist()\n",
        "len(locationlist)\n",
        "locationlist[7]"
      ],
      "execution_count": 7,
      "outputs": [
        {
          "output_type": "execute_result",
          "data": {
            "text/plain": [
              "[40.760348, -73.976134]"
            ]
          },
          "metadata": {
            "tags": []
          },
          "execution_count": 7
        }
      ]
    },
    {
      "metadata": {
        "id": "U_P52HeW27wA",
        "colab_type": "code",
        "outputId": "83c45ea5-171d-493f-f23d-c112f37f60f8",
        "colab": {
          "base_uri": "https://localhost:8080/",
          "height": 674
        }
      },
      "cell_type": "code",
      "source": [
        "map = folium.Map(location=[40.758862, -73.978663], zoom_start=16)\n",
        "\n",
        "for point in range(0, len(locationlist)):\n",
        "    folium.Marker(locationlist[point], popup=list_buss['id'][point]).add_to(map)\n",
        "map"
      ],
      "execution_count": 8,
      "outputs": [
        {
          "output_type": "execute_result",
          "data": {
            "text/html": [
              "<div style=\"width:100%;\"><div style=\"position:relative;width:100%;height:0;padding-bottom:60%;\"><iframe src=\"data:text/html;base64,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\" style=\"position:absolute;width:100%;height:100%;left:0;top:0;\"></iframe></div></div>"
            ],
            "text/plain": [
              "<folium.folium.Map at 0x7efef1b7c7f0>"
            ]
          },
          "metadata": {
            "tags": []
          },
          "execution_count": 8
        }
      ]
    },
    {
      "metadata": {
        "id": "WCo6NeCEe0Ps",
        "colab_type": "text"
      },
      "cell_type": "markdown",
      "source": [
        "Optional. A suggested search radius in meters. This field is used as a suggestion to the search. The actual search radius may be lower than the suggested radius in dense urban areas, and higher in regions of less business density. If the specified value is too large, a AREA_TOO_LARGE error may be returned. The max value is 40000 meters (about 25 miles)."
      ]
    },
    {
      "metadata": {
        "id": "zYrgnR07WN1R",
        "colab_type": "code",
        "outputId": "871a67eb-14c5-4b61-a7e5-f827abd94d51",
        "colab": {
          "base_uri": "https://localhost:8080/",
          "height": 378
        }
      },
      "cell_type": "code",
      "source": [
        "sns.countplot(x=\"rating\", data=list_buss)"
      ],
      "execution_count": 9,
      "outputs": [
        {
          "output_type": "execute_result",
          "data": {
            "text/plain": [
              "<matplotlib.axes._subplots.AxesSubplot at 0x7efef1ab25f8>"
            ]
          },
          "metadata": {
            "tags": []
          },
          "execution_count": 9
        },
        {
          "output_type": "display_data",
          "data": {
            "image/png": "[encoded data removed]",
            "text/plain": [
              "<Figure size 576x396 with 1 Axes>"
            ]
          },
          "metadata": {
            "tags": []
          }
        }
      ]
    },
    {
      "metadata": {
        "id": "cUDYyt2kWqgM",
        "colab_type": "code",
        "outputId": "91216d8f-ee03-4d77-d63b-62d63f24cffa",
        "colab": {
          "base_uri": "https://localhost:8080/",
          "height": 173
        }
      },
      "cell_type": "code",
      "source": [
        "list_buss.groupby('price').count()"
      ],
      "execution_count": 10,
      "outputs": [
        {
          "output_type": "execute_result",
          "data": {
            "text/html": [
              "<div>\n",
              "<style scoped>\n",
              "    .dataframe tbody tr th:only-of-type {\n",
              "        vertical-align: middle;\n",
              "    }\n",
              "\n",
              "    .dataframe tbody tr th {\n",
              "        vertical-align: top;\n",
              "    }\n",
              "\n",
              "    .dataframe thead th {\n",
              "        text-align: right;\n",
              "    }\n",
              "</style>\n",
              "<table border=\"1\" class=\"dataframe\">\n",
              "  <thead>\n",
              "    <tr style=\"text-align: right;\">\n",
              "      <th></th>\n",
              "      <th>id</th>\n",
              "      <th>rating</th>\n",
              "      <th>count</th>\n",
              "      <th>latitude</th>\n",
              "      <th>longitude</th>\n",
              "    </tr>\n",
              "    <tr>\n",
              "      <th>price</th>\n",
              "      <th></th>\n",
              "      <th></th>\n",
              "      <th></th>\n",
              "      <th></th>\n",
              "      <th></th>\n",
              "    </tr>\n",
              "  </thead>\n",
              "  <tbody>\n",
              "    <tr>\n",
              "      <th>$</th>\n",
              "      <td>10</td>\n",
              "      <td>10</td>\n",
              "      <td>10</td>\n",
              "      <td>10</td>\n",
              "      <td>10</td>\n",
              "    </tr>\n",
              "    <tr>\n",
              "      <th>$$</th>\n",
              "      <td>35</td>\n",
              "      <td>35</td>\n",
              "      <td>35</td>\n",
              "      <td>35</td>\n",
              "      <td>35</td>\n",
              "    </tr>\n",
              "    <tr>\n",
              "      <th>$$$</th>\n",
              "      <td>2</td>\n",
              "      <td>2</td>\n",
              "      <td>2</td>\n",
              "      <td>2</td>\n",
              "      <td>2</td>\n",
              "    </tr>\n",
              "  </tbody>\n",
              "</table>\n",
              "</div>"
            ],
            "text/plain": [
              "       id  rating  count  latitude  longitude\n",
              "price                                        \n",
              "$      10      10     10        10         10\n",
              "$$     35      35     35        35         35\n",
              "$$$     2       2      2         2          2"
            ]
          },
          "metadata": {
            "tags": []
          },
          "execution_count": 10
        }
      ]
    },
    {
      "metadata": {
        "id": "WU_w9e12uBNZ",
        "colab_type": "text"
      },
      "cell_type": "markdown",
      "source": [
        "review"
      ]
    },
    {
      "metadata": {
        "id": "RL-WZfPgF77r",
        "colab_type": "code",
        "outputId": "e56e6326-c271-48f4-dfaf-894225f6a4a9",
        "colab": {
          "base_uri": "https://localhost:8080/",
          "height": 34
        }
      },
      "cell_type": "code",
      "source": [
        "data[\"businesses\"][0]['id'] # parse id# for review "
      ],
      "execution_count": 11,
      "outputs": [
        {
          "output_type": "execute_result",
          "data": {
            "text/plain": [
              "'5WHpzFh-ZbTBY919PlZPTw'"
            ]
          },
          "metadata": {
            "tags": []
          },
          "execution_count": 11
        }
      ]
    },
    {
      "metadata": {
        "id": "EEcceQGJGKY8",
        "colab_type": "text"
      },
      "cell_type": "markdown",
      "source": [
        "read review of this businesses "
      ]
    },
    {
      "metadata": {
        "id": "ApylqAplW9E2",
        "colab_type": "code",
        "colab": {}
      },
      "cell_type": "code",
      "source": [
        "ENDPOINT_reviews = 'https://api.yelp.com/v3/businesses/5WHpzFh-ZbTBY919PlZPTw/reviews'   # id/reviews  \n",
        "response_reviews = requests.get(url = ENDPOINT_reviews, headers = HEADERS)"
      ],
      "execution_count": 0,
      "outputs": []
    },
    {
      "metadata": {
        "id": "EQV6veiyq9y6",
        "colab_type": "text"
      },
      "cell_type": "markdown",
      "source": [
        "Each business has three reviews. Read first review"
      ]
    },
    {
      "metadata": {
        "id": "xRIcNN_tYpQP",
        "colab_type": "code",
        "outputId": "b7940486-43cf-46af-ace7-89e10f9bf82f",
        "colab": {
          "base_uri": "https://localhost:8080/",
          "height": 34
        }
      },
      "cell_type": "code",
      "source": [
        "len(response_reviews.json())"
      ],
      "execution_count": 13,
      "outputs": [
        {
          "output_type": "execute_result",
          "data": {
            "text/plain": [
              "3"
            ]
          },
          "metadata": {
            "tags": []
          },
          "execution_count": 13
        }
      ]
    },
    {
      "metadata": {
        "id": "AW42BuKqYd9L",
        "colab_type": "code",
        "outputId": "b10379c7-f6a3-4af4-9142-464ddc848f3b",
        "colab": {
          "base_uri": "https://localhost:8080/",
          "height": 190
        }
      },
      "cell_type": "code",
      "source": [
        "response_reviews.json()['reviews'][0]#['user']['profile_url']"
      ],
      "execution_count": 14,
      "outputs": [
        {
          "output_type": "execute_result",
          "data": {
            "text/plain": [
              "{'id': '3gnJ62usiQh9VDdVPibDAw',\n",
              " 'rating': 4,\n",
              " 'text': 'I have been here at 630 am and the staff is always pleasant and well rested. Sometimes there are homeless people sitting in the seats but it may be a way of...',\n",
              " 'time_created': '2018-11-16 14:36:46',\n",
              " 'url': 'https://www.yelp.com/biz/starbucks-new-york-273?adjust_creative=fl6Gc_WOT5VLrae0o6fc7w&hrid=3gnJ62usiQh9VDdVPibDAw&utm_campaign=yelp_api_v3&utm_medium=api_v3_business_reviews&utm_source=fl6Gc_WOT5VLrae0o6fc7w',\n",
              " 'user': {'id': 'KVKIvMY5gL5scNgexlENiQ',\n",
              "  'image_url': 'https://s3-media3.fl.yelpcdn.com/photo/iMhwNj0d6t8ZZJ1sS2i6qg/o.jpg',\n",
              "  'name': 'Dionne H.',\n",
              "  'profile_url': 'https://www.yelp.com/user_details?userid=KVKIvMY5gL5scNgexlENiQ'}}"
            ]
          },
          "metadata": {
            "tags": []
          },
          "execution_count": 14
        }
      ]
    },
    {
      "metadata": {
        "id": "83KRCC8JiPEK",
        "colab_type": "text"
      },
      "cell_type": "markdown",
      "source": [
        "Since each buisness only has three reviews, the rating are not representive the business statistically. So I decide to pull out the rating that directly link to the review."
      ]
    },
    {
      "metadata": {
        "id": "y6aCJUuZcCaG",
        "colab_type": "code",
        "colab": {}
      },
      "cell_type": "code",
      "source": [
        "# collect review\n",
        "List_all_review = []\n",
        "List_all_rating = []\n",
        "for i in range(50):\n",
        "\n",
        "  try:\n",
        "    ENDPOINT_reviews = 'https://api.yelp.com/v3/businesses/'+ data[\"businesses\"][i]['id'] +'/reviews'\n",
        "    response_reviews = requests.get(url = ENDPOINT_reviews, headers = HEADERS)\n",
        "    for ii in range(3):\n",
        "\n",
        "      x = response_reviews.json()['reviews'][ii]['text']\n",
        "      List_all_review .append(x)\n",
        "      y = response_reviews.json()['reviews'][ii]['rating']\n",
        "      List_all_rating.append(y)\n",
        "  except:\n",
        "    pass"
      ],
      "execution_count": 0,
      "outputs": []
    },
    {
      "metadata": {
        "id": "uobFgqKicVv0",
        "colab_type": "code",
        "outputId": "d9b8d17f-4265-49cb-d205-b832ba5f1aaa",
        "colab": {
          "base_uri": "https://localhost:8080/",
          "height": 204
        }
      },
      "cell_type": "code",
      "source": [
        "d = {'rate': List_all_rating, 'review': List_all_review}\n",
        "df_total = pd.DataFrame(data=d)\n",
        "df_total.head()"
      ],
      "execution_count": 16,
      "outputs": [
        {
          "output_type": "execute_result",
          "data": {
            "text/html": [
              "<div>\n",
              "<style scoped>\n",
              "    .dataframe tbody tr th:only-of-type {\n",
              "        vertical-align: middle;\n",
              "    }\n",
              "\n",
              "    .dataframe tbody tr th {\n",
              "        vertical-align: top;\n",
              "    }\n",
              "\n",
              "    .dataframe thead th {\n",
              "        text-align: right;\n",
              "    }\n",
              "</style>\n",
              "<table border=\"1\" class=\"dataframe\">\n",
              "  <thead>\n",
              "    <tr style=\"text-align: right;\">\n",
              "      <th></th>\n",
              "      <th>rate</th>\n",
              "      <th>review</th>\n",
              "    </tr>\n",
              "  </thead>\n",
              "  <tbody>\n",
              "    <tr>\n",
              "      <th>0</th>\n",
              "      <td>4</td>\n",
              "      <td>I have been here at 630 am and the staff is al...</td>\n",
              "    </tr>\n",
              "    <tr>\n",
              "      <th>1</th>\n",
              "      <td>2</td>\n",
              "      <td>Horrible experience this morning ,app orders s...</td>\n",
              "    </tr>\n",
              "    <tr>\n",
              "      <th>2</th>\n",
              "      <td>1</td>\n",
              "      <td>I freqent this location practically every work...</td>\n",
              "    </tr>\n",
              "    <tr>\n",
              "      <th>3</th>\n",
              "      <td>3</td>\n",
              "      <td>I arrived extremely early in NY so I decided t...</td>\n",
              "    </tr>\n",
              "    <tr>\n",
              "      <th>4</th>\n",
              "      <td>3</td>\n",
              "      <td>When I was younger, I used to play a game with...</td>\n",
              "    </tr>\n",
              "  </tbody>\n",
              "</table>\n",
              "</div>"
            ],
            "text/plain": [
              "   rate                                             review\n",
              "0     4  I have been here at 630 am and the staff is al...\n",
              "1     2  Horrible experience this morning ,app orders s...\n",
              "2     1  I freqent this location practically every work...\n",
              "3     3  I arrived extremely early in NY so I decided t...\n",
              "4     3  When I was younger, I used to play a game with..."
            ]
          },
          "metadata": {
            "tags": []
          },
          "execution_count": 16
        }
      ]
    },
    {
      "metadata": {
        "id": "T1PtmZstufve",
        "colab_type": "code",
        "outputId": "7f841020-1cd7-4959-9518-90fa83ba4d48",
        "colab": {
          "base_uri": "https://localhost:8080/",
          "height": 378
        }
      },
      "cell_type": "code",
      "source": [
        "sns.countplot(x=\"rate\", data=df_total)"
      ],
      "execution_count": 17,
      "outputs": [
        {
          "output_type": "execute_result",
          "data": {
            "text/plain": [
              "<matplotlib.axes._subplots.AxesSubplot at 0x7efeee124eb8>"
            ]
          },
          "metadata": {
            "tags": []
          },
          "execution_count": 17
        },
        {
          "output_type": "display_data",
          "data": {
            "image/png": "[encoded data removed]",
            "text/plain": [
              "<Figure size 576x396 with 1 Axes>"
            ]
          },
          "metadata": {
            "tags": []
          }
        }
      ]
    },
    {
      "metadata": {
        "id": "2ax1pq-fvwoe",
        "colab_type": "code",
        "colab": {}
      },
      "cell_type": "code",
      "source": [
        "df_total['Polarity'] = [TextBlob(x).sentiment[0] for x in df_total['review'] ]\n",
        "df_total['Subjectivity'] = [TextBlob(x).sentiment[1] for x in df_total['review'] ]"
      ],
      "execution_count": 0,
      "outputs": []
    },
    {
      "metadata": {
        "id": "9v76pVdAunxC",
        "colab_type": "code",
        "outputId": "78f1085a-e382-4528-9f29-fab76edc5161",
        "colab": {
          "base_uri": "https://localhost:8080/",
          "height": 51
        }
      },
      "cell_type": "code",
      "source": [
        "df_total_HR = df_total[df_total['rate']>=4]\n",
        "df_total_LR = df_total[df_total['rate']<4]\n",
        "\n",
        "print(len(df_total_HR))\n",
        "print(len(df_total_LR))"
      ],
      "execution_count": 19,
      "outputs": [
        {
          "output_type": "stream",
          "text": [
            "64\n",
            "82\n"
          ],
          "name": "stdout"
        }
      ]
    },
    {
      "metadata": {
        "id": "FsrqPeaiu-a1",
        "colab_type": "code",
        "outputId": "9bab3ed1-98e0-465e-8012-f726887d423a",
        "colab": {
          "base_uri": "https://localhost:8080/",
          "height": 204
        }
      },
      "cell_type": "code",
      "source": [
        "df_total_HR.head()"
      ],
      "execution_count": 20,
      "outputs": [
        {
          "output_type": "execute_result",
          "data": {
            "text/html": [
              "<div>\n",
              "<style scoped>\n",
              "    .dataframe tbody tr th:only-of-type {\n",
              "        vertical-align: middle;\n",
              "    }\n",
              "\n",
              "    .dataframe tbody tr th {\n",
              "        vertical-align: top;\n",
              "    }\n",
              "\n",
              "    .dataframe thead th {\n",
              "        text-align: right;\n",
              "    }\n",
              "</style>\n",
              "<table border=\"1\" class=\"dataframe\">\n",
              "  <thead>\n",
              "    <tr style=\"text-align: right;\">\n",
              "      <th></th>\n",
              "      <th>rate</th>\n",
              "      <th>review</th>\n",
              "      <th>Polarity</th>\n",
              "      <th>Subjectivity</th>\n",
              "    </tr>\n",
              "  </thead>\n",
              "  <tbody>\n",
              "    <tr>\n",
              "      <th>0</th>\n",
              "      <td>4</td>\n",
              "      <td>I have been here at 630 am and the staff is al...</td>\n",
              "      <td>0.733333</td>\n",
              "      <td>0.966667</td>\n",
              "    </tr>\n",
              "    <tr>\n",
              "      <th>6</th>\n",
              "      <td>5</td>\n",
              "      <td>My go to Starbucks. Obviously people don't agr...</td>\n",
              "      <td>0.400000</td>\n",
              "      <td>0.600000</td>\n",
              "    </tr>\n",
              "    <tr>\n",
              "      <th>8</th>\n",
              "      <td>4</td>\n",
              "      <td>This location is kind of tucked away in the mi...</td>\n",
              "      <td>0.150000</td>\n",
              "      <td>0.325000</td>\n",
              "    </tr>\n",
              "    <tr>\n",
              "      <th>9</th>\n",
              "      <td>4</td>\n",
              "      <td>One of my usual spots for a Starbucks run whil...</td>\n",
              "      <td>0.106667</td>\n",
              "      <td>0.380000</td>\n",
              "    </tr>\n",
              "    <tr>\n",
              "      <th>10</th>\n",
              "      <td>5</td>\n",
              "      <td>I been here a few times. The service is pretty...</td>\n",
              "      <td>0.220000</td>\n",
              "      <td>0.545000</td>\n",
              "    </tr>\n",
              "  </tbody>\n",
              "</table>\n",
              "</div>"
            ],
            "text/plain": [
              "    rate                                             review  Polarity  \\\n",
              "0      4  I have been here at 630 am and the staff is al...  0.733333   \n",
              "6      5  My go to Starbucks. Obviously people don't agr...  0.400000   \n",
              "8      4  This location is kind of tucked away in the mi...  0.150000   \n",
              "9      4  One of my usual spots for a Starbucks run whil...  0.106667   \n",
              "10     5  I been here a few times. The service is pretty...  0.220000   \n",
              "\n",
              "    Subjectivity  \n",
              "0       0.966667  \n",
              "6       0.600000  \n",
              "8       0.325000  \n",
              "9       0.380000  \n",
              "10      0.545000  "
            ]
          },
          "metadata": {
            "tags": []
          },
          "execution_count": 20
        }
      ]
    },
    {
      "metadata": {
        "id": "cs2fL5xOvDi5",
        "colab_type": "code",
        "outputId": "9c428e72-ded1-4ade-90b8-03a9a81d1f6e",
        "colab": {
          "base_uri": "https://localhost:8080/",
          "height": 204
        }
      },
      "cell_type": "code",
      "source": [
        "df_total_LR.head()"
      ],
      "execution_count": 21,
      "outputs": [
        {
          "output_type": "execute_result",
          "data": {
            "text/html": [
              "<div>\n",
              "<style scoped>\n",
              "    .dataframe tbody tr th:only-of-type {\n",
              "        vertical-align: middle;\n",
              "    }\n",
              "\n",
              "    .dataframe tbody tr th {\n",
              "        vertical-align: top;\n",
              "    }\n",
              "\n",
              "    .dataframe thead th {\n",
              "        text-align: right;\n",
              "    }\n",
              "</style>\n",
              "<table border=\"1\" class=\"dataframe\">\n",
              "  <thead>\n",
              "    <tr style=\"text-align: right;\">\n",
              "      <th></th>\n",
              "      <th>rate</th>\n",
              "      <th>review</th>\n",
              "      <th>Polarity</th>\n",
              "      <th>Subjectivity</th>\n",
              "    </tr>\n",
              "  </thead>\n",
              "  <tbody>\n",
              "    <tr>\n",
              "      <th>1</th>\n",
              "      <td>2</td>\n",
              "      <td>Horrible experience this morning ,app orders s...</td>\n",
              "      <td>-0.266667</td>\n",
              "      <td>0.70</td>\n",
              "    </tr>\n",
              "    <tr>\n",
              "      <th>2</th>\n",
              "      <td>1</td>\n",
              "      <td>I freqent this location practically every work...</td>\n",
              "      <td>-0.450000</td>\n",
              "      <td>1.00</td>\n",
              "    </tr>\n",
              "    <tr>\n",
              "      <th>3</th>\n",
              "      <td>3</td>\n",
              "      <td>I arrived extremely early in NY so I decided t...</td>\n",
              "      <td>0.100000</td>\n",
              "      <td>0.30</td>\n",
              "    </tr>\n",
              "    <tr>\n",
              "      <th>4</th>\n",
              "      <td>3</td>\n",
              "      <td>When I was younger, I used to play a game with...</td>\n",
              "      <td>-0.133333</td>\n",
              "      <td>0.30</td>\n",
              "    </tr>\n",
              "    <tr>\n",
              "      <th>5</th>\n",
              "      <td>1</td>\n",
              "      <td>The wait here I just had for only a cup of ice...</td>\n",
              "      <td>-0.103472</td>\n",
              "      <td>0.75</td>\n",
              "    </tr>\n",
              "  </tbody>\n",
              "</table>\n",
              "</div>"
            ],
            "text/plain": [
              "   rate                                             review  Polarity  \\\n",
              "1     2  Horrible experience this morning ,app orders s... -0.266667   \n",
              "2     1  I freqent this location practically every work... -0.450000   \n",
              "3     3  I arrived extremely early in NY so I decided t...  0.100000   \n",
              "4     3  When I was younger, I used to play a game with... -0.133333   \n",
              "5     1  The wait here I just had for only a cup of ice... -0.103472   \n",
              "\n",
              "   Subjectivity  \n",
              "1          0.70  \n",
              "2          1.00  \n",
              "3          0.30  \n",
              "4          0.30  \n",
              "5          0.75  "
            ]
          },
          "metadata": {
            "tags": []
          },
          "execution_count": 21
        }
      ]
    },
    {
      "metadata": {
        "id": "knPxbRZnwBvo",
        "colab_type": "text"
      },
      "cell_type": "markdown",
      "source": [
        "Howis the review rate correlated to the polarity?"
      ]
    },
    {
      "metadata": {
        "id": "XDPuYl05vMRz",
        "colab_type": "code",
        "outputId": "4e2b0e8c-47f4-4d5f-c239-ff79669c7c85",
        "colab": {
          "base_uri": "https://localhost:8080/",
          "height": 378
        }
      },
      "cell_type": "code",
      "source": [
        "sns.boxplot(x=\"rate\", y=\"Polarity\", data=df_total)"
      ],
      "execution_count": 22,
      "outputs": [
        {
          "output_type": "execute_result",
          "data": {
            "text/plain": [
              "<matplotlib.axes._subplots.AxesSubplot at 0x7efeedde4208>"
            ]
          },
          "metadata": {
            "tags": []
          },
          "execution_count": 22
        },
        {
          "output_type": "display_data",
          "data": {
            "image/png": "[encoded data removed]",
            "text/plain": [
              "<Figure size 576x396 with 1 Axes>"
            ]
          },
          "metadata": {
            "tags": []
          }
        }
      ]
    },
    {
      "metadata": {
        "id": "p_3El9NFwTEP",
        "colab_type": "code",
        "outputId": "9151535f-93f8-42c9-b5fd-82e556e2cb35",
        "colab": {
          "base_uri": "https://localhost:8080/",
          "height": 378
        }
      },
      "cell_type": "code",
      "source": [
        "sns.boxplot(x=\"rate\", y=\"Subjectivity\", data=df_total)"
      ],
      "execution_count": 23,
      "outputs": [
        {
          "output_type": "execute_result",
          "data": {
            "text/plain": [
              "<matplotlib.axes._subplots.AxesSubplot at 0x7efeede29a20>"
            ]
          },
          "metadata": {
            "tags": []
          },
          "execution_count": 23
        },
        {
          "output_type": "display_data",
          "data": {
            "image/png": "[encoded data removed]",
            "text/plain": [
              "<Figure size 576x396 with 1 Axes>"
            ]
          },
          "metadata": {
            "tags": []
          }
        }
      ]
    },
    {
      "metadata": {
        "id": "S0oPILt-Z-B2",
        "colab_type": "code",
        "colab": {
          "base_uri": "https://localhost:8080/",
          "height": 51
        },
        "outputId": "2b4debe8-c879-451b-a848-829b079d73ad"
      },
      "cell_type": "code",
      "source": [
        "import nltk\n",
        "nltk.download('vader_lexicon')"
      ],
      "execution_count": 25,
      "outputs": [
        {
          "output_type": "stream",
          "text": [
            "[nltk_data] Downloading package vader_lexicon to /root/nltk_data...\n"
          ],
          "name": "stdout"
        },
        {
          "output_type": "execute_result",
          "data": {
            "text/plain": [
              "True"
            ]
          },
          "metadata": {
            "tags": []
          },
          "execution_count": 25
        }
      ]
    },
    {
      "metadata": {
        "id": "ihfc4TZdxXej",
        "colab_type": "code",
        "outputId": "dfe5891a-437c-44f3-de76-fbf5051067eb",
        "colab": {
          "base_uri": "https://localhost:8080/",
          "height": 204
        }
      },
      "cell_type": "code",
      "source": [
        "sid = SentimentIntensityAnalyzer()\n",
        "\n",
        "\n",
        "listy = []\n",
        "\n",
        "for index, row in df_total.iterrows():\n",
        "  ss = sid.polarity_scores(row[\"review\"])\n",
        "  listy.append(ss)\n",
        "  \n",
        "se = pd.Series(listy)\n",
        "df_total['polarity1'] = se.values\n",
        "\n",
        "#display(data.head(10))\n",
        "df_total.head()"
      ],
      "execution_count": 30,
      "outputs": [
        {
          "output_type": "execute_result",
          "data": {
            "text/html": [
              "<div>\n",
              "<style scoped>\n",
              "    .dataframe tbody tr th:only-of-type {\n",
              "        vertical-align: middle;\n",
              "    }\n",
              "\n",
              "    .dataframe tbody tr th {\n",
              "        vertical-align: top;\n",
              "    }\n",
              "\n",
              "    .dataframe thead th {\n",
              "        text-align: right;\n",
              "    }\n",
              "</style>\n",
              "<table border=\"1\" class=\"dataframe\">\n",
              "  <thead>\n",
              "    <tr style=\"text-align: right;\">\n",
              "      <th></th>\n",
              "      <th>rate</th>\n",
              "      <th>review</th>\n",
              "      <th>Polarity</th>\n",
              "      <th>Subjectivity</th>\n",
              "      <th>polarity1</th>\n",
              "    </tr>\n",
              "  </thead>\n",
              "  <tbody>\n",
              "    <tr>\n",
              "      <th>0</th>\n",
              "      <td>4</td>\n",
              "      <td>I have been here at 630 am and the staff is al...</td>\n",
              "      <td>0.733333</td>\n",
              "      <td>0.966667</td>\n",
              "      <td>{'neg': 0.0, 'neu': 0.883, 'pos': 0.117, 'comp...</td>\n",
              "    </tr>\n",
              "    <tr>\n",
              "      <th>1</th>\n",
              "      <td>2</td>\n",
              "      <td>Horrible experience this morning ,app orders s...</td>\n",
              "      <td>-0.266667</td>\n",
              "      <td>0.700000</td>\n",
              "      <td>{'neg': 0.211, 'neu': 0.789, 'pos': 0.0, 'comp...</td>\n",
              "    </tr>\n",
              "    <tr>\n",
              "      <th>2</th>\n",
              "      <td>1</td>\n",
              "      <td>I freqent this location practically every work...</td>\n",
              "      <td>-0.450000</td>\n",
              "      <td>1.000000</td>\n",
              "      <td>{'neg': 0.146, 'neu': 0.854, 'pos': 0.0, 'comp...</td>\n",
              "    </tr>\n",
              "    <tr>\n",
              "      <th>3</th>\n",
              "      <td>3</td>\n",
              "      <td>I arrived extremely early in NY so I decided t...</td>\n",
              "      <td>0.100000</td>\n",
              "      <td>0.300000</td>\n",
              "      <td>{'neg': 0.0, 'neu': 1.0, 'pos': 0.0, 'compound...</td>\n",
              "    </tr>\n",
              "    <tr>\n",
              "      <th>4</th>\n",
              "      <td>3</td>\n",
              "      <td>When I was younger, I used to play a game with...</td>\n",
              "      <td>-0.133333</td>\n",
              "      <td>0.300000</td>\n",
              "      <td>{'neg': 0.0, 'neu': 0.807, 'pos': 0.193, 'comp...</td>\n",
              "    </tr>\n",
              "  </tbody>\n",
              "</table>\n",
              "</div>"
            ],
            "text/plain": [
              "   rate                                             review  Polarity  \\\n",
              "0     4  I have been here at 630 am and the staff is al...  0.733333   \n",
              "1     2  Horrible experience this morning ,app orders s... -0.266667   \n",
              "2     1  I freqent this location practically every work... -0.450000   \n",
              "3     3  I arrived extremely early in NY so I decided t...  0.100000   \n",
              "4     3  When I was younger, I used to play a game with... -0.133333   \n",
              "\n",
              "   Subjectivity                                          polarity1  \n",
              "0      0.966667  {'neg': 0.0, 'neu': 0.883, 'pos': 0.117, 'comp...  \n",
              "1      0.700000  {'neg': 0.211, 'neu': 0.789, 'pos': 0.0, 'comp...  \n",
              "2      1.000000  {'neg': 0.146, 'neu': 0.854, 'pos': 0.0, 'comp...  \n",
              "3      0.300000  {'neg': 0.0, 'neu': 1.0, 'pos': 0.0, 'compound...  \n",
              "4      0.300000  {'neg': 0.0, 'neu': 0.807, 'pos': 0.193, 'comp...  "
            ]
          },
          "metadata": {
            "tags": []
          },
          "execution_count": 30
        }
      ]
    },
    {
      "metadata": {
        "id": "J8MkBajJpNaY",
        "colab_type": "code",
        "colab": {
          "base_uri": "https://localhost:8080/",
          "height": 34
        },
        "outputId": "a38b9532-75a5-42c6-b823-f046f989fc78"
      },
      "cell_type": "code",
      "source": [
        "df_total['polarity1'][0]\n",
        "#df_total2 =  df_total['polarity1']\n",
        "#df_total2 = pd.DataFrame(df_total2)\n",
        "#df_total2.head()\n",
        "#your_df_from_dict=pd.DataFrame.from_dict(df_total['polarity1'],orient='index')\n",
        "#print(your_df_from_dict)"
      ],
      "execution_count": 46,
      "outputs": [
        {
          "output_type": "execute_result",
          "data": {
            "text/plain": [
              "{'compound': 0.4019, 'neg': 0.0, 'neu': 0.883, 'pos': 0.117}"
            ]
          },
          "metadata": {
            "tags": []
          },
          "execution_count": 46
        }
      ]
    },
    {
      "metadata": {
        "id": "XcbZuE5stz0N",
        "colab_type": "text"
      },
      "cell_type": "markdown",
      "source": [
        ""
      ]
    }
  ]
}