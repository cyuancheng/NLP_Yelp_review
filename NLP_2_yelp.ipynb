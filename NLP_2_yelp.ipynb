{
  "nbformat": 4,
  "nbformat_minor": 0,
  "metadata": {
    "colab": {
      "name": "NLP_2_yelp.ipynb",
      "version": "0.3.2",
      "provenance": [],
      "collapsed_sections": [],
      "toc_visible": true
    },
    "kernelspec": {
      "name": "python3",
      "display_name": "Python 3"
    }
  },
  "cells": [
    {
      "metadata": {
        "id": "2KTF4FByD2_V",
        "colab_type": "text"
      },
      "cell_type": "markdown",
      "source": [
        "##Natural Language Processing and Sentiment Analysis for Yelp##\n",
        "\n",
        "Explore Starbucks review in New York City (Rockefeller Center )"
      ]
    },
    {
      "metadata": {
        "id": "Bv_JR_8LHEZS",
        "colab_type": "code",
        "outputId": "82976c0c-ece8-4ed4-d0a4-09551a211224",
        "colab": {
          "base_uri": "https://localhost:8080/",
          "height": 71
        }
      },
      "cell_type": "code",
      "source": [
        "import pandas as pd\n",
        "import numpy as np\n",
        "import requests\n",
        "import spacy #use NLP functions\n",
        "from spacy import displacy\n",
        "from textblob import TextBlob\n",
        "import re\n",
        "import matplotlib as mpl\n",
        "import matplotlib.pyplot as plt\n",
        "import seaborn as sns\n",
        "\n",
        "from nltk.sentiment.vader import SentimentIntensityAnalyzer\n",
        "\n",
        "import folium\n",
        "import warnings\n",
        "warnings.filterwarnings(\"ignore\")"
      ],
      "execution_count": 1,
      "outputs": [
        {
          "output_type": "stream",
          "text": [
            "/usr/local/lib/python3.6/dist-packages/nltk/twitter/__init__.py:20: UserWarning: The twython library has not been installed. Some functionality from the twitter package will not be available.\n",
            "  warnings.warn(\"The twython library has not been installed. \"\n"
          ],
          "name": "stderr"
        }
      ]
    },
    {
      "metadata": {
        "id": "izJDv2CqCVF_",
        "colab_type": "code",
        "outputId": "31919001-1998-4ef8-8bb0-3219c9368bb5",
        "colab": {
          "base_uri": "https://localhost:8080/",
          "height": 122
        }
      },
      "cell_type": "code",
      "source": [
        "from google.colab import drive\n",
        "drive.mount('/content/gdrive', force_remount=True)\n",
        "root_dir = \"/content/gdrive/My Drive/\"\n",
        "base_dir = root_dir + 'School_of_AI/'"
      ],
      "execution_count": 2,
      "outputs": [
        {
          "output_type": "stream",
          "text": [
            "Go to this URL in a browser: https://accounts.google.com/o/oauth2/auth?client_id=947318989803-6bn6qk8qdgf4n4g3pfee6491hc0brc4i.apps.googleusercontent.com&redirect_uri=urn%3Aietf%3Awg%3Aoauth%3A2.0%3Aoob&scope=email%20https%3A%2F%2Fwww.googleapis.com%2Fauth%2Fdocs.test%20https%3A%2F%2Fwww.googleapis.com%2Fauth%2Fdrive%20https%3A%2F%2Fwww.googleapis.com%2Fauth%2Fdrive.photos.readonly%20https%3A%2F%2Fwww.googleapis.com%2Fauth%2Fpeopleapi.readonly&response_type=code\n",
            "\n",
            "Enter your authorization code:\n",
            "··········\n",
            "Mounted at /content/gdrive\n"
          ],
          "name": "stdout"
        }
      ]
    },
    {
      "metadata": {
        "id": "5yO9p5IfpbM_",
        "colab_type": "text"
      },
      "cell_type": "markdown",
      "source": [
        "###1. Data pre-process and cleaning###\n",
        "Get data from Yelp API\n",
        "(50 Starbucks stores near Rockefeller Center in NYC)"
      ]
    },
    {
      "metadata": {
        "id": "nu8hn15rl7MQ",
        "colab_type": "code",
        "colab": {}
      },
      "cell_type": "code",
      "source": [
        "#get yelp api (https://www.yelp.com/developers)\n",
        "\n",
        "client_id = 'fl6Gc_WOT5VLrae0o6fc7w' \n",
        "key = 'kArR8ttjf4JdZDtC27-InwcgepdkWrtTcSfaHKwf_JMtQY0LvXgfaG3lmUA3F2oCCp-KUa-W8tPuVXdm8Abwj6N0m0YJniJHVa61rXEFMLuAM11d2IrYSV5NEYGJXHYx'\n",
        "\n",
        "ENDPOINT = 'https://api.yelp.com/v3/businesses/search'\n",
        "\n",
        "HEADERS = {'Authorization':'bearer {}'.format(key)}\n",
        "\n",
        "PARAMETERS = {'term' : 'Starbucks',\n",
        "              'limit':50,\n",
        "             'radius':40000, # meter\n",
        "              'latitude': 40.758862,\n",
        "              'longitude':-73.978663  # Rockefeller Center\n",
        "              #'sort_by' :'review_count', \n",
        "             #'location':\"New York City\"\n",
        "             }\n",
        "\n",
        "response = requests.get(url = ENDPOINT, params = PARAMETERS, headers = HEADERS)"
      ],
      "execution_count": 0,
      "outputs": []
    },
    {
      "metadata": {
        "id": "VXu-5_E-pmI7",
        "colab_type": "text"
      },
      "cell_type": "markdown",
      "source": [
        "####Get the data from Yelp API \n",
        "look at the first business"
      ]
    },
    {
      "metadata": {
        "id": "SsQ8funaVwrd",
        "colab_type": "code",
        "outputId": "27263c79-9163-4021-cb53-52aa1b9d88f5",
        "colab": {
          "base_uri": "https://localhost:8080/",
          "height": 428
        }
      },
      "cell_type": "code",
      "source": [
        "data = response.json()\n",
        "data[\"businesses\"][0]"
      ],
      "execution_count": 4,
      "outputs": [
        {
          "output_type": "execute_result",
          "data": {
            "text/plain": [
              "{'alias': 'starbucks-new-york-273',\n",
              " 'categories': [{'alias': 'coffee', 'title': 'Coffee & Tea'}],\n",
              " 'coordinates': {'latitude': 40.758856, 'longitude': -73.978954},\n",
              " 'display_phone': '(212) 397-7950',\n",
              " 'distance': 24.51886376624723,\n",
              " 'id': '5WHpzFh-ZbTBY919PlZPTw',\n",
              " 'image_url': 'https://s3-media2.fl.yelpcdn.com/bphoto/6f8_MgbQJiloz02QX6Oqxw/o.jpg',\n",
              " 'is_closed': False,\n",
              " 'location': {'address1': '30 Rockefeller Plaza',\n",
              "  'address2': '',\n",
              "  'address3': '',\n",
              "  'city': 'New York',\n",
              "  'country': 'US',\n",
              "  'display_address': ['30 Rockefeller Plaza', 'New York, NY 10112'],\n",
              "  'state': 'NY',\n",
              "  'zip_code': '10112'},\n",
              " 'name': 'Starbucks',\n",
              " 'phone': '+12123977950',\n",
              " 'price': '$$',\n",
              " 'rating': 3.0,\n",
              " 'review_count': 72,\n",
              " 'transactions': [],\n",
              " 'url': 'https://www.yelp.com/biz/starbucks-new-york-273?adjust_creative=fl6Gc_WOT5VLrae0o6fc7w&utm_campaign=yelp_api_v3&utm_medium=api_v3_business_search&utm_source=fl6Gc_WOT5VLrae0o6fc7w'}"
            ]
          },
          "metadata": {
            "tags": []
          },
          "execution_count": 4
        }
      ]
    },
    {
      "metadata": {
        "id": "lS1G3_fjGuIl",
        "colab_type": "text"
      },
      "cell_type": "markdown",
      "source": [
        "Next, we can make a list of the businesses with their id, rating, price, and location"
      ]
    },
    {
      "metadata": {
        "id": "N1so2K95L3pl",
        "colab_type": "code",
        "colab": {}
      },
      "cell_type": "code",
      "source": [
        "# list of id in businesses with rating\n",
        "list_buss = []\n",
        "\n",
        "for item in data['businesses']:\n",
        "  try:\n",
        "    list_buss.append([item['id'], item['rating'], item['price'],item['review_count'],\\\n",
        "                      item['coordinates']['latitude'],item['coordinates']['longitude'] ])\n",
        "  except:\n",
        "    list_buss.append([item['id'], item['rating'], None, None, None, None])"
      ],
      "execution_count": 0,
      "outputs": []
    },
    {
      "metadata": {
        "id": "fN9qqsHWG9Ze",
        "colab_type": "code",
        "outputId": "2c9e2063-044b-4d3e-a69d-1034a9344f0e",
        "colab": {
          "base_uri": "https://localhost:8080/",
          "height": 204
        }
      },
      "cell_type": "code",
      "source": [
        "# convert to pandas format\n",
        "list_buss = pd.DataFrame(list_buss, columns = ['id','rating','price', 'count', 'latitude','longitude' ])\n",
        "list_buss.head()"
      ],
      "execution_count": 6,
      "outputs": [
        {
          "output_type": "execute_result",
          "data": {
            "text/html": [
              "<div>\n",
              "<style scoped>\n",
              "    .dataframe tbody tr th:only-of-type {\n",
              "        vertical-align: middle;\n",
              "    }\n",
              "\n",
              "    .dataframe tbody tr th {\n",
              "        vertical-align: top;\n",
              "    }\n",
              "\n",
              "    .dataframe thead th {\n",
              "        text-align: right;\n",
              "    }\n",
              "</style>\n",
              "<table border=\"1\" class=\"dataframe\">\n",
              "  <thead>\n",
              "    <tr style=\"text-align: right;\">\n",
              "      <th></th>\n",
              "      <th>id</th>\n",
              "      <th>rating</th>\n",
              "      <th>price</th>\n",
              "      <th>count</th>\n",
              "      <th>latitude</th>\n",
              "      <th>longitude</th>\n",
              "    </tr>\n",
              "  </thead>\n",
              "  <tbody>\n",
              "    <tr>\n",
              "      <th>0</th>\n",
              "      <td>5WHpzFh-ZbTBY919PlZPTw</td>\n",
              "      <td>3.0</td>\n",
              "      <td>$$</td>\n",
              "      <td>72.0</td>\n",
              "      <td>40.758856</td>\n",
              "      <td>-73.978954</td>\n",
              "    </tr>\n",
              "    <tr>\n",
              "      <th>1</th>\n",
              "      <td>AJR1lIu3RzgC8bgCk2tFog</td>\n",
              "      <td>2.5</td>\n",
              "      <td>$$</td>\n",
              "      <td>30.0</td>\n",
              "      <td>40.758859</td>\n",
              "      <td>-73.978956</td>\n",
              "    </tr>\n",
              "    <tr>\n",
              "      <th>2</th>\n",
              "      <td>t8_nm5-yk8ArhZjT3nHxRA</td>\n",
              "      <td>2.5</td>\n",
              "      <td>$$</td>\n",
              "      <td>16.0</td>\n",
              "      <td>40.757802</td>\n",
              "      <td>-73.979602</td>\n",
              "    </tr>\n",
              "    <tr>\n",
              "      <th>3</th>\n",
              "      <td>DTRLsTwx0534Iv-0xfXijA</td>\n",
              "      <td>2.5</td>\n",
              "      <td>$$</td>\n",
              "      <td>26.0</td>\n",
              "      <td>40.760364</td>\n",
              "      <td>-73.979084</td>\n",
              "    </tr>\n",
              "    <tr>\n",
              "      <th>4</th>\n",
              "      <td>4VwDtb5wOxfaXFOvTp7C6A</td>\n",
              "      <td>2.5</td>\n",
              "      <td>$$</td>\n",
              "      <td>22.0</td>\n",
              "      <td>40.760587</td>\n",
              "      <td>-73.978598</td>\n",
              "    </tr>\n",
              "  </tbody>\n",
              "</table>\n",
              "</div>"
            ],
            "text/plain": [
              "                       id  rating price  count   latitude  longitude\n",
              "0  5WHpzFh-ZbTBY919PlZPTw     3.0    $$   72.0  40.758856 -73.978954\n",
              "1  AJR1lIu3RzgC8bgCk2tFog     2.5    $$   30.0  40.758859 -73.978956\n",
              "2  t8_nm5-yk8ArhZjT3nHxRA     2.5    $$   16.0  40.757802 -73.979602\n",
              "3  DTRLsTwx0534Iv-0xfXijA     2.5    $$   26.0  40.760364 -73.979084\n",
              "4  4VwDtb5wOxfaXFOvTp7C6A     2.5    $$   22.0  40.760587 -73.978598"
            ]
          },
          "metadata": {
            "tags": []
          },
          "execution_count": 6
        }
      ]
    },
    {
      "metadata": {
        "id": "Fe3ytzcSrG23",
        "colab_type": "text"
      },
      "cell_type": "markdown",
      "source": [
        "show the business location on the map"
      ]
    },
    {
      "metadata": {
        "id": "Kh1QYa-JRYRT",
        "colab_type": "code",
        "outputId": "bb6513f7-eb23-417d-f904-30a9f0aa8658",
        "colab": {
          "base_uri": "https://localhost:8080/",
          "height": 34
        }
      },
      "cell_type": "code",
      "source": [
        "locations = list_buss[['latitude', 'longitude']].dropna()\n",
        "locationlist = locations.values.tolist()  # put all the locations in a list\n",
        "len(locationlist)"
      ],
      "execution_count": 7,
      "outputs": [
        {
          "output_type": "execute_result",
          "data": {
            "text/plain": [
              "47"
            ]
          },
          "metadata": {
            "tags": []
          },
          "execution_count": 7
        }
      ]
    },
    {
      "metadata": {
        "id": "U_P52HeW27wA",
        "colab_type": "code",
        "outputId": "b7d58e11-bd84-4104-ec42-e8d1ae146fba",
        "colab": {
          "base_uri": "https://localhost:8080/",
          "height": 492
        }
      },
      "cell_type": "code",
      "source": [
        "map = folium.Map(location=[40.758862, -73.978663], zoom_start=15)\n",
        "\n",
        "for point in range(0, len(locationlist)):\n",
        "    folium.Marker(locationlist[point], popup=list_buss['id'][point]).add_to(map)\n",
        "map"
      ],
      "execution_count": 8,
      "outputs": [
        {
          "output_type": "execute_result",
          "data": {
            "text/html": [
              "<div style=\"width:100%;\"><div style=\"position:relative;width:100%;height:0;padding-bottom:60%;\"><iframe src=\"data:text/html;charset=utf-8;base64,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\" style=\"position:absolute;width:100%;height:100%;left:0;top:0;border:none !important;\" allowfullscreen webkitallowfullscreen mozallowfullscreen></iframe></div></div>"
            ],
            "text/plain": [
              "<folium.folium.Map at 0x7f876129e080>"
            ]
          },
          "metadata": {
            "tags": []
          },
          "execution_count": 8
        }
      ]
    },
    {
      "metadata": {
        "id": "WCo6NeCEe0Ps",
        "colab_type": "text"
      },
      "cell_type": "markdown",
      "source": [
        "We set the 40000 meter radius on the Yelp API,  but the actural radius is much lower than the 40000 meter in the dense area due to high business density."
      ]
    },
    {
      "metadata": {
        "id": "zYrgnR07WN1R",
        "colab_type": "code",
        "outputId": "aa615a2b-6d51-437e-b8dc-c3471a4b0e3d",
        "colab": {
          "base_uri": "https://localhost:8080/",
          "height": 378
        }
      },
      "cell_type": "code",
      "source": [
        "# look at the rating\n",
        "sns.countplot(x=\"rating\", data=list_buss)"
      ],
      "execution_count": 9,
      "outputs": [
        {
          "output_type": "execute_result",
          "data": {
            "text/plain": [
              "<matplotlib.axes._subplots.AxesSubplot at 0x7f8761228a58>"
            ]
          },
          "metadata": {
            "tags": []
          },
          "execution_count": 9
        },
        {
          "output_type": "display_data",
          "data": {
            "image/png": "[encoded data removed]",
            "text/plain": [
              "<Figure size 576x396 with 1 Axes>"
            ]
          },
          "metadata": {
            "tags": []
          }
        }
      ]
    },
    {
      "metadata": {
        "id": "cUDYyt2kWqgM",
        "colab_type": "code",
        "outputId": "ac9c4077-dd96-498b-9ad7-a5e5d7d2b711",
        "colab": {
          "base_uri": "https://localhost:8080/",
          "height": 173
        }
      },
      "cell_type": "code",
      "source": [
        "# look at the price\n",
        "list_buss.groupby('price').count()"
      ],
      "execution_count": 10,
      "outputs": [
        {
          "output_type": "execute_result",
          "data": {
            "text/html": [
              "<div>\n",
              "<style scoped>\n",
              "    .dataframe tbody tr th:only-of-type {\n",
              "        vertical-align: middle;\n",
              "    }\n",
              "\n",
              "    .dataframe tbody tr th {\n",
              "        vertical-align: top;\n",
              "    }\n",
              "\n",
              "    .dataframe thead th {\n",
              "        text-align: right;\n",
              "    }\n",
              "</style>\n",
              "<table border=\"1\" class=\"dataframe\">\n",
              "  <thead>\n",
              "    <tr style=\"text-align: right;\">\n",
              "      <th></th>\n",
              "      <th>id</th>\n",
              "      <th>rating</th>\n",
              "      <th>count</th>\n",
              "      <th>latitude</th>\n",
              "      <th>longitude</th>\n",
              "    </tr>\n",
              "    <tr>\n",
              "      <th>price</th>\n",
              "      <th></th>\n",
              "      <th></th>\n",
              "      <th></th>\n",
              "      <th></th>\n",
              "      <th></th>\n",
              "    </tr>\n",
              "  </thead>\n",
              "  <tbody>\n",
              "    <tr>\n",
              "      <th>$</th>\n",
              "      <td>10</td>\n",
              "      <td>10</td>\n",
              "      <td>10</td>\n",
              "      <td>10</td>\n",
              "      <td>10</td>\n",
              "    </tr>\n",
              "    <tr>\n",
              "      <th>$$</th>\n",
              "      <td>35</td>\n",
              "      <td>35</td>\n",
              "      <td>35</td>\n",
              "      <td>35</td>\n",
              "      <td>35</td>\n",
              "    </tr>\n",
              "    <tr>\n",
              "      <th>$$$</th>\n",
              "      <td>2</td>\n",
              "      <td>2</td>\n",
              "      <td>2</td>\n",
              "      <td>2</td>\n",
              "      <td>2</td>\n",
              "    </tr>\n",
              "  </tbody>\n",
              "</table>\n",
              "</div>"
            ],
            "text/plain": [
              "       id  rating  count  latitude  longitude\n",
              "price                                        \n",
              "$      10      10     10        10         10\n",
              "$$     35      35     35        35         35\n",
              "$$$     2       2      2         2          2"
            ]
          },
          "metadata": {
            "tags": []
          },
          "execution_count": 10
        }
      ]
    },
    {
      "metadata": {
        "id": "WU_w9e12uBNZ",
        "colab_type": "text"
      },
      "cell_type": "markdown",
      "source": [
        "#### Get review data"
      ]
    },
    {
      "metadata": {
        "id": "RL-WZfPgF77r",
        "colab_type": "code",
        "outputId": "b2587d60-6916-4e66-ce52-e5ba90258aa7",
        "colab": {
          "base_uri": "https://localhost:8080/",
          "height": 34
        }
      },
      "cell_type": "code",
      "source": [
        "data[\"businesses\"][0]['id'] # parse id# for review "
      ],
      "execution_count": 11,
      "outputs": [
        {
          "output_type": "execute_result",
          "data": {
            "text/plain": [
              "'5WHpzFh-ZbTBY919PlZPTw'"
            ]
          },
          "metadata": {
            "tags": []
          },
          "execution_count": 11
        }
      ]
    },
    {
      "metadata": {
        "id": "EEcceQGJGKY8",
        "colab_type": "text"
      },
      "cell_type": "markdown",
      "source": [
        "read review of this businesses "
      ]
    },
    {
      "metadata": {
        "id": "ApylqAplW9E2",
        "colab_type": "code",
        "colab": {}
      },
      "cell_type": "code",
      "source": [
        "ENDPOINT_reviews = 'https://api.yelp.com/v3/businesses/5WHpzFh-ZbTBY919PlZPTw/reviews'   # id/reviews  \n",
        "response_reviews = requests.get(url = ENDPOINT_reviews, headers = HEADERS)"
      ],
      "execution_count": 0,
      "outputs": []
    },
    {
      "metadata": {
        "id": "EQV6veiyq9y6",
        "colab_type": "text"
      },
      "cell_type": "markdown",
      "source": [
        "Each business has three reviews. Read first review"
      ]
    },
    {
      "metadata": {
        "id": "xRIcNN_tYpQP",
        "colab_type": "code",
        "outputId": "af7c527f-a80a-40a3-c838-e7d43a9bab02",
        "colab": {
          "base_uri": "https://localhost:8080/",
          "height": 34
        }
      },
      "cell_type": "code",
      "source": [
        "len(response_reviews.json())"
      ],
      "execution_count": 13,
      "outputs": [
        {
          "output_type": "execute_result",
          "data": {
            "text/plain": [
              "3"
            ]
          },
          "metadata": {
            "tags": []
          },
          "execution_count": 13
        }
      ]
    },
    {
      "metadata": {
        "id": "AW42BuKqYd9L",
        "colab_type": "code",
        "outputId": "ba1e7db4-f479-4859-ac11-aeef6919980a",
        "colab": {
          "base_uri": "https://localhost:8080/",
          "height": 190
        }
      },
      "cell_type": "code",
      "source": [
        "response_reviews.json()['reviews'][0]#['user']['id']#['profile_url']"
      ],
      "execution_count": 14,
      "outputs": [
        {
          "output_type": "execute_result",
          "data": {
            "text/plain": [
              "{'id': '3gnJ62usiQh9VDdVPibDAw',\n",
              " 'rating': 4,\n",
              " 'text': 'I have been here at 630 am and the staff is always pleasant and well rested. Sometimes there are homeless people sitting in the seats but it may be a way of...',\n",
              " 'time_created': '2018-11-16 14:36:46',\n",
              " 'url': 'https://www.yelp.com/biz/starbucks-new-york-273?adjust_creative=fl6Gc_WOT5VLrae0o6fc7w&hrid=3gnJ62usiQh9VDdVPibDAw&utm_campaign=yelp_api_v3&utm_medium=api_v3_business_reviews&utm_source=fl6Gc_WOT5VLrae0o6fc7w',\n",
              " 'user': {'id': 'KVKIvMY5gL5scNgexlENiQ',\n",
              "  'image_url': 'https://s3-media3.fl.yelpcdn.com/photo/iMhwNj0d6t8ZZJ1sS2i6qg/o.jpg',\n",
              "  'name': 'Dionne H.',\n",
              "  'profile_url': 'https://www.yelp.com/user_details?userid=KVKIvMY5gL5scNgexlENiQ'}}"
            ]
          },
          "metadata": {
            "tags": []
          },
          "execution_count": 14
        }
      ]
    },
    {
      "metadata": {
        "id": "83KRCC8JiPEK",
        "colab_type": "text"
      },
      "cell_type": "markdown",
      "source": [
        "Since each buisness only has three reviews, the rating are not representive the business statistically. So I decide to pull out the rating that directly link to the review."
      ]
    },
    {
      "metadata": {
        "id": "sVEsUmxPk6iT",
        "colab_type": "code",
        "colab": {}
      },
      "cell_type": "code",
      "source": [
        "# collect review\n",
        "List = []\n",
        "\n",
        "for i in range(50):\n",
        "  \n",
        "  try:\n",
        "    a = data[\"businesses\"][i]['id']\n",
        "    ENDPOINT_reviews = 'https://api.yelp.com/v3/businesses/'+ a +'/reviews'\n",
        "    response_reviews = requests.get(url = ENDPOINT_reviews, headers = HEADERS)\n",
        "    \n",
        "    for ii in range(3):\n",
        "      b = response_reviews.json()['reviews'][ii]['user']['id']\n",
        "      c = response_reviews.json()['reviews'][ii]['text']\n",
        "      d = response_reviews.json()['reviews'][ii]['rating']\n",
        "      e = response_reviews.json()['reviews'][ii]['time_created']\n",
        "      \n",
        "      List.append([a,b,c,d,e])\n",
        "      \n",
        "  except:\n",
        "    List.append([a, None, None, None, None])\n",
        "    #pass"
      ],
      "execution_count": 0,
      "outputs": []
    },
    {
      "metadata": {
        "id": "q04GXVW9nuPJ",
        "colab_type": "code",
        "colab": {
          "base_uri": "https://localhost:8080/",
          "height": 289
        },
        "outputId": "bf0b05b3-3950-48e8-8d91-16674fbe08d4"
      },
      "cell_type": "code",
      "source": [
        "df_total = pd.DataFrame(List, columns = [\"buss_id\", \"user_id\", \"review\", \"rating\", \"time_created\"])\n",
        "df_total.head()"
      ],
      "execution_count": 16,
      "outputs": [
        {
          "output_type": "execute_result",
          "data": {
            "text/html": [
              "<div>\n",
              "<style scoped>\n",
              "    .dataframe tbody tr th:only-of-type {\n",
              "        vertical-align: middle;\n",
              "    }\n",
              "\n",
              "    .dataframe tbody tr th {\n",
              "        vertical-align: top;\n",
              "    }\n",
              "\n",
              "    .dataframe thead th {\n",
              "        text-align: right;\n",
              "    }\n",
              "</style>\n",
              "<table border=\"1\" class=\"dataframe\">\n",
              "  <thead>\n",
              "    <tr style=\"text-align: right;\">\n",
              "      <th></th>\n",
              "      <th>buss_id</th>\n",
              "      <th>user_id</th>\n",
              "      <th>review</th>\n",
              "      <th>rating</th>\n",
              "      <th>time_created</th>\n",
              "    </tr>\n",
              "  </thead>\n",
              "  <tbody>\n",
              "    <tr>\n",
              "      <th>0</th>\n",
              "      <td>5WHpzFh-ZbTBY919PlZPTw</td>\n",
              "      <td>KVKIvMY5gL5scNgexlENiQ</td>\n",
              "      <td>I have been here at 630 am and the staff is al...</td>\n",
              "      <td>4.0</td>\n",
              "      <td>2018-11-16 14:36:46</td>\n",
              "    </tr>\n",
              "    <tr>\n",
              "      <th>1</th>\n",
              "      <td>5WHpzFh-ZbTBY919PlZPTw</td>\n",
              "      <td>Xx4lFM_a8mMsfnzJpsN4Zw</td>\n",
              "      <td>Horrible experience this morning ,app orders s...</td>\n",
              "      <td>2.0</td>\n",
              "      <td>2018-12-14 06:50:12</td>\n",
              "    </tr>\n",
              "    <tr>\n",
              "      <th>2</th>\n",
              "      <td>5WHpzFh-ZbTBY919PlZPTw</td>\n",
              "      <td>vmWuNyhSeqeKsLvRtOnYQQ</td>\n",
              "      <td>Can't say I'm a \"regular\" at Starbucks, but I ...</td>\n",
              "      <td>3.0</td>\n",
              "      <td>2018-09-24 20:34:28</td>\n",
              "    </tr>\n",
              "    <tr>\n",
              "      <th>3</th>\n",
              "      <td>AJR1lIu3RzgC8bgCk2tFog</td>\n",
              "      <td>L261dYh3HYs28hnYs23yIQ</td>\n",
              "      <td>I arrived extremely early in NY so I decided t...</td>\n",
              "      <td>3.0</td>\n",
              "      <td>2018-03-02 05:34:23</td>\n",
              "    </tr>\n",
              "    <tr>\n",
              "      <th>4</th>\n",
              "      <td>AJR1lIu3RzgC8bgCk2tFog</td>\n",
              "      <td>HQ1kFlb7JO8nr-LZwbfEdA</td>\n",
              "      <td>When I was younger, I used to play a game with...</td>\n",
              "      <td>3.0</td>\n",
              "      <td>2018-01-21 17:55:14</td>\n",
              "    </tr>\n",
              "  </tbody>\n",
              "</table>\n",
              "</div>"
            ],
            "text/plain": [
              "                  buss_id                 user_id  \\\n",
              "0  5WHpzFh-ZbTBY919PlZPTw  KVKIvMY5gL5scNgexlENiQ   \n",
              "1  5WHpzFh-ZbTBY919PlZPTw  Xx4lFM_a8mMsfnzJpsN4Zw   \n",
              "2  5WHpzFh-ZbTBY919PlZPTw  vmWuNyhSeqeKsLvRtOnYQQ   \n",
              "3  AJR1lIu3RzgC8bgCk2tFog  L261dYh3HYs28hnYs23yIQ   \n",
              "4  AJR1lIu3RzgC8bgCk2tFog  HQ1kFlb7JO8nr-LZwbfEdA   \n",
              "\n",
              "                                              review  rating  \\\n",
              "0  I have been here at 630 am and the staff is al...     4.0   \n",
              "1  Horrible experience this morning ,app orders s...     2.0   \n",
              "2  Can't say I'm a \"regular\" at Starbucks, but I ...     3.0   \n",
              "3  I arrived extremely early in NY so I decided t...     3.0   \n",
              "4  When I was younger, I used to play a game with...     3.0   \n",
              "\n",
              "          time_created  \n",
              "0  2018-11-16 14:36:46  \n",
              "1  2018-12-14 06:50:12  \n",
              "2  2018-09-24 20:34:28  \n",
              "3  2018-03-02 05:34:23  \n",
              "4  2018-01-21 17:55:14  "
            ]
          },
          "metadata": {
            "tags": []
          },
          "execution_count": 16
        }
      ]
    },
    {
      "metadata": {
        "id": "eJ6SUBEIpBlb",
        "colab_type": "code",
        "colab": {}
      },
      "cell_type": "code",
      "source": [
        "df_total = df_total[~df_total['review'].isnull()] # remove missing data"
      ],
      "execution_count": 0,
      "outputs": []
    },
    {
      "metadata": {
        "id": "k7pASarApvAu",
        "colab_type": "code",
        "colab": {
          "base_uri": "https://localhost:8080/",
          "height": 54
        },
        "outputId": "ac8c1bf2-6778-4922-9fbf-947ff3661987"
      },
      "cell_type": "code",
      "source": [
        "df_total['review'][20]"
      ],
      "execution_count": 18,
      "outputs": [
        {
          "output_type": "execute_result",
          "data": {
            "text/plain": [
              "'Yeah, the low ratings are accurate. The wait staff was rude--I got a nasty look and an admonition to wait at the end of the bar for my food, and ten minutes...'"
            ]
          },
          "metadata": {
            "tags": []
          },
          "execution_count": 18
        }
      ]
    },
    {
      "metadata": {
        "id": "5bvdu7SXAs10",
        "colab_type": "code",
        "colab": {
          "base_uri": "https://localhost:8080/",
          "height": 320
        },
        "outputId": "f0f49cc7-8a72-4551-aa5d-a6703eecba9b"
      },
      "cell_type": "code",
      "source": [
        "df_total['time_created'] = pd.to_datetime(df_total['time_created'])\n",
        "df_total.index = df_total['time_created']\n",
        "df_total = df_total.drop(columns=['time_created'])\n",
        "df_total.head()"
      ],
      "execution_count": 22,
      "outputs": [
        {
          "output_type": "execute_result",
          "data": {
            "text/html": [
              "<div>\n",
              "<style scoped>\n",
              "    .dataframe tbody tr th:only-of-type {\n",
              "        vertical-align: middle;\n",
              "    }\n",
              "\n",
              "    .dataframe tbody tr th {\n",
              "        vertical-align: top;\n",
              "    }\n",
              "\n",
              "    .dataframe thead th {\n",
              "        text-align: right;\n",
              "    }\n",
              "</style>\n",
              "<table border=\"1\" class=\"dataframe\">\n",
              "  <thead>\n",
              "    <tr style=\"text-align: right;\">\n",
              "      <th></th>\n",
              "      <th>buss_id</th>\n",
              "      <th>user_id</th>\n",
              "      <th>review</th>\n",
              "      <th>rating</th>\n",
              "    </tr>\n",
              "    <tr>\n",
              "      <th>time_created</th>\n",
              "      <th></th>\n",
              "      <th></th>\n",
              "      <th></th>\n",
              "      <th></th>\n",
              "    </tr>\n",
              "  </thead>\n",
              "  <tbody>\n",
              "    <tr>\n",
              "      <th>2018-11-16 14:36:46</th>\n",
              "      <td>5WHpzFh-ZbTBY919PlZPTw</td>\n",
              "      <td>KVKIvMY5gL5scNgexlENiQ</td>\n",
              "      <td>I have been here at 630 am and the staff is al...</td>\n",
              "      <td>4.0</td>\n",
              "    </tr>\n",
              "    <tr>\n",
              "      <th>2018-12-14 06:50:12</th>\n",
              "      <td>5WHpzFh-ZbTBY919PlZPTw</td>\n",
              "      <td>Xx4lFM_a8mMsfnzJpsN4Zw</td>\n",
              "      <td>Horrible experience this morning ,app orders s...</td>\n",
              "      <td>2.0</td>\n",
              "    </tr>\n",
              "    <tr>\n",
              "      <th>2018-09-24 20:34:28</th>\n",
              "      <td>5WHpzFh-ZbTBY919PlZPTw</td>\n",
              "      <td>vmWuNyhSeqeKsLvRtOnYQQ</td>\n",
              "      <td>Can't say I'm a \"regular\" at Starbucks, but I ...</td>\n",
              "      <td>3.0</td>\n",
              "    </tr>\n",
              "    <tr>\n",
              "      <th>2018-03-02 05:34:23</th>\n",
              "      <td>AJR1lIu3RzgC8bgCk2tFog</td>\n",
              "      <td>L261dYh3HYs28hnYs23yIQ</td>\n",
              "      <td>I arrived extremely early in NY so I decided t...</td>\n",
              "      <td>3.0</td>\n",
              "    </tr>\n",
              "    <tr>\n",
              "      <th>2018-01-21 17:55:14</th>\n",
              "      <td>AJR1lIu3RzgC8bgCk2tFog</td>\n",
              "      <td>HQ1kFlb7JO8nr-LZwbfEdA</td>\n",
              "      <td>When I was younger, I used to play a game with...</td>\n",
              "      <td>3.0</td>\n",
              "    </tr>\n",
              "  </tbody>\n",
              "</table>\n",
              "</div>"
            ],
            "text/plain": [
              "                                    buss_id                 user_id  \\\n",
              "time_created                                                          \n",
              "2018-11-16 14:36:46  5WHpzFh-ZbTBY919PlZPTw  KVKIvMY5gL5scNgexlENiQ   \n",
              "2018-12-14 06:50:12  5WHpzFh-ZbTBY919PlZPTw  Xx4lFM_a8mMsfnzJpsN4Zw   \n",
              "2018-09-24 20:34:28  5WHpzFh-ZbTBY919PlZPTw  vmWuNyhSeqeKsLvRtOnYQQ   \n",
              "2018-03-02 05:34:23  AJR1lIu3RzgC8bgCk2tFog  L261dYh3HYs28hnYs23yIQ   \n",
              "2018-01-21 17:55:14  AJR1lIu3RzgC8bgCk2tFog  HQ1kFlb7JO8nr-LZwbfEdA   \n",
              "\n",
              "                                                                review  rating  \n",
              "time_created                                                                    \n",
              "2018-11-16 14:36:46  I have been here at 630 am and the staff is al...     4.0  \n",
              "2018-12-14 06:50:12  Horrible experience this morning ,app orders s...     2.0  \n",
              "2018-09-24 20:34:28  Can't say I'm a \"regular\" at Starbucks, but I ...     3.0  \n",
              "2018-03-02 05:34:23  I arrived extremely early in NY so I decided t...     3.0  \n",
              "2018-01-21 17:55:14  When I was younger, I used to play a game with...     3.0  "
            ]
          },
          "metadata": {
            "tags": []
          },
          "execution_count": 22
        }
      ]
    },
    {
      "metadata": {
        "id": "VbayXN5LLAtV",
        "colab_type": "code",
        "colab": {
          "base_uri": "https://localhost:8080/",
          "height": 312
        },
        "outputId": "b5e91848-d31b-471d-c875-87df255737ad"
      },
      "cell_type": "code",
      "source": [
        "ax = df_total.plot(y=[\"rating\"], figsize=(15,4))\n",
        "ax.set_xlim(pd.Timestamp('2016-01-01'), pd.Timestamp('2019-5-01'))\n"
      ],
      "execution_count": 33,
      "outputs": [
        {
          "output_type": "execute_result",
          "data": {
            "text/plain": [
              "(735964.0, 737180.0)"
            ]
          },
          "metadata": {
            "tags": []
          },
          "execution_count": 33
        },
        {
          "output_type": "display_data",
          "data": {
            "image/png": "[encoded data removed]",
            "text/plain": [
              "<Figure size 1080x288 with 1 Axes>"
            ]
          },
          "metadata": {
            "tags": []
          }
        }
      ]
    },
    {
      "metadata": {
        "id": "tUpcmaNzhmXU",
        "colab_type": "code",
        "colab": {}
      },
      "cell_type": "code",
      "source": [
        "#df_total['review_len'] = df_total['review'].astype(str).apply(len)\n",
        "df_total['word_count'] = df_total['review'].apply(lambda x: len(str(x).split()))\n",
        "df_total['Polarity'] = [TextBlob(x).sentiment[0] for x in df_total['review'] ]\n",
        "df_total['Subjectivity'] = [TextBlob(x).sentiment[1] for x in df_total['review'] ]"
      ],
      "execution_count": 0,
      "outputs": []
    },
    {
      "metadata": {
        "id": "6QGxOym83dBr",
        "colab_type": "code",
        "colab": {
          "base_uri": "https://localhost:8080/",
          "height": 663
        },
        "outputId": "c3779a76-9b9e-46f8-f754-543e4541c954"
      },
      "cell_type": "code",
      "source": [
        "df_total.head()"
      ],
      "execution_count": 35,
      "outputs": [
        {
          "output_type": "execute_result",
          "data": {
            "text/html": [
              "<div>\n",
              "<style scoped>\n",
              "    .dataframe tbody tr th:only-of-type {\n",
              "        vertical-align: middle;\n",
              "    }\n",
              "\n",
              "    .dataframe tbody tr th {\n",
              "        vertical-align: top;\n",
              "    }\n",
              "\n",
              "    .dataframe thead th {\n",
              "        text-align: right;\n",
              "    }\n",
              "</style>\n",
              "<table border=\"1\" class=\"dataframe\">\n",
              "  <thead>\n",
              "    <tr style=\"text-align: right;\">\n",
              "      <th></th>\n",
              "      <th>buss_id</th>\n",
              "      <th>user_id</th>\n",
              "      <th>review</th>\n",
              "      <th>rating</th>\n",
              "      <th>word_count</th>\n",
              "      <th>Polarity</th>\n",
              "      <th>Subjectivity</th>\n",
              "    </tr>\n",
              "    <tr>\n",
              "      <th>time_created</th>\n",
              "      <th></th>\n",
              "      <th></th>\n",
              "      <th></th>\n",
              "      <th></th>\n",
              "      <th></th>\n",
              "      <th></th>\n",
              "      <th></th>\n",
              "    </tr>\n",
              "  </thead>\n",
              "  <tbody>\n",
              "    <tr>\n",
              "      <th>2018-11-16 14:36:46</th>\n",
              "      <td>5WHpzFh-ZbTBY919PlZPTw</td>\n",
              "      <td>KVKIvMY5gL5scNgexlENiQ</td>\n",
              "      <td>I have been here at 630 am and the staff is al...</td>\n",
              "      <td>4.0</td>\n",
              "      <td>32</td>\n",
              "      <td>0.733333</td>\n",
              "      <td>0.966667</td>\n",
              "    </tr>\n",
              "    <tr>\n",
              "      <th>2018-12-14 06:50:12</th>\n",
              "      <td>5WHpzFh-ZbTBY919PlZPTw</td>\n",
              "      <td>Xx4lFM_a8mMsfnzJpsN4Zw</td>\n",
              "      <td>Horrible experience this morning ,app orders s...</td>\n",
              "      <td>2.0</td>\n",
              "      <td>28</td>\n",
              "      <td>-0.266667</td>\n",
              "      <td>0.700000</td>\n",
              "    </tr>\n",
              "    <tr>\n",
              "      <th>2018-09-24 20:34:28</th>\n",
              "      <td>5WHpzFh-ZbTBY919PlZPTw</td>\n",
              "      <td>vmWuNyhSeqeKsLvRtOnYQQ</td>\n",
              "      <td>Can't say I'm a \"regular\" at Starbucks, but I ...</td>\n",
              "      <td>3.0</td>\n",
              "      <td>27</td>\n",
              "      <td>0.250000</td>\n",
              "      <td>0.538462</td>\n",
              "    </tr>\n",
              "    <tr>\n",
              "      <th>2018-03-02 05:34:23</th>\n",
              "      <td>AJR1lIu3RzgC8bgCk2tFog</td>\n",
              "      <td>L261dYh3HYs28hnYs23yIQ</td>\n",
              "      <td>I arrived extremely early in NY so I decided t...</td>\n",
              "      <td>3.0</td>\n",
              "      <td>29</td>\n",
              "      <td>0.100000</td>\n",
              "      <td>0.300000</td>\n",
              "    </tr>\n",
              "    <tr>\n",
              "      <th>2018-01-21 17:55:14</th>\n",
              "      <td>AJR1lIu3RzgC8bgCk2tFog</td>\n",
              "      <td>HQ1kFlb7JO8nr-LZwbfEdA</td>\n",
              "      <td>When I was younger, I used to play a game with...</td>\n",
              "      <td>3.0</td>\n",
              "      <td>28</td>\n",
              "      <td>-0.133333</td>\n",
              "      <td>0.300000</td>\n",
              "    </tr>\n",
              "  </tbody>\n",
              "</table>\n",
              "</div>"
            ],
            "text/plain": [
              "                                    buss_id                 user_id  \\\n",
              "time_created                                                          \n",
              "2018-11-16 14:36:46  5WHpzFh-ZbTBY919PlZPTw  KVKIvMY5gL5scNgexlENiQ   \n",
              "2018-12-14 06:50:12  5WHpzFh-ZbTBY919PlZPTw  Xx4lFM_a8mMsfnzJpsN4Zw   \n",
              "2018-09-24 20:34:28  5WHpzFh-ZbTBY919PlZPTw  vmWuNyhSeqeKsLvRtOnYQQ   \n",
              "2018-03-02 05:34:23  AJR1lIu3RzgC8bgCk2tFog  L261dYh3HYs28hnYs23yIQ   \n",
              "2018-01-21 17:55:14  AJR1lIu3RzgC8bgCk2tFog  HQ1kFlb7JO8nr-LZwbfEdA   \n",
              "\n",
              "                                                                review  \\\n",
              "time_created                                                             \n",
              "2018-11-16 14:36:46  I have been here at 630 am and the staff is al...   \n",
              "2018-12-14 06:50:12  Horrible experience this morning ,app orders s...   \n",
              "2018-09-24 20:34:28  Can't say I'm a \"regular\" at Starbucks, but I ...   \n",
              "2018-03-02 05:34:23  I arrived extremely early in NY so I decided t...   \n",
              "2018-01-21 17:55:14  When I was younger, I used to play a game with...   \n",
              "\n",
              "                     rating  word_count  Polarity  Subjectivity  \n",
              "time_created                                                     \n",
              "2018-11-16 14:36:46     4.0          32  0.733333      0.966667  \n",
              "2018-12-14 06:50:12     2.0          28 -0.266667      0.700000  \n",
              "2018-09-24 20:34:28     3.0          27  0.250000      0.538462  \n",
              "2018-03-02 05:34:23     3.0          29  0.100000      0.300000  \n",
              "2018-01-21 17:55:14     3.0          28 -0.133333      0.300000  "
            ]
          },
          "metadata": {
            "tags": []
          },
          "execution_count": 35
        }
      ]
    },
    {
      "metadata": {
        "id": "Y9ck0HI4C-bU",
        "colab_type": "code",
        "colab": {}
      },
      "cell_type": "code",
      "source": [
        "#save file to Google Drive\n",
        "df_total.to_csv(base_dir + 'export_review_rate.csv', index = None, header=True) #Don't forget to add '.csv' at the end of the path\n"
      ],
      "execution_count": 0,
      "outputs": []
    },
    {
      "metadata": {
        "id": "mzfUOZl6vzOP",
        "colab_type": "code",
        "colab": {
          "base_uri": "https://localhost:8080/",
          "height": 390
        },
        "outputId": "0586b840-2ca3-487b-ecd6-75b098408087"
      },
      "cell_type": "code",
      "source": [
        "df_total.groupby(['user_id']).count().sort_values([\"buss_id\"],ascending=False).head(10)"
      ],
      "execution_count": 38,
      "outputs": [
        {
          "output_type": "execute_result",
          "data": {
            "text/html": [
              "<div>\n",
              "<style scoped>\n",
              "    .dataframe tbody tr th:only-of-type {\n",
              "        vertical-align: middle;\n",
              "    }\n",
              "\n",
              "    .dataframe tbody tr th {\n",
              "        vertical-align: top;\n",
              "    }\n",
              "\n",
              "    .dataframe thead th {\n",
              "        text-align: right;\n",
              "    }\n",
              "</style>\n",
              "<table border=\"1\" class=\"dataframe\">\n",
              "  <thead>\n",
              "    <tr style=\"text-align: right;\">\n",
              "      <th></th>\n",
              "      <th>buss_id</th>\n",
              "      <th>review</th>\n",
              "      <th>rating</th>\n",
              "      <th>word_count</th>\n",
              "      <th>Polarity</th>\n",
              "      <th>Subjectivity</th>\n",
              "    </tr>\n",
              "    <tr>\n",
              "      <th>user_id</th>\n",
              "      <th></th>\n",
              "      <th></th>\n",
              "      <th></th>\n",
              "      <th></th>\n",
              "      <th></th>\n",
              "      <th></th>\n",
              "    </tr>\n",
              "  </thead>\n",
              "  <tbody>\n",
              "    <tr>\n",
              "      <th>Hi10sGSZNxQH3NLyWSZ1oA</th>\n",
              "      <td>3</td>\n",
              "      <td>3</td>\n",
              "      <td>3</td>\n",
              "      <td>3</td>\n",
              "      <td>3</td>\n",
              "      <td>3</td>\n",
              "    </tr>\n",
              "    <tr>\n",
              "      <th>3aOeVccmezfYCRBT9tP7Ng</th>\n",
              "      <td>2</td>\n",
              "      <td>2</td>\n",
              "      <td>2</td>\n",
              "      <td>2</td>\n",
              "      <td>2</td>\n",
              "      <td>2</td>\n",
              "    </tr>\n",
              "    <tr>\n",
              "      <th>38dPWgd8DRM-I5x4Qr6Fsw</th>\n",
              "      <td>2</td>\n",
              "      <td>2</td>\n",
              "      <td>2</td>\n",
              "      <td>2</td>\n",
              "      <td>2</td>\n",
              "      <td>2</td>\n",
              "    </tr>\n",
              "    <tr>\n",
              "      <th>KVKIvMY5gL5scNgexlENiQ</th>\n",
              "      <td>2</td>\n",
              "      <td>2</td>\n",
              "      <td>2</td>\n",
              "      <td>2</td>\n",
              "      <td>2</td>\n",
              "      <td>2</td>\n",
              "    </tr>\n",
              "    <tr>\n",
              "      <th>ES9iOw3bysnt7kd_kzUMXg</th>\n",
              "      <td>2</td>\n",
              "      <td>2</td>\n",
              "      <td>2</td>\n",
              "      <td>2</td>\n",
              "      <td>2</td>\n",
              "      <td>2</td>\n",
              "    </tr>\n",
              "    <tr>\n",
              "      <th>tfLA8WgftF0skR7skllD0w</th>\n",
              "      <td>2</td>\n",
              "      <td>2</td>\n",
              "      <td>2</td>\n",
              "      <td>2</td>\n",
              "      <td>2</td>\n",
              "      <td>2</td>\n",
              "    </tr>\n",
              "    <tr>\n",
              "      <th>hrvigsJKZQo-u17_0NOvaw</th>\n",
              "      <td>2</td>\n",
              "      <td>2</td>\n",
              "      <td>2</td>\n",
              "      <td>2</td>\n",
              "      <td>2</td>\n",
              "      <td>2</td>\n",
              "    </tr>\n",
              "    <tr>\n",
              "      <th>6pbNMgTnSYrtPHDN07IXwA</th>\n",
              "      <td>2</td>\n",
              "      <td>2</td>\n",
              "      <td>2</td>\n",
              "      <td>2</td>\n",
              "      <td>2</td>\n",
              "      <td>2</td>\n",
              "    </tr>\n",
              "    <tr>\n",
              "      <th>wRq5ZTtytlyRRr0jAllklA</th>\n",
              "      <td>2</td>\n",
              "      <td>2</td>\n",
              "      <td>2</td>\n",
              "      <td>2</td>\n",
              "      <td>2</td>\n",
              "      <td>2</td>\n",
              "    </tr>\n",
              "    <tr>\n",
              "      <th>fHIn0GZWRvg8l5qbWRbN_g</th>\n",
              "      <td>2</td>\n",
              "      <td>2</td>\n",
              "      <td>2</td>\n",
              "      <td>2</td>\n",
              "      <td>2</td>\n",
              "      <td>2</td>\n",
              "    </tr>\n",
              "  </tbody>\n",
              "</table>\n",
              "</div>"
            ],
            "text/plain": [
              "                        buss_id  review  rating  word_count  Polarity  \\\n",
              "user_id                                                                 \n",
              "Hi10sGSZNxQH3NLyWSZ1oA        3       3       3           3         3   \n",
              "3aOeVccmezfYCRBT9tP7Ng        2       2       2           2         2   \n",
              "38dPWgd8DRM-I5x4Qr6Fsw        2       2       2           2         2   \n",
              "KVKIvMY5gL5scNgexlENiQ        2       2       2           2         2   \n",
              "ES9iOw3bysnt7kd_kzUMXg        2       2       2           2         2   \n",
              "tfLA8WgftF0skR7skllD0w        2       2       2           2         2   \n",
              "hrvigsJKZQo-u17_0NOvaw        2       2       2           2         2   \n",
              "6pbNMgTnSYrtPHDN07IXwA        2       2       2           2         2   \n",
              "wRq5ZTtytlyRRr0jAllklA        2       2       2           2         2   \n",
              "fHIn0GZWRvg8l5qbWRbN_g        2       2       2           2         2   \n",
              "\n",
              "                        Subjectivity  \n",
              "user_id                               \n",
              "Hi10sGSZNxQH3NLyWSZ1oA             3  \n",
              "3aOeVccmezfYCRBT9tP7Ng             2  \n",
              "38dPWgd8DRM-I5x4Qr6Fsw             2  \n",
              "KVKIvMY5gL5scNgexlENiQ             2  \n",
              "ES9iOw3bysnt7kd_kzUMXg             2  \n",
              "tfLA8WgftF0skR7skllD0w             2  \n",
              "hrvigsJKZQo-u17_0NOvaw             2  \n",
              "6pbNMgTnSYrtPHDN07IXwA             2  \n",
              "wRq5ZTtytlyRRr0jAllklA             2  \n",
              "fHIn0GZWRvg8l5qbWRbN_g             2  "
            ]
          },
          "metadata": {
            "tags": []
          },
          "execution_count": 38
        }
      ]
    },
    {
      "metadata": {
        "id": "WoRQay5Vxji1",
        "colab_type": "code",
        "colab": {
          "base_uri": "https://localhost:8080/",
          "height": 431
        },
        "outputId": "20ea87fa-8d2c-4893-8eb9-a9a5051bb0a5"
      },
      "cell_type": "code",
      "source": [
        "df_total[df_total['user_id']==\"Hi10sGSZNxQH3NLyWSZ1oA\"]"
      ],
      "execution_count": 44,
      "outputs": [
        {
          "output_type": "execute_result",
          "data": {
            "text/html": [
              "<div>\n",
              "<style scoped>\n",
              "    .dataframe tbody tr th:only-of-type {\n",
              "        vertical-align: middle;\n",
              "    }\n",
              "\n",
              "    .dataframe tbody tr th {\n",
              "        vertical-align: top;\n",
              "    }\n",
              "\n",
              "    .dataframe thead th {\n",
              "        text-align: right;\n",
              "    }\n",
              "</style>\n",
              "<table border=\"1\" class=\"dataframe\">\n",
              "  <thead>\n",
              "    <tr style=\"text-align: right;\">\n",
              "      <th></th>\n",
              "      <th>buss_id</th>\n",
              "      <th>user_id</th>\n",
              "      <th>review</th>\n",
              "      <th>rating</th>\n",
              "      <th>word_count</th>\n",
              "      <th>Polarity</th>\n",
              "      <th>Subjectivity</th>\n",
              "    </tr>\n",
              "    <tr>\n",
              "      <th>time_created</th>\n",
              "      <th></th>\n",
              "      <th></th>\n",
              "      <th></th>\n",
              "      <th></th>\n",
              "      <th></th>\n",
              "      <th></th>\n",
              "      <th></th>\n",
              "    </tr>\n",
              "  </thead>\n",
              "  <tbody>\n",
              "    <tr>\n",
              "      <th>2019-03-14 02:07:21</th>\n",
              "      <td>8NHISsd0gKhyPNJoqhEqnA</td>\n",
              "      <td>Hi10sGSZNxQH3NLyWSZ1oA</td>\n",
              "      <td>Don't sneer at me for reviewing Starbucks. Oth...</td>\n",
              "      <td>3.0</td>\n",
              "      <td>27</td>\n",
              "      <td>0.0</td>\n",
              "      <td>0.5</td>\n",
              "    </tr>\n",
              "    <tr>\n",
              "      <th>2019-03-14 02:20:39</th>\n",
              "      <td>lSncUPNBY-qs_QOtEOpkVA</td>\n",
              "      <td>Hi10sGSZNxQH3NLyWSZ1oA</td>\n",
              "      <td>I brought my dog in here. He didn't like it. H...</td>\n",
              "      <td>2.0</td>\n",
              "      <td>30</td>\n",
              "      <td>0.2</td>\n",
              "      <td>0.2</td>\n",
              "    </tr>\n",
              "    <tr>\n",
              "      <th>2019-03-15 03:02:14</th>\n",
              "      <td>UgjaEX9ssUmISd63QdLiyw</td>\n",
              "      <td>Hi10sGSZNxQH3NLyWSZ1oA</td>\n",
              "      <td>I got scared that I was about to pee myself, s...</td>\n",
              "      <td>3.0</td>\n",
              "      <td>30</td>\n",
              "      <td>0.2</td>\n",
              "      <td>0.3</td>\n",
              "    </tr>\n",
              "  </tbody>\n",
              "</table>\n",
              "</div>"
            ],
            "text/plain": [
              "                                    buss_id                 user_id  \\\n",
              "time_created                                                          \n",
              "2019-03-14 02:07:21  8NHISsd0gKhyPNJoqhEqnA  Hi10sGSZNxQH3NLyWSZ1oA   \n",
              "2019-03-14 02:20:39  lSncUPNBY-qs_QOtEOpkVA  Hi10sGSZNxQH3NLyWSZ1oA   \n",
              "2019-03-15 03:02:14  UgjaEX9ssUmISd63QdLiyw  Hi10sGSZNxQH3NLyWSZ1oA   \n",
              "\n",
              "                                                                review  \\\n",
              "time_created                                                             \n",
              "2019-03-14 02:07:21  Don't sneer at me for reviewing Starbucks. Oth...   \n",
              "2019-03-14 02:20:39  I brought my dog in here. He didn't like it. H...   \n",
              "2019-03-15 03:02:14  I got scared that I was about to pee myself, s...   \n",
              "\n",
              "                     rating  word_count  Polarity  Subjectivity  \n",
              "time_created                                                     \n",
              "2019-03-14 02:07:21     3.0          27       0.0           0.5  \n",
              "2019-03-14 02:20:39     2.0          30       0.2           0.2  \n",
              "2019-03-15 03:02:14     3.0          30       0.2           0.3  "
            ]
          },
          "metadata": {
            "tags": []
          },
          "execution_count": 44
        }
      ]
    },
    {
      "metadata": {
        "id": "T1PtmZstufve",
        "colab_type": "code",
        "outputId": "9c74442b-dd65-41f9-9519-c088f70cc3b0",
        "colab": {
          "base_uri": "https://localhost:8080/",
          "height": 378
        }
      },
      "cell_type": "code",
      "source": [
        "sns.countplot(x=\"rating\", data=df_total)"
      ],
      "execution_count": 39,
      "outputs": [
        {
          "output_type": "execute_result",
          "data": {
            "text/plain": [
              "<matplotlib.axes._subplots.AxesSubplot at 0x7f875d1276d8>"
            ]
          },
          "metadata": {
            "tags": []
          },
          "execution_count": 39
        },
        {
          "output_type": "display_data",
          "data": {
            "image/png": "[encoded data removed]",
            "text/plain": [
              "<Figure size 576x396 with 1 Axes>"
            ]
          },
          "metadata": {
            "tags": []
          }
        }
      ]
    },
    {
      "metadata": {
        "id": "SrCEhWGrfjBK",
        "colab_type": "code",
        "colab": {
          "base_uri": "https://localhost:8080/",
          "height": 364
        },
        "outputId": "3695bd06-e826-41d5-e988-bcefc5ec0488"
      },
      "cell_type": "code",
      "source": [
        "sns.distplot(df_total[\"word_count\"].values,bins=10,kde=False) "
      ],
      "execution_count": 40,
      "outputs": [
        {
          "output_type": "execute_result",
          "data": {
            "text/plain": [
              "<matplotlib.axes._subplots.AxesSubplot at 0x7f875d331ef0>"
            ]
          },
          "metadata": {
            "tags": []
          },
          "execution_count": 40
        },
        {
          "output_type": "display_data",
          "data": {
            "image/png": "[encoded data removed]",
            "text/plain": [
              "<Figure size 576x396 with 1 Axes>"
            ]
          },
          "metadata": {
            "tags": []
          }
        }
      ]
    },
    {
      "metadata": {
        "id": "h3A27VWxfNgw",
        "colab_type": "code",
        "colab": {
          "base_uri": "https://localhost:8080/",
          "height": 364
        },
        "outputId": "46388ce7-489d-433b-956e-85520fdd676e"
      },
      "cell_type": "code",
      "source": [
        "sns.distplot(df_total[\"Polarity\"].values,bins=10,kde=False)"
      ],
      "execution_count": 41,
      "outputs": [
        {
          "output_type": "execute_result",
          "data": {
            "text/plain": [
              "<matplotlib.axes._subplots.AxesSubplot at 0x7f875d47cc88>"
            ]
          },
          "metadata": {
            "tags": []
          },
          "execution_count": 41
        },
        {
          "output_type": "display_data",
          "data": {
            "image/png": "[encoded data removed]",
            "text/plain": [
              "<Figure size 576x396 with 1 Axes>"
            ]
          },
          "metadata": {
            "tags": []
          }
        }
      ]
    },
    {
      "metadata": {
        "id": "knPxbRZnwBvo",
        "colab_type": "text"
      },
      "cell_type": "markdown",
      "source": [
        "Howis the review rate correlated to the polarity?"
      ]
    },
    {
      "metadata": {
        "id": "XDPuYl05vMRz",
        "colab_type": "code",
        "outputId": "6a51aa06-0e38-41b6-bbcb-143a9189cbb6",
        "colab": {
          "base_uri": "https://localhost:8080/",
          "height": 378
        }
      },
      "cell_type": "code",
      "source": [
        "sns.boxplot(x=\"rating\", y=\"Polarity\", data=df_total)"
      ],
      "execution_count": 42,
      "outputs": [
        {
          "output_type": "execute_result",
          "data": {
            "text/plain": [
              "<matplotlib.axes._subplots.AxesSubplot at 0x7f875d3b1eb8>"
            ]
          },
          "metadata": {
            "tags": []
          },
          "execution_count": 42
        },
        {
          "output_type": "display_data",
          "data": {
            "image/png": "[encoded data removed]",
            "text/plain": [
              "<Figure size 576x396 with 1 Axes>"
            ]
          },
          "metadata": {
            "tags": []
          }
        }
      ]
    },
    {
      "metadata": {
        "id": "p_3El9NFwTEP",
        "colab_type": "code",
        "outputId": "d2633410-260d-4866-8c00-eed5734b2caa",
        "colab": {
          "base_uri": "https://localhost:8080/",
          "height": 378
        }
      },
      "cell_type": "code",
      "source": [
        "sns.boxplot(x=\"rating\", y=\"Subjectivity\", data=df_total)"
      ],
      "execution_count": 43,
      "outputs": [
        {
          "output_type": "execute_result",
          "data": {
            "text/plain": [
              "<matplotlib.axes._subplots.AxesSubplot at 0x7f875d1589e8>"
            ]
          },
          "metadata": {
            "tags": []
          },
          "execution_count": 43
        },
        {
          "output_type": "display_data",
          "data": {
            "image/png": "[encoded data removed]",
            "text/plain": [
              "<Figure size 576x396 with 1 Axes>"
            ]
          },
          "metadata": {
            "tags": []
          }
        }
      ]
    },
    {
      "metadata": {
        "id": "Dv17fxVBhnv0",
        "colab_type": "text"
      },
      "cell_type": "markdown",
      "source": [
        "Topic Modeling with LSA"
      ]
    },
    {
      "metadata": {
        "id": "S0oPILt-Z-B2",
        "colab_type": "code",
        "colab": {}
      },
      "cell_type": "code",
      "source": [
        "from sklearn.feature_extraction.text import CountVectorizer\n",
        "from sklearn.feature_extraction.text import TfidfVectorizer\n",
        "from sklearn.decomposition import TruncatedSVD\n",
        "from sklearn.decomposition import LatentDirichletAllocation\n",
        "from sklearn.manifold import TSNE\n",
        "from collections import Counter"
      ],
      "execution_count": 0,
      "outputs": []
    },
    {
      "metadata": {
        "id": "ihfc4TZdxXej",
        "colab_type": "code",
        "colab": {}
      },
      "cell_type": "code",
      "source": [
        "reindexed_data = df_total['review']\n",
        "tfidf_vectorizer = TfidfVectorizer(stop_words='english', use_idf=True, smooth_idf=True)\n",
        "reindexed_data = reindexed_data.values\n",
        "document_term_matrix = tfidf_vectorizer.fit_transform(reindexed_data)"
      ],
      "execution_count": 0,
      "outputs": []
    },
    {
      "metadata": {
        "id": "J8MkBajJpNaY",
        "colab_type": "code",
        "colab": {}
      },
      "cell_type": "code",
      "source": [
        "n_topics = 6\n",
        "lsa_model = TruncatedSVD(n_components=n_topics)\n",
        "lsa_topic_matrix = lsa_model.fit_transform(document_term_matrix)"
      ],
      "execution_count": 0,
      "outputs": []
    },
    {
      "metadata": {
        "id": "eZdIRs55ie_e",
        "colab_type": "code",
        "colab": {}
      },
      "cell_type": "code",
      "source": [
        "def get_keys(topic_matrix):\n",
        "    '''\n",
        "    returns an integer list of predicted topic \n",
        "    categories for a given topic matrix\n",
        "    '''\n",
        "    keys = topic_matrix.argmax(axis=1).tolist()\n",
        "    return keys\n",
        "\n",
        "def keys_to_counts(keys):\n",
        "    '''\n",
        "    returns a tuple of topic categories and their \n",
        "    accompanying magnitudes for a given list of keys\n",
        "    '''\n",
        "    count_pairs = Counter(keys).items()\n",
        "    categories = [pair[0] for pair in count_pairs]\n",
        "    counts = [pair[1] for pair in count_pairs]\n",
        "    return (categories, counts)"
      ],
      "execution_count": 0,
      "outputs": []
    },
    {
      "metadata": {
        "id": "LfCZaLk6ih8-",
        "colab_type": "code",
        "colab": {}
      },
      "cell_type": "code",
      "source": [
        "lsa_keys = get_keys(lsa_topic_matrix)\n",
        "lsa_categories, lsa_counts = keys_to_counts(lsa_keys)"
      ],
      "execution_count": 0,
      "outputs": []
    },
    {
      "metadata": {
        "id": "cDw74cmQirdn",
        "colab_type": "code",
        "colab": {}
      },
      "cell_type": "code",
      "source": [
        "def get_top_n_words(n, keys, document_term_matrix, tfidf_vectorizer):\n",
        "    '''\n",
        "    returns a list of n_topic strings, where each string contains the n most common \n",
        "    words in a predicted category, in order\n",
        "    '''\n",
        "    top_word_indices = []\n",
        "    for topic in range(n_topics):\n",
        "        temp_vector_sum = 0\n",
        "        for i in range(len(keys)):\n",
        "            if keys[i] == topic:\n",
        "                temp_vector_sum += document_term_matrix[i]\n",
        "        temp_vector_sum = temp_vector_sum.toarray()\n",
        "        top_n_word_indices = np.flip(np.argsort(temp_vector_sum)[0][-n:],0)\n",
        "        top_word_indices.append(top_n_word_indices)   \n",
        "    top_words = []\n",
        "    for topic in top_word_indices:\n",
        "        topic_words = []\n",
        "        for index in topic:\n",
        "            temp_word_vector = np.zeros((1,document_term_matrix.shape[1]))\n",
        "            temp_word_vector[:,index] = 1\n",
        "            the_word = tfidf_vectorizer.inverse_transform(temp_word_vector)[0][0]\n",
        "            topic_words.append(the_word.encode('ascii').decode('utf-8'))\n",
        "        top_words.append(\" \".join(topic_words))         \n",
        "    return top_words"
      ],
      "execution_count": 0,
      "outputs": []
    },
    {
      "metadata": {
        "id": "N_kRWd1VisU5",
        "colab_type": "code",
        "colab": {
          "base_uri": "https://localhost:8080/",
          "height": 119
        },
        "outputId": "2dfb0f77-ff0d-49cc-a2cb-89022febee7a"
      },
      "cell_type": "code",
      "source": [
        "top_n_words_lsa = get_top_n_words(3, lsa_keys, document_term_matrix, tfidf_vectorizer)\n",
        "\n",
        "for i in range(len(top_n_words_lsa)):\n",
        "    print(\"Topic {}: \".format(i+1), top_n_words_lsa[i])"
      ],
      "execution_count": 50,
      "outputs": [
        {
          "output_type": "stream",
          "text": [
            "Topic 1:  starbucks service location\n",
            "Topic 2:  order minutes got\n",
            "Topic 3:  location busy seating\n",
            "Topic 4:  staff morning small\n",
            "Topic 5:  times line located\n",
            "Topic 6:  best like makes\n"
          ],
          "name": "stdout"
        }
      ]
    },
    {
      "metadata": {
        "id": "y957AvxljXaE",
        "colab_type": "code",
        "colab": {
          "base_uri": "https://localhost:8080/",
          "height": 529
        },
        "outputId": "f119d570-a99e-4b34-cabf-7db36fdc522a"
      },
      "cell_type": "code",
      "source": [
        "top_3_words = get_top_n_words(3, lsa_keys, document_term_matrix, tfidf_vectorizer)\n",
        "labels = ['Topic {}: \\n'.format(i) + top_3_words[i] for i in lsa_categories]\n",
        "\n",
        "fig, ax = plt.subplots(figsize=(16,8))\n",
        "ax.bar(lsa_categories, lsa_counts);\n",
        "ax.set_xticks(lsa_categories);\n",
        "ax.set_xticklabels(labels);\n",
        "ax.set_ylabel('Number of review text');\n",
        "ax.set_title('LSA topic counts');\n",
        "plt.show();"
      ],
      "execution_count": 51,
      "outputs": [
        {
          "output_type": "display_data",
          "data": {
            "image/png": "[encoded data removed]",
            "text/plain": [
              "<Figure size 1152x576 with 1 Axes>"
            ]
          },
          "metadata": {
            "tags": []
          }
        }
      ]
    },
    {
      "metadata": {
        "id": "XcbZuE5stz0N",
        "colab_type": "text"
      },
      "cell_type": "markdown",
      "source": [
        ""
      ]
    }
  ]
}