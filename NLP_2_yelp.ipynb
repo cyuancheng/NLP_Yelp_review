{
  "nbformat": 4,
  "nbformat_minor": 0,
  "metadata": {
    "colab": {
      "name": "NLP_2_yelp.ipynb",
      "version": "0.3.2",
      "provenance": [],
      "collapsed_sections": [],
      "toc_visible": true,
      "include_colab_link": true
    },
    "kernelspec": {
      "name": "python3",
      "display_name": "Python 3"
    }
  },
  "cells": [
    {
      "cell_type": "markdown",
      "metadata": {
        "id": "view-in-github",
        "colab_type": "text"
      },
      "source": [
        "<a href=\"https://colab.research.google.com/github/cyuancheng/NLP_Yelp_review/blob/master/NLP_2_yelp.ipynb\" target=\"_parent\"><img src=\"https://colab.research.google.com/assets/colab-badge.svg\" alt=\"Open In Colab\"/></a>"
      ]
    },
    {
      "metadata": {
        "id": "2KTF4FByD2_V",
        "colab_type": "text"
      },
      "cell_type": "markdown",
      "source": [
        "# Natural Language Processing and Sentiment Analysis for Yelp\n",
        "\n",
        "\n",
        "# Introduction\n",
        "\n",
        "In this notebook, we will explore Starbucks review data in NYC to establish a recommendation system using Natural Language Processing and Setimental Analysis. \n",
        "\n",
        "## Problem Statement\n",
        "\n",
        "Given a set of eight medical characteristics about a patients, predict whether or not the patient has diabetes. To accomplish this task, we will use a set of real-world data collected on females 21 years of age and over collected by a national health institution in the United States.  \n",
        "\n",
        "## Approach\n",
        "\n",
        "Explore Starbucks review in New York City (Rockefeller Center )"
      ]
    },
    {
      "metadata": {
        "id": "KyRAf-If9s-o",
        "colab_type": "text"
      },
      "cell_type": "markdown",
      "source": [
        "### Library Imports"
      ]
    },
    {
      "metadata": {
        "id": "Bv_JR_8LHEZS",
        "colab_type": "code",
        "outputId": "1bf484cf-5a41-4edb-b03e-a3397ab0e638",
        "colab": {
          "base_uri": "https://localhost:8080/",
          "height": 71
        }
      },
      "cell_type": "code",
      "source": [
        "import pandas as pd\n",
        "import numpy as np\n",
        "import requests\n",
        "import spacy #use NLP functions\n",
        "from spacy import displacy\n",
        "from textblob import TextBlob\n",
        "import re\n",
        "import matplotlib as mpl\n",
        "import matplotlib.pyplot as plt\n",
        "import seaborn as sns\n",
        "\n",
        "from nltk.sentiment.vader import SentimentIntensityAnalyzer\n",
        "\n",
        "import folium\n",
        "import warnings\n",
        "warnings.filterwarnings(\"ignore\")"
      ],
      "execution_count": 1,
      "outputs": [
        {
          "output_type": "stream",
          "text": [
            "/usr/local/lib/python3.6/dist-packages/nltk/twitter/__init__.py:20: UserWarning: The twython library has not been installed. Some functionality from the twitter package will not be available.\n",
            "  warnings.warn(\"The twython library has not been installed. \"\n"
          ],
          "name": "stderr"
        }
      ]
    },
    {
      "metadata": {
        "id": "izJDv2CqCVF_",
        "colab_type": "code",
        "outputId": "b3a8b9f5-0458-4184-db1f-fc049cc99403",
        "colab": {
          "base_uri": "https://localhost:8080/",
          "height": 122
        }
      },
      "cell_type": "code",
      "source": [
        "from google.colab import drive\n",
        "drive.mount('/content/gdrive', force_remount=True)\n",
        "root_dir = \"/content/gdrive/My Drive/\"\n",
        "base_dir = root_dir + 'School_of_AI/'"
      ],
      "execution_count": 2,
      "outputs": [
        {
          "output_type": "stream",
          "text": [
            "Go to this URL in a browser: https://accounts.google.com/o/oauth2/auth?client_id=947318989803-6bn6qk8qdgf4n4g3pfee6491hc0brc4i.apps.googleusercontent.com&redirect_uri=urn%3Aietf%3Awg%3Aoauth%3A2.0%3Aoob&scope=email%20https%3A%2F%2Fwww.googleapis.com%2Fauth%2Fdocs.test%20https%3A%2F%2Fwww.googleapis.com%2Fauth%2Fdrive%20https%3A%2F%2Fwww.googleapis.com%2Fauth%2Fdrive.photos.readonly%20https%3A%2F%2Fwww.googleapis.com%2Fauth%2Fpeopleapi.readonly&response_type=code\n",
            "\n",
            "Enter your authorization code:\n",
            "··········\n",
            "Mounted at /content/gdrive\n"
          ],
          "name": "stdout"
        }
      ]
    },
    {
      "metadata": {
        "id": "5yO9p5IfpbM_",
        "colab_type": "text"
      },
      "cell_type": "markdown",
      "source": [
        "###1. Data pre-process and cleaning###\n",
        "Get data from Yelp API\n",
        "(50 Starbucks stores near Rockefeller Center in NYC)"
      ]
    },
    {
      "metadata": {
        "id": "nu8hn15rl7MQ",
        "colab_type": "code",
        "colab": {}
      },
      "cell_type": "code",
      "source": [
        "#get yelp api (https://www.yelp.com/developers)\n",
        "\n",
        "client_id = 'fl6Gc_WOT5VLrae0o6fc7w' \n",
        "key = 'kArR8ttjf4JdZDtC27-InwcgepdkWrtTcSfaHKwf_JMtQY0LvXgfaG3lmUA3F2oCCp-KUa-W8tPuVXdm8Abwj6N0m0YJniJHVa61rXEFMLuAM11d2IrYSV5NEYGJXHYx'\n",
        "\n",
        "ENDPOINT = 'https://api.yelp.com/v3/businesses/search'\n",
        "\n",
        "HEADERS = {'Authorization':'bearer {}'.format(key)}\n",
        "\n",
        "PARAMETERS = {'term' : 'Starbucks',\n",
        "              'limit':50,\n",
        "             'radius':40000, # meter\n",
        "              'latitude': 40.758862,\n",
        "              'longitude':-73.978663  # Rockefeller Center\n",
        "              #'sort_by' :'review_count', \n",
        "             #'location':\"New York City\"\n",
        "             }\n",
        "\n",
        "response = requests.get(url = ENDPOINT, params = PARAMETERS, headers = HEADERS)"
      ],
      "execution_count": 0,
      "outputs": []
    },
    {
      "metadata": {
        "id": "VXu-5_E-pmI7",
        "colab_type": "text"
      },
      "cell_type": "markdown",
      "source": [
        "####Get the data from Yelp API \n",
        "look at the first business"
      ]
    },
    {
      "metadata": {
        "id": "SsQ8funaVwrd",
        "colab_type": "code",
        "outputId": "f7f2eb93-46d1-46f0-925d-0ce49f68f308",
        "colab": {
          "base_uri": "https://localhost:8080/",
          "height": 428
        }
      },
      "cell_type": "code",
      "source": [
        "data = response.json()\n",
        "data[\"businesses\"][0]"
      ],
      "execution_count": 4,
      "outputs": [
        {
          "output_type": "execute_result",
          "data": {
            "text/plain": [
              "{'alias': 'starbucks-new-york-273',\n",
              " 'categories': [{'alias': 'coffee', 'title': 'Coffee & Tea'}],\n",
              " 'coordinates': {'latitude': 40.758856, 'longitude': -73.978954},\n",
              " 'display_phone': '(212) 397-7950',\n",
              " 'distance': 24.51886376624723,\n",
              " 'id': '5WHpzFh-ZbTBY919PlZPTw',\n",
              " 'image_url': 'https://s3-media2.fl.yelpcdn.com/bphoto/6f8_MgbQJiloz02QX6Oqxw/o.jpg',\n",
              " 'is_closed': False,\n",
              " 'location': {'address1': '30 Rockefeller Plaza',\n",
              "  'address2': '',\n",
              "  'address3': '',\n",
              "  'city': 'New York',\n",
              "  'country': 'US',\n",
              "  'display_address': ['30 Rockefeller Plaza', 'New York, NY 10112'],\n",
              "  'state': 'NY',\n",
              "  'zip_code': '10112'},\n",
              " 'name': 'Starbucks',\n",
              " 'phone': '+12123977950',\n",
              " 'price': '$$',\n",
              " 'rating': 3.0,\n",
              " 'review_count': 73,\n",
              " 'transactions': [],\n",
              " 'url': 'https://www.yelp.com/biz/starbucks-new-york-273?adjust_creative=fl6Gc_WOT5VLrae0o6fc7w&utm_campaign=yelp_api_v3&utm_medium=api_v3_business_search&utm_source=fl6Gc_WOT5VLrae0o6fc7w'}"
            ]
          },
          "metadata": {
            "tags": []
          },
          "execution_count": 4
        }
      ]
    },
    {
      "metadata": {
        "id": "lS1G3_fjGuIl",
        "colab_type": "text"
      },
      "cell_type": "markdown",
      "source": [
        "Next, we can make a list of the businesses with their id, rating, price, and location"
      ]
    },
    {
      "metadata": {
        "id": "N1so2K95L3pl",
        "colab_type": "code",
        "colab": {}
      },
      "cell_type": "code",
      "source": [
        "# list of id in businesses with rating\n",
        "list_buss = []\n",
        "\n",
        "for item in data['businesses']:\n",
        "  try:\n",
        "    list_buss.append([item['id'], item['rating'], item['price'],item['review_count'],\\\n",
        "                      item['coordinates']['latitude'],item['coordinates']['longitude'] ])\n",
        "  except:\n",
        "    list_buss.append([item['id'], item['rating'], None, None, None, None])"
      ],
      "execution_count": 0,
      "outputs": []
    },
    {
      "metadata": {
        "id": "fN9qqsHWG9Ze",
        "colab_type": "code",
        "outputId": "5e85dfb5-9eba-4a5a-f54d-2060de12181f",
        "colab": {
          "base_uri": "https://localhost:8080/",
          "height": 204
        }
      },
      "cell_type": "code",
      "source": [
        "# convert to pandas format\n",
        "list_buss = pd.DataFrame(list_buss, columns = ['id','rating','price', 'count', 'latitude','longitude' ])\n",
        "list_buss.head()"
      ],
      "execution_count": 7,
      "outputs": [
        {
          "output_type": "execute_result",
          "data": {
            "text/html": [
              "<div>\n",
              "<style scoped>\n",
              "    .dataframe tbody tr th:only-of-type {\n",
              "        vertical-align: middle;\n",
              "    }\n",
              "\n",
              "    .dataframe tbody tr th {\n",
              "        vertical-align: top;\n",
              "    }\n",
              "\n",
              "    .dataframe thead th {\n",
              "        text-align: right;\n",
              "    }\n",
              "</style>\n",
              "<table border=\"1\" class=\"dataframe\">\n",
              "  <thead>\n",
              "    <tr style=\"text-align: right;\">\n",
              "      <th></th>\n",
              "      <th>id</th>\n",
              "      <th>rating</th>\n",
              "      <th>price</th>\n",
              "      <th>count</th>\n",
              "      <th>latitude</th>\n",
              "      <th>longitude</th>\n",
              "    </tr>\n",
              "  </thead>\n",
              "  <tbody>\n",
              "    <tr>\n",
              "      <th>0</th>\n",
              "      <td>5WHpzFh-ZbTBY919PlZPTw</td>\n",
              "      <td>3.0</td>\n",
              "      <td>$$</td>\n",
              "      <td>73.0</td>\n",
              "      <td>40.758856</td>\n",
              "      <td>-73.978954</td>\n",
              "    </tr>\n",
              "    <tr>\n",
              "      <th>1</th>\n",
              "      <td>AJR1lIu3RzgC8bgCk2tFog</td>\n",
              "      <td>2.5</td>\n",
              "      <td>$$</td>\n",
              "      <td>30.0</td>\n",
              "      <td>40.758859</td>\n",
              "      <td>-73.978956</td>\n",
              "    </tr>\n",
              "    <tr>\n",
              "      <th>2</th>\n",
              "      <td>t8_nm5-yk8ArhZjT3nHxRA</td>\n",
              "      <td>2.5</td>\n",
              "      <td>$$</td>\n",
              "      <td>17.0</td>\n",
              "      <td>40.757802</td>\n",
              "      <td>-73.979602</td>\n",
              "    </tr>\n",
              "    <tr>\n",
              "      <th>3</th>\n",
              "      <td>DTRLsTwx0534Iv-0xfXijA</td>\n",
              "      <td>2.5</td>\n",
              "      <td>$$</td>\n",
              "      <td>26.0</td>\n",
              "      <td>40.760364</td>\n",
              "      <td>-73.979084</td>\n",
              "    </tr>\n",
              "    <tr>\n",
              "      <th>4</th>\n",
              "      <td>4VwDtb5wOxfaXFOvTp7C6A</td>\n",
              "      <td>2.0</td>\n",
              "      <td>$$</td>\n",
              "      <td>21.0</td>\n",
              "      <td>40.760587</td>\n",
              "      <td>-73.978598</td>\n",
              "    </tr>\n",
              "  </tbody>\n",
              "</table>\n",
              "</div>"
            ],
            "text/plain": [
              "                       id  rating price  count   latitude  longitude\n",
              "0  5WHpzFh-ZbTBY919PlZPTw     3.0    $$   73.0  40.758856 -73.978954\n",
              "1  AJR1lIu3RzgC8bgCk2tFog     2.5    $$   30.0  40.758859 -73.978956\n",
              "2  t8_nm5-yk8ArhZjT3nHxRA     2.5    $$   17.0  40.757802 -73.979602\n",
              "3  DTRLsTwx0534Iv-0xfXijA     2.5    $$   26.0  40.760364 -73.979084\n",
              "4  4VwDtb5wOxfaXFOvTp7C6A     2.0    $$   21.0  40.760587 -73.978598"
            ]
          },
          "metadata": {
            "tags": []
          },
          "execution_count": 7
        }
      ]
    },
    {
      "metadata": {
        "id": "Fe3ytzcSrG23",
        "colab_type": "text"
      },
      "cell_type": "markdown",
      "source": [
        "show the business location on the map"
      ]
    },
    {
      "metadata": {
        "id": "Kh1QYa-JRYRT",
        "colab_type": "code",
        "outputId": "3786415f-b483-4578-b8af-3cd777b9b3c6",
        "colab": {
          "base_uri": "https://localhost:8080/",
          "height": 34
        }
      },
      "cell_type": "code",
      "source": [
        "locations = list_buss[['latitude', 'longitude']].dropna()\n",
        "locationlist = locations.values.tolist()  # put all the locations in a list\n",
        "len(locationlist)"
      ],
      "execution_count": 8,
      "outputs": [
        {
          "output_type": "execute_result",
          "data": {
            "text/plain": [
              "47"
            ]
          },
          "metadata": {
            "tags": []
          },
          "execution_count": 8
        }
      ]
    },
    {
      "metadata": {
        "id": "U_P52HeW27wA",
        "colab_type": "code",
        "outputId": "7d880906-487c-4d77-d421-df835c78e7e6",
        "colab": {
          "base_uri": "https://localhost:8080/",
          "height": 492
        }
      },
      "cell_type": "code",
      "source": [
        "map = folium.Map(location=[40.758862, -73.978663], zoom_start=15)\n",
        "\n",
        "for point in range(0, len(locationlist)):\n",
        "    folium.Marker(locationlist[point], popup=list_buss['id'][point]).add_to(map)\n",
        "map"
      ],
      "execution_count": 9,
      "outputs": [
        {
          "output_type": "execute_result",
          "data": {
            "text/html": [
              "<div style=\"width:100%;\"><div style=\"position:relative;width:100%;height:0;padding-bottom:60%;\"><iframe src=\"data:text/html;charset=utf-8;base64,PCFET0NUWVBFIGh0bWw+CjxoZWFkPiAgICAKICAgIDxtZXRhIGh0dHAtZXF1aXY9ImNvbnRlbnQtdHlwZSIgY29udGVudD0idGV4dC9odG1sOyBjaGFyc2V0PVVURi04IiAvPgogICAgPHNjcmlwdD5MX1BSRUZFUl9DQU5WQVM9ZmFsc2U7IExfTk9fVE9VQ0g9ZmFsc2U7IExfRElTQUJMRV8zRD1mYWxzZTs8L3NjcmlwdD4KICAgIDxzY3JpcHQgc3JjPSJodHRwczovL2Nkbi5qc2RlbGl2ci5uZXQvbnBtL2xlYWZsZXRAMS40LjAvZGlzdC9sZWFmbGV0LmpzIj48L3NjcmlwdD4KICAgIDxzY3JpcHQgc3JjPSJodHRwczovL2NvZGUuanF1ZXJ5LmNvbS9qcXVlcnktMS4xMi40Lm1pbi5qcyI+PC9zY3JpcHQ+CiAgICA8c2NyaXB0IHNyYz0iaHR0cHM6Ly9tYXhjZG4uYm9vdHN0cmFwY2RuLmNvbS9ib290c3RyYXAvMy4yLjAvanMvYm9vdHN0cmFwLm1pbi5qcyI+PC9zY3JpcHQ+CiAgICA8c2NyaXB0IHNyYz0iaHR0cHM6Ly9jZG5qcy5jbG91ZGZsYXJlLmNvbS9hamF4L2xpYnMvTGVhZmxldC5hd2Vzb21lLW1hcmtlcnMvMi4wLjIvbGVhZmxldC5hd2Vzb21lLW1hcmtlcnMuanMiPjwvc2NyaXB0PgogICAgPGxpbmsgcmVsPSJzdHlsZXNoZWV0IiBocmVmPSJodHRwczovL2Nkbi5qc2RlbGl2ci5uZXQvbnBtL2xlYWZsZXRAMS40LjAvZGlzdC9sZWFmbGV0LmNzcyIvPgogICAgPGxpbmsgcmVsPSJzdHlsZXNoZWV0IiBocmVmPSJodHRwczovL21heGNkbi5ib290c3RyYXBjZG4uY29tL2Jvb3RzdHJhcC8zLjIuMC9jc3MvYm9vdHN0cmFwLm1pbi5jc3MiLz4KICAgIDxsaW5rIHJlbD0ic3R5bGVzaGVldCIgaHJlZj0iaHR0cHM6Ly9tYXhjZG4uYm9vdHN0cmFwY2RuLmNvbS9ib290c3RyYXAvMy4yLjAvY3NzL2Jvb3RzdHJhcC10aGVtZS5taW4uY3NzIi8+CiAgICA8bGluayByZWw9InN0eWxlc2hlZXQiIGhyZWY9Imh0dHBzOi8vbWF4Y2RuLmJvb3RzdHJhcGNkbi5jb20vZm9udC1hd2Vzb21lLzQuNi4zL2Nzcy9mb250LWF3ZXNvbWUubWluLmNzcyIvPgogICAgPGxpbmsgcmVsPSJzdHlsZXNoZWV0IiBocmVmPSJodHRwczovL2NkbmpzLmNsb3VkZmxhcmUuY29tL2FqYXgvbGlicy9MZWFmbGV0LmF3ZXNvbWUtbWFya2Vycy8yLjAuMi9sZWFmbGV0LmF3ZXNvbWUtbWFya2Vycy5jc3MiLz4KICAgIDxsaW5rIHJlbD0ic3R5bGVzaGVldCIgaHJlZj0iaHR0cHM6Ly9yYXdjZG4uZ2l0aGFjay5jb20vcHl0aG9uLXZpc3VhbGl6YXRpb24vZm9saXVtL21hc3Rlci9mb2xpdW0vdGVtcGxhdGVzL2xlYWZsZXQuYXdlc29tZS5yb3RhdGUuY3NzIi8+CiAgICA8c3R5bGU+aHRtbCwgYm9keSB7d2lkdGg6IDEwMCU7aGVpZ2h0OiAxMDAlO21hcmdpbjogMDtwYWRkaW5nOiAwO308L3N0eWxlPgogICAgPHN0eWxlPiNtYXAge3Bvc2l0aW9uOmFic29sdXRlO3RvcDowO2JvdHRvbTowO3JpZ2h0OjA7bGVmdDowO308L3N0eWxlPgogICAgCiAgICA8bWV0YSBuYW1lPSJ2aWV3cG9ydCIgY29udGVudD0id2lkdGg9ZGV2aWNlLXdpZHRoLAogICAgICAgIGluaXRpYWwtc2NhbGU9MS4wLCBtYXhpbXVtLXNjYWxlPTEuMCwgdXNlci1zY2FsYWJsZT1ubyIgLz4KICAgIDxzdHlsZT4jbWFwXzg1YzE1OGNjMTMzNjRkNWJhMzIxY2Y3YzMzM2RiYzllIHsKICAgICAgICBwb3NpdGlvbjogcmVsYXRpdmU7CiAgICAgICAgd2lkdGg6IDEwMC4wJTsKICAgICAgICBoZWlnaHQ6IDEwMC4wJTsKICAgICAgICBsZWZ0OiAwLjAlOwogICAgICAgIHRvcDogMC4wJTsKICAgICAgICB9CiAgICA8L3N0eWxlPgo8L2hlYWQ+Cjxib2R5PiAgICAKICAgIAogICAgPGRpdiBjbGFzcz0iZm9saXVtLW1hcCIgaWQ9Im1hcF84NWMxNThjYzEzMzY0ZDViYTMyMWNmN2MzMzNkYmM5ZSIgPjwvZGl2Pgo8L2JvZHk+CjxzY3JpcHQ+ICAgIAogICAgCiAgICAKICAgICAgICB2YXIgYm91bmRzID0gbnVsbDsKICAgIAoKICAgIHZhciBtYXBfODVjMTU4Y2MxMzM2NGQ1YmEzMjFjZjdjMzMzZGJjOWUgPSBMLm1hcCgKICAgICAgICAnbWFwXzg1YzE1OGNjMTMzNjRkNWJhMzIxY2Y3YzMzM2RiYzllJywgewogICAgICAgIGNlbnRlcjogWzQwLjc1ODg2MiwgLTczLjk3ODY2M10sCiAgICAgICAgem9vbTogMTUsCiAgICAgICAgbWF4Qm91bmRzOiBib3VuZHMsCiAgICAgICAgbGF5ZXJzOiBbXSwKICAgICAgICB3b3JsZENvcHlKdW1wOiBmYWxzZSwKICAgICAgICBjcnM6IEwuQ1JTLkVQU0czODU3LAogICAgICAgIHpvb21Db250cm9sOiB0cnVlLAogICAgICAgIH0pOwoKCiAgICAKICAgIHZhciB0aWxlX2xheWVyX2MwNGZkZjJmMjU5MDRlYTFhNDZkYzk0ZWFhMmQzNzQ3ID0gTC50aWxlTGF5ZXIoCiAgICAgICAgJ2h0dHBzOi8ve3N9LnRpbGUub3BlbnN0cmVldG1hcC5vcmcve3p9L3t4fS97eX0ucG5nJywKICAgICAgICB7CiAgICAgICAgImF0dHJpYnV0aW9uIjogbnVsbCwKICAgICAgICAiZGV0ZWN0UmV0aW5hIjogZmFsc2UsCiAgICAgICAgIm1heE5hdGl2ZVpvb20iOiAxOCwKICAgICAgICAibWF4Wm9vbSI6IDE4LAogICAgICAgICJtaW5ab29tIjogMCwKICAgICAgICAibm9XcmFwIjogZmFsc2UsCiAgICAgICAgIm9wYWNpdHkiOiAxLAogICAgICAgICJzdWJkb21haW5zIjogImFiYyIsCiAgICAgICAgInRtcyI6IGZhbHNlCn0pLmFkZFRvKG1hcF84NWMxNThjYzEzMzY0ZDViYTMyMWNmN2MzMzNkYmM5ZSk7CiAgICAKICAgICAgICB2YXIgbWFya2VyXzhhOGYzYTdiNTZkZjQ2Y2Y4MTU0MTRjYTljZWRjODY5ID0gTC5tYXJrZXIoCiAgICAgICAgICAgIFs0MC43NTg4NTYsIC03My45Nzg5NTRdLAogICAgICAgICAgICB7CiAgICAgICAgICAgICAgICBpY29uOiBuZXcgTC5JY29uLkRlZmF1bHQoKSwKICAgICAgICAgICAgICAgIH0KICAgICAgICAgICAgKS5hZGRUbyhtYXBfODVjMTU4Y2MxMzM2NGQ1YmEzMjFjZjdjMzMzZGJjOWUpOwogICAgICAgIAogICAgCiAgICAgICAgICAgIHZhciBwb3B1cF85YzQ0OGViOTA1ZmI0YTkwYjQyOGIxYTI4ODVkNTViYiA9IEwucG9wdXAoe21heFdpZHRoOiAnMTAwJScKICAgICAgICAgICAgCiAgICAgICAgICAgIH0pOwoKICAgICAgICAgICAgCiAgICAgICAgICAgICAgICB2YXIgaHRtbF9hZmFlMTczNzg3YTI0MTRhOTg3YWY2MDU5ZTZjNTUzYSA9ICQoYDxkaXYgaWQ9Imh0bWxfYWZhZTE3Mzc4N2EyNDE0YTk4N2FmNjA1OWU2YzU1M2EiIHN0eWxlPSJ3aWR0aDogMTAwLjAlOyBoZWlnaHQ6IDEwMC4wJTsiPjVXSHB6RmgtWmJUQlk5MTlQbFpQVHc8L2Rpdj5gKVswXTsKICAgICAgICAgICAgICAgIHBvcHVwXzljNDQ4ZWI5MDVmYjRhOTBiNDI4YjFhMjg4NWQ1NWJiLnNldENvbnRlbnQoaHRtbF9hZmFlMTczNzg3YTI0MTRhOTg3YWY2MDU5ZTZjNTUzYSk7CiAgICAgICAgICAgIAoKICAgICAgICAgICAgbWFya2VyXzhhOGYzYTdiNTZkZjQ2Y2Y4MTU0MTRjYTljZWRjODY5LmJpbmRQb3B1cChwb3B1cF85YzQ0OGViOTA1ZmI0YTkwYjQyOGIxYTI4ODVkNTViYikKICAgICAgICAgICAgOwoKICAgICAgICAgICAgCiAgICAgICAgCiAgICAKICAgICAgICB2YXIgbWFya2VyXzNkNjY0MGI4N2FhMjQ5NTA5MWJiZTBjYzU3ZmI3MjZlID0gTC5tYXJrZXIoCiAgICAgICAgICAgIFs0MC43NTg4NTksIC03My45Nzg5NTZdLAogICAgICAgICAgICB7CiAgICAgICAgICAgICAgICBpY29uOiBuZXcgTC5JY29uLkRlZmF1bHQoKSwKICAgICAgICAgICAgICAgIH0KICAgICAgICAgICAgKS5hZGRUbyhtYXBfODVjMTU4Y2MxMzM2NGQ1YmEzMjFjZjdjMzMzZGJjOWUpOwogICAgICAgIAogICAgCiAgICAgICAgICAgIHZhciBwb3B1cF82NmU3YzMwYjU3MTE0Y2IxYTkzYjQ2MWY2M2QxMjgwYyA9IEwucG9wdXAoe21heFdpZHRoOiAnMTAwJScKICAgICAgICAgICAgCiAgICAgICAgICAgIH0pOwoKICAgICAgICAgICAgCiAgICAgICAgICAgICAgICB2YXIgaHRtbF81ZjIzNzA4OTYyY2Q0M2E4OGM3NjcwZjRiYWFhZDkxNCA9ICQoYDxkaXYgaWQ9Imh0bWxfNWYyMzcwODk2MmNkNDNhODhjNzY3MGY0YmFhYWQ5MTQiIHN0eWxlPSJ3aWR0aDogMTAwLjAlOyBoZWlnaHQ6IDEwMC4wJTsiPkFKUjFsSXUzUnpnQzhiZ0NrMnRGb2c8L2Rpdj5gKVswXTsKICAgICAgICAgICAgICAgIHBvcHVwXzY2ZTdjMzBiNTcxMTRjYjFhOTNiNDYxZjYzZDEyODBjLnNldENvbnRlbnQoaHRtbF81ZjIzNzA4OTYyY2Q0M2E4OGM3NjcwZjRiYWFhZDkxNCk7CiAgICAgICAgICAgIAoKICAgICAgICAgICAgbWFya2VyXzNkNjY0MGI4N2FhMjQ5NTA5MWJiZTBjYzU3ZmI3MjZlLmJpbmRQb3B1cChwb3B1cF82NmU3YzMwYjU3MTE0Y2IxYTkzYjQ2MWY2M2QxMjgwYykKICAgICAgICAgICAgOwoKICAgICAgICAgICAgCiAgICAgICAgCiAgICAKICAgICAgICB2YXIgbWFya2VyX2M0OWJhMDZmMzk4YzQ0OTI4NDE4MzMyYTlhYzQ2NTFiID0gTC5tYXJrZXIoCiAgICAgICAgICAgIFs0MC43NTc4MDE4NjE4MzgzLCAtNzMuOTc5NjAyNDE4ODM5OV0sCiAgICAgICAgICAgIHsKICAgICAgICAgICAgICAgIGljb246IG5ldyBMLkljb24uRGVmYXVsdCgpLAogICAgICAgICAgICAgICAgfQogICAgICAgICAgICApLmFkZFRvKG1hcF84NWMxNThjYzEzMzY0ZDViYTMyMWNmN2MzMzNkYmM5ZSk7CiAgICAgICAgCiAgICAKICAgICAgICAgICAgdmFyIHBvcHVwX2ZmOGE2NTM1OWQwMDQ2YmM5YjZkNzdlZDU3ODZkY2IxID0gTC5wb3B1cCh7bWF4V2lkdGg6ICcxMDAlJwogICAgICAgICAgICAKICAgICAgICAgICAgfSk7CgogICAgICAgICAgICAKICAgICAgICAgICAgICAgIHZhciBodG1sX2UyNzZjMzE5MDA2NjRmYzZiYTYyMDhlYzdmNDBlOTY5ID0gJChgPGRpdiBpZD0iaHRtbF9lMjc2YzMxOTAwNjY0ZmM2YmE2MjA4ZWM3ZjQwZTk2OSIgc3R5bGU9IndpZHRoOiAxMDAuMCU7IGhlaWdodDogMTAwLjAlOyI+dDhfbm01LXlrOEFyaFpqVDNuSHhSQTwvZGl2PmApWzBdOwogICAgICAgICAgICAgICAgcG9wdXBfZmY4YTY1MzU5ZDAwNDZiYzliNmQ3N2VkNTc4NmRjYjEuc2V0Q29udGVudChodG1sX2UyNzZjMzE5MDA2NjRmYzZiYTYyMDhlYzdmNDBlOTY5KTsKICAgICAgICAgICAgCgogICAgICAgICAgICBtYXJrZXJfYzQ5YmEwNmYzOThjNDQ5Mjg0MTgzMzJhOWFjNDY1MWIuYmluZFBvcHVwKHBvcHVwX2ZmOGE2NTM1OWQwMDQ2YmM5YjZkNzdlZDU3ODZkY2IxKQogICAgICAgICAgICA7CgogICAgICAgICAgICAKICAgICAgICAKICAgIAogICAgICAgIHZhciBtYXJrZXJfMjI2NTY4ZjUwYWYyNDFjOThkYjVjMzA0MmNkNmZjNDEgPSBMLm1hcmtlcigKICAgICAgICAgICAgWzQwLjc2MDM2NCwgLTczLjk3OTA4NF0sCiAgICAgICAgICAgIHsKICAgICAgICAgICAgICAgIGljb246IG5ldyBMLkljb24uRGVmYXVsdCgpLAogICAgICAgICAgICAgICAgfQogICAgICAgICAgICApLmFkZFRvKG1hcF84NWMxNThjYzEzMzY0ZDViYTMyMWNmN2MzMzNkYmM5ZSk7CiAgICAgICAgCiAgICAKICAgICAgICAgICAgdmFyIHBvcHVwXzkxYjYzNDQ0MTZjNzQ3Njc5N2Q3Yzc5NzZmOTM5OTc5ID0gTC5wb3B1cCh7bWF4V2lkdGg6ICcxMDAlJwogICAgICAgICAgICAKICAgICAgICAgICAgfSk7CgogICAgICAgICAgICAKICAgICAgICAgICAgICAgIHZhciBodG1sX2IyMTVkY2JiNzNiYzRlMWZiOGQ2NDViYWUxMzk1MmFiID0gJChgPGRpdiBpZD0iaHRtbF9iMjE1ZGNiYjczYmM0ZTFmYjhkNjQ1YmFlMTM5NTJhYiIgc3R5bGU9IndpZHRoOiAxMDAuMCU7IGhlaWdodDogMTAwLjAlOyI+RFRSTHNUd3gwNTM0SXYtMHhmWGlqQTwvZGl2PmApWzBdOwogICAgICAgICAgICAgICAgcG9wdXBfOTFiNjM0NDQxNmM3NDc2Nzk3ZDdjNzk3NmY5Mzk5Nzkuc2V0Q29udGVudChodG1sX2IyMTVkY2JiNzNiYzRlMWZiOGQ2NDViYWUxMzk1MmFiKTsKICAgICAgICAgICAgCgogICAgICAgICAgICBtYXJrZXJfMjI2NTY4ZjUwYWYyNDFjOThkYjVjMzA0MmNkNmZjNDEuYmluZFBvcHVwKHBvcHVwXzkxYjYzNDQ0MTZjNzQ3Njc5N2Q3Yzc5NzZmOTM5OTc5KQogICAgICAgICAgICA7CgogICAgICAgICAgICAKICAgICAgICAKICAgIAogICAgICAgIHZhciBtYXJrZXJfNjQxZDljMWU1ODgyNGRhM2FiMWMyZjBlMTNjMzVhZmIgPSBMLm1hcmtlcigKICAgICAgICAgICAgWzQwLjc2MDU4NywgLTczLjk3ODU5OF0sCiAgICAgICAgICAgIHsKICAgICAgICAgICAgICAgIGljb246IG5ldyBMLkljb24uRGVmYXVsdCgpLAogICAgICAgICAgICAgICAgfQogICAgICAgICAgICApLmFkZFRvKG1hcF84NWMxNThjYzEzMzY0ZDViYTMyMWNmN2MzMzNkYmM5ZSk7CiAgICAgICAgCiAgICAKICAgICAgICAgICAgdmFyIHBvcHVwXzJlZWE2Yjk3YzJmYTRlMTRhNGFhMzBhZjE5MGI4ZGIzID0gTC5wb3B1cCh7bWF4V2lkdGg6ICcxMDAlJwogICAgICAgICAgICAKICAgICAgICAgICAgfSk7CgogICAgICAgICAgICAKICAgICAgICAgICAgICAgIHZhciBodG1sXzMyYTZhMzFmNmEyYzQ2MGQ5ZWQxNDQzODNiMmIzNDY2ID0gJChgPGRpdiBpZD0iaHRtbF8zMmE2YTMxZjZhMmM0NjBkOWVkMTQ0MzgzYjJiMzQ2NiIgc3R5bGU9IndpZHRoOiAxMDAuMCU7IGhlaWdodDogMTAwLjAlOyI+NFZ3RHRiNXdPeGZhWEZPdlRwN0M2QTwvZGl2PmApWzBdOwogICAgICAgICAgICAgICAgcG9wdXBfMmVlYTZiOTdjMmZhNGUxNGE0YWEzMGFmMTkwYjhkYjMuc2V0Q29udGVudChodG1sXzMyYTZhMzFmNmEyYzQ2MGQ5ZWQxNDQzODNiMmIzNDY2KTsKICAgICAgICAgICAgCgogICAgICAgICAgICBtYXJrZXJfNjQxZDljMWU1ODgyNGRhM2FiMWMyZjBlMTNjMzVhZmIuYmluZFBvcHVwKHBvcHVwXzJlZWE2Yjk3YzJmYTRlMTRhNGFhMzBhZjE5MGI4ZGIzKQogICAgICAgICAgICA7CgogICAgICAgICAgICAKICAgICAgICAKICAgIAogICAgICAgIHZhciBtYXJrZXJfZDI5MjIwZGRlYjYzNGU1MWEyMjI5YWM0MDVhNGYyZjggPSBMLm1hcmtlcigKICAgICAgICAgICAgWzQwLjc2MDYwODY3MzA5NTcsIC03My45Nzg0MzE3MDE2NjAyXSwKICAgICAgICAgICAgewogICAgICAgICAgICAgICAgaWNvbjogbmV3IEwuSWNvbi5EZWZhdWx0KCksCiAgICAgICAgICAgICAgICB9CiAgICAgICAgICAgICkuYWRkVG8obWFwXzg1YzE1OGNjMTMzNjRkNWJhMzIxY2Y3YzMzM2RiYzllKTsKICAgICAgICAKICAgIAogICAgICAgICAgICB2YXIgcG9wdXBfMGFiMzI0MTEzNTkxNDk3YmJlYzI1NTI4ZGEyNGQ3NjcgPSBMLnBvcHVwKHttYXhXaWR0aDogJzEwMCUnCiAgICAgICAgICAgIAogICAgICAgICAgICB9KTsKCiAgICAgICAgICAgIAogICAgICAgICAgICAgICAgdmFyIGh0bWxfMTZlOTBjMjAyOGUyNGQ3ZTlhOTQ3YTU1ZTZkYWQ5MDUgPSAkKGA8ZGl2IGlkPSJodG1sXzE2ZTkwYzIwMjhlMjRkN2U5YTk0N2E1NWU2ZGFkOTA1IiBzdHlsZT0id2lkdGg6IDEwMC4wJTsgaGVpZ2h0OiAxMDAuMCU7Ij5XNUdOTnd4TWVLTVJ2UUp3dFZuSmRBPC9kaXY+YClbMF07CiAgICAgICAgICAgICAgICBwb3B1cF8wYWIzMjQxMTM1OTE0OTdiYmVjMjU1MjhkYTI0ZDc2Ny5zZXRDb250ZW50KGh0bWxfMTZlOTBjMjAyOGUyNGQ3ZTlhOTQ3YTU1ZTZkYWQ5MDUpOwogICAgICAgICAgICAKCiAgICAgICAgICAgIG1hcmtlcl9kMjkyMjBkZGViNjM0ZTUxYTIyMjlhYzQwNWE0ZjJmOC5iaW5kUG9wdXAocG9wdXBfMGFiMzI0MTEzNTkxNDk3YmJlYzI1NTI4ZGEyNGQ3NjcpCiAgICAgICAgICAgIDsKCiAgICAgICAgICAgIAogICAgICAgIAogICAgCiAgICAgICAgdmFyIG1hcmtlcl8xZDdlNWFjNjk3Y2U0ZGFjYjI1ZmZjYjVlM2IzMjM4NiA9IEwubWFya2VyKAogICAgICAgICAgICBbNDAuNzU2NDI1LCAtNzMuOTc4M10sCiAgICAgICAgICAgIHsKICAgICAgICAgICAgICAgIGljb246IG5ldyBMLkljb24uRGVmYXVsdCgpLAogICAgICAgICAgICAgICAgfQogICAgICAgICAgICApLmFkZFRvKG1hcF84NWMxNThjYzEzMzY0ZDViYTMyMWNmN2MzMzNkYmM5ZSk7CiAgICAgICAgCiAgICAKICAgICAgICAgICAgdmFyIHBvcHVwX2VmNjVjZGI4ZjgyNDQxMTNhNjc3YmUwYWZjMTQzNWM4ID0gTC5wb3B1cCh7bWF4V2lkdGg6ICcxMDAlJwogICAgICAgICAgICAKICAgICAgICAgICAgfSk7CgogICAgICAgICAgICAKICAgICAgICAgICAgICAgIHZhciBodG1sX2U2YjBhZTc1Mjk0OTQ3OTJhZWIxMTg4Y2Y3NGU4MzRmID0gJChgPGRpdiBpZD0iaHRtbF9lNmIwYWU3NTI5NDk0NzkyYWViMTE4OGNmNzRlODM0ZiIgc3R5bGU9IndpZHRoOiAxMDAuMCU7IGhlaWdodDogMTAwLjAlOyI+bHRoZFJMYjlfUVBDZkRhM2kyQnBVdzwvZGl2PmApWzBdOwogICAgICAgICAgICAgICAgcG9wdXBfZWY2NWNkYjhmODI0NDExM2E2NzdiZTBhZmMxNDM1Yzguc2V0Q29udGVudChodG1sX2U2YjBhZTc1Mjk0OTQ3OTJhZWIxMTg4Y2Y3NGU4MzRmKTsKICAgICAgICAgICAgCgogICAgICAgICAgICBtYXJrZXJfMWQ3ZTVhYzY5N2NlNGRhY2IyNWZmY2I1ZTNiMzIzODYuYmluZFBvcHVwKHBvcHVwX2VmNjVjZGI4ZjgyNDQxMTNhNjc3YmUwYWZjMTQzNWM4KQogICAgICAgICAgICA7CgogICAgICAgICAgICAKICAgICAgICAKICAgIAogICAgICAgIHZhciBtYXJrZXJfZDE0ZGM2NzBmYTBmNDJlMmJiMDYxNjQyMmI1Yzg4OWIgPSBMLm1hcmtlcigKICAgICAgICAgICAgWzQwLjc2MDM0OCwgLTczLjk3NjEzNF0sCiAgICAgICAgICAgIHsKICAgICAgICAgICAgICAgIGljb246IG5ldyBMLkljb24uRGVmYXVsdCgpLAogICAgICAgICAgICAgICAgfQogICAgICAgICAgICApLmFkZFRvKG1hcF84NWMxNThjYzEzMzY0ZDViYTMyMWNmN2MzMzNkYmM5ZSk7CiAgICAgICAgCiAgICAKICAgICAgICAgICAgdmFyIHBvcHVwX2RiNGY1OWU4YTc3YzQ4NWM5Nzk0YTM4NDU2NjVlYTdiID0gTC5wb3B1cCh7bWF4V2lkdGg6ICcxMDAlJwogICAgICAgICAgICAKICAgICAgICAgICAgfSk7CgogICAgICAgICAgICAKICAgICAgICAgICAgICAgIHZhciBodG1sX2U5YWI3N2FiMzY0ODQwNzBiMjU4Njk2ZjMzNTkxNjVlID0gJChgPGRpdiBpZD0iaHRtbF9lOWFiNzdhYjM2NDg0MDcwYjI1ODY5NmYzMzU5MTY1ZSIgc3R5bGU9IndpZHRoOiAxMDAuMCU7IGhlaWdodDogMTAwLjAlOyI+LWFZWHRxUkdndzcwQ1JETVV5QkViQTwvZGl2PmApWzBdOwogICAgICAgICAgICAgICAgcG9wdXBfZGI0ZjU5ZThhNzdjNDg1Yzk3OTRhMzg0NTY2NWVhN2Iuc2V0Q29udGVudChodG1sX2U5YWI3N2FiMzY0ODQwNzBiMjU4Njk2ZjMzNTkxNjVlKTsKICAgICAgICAgICAgCgogICAgICAgICAgICBtYXJrZXJfZDE0ZGM2NzBmYTBmNDJlMmJiMDYxNjQyMmI1Yzg4OWIuYmluZFBvcHVwKHBvcHVwX2RiNGY1OWU4YTc3YzQ4NWM5Nzk0YTM4NDU2NjVlYTdiKQogICAgICAgICAgICA7CgogICAgICAgICAgICAKICAgICAgICAKICAgIAogICAgICAgIHZhciBtYXJrZXJfODFhZGUyZDIwYTQ2NGM4ODg5ZDIxNDQyNTcxYTBhNGIgPSBMLm1hcmtlcigKICAgICAgICAgICAgWzQwLjc1NzA3OSwgLTczLjk4MTE2M10sCiAgICAgICAgICAgIHsKICAgICAgICAgICAgICAgIGljb246IG5ldyBMLkljb24uRGVmYXVsdCgpLAogICAgICAgICAgICAgICAgfQogICAgICAgICAgICApLmFkZFRvKG1hcF84NWMxNThjYzEzMzY0ZDViYTMyMWNmN2MzMzNkYmM5ZSk7CiAgICAgICAgCiAgICAKICAgICAgICAgICAgdmFyIHBvcHVwXzk4MWZlN2ZmN2NmZjQ2NTBhZDU5MWQzMTNiYmQxNTdmID0gTC5wb3B1cCh7bWF4V2lkdGg6ICcxMDAlJwogICAgICAgICAgICAKICAgICAgICAgICAgfSk7CgogICAgICAgICAgICAKICAgICAgICAgICAgICAgIHZhciBodG1sXzRiNzMwODc5ZmUzODRhNjJiZTAwMzgyMTJmZmIwZTY4ID0gJChgPGRpdiBpZD0iaHRtbF80YjczMDg3OWZlMzg0YTYyYmUwMDM4MjEyZmZiMGU2OCIgc3R5bGU9IndpZHRoOiAxMDAuMCU7IGhlaWdodDogMTAwLjAlOyI+emZPYVlieXg1UkFhOTFRd19UaHNQUTwvZGl2PmApWzBdOwogICAgICAgICAgICAgICAgcG9wdXBfOTgxZmU3ZmY3Y2ZmNDY1MGFkNTkxZDMxM2JiZDE1N2Yuc2V0Q29udGVudChodG1sXzRiNzMwODc5ZmUzODRhNjJiZTAwMzgyMTJmZmIwZTY4KTsKICAgICAgICAgICAgCgogICAgICAgICAgICBtYXJrZXJfODFhZGUyZDIwYTQ2NGM4ODg5ZDIxNDQyNTcxYTBhNGIuYmluZFBvcHVwKHBvcHVwXzk4MWZlN2ZmN2NmZjQ2NTBhZDU5MWQzMTNiYmQxNTdmKQogICAgICAgICAgICA7CgogICAgICAgICAgICAKICAgICAgICAKICAgIAogICAgICAgIHZhciBtYXJrZXJfMTdmOWZjYjdmN2JlNDA2YTk2MTVmNzE2MWI0ODRjOGMgPSBMLm1hcmtlcigKICAgICAgICAgICAgWzQwLjc1NzA3NywgLTczLjk3NTk2OV0sCiAgICAgICAgICAgIHsKICAgICAgICAgICAgICAgIGljb246IG5ldyBMLkljb24uRGVmYXVsdCgpLAogICAgICAgICAgICAgICAgfQogICAgICAgICAgICApLmFkZFRvKG1hcF84NWMxNThjYzEzMzY0ZDViYTMyMWNmN2MzMzNkYmM5ZSk7CiAgICAgICAgCiAgICAKICAgICAgICAgICAgdmFyIHBvcHVwX2FlNDg2YThhNThkOTQwYWY4OGE1MTY5YjIxZTgxOGVjID0gTC5wb3B1cCh7bWF4V2lkdGg6ICcxMDAlJwogICAgICAgICAgICAKICAgICAgICAgICAgfSk7CgogICAgICAgICAgICAKICAgICAgICAgICAgICAgIHZhciBodG1sXzhjMjYyZGQyODllZTQ1MTZhMjRhYmU5MTAyZWQ0N2MwID0gJChgPGRpdiBpZD0iaHRtbF84YzI2MmRkMjg5ZWU0NTE2YTI0YWJlOTEwMmVkNDdjMCIgc3R5bGU9IndpZHRoOiAxMDAuMCU7IGhlaWdodDogMTAwLjAlOyI+T0lBZ1YyUHl2VU5JRWJYTm9PZXNvdzwvZGl2PmApWzBdOwogICAgICAgICAgICAgICAgcG9wdXBfYWU0ODZhOGE1OGQ5NDBhZjg4YTUxNjliMjFlODE4ZWMuc2V0Q29udGVudChodG1sXzhjMjYyZGQyODllZTQ1MTZhMjRhYmU5MTAyZWQ0N2MwKTsKICAgICAgICAgICAgCgogICAgICAgICAgICBtYXJrZXJfMTdmOWZjYjdmN2JlNDA2YTk2MTVmNzE2MWI0ODRjOGMuYmluZFBvcHVwKHBvcHVwX2FlNDg2YThhNThkOTQwYWY4OGE1MTY5YjIxZTgxOGVjKQogICAgICAgICAgICA7CgogICAgICAgICAgICAKICAgICAgICAKICAgIAogICAgICAgIHZhciBtYXJrZXJfOTc5OWMwMzg1N2ZkNDJlZWJlYjAwYmQ5ZTI2ZWM3ZTEgPSBMLm1hcmtlcigKICAgICAgICAgICAgWzQwLjc1ODExNywgLTczLjk4MjQ1XSwKICAgICAgICAgICAgewogICAgICAgICAgICAgICAgaWNvbjogbmV3IEwuSWNvbi5EZWZhdWx0KCksCiAgICAgICAgICAgICAgICB9CiAgICAgICAgICAgICkuYWRkVG8obWFwXzg1YzE1OGNjMTMzNjRkNWJhMzIxY2Y3YzMzM2RiYzllKTsKICAgICAgICAKICAgIAogICAgICAgICAgICB2YXIgcG9wdXBfMDkwNjYyZDQ0ZWNiNDQ4Nzk5Y2E0ZDhlNWYxMGQ2MjMgPSBMLnBvcHVwKHttYXhXaWR0aDogJzEwMCUnCiAgICAgICAgICAgIAogICAgICAgICAgICB9KTsKCiAgICAgICAgICAgIAogICAgICAgICAgICAgICAgdmFyIGh0bWxfNjkxNjg2MGQxOTNmNDMzZWE5NzA5YWFmZDZmYjgzOTMgPSAkKGA8ZGl2IGlkPSJodG1sXzY5MTY4NjBkMTkzZjQzM2VhOTcwOWFhZmQ2ZmI4MzkzIiBzdHlsZT0id2lkdGg6IDEwMC4wJTsgaGVpZ2h0OiAxMDAuMCU7Ij51dV9JdUhqSHd5QnVRSkJTNFliT1R3PC9kaXY+YClbMF07CiAgICAgICAgICAgICAgICBwb3B1cF8wOTA2NjJkNDRlY2I0NDg3OTljYTRkOGU1ZjEwZDYyMy5zZXRDb250ZW50KGh0bWxfNjkxNjg2MGQxOTNmNDMzZWE5NzA5YWFmZDZmYjgzOTMpOwogICAgICAgICAgICAKCiAgICAgICAgICAgIG1hcmtlcl85Nzk5YzAzODU3ZmQ0MmVlYmViMDBiZDllMjZlYzdlMS5iaW5kUG9wdXAocG9wdXBfMDkwNjYyZDQ0ZWNiNDQ4Nzk5Y2E0ZDhlNWYxMGQ2MjMpCiAgICAgICAgICAgIDsKCiAgICAgICAgICAgIAogICAgICAgIAogICAgCiAgICAgICAgdmFyIG1hcmtlcl81MWExODg4MGUzM2Y0YWExODE3NjllYWY5NjI0YmNhNCA9IEwubWFya2VyKAogICAgICAgICAgICBbNDAuNzYxODgsIC03My45Nzg2OTRdLAogICAgICAgICAgICB7CiAgICAgICAgICAgICAgICBpY29uOiBuZXcgTC5JY29uLkRlZmF1bHQoKSwKICAgICAgICAgICAgICAgIH0KICAgICAgICAgICAgKS5hZGRUbyhtYXBfODVjMTU4Y2MxMzM2NGQ1YmEzMjFjZjdjMzMzZGJjOWUpOwogICAgICAgIAogICAgCiAgICAgICAgICAgIHZhciBwb3B1cF80MTk0Njg5MzRlZjU0Zjc2YmI3YTllN2RkYTg4MTAwOCA9IEwucG9wdXAoe21heFdpZHRoOiAnMTAwJScKICAgICAgICAgICAgCiAgICAgICAgICAgIH0pOwoKICAgICAgICAgICAgCiAgICAgICAgICAgICAgICB2YXIgaHRtbF8xZTc4MjAxMDYxYTM0YTQzYmFlOWRiYjk1NDU1ZjgxOCA9ICQoYDxkaXYgaWQ9Imh0bWxfMWU3ODIwMTA2MWEzNGE0M2JhZTlkYmI5NTQ1NWY4MTgiIHN0eWxlPSJ3aWR0aDogMTAwLjAlOyBoZWlnaHQ6IDEwMC4wJTsiPml6VThrTk5acjktRUlYVGtOTzNOYVE8L2Rpdj5gKVswXTsKICAgICAgICAgICAgICAgIHBvcHVwXzQxOTQ2ODkzNGVmNTRmNzZiYjdhOWU3ZGRhODgxMDA4LnNldENvbnRlbnQoaHRtbF8xZTc4MjAxMDYxYTM0YTQzYmFlOWRiYjk1NDU1ZjgxOCk7CiAgICAgICAgICAgIAoKICAgICAgICAgICAgbWFya2VyXzUxYTE4ODgwZTMzZjRhYTE4MTc2OWVhZjk2MjRiY2E0LmJpbmRQb3B1cChwb3B1cF80MTk0Njg5MzRlZjU0Zjc2YmI3YTllN2RkYTg4MTAwOCkKICAgICAgICAgICAgOwoKICAgICAgICAgICAgCiAgICAgICAgCiAgICAKICAgICAgICB2YXIgbWFya2VyX2E5MThhOTgzZGZmNjQzMjY5ZWRjYjY3NzdkMGVkYjQ5ID0gTC5tYXJrZXIoCiAgICAgICAgICAgIFs0MC43NjE3ODksIC03My45Nzk2NzRdLAogICAgICAgICAgICB7CiAgICAgICAgICAgICAgICBpY29uOiBuZXcgTC5JY29uLkRlZmF1bHQoKSwKICAgICAgICAgICAgICAgIH0KICAgICAgICAgICAgKS5hZGRUbyhtYXBfODVjMTU4Y2MxMzM2NGQ1YmEzMjFjZjdjMzMzZGJjOWUpOwogICAgICAgIAogICAgCiAgICAgICAgICAgIHZhciBwb3B1cF9jYzhmNDgwMDAxNGU0NTU1ODY3ZGQ2OTUwMjk3Y2JjOSA9IEwucG9wdXAoe21heFdpZHRoOiAnMTAwJScKICAgICAgICAgICAgCiAgICAgICAgICAgIH0pOwoKICAgICAgICAgICAgCiAgICAgICAgICAgICAgICB2YXIgaHRtbF8wNWY2MzIyZGNiYmI0M2M5OWJmYjQxNzdjMzRlMjg4OCA9ICQoYDxkaXYgaWQ9Imh0bWxfMDVmNjMyMmRjYmJiNDNjOTliZmI0MTc3YzM0ZTI4ODgiIHN0eWxlPSJ3aWR0aDogMTAwLjAlOyBoZWlnaHQ6IDEwMC4wJTsiPi1VS0dIMGJjeUxOTW1UZUZseDBxZEE8L2Rpdj5gKVswXTsKICAgICAgICAgICAgICAgIHBvcHVwX2NjOGY0ODAwMDE0ZTQ1NTU4NjdkZDY5NTAyOTdjYmM5LnNldENvbnRlbnQoaHRtbF8wNWY2MzIyZGNiYmI0M2M5OWJmYjQxNzdjMzRlMjg4OCk7CiAgICAgICAgICAgIAoKICAgICAgICAgICAgbWFya2VyX2E5MThhOTgzZGZmNjQzMjY5ZWRjYjY3NzdkMGVkYjQ5LmJpbmRQb3B1cChwb3B1cF9jYzhmNDgwMDAxNGU0NTU1ODY3ZGQ2OTUwMjk3Y2JjOSkKICAgICAgICAgICAgOwoKICAgICAgICAgICAgCiAgICAgICAgCiAgICAKICAgICAgICB2YXIgbWFya2VyXzMxZGI0Yzk5ODViYTQyYWU4NTlhNmE5NjQ2YjU2YTg0ID0gTC5tYXJrZXIoCiAgICAgICAgICAgIFs0MC43NTU1OTksIC03My45ODAyMDhdLAogICAgICAgICAgICB7CiAgICAgICAgICAgICAgICBpY29uOiBuZXcgTC5JY29uLkRlZmF1bHQoKSwKICAgICAgICAgICAgICAgIH0KICAgICAgICAgICAgKS5hZGRUbyhtYXBfODVjMTU4Y2MxMzM2NGQ1YmEzMjFjZjdjMzMzZGJjOWUpOwogICAgICAgIAogICAgCiAgICAgICAgICAgIHZhciBwb3B1cF9jZWE1ODk1YjA4Yzg0NzY3ODZjZWJjMWRiYmYyMTNhYyA9IEwucG9wdXAoe21heFdpZHRoOiAnMTAwJScKICAgICAgICAgICAgCiAgICAgICAgICAgIH0pOwoKICAgICAgICAgICAgCiAgICAgICAgICAgICAgICB2YXIgaHRtbF80YTkwYTUzZjM2NzM0ZTI4OGFkM2JlZWVlMDA0MjM0ZiA9ICQoYDxkaXYgaWQ9Imh0bWxfNGE5MGE1M2YzNjczNGUyODhhZDNiZWVlZTAwNDIzNGYiIHN0eWxlPSJ3aWR0aDogMTAwLjAlOyBoZWlnaHQ6IDEwMC4wJTsiPm1UZHRjbVl3dVBVcVFTMGJSSmxoN0E8L2Rpdj5gKVswXTsKICAgICAgICAgICAgICAgIHBvcHVwX2NlYTU4OTViMDhjODQ3Njc4NmNlYmMxZGJiZjIxM2FjLnNldENvbnRlbnQoaHRtbF80YTkwYTUzZjM2NzM0ZTI4OGFkM2JlZWVlMDA0MjM0Zik7CiAgICAgICAgICAgIAoKICAgICAgICAgICAgbWFya2VyXzMxZGI0Yzk5ODViYTQyYWU4NTlhNmE5NjQ2YjU2YTg0LmJpbmRQb3B1cChwb3B1cF9jZWE1ODk1YjA4Yzg0NzY3ODZjZWJjMWRiYmYyMTNhYykKICAgICAgICAgICAgOwoKICAgICAgICAgICAgCiAgICAgICAgCiAgICAKICAgICAgICB2YXIgbWFya2VyXzU4YTI3NjBlM2YyMjRiZWRhMjhjMzUzNmMxYWE4M2M0ID0gTC5tYXJrZXIoCiAgICAgICAgICAgIFs0MC43NTY2NDIsIC03My45NzUwNjRdLAogICAgICAgICAgICB7CiAgICAgICAgICAgICAgICBpY29uOiBuZXcgTC5JY29uLkRlZmF1bHQoKSwKICAgICAgICAgICAgICAgIH0KICAgICAgICAgICAgKS5hZGRUbyhtYXBfODVjMTU4Y2MxMzM2NGQ1YmEzMjFjZjdjMzMzZGJjOWUpOwogICAgICAgIAogICAgCiAgICAgICAgICAgIHZhciBwb3B1cF82YTEzNGQ0MzM5M2E0OWQ1OGVjYzEwNWY3ZjBiZmJlNCA9IEwucG9wdXAoe21heFdpZHRoOiAnMTAwJScKICAgICAgICAgICAgCiAgICAgICAgICAgIH0pOwoKICAgICAgICAgICAgCiAgICAgICAgICAgICAgICB2YXIgaHRtbF9hYWM0OTVkM2E0MDA0ZDk0OWViZDdlZGY2NTI5OWU2YSA9ICQoYDxkaXYgaWQ9Imh0bWxfYWFjNDk1ZDNhNDAwNGQ5NDllYmQ3ZWRmNjUyOTllNmEiIHN0eWxlPSJ3aWR0aDogMTAwLjAlOyBoZWlnaHQ6IDEwMC4wJTsiPjF1eGhHdy1nN2d0MjZKaHgxZjlnNXc8L2Rpdj5gKVswXTsKICAgICAgICAgICAgICAgIHBvcHVwXzZhMTM0ZDQzMzkzYTQ5ZDU4ZWNjMTA1ZjdmMGJmYmU0LnNldENvbnRlbnQoaHRtbF9hYWM0OTVkM2E0MDA0ZDk0OWViZDdlZGY2NTI5OWU2YSk7CiAgICAgICAgICAgIAoKICAgICAgICAgICAgbWFya2VyXzU4YTI3NjBlM2YyMjRiZWRhMjhjMzUzNmMxYWE4M2M0LmJpbmRQb3B1cChwb3B1cF82YTEzNGQ0MzM5M2E0OWQ1OGVjYzEwNWY3ZjBiZmJlNCkKICAgICAgICAgICAgOwoKICAgICAgICAgICAgCiAgICAgICAgCiAgICAKICAgICAgICB2YXIgbWFya2VyXzYzNDgyYjNkNDA5NzQ3NGM5ZTcyNDY3ODBjMmZmMDAwID0gTC5tYXJrZXIoCiAgICAgICAgICAgIFs0MC43NjI0NDMsIC03My45Nzk3MTNdLAogICAgICAgICAgICB7CiAgICAgICAgICAgICAgICBpY29uOiBuZXcgTC5JY29uLkRlZmF1bHQoKSwKICAgICAgICAgICAgICAgIH0KICAgICAgICAgICAgKS5hZGRUbyhtYXBfODVjMTU4Y2MxMzM2NGQ1YmEzMjFjZjdjMzMzZGJjOWUpOwogICAgICAgIAogICAgCiAgICAgICAgICAgIHZhciBwb3B1cF8xMzg5NWM2M2IzOWE0YzRlYmY1MDYwODA4Njg2YWViMyA9IEwucG9wdXAoe21heFdpZHRoOiAnMTAwJScKICAgICAgICAgICAgCiAgICAgICAgICAgIH0pOwoKICAgICAgICAgICAgCiAgICAgICAgICAgICAgICB2YXIgaHRtbF85NzY1OTRjYjgwNDk0NTQ0YWQ2NmQ1ZGU4MWRkMzVhMSA9ICQoYDxkaXYgaWQ9Imh0bWxfOTc2NTk0Y2I4MDQ5NDU0NGFkNjZkNWRlODFkZDM1YTEiIHN0eWxlPSJ3aWR0aDogMTAwLjAlOyBoZWlnaHQ6IDEwMC4wJTsiPlFDTW1fVEx4aDBXeWJOZFhsTU9sWHc8L2Rpdj5gKVswXTsKICAgICAgICAgICAgICAgIHBvcHVwXzEzODk1YzYzYjM5YTRjNGViZjUwNjA4MDg2ODZhZWIzLnNldENvbnRlbnQoaHRtbF85NzY1OTRjYjgwNDk0NTQ0YWQ2NmQ1ZGU4MWRkMzVhMSk7CiAgICAgICAgICAgIAoKICAgICAgICAgICAgbWFya2VyXzYzNDgyYjNkNDA5NzQ3NGM5ZTcyNDY3ODBjMmZmMDAwLmJpbmRQb3B1cChwb3B1cF8xMzg5NWM2M2IzOWE0YzRlYmY1MDYwODA4Njg2YWViMykKICAgICAgICAgICAgOwoKICAgICAgICAgICAgCiAgICAgICAgCiAgICAKICAgICAgICB2YXIgbWFya2VyX2EzZDBhZTU4YjUyYzQzYjNiZDJiZDIxNGI4NzBlZDYzID0gTC5tYXJrZXIoCiAgICAgICAgICAgIFs0MC43NTk1OTgsIC03My45NzM2MTNdLAogICAgICAgICAgICB7CiAgICAgICAgICAgICAgICBpY29uOiBuZXcgTC5JY29uLkRlZmF1bHQoKSwKICAgICAgICAgICAgICAgIH0KICAgICAgICAgICAgKS5hZGRUbyhtYXBfODVjMTU4Y2MxMzM2NGQ1YmEzMjFjZjdjMzMzZGJjOWUpOwogICAgICAgIAogICAgCiAgICAgICAgICAgIHZhciBwb3B1cF8wZmE3ZWQzMGE1OGM0ZDc3YmY3ZmRmMjIzMTEzOTdkZCA9IEwucG9wdXAoe21heFdpZHRoOiAnMTAwJScKICAgICAgICAgICAgCiAgICAgICAgICAgIH0pOwoKICAgICAgICAgICAgCiAgICAgICAgICAgICAgICB2YXIgaHRtbF83NzQxYjkxNmQ5N2E0NjdmYTAwMjM2MGZlMGUwYWM1MiA9ICQoYDxkaXYgaWQ9Imh0bWxfNzc0MWI5MTZkOTdhNDY3ZmEwMDIzNjBmZTBlMGFjNTIiIHN0eWxlPSJ3aWR0aDogMTAwLjAlOyBoZWlnaHQ6IDEwMC4wJTsiPnNzd3VONlctcDh3cEllUUlvR3VIbVE8L2Rpdj5gKVswXTsKICAgICAgICAgICAgICAgIHBvcHVwXzBmYTdlZDMwYTU4YzRkNzdiZjdmZGYyMjMxMTM5N2RkLnNldENvbnRlbnQoaHRtbF83NzQxYjkxNmQ5N2E0NjdmYTAwMjM2MGZlMGUwYWM1Mik7CiAgICAgICAgICAgIAoKICAgICAgICAgICAgbWFya2VyX2EzZDBhZTU4YjUyYzQzYjNiZDJiZDIxNGI4NzBlZDYzLmJpbmRQb3B1cChwb3B1cF8wZmE3ZWQzMGE1OGM0ZDc3YmY3ZmRmMjIzMTEzOTdkZCkKICAgICAgICAgICAgOwoKICAgICAgICAgICAgCiAgICAgICAgCiAgICAKICAgICAgICB2YXIgbWFya2VyX2JhOTNmNGYwM2EzNzRlMzA5NWQzNzkxYzM2NTdlNTVhID0gTC5tYXJrZXIoCiAgICAgICAgICAgIFs0MC43NjE1NCwgLTczLjk4MDc2XSwKICAgICAgICAgICAgewogICAgICAgICAgICAgICAgaWNvbjogbmV3IEwuSWNvbi5EZWZhdWx0KCksCiAgICAgICAgICAgICAgICB9CiAgICAgICAgICAgICkuYWRkVG8obWFwXzg1YzE1OGNjMTMzNjRkNWJhMzIxY2Y3YzMzM2RiYzllKTsKICAgICAgICAKICAgIAogICAgICAgICAgICB2YXIgcG9wdXBfMTJiMTc5OTMwMzNjNDAxNzk0ZDEwZDE2MWE0ZjFlZjEgPSBMLnBvcHVwKHttYXhXaWR0aDogJzEwMCUnCiAgICAgICAgICAgIAogICAgICAgICAgICB9KTsKCiAgICAgICAgICAgIAogICAgICAgICAgICAgICAgdmFyIGh0bWxfMGRmN2Y3NTM1NWU3NDc1ZjhhOTZlZjQwODkyNDA5M2QgPSAkKGA8ZGl2IGlkPSJodG1sXzBkZjdmNzUzNTVlNzQ3NWY4YTk2ZWY0MDg5MjQwOTNkIiBzdHlsZT0id2lkdGg6IDEwMC4wJTsgaGVpZ2h0OiAxMDAuMCU7Ij5YT1hDaGFVaGdkZVJLeU5yNlUzdmFBPC9kaXY+YClbMF07CiAgICAgICAgICAgICAgICBwb3B1cF8xMmIxNzk5MzAzM2M0MDE3OTRkMTBkMTYxYTRmMWVmMS5zZXRDb250ZW50KGh0bWxfMGRmN2Y3NTM1NWU3NDc1ZjhhOTZlZjQwODkyNDA5M2QpOwogICAgICAgICAgICAKCiAgICAgICAgICAgIG1hcmtlcl9iYTkzZjRmMDNhMzc0ZTMwOTVkMzc5MWMzNjU3ZTU1YS5iaW5kUG9wdXAocG9wdXBfMTJiMTc5OTMwMzNjNDAxNzk0ZDEwZDE2MWE0ZjFlZjEpCiAgICAgICAgICAgIDsKCiAgICAgICAgICAgIAogICAgICAgIAogICAgCiAgICAgICAgdmFyIG1hcmtlcl9iYWQyNDVhMmEzYjI0OGNjODQ0ZTU3NDlkNTlhNmUyNSA9IEwubWFya2VyKAogICAgICAgICAgICBbNDAuNzU4NzUwNzYsIC03My45NzM1NTYzM10sCiAgICAgICAgICAgIHsKICAgICAgICAgICAgICAgIGljb246IG5ldyBMLkljb24uRGVmYXVsdCgpLAogICAgICAgICAgICAgICAgfQogICAgICAgICAgICApLmFkZFRvKG1hcF84NWMxNThjYzEzMzY0ZDViYTMyMWNmN2MzMzNkYmM5ZSk7CiAgICAgICAgCiAgICAKICAgICAgICAgICAgdmFyIHBvcHVwXzRkOTFjNWU1MzFjYzQxMWJhMjZiOTE5Y2E3MjdmNGM5ID0gTC5wb3B1cCh7bWF4V2lkdGg6ICcxMDAlJwogICAgICAgICAgICAKICAgICAgICAgICAgfSk7CgogICAgICAgICAgICAKICAgICAgICAgICAgICAgIHZhciBodG1sXzI1MjI5MGM1NmFlMzQ4YzdiMmJmYWE0Zjk1YTY0NGJlID0gJChgPGRpdiBpZD0iaHRtbF8yNTIyOTBjNTZhZTM0OGM3YjJiZmFhNGY5NWE2NDRiZSIgc3R5bGU9IndpZHRoOiAxMDAuMCU7IGhlaWdodDogMTAwLjAlOyI+OFVwWXNCV296TGhEcmlyeUtfd3dVQTwvZGl2PmApWzBdOwogICAgICAgICAgICAgICAgcG9wdXBfNGQ5MWM1ZTUzMWNjNDExYmEyNmI5MTljYTcyN2Y0Yzkuc2V0Q29udGVudChodG1sXzI1MjI5MGM1NmFlMzQ4YzdiMmJmYWE0Zjk1YTY0NGJlKTsKICAgICAgICAgICAgCgogICAgICAgICAgICBtYXJrZXJfYmFkMjQ1YTJhM2IyNDhjYzg0NGU1NzQ5ZDU5YTZlMjUuYmluZFBvcHVwKHBvcHVwXzRkOTFjNWU1MzFjYzQxMWJhMjZiOTE5Y2E3MjdmNGM5KQogICAgICAgICAgICA7CgogICAgICAgICAgICAKICAgICAgICAKICAgIAogICAgICAgIHZhciBtYXJrZXJfZjZjZjQ5ZTQ3MDEyNGM4MGFhNTJlM2Y3M2FhZGNmODcgPSBMLm1hcmtlcigKICAgICAgICAgICAgWzQwLjc2MTY5NTg2MTgxNjQsIC03My45ODE3OTYyNjQ2NDg0XSwKICAgICAgICAgICAgewogICAgICAgICAgICAgICAgaWNvbjogbmV3IEwuSWNvbi5EZWZhdWx0KCksCiAgICAgICAgICAgICAgICB9CiAgICAgICAgICAgICkuYWRkVG8obWFwXzg1YzE1OGNjMTMzNjRkNWJhMzIxY2Y3YzMzM2RiYzllKTsKICAgICAgICAKICAgIAogICAgICAgICAgICB2YXIgcG9wdXBfNmM4ZTc0NDIwNTY0NDNkNGE1NzhiNWRhOWQxOWY5YjEgPSBMLnBvcHVwKHttYXhXaWR0aDogJzEwMCUnCiAgICAgICAgICAgIAogICAgICAgICAgICB9KTsKCiAgICAgICAgICAgIAogICAgICAgICAgICAgICAgdmFyIGh0bWxfNGQ4OGNlMzRlOThhNGFmYWJlOGExMmRlYmNiZDIzZDYgPSAkKGA8ZGl2IGlkPSJodG1sXzRkODhjZTM0ZTk4YTRhZmFiZThhMTJkZWJjYmQyM2Q2IiBzdHlsZT0id2lkdGg6IDEwMC4wJTsgaGVpZ2h0OiAxMDAuMCU7Ij5zbkNvc1B5WU8xRy1TRHhNczB1bHB3PC9kaXY+YClbMF07CiAgICAgICAgICAgICAgICBwb3B1cF82YzhlNzQ0MjA1NjQ0M2Q0YTU3OGI1ZGE5ZDE5ZjliMS5zZXRDb250ZW50KGh0bWxfNGQ4OGNlMzRlOThhNGFmYWJlOGExMmRlYmNiZDIzZDYpOwogICAgICAgICAgICAKCiAgICAgICAgICAgIG1hcmtlcl9mNmNmNDllNDcwMTI0YzgwYWE1MmUzZjczYWFkY2Y4Ny5iaW5kUG9wdXAocG9wdXBfNmM4ZTc0NDIwNTY0NDNkNGE1NzhiNWRhOWQxOWY5YjEpCiAgICAgICAgICAgIDsKCiAgICAgICAgICAgIAogICAgICAgIAogICAgCiAgICAgICAgdmFyIG1hcmtlcl80MTM3ZWZhNDhhMjc0ZWRlYmIwZDg1YjY2OTkyNjgzZiA9IEwubWFya2VyKAogICAgICAgICAgICBbNDAuNzU2NTA0LCAtNzMuOTczMzVdLAogICAgICAgICAgICB7CiAgICAgICAgICAgICAgICBpY29uOiBuZXcgTC5JY29uLkRlZmF1bHQoKSwKICAgICAgICAgICAgICAgIH0KICAgICAgICAgICAgKS5hZGRUbyhtYXBfODVjMTU4Y2MxMzM2NGQ1YmEzMjFjZjdjMzMzZGJjOWUpOwogICAgICAgIAogICAgCiAgICAgICAgICAgIHZhciBwb3B1cF80YjIyNjUxOTNmMzY0M2JiYTJiOTUwOGFmMGMwMWQwYSA9IEwucG9wdXAoe21heFdpZHRoOiAnMTAwJScKICAgICAgICAgICAgCiAgICAgICAgICAgIH0pOwoKICAgICAgICAgICAgCiAgICAgICAgICAgICAgICB2YXIgaHRtbF8zNTRkMGQ2NWQ4YTc0MmJmODU5MWY1ZmExZDY4MGNhNyA9ICQoYDxkaXYgaWQ9Imh0bWxfMzU0ZDBkNjVkOGE3NDJiZjg1OTFmNWZhMWQ2ODBjYTciIHN0eWxlPSJ3aWR0aDogMTAwLjAlOyBoZWlnaHQ6IDEwMC4wJTsiPjUtSjBvMzFGOFo5VTlPZDYwb3otQVE8L2Rpdj5gKVswXTsKICAgICAgICAgICAgICAgIHBvcHVwXzRiMjI2NTE5M2YzNjQzYmJhMmI5NTA4YWYwYzAxZDBhLnNldENvbnRlbnQoaHRtbF8zNTRkMGQ2NWQ4YTc0MmJmODU5MWY1ZmExZDY4MGNhNyk7CiAgICAgICAgICAgIAoKICAgICAgICAgICAgbWFya2VyXzQxMzdlZmE0OGEyNzRlZGViYjBkODViNjY5OTI2ODNmLmJpbmRQb3B1cChwb3B1cF80YjIyNjUxOTNmMzY0M2JiYTJiOTUwOGFmMGMwMWQwYSkKICAgICAgICAgICAgOwoKICAgICAgICAgICAgCiAgICAgICAgCiAgICAKICAgICAgICB2YXIgbWFya2VyXzM1OGRkNjYwMTBkNjQzYWVhZDk0MDViOGQ0MDZmZDA1ID0gTC5tYXJrZXIoCiAgICAgICAgICAgIFs0MC43NjA3MzYsIC03My45ODM3ODJdLAogICAgICAgICAgICB7CiAgICAgICAgICAgICAgICBpY29uOiBuZXcgTC5JY29uLkRlZmF1bHQoKSwKICAgICAgICAgICAgICAgIH0KICAgICAgICAgICAgKS5hZGRUbyhtYXBfODVjMTU4Y2MxMzM2NGQ1YmEzMjFjZjdjMzMzZGJjOWUpOwogICAgICAgIAogICAgCiAgICAgICAgICAgIHZhciBwb3B1cF9hZDIxMTQxNmQ3OWQ0YTRjODU1NDYwNWViMWZmYWI2NCA9IEwucG9wdXAoe21heFdpZHRoOiAnMTAwJScKICAgICAgICAgICAgCiAgICAgICAgICAgIH0pOwoKICAgICAgICAgICAgCiAgICAgICAgICAgICAgICB2YXIgaHRtbF8yNmI2NTY4OWY3YTg0ZDc0YWQ4Y2NhYWI2MWQ2NjZmOSA9ICQoYDxkaXYgaWQ9Imh0bWxfMjZiNjU2ODlmN2E4NGQ3NGFkOGNjYWFiNjFkNjY2ZjkiIHN0eWxlPSJ3aWR0aDogMTAwLjAlOyBoZWlnaHQ6IDEwMC4wJTsiPkctUDFWS1VuYkRDMVR4Vnd3dFM0WHc8L2Rpdj5gKVswXTsKICAgICAgICAgICAgICAgIHBvcHVwX2FkMjExNDE2ZDc5ZDRhNGM4NTU0NjA1ZWIxZmZhYjY0LnNldENvbnRlbnQoaHRtbF8yNmI2NTY4OWY3YTg0ZDc0YWQ4Y2NhYWI2MWQ2NjZmOSk7CiAgICAgICAgICAgIAoKICAgICAgICAgICAgbWFya2VyXzM1OGRkNjYwMTBkNjQzYWVhZDk0MDViOGQ0MDZmZDA1LmJpbmRQb3B1cChwb3B1cF9hZDIxMTQxNmQ3OWQ0YTRjODU1NDYwNWViMWZmYWI2NCkKICAgICAgICAgICAgOwoKICAgICAgICAgICAgCiAgICAgICAgCiAgICAKICAgICAgICB2YXIgbWFya2VyX2ZlNTJjOTQ4YjBjNTQ0NmRhODU3ODIwNmI3Y2RmMTQyID0gTC5tYXJrZXIoCiAgICAgICAgICAgIFs0MC43NjAxODksIC03My45ODQzNTldLAogICAgICAgICAgICB7CiAgICAgICAgICAgICAgICBpY29uOiBuZXcgTC5JY29uLkRlZmF1bHQoKSwKICAgICAgICAgICAgICAgIH0KICAgICAgICAgICAgKS5hZGRUbyhtYXBfODVjMTU4Y2MxMzM2NGQ1YmEzMjFjZjdjMzMzZGJjOWUpOwogICAgICAgIAogICAgCiAgICAgICAgICAgIHZhciBwb3B1cF8zY2VlMjQ5NzQ0MjQ0NDIxODg1NmIyZjRkZmQ3YmNjMyA9IEwucG9wdXAoe21heFdpZHRoOiAnMTAwJScKICAgICAgICAgICAgCiAgICAgICAgICAgIH0pOwoKICAgICAgICAgICAgCiAgICAgICAgICAgICAgICB2YXIgaHRtbF84M2NkNjVhY2ViY2I0OTQyYTlhNjc5OGNjM2ViYmY1YyA9ICQoYDxkaXYgaWQ9Imh0bWxfODNjZDY1YWNlYmNiNDk0MmE5YTY3OThjYzNlYmJmNWMiIHN0eWxlPSJ3aWR0aDogMTAwLjAlOyBoZWlnaHQ6IDEwMC4wJTsiPkFZamh0ZmVpX29pWFNJNFZqNkJIN0E8L2Rpdj5gKVswXTsKICAgICAgICAgICAgICAgIHBvcHVwXzNjZWUyNDk3NDQyNDQ0MjE4ODU2YjJmNGRmZDdiY2MzLnNldENvbnRlbnQoaHRtbF84M2NkNjVhY2ViY2I0OTQyYTlhNjc5OGNjM2ViYmY1Yyk7CiAgICAgICAgICAgIAoKICAgICAgICAgICAgbWFya2VyX2ZlNTJjOTQ4YjBjNTQ0NmRhODU3ODIwNmI3Y2RmMTQyLmJpbmRQb3B1cChwb3B1cF8zY2VlMjQ5NzQ0MjQ0NDIxODg1NmIyZjRkZmQ3YmNjMykKICAgICAgICAgICAgOwoKICAgICAgICAgICAgCiAgICAgICAgCiAgICAKICAgICAgICB2YXIgbWFya2VyXzE4MTc1MDMyNGVmYTRlZWU5YWIzMWY0YmZhNjI0OWU1ID0gTC5tYXJrZXIoCiAgICAgICAgICAgIFs0MC43NjM2MzIsIC03My45NzczNTNdLAogICAgICAgICAgICB7CiAgICAgICAgICAgICAgICBpY29uOiBuZXcgTC5JY29uLkRlZmF1bHQoKSwKICAgICAgICAgICAgICAgIH0KICAgICAgICAgICAgKS5hZGRUbyhtYXBfODVjMTU4Y2MxMzM2NGQ1YmEzMjFjZjdjMzMzZGJjOWUpOwogICAgICAgIAogICAgCiAgICAgICAgICAgIHZhciBwb3B1cF9hMjBhZjBjNTFiOWM0YzljYThmZjNhODE3ZWFlYzcyMCA9IEwucG9wdXAoe21heFdpZHRoOiAnMTAwJScKICAgICAgICAgICAgCiAgICAgICAgICAgIH0pOwoKICAgICAgICAgICAgCiAgICAgICAgICAgICAgICB2YXIgaHRtbF9kNjM4OWIwMTZlYjE0MGExOWRhYmUwN2IzOWM0ZGIwZiA9ICQoYDxkaXYgaWQ9Imh0bWxfZDYzODliMDE2ZWIxNDBhMTlkYWJlMDdiMzljNGRiMGYiIHN0eWxlPSJ3aWR0aDogMTAwLjAlOyBoZWlnaHQ6IDEwMC4wJTsiPlhUMFhtdFRzWjBzMnpCdEZCeHJSZkE8L2Rpdj5gKVswXTsKICAgICAgICAgICAgICAgIHBvcHVwX2EyMGFmMGM1MWI5YzRjOWNhOGZmM2E4MTdlYWVjNzIwLnNldENvbnRlbnQoaHRtbF9kNjM4OWIwMTZlYjE0MGExOWRhYmUwN2IzOWM0ZGIwZik7CiAgICAgICAgICAgIAoKICAgICAgICAgICAgbWFya2VyXzE4MTc1MDMyNGVmYTRlZWU5YWIzMWY0YmZhNjI0OWU1LmJpbmRQb3B1cChwb3B1cF9hMjBhZjBjNTFiOWM0YzljYThmZjNhODE3ZWFlYzcyMCkKICAgICAgICAgICAgOwoKICAgICAgICAgICAgCiAgICAgICAgCiAgICAKICAgICAgICB2YXIgbWFya2VyXzYyODE0OWMxY2NkMzQzYjNhODUxYTAzYTEzNDRhM2M4ID0gTC5tYXJrZXIoCiAgICAgICAgICAgIFs0MC43NTY4MzYsIC03My45NzI4M10sCiAgICAgICAgICAgIHsKICAgICAgICAgICAgICAgIGljb246IG5ldyBMLkljb24uRGVmYXVsdCgpLAogICAgICAgICAgICAgICAgfQogICAgICAgICAgICApLmFkZFRvKG1hcF84NWMxNThjYzEzMzY0ZDViYTMyMWNmN2MzMzNkYmM5ZSk7CiAgICAgICAgCiAgICAKICAgICAgICAgICAgdmFyIHBvcHVwX2ZmODVhZWFlY2RiMTQ3N2FhZmI3YTZlOTM0NTA4NTI4ID0gTC5wb3B1cCh7bWF4V2lkdGg6ICcxMDAlJwogICAgICAgICAgICAKICAgICAgICAgICAgfSk7CgogICAgICAgICAgICAKICAgICAgICAgICAgICAgIHZhciBodG1sXzk2NjdiNDA0OWEyYzQzMzNiMmZkZWY2Njk0OWI0MjM1ID0gJChgPGRpdiBpZD0iaHRtbF85NjY3YjQwNDlhMmM0MzMzYjJmZGVmNjY5NDliNDIzNSIgc3R5bGU9IndpZHRoOiAxMDAuMCU7IGhlaWdodDogMTAwLjAlOyI+M3puczJDVUE0U1c0WDVyWEY4ckQyZzwvZGl2PmApWzBdOwogICAgICAgICAgICAgICAgcG9wdXBfZmY4NWFlYWVjZGIxNDc3YWFmYjdhNmU5MzQ1MDg1Mjguc2V0Q29udGVudChodG1sXzk2NjdiNDA0OWEyYzQzMzNiMmZkZWY2Njk0OWI0MjM1KTsKICAgICAgICAgICAgCgogICAgICAgICAgICBtYXJrZXJfNjI4MTQ5YzFjY2QzNDNiM2E4NTFhMDNhMTM0NGEzYzguYmluZFBvcHVwKHBvcHVwX2ZmODVhZWFlY2RiMTQ3N2FhZmI3YTZlOTM0NTA4NTI4KQogICAgICAgICAgICA7CgogICAgICAgICAgICAKICAgICAgICAKICAgIAogICAgICAgIHZhciBtYXJrZXJfNjhlNzM1Mjk5NWY0NDg2NDk3ZWY2NWI2ZGI5MTExNWEgPSBMLm1hcmtlcigKICAgICAgICAgICAgWzQwLjc1MzkwMSwgLTczLjk3ODY5M10sCiAgICAgICAgICAgIHsKICAgICAgICAgICAgICAgIGljb246IG5ldyBMLkljb24uRGVmYXVsdCgpLAogICAgICAgICAgICAgICAgfQogICAgICAgICAgICApLmFkZFRvKG1hcF84NWMxNThjYzEzMzY0ZDViYTMyMWNmN2MzMzNkYmM5ZSk7CiAgICAgICAgCiAgICAKICAgICAgICAgICAgdmFyIHBvcHVwX2MzNjA5ODBjNGQ2YTRiNTQ5YWU3MmUyOGU2ODMwYmI2ID0gTC5wb3B1cCh7bWF4V2lkdGg6ICcxMDAlJwogICAgICAgICAgICAKICAgICAgICAgICAgfSk7CgogICAgICAgICAgICAKICAgICAgICAgICAgICAgIHZhciBodG1sXzQyNDY0YWFmODRkNTQ5ZDA4YTg4NjQ3ZGEzZmNiYmYzID0gJChgPGRpdiBpZD0iaHRtbF80MjQ2NGFhZjg0ZDU0OWQwOGE4ODY0N2RhM2ZjYmJmMyIgc3R5bGU9IndpZHRoOiAxMDAuMCU7IGhlaWdodDogMTAwLjAlOyI+MmJmQ2xEblF1WXNHaHRVNDZqZF9RUTwvZGl2PmApWzBdOwogICAgICAgICAgICAgICAgcG9wdXBfYzM2MDk4MGM0ZDZhNGI1NDlhZTcyZTI4ZTY4MzBiYjYuc2V0Q29udGVudChodG1sXzQyNDY0YWFmODRkNTQ5ZDA4YTg4NjQ3ZGEzZmNiYmYzKTsKICAgICAgICAgICAgCgogICAgICAgICAgICBtYXJrZXJfNjhlNzM1Mjk5NWY0NDg2NDk3ZWY2NWI2ZGI5MTExNWEuYmluZFBvcHVwKHBvcHVwX2MzNjA5ODBjNGQ2YTRiNTQ5YWU3MmUyOGU2ODMwYmI2KQogICAgICAgICAgICA7CgogICAgICAgICAgICAKICAgICAgICAKICAgIAogICAgICAgIHZhciBtYXJrZXJfOTM5Y2U2NjRiNTA1NDA3NzljMjkyNGQ0NzY1NGFkY2EgPSBMLm1hcmtlcigKICAgICAgICAgICAgWzQwLjc1NDIyMiwgLTczLjk3NjM2XSwKICAgICAgICAgICAgewogICAgICAgICAgICAgICAgaWNvbjogbmV3IEwuSWNvbi5EZWZhdWx0KCksCiAgICAgICAgICAgICAgICB9CiAgICAgICAgICAgICkuYWRkVG8obWFwXzg1YzE1OGNjMTMzNjRkNWJhMzIxY2Y3YzMzM2RiYzllKTsKICAgICAgICAKICAgIAogICAgICAgICAgICB2YXIgcG9wdXBfMjhlZDJmNDNlOGQ2NDVjZTkwZDFkNjMyZjNmZDI0MGYgPSBMLnBvcHVwKHttYXhXaWR0aDogJzEwMCUnCiAgICAgICAgICAgIAogICAgICAgICAgICB9KTsKCiAgICAgICAgICAgIAogICAgICAgICAgICAgICAgdmFyIGh0bWxfOWJkM2E5MjhkN2I3NDdkODgwZTQ0NjVjMTRjMTU1MWUgPSAkKGA8ZGl2IGlkPSJodG1sXzliZDNhOTI4ZDdiNzQ3ZDg4MGU0NDY1YzE0YzE1NTFlIiBzdHlsZT0id2lkdGg6IDEwMC4wJTsgaGVpZ2h0OiAxMDAuMCU7Ij5fU0lKNDd5Y1dpQlNDY29MRWFMSE1nPC9kaXY+YClbMF07CiAgICAgICAgICAgICAgICBwb3B1cF8yOGVkMmY0M2U4ZDY0NWNlOTBkMWQ2MzJmM2ZkMjQwZi5zZXRDb250ZW50KGh0bWxfOWJkM2E5MjhkN2I3NDdkODgwZTQ0NjVjMTRjMTU1MWUpOwogICAgICAgICAgICAKCiAgICAgICAgICAgIG1hcmtlcl85MzljZTY2NGI1MDU0MDc3OWMyOTI0ZDQ3NjU0YWRjYS5iaW5kUG9wdXAocG9wdXBfMjhlZDJmNDNlOGQ2NDVjZTkwZDFkNjMyZjNmZDI0MGYpCiAgICAgICAgICAgIDsKCiAgICAgICAgICAgIAogICAgICAgIAogICAgCiAgICAgICAgdmFyIG1hcmtlcl8wNmU0MTM0MjU4NTI0ZWE3ODFjNDFjMWNiY2IwYWIzNyA9IEwubWFya2VyKAogICAgICAgICAgICBbNDAuNzU5NjM2LCAtNzMuOTg1MjIyXSwKICAgICAgICAgICAgewogICAgICAgICAgICAgICAgaWNvbjogbmV3IEwuSWNvbi5EZWZhdWx0KCksCiAgICAgICAgICAgICAgICB9CiAgICAgICAgICAgICkuYWRkVG8obWFwXzg1YzE1OGNjMTMzNjRkNWJhMzIxY2Y3YzMzM2RiYzllKTsKICAgICAgICAKICAgIAogICAgICAgICAgICB2YXIgcG9wdXBfY2EyY2ZhMzMzNWQ2NDI5M2JmMWI5MjA4MjIzOGRlOTYgPSBMLnBvcHVwKHttYXhXaWR0aDogJzEwMCUnCiAgICAgICAgICAgIAogICAgICAgICAgICB9KTsKCiAgICAgICAgICAgIAogICAgICAgICAgICAgICAgdmFyIGh0bWxfMDA3YTcyYTU5MGNhNDVmYWE5ZDQ1YWNmYzcyMzA2YmQgPSAkKGA8ZGl2IGlkPSJodG1sXzAwN2E3MmE1OTBjYTQ1ZmFhOWQ0NWFjZmM3MjMwNmJkIiBzdHlsZT0id2lkdGg6IDEwMC4wJTsgaGVpZ2h0OiAxMDAuMCU7Ij5jVm52TG1pTEVxQnhuX0s1Rkhrd3BRPC9kaXY+YClbMF07CiAgICAgICAgICAgICAgICBwb3B1cF9jYTJjZmEzMzM1ZDY0MjkzYmYxYjkyMDgyMjM4ZGU5Ni5zZXRDb250ZW50KGh0bWxfMDA3YTcyYTU5MGNhNDVmYWE5ZDQ1YWNmYzcyMzA2YmQpOwogICAgICAgICAgICAKCiAgICAgICAgICAgIG1hcmtlcl8wNmU0MTM0MjU4NTI0ZWE3ODFjNDFjMWNiY2IwYWIzNy5iaW5kUG9wdXAocG9wdXBfY2EyY2ZhMzMzNWQ2NDI5M2JmMWI5MjA4MjIzOGRlOTYpCiAgICAgICAgICAgIDsKCiAgICAgICAgICAgIAogICAgICAgIAogICAgCiAgICAgICAgdmFyIG1hcmtlcl9iMWM5YTVhYjY3NzI0Y2YzOTIwOWRiYjZjMzY3MTc5NSA9IEwubWFya2VyKAogICAgICAgICAgICBbNDAuNzYzOTksIC03My45Nzg4ODRdLAogICAgICAgICAgICB7CiAgICAgICAgICAgICAgICBpY29uOiBuZXcgTC5JY29uLkRlZmF1bHQoKSwKICAgICAgICAgICAgICAgIH0KICAgICAgICAgICAgKS5hZGRUbyhtYXBfODVjMTU4Y2MxMzM2NGQ1YmEzMjFjZjdjMzMzZGJjOWUpOwogICAgICAgIAogICAgCiAgICAgICAgICAgIHZhciBwb3B1cF8yNTA1YzY0MTVmZjc0ZmVkOTZmNzA2NTViNzg3NjIzMSA9IEwucG9wdXAoe21heFdpZHRoOiAnMTAwJScKICAgICAgICAgICAgCiAgICAgICAgICAgIH0pOwoKICAgICAgICAgICAgCiAgICAgICAgICAgICAgICB2YXIgaHRtbF9hZWY4NjU1ZTRhN2Q0M2I1YjEzYTgwZTkzYWM1MzE2ZSA9ICQoYDxkaXYgaWQ9Imh0bWxfYWVmODY1NWU0YTdkNDNiNWIxM2E4MGU5M2FjNTMxNmUiIHN0eWxlPSJ3aWR0aDogMTAwLjAlOyBoZWlnaHQ6IDEwMC4wJTsiPmhvQWdVNnJ2aEJ1Y3BnUGZod1RRNVE8L2Rpdj5gKVswXTsKICAgICAgICAgICAgICAgIHBvcHVwXzI1MDVjNjQxNWZmNzRmZWQ5NmY3MDY1NWI3ODc2MjMxLnNldENvbnRlbnQoaHRtbF9hZWY4NjU1ZTRhN2Q0M2I1YjEzYTgwZTkzYWM1MzE2ZSk7CiAgICAgICAgICAgIAoKICAgICAgICAgICAgbWFya2VyX2IxYzlhNWFiNjc3MjRjZjM5MjA5ZGJiNmMzNjcxNzk1LmJpbmRQb3B1cChwb3B1cF8yNTA1YzY0MTVmZjc0ZmVkOTZmNzA2NTViNzg3NjIzMSkKICAgICAgICAgICAgOwoKICAgICAgICAgICAgCiAgICAgICAgCiAgICAKICAgICAgICB2YXIgbWFya2VyXzNiZWE2YjY5NDEyZTRkZTFiNDdlMjQ0MWE1YWFjZjU2ID0gTC5tYXJrZXIoCiAgICAgICAgICAgIFs0MC43NTM2MDg3ODk3MzcxLCAtNzMuOTc4MjcyMzc4NDQ0N10sCiAgICAgICAgICAgIHsKICAgICAgICAgICAgICAgIGljb246IG5ldyBMLkljb24uRGVmYXVsdCgpLAogICAgICAgICAgICAgICAgfQogICAgICAgICAgICApLmFkZFRvKG1hcF84NWMxNThjYzEzMzY0ZDViYTMyMWNmN2MzMzNkYmM5ZSk7CiAgICAgICAgCiAgICAKICAgICAgICAgICAgdmFyIHBvcHVwXzMwNTMyOTU5YzZhYjRjMjc4ZmJhOTBiOWFiZGM2YzE3ID0gTC5wb3B1cCh7bWF4V2lkdGg6ICcxMDAlJwogICAgICAgICAgICAKICAgICAgICAgICAgfSk7CgogICAgICAgICAgICAKICAgICAgICAgICAgICAgIHZhciBodG1sX2Q2NTEyZTUyYmQ1ZTQ2ZmJhYzZkOWQ4MDNlODBlNGRjID0gJChgPGRpdiBpZD0iaHRtbF9kNjUxMmU1MmJkNWU0NmZiYWM2ZDlkODAzZTgwZTRkYyIgc3R5bGU9IndpZHRoOiAxMDAuMCU7IGhlaWdodDogMTAwLjAlOyI+dUFyc19SeEpwZzFaRmY0NV83NkdodzwvZGl2PmApWzBdOwogICAgICAgICAgICAgICAgcG9wdXBfMzA1MzI5NTljNmFiNGMyNzhmYmE5MGI5YWJkYzZjMTcuc2V0Q29udGVudChodG1sX2Q2NTEyZTUyYmQ1ZTQ2ZmJhYzZkOWQ4MDNlODBlNGRjKTsKICAgICAgICAgICAgCgogICAgICAgICAgICBtYXJrZXJfM2JlYTZiNjk0MTJlNGRlMWI0N2UyNDQxYTVhYWNmNTYuYmluZFBvcHVwKHBvcHVwXzMwNTMyOTU5YzZhYjRjMjc4ZmJhOTBiOWFiZGM2YzE3KQogICAgICAgICAgICA7CgogICAgICAgICAgICAKICAgICAgICAKICAgIAogICAgICAgIHZhciBtYXJrZXJfZGNhZDU2NGQwY2U4NGI4MWE1Zjc0OGI2NmJiMTM2ODEgPSBMLm1hcmtlcigKICAgICAgICAgICAgWzQwLjc2MjcyNSwgLTczLjk3NDAwMl0sCiAgICAgICAgICAgIHsKICAgICAgICAgICAgICAgIGljb246IG5ldyBMLkljb24uRGVmYXVsdCgpLAogICAgICAgICAgICAgICAgfQogICAgICAgICAgICApLmFkZFRvKG1hcF84NWMxNThjYzEzMzY0ZDViYTMyMWNmN2MzMzNkYmM5ZSk7CiAgICAgICAgCiAgICAKICAgICAgICAgICAgdmFyIHBvcHVwXzcxMDRkMjY2YTNiYTQ4OGM4MmVkNWU2YjRiYWU2ZTNjID0gTC5wb3B1cCh7bWF4V2lkdGg6ICcxMDAlJwogICAgICAgICAgICAKICAgICAgICAgICAgfSk7CgogICAgICAgICAgICAKICAgICAgICAgICAgICAgIHZhciBodG1sXzg3OTdiNDc4MzQ0MzRlNmM4MmVkMzRlMjA0Y2NlMWZhID0gJChgPGRpdiBpZD0iaHRtbF84Nzk3YjQ3ODM0NDM0ZTZjODJlZDM0ZTIwNGNjZTFmYSIgc3R5bGU9IndpZHRoOiAxMDAuMCU7IGhlaWdodDogMTAwLjAlOyI+cmtRb0tLdHk5Y3JVOFJQMEc4X2lQQTwvZGl2PmApWzBdOwogICAgICAgICAgICAgICAgcG9wdXBfNzEwNGQyNjZhM2JhNDg4YzgyZWQ1ZTZiNGJhZTZlM2Muc2V0Q29udGVudChodG1sXzg3OTdiNDc4MzQ0MzRlNmM4MmVkMzRlMjA0Y2NlMWZhKTsKICAgICAgICAgICAgCgogICAgICAgICAgICBtYXJrZXJfZGNhZDU2NGQwY2U4NGI4MWE1Zjc0OGI2NmJiMTM2ODEuYmluZFBvcHVwKHBvcHVwXzcxMDRkMjY2YTNiYTQ4OGM4MmVkNWU2YjRiYWU2ZTNjKQogICAgICAgICAgICA7CgogICAgICAgICAgICAKICAgICAgICAKICAgIAogICAgICAgIHZhciBtYXJrZXJfMjFhZmE4OGI3YzdlNDNiMDgwOTE0MzJjNDA5ZTUwOWIgPSBMLm1hcmtlcigKICAgICAgICAgICAgWzQwLjc2MjQyNiwgLTczLjk4MzYzMzJdLAogICAgICAgICAgICB7CiAgICAgICAgICAgICAgICBpY29uOiBuZXcgTC5JY29uLkRlZmF1bHQoKSwKICAgICAgICAgICAgICAgIH0KICAgICAgICAgICAgKS5hZGRUbyhtYXBfODVjMTU4Y2MxMzM2NGQ1YmEzMjFjZjdjMzMzZGJjOWUpOwogICAgICAgIAogICAgCiAgICAgICAgICAgIHZhciBwb3B1cF9jOWE1NTFiMDYzYWQ0ZTk3OTQyM2FjNTlhYWUxMjExNSA9IEwucG9wdXAoe21heFdpZHRoOiAnMTAwJScKICAgICAgICAgICAgCiAgICAgICAgICAgIH0pOwoKICAgICAgICAgICAgCiAgICAgICAgICAgICAgICB2YXIgaHRtbF9jZmI3YTE0MDVkYWU0M2NlYTVmNmY5OTdhMjAyMWQ4NyA9ICQoYDxkaXYgaWQ9Imh0bWxfY2ZiN2ExNDA1ZGFlNDNjZWE1ZjZmOTk3YTIwMjFkODciIHN0eWxlPSJ3aWR0aDogMTAwLjAlOyBoZWlnaHQ6IDEwMC4wJTsiPndiM2FwUmZobFVvT1BjMFpNVXlJdUE8L2Rpdj5gKVswXTsKICAgICAgICAgICAgICAgIHBvcHVwX2M5YTU1MWIwNjNhZDRlOTc5NDIzYWM1OWFhZTEyMTE1LnNldENvbnRlbnQoaHRtbF9jZmI3YTE0MDVkYWU0M2NlYTVmNmY5OTdhMjAyMWQ4Nyk7CiAgICAgICAgICAgIAoKICAgICAgICAgICAgbWFya2VyXzIxYWZhODhiN2M3ZTQzYjA4MDkxNDMyYzQwOWU1MDliLmJpbmRQb3B1cChwb3B1cF9jOWE1NTFiMDYzYWQ0ZTk3OTQyM2FjNTlhYWUxMjExNSkKICAgICAgICAgICAgOwoKICAgICAgICAgICAgCiAgICAgICAgCiAgICAKICAgICAgICB2YXIgbWFya2VyXzNkZjE0YjMzNDM0MTQ2ZWE4MTA4ODU0ZjZjYTkwZDhlID0gTC5tYXJrZXIoCiAgICAgICAgICAgIFs0MC43NTQ5OTE5MDU1MDE5LCAtNzMuOTgzNzEyNzIzNDI2NV0sCiAgICAgICAgICAgIHsKICAgICAgICAgICAgICAgIGljb246IG5ldyBMLkljb24uRGVmYXVsdCgpLAogICAgICAgICAgICAgICAgfQogICAgICAgICAgICApLmFkZFRvKG1hcF84NWMxNThjYzEzMzY0ZDViYTMyMWNmN2MzMzNkYmM5ZSk7CiAgICAgICAgCiAgICAKICAgICAgICAgICAgdmFyIHBvcHVwX2Q0YzQ5OTc2OTc5MzRhM2RhYzU1M2M4ZWY2ODVmMjU2ID0gTC5wb3B1cCh7bWF4V2lkdGg6ICcxMDAlJwogICAgICAgICAgICAKICAgICAgICAgICAgfSk7CgogICAgICAgICAgICAKICAgICAgICAgICAgICAgIHZhciBodG1sX2FkMzVhOWU3OTlkMzQ1YTdhYWVkODY5N2U2MWY5YmNhID0gJChgPGRpdiBpZD0iaHRtbF9hZDM1YTllNzk5ZDM0NWE3YWFlZDg2OTdlNjFmOWJjYSIgc3R5bGU9IndpZHRoOiAxMDAuMCU7IGhlaWdodDogMTAwLjAlOyI+MGtqcHNQUVg1eW5TWFoxYXVmQml6dzwvZGl2PmApWzBdOwogICAgICAgICAgICAgICAgcG9wdXBfZDRjNDk5NzY5NzkzNGEzZGFjNTUzYzhlZjY4NWYyNTYuc2V0Q29udGVudChodG1sX2FkMzVhOWU3OTlkMzQ1YTdhYWVkODY5N2U2MWY5YmNhKTsKICAgICAgICAgICAgCgogICAgICAgICAgICBtYXJrZXJfM2RmMTRiMzM0MzQxNDZlYTgxMDg4NTRmNmNhOTBkOGUuYmluZFBvcHVwKHBvcHVwX2Q0YzQ5OTc2OTc5MzRhM2RhYzU1M2M4ZWY2ODVmMjU2KQogICAgICAgICAgICA7CgogICAgICAgICAgICAKICAgICAgICAKICAgIAogICAgICAgIHZhciBtYXJrZXJfZmRkN2ZhZWQ3MjEzNGQ0NjljODViNjQ0M2MyYjc1MjcgPSBMLm1hcmtlcigKICAgICAgICAgICAgWzQwLjc1NDkwMywgLTczLjk4MzgyNF0sCiAgICAgICAgICAgIHsKICAgICAgICAgICAgICAgIGljb246IG5ldyBMLkljb24uRGVmYXVsdCgpLAogICAgICAgICAgICAgICAgfQogICAgICAgICAgICApLmFkZFRvKG1hcF84NWMxNThjYzEzMzY0ZDViYTMyMWNmN2MzMzNkYmM5ZSk7CiAgICAgICAgCiAgICAKICAgICAgICAgICAgdmFyIHBvcHVwXzM2ZTA1NzA4ODEyOTQxMzI4YTM0YzEyNzI0NjZhZTY0ID0gTC5wb3B1cCh7bWF4V2lkdGg6ICcxMDAlJwogICAgICAgICAgICAKICAgICAgICAgICAgfSk7CgogICAgICAgICAgICAKICAgICAgICAgICAgICAgIHZhciBodG1sXzM3MWE3YWMwM2UxMjQwYTVhZWY2MDBkMTY2ZDY3NjdjID0gJChgPGRpdiBpZD0iaHRtbF8zNzFhN2FjMDNlMTI0MGE1YWVmNjAwZDE2NmQ2NzY3YyIgc3R5bGU9IndpZHRoOiAxMDAuMCU7IGhlaWdodDogMTAwLjAlOyI+SEJMSXNFTWduTlN4ZE1JdGFUU2JFQTwvZGl2PmApWzBdOwogICAgICAgICAgICAgICAgcG9wdXBfMzZlMDU3MDg4MTI5NDEzMjhhMzRjMTI3MjQ2NmFlNjQuc2V0Q29udGVudChodG1sXzM3MWE3YWMwM2UxMjQwYTVhZWY2MDBkMTY2ZDY3NjdjKTsKICAgICAgICAgICAgCgogICAgICAgICAgICBtYXJrZXJfZmRkN2ZhZWQ3MjEzNGQ0NjljODViNjQ0M2MyYjc1MjcuYmluZFBvcHVwKHBvcHVwXzM2ZTA1NzA4ODEyOTQxMzI4YTM0YzEyNzI0NjZhZTY0KQogICAgICAgICAgICA7CgogICAgICAgICAgICAKICAgICAgICAKICAgIAogICAgICAgIHZhciBtYXJrZXJfNDUxNDg1OGZmY2QwNDc2Mjk4ODZmM2NjZmFhNDgwMTkgPSBMLm1hcmtlcigKICAgICAgICAgICAgWzQwLjc2MzczNSwgLTczLjk4MjM0NF0sCiAgICAgICAgICAgIHsKICAgICAgICAgICAgICAgIGljb246IG5ldyBMLkljb24uRGVmYXVsdCgpLAogICAgICAgICAgICAgICAgfQogICAgICAgICAgICApLmFkZFRvKG1hcF84NWMxNThjYzEzMzY0ZDViYTMyMWNmN2MzMzNkYmM5ZSk7CiAgICAgICAgCiAgICAKICAgICAgICAgICAgdmFyIHBvcHVwXzUwMzM4ZTQ3OTY0NTQ4YjI5MmMxYzc2NDg4Y2I1M2E4ID0gTC5wb3B1cCh7bWF4V2lkdGg6ICcxMDAlJwogICAgICAgICAgICAKICAgICAgICAgICAgfSk7CgogICAgICAgICAgICAKICAgICAgICAgICAgICAgIHZhciBodG1sX2EzZGE2MjBhNGE5YjRkNzJiNDJlMDVkNzZmZTE2OGE4ID0gJChgPGRpdiBpZD0iaHRtbF9hM2RhNjIwYTRhOWI0ZDcyYjQyZTA1ZDc2ZmUxNjhhOCIgc3R5bGU9IndpZHRoOiAxMDAuMCU7IGhlaWdodDogMTAwLjAlOyI+RHN2WmFQTnp2YWFMaldEOFJIMVM3QTwvZGl2PmApWzBdOwogICAgICAgICAgICAgICAgcG9wdXBfNTAzMzhlNDc5NjQ1NDhiMjkyYzFjNzY0ODhjYjUzYTguc2V0Q29udGVudChodG1sX2EzZGE2MjBhNGE5YjRkNzJiNDJlMDVkNzZmZTE2OGE4KTsKICAgICAgICAgICAgCgogICAgICAgICAgICBtYXJrZXJfNDUxNDg1OGZmY2QwNDc2Mjk4ODZmM2NjZmFhNDgwMTkuYmluZFBvcHVwKHBvcHVwXzUwMzM4ZTQ3OTY0NTQ4YjI5MmMxYzc2NDg4Y2I1M2E4KQogICAgICAgICAgICA7CgogICAgICAgICAgICAKICAgICAgICAKICAgIAogICAgICAgIHZhciBtYXJrZXJfMWUzMWQ1M2QxYmI4NDY5M2JhODM0YTA2ZGIwMzBjMTAgPSBMLm1hcmtlcigKICAgICAgICAgICAgWzQwLjc1MzI3LCAtNzMuOTc3NjA2XSwKICAgICAgICAgICAgewogICAgICAgICAgICAgICAgaWNvbjogbmV3IEwuSWNvbi5EZWZhdWx0KCksCiAgICAgICAgICAgICAgICB9CiAgICAgICAgICAgICkuYWRkVG8obWFwXzg1YzE1OGNjMTMzNjRkNWJhMzIxY2Y3YzMzM2RiYzllKTsKICAgICAgICAKICAgIAogICAgICAgICAgICB2YXIgcG9wdXBfY2Q3NmE3Y2VlNTczNGIwMTlmNzFlZjg3OGM4Y2I0YmUgPSBMLnBvcHVwKHttYXhXaWR0aDogJzEwMCUnCiAgICAgICAgICAgIAogICAgICAgICAgICB9KTsKCiAgICAgICAgICAgIAogICAgICAgICAgICAgICAgdmFyIGh0bWxfMThhNjFmMjFhNjcyNDNkNzk2OGQxZWE2MGM1ZTBhNmIgPSAkKGA8ZGl2IGlkPSJodG1sXzE4YTYxZjIxYTY3MjQzZDc5NjhkMWVhNjBjNWUwYTZiIiBzdHlsZT0id2lkdGg6IDEwMC4wJTsgaGVpZ2h0OiAxMDAuMCU7Ij43YnQtYmR0YjFfTXU3aUs5UjRZOWhnPC9kaXY+YClbMF07CiAgICAgICAgICAgICAgICBwb3B1cF9jZDc2YTdjZWU1NzM0YjAxOWY3MWVmODc4YzhjYjRiZS5zZXRDb250ZW50KGh0bWxfMThhNjFmMjFhNjcyNDNkNzk2OGQxZWE2MGM1ZTBhNmIpOwogICAgICAgICAgICAKCiAgICAgICAgICAgIG1hcmtlcl8xZTMxZDUzZDFiYjg0NjkzYmE4MzRhMDZkYjAzMGMxMC5iaW5kUG9wdXAocG9wdXBfY2Q3NmE3Y2VlNTczNGIwMTlmNzFlZjg3OGM4Y2I0YmUpCiAgICAgICAgICAgIDsKCiAgICAgICAgICAgIAogICAgICAgIAogICAgCiAgICAgICAgdmFyIG1hcmtlcl8yMTdlNjY1OTEzZGE0M2Q5OGJjMDI2YzY0OGEzM2IxNyA9IEwubWFya2VyKAogICAgICAgICAgICBbNDAuNzU0OTk0LCAtNzMuOTczMjYzXSwKICAgICAgICAgICAgewogICAgICAgICAgICAgICAgaWNvbjogbmV3IEwuSWNvbi5EZWZhdWx0KCksCiAgICAgICAgICAgICAgICB9CiAgICAgICAgICAgICkuYWRkVG8obWFwXzg1YzE1OGNjMTMzNjRkNWJhMzIxY2Y3YzMzM2RiYzllKTsKICAgICAgICAKICAgIAogICAgICAgICAgICB2YXIgcG9wdXBfZTBlM2EzNWY1ZmY5NDM3YmFmOWQwYjI1NjE1ZDEyMzUgPSBMLnBvcHVwKHttYXhXaWR0aDogJzEwMCUnCiAgICAgICAgICAgIAogICAgICAgICAgICB9KTsKCiAgICAgICAgICAgIAogICAgICAgICAgICAgICAgdmFyIGh0bWxfMmZhOTZiZjBlNDg4NGZmYWIyZTc3YjA3MzQwNWMwMTYgPSAkKGA8ZGl2IGlkPSJodG1sXzJmYTk2YmYwZTQ4ODRmZmFiMmU3N2IwNzM0MDVjMDE2IiBzdHlsZT0id2lkdGg6IDEwMC4wJTsgaGVpZ2h0OiAxMDAuMCU7Ij5hR2ljbWNvU0YwbUpwNXpKUFNPTDdRPC9kaXY+YClbMF07CiAgICAgICAgICAgICAgICBwb3B1cF9lMGUzYTM1ZjVmZjk0MzdiYWY5ZDBiMjU2MTVkMTIzNS5zZXRDb250ZW50KGh0bWxfMmZhOTZiZjBlNDg4NGZmYWIyZTc3YjA3MzQwNWMwMTYpOwogICAgICAgICAgICAKCiAgICAgICAgICAgIG1hcmtlcl8yMTdlNjY1OTEzZGE0M2Q5OGJjMDI2YzY0OGEzM2IxNy5iaW5kUG9wdXAocG9wdXBfZTBlM2EzNWY1ZmY5NDM3YmFmOWQwYjI1NjE1ZDEyMzUpCiAgICAgICAgICAgIDsKCiAgICAgICAgICAgIAogICAgICAgIAogICAgCiAgICAgICAgdmFyIG1hcmtlcl85YzNiNDg5MTgwMGU0YmMwODEyMDFjYWIyYTUyODI5YSA9IEwubWFya2VyKAogICAgICAgICAgICBbNDAuNzUzMjA0LCAtNzMuOTc5Nzk4XSwKICAgICAgICAgICAgewogICAgICAgICAgICAgICAgaWNvbjogbmV3IEwuSWNvbi5EZWZhdWx0KCksCiAgICAgICAgICAgICAgICB9CiAgICAgICAgICAgICkuYWRkVG8obWFwXzg1YzE1OGNjMTMzNjRkNWJhMzIxY2Y3YzMzM2RiYzllKTsKICAgICAgICAKICAgIAogICAgICAgICAgICB2YXIgcG9wdXBfZjg3YzgxMTVmMGFjNDFiMzk1Y2RkOGQzOWY2YWMwZWMgPSBMLnBvcHVwKHttYXhXaWR0aDogJzEwMCUnCiAgICAgICAgICAgIAogICAgICAgICAgICB9KTsKCiAgICAgICAgICAgIAogICAgICAgICAgICAgICAgdmFyIGh0bWxfMWQ0N2MzY2YxNTQwNDg0ZTk1MDEzNmY0NGFiNjZkZGQgPSAkKGA8ZGl2IGlkPSJodG1sXzFkNDdjM2NmMTU0MDQ4NGU5NTAxMzZmNDRhYjY2ZGRkIiBzdHlsZT0id2lkdGg6IDEwMC4wJTsgaGVpZ2h0OiAxMDAuMCU7Ij5fX094bnh1eG54Smk4LXhnWUV3Rmh3PC9kaXY+YClbMF07CiAgICAgICAgICAgICAgICBwb3B1cF9mODdjODExNWYwYWM0MWIzOTVjZGQ4ZDM5ZjZhYzBlYy5zZXRDb250ZW50KGh0bWxfMWQ0N2MzY2YxNTQwNDg0ZTk1MDEzNmY0NGFiNjZkZGQpOwogICAgICAgICAgICAKCiAgICAgICAgICAgIG1hcmtlcl85YzNiNDg5MTgwMGU0YmMwODEyMDFjYWIyYTUyODI5YS5iaW5kUG9wdXAocG9wdXBfZjg3YzgxMTVmMGFjNDFiMzk1Y2RkOGQzOWY2YWMwZWMpCiAgICAgICAgICAgIDsKCiAgICAgICAgICAgIAogICAgICAgIAogICAgCiAgICAgICAgdmFyIG1hcmtlcl9hNDI4YTcyY2M0Yjc0ODRkOWYwYWNjMTRhYzE0ZGVmNiA9IEwubWFya2VyKAogICAgICAgICAgICBbNDAuNzU4NjgxMjQyNjE0NywgLTczLjk3MDk1MzA1NjYwMTFdLAogICAgICAgICAgICB7CiAgICAgICAgICAgICAgICBpY29uOiBuZXcgTC5JY29uLkRlZmF1bHQoKSwKICAgICAgICAgICAgICAgIH0KICAgICAgICAgICAgKS5hZGRUbyhtYXBfODVjMTU4Y2MxMzM2NGQ1YmEzMjFjZjdjMzMzZGJjOWUpOwogICAgICAgIAogICAgCiAgICAgICAgICAgIHZhciBwb3B1cF83NWI3NjM0MzZhMjQ0MTMyOTAwYTQ1NmY2OGNmNmMyNSA9IEwucG9wdXAoe21heFdpZHRoOiAnMTAwJScKICAgICAgICAgICAgCiAgICAgICAgICAgIH0pOwoKICAgICAgICAgICAgCiAgICAgICAgICAgICAgICB2YXIgaHRtbF9mMDhkMTVhYTI4Zjk0MTdmODhjYzE2NTNlNGYzYmUwNSA9ICQoYDxkaXYgaWQ9Imh0bWxfZjA4ZDE1YWEyOGY5NDE3Zjg4Y2MxNjUzZTRmM2JlMDUiIHN0eWxlPSJ3aWR0aDogMTAwLjAlOyBoZWlnaHQ6IDEwMC4wJTsiPl9rQUtJd0lYQ2x4c0JmYi1MbjFqdXc8L2Rpdj5gKVswXTsKICAgICAgICAgICAgICAgIHBvcHVwXzc1Yjc2MzQzNmEyNDQxMzI5MDBhNDU2ZjY4Y2Y2YzI1LnNldENvbnRlbnQoaHRtbF9mMDhkMTVhYTI4Zjk0MTdmODhjYzE2NTNlNGYzYmUwNSk7CiAgICAgICAgICAgIAoKICAgICAgICAgICAgbWFya2VyX2E0MjhhNzJjYzRiNzQ4NGQ5ZjBhY2MxNGFjMTRkZWY2LmJpbmRQb3B1cChwb3B1cF83NWI3NjM0MzZhMjQ0MTMyOTAwYTQ1NmY2OGNmNmMyNSkKICAgICAgICAgICAgOwoKICAgICAgICAgICAgCiAgICAgICAgCiAgICAKICAgICAgICB2YXIgbWFya2VyX2U5NzI5ZmU1Y2QzZTRmYzE4NTdlOGMyNDFmYzk2NGIwID0gTC5tYXJrZXIoCiAgICAgICAgICAgIFs0MC43NjQ0MTIsIC03My45ODEwNjldLAogICAgICAgICAgICB7CiAgICAgICAgICAgICAgICBpY29uOiBuZXcgTC5JY29uLkRlZmF1bHQoKSwKICAgICAgICAgICAgICAgIH0KICAgICAgICAgICAgKS5hZGRUbyhtYXBfODVjMTU4Y2MxMzM2NGQ1YmEzMjFjZjdjMzMzZGJjOWUpOwogICAgICAgIAogICAgCiAgICAgICAgICAgIHZhciBwb3B1cF81ZmYwNDNmOTMyOTM0ZjNhOTc2ODkwY2MwMDkwOWUyNiA9IEwucG9wdXAoe21heFdpZHRoOiAnMTAwJScKICAgICAgICAgICAgCiAgICAgICAgICAgIH0pOwoKICAgICAgICAgICAgCiAgICAgICAgICAgICAgICB2YXIgaHRtbF8wNDcyZGVkODkwMmI0OGIxOGM2OTY5ZmM2ZTYxYTlkNCA9ICQoYDxkaXYgaWQ9Imh0bWxfMDQ3MmRlZDg5MDJiNDhiMThjNjk2OWZjNmU2MWE5ZDQiIHN0eWxlPSJ3aWR0aDogMTAwLjAlOyBoZWlnaHQ6IDEwMC4wJTsiPnBCajBtcDNnaTdHMUEtNks1ZkVRbkE8L2Rpdj5gKVswXTsKICAgICAgICAgICAgICAgIHBvcHVwXzVmZjA0M2Y5MzI5MzRmM2E5NzY4OTBjYzAwOTA5ZTI2LnNldENvbnRlbnQoaHRtbF8wNDcyZGVkODkwMmI0OGIxOGM2OTY5ZmM2ZTYxYTlkNCk7CiAgICAgICAgICAgIAoKICAgICAgICAgICAgbWFya2VyX2U5NzI5ZmU1Y2QzZTRmYzE4NTdlOGMyNDFmYzk2NGIwLmJpbmRQb3B1cChwb3B1cF81ZmYwNDNmOTMyOTM0ZjNhOTc2ODkwY2MwMDkwOWUyNikKICAgICAgICAgICAgOwoKICAgICAgICAgICAgCiAgICAgICAgCiAgICAKICAgICAgICB2YXIgbWFya2VyXzYzODU5ZmVhYjE5MDQwZDU4MGFjNDcyMmM3MmMwZDQ5ID0gTC5tYXJrZXIoCiAgICAgICAgICAgIFs0MC43NTc2Njc0ODk2OTUzLCAtNzMuOTcwODk3XSwKICAgICAgICAgICAgewogICAgICAgICAgICAgICAgaWNvbjogbmV3IEwuSWNvbi5EZWZhdWx0KCksCiAgICAgICAgICAgICAgICB9CiAgICAgICAgICAgICkuYWRkVG8obWFwXzg1YzE1OGNjMTMzNjRkNWJhMzIxY2Y3YzMzM2RiYzllKTsKICAgICAgICAKICAgIAogICAgICAgICAgICB2YXIgcG9wdXBfODU5MWVjYWYzMGZmNDg2ZmE0Mzg3YmMzM2MzMmMxZmUgPSBMLnBvcHVwKHttYXhXaWR0aDogJzEwMCUnCiAgICAgICAgICAgIAogICAgICAgICAgICB9KTsKCiAgICAgICAgICAgIAogICAgICAgICAgICAgICAgdmFyIGh0bWxfZDc4ZGI1ZGIxMjM0NDdmN2I2MjM2MjEwMzcyNjZiODUgPSAkKGA8ZGl2IGlkPSJodG1sX2Q3OGRiNWRiMTIzNDQ3ZjdiNjIzNjIxMDM3MjY2Yjg1IiBzdHlsZT0id2lkdGg6IDEwMC4wJTsgaGVpZ2h0OiAxMDAuMCU7Ij5Xd21uODhPRkdRRWp3TmwzVmlacjB3PC9kaXY+YClbMF07CiAgICAgICAgICAgICAgICBwb3B1cF84NTkxZWNhZjMwZmY0ODZmYTQzODdiYzMzYzMyYzFmZS5zZXRDb250ZW50KGh0bWxfZDc4ZGI1ZGIxMjM0NDdmN2I2MjM2MjEwMzcyNjZiODUpOwogICAgICAgICAgICAKCiAgICAgICAgICAgIG1hcmtlcl82Mzg1OWZlYWIxOTA0MGQ1ODBhYzQ3MjJjNzJjMGQ0OS5iaW5kUG9wdXAocG9wdXBfODU5MWVjYWYzMGZmNDg2ZmE0Mzg3YmMzM2MzMmMxZmUpCiAgICAgICAgICAgIDsKCiAgICAgICAgICAgIAogICAgICAgIAogICAgCiAgICAgICAgdmFyIG1hcmtlcl9lYjY2NDBiNjA5YTI0ODI1OWMwZWNmNWUwNmRjNTdkZiA9IEwubWFya2VyKAogICAgICAgICAgICBbNDAuNzU2Njk0LCAtNzMuOTg1ODkzXSwKICAgICAgICAgICAgewogICAgICAgICAgICAgICAgaWNvbjogbmV3IEwuSWNvbi5EZWZhdWx0KCksCiAgICAgICAgICAgICAgICB9CiAgICAgICAgICAgICkuYWRkVG8obWFwXzg1YzE1OGNjMTMzNjRkNWJhMzIxY2Y3YzMzM2RiYzllKTsKICAgICAgICAKICAgIAogICAgICAgICAgICB2YXIgcG9wdXBfNTM4OGZjOGUzZDZkNGI4OGEyZWRhY2VkYjcyMjRmYjkgPSBMLnBvcHVwKHttYXhXaWR0aDogJzEwMCUnCiAgICAgICAgICAgIAogICAgICAgICAgICB9KTsKCiAgICAgICAgICAgIAogICAgICAgICAgICAgICAgdmFyIGh0bWxfZWU2ZDFjYWZkYWQxNGIxYzgxNjNmODIwZDE4ODk1MzMgPSAkKGA8ZGl2IGlkPSJodG1sX2VlNmQxY2FmZGFkMTRiMWM4MTYzZjgyMGQxODg5NTMzIiBzdHlsZT0id2lkdGg6IDEwMC4wJTsgaGVpZ2h0OiAxMDAuMCU7Ij5GaEZQVDJMazI3cGtRcE51VEFnZlN3PC9kaXY+YClbMF07CiAgICAgICAgICAgICAgICBwb3B1cF81Mzg4ZmM4ZTNkNmQ0Yjg4YTJlZGFjZWRiNzIyNGZiOS5zZXRDb250ZW50KGh0bWxfZWU2ZDFjYWZkYWQxNGIxYzgxNjNmODIwZDE4ODk1MzMpOwogICAgICAgICAgICAKCiAgICAgICAgICAgIG1hcmtlcl9lYjY2NDBiNjA5YTI0ODI1OWMwZWNmNWUwNmRjNTdkZi5iaW5kUG9wdXAocG9wdXBfNTM4OGZjOGUzZDZkNGI4OGEyZWRhY2VkYjcyMjRmYjkpCiAgICAgICAgICAgIDsKCiAgICAgICAgICAgIAogICAgICAgIAogICAgCiAgICAgICAgdmFyIG1hcmtlcl8xMDA0ZTFjMzEwYWM0NjMyYWIxNzcxMzJjYzJiMGQwNCA9IEwubWFya2VyKAogICAgICAgICAgICBbNDAuNzU0NjYyOSwgLTczLjk4MzMxMjddLAogICAgICAgICAgICB7CiAgICAgICAgICAgICAgICBpY29uOiBuZXcgTC5JY29uLkRlZmF1bHQoKSwKICAgICAgICAgICAgICAgIH0KICAgICAgICAgICAgKS5hZGRUbyhtYXBfODVjMTU4Y2MxMzM2NGQ1YmEzMjFjZjdjMzMzZGJjOWUpOwogICAgICAgIAogICAgCiAgICAgICAgICAgIHZhciBwb3B1cF82NTBhMWE0YjUxYzY0ZWY1OWFlY2Q1ODY0YTBiNTQ1MSA9IEwucG9wdXAoe21heFdpZHRoOiAnMTAwJScKICAgICAgICAgICAgCiAgICAgICAgICAgIH0pOwoKICAgICAgICAgICAgCiAgICAgICAgICAgICAgICB2YXIgaHRtbF84OTQxYjRjNzY4Njc0NzRmYTViMmMxZTFhYmI2ZjFmZCA9ICQoYDxkaXYgaWQ9Imh0bWxfODk0MWI0Yzc2ODY3NDc0ZmE1YjJjMWUxYWJiNmYxZmQiIHN0eWxlPSJ3aWR0aDogMTAwLjAlOyBoZWlnaHQ6IDEwMC4wJTsiPjBJZkpveXdCZXp0aENteWxCSVV4WHc8L2Rpdj5gKVswXTsKICAgICAgICAgICAgICAgIHBvcHVwXzY1MGExYTRiNTFjNjRlZjU5YWVjZDU4NjRhMGI1NDUxLnNldENvbnRlbnQoaHRtbF84OTQxYjRjNzY4Njc0NzRmYTViMmMxZTFhYmI2ZjFmZCk7CiAgICAgICAgICAgIAoKICAgICAgICAgICAgbWFya2VyXzEwMDRlMWMzMTBhYzQ2MzJhYjE3NzEzMmNjMmIwZDA0LmJpbmRQb3B1cChwb3B1cF82NTBhMWE0YjUxYzY0ZWY1OWFlY2Q1ODY0YTBiNTQ1MSkKICAgICAgICAgICAgOwoKICAgICAgICAgICAgCiAgICAgICAgCiAgICAKICAgICAgICB2YXIgbWFya2VyX2MwNGExZTViM2JkYTRkNDM4OTlmMmQyOTc4MDgwYmFiID0gTC5tYXJrZXIoCiAgICAgICAgICAgIFs0MC43NjQ3ODQsIC03My45NzcxMDJdLAogICAgICAgICAgICB7CiAgICAgICAgICAgICAgICBpY29uOiBuZXcgTC5JY29uLkRlZmF1bHQoKSwKICAgICAgICAgICAgICAgIH0KICAgICAgICAgICAgKS5hZGRUbyhtYXBfODVjMTU4Y2MxMzM2NGQ1YmEzMjFjZjdjMzMzZGJjOWUpOwogICAgICAgIAogICAgCiAgICAgICAgICAgIHZhciBwb3B1cF9kYjI4NTZjNDAwNDY0YWExOTdmYTQ2ZmM5OTU5MjM5ZiA9IEwucG9wdXAoe21heFdpZHRoOiAnMTAwJScKICAgICAgICAgICAgCiAgICAgICAgICAgIH0pOwoKICAgICAgICAgICAgCiAgICAgICAgICAgICAgICB2YXIgaHRtbF8xY2M2YzhiMThlYWU0NWFiYmQwMmM4MWY0YWNiZjg2ZCA9ICQoYDxkaXYgaWQ9Imh0bWxfMWNjNmM4YjE4ZWFlNDVhYmJkMDJjODFmNGFjYmY4NmQiIHN0eWxlPSJ3aWR0aDogMTAwLjAlOyBoZWlnaHQ6IDEwMC4wJTsiPk5fWWRFTE1FWjlleGtONkNJckN4Smc8L2Rpdj5gKVswXTsKICAgICAgICAgICAgICAgIHBvcHVwX2RiMjg1NmM0MDA0NjRhYTE5N2ZhNDZmYzk5NTkyMzlmLnNldENvbnRlbnQoaHRtbF8xY2M2YzhiMThlYWU0NWFiYmQwMmM4MWY0YWNiZjg2ZCk7CiAgICAgICAgICAgIAoKICAgICAgICAgICAgbWFya2VyX2MwNGExZTViM2JkYTRkNDM4OTlmMmQyOTc4MDgwYmFiLmJpbmRQb3B1cChwb3B1cF9kYjI4NTZjNDAwNDY0YWExOTdmYTQ2ZmM5OTU5MjM5ZikKICAgICAgICAgICAgOwoKICAgICAgICAgICAgCiAgICAgICAgCiAgICAKICAgICAgICB2YXIgbWFya2VyXzA0ZGZjYjY5OGYyNTQ3MGRiOGI4MWUyODI2MzM3NTVkID0gTC5tYXJrZXIoCiAgICAgICAgICAgIFs0MC43NTg1MzIsIC03My45ODY2MDddLAogICAgICAgICAgICB7CiAgICAgICAgICAgICAgICBpY29uOiBuZXcgTC5JY29uLkRlZmF1bHQoKSwKICAgICAgICAgICAgICAgIH0KICAgICAgICAgICAgKS5hZGRUbyhtYXBfODVjMTU4Y2MxMzM2NGQ1YmEzMjFjZjdjMzMzZGJjOWUpOwogICAgICAgIAogICAgCiAgICAgICAgICAgIHZhciBwb3B1cF9iNTJiYzI5NmJhOGY0NzEzYWMyNWZlZWUyOTA2YTkwMiA9IEwucG9wdXAoe21heFdpZHRoOiAnMTAwJScKICAgICAgICAgICAgCiAgICAgICAgICAgIH0pOwoKICAgICAgICAgICAgCiAgICAgICAgICAgICAgICB2YXIgaHRtbF84OTBmMDVkZmM2ODY0MTRkOTExOWUzMzY5MWE0N2JjZCA9ICQoYDxkaXYgaWQ9Imh0bWxfODkwZjA1ZGZjNjg2NDE0ZDkxMTllMzM2OTFhNDdiY2QiIHN0eWxlPSJ3aWR0aDogMTAwLjAlOyBoZWlnaHQ6IDEwMC4wJTsiPjhOSElTc2QwZ0toeVBOSm9xaEVxbkE8L2Rpdj5gKVswXTsKICAgICAgICAgICAgICAgIHBvcHVwX2I1MmJjMjk2YmE4ZjQ3MTNhYzI1ZmVlZTI5MDZhOTAyLnNldENvbnRlbnQoaHRtbF84OTBmMDVkZmM2ODY0MTRkOTExOWUzMzY5MWE0N2JjZCk7CiAgICAgICAgICAgIAoKICAgICAgICAgICAgbWFya2VyXzA0ZGZjYjY5OGYyNTQ3MGRiOGI4MWUyODI2MzM3NTVkLmJpbmRQb3B1cChwb3B1cF9iNTJiYzI5NmJhOGY0NzEzYWMyNWZlZWUyOTA2YTkwMikKICAgICAgICAgICAgOwoKICAgICAgICAgICAgCiAgICAgICAgCiAgICAKICAgICAgICB2YXIgbWFya2VyX2ZjOTUzM2NiNDM5NzQ4MmVhMTZmYzljMTkzZTY3MWM3ID0gTC5tYXJrZXIoCiAgICAgICAgICAgIFs0MC43NjQ5MjYsIC03My45NzkxMDhdLAogICAgICAgICAgICB7CiAgICAgICAgICAgICAgICBpY29uOiBuZXcgTC5JY29uLkRlZmF1bHQoKSwKICAgICAgICAgICAgICAgIH0KICAgICAgICAgICAgKS5hZGRUbyhtYXBfODVjMTU4Y2MxMzM2NGQ1YmEzMjFjZjdjMzMzZGJjOWUpOwogICAgICAgIAogICAgCiAgICAgICAgICAgIHZhciBwb3B1cF83NjRjNjYyYTQ2NDg0YmJiYjU0YjQ2ZTE3NDIwZmRjNyA9IEwucG9wdXAoe21heFdpZHRoOiAnMTAwJScKICAgICAgICAgICAgCiAgICAgICAgICAgIH0pOwoKICAgICAgICAgICAgCiAgICAgICAgICAgICAgICB2YXIgaHRtbF8yNjVkODE1ZjU0NGE0MjA2OGQ2N2UwOWE1OWZjMDA0OSA9ICQoYDxkaXYgaWQ9Imh0bWxfMjY1ZDgxNWY1NDRhNDIwNjhkNjdlMDlhNTlmYzAwNDkiIHN0eWxlPSJ3aWR0aDogMTAwLjAlOyBoZWlnaHQ6IDEwMC4wJTsiPlRJRTc3TXN4Um40MFYtZmVoTnJjamc8L2Rpdj5gKVswXTsKICAgICAgICAgICAgICAgIHBvcHVwXzc2NGM2NjJhNDY0ODRiYmJiNTRiNDZlMTc0MjBmZGM3LnNldENvbnRlbnQoaHRtbF8yNjVkODE1ZjU0NGE0MjA2OGQ2N2UwOWE1OWZjMDA0OSk7CiAgICAgICAgICAgIAoKICAgICAgICAgICAgbWFya2VyX2ZjOTUzM2NiNDM5NzQ4MmVhMTZmYzljMTkzZTY3MWM3LmJpbmRQb3B1cChwb3B1cF83NjRjNjYyYTQ2NDg0YmJiYjU0YjQ2ZTE3NDIwZmRjNykKICAgICAgICAgICAgOwoKICAgICAgICAgICAgCiAgICAgICAgCiAgICAKICAgICAgICB2YXIgbWFya2VyX2E1NGVlODVlNjllOTRhMWQ4ZGMwOTg4NWUwZjA1ZDcxID0gTC5tYXJrZXIoCiAgICAgICAgICAgIFs0MC43NjMxLCAtNzMuOTcyNDddLAogICAgICAgICAgICB7CiAgICAgICAgICAgICAgICBpY29uOiBuZXcgTC5JY29uLkRlZmF1bHQoKSwKICAgICAgICAgICAgICAgIH0KICAgICAgICAgICAgKS5hZGRUbyhtYXBfODVjMTU4Y2MxMzM2NGQ1YmEzMjFjZjdjMzMzZGJjOWUpOwogICAgICAgIAogICAgCiAgICAgICAgICAgIHZhciBwb3B1cF8xMDc4OTljMjdhZDc0MWY3YTFhMWM5YThiMDY1MTQ0ZSA9IEwucG9wdXAoe21heFdpZHRoOiAnMTAwJScKICAgICAgICAgICAgCiAgICAgICAgICAgIH0pOwoKICAgICAgICAgICAgCiAgICAgICAgICAgICAgICB2YXIgaHRtbF83OTg5OGI4MzlmZjI0ODdjYWYwNTJkZDM0Zjk3NjA0NyA9ICQoYDxkaXYgaWQ9Imh0bWxfNzk4OThiODM5ZmYyNDg3Y2FmMDUyZGQzNGY5NzYwNDciIHN0eWxlPSJ3aWR0aDogMTAwLjAlOyBoZWlnaHQ6IDEwMC4wJTsiPmxTbmNVUE5CWS1xc19RT3RFT3BrVkE8L2Rpdj5gKVswXTsKICAgICAgICAgICAgICAgIHBvcHVwXzEwNzg5OWMyN2FkNzQxZjdhMWExYzlhOGIwNjUxNDRlLnNldENvbnRlbnQoaHRtbF83OTg5OGI4MzlmZjI0ODdjYWYwNTJkZDM0Zjk3NjA0Nyk7CiAgICAgICAgICAgIAoKICAgICAgICAgICAgbWFya2VyX2E1NGVlODVlNjllOTRhMWQ4ZGMwOTg4NWUwZjA1ZDcxLmJpbmRQb3B1cChwb3B1cF8xMDc4OTljMjdhZDc0MWY3YTFhMWM5YThiMDY1MTQ0ZSkKICAgICAgICAgICAgOwoKICAgICAgICAgICAgCiAgICAgICAgCjwvc2NyaXB0Pg==\" style=\"position:absolute;width:100%;height:100%;left:0;top:0;border:none !important;\" allowfullscreen webkitallowfullscreen mozallowfullscreen></iframe></div></div>"
            ],
            "text/plain": [
              "<folium.folium.Map at 0x7f6f58782860>"
            ]
          },
          "metadata": {
            "tags": []
          },
          "execution_count": 9
        }
      ]
    },
    {
      "metadata": {
        "id": "WCo6NeCEe0Ps",
        "colab_type": "text"
      },
      "cell_type": "markdown",
      "source": [
        "We set the 40000 meter radius on the Yelp API,  but the actural radius is much lower than the 40000 meter in the dense area due to high business density."
      ]
    },
    {
      "metadata": {
        "id": "zYrgnR07WN1R",
        "colab_type": "code",
        "outputId": "60ce7f49-fa0c-4f5f-e18e-092db6b36552",
        "colab": {
          "base_uri": "https://localhost:8080/",
          "height": 378
        }
      },
      "cell_type": "code",
      "source": [
        "# look at the rating\n",
        "sns.countplot(x=\"rating\", data=list_buss)"
      ],
      "execution_count": 10,
      "outputs": [
        {
          "output_type": "execute_result",
          "data": {
            "text/plain": [
              "<matplotlib.axes._subplots.AxesSubplot at 0x7f6f58721f60>"
            ]
          },
          "metadata": {
            "tags": []
          },
          "execution_count": 10
        },
        {
          "output_type": "display_data",
          "data": {
            "image/png": "[encoded data removed]",
            "text/plain": [
              "<Figure size 576x396 with 1 Axes>"
            ]
          },
          "metadata": {
            "tags": []
          }
        }
      ]
    },
    {
      "metadata": {
        "id": "cUDYyt2kWqgM",
        "colab_type": "code",
        "outputId": "78a2538d-9512-4c34-f2af-1428ef3d8971",
        "colab": {
          "base_uri": "https://localhost:8080/",
          "height": 173
        }
      },
      "cell_type": "code",
      "source": [
        "# look at the price\n",
        "list_buss.groupby('price').count()"
      ],
      "execution_count": 11,
      "outputs": [
        {
          "output_type": "execute_result",
          "data": {
            "text/html": [
              "<div>\n",
              "<style scoped>\n",
              "    .dataframe tbody tr th:only-of-type {\n",
              "        vertical-align: middle;\n",
              "    }\n",
              "\n",
              "    .dataframe tbody tr th {\n",
              "        vertical-align: top;\n",
              "    }\n",
              "\n",
              "    .dataframe thead th {\n",
              "        text-align: right;\n",
              "    }\n",
              "</style>\n",
              "<table border=\"1\" class=\"dataframe\">\n",
              "  <thead>\n",
              "    <tr style=\"text-align: right;\">\n",
              "      <th></th>\n",
              "      <th>id</th>\n",
              "      <th>rating</th>\n",
              "      <th>count</th>\n",
              "      <th>latitude</th>\n",
              "      <th>longitude</th>\n",
              "    </tr>\n",
              "    <tr>\n",
              "      <th>price</th>\n",
              "      <th></th>\n",
              "      <th></th>\n",
              "      <th></th>\n",
              "      <th></th>\n",
              "      <th></th>\n",
              "    </tr>\n",
              "  </thead>\n",
              "  <tbody>\n",
              "    <tr>\n",
              "      <th>$</th>\n",
              "      <td>11</td>\n",
              "      <td>11</td>\n",
              "      <td>11</td>\n",
              "      <td>11</td>\n",
              "      <td>11</td>\n",
              "    </tr>\n",
              "    <tr>\n",
              "      <th>$$</th>\n",
              "      <td>34</td>\n",
              "      <td>34</td>\n",
              "      <td>34</td>\n",
              "      <td>34</td>\n",
              "      <td>34</td>\n",
              "    </tr>\n",
              "    <tr>\n",
              "      <th>$$$</th>\n",
              "      <td>2</td>\n",
              "      <td>2</td>\n",
              "      <td>2</td>\n",
              "      <td>2</td>\n",
              "      <td>2</td>\n",
              "    </tr>\n",
              "  </tbody>\n",
              "</table>\n",
              "</div>"
            ],
            "text/plain": [
              "       id  rating  count  latitude  longitude\n",
              "price                                        \n",
              "$      11      11     11        11         11\n",
              "$$     34      34     34        34         34\n",
              "$$$     2       2      2         2          2"
            ]
          },
          "metadata": {
            "tags": []
          },
          "execution_count": 11
        }
      ]
    },
    {
      "metadata": {
        "id": "WU_w9e12uBNZ",
        "colab_type": "text"
      },
      "cell_type": "markdown",
      "source": [
        "#### Get review data"
      ]
    },
    {
      "metadata": {
        "id": "RL-WZfPgF77r",
        "colab_type": "code",
        "outputId": "e78a9171-ef00-454e-ed14-c47f8439497f",
        "colab": {
          "base_uri": "https://localhost:8080/",
          "height": 34
        }
      },
      "cell_type": "code",
      "source": [
        "data[\"businesses\"][0]['id'] # parse id# for review "
      ],
      "execution_count": 12,
      "outputs": [
        {
          "output_type": "execute_result",
          "data": {
            "text/plain": [
              "'5WHpzFh-ZbTBY919PlZPTw'"
            ]
          },
          "metadata": {
            "tags": []
          },
          "execution_count": 12
        }
      ]
    },
    {
      "metadata": {
        "id": "EEcceQGJGKY8",
        "colab_type": "text"
      },
      "cell_type": "markdown",
      "source": [
        "read review of this businesses "
      ]
    },
    {
      "metadata": {
        "id": "ApylqAplW9E2",
        "colab_type": "code",
        "colab": {}
      },
      "cell_type": "code",
      "source": [
        "ENDPOINT_reviews = 'https://api.yelp.com/v3/businesses/5WHpzFh-ZbTBY919PlZPTw/reviews'   # id/reviews  \n",
        "response_reviews = requests.get(url = ENDPOINT_reviews, headers = HEADERS)"
      ],
      "execution_count": 0,
      "outputs": []
    },
    {
      "metadata": {
        "id": "EQV6veiyq9y6",
        "colab_type": "text"
      },
      "cell_type": "markdown",
      "source": [
        "Each business has three reviews. Read first review"
      ]
    },
    {
      "metadata": {
        "id": "xRIcNN_tYpQP",
        "colab_type": "code",
        "outputId": "2dfb1c90-150a-462a-c456-a7a5ad65400c",
        "colab": {
          "base_uri": "https://localhost:8080/",
          "height": 34
        }
      },
      "cell_type": "code",
      "source": [
        "len(response_reviews.json())"
      ],
      "execution_count": 14,
      "outputs": [
        {
          "output_type": "execute_result",
          "data": {
            "text/plain": [
              "3"
            ]
          },
          "metadata": {
            "tags": []
          },
          "execution_count": 14
        }
      ]
    },
    {
      "metadata": {
        "id": "AW42BuKqYd9L",
        "colab_type": "code",
        "outputId": "365b2744-8c45-41ba-b2e0-ddaff005b1ae",
        "colab": {
          "base_uri": "https://localhost:8080/",
          "height": 190
        }
      },
      "cell_type": "code",
      "source": [
        "response_reviews.json()['reviews'][0]#['user']['id']#['profile_url']"
      ],
      "execution_count": 15,
      "outputs": [
        {
          "output_type": "execute_result",
          "data": {
            "text/plain": [
              "{'id': '3gnJ62usiQh9VDdVPibDAw',\n",
              " 'rating': 4,\n",
              " 'text': 'I have been here at 630 am and the staff is always pleasant and well rested. Sometimes there are homeless people sitting in the seats but it may be a way of...',\n",
              " 'time_created': '2018-11-16 14:36:46',\n",
              " 'url': 'https://www.yelp.com/biz/starbucks-new-york-273?adjust_creative=fl6Gc_WOT5VLrae0o6fc7w&hrid=3gnJ62usiQh9VDdVPibDAw&utm_campaign=yelp_api_v3&utm_medium=api_v3_business_reviews&utm_source=fl6Gc_WOT5VLrae0o6fc7w',\n",
              " 'user': {'id': 'KVKIvMY5gL5scNgexlENiQ',\n",
              "  'image_url': 'https://s3-media3.fl.yelpcdn.com/photo/iMhwNj0d6t8ZZJ1sS2i6qg/o.jpg',\n",
              "  'name': 'Dionne H.',\n",
              "  'profile_url': 'https://www.yelp.com/user_details?userid=KVKIvMY5gL5scNgexlENiQ'}}"
            ]
          },
          "metadata": {
            "tags": []
          },
          "execution_count": 15
        }
      ]
    },
    {
      "metadata": {
        "id": "83KRCC8JiPEK",
        "colab_type": "text"
      },
      "cell_type": "markdown",
      "source": [
        "Since each buisness only has three reviews, the rating are not representive the business statistically. So I decide to pull out the rating that directly link to the review."
      ]
    },
    {
      "metadata": {
        "id": "sVEsUmxPk6iT",
        "colab_type": "code",
        "colab": {}
      },
      "cell_type": "code",
      "source": [
        "# collect review\n",
        "List = []\n",
        "\n",
        "for i in range(50):\n",
        "  \n",
        "  try:\n",
        "    a = data[\"businesses\"][i]['id']\n",
        "    ENDPOINT_reviews = 'https://api.yelp.com/v3/businesses/'+ a +'/reviews'\n",
        "    response_reviews = requests.get(url = ENDPOINT_reviews, headers = HEADERS)\n",
        "    \n",
        "    for ii in range(3):\n",
        "      b = response_reviews.json()['reviews'][ii]['user']['id']\n",
        "      c = response_reviews.json()['reviews'][ii]['text']\n",
        "      d = response_reviews.json()['reviews'][ii]['rating']\n",
        "      e = response_reviews.json()['reviews'][ii]['time_created']\n",
        "      \n",
        "      List.append([a,b,c,d,e])\n",
        "      \n",
        "  except:\n",
        "    List.append([a, None, None, None, None])\n",
        "    #pass"
      ],
      "execution_count": 0,
      "outputs": []
    },
    {
      "metadata": {
        "id": "q04GXVW9nuPJ",
        "colab_type": "code",
        "outputId": "07dae543-fe60-4025-c24b-07d7dbbfd3bb",
        "colab": {
          "base_uri": "https://localhost:8080/",
          "height": 306
        }
      },
      "cell_type": "code",
      "source": [
        "df_total = pd.DataFrame(List, columns = [\"buss_id\", \"user_id\", \"review\", \"rating\", \"time_created\"])\n",
        "df_total.head()"
      ],
      "execution_count": 17,
      "outputs": [
        {
          "output_type": "execute_result",
          "data": {
            "text/html": [
              "<div>\n",
              "<style scoped>\n",
              "    .dataframe tbody tr th:only-of-type {\n",
              "        vertical-align: middle;\n",
              "    }\n",
              "\n",
              "    .dataframe tbody tr th {\n",
              "        vertical-align: top;\n",
              "    }\n",
              "\n",
              "    .dataframe thead th {\n",
              "        text-align: right;\n",
              "    }\n",
              "</style>\n",
              "<table border=\"1\" class=\"dataframe\">\n",
              "  <thead>\n",
              "    <tr style=\"text-align: right;\">\n",
              "      <th></th>\n",
              "      <th>buss_id</th>\n",
              "      <th>user_id</th>\n",
              "      <th>review</th>\n",
              "      <th>rating</th>\n",
              "      <th>time_created</th>\n",
              "    </tr>\n",
              "  </thead>\n",
              "  <tbody>\n",
              "    <tr>\n",
              "      <th>0</th>\n",
              "      <td>5WHpzFh-ZbTBY919PlZPTw</td>\n",
              "      <td>KVKIvMY5gL5scNgexlENiQ</td>\n",
              "      <td>I have been here at 630 am and the staff is al...</td>\n",
              "      <td>4.0</td>\n",
              "      <td>2018-11-16 14:36:46</td>\n",
              "    </tr>\n",
              "    <tr>\n",
              "      <th>1</th>\n",
              "      <td>5WHpzFh-ZbTBY919PlZPTw</td>\n",
              "      <td>Xx4lFM_a8mMsfnzJpsN4Zw</td>\n",
              "      <td>Horrible experience this morning ,app orders s...</td>\n",
              "      <td>2.0</td>\n",
              "      <td>2018-12-14 06:50:12</td>\n",
              "    </tr>\n",
              "    <tr>\n",
              "      <th>2</th>\n",
              "      <td>5WHpzFh-ZbTBY919PlZPTw</td>\n",
              "      <td>PcvbBOCOcs6_suRDH7TSTg</td>\n",
              "      <td>Located on on the underground level of Rockefe...</td>\n",
              "      <td>2.0</td>\n",
              "      <td>2019-04-04 04:25:50</td>\n",
              "    </tr>\n",
              "    <tr>\n",
              "      <th>3</th>\n",
              "      <td>AJR1lIu3RzgC8bgCk2tFog</td>\n",
              "      <td>L261dYh3HYs28hnYs23yIQ</td>\n",
              "      <td>I arrived extremely early in NY so I decided t...</td>\n",
              "      <td>3.0</td>\n",
              "      <td>2018-03-02 05:34:23</td>\n",
              "    </tr>\n",
              "    <tr>\n",
              "      <th>4</th>\n",
              "      <td>AJR1lIu3RzgC8bgCk2tFog</td>\n",
              "      <td>HQ1kFlb7JO8nr-LZwbfEdA</td>\n",
              "      <td>When I was younger, I used to play a game with...</td>\n",
              "      <td>3.0</td>\n",
              "      <td>2018-01-21 17:55:14</td>\n",
              "    </tr>\n",
              "  </tbody>\n",
              "</table>\n",
              "</div>"
            ],
            "text/plain": [
              "                  buss_id                 user_id  \\\n",
              "0  5WHpzFh-ZbTBY919PlZPTw  KVKIvMY5gL5scNgexlENiQ   \n",
              "1  5WHpzFh-ZbTBY919PlZPTw  Xx4lFM_a8mMsfnzJpsN4Zw   \n",
              "2  5WHpzFh-ZbTBY919PlZPTw  PcvbBOCOcs6_suRDH7TSTg   \n",
              "3  AJR1lIu3RzgC8bgCk2tFog  L261dYh3HYs28hnYs23yIQ   \n",
              "4  AJR1lIu3RzgC8bgCk2tFog  HQ1kFlb7JO8nr-LZwbfEdA   \n",
              "\n",
              "                                              review  rating  \\\n",
              "0  I have been here at 630 am and the staff is al...     4.0   \n",
              "1  Horrible experience this morning ,app orders s...     2.0   \n",
              "2  Located on on the underground level of Rockefe...     2.0   \n",
              "3  I arrived extremely early in NY so I decided t...     3.0   \n",
              "4  When I was younger, I used to play a game with...     3.0   \n",
              "\n",
              "          time_created  \n",
              "0  2018-11-16 14:36:46  \n",
              "1  2018-12-14 06:50:12  \n",
              "2  2019-04-04 04:25:50  \n",
              "3  2018-03-02 05:34:23  \n",
              "4  2018-01-21 17:55:14  "
            ]
          },
          "metadata": {
            "tags": []
          },
          "execution_count": 17
        }
      ]
    },
    {
      "metadata": {
        "id": "eJ6SUBEIpBlb",
        "colab_type": "code",
        "colab": {}
      },
      "cell_type": "code",
      "source": [
        "df_total = df_total[~df_total['review'].isnull()] # remove missing data"
      ],
      "execution_count": 0,
      "outputs": []
    },
    {
      "metadata": {
        "id": "k7pASarApvAu",
        "colab_type": "code",
        "outputId": "441bf94f-77ea-4ba4-b776-0ba53cf26510",
        "colab": {
          "base_uri": "https://localhost:8080/",
          "height": 54
        }
      },
      "cell_type": "code",
      "source": [
        "df_total['review'][20]"
      ],
      "execution_count": 19,
      "outputs": [
        {
          "output_type": "execute_result",
          "data": {
            "text/plain": [
              "'Yeah, the low ratings are accurate. The wait staff was rude--I got a nasty look and an admonition to wait at the end of the bar for my food, and ten minutes...'"
            ]
          },
          "metadata": {
            "tags": []
          },
          "execution_count": 19
        }
      ]
    },
    {
      "metadata": {
        "id": "5bvdu7SXAs10",
        "colab_type": "code",
        "outputId": "81bda439-1ac9-45cb-b07d-94d860e260c6",
        "colab": {
          "base_uri": "https://localhost:8080/",
          "height": 320
        }
      },
      "cell_type": "code",
      "source": [
        "df_total['time_created'] = pd.to_datetime(df_total['time_created'])\n",
        "df_total.index = df_total['time_created']\n",
        "df_total = df_total.drop(columns=['time_created'])\n",
        "df_total.head()"
      ],
      "execution_count": 20,
      "outputs": [
        {
          "output_type": "execute_result",
          "data": {
            "text/html": [
              "<div>\n",
              "<style scoped>\n",
              "    .dataframe tbody tr th:only-of-type {\n",
              "        vertical-align: middle;\n",
              "    }\n",
              "\n",
              "    .dataframe tbody tr th {\n",
              "        vertical-align: top;\n",
              "    }\n",
              "\n",
              "    .dataframe thead th {\n",
              "        text-align: right;\n",
              "    }\n",
              "</style>\n",
              "<table border=\"1\" class=\"dataframe\">\n",
              "  <thead>\n",
              "    <tr style=\"text-align: right;\">\n",
              "      <th></th>\n",
              "      <th>buss_id</th>\n",
              "      <th>user_id</th>\n",
              "      <th>review</th>\n",
              "      <th>rating</th>\n",
              "    </tr>\n",
              "    <tr>\n",
              "      <th>time_created</th>\n",
              "      <th></th>\n",
              "      <th></th>\n",
              "      <th></th>\n",
              "      <th></th>\n",
              "    </tr>\n",
              "  </thead>\n",
              "  <tbody>\n",
              "    <tr>\n",
              "      <th>2018-11-16 14:36:46</th>\n",
              "      <td>5WHpzFh-ZbTBY919PlZPTw</td>\n",
              "      <td>KVKIvMY5gL5scNgexlENiQ</td>\n",
              "      <td>I have been here at 630 am and the staff is al...</td>\n",
              "      <td>4.0</td>\n",
              "    </tr>\n",
              "    <tr>\n",
              "      <th>2018-12-14 06:50:12</th>\n",
              "      <td>5WHpzFh-ZbTBY919PlZPTw</td>\n",
              "      <td>Xx4lFM_a8mMsfnzJpsN4Zw</td>\n",
              "      <td>Horrible experience this morning ,app orders s...</td>\n",
              "      <td>2.0</td>\n",
              "    </tr>\n",
              "    <tr>\n",
              "      <th>2019-04-04 04:25:50</th>\n",
              "      <td>5WHpzFh-ZbTBY919PlZPTw</td>\n",
              "      <td>PcvbBOCOcs6_suRDH7TSTg</td>\n",
              "      <td>Located on on the underground level of Rockefe...</td>\n",
              "      <td>2.0</td>\n",
              "    </tr>\n",
              "    <tr>\n",
              "      <th>2018-03-02 05:34:23</th>\n",
              "      <td>AJR1lIu3RzgC8bgCk2tFog</td>\n",
              "      <td>L261dYh3HYs28hnYs23yIQ</td>\n",
              "      <td>I arrived extremely early in NY so I decided t...</td>\n",
              "      <td>3.0</td>\n",
              "    </tr>\n",
              "    <tr>\n",
              "      <th>2018-01-21 17:55:14</th>\n",
              "      <td>AJR1lIu3RzgC8bgCk2tFog</td>\n",
              "      <td>HQ1kFlb7JO8nr-LZwbfEdA</td>\n",
              "      <td>When I was younger, I used to play a game with...</td>\n",
              "      <td>3.0</td>\n",
              "    </tr>\n",
              "  </tbody>\n",
              "</table>\n",
              "</div>"
            ],
            "text/plain": [
              "                                    buss_id                 user_id  \\\n",
              "time_created                                                          \n",
              "2018-11-16 14:36:46  5WHpzFh-ZbTBY919PlZPTw  KVKIvMY5gL5scNgexlENiQ   \n",
              "2018-12-14 06:50:12  5WHpzFh-ZbTBY919PlZPTw  Xx4lFM_a8mMsfnzJpsN4Zw   \n",
              "2019-04-04 04:25:50  5WHpzFh-ZbTBY919PlZPTw  PcvbBOCOcs6_suRDH7TSTg   \n",
              "2018-03-02 05:34:23  AJR1lIu3RzgC8bgCk2tFog  L261dYh3HYs28hnYs23yIQ   \n",
              "2018-01-21 17:55:14  AJR1lIu3RzgC8bgCk2tFog  HQ1kFlb7JO8nr-LZwbfEdA   \n",
              "\n",
              "                                                                review  rating  \n",
              "time_created                                                                    \n",
              "2018-11-16 14:36:46  I have been here at 630 am and the staff is al...     4.0  \n",
              "2018-12-14 06:50:12  Horrible experience this morning ,app orders s...     2.0  \n",
              "2019-04-04 04:25:50  Located on on the underground level of Rockefe...     2.0  \n",
              "2018-03-02 05:34:23  I arrived extremely early in NY so I decided t...     3.0  \n",
              "2018-01-21 17:55:14  When I was younger, I used to play a game with...     3.0  "
            ]
          },
          "metadata": {
            "tags": []
          },
          "execution_count": 20
        }
      ]
    },
    {
      "metadata": {
        "id": "VbayXN5LLAtV",
        "colab_type": "code",
        "outputId": "910b2394-0eff-4605-97f0-f4b9d7d98128",
        "colab": {
          "base_uri": "https://localhost:8080/",
          "height": 312
        }
      },
      "cell_type": "code",
      "source": [
        "# make a time series plot of rating\n",
        "ax = df_total.plot(y=[\"rating\"], figsize=(15,4))\n",
        "ax.set_xlim(pd.Timestamp('2016-01-01'), pd.Timestamp('2019-5-01'))"
      ],
      "execution_count": 21,
      "outputs": [
        {
          "output_type": "execute_result",
          "data": {
            "text/plain": [
              "(735964.0, 737180.0)"
            ]
          },
          "metadata": {
            "tags": []
          },
          "execution_count": 21
        },
        {
          "output_type": "display_data",
          "data": {
            "image/png": "[encoded data removed]",
            "text/plain": [
              "<Figure size 1080x288 with 1 Axes>"
            ]
          },
          "metadata": {
            "tags": []
          }
        }
      ]
    },
    {
      "metadata": {
        "id": "tUpcmaNzhmXU",
        "colab_type": "code",
        "colab": {}
      },
      "cell_type": "code",
      "source": [
        "#df_total['review_len'] = df_total['review'].astype(str).apply(len)\n",
        "df_total['word_count'] = df_total['review'].apply(lambda x: len(str(x).split()))\n",
        "df_total['Polarity'] = [TextBlob(x).sentiment[0] for x in df_total['review'] ]\n",
        "df_total['Subjectivity'] = [TextBlob(x).sentiment[1] for x in df_total['review'] ]"
      ],
      "execution_count": 0,
      "outputs": []
    },
    {
      "metadata": {
        "id": "6QGxOym83dBr",
        "colab_type": "code",
        "outputId": "c3779a76-9b9e-46f8-f754-543e4541c954",
        "colab": {
          "base_uri": "https://localhost:8080/",
          "height": 663
        }
      },
      "cell_type": "code",
      "source": [
        "df_total.head()"
      ],
      "execution_count": 0,
      "outputs": [
        {
          "output_type": "execute_result",
          "data": {
            "text/html": [
              "<div>\n",
              "<style scoped>\n",
              "    .dataframe tbody tr th:only-of-type {\n",
              "        vertical-align: middle;\n",
              "    }\n",
              "\n",
              "    .dataframe tbody tr th {\n",
              "        vertical-align: top;\n",
              "    }\n",
              "\n",
              "    .dataframe thead th {\n",
              "        text-align: right;\n",
              "    }\n",
              "</style>\n",
              "<table border=\"1\" class=\"dataframe\">\n",
              "  <thead>\n",
              "    <tr style=\"text-align: right;\">\n",
              "      <th></th>\n",
              "      <th>buss_id</th>\n",
              "      <th>user_id</th>\n",
              "      <th>review</th>\n",
              "      <th>rating</th>\n",
              "      <th>word_count</th>\n",
              "      <th>Polarity</th>\n",
              "      <th>Subjectivity</th>\n",
              "    </tr>\n",
              "    <tr>\n",
              "      <th>time_created</th>\n",
              "      <th></th>\n",
              "      <th></th>\n",
              "      <th></th>\n",
              "      <th></th>\n",
              "      <th></th>\n",
              "      <th></th>\n",
              "      <th></th>\n",
              "    </tr>\n",
              "  </thead>\n",
              "  <tbody>\n",
              "    <tr>\n",
              "      <th>2018-11-16 14:36:46</th>\n",
              "      <td>5WHpzFh-ZbTBY919PlZPTw</td>\n",
              "      <td>KVKIvMY5gL5scNgexlENiQ</td>\n",
              "      <td>I have been here at 630 am and the staff is al...</td>\n",
              "      <td>4.0</td>\n",
              "      <td>32</td>\n",
              "      <td>0.733333</td>\n",
              "      <td>0.966667</td>\n",
              "    </tr>\n",
              "    <tr>\n",
              "      <th>2018-12-14 06:50:12</th>\n",
              "      <td>5WHpzFh-ZbTBY919PlZPTw</td>\n",
              "      <td>Xx4lFM_a8mMsfnzJpsN4Zw</td>\n",
              "      <td>Horrible experience this morning ,app orders s...</td>\n",
              "      <td>2.0</td>\n",
              "      <td>28</td>\n",
              "      <td>-0.266667</td>\n",
              "      <td>0.700000</td>\n",
              "    </tr>\n",
              "    <tr>\n",
              "      <th>2018-09-24 20:34:28</th>\n",
              "      <td>5WHpzFh-ZbTBY919PlZPTw</td>\n",
              "      <td>vmWuNyhSeqeKsLvRtOnYQQ</td>\n",
              "      <td>Can't say I'm a \"regular\" at Starbucks, but I ...</td>\n",
              "      <td>3.0</td>\n",
              "      <td>27</td>\n",
              "      <td>0.250000</td>\n",
              "      <td>0.538462</td>\n",
              "    </tr>\n",
              "    <tr>\n",
              "      <th>2018-03-02 05:34:23</th>\n",
              "      <td>AJR1lIu3RzgC8bgCk2tFog</td>\n",
              "      <td>L261dYh3HYs28hnYs23yIQ</td>\n",
              "      <td>I arrived extremely early in NY so I decided t...</td>\n",
              "      <td>3.0</td>\n",
              "      <td>29</td>\n",
              "      <td>0.100000</td>\n",
              "      <td>0.300000</td>\n",
              "    </tr>\n",
              "    <tr>\n",
              "      <th>2018-01-21 17:55:14</th>\n",
              "      <td>AJR1lIu3RzgC8bgCk2tFog</td>\n",
              "      <td>HQ1kFlb7JO8nr-LZwbfEdA</td>\n",
              "      <td>When I was younger, I used to play a game with...</td>\n",
              "      <td>3.0</td>\n",
              "      <td>28</td>\n",
              "      <td>-0.133333</td>\n",
              "      <td>0.300000</td>\n",
              "    </tr>\n",
              "  </tbody>\n",
              "</table>\n",
              "</div>"
            ],
            "text/plain": [
              "                                    buss_id                 user_id  \\\n",
              "time_created                                                          \n",
              "2018-11-16 14:36:46  5WHpzFh-ZbTBY919PlZPTw  KVKIvMY5gL5scNgexlENiQ   \n",
              "2018-12-14 06:50:12  5WHpzFh-ZbTBY919PlZPTw  Xx4lFM_a8mMsfnzJpsN4Zw   \n",
              "2018-09-24 20:34:28  5WHpzFh-ZbTBY919PlZPTw  vmWuNyhSeqeKsLvRtOnYQQ   \n",
              "2018-03-02 05:34:23  AJR1lIu3RzgC8bgCk2tFog  L261dYh3HYs28hnYs23yIQ   \n",
              "2018-01-21 17:55:14  AJR1lIu3RzgC8bgCk2tFog  HQ1kFlb7JO8nr-LZwbfEdA   \n",
              "\n",
              "                                                                review  \\\n",
              "time_created                                                             \n",
              "2018-11-16 14:36:46  I have been here at 630 am and the staff is al...   \n",
              "2018-12-14 06:50:12  Horrible experience this morning ,app orders s...   \n",
              "2018-09-24 20:34:28  Can't say I'm a \"regular\" at Starbucks, but I ...   \n",
              "2018-03-02 05:34:23  I arrived extremely early in NY so I decided t...   \n",
              "2018-01-21 17:55:14  When I was younger, I used to play a game with...   \n",
              "\n",
              "                     rating  word_count  Polarity  Subjectivity  \n",
              "time_created                                                     \n",
              "2018-11-16 14:36:46     4.0          32  0.733333      0.966667  \n",
              "2018-12-14 06:50:12     2.0          28 -0.266667      0.700000  \n",
              "2018-09-24 20:34:28     3.0          27  0.250000      0.538462  \n",
              "2018-03-02 05:34:23     3.0          29  0.100000      0.300000  \n",
              "2018-01-21 17:55:14     3.0          28 -0.133333      0.300000  "
            ]
          },
          "metadata": {
            "tags": []
          },
          "execution_count": 35
        }
      ]
    },
    {
      "metadata": {
        "id": "Y9ck0HI4C-bU",
        "colab_type": "code",
        "colab": {}
      },
      "cell_type": "code",
      "source": [
        "#save file to Google Drive\n",
        "df_total.to_csv(base_dir + 'export_review_rate.csv', index = None, header=True) #Don't forget to add '.csv' at the end of the path\n"
      ],
      "execution_count": 0,
      "outputs": []
    },
    {
      "metadata": {
        "id": "mzfUOZl6vzOP",
        "colab_type": "code",
        "outputId": "63a28ef3-5d28-4a7c-eea7-131bfbd764ac",
        "colab": {
          "base_uri": "https://localhost:8080/",
          "height": 390
        }
      },
      "cell_type": "code",
      "source": [
        "# look at the user's activity\n",
        "df_total.groupby(['user_id']).count().sort_values([\"buss_id\"],ascending=False).head(10)"
      ],
      "execution_count": 25,
      "outputs": [
        {
          "output_type": "execute_result",
          "data": {
            "text/html": [
              "<div>\n",
              "<style scoped>\n",
              "    .dataframe tbody tr th:only-of-type {\n",
              "        vertical-align: middle;\n",
              "    }\n",
              "\n",
              "    .dataframe tbody tr th {\n",
              "        vertical-align: top;\n",
              "    }\n",
              "\n",
              "    .dataframe thead th {\n",
              "        text-align: right;\n",
              "    }\n",
              "</style>\n",
              "<table border=\"1\" class=\"dataframe\">\n",
              "  <thead>\n",
              "    <tr style=\"text-align: right;\">\n",
              "      <th></th>\n",
              "      <th>buss_id</th>\n",
              "      <th>review</th>\n",
              "      <th>rating</th>\n",
              "      <th>word_count</th>\n",
              "      <th>Polarity</th>\n",
              "      <th>Subjectivity</th>\n",
              "    </tr>\n",
              "    <tr>\n",
              "      <th>user_id</th>\n",
              "      <th></th>\n",
              "      <th></th>\n",
              "      <th></th>\n",
              "      <th></th>\n",
              "      <th></th>\n",
              "      <th></th>\n",
              "    </tr>\n",
              "  </thead>\n",
              "  <tbody>\n",
              "    <tr>\n",
              "      <th>Hi10sGSZNxQH3NLyWSZ1oA</th>\n",
              "      <td>3</td>\n",
              "      <td>3</td>\n",
              "      <td>3</td>\n",
              "      <td>3</td>\n",
              "      <td>3</td>\n",
              "      <td>3</td>\n",
              "    </tr>\n",
              "    <tr>\n",
              "      <th>hrvigsJKZQo-u17_0NOvaw</th>\n",
              "      <td>2</td>\n",
              "      <td>2</td>\n",
              "      <td>2</td>\n",
              "      <td>2</td>\n",
              "      <td>2</td>\n",
              "      <td>2</td>\n",
              "    </tr>\n",
              "    <tr>\n",
              "      <th>6pbNMgTnSYrtPHDN07IXwA</th>\n",
              "      <td>2</td>\n",
              "      <td>2</td>\n",
              "      <td>2</td>\n",
              "      <td>2</td>\n",
              "      <td>2</td>\n",
              "      <td>2</td>\n",
              "    </tr>\n",
              "    <tr>\n",
              "      <th>KVKIvMY5gL5scNgexlENiQ</th>\n",
              "      <td>2</td>\n",
              "      <td>2</td>\n",
              "      <td>2</td>\n",
              "      <td>2</td>\n",
              "      <td>2</td>\n",
              "      <td>2</td>\n",
              "    </tr>\n",
              "    <tr>\n",
              "      <th>PcvbBOCOcs6_suRDH7TSTg</th>\n",
              "      <td>2</td>\n",
              "      <td>2</td>\n",
              "      <td>2</td>\n",
              "      <td>2</td>\n",
              "      <td>2</td>\n",
              "      <td>2</td>\n",
              "    </tr>\n",
              "    <tr>\n",
              "      <th>tfLA8WgftF0skR7skllD0w</th>\n",
              "      <td>2</td>\n",
              "      <td>2</td>\n",
              "      <td>2</td>\n",
              "      <td>2</td>\n",
              "      <td>2</td>\n",
              "      <td>2</td>\n",
              "    </tr>\n",
              "    <tr>\n",
              "      <th>wRq5ZTtytlyRRr0jAllklA</th>\n",
              "      <td>2</td>\n",
              "      <td>2</td>\n",
              "      <td>2</td>\n",
              "      <td>2</td>\n",
              "      <td>2</td>\n",
              "      <td>2</td>\n",
              "    </tr>\n",
              "    <tr>\n",
              "      <th>wce0tudXf9BCeWhQRr0TiA</th>\n",
              "      <td>2</td>\n",
              "      <td>2</td>\n",
              "      <td>2</td>\n",
              "      <td>2</td>\n",
              "      <td>2</td>\n",
              "      <td>2</td>\n",
              "    </tr>\n",
              "    <tr>\n",
              "      <th>3aOeVccmezfYCRBT9tP7Ng</th>\n",
              "      <td>2</td>\n",
              "      <td>2</td>\n",
              "      <td>2</td>\n",
              "      <td>2</td>\n",
              "      <td>2</td>\n",
              "      <td>2</td>\n",
              "    </tr>\n",
              "    <tr>\n",
              "      <th>l0MBP2olaZc5_SP5nWTCWg</th>\n",
              "      <td>2</td>\n",
              "      <td>2</td>\n",
              "      <td>2</td>\n",
              "      <td>2</td>\n",
              "      <td>2</td>\n",
              "      <td>2</td>\n",
              "    </tr>\n",
              "  </tbody>\n",
              "</table>\n",
              "</div>"
            ],
            "text/plain": [
              "                        buss_id  review  rating  word_count  Polarity  \\\n",
              "user_id                                                                 \n",
              "Hi10sGSZNxQH3NLyWSZ1oA        3       3       3           3         3   \n",
              "hrvigsJKZQo-u17_0NOvaw        2       2       2           2         2   \n",
              "6pbNMgTnSYrtPHDN07IXwA        2       2       2           2         2   \n",
              "KVKIvMY5gL5scNgexlENiQ        2       2       2           2         2   \n",
              "PcvbBOCOcs6_suRDH7TSTg        2       2       2           2         2   \n",
              "tfLA8WgftF0skR7skllD0w        2       2       2           2         2   \n",
              "wRq5ZTtytlyRRr0jAllklA        2       2       2           2         2   \n",
              "wce0tudXf9BCeWhQRr0TiA        2       2       2           2         2   \n",
              "3aOeVccmezfYCRBT9tP7Ng        2       2       2           2         2   \n",
              "l0MBP2olaZc5_SP5nWTCWg        2       2       2           2         2   \n",
              "\n",
              "                        Subjectivity  \n",
              "user_id                               \n",
              "Hi10sGSZNxQH3NLyWSZ1oA             3  \n",
              "hrvigsJKZQo-u17_0NOvaw             2  \n",
              "6pbNMgTnSYrtPHDN07IXwA             2  \n",
              "KVKIvMY5gL5scNgexlENiQ             2  \n",
              "PcvbBOCOcs6_suRDH7TSTg             2  \n",
              "tfLA8WgftF0skR7skllD0w             2  \n",
              "wRq5ZTtytlyRRr0jAllklA             2  \n",
              "wce0tudXf9BCeWhQRr0TiA             2  \n",
              "3aOeVccmezfYCRBT9tP7Ng             2  \n",
              "l0MBP2olaZc5_SP5nWTCWg             2  "
            ]
          },
          "metadata": {
            "tags": []
          },
          "execution_count": 25
        }
      ]
    },
    {
      "metadata": {
        "id": "WoRQay5Vxji1",
        "colab_type": "code",
        "outputId": "8e282841-2793-454f-8457-76a17139865a",
        "colab": {
          "base_uri": "https://localhost:8080/",
          "height": 431
        }
      },
      "cell_type": "code",
      "source": [
        "df_total[df_total['user_id']==\"Hi10sGSZNxQH3NLyWSZ1oA\"]"
      ],
      "execution_count": 26,
      "outputs": [
        {
          "output_type": "execute_result",
          "data": {
            "text/html": [
              "<div>\n",
              "<style scoped>\n",
              "    .dataframe tbody tr th:only-of-type {\n",
              "        vertical-align: middle;\n",
              "    }\n",
              "\n",
              "    .dataframe tbody tr th {\n",
              "        vertical-align: top;\n",
              "    }\n",
              "\n",
              "    .dataframe thead th {\n",
              "        text-align: right;\n",
              "    }\n",
              "</style>\n",
              "<table border=\"1\" class=\"dataframe\">\n",
              "  <thead>\n",
              "    <tr style=\"text-align: right;\">\n",
              "      <th></th>\n",
              "      <th>buss_id</th>\n",
              "      <th>user_id</th>\n",
              "      <th>review</th>\n",
              "      <th>rating</th>\n",
              "      <th>word_count</th>\n",
              "      <th>Polarity</th>\n",
              "      <th>Subjectivity</th>\n",
              "    </tr>\n",
              "    <tr>\n",
              "      <th>time_created</th>\n",
              "      <th></th>\n",
              "      <th></th>\n",
              "      <th></th>\n",
              "      <th></th>\n",
              "      <th></th>\n",
              "      <th></th>\n",
              "      <th></th>\n",
              "    </tr>\n",
              "  </thead>\n",
              "  <tbody>\n",
              "    <tr>\n",
              "      <th>2019-03-14 02:07:21</th>\n",
              "      <td>8NHISsd0gKhyPNJoqhEqnA</td>\n",
              "      <td>Hi10sGSZNxQH3NLyWSZ1oA</td>\n",
              "      <td>Don't sneer at me for reviewing Starbucks. Oth...</td>\n",
              "      <td>3.0</td>\n",
              "      <td>27</td>\n",
              "      <td>0.0</td>\n",
              "      <td>0.5</td>\n",
              "    </tr>\n",
              "    <tr>\n",
              "      <th>2019-03-14 02:20:39</th>\n",
              "      <td>lSncUPNBY-qs_QOtEOpkVA</td>\n",
              "      <td>Hi10sGSZNxQH3NLyWSZ1oA</td>\n",
              "      <td>I brought my dog in here. He didn't like it. H...</td>\n",
              "      <td>2.0</td>\n",
              "      <td>30</td>\n",
              "      <td>0.2</td>\n",
              "      <td>0.2</td>\n",
              "    </tr>\n",
              "    <tr>\n",
              "      <th>2019-03-15 03:02:14</th>\n",
              "      <td>UgjaEX9ssUmISd63QdLiyw</td>\n",
              "      <td>Hi10sGSZNxQH3NLyWSZ1oA</td>\n",
              "      <td>I got scared that I was about to pee myself, s...</td>\n",
              "      <td>3.0</td>\n",
              "      <td>30</td>\n",
              "      <td>0.2</td>\n",
              "      <td>0.3</td>\n",
              "    </tr>\n",
              "  </tbody>\n",
              "</table>\n",
              "</div>"
            ],
            "text/plain": [
              "                                    buss_id                 user_id  \\\n",
              "time_created                                                          \n",
              "2019-03-14 02:07:21  8NHISsd0gKhyPNJoqhEqnA  Hi10sGSZNxQH3NLyWSZ1oA   \n",
              "2019-03-14 02:20:39  lSncUPNBY-qs_QOtEOpkVA  Hi10sGSZNxQH3NLyWSZ1oA   \n",
              "2019-03-15 03:02:14  UgjaEX9ssUmISd63QdLiyw  Hi10sGSZNxQH3NLyWSZ1oA   \n",
              "\n",
              "                                                                review  \\\n",
              "time_created                                                             \n",
              "2019-03-14 02:07:21  Don't sneer at me for reviewing Starbucks. Oth...   \n",
              "2019-03-14 02:20:39  I brought my dog in here. He didn't like it. H...   \n",
              "2019-03-15 03:02:14  I got scared that I was about to pee myself, s...   \n",
              "\n",
              "                     rating  word_count  Polarity  Subjectivity  \n",
              "time_created                                                     \n",
              "2019-03-14 02:07:21     3.0          27       0.0           0.5  \n",
              "2019-03-14 02:20:39     2.0          30       0.2           0.2  \n",
              "2019-03-15 03:02:14     3.0          30       0.2           0.3  "
            ]
          },
          "metadata": {
            "tags": []
          },
          "execution_count": 26
        }
      ]
    },
    {
      "metadata": {
        "id": "T1PtmZstufve",
        "colab_type": "code",
        "outputId": "b00776cb-cecd-4121-e433-66db159f2046",
        "colab": {
          "base_uri": "https://localhost:8080/",
          "height": 378
        }
      },
      "cell_type": "code",
      "source": [
        "sns.countplot(x=\"rating\", data=df_total)"
      ],
      "execution_count": 27,
      "outputs": [
        {
          "output_type": "execute_result",
          "data": {
            "text/plain": [
              "<matplotlib.axes._subplots.AxesSubplot at 0x7f6f54b73588>"
            ]
          },
          "metadata": {
            "tags": []
          },
          "execution_count": 27
        },
        {
          "output_type": "display_data",
          "data": {
            "image/png": "[encoded data removed]",
            "text/plain": [
              "<Figure size 576x396 with 1 Axes>"
            ]
          },
          "metadata": {
            "tags": []
          }
        }
      ]
    },
    {
      "metadata": {
        "id": "SrCEhWGrfjBK",
        "colab_type": "code",
        "outputId": "2cd6c6bb-5349-4500-f35d-6d1850f8e4d0",
        "colab": {
          "base_uri": "https://localhost:8080/",
          "height": 364
        }
      },
      "cell_type": "code",
      "source": [
        "sns.distplot(df_total[\"word_count\"].values,bins=10,kde=False) "
      ],
      "execution_count": 29,
      "outputs": [
        {
          "output_type": "execute_result",
          "data": {
            "text/plain": [
              "<matplotlib.axes._subplots.AxesSubplot at 0x7f6f54ba0a58>"
            ]
          },
          "metadata": {
            "tags": []
          },
          "execution_count": 29
        },
        {
          "output_type": "display_data",
          "data": {
            "image/png": "[encoded data removed]",
            "text/plain": [
              "<Figure size 576x396 with 1 Axes>"
            ]
          },
          "metadata": {
            "tags": []
          }
        }
      ]
    },
    {
      "metadata": {
        "id": "h3A27VWxfNgw",
        "colab_type": "code",
        "outputId": "b07d2d5a-d2da-476f-c1e5-75c8ebe9bfb7",
        "colab": {
          "base_uri": "https://localhost:8080/",
          "height": 364
        }
      },
      "cell_type": "code",
      "source": [
        "sns.distplot(df_total[\"Polarity\"].values,bins=10,kde=False)"
      ],
      "execution_count": 30,
      "outputs": [
        {
          "output_type": "execute_result",
          "data": {
            "text/plain": [
              "<matplotlib.axes._subplots.AxesSubplot at 0x7f6f54b83470>"
            ]
          },
          "metadata": {
            "tags": []
          },
          "execution_count": 30
        },
        {
          "output_type": "display_data",
          "data": {
            "image/png": "[encoded data removed]",
            "text/plain": [
              "<Figure size 576x396 with 1 Axes>"
            ]
          },
          "metadata": {
            "tags": []
          }
        }
      ]
    },
    {
      "metadata": {
        "id": "knPxbRZnwBvo",
        "colab_type": "text"
      },
      "cell_type": "markdown",
      "source": [
        "Howis the review rate correlated to the polarity?"
      ]
    },
    {
      "metadata": {
        "id": "XDPuYl05vMRz",
        "colab_type": "code",
        "outputId": "8e335f47-8001-44e0-a578-6497dc24b817",
        "colab": {
          "base_uri": "https://localhost:8080/",
          "height": 378
        }
      },
      "cell_type": "code",
      "source": [
        "sns.boxplot(x=\"rating\", y=\"Polarity\", data=df_total)"
      ],
      "execution_count": 31,
      "outputs": [
        {
          "output_type": "execute_result",
          "data": {
            "text/plain": [
              "<matplotlib.axes._subplots.AxesSubplot at 0x7f6f54bb6400>"
            ]
          },
          "metadata": {
            "tags": []
          },
          "execution_count": 31
        },
        {
          "output_type": "display_data",
          "data": {
            "image/png": "[encoded data removed]",
            "text/plain": [
              "<Figure size 576x396 with 1 Axes>"
            ]
          },
          "metadata": {
            "tags": []
          }
        }
      ]
    },
    {
      "metadata": {
        "id": "p_3El9NFwTEP",
        "colab_type": "code",
        "outputId": "9ccdbc74-c3a7-4c1f-9552-c496b71d0eba",
        "colab": {
          "base_uri": "https://localhost:8080/",
          "height": 378
        }
      },
      "cell_type": "code",
      "source": [
        "sns.boxplot(x=\"rating\", y=\"Subjectivity\", data=df_total)"
      ],
      "execution_count": 32,
      "outputs": [
        {
          "output_type": "execute_result",
          "data": {
            "text/plain": [
              "<matplotlib.axes._subplots.AxesSubplot at 0x7f6f54bf4c18>"
            ]
          },
          "metadata": {
            "tags": []
          },
          "execution_count": 32
        },
        {
          "output_type": "display_data",
          "data": {
            "image/png": "[encoded data removed]",
            "text/plain": [
              "<Figure size 576x396 with 1 Axes>"
            ]
          },
          "metadata": {
            "tags": []
          }
        }
      ]
    },
    {
      "metadata": {
        "id": "Dv17fxVBhnv0",
        "colab_type": "text"
      },
      "cell_type": "markdown",
      "source": [
        "Topic Modeling with LSA"
      ]
    },
    {
      "metadata": {
        "id": "S0oPILt-Z-B2",
        "colab_type": "code",
        "colab": {}
      },
      "cell_type": "code",
      "source": [
        "from sklearn.feature_extraction.text import CountVectorizer\n",
        "from sklearn.feature_extraction.text import TfidfVectorizer\n",
        "from sklearn.decomposition import TruncatedSVD\n",
        "from sklearn.decomposition import LatentDirichletAllocation\n",
        "from sklearn.manifold import TSNE\n",
        "from collections import Counter"
      ],
      "execution_count": 0,
      "outputs": []
    },
    {
      "metadata": {
        "id": "ihfc4TZdxXej",
        "colab_type": "code",
        "colab": {}
      },
      "cell_type": "code",
      "source": [
        "reindexed_data = df_total['review']\n",
        "tfidf_vectorizer = TfidfVectorizer(stop_words='english', use_idf=True, smooth_idf=True)\n",
        "reindexed_data = reindexed_data.values\n",
        "document_term_matrix = tfidf_vectorizer.fit_transform(reindexed_data)"
      ],
      "execution_count": 0,
      "outputs": []
    },
    {
      "metadata": {
        "id": "J8MkBajJpNaY",
        "colab_type": "code",
        "colab": {}
      },
      "cell_type": "code",
      "source": [
        "n_topics = 6\n",
        "lsa_model = TruncatedSVD(n_components=n_topics)\n",
        "lsa_topic_matrix = lsa_model.fit_transform(document_term_matrix)"
      ],
      "execution_count": 0,
      "outputs": []
    },
    {
      "metadata": {
        "id": "eZdIRs55ie_e",
        "colab_type": "code",
        "colab": {}
      },
      "cell_type": "code",
      "source": [
        "def get_keys(topic_matrix):\n",
        "    '''\n",
        "    returns an integer list of predicted topic \n",
        "    categories for a given topic matrix\n",
        "    '''\n",
        "    keys = topic_matrix.argmax(axis=1).tolist()\n",
        "    return keys\n",
        "\n",
        "def keys_to_counts(keys):\n",
        "    '''\n",
        "    returns a tuple of topic categories and their \n",
        "    accompanying magnitudes for a given list of keys\n",
        "    '''\n",
        "    count_pairs = Counter(keys).items()\n",
        "    categories = [pair[0] for pair in count_pairs]\n",
        "    counts = [pair[1] for pair in count_pairs]\n",
        "    return (categories, counts)"
      ],
      "execution_count": 0,
      "outputs": []
    },
    {
      "metadata": {
        "id": "LfCZaLk6ih8-",
        "colab_type": "code",
        "colab": {}
      },
      "cell_type": "code",
      "source": [
        "lsa_keys = get_keys(lsa_topic_matrix)\n",
        "lsa_categories, lsa_counts = keys_to_counts(lsa_keys)"
      ],
      "execution_count": 0,
      "outputs": []
    },
    {
      "metadata": {
        "id": "cDw74cmQirdn",
        "colab_type": "code",
        "colab": {}
      },
      "cell_type": "code",
      "source": [
        "def get_top_n_words(n, keys, document_term_matrix, tfidf_vectorizer):\n",
        "    '''\n",
        "    returns a list of n_topic strings, where each string contains the n most common \n",
        "    words in a predicted category, in order\n",
        "    '''\n",
        "    top_word_indices = []\n",
        "    for topic in range(n_topics):\n",
        "        temp_vector_sum = 0\n",
        "        for i in range(len(keys)):\n",
        "            if keys[i] == topic:\n",
        "                temp_vector_sum += document_term_matrix[i]\n",
        "        temp_vector_sum = temp_vector_sum.toarray()\n",
        "        top_n_word_indices = np.flip(np.argsort(temp_vector_sum)[0][-n:],0)\n",
        "        top_word_indices.append(top_n_word_indices)   \n",
        "    top_words = []\n",
        "    for topic in top_word_indices:\n",
        "        topic_words = []\n",
        "        for index in topic:\n",
        "            temp_word_vector = np.zeros((1,document_term_matrix.shape[1]))\n",
        "            temp_word_vector[:,index] = 1\n",
        "            the_word = tfidf_vectorizer.inverse_transform(temp_word_vector)[0][0]\n",
        "            topic_words.append(the_word.encode('ascii').decode('utf-8'))\n",
        "        top_words.append(\" \".join(topic_words))         \n",
        "    return top_words"
      ],
      "execution_count": 0,
      "outputs": []
    },
    {
      "metadata": {
        "id": "N_kRWd1VisU5",
        "colab_type": "code",
        "outputId": "0f41e510-119f-4309-c8e0-37601d142289",
        "colab": {
          "base_uri": "https://localhost:8080/",
          "height": 119
        }
      },
      "cell_type": "code",
      "source": [
        "top_n_words_lsa = get_top_n_words(3, lsa_keys, document_term_matrix, tfidf_vectorizer)\n",
        "\n",
        "for i in range(len(top_n_words_lsa)):\n",
        "    print(\"Topic {}: \".format(i+1), top_n_words_lsa[i])"
      ],
      "execution_count": 47,
      "outputs": [
        {
          "output_type": "stream",
          "text": [
            "Topic 1:  starbucks location like\n",
            "Topic 2:  order minutes got\n",
            "Topic 3:  location week come\n",
            "Topic 4:  staff busy morning\n",
            "Topic 5:  service customer good\n",
            "Topic 6:  times square friendly\n"
          ],
          "name": "stdout"
        }
      ]
    },
    {
      "metadata": {
        "id": "y957AvxljXaE",
        "colab_type": "code",
        "outputId": "289ee0ae-5f8a-4fd9-aceb-22f7d01c3bd7",
        "colab": {
          "base_uri": "https://localhost:8080/",
          "height": 529
        }
      },
      "cell_type": "code",
      "source": [
        "top_3_words = get_top_n_words(3, lsa_keys, document_term_matrix, tfidf_vectorizer)\n",
        "labels = ['Topic {}: \\n'.format(i) + top_3_words[i] for i in lsa_categories]\n",
        "\n",
        "fig, ax = plt.subplots(figsize=(16,8))\n",
        "ax.bar(lsa_categories, lsa_counts);\n",
        "ax.set_xticks(lsa_categories);\n",
        "ax.set_xticklabels(labels);\n",
        "ax.set_ylabel('Number of review text');\n",
        "ax.set_title('LSA topic counts');\n",
        "plt.show();"
      ],
      "execution_count": 49,
      "outputs": [
        {
          "output_type": "display_data",
          "data": {
            "image/png": "[encoded data removed]",
            "text/plain": [
              "<Figure size 1152x576 with 1 Axes>"
            ]
          },
          "metadata": {
            "tags": []
          }
        }
      ]
    },
    {
      "metadata": {
        "id": "XcbZuE5stz0N",
        "colab_type": "text"
      },
      "cell_type": "markdown",
      "source": [
        ""
      ]
    }
  ]
}