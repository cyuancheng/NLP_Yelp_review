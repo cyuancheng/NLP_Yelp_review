{
  "nbformat": 4,
  "nbformat_minor": 0,
  "metadata": {
    "colab": {
      "name": "NLP_2_yelp.ipynb",
      "version": "0.3.2",
      "provenance": [],
      "collapsed_sections": [],
      "include_colab_link": true
    },
    "kernelspec": {
      "name": "python3",
      "display_name": "Python 3"
    }
  },
  "cells": [
    {
      "cell_type": "markdown",
      "metadata": {
        "id": "view-in-github",
        "colab_type": "text"
      },
      "source": [
        "<a href=\"https://colab.research.google.com/github/cyuancheng/NLP_Yelp_review/blob/master/NLP_2_yelp.ipynb\" target=\"_parent\"><img src=\"https://colab.research.google.com/assets/colab-badge.svg\" alt=\"Open In Colab\"/></a>"
      ]
    },
    {
      "metadata": {
        "id": "2KTF4FByD2_V",
        "colab_type": "text"
      },
      "cell_type": "markdown",
      "source": [
        "##Natural Language Processing and Sentiment Analysis for Yelp##\n",
        "\n",
        "Explore Starbucks review in New York City"
      ]
    },
    {
      "metadata": {
        "id": "Bv_JR_8LHEZS",
        "colab_type": "code",
        "colab": {}
      },
      "cell_type": "code",
      "source": [
        "import pandas as pd\n",
        "import requests\n",
        "import spacy #use NLP functions\n",
        "from spacy import displacy\n",
        "from textblob import TextBlob\n",
        "import re\n",
        "import matplotlib as mpl\n",
        "import matplotlib.pyplot as plt\n",
        "import seaborn as sns\n",
        "\n",
        "import folium\n",
        "import warnings\n",
        "warnings.filterwarnings(\"ignore\")"
      ],
      "execution_count": 0,
      "outputs": []
    },
    {
      "metadata": {
        "id": "5yO9p5IfpbM_",
        "colab_type": "text"
      },
      "cell_type": "markdown",
      "source": [
        "###1. Data pre-process and cleaning###\n",
        "Get data from Yelp api"
      ]
    },
    {
      "metadata": {
        "id": "nu8hn15rl7MQ",
        "colab_type": "code",
        "colab": {}
      },
      "cell_type": "code",
      "source": [
        "#get yelp api (https://www.yelp.com/developers)\n",
        "# \n",
        "\n",
        "client_id = 'fl6Gc_WOT5VLrae0o6fc7w' \n",
        "key = 'kArR8ttjf4JdZDtC27-InwcgepdkWrtTcSfaHKwf_JMtQY0LvXgfaG3lmUA3F2oCCp-KUa-W8tPuVXdm8Abwj6N0m0YJniJHVa61rXEFMLuAM11d2IrYSV5NEYGJXHYx'\n",
        "\n",
        "ENDPOINT = 'https://api.yelp.com/v3/businesses/search'\n",
        "\n",
        "HEADERS = {'Authorization':'bearer {}'.format(key)}\n",
        "\n",
        "PARAMETERS = {#'term':'restaurant'or \"food\"  ,\n",
        "             'term' : 'Starbucks',\n",
        "              'limit':50,\n",
        "             'radius':40000, # meter\n",
        "              #'sort_by' :'review_count', \n",
        "             'location':\"New York City\"\n",
        "             }\n",
        "\n",
        "response = requests.get(url = ENDPOINT, params = PARAMETERS, headers = HEADERS)"
      ],
      "execution_count": 0,
      "outputs": []
    },
    {
      "metadata": {
        "id": "VXu-5_E-pmI7",
        "colab_type": "text"
      },
      "cell_type": "markdown",
      "source": [
        "- Process/Clean business data"
      ]
    },
    {
      "metadata": {
        "id": "vI-XhgJ7mDaH",
        "colab_type": "code",
        "colab": {}
      },
      "cell_type": "code",
      "source": [
        "data = response.json()"
      ],
      "execution_count": 0,
      "outputs": []
    },
    {
      "metadata": {
        "id": "SsQ8funaVwrd",
        "colab_type": "code",
        "outputId": "11685376-34be-4ea4-efb4-efe06b349366",
        "colab": {
          "base_uri": "https://localhost:8080/",
          "height": 428
        }
      },
      "cell_type": "code",
      "source": [
        "data[\"businesses\"][0]"
      ],
      "execution_count": 99,
      "outputs": [
        {
          "output_type": "execute_result",
          "data": {
            "text/plain": [
              "{'alias': 'starbucks-brooklyn-54',\n",
              " 'categories': [{'alias': 'coffee', 'title': 'Coffee & Tea'}],\n",
              " 'coordinates': {'latitude': 40.702815, 'longitude': -73.993666},\n",
              " 'display_phone': '(917) 685-7717',\n",
              " 'distance': 297.1684036579673,\n",
              " 'id': 'xAvwjM0F5LN9g3yFsk9e0w',\n",
              " 'image_url': 'https://s3-media1.fl.yelpcdn.com/bphoto/WbZMqUACmt64n-nxC4C67Q/o.jpg',\n",
              " 'is_closed': False,\n",
              " 'location': {'address1': '11 Old Fulton St.',\n",
              "  'address2': '',\n",
              "  'address3': None,\n",
              "  'city': 'Brooklyn',\n",
              "  'country': 'US',\n",
              "  'display_address': ['11 Old Fulton St.', 'Brooklyn, NY 11201'],\n",
              "  'state': 'NY',\n",
              "  'zip_code': '11201'},\n",
              " 'name': 'Starbucks',\n",
              " 'phone': '+19176857717',\n",
              " 'price': '$$',\n",
              " 'rating': 4.0,\n",
              " 'review_count': 7,\n",
              " 'transactions': [],\n",
              " 'url': 'https://www.yelp.com/biz/starbucks-brooklyn-54?adjust_creative=fl6Gc_WOT5VLrae0o6fc7w&utm_campaign=yelp_api_v3&utm_medium=api_v3_business_search&utm_source=fl6Gc_WOT5VLrae0o6fc7w'}"
            ]
          },
          "metadata": {
            "tags": []
          },
          "execution_count": 99
        }
      ]
    },
    {
      "metadata": {
        "id": "lS1G3_fjGuIl",
        "colab_type": "text"
      },
      "cell_type": "markdown",
      "source": [
        "Next, we can make a list of the businesses with their id, rating, price, and location"
      ]
    },
    {
      "metadata": {
        "id": "N1so2K95L3pl",
        "colab_type": "code",
        "colab": {}
      },
      "cell_type": "code",
      "source": [
        "# list of id in businesses with rating\n",
        "list_buss = []\n",
        "\n",
        "for item in data['businesses']:\n",
        "  try:\n",
        "    list_buss.append([item['id'], item['rating'], item['price'],item['review_count'],\\\n",
        "                      item['coordinates']['latitude'],item['coordinates']['longitude'] ])\n",
        "  except:\n",
        "    list_buss.append([item['id'], item['rating'], None, None, None, None])"
      ],
      "execution_count": 0,
      "outputs": []
    },
    {
      "metadata": {
        "id": "fN9qqsHWG9Ze",
        "colab_type": "code",
        "outputId": "0f4a66d9-c350-433d-91c0-40201e483783",
        "colab": {
          "base_uri": "https://localhost:8080/",
          "height": 204
        }
      },
      "cell_type": "code",
      "source": [
        "# convert to pandas format\n",
        "list_buss = pd.DataFrame(list_buss, columns = ['id','rating','price', 'count', 'latitude','longitude' ])\n",
        "list_buss.head()"
      ],
      "execution_count": 101,
      "outputs": [
        {
          "output_type": "execute_result",
          "data": {
            "text/html": [
              "<div>\n",
              "<style scoped>\n",
              "    .dataframe tbody tr th:only-of-type {\n",
              "        vertical-align: middle;\n",
              "    }\n",
              "\n",
              "    .dataframe tbody tr th {\n",
              "        vertical-align: top;\n",
              "    }\n",
              "\n",
              "    .dataframe thead th {\n",
              "        text-align: right;\n",
              "    }\n",
              "</style>\n",
              "<table border=\"1\" class=\"dataframe\">\n",
              "  <thead>\n",
              "    <tr style=\"text-align: right;\">\n",
              "      <th></th>\n",
              "      <th>id</th>\n",
              "      <th>rating</th>\n",
              "      <th>price</th>\n",
              "      <th>count</th>\n",
              "      <th>latitude</th>\n",
              "      <th>longitude</th>\n",
              "    </tr>\n",
              "  </thead>\n",
              "  <tbody>\n",
              "    <tr>\n",
              "      <th>0</th>\n",
              "      <td>xAvwjM0F5LN9g3yFsk9e0w</td>\n",
              "      <td>4.0</td>\n",
              "      <td>$$</td>\n",
              "      <td>7.0</td>\n",
              "      <td>40.702815</td>\n",
              "      <td>-73.993666</td>\n",
              "    </tr>\n",
              "    <tr>\n",
              "      <th>1</th>\n",
              "      <td>qcnoyytlFIuqlcjDXkXJiw</td>\n",
              "      <td>2.5</td>\n",
              "      <td>$$</td>\n",
              "      <td>62.0</td>\n",
              "      <td>40.702668</td>\n",
              "      <td>-73.990806</td>\n",
              "    </tr>\n",
              "    <tr>\n",
              "      <th>2</th>\n",
              "      <td>60agfQbky4cX8BEApyltIA</td>\n",
              "      <td>2.0</td>\n",
              "      <td>$</td>\n",
              "      <td>22.0</td>\n",
              "      <td>40.711018</td>\n",
              "      <td>-74.000916</td>\n",
              "    </tr>\n",
              "    <tr>\n",
              "      <th>3</th>\n",
              "      <td>VGMdcAn34GeasB4arA8XUA</td>\n",
              "      <td>3.0</td>\n",
              "      <td>$</td>\n",
              "      <td>35.0</td>\n",
              "      <td>40.707122</td>\n",
              "      <td>-74.004971</td>\n",
              "    </tr>\n",
              "    <tr>\n",
              "      <th>4</th>\n",
              "      <td>_H9AnQkr5VtOiykNnxcQlQ</td>\n",
              "      <td>2.5</td>\n",
              "      <td>$$</td>\n",
              "      <td>23.0</td>\n",
              "      <td>40.706487</td>\n",
              "      <td>-74.006685</td>\n",
              "    </tr>\n",
              "  </tbody>\n",
              "</table>\n",
              "</div>"
            ],
            "text/plain": [
              "                       id  rating price  count   latitude  longitude\n",
              "0  xAvwjM0F5LN9g3yFsk9e0w     4.0    $$    7.0  40.702815 -73.993666\n",
              "1  qcnoyytlFIuqlcjDXkXJiw     2.5    $$   62.0  40.702668 -73.990806\n",
              "2  60agfQbky4cX8BEApyltIA     2.0     $   22.0  40.711018 -74.000916\n",
              "3  VGMdcAn34GeasB4arA8XUA     3.0     $   35.0  40.707122 -74.004971\n",
              "4  _H9AnQkr5VtOiykNnxcQlQ     2.5    $$   23.0  40.706487 -74.006685"
            ]
          },
          "metadata": {
            "tags": []
          },
          "execution_count": 101
        }
      ]
    },
    {
      "metadata": {
        "id": "Kh1QYa-JRYRT",
        "colab_type": "code",
        "colab": {
          "base_uri": "https://localhost:8080/",
          "height": 34
        },
        "outputId": "499028a8-3a9c-4d7b-91df-2596dd7d0030"
      },
      "cell_type": "code",
      "source": [
        "locations = list_buss[['latitude', 'longitude']]\n",
        "locationlist = locations.values.tolist()\n",
        "len(locationlist)\n",
        "locationlist[7]"
      ],
      "execution_count": 102,
      "outputs": [
        {
          "output_type": "execute_result",
          "data": {
            "text/plain": [
              "[40.694582, -73.993978]"
            ]
          },
          "metadata": {
            "tags": []
          },
          "execution_count": 102
        }
      ]
    },
    {
      "metadata": {
        "id": "U_P52HeW27wA",
        "colab_type": "code",
        "colab": {
          "base_uri": "https://localhost:8080/",
          "height": 674
        },
        "outputId": "3b9dcdf6-7820-41c0-9d68-56037aada70b"
      },
      "cell_type": "code",
      "source": [
        "map = folium.Map(location=[40.694582, -73.993978], zoom_start=14)\n",
        "\n",
        "for point in range(0, len(locationlist)):\n",
        "    folium.Marker(locationlist[point], popup=list_buss['id'][point]).add_to(map)\n",
        "map"
      ],
      "execution_count": 103,
      "outputs": [
        {
          "output_type": "execute_result",
          "data": {
            "text/html": [
              "<div style=\"width:100%;\"><div style=\"position:relative;width:100%;height:0;padding-bottom:60%;\"><iframe src=\"data:text/html;base64,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\" style=\"position:absolute;width:100%;height:100%;left:0;top:0;\"></iframe></div></div>"
            ],
            "text/plain": [
              "<folium.folium.Map at 0x7fbc32291128>"
            ]
          },
          "metadata": {
            "tags": []
          },
          "execution_count": 103
        }
      ]
    },
    {
      "metadata": {
        "id": "zYrgnR07WN1R",
        "colab_type": "code",
        "outputId": "96bc7cb8-1043-4dc0-c3b1-1bb1b7b4e3f4",
        "colab": {
          "base_uri": "https://localhost:8080/",
          "height": 378
        }
      },
      "cell_type": "code",
      "source": [
        "sns.countplot(x=\"rating\", data=list_buss)"
      ],
      "execution_count": 67,
      "outputs": [
        {
          "output_type": "execute_result",
          "data": {
            "text/plain": [
              "<matplotlib.axes._subplots.AxesSubplot at 0x7fbc32570668>"
            ]
          },
          "metadata": {
            "tags": []
          },
          "execution_count": 67
        },
        {
          "output_type": "display_data",
          "data": {
            "image/png": "[encoded data removed]",
            "text/plain": [
              "<Figure size 576x396 with 1 Axes>"
            ]
          },
          "metadata": {
            "tags": []
          }
        }
      ]
    },
    {
      "metadata": {
        "id": "cUDYyt2kWqgM",
        "colab_type": "code",
        "outputId": "ea9ae686-628c-47e8-bc2b-b21950784cd6",
        "colab": {
          "base_uri": "https://localhost:8080/",
          "height": 142
        }
      },
      "cell_type": "code",
      "source": [
        "list_buss.groupby('price').count()"
      ],
      "execution_count": 68,
      "outputs": [
        {
          "output_type": "execute_result",
          "data": {
            "text/html": [
              "<div>\n",
              "<style scoped>\n",
              "    .dataframe tbody tr th:only-of-type {\n",
              "        vertical-align: middle;\n",
              "    }\n",
              "\n",
              "    .dataframe tbody tr th {\n",
              "        vertical-align: top;\n",
              "    }\n",
              "\n",
              "    .dataframe thead th {\n",
              "        text-align: right;\n",
              "    }\n",
              "</style>\n",
              "<table border=\"1\" class=\"dataframe\">\n",
              "  <thead>\n",
              "    <tr style=\"text-align: right;\">\n",
              "      <th></th>\n",
              "      <th>id</th>\n",
              "      <th>rating</th>\n",
              "      <th>count</th>\n",
              "      <th>latitude</th>\n",
              "      <th>longitude</th>\n",
              "    </tr>\n",
              "    <tr>\n",
              "      <th>price</th>\n",
              "      <th></th>\n",
              "      <th></th>\n",
              "      <th></th>\n",
              "      <th></th>\n",
              "      <th></th>\n",
              "    </tr>\n",
              "  </thead>\n",
              "  <tbody>\n",
              "    <tr>\n",
              "      <th>$</th>\n",
              "      <td>12</td>\n",
              "      <td>12</td>\n",
              "      <td>12</td>\n",
              "      <td>12</td>\n",
              "      <td>12</td>\n",
              "    </tr>\n",
              "    <tr>\n",
              "      <th>$$</th>\n",
              "      <td>33</td>\n",
              "      <td>33</td>\n",
              "      <td>33</td>\n",
              "      <td>33</td>\n",
              "      <td>33</td>\n",
              "    </tr>\n",
              "  </tbody>\n",
              "</table>\n",
              "</div>"
            ],
            "text/plain": [
              "       id  rating  count  latitude  longitude\n",
              "price                                        \n",
              "$      12      12     12        12         12\n",
              "$$     33      33     33        33         33"
            ]
          },
          "metadata": {
            "tags": []
          },
          "execution_count": 68
        }
      ]
    },
    {
      "metadata": {
        "id": "WU_w9e12uBNZ",
        "colab_type": "text"
      },
      "cell_type": "markdown",
      "source": [
        "review"
      ]
    },
    {
      "metadata": {
        "id": "RL-WZfPgF77r",
        "colab_type": "code",
        "outputId": "ad481558-e99a-4647-fbe2-db04fae697d7",
        "colab": {
          "base_uri": "https://localhost:8080/",
          "height": 34
        }
      },
      "cell_type": "code",
      "source": [
        "data[\"businesses\"][0]['id'] # parse id# for review "
      ],
      "execution_count": 69,
      "outputs": [
        {
          "output_type": "execute_result",
          "data": {
            "text/plain": [
              "'xAvwjM0F5LN9g3yFsk9e0w'"
            ]
          },
          "metadata": {
            "tags": []
          },
          "execution_count": 69
        }
      ]
    },
    {
      "metadata": {
        "id": "EEcceQGJGKY8",
        "colab_type": "text"
      },
      "cell_type": "markdown",
      "source": [
        "read review of this businesses "
      ]
    },
    {
      "metadata": {
        "id": "ApylqAplW9E2",
        "colab_type": "code",
        "colab": {}
      },
      "cell_type": "code",
      "source": [
        "ENDPOINT_reviews = 'https://api.yelp.com/v3/businesses/xAvwjM0F5LN9g3yFsk9e0w/reviews'   # id/reviews  \n",
        "response_reviews = requests.get(url = ENDPOINT_reviews, headers = HEADERS)"
      ],
      "execution_count": 0,
      "outputs": []
    },
    {
      "metadata": {
        "id": "EQV6veiyq9y6",
        "colab_type": "text"
      },
      "cell_type": "markdown",
      "source": [
        "Each business has three reviews. Read first review"
      ]
    },
    {
      "metadata": {
        "id": "xRIcNN_tYpQP",
        "colab_type": "code",
        "outputId": "94af1f4f-1263-4619-b31a-23c3eb07beaa",
        "colab": {
          "base_uri": "https://localhost:8080/",
          "height": 34
        }
      },
      "cell_type": "code",
      "source": [
        "len(response_reviews.json())"
      ],
      "execution_count": 71,
      "outputs": [
        {
          "output_type": "execute_result",
          "data": {
            "text/plain": [
              "3"
            ]
          },
          "metadata": {
            "tags": []
          },
          "execution_count": 71
        }
      ]
    },
    {
      "metadata": {
        "id": "AW42BuKqYd9L",
        "colab_type": "code",
        "outputId": "3469ecda-144b-43f0-efbf-e9da9cff8f90",
        "colab": {
          "base_uri": "https://localhost:8080/",
          "height": 190
        }
      },
      "cell_type": "code",
      "source": [
        "response_reviews.json()['reviews'][0]#['user']['profile_url']"
      ],
      "execution_count": 72,
      "outputs": [
        {
          "output_type": "execute_result",
          "data": {
            "text/plain": [
              "{'id': 'UmxqFImoe3N-aT2RAimHCw',\n",
              " 'rating': 4,\n",
              " 'text': \"There's not really much you can say about Starbucks coffee or food other than that it's usually good despite of where you are. What I can say about this...\",\n",
              " 'time_created': '2018-12-19 15:41:36',\n",
              " 'url': 'https://www.yelp.com/biz/starbucks-brooklyn-54?adjust_creative=fl6Gc_WOT5VLrae0o6fc7w&hrid=UmxqFImoe3N-aT2RAimHCw&utm_campaign=yelp_api_v3&utm_medium=api_v3_business_reviews&utm_source=fl6Gc_WOT5VLrae0o6fc7w',\n",
              " 'user': {'id': 'y6pqwNJzRbC8iqBQvLbiXQ',\n",
              "  'image_url': 'https://s3-media1.fl.yelpcdn.com/photo/628D_JGWn5mvAlelCTsyvQ/o.jpg',\n",
              "  'name': 'Shantee E.',\n",
              "  'profile_url': 'https://www.yelp.com/user_details?userid=y6pqwNJzRbC8iqBQvLbiXQ'}}"
            ]
          },
          "metadata": {
            "tags": []
          },
          "execution_count": 72
        }
      ]
    },
    {
      "metadata": {
        "id": "6KQ3269dYDg9",
        "colab_type": "code",
        "outputId": "cf982ceb-1ef8-4933-fa48-2f9296f8e583",
        "colab": {
          "base_uri": "https://localhost:8080/",
          "height": 173
        }
      },
      "cell_type": "code",
      "source": [
        "high_rating = list_buss[list_buss['rating']>=3.0]\n",
        "high_rating.groupby('rating').count()"
      ],
      "execution_count": 73,
      "outputs": [
        {
          "output_type": "execute_result",
          "data": {
            "text/html": [
              "<div>\n",
              "<style scoped>\n",
              "    .dataframe tbody tr th:only-of-type {\n",
              "        vertical-align: middle;\n",
              "    }\n",
              "\n",
              "    .dataframe tbody tr th {\n",
              "        vertical-align: top;\n",
              "    }\n",
              "\n",
              "    .dataframe thead th {\n",
              "        text-align: right;\n",
              "    }\n",
              "</style>\n",
              "<table border=\"1\" class=\"dataframe\">\n",
              "  <thead>\n",
              "    <tr style=\"text-align: right;\">\n",
              "      <th></th>\n",
              "      <th>id</th>\n",
              "      <th>price</th>\n",
              "      <th>count</th>\n",
              "      <th>latitude</th>\n",
              "      <th>longitude</th>\n",
              "    </tr>\n",
              "    <tr>\n",
              "      <th>rating</th>\n",
              "      <th></th>\n",
              "      <th></th>\n",
              "      <th></th>\n",
              "      <th></th>\n",
              "      <th></th>\n",
              "    </tr>\n",
              "  </thead>\n",
              "  <tbody>\n",
              "    <tr>\n",
              "      <th>3.0</th>\n",
              "      <td>11</td>\n",
              "      <td>10</td>\n",
              "      <td>10</td>\n",
              "      <td>10</td>\n",
              "      <td>10</td>\n",
              "    </tr>\n",
              "    <tr>\n",
              "      <th>3.5</th>\n",
              "      <td>8</td>\n",
              "      <td>7</td>\n",
              "      <td>7</td>\n",
              "      <td>7</td>\n",
              "      <td>7</td>\n",
              "    </tr>\n",
              "    <tr>\n",
              "      <th>4.0</th>\n",
              "      <td>3</td>\n",
              "      <td>1</td>\n",
              "      <td>1</td>\n",
              "      <td>1</td>\n",
              "      <td>1</td>\n",
              "    </tr>\n",
              "  </tbody>\n",
              "</table>\n",
              "</div>"
            ],
            "text/plain": [
              "        id  price  count  latitude  longitude\n",
              "rating                                       \n",
              "3.0     11     10     10        10         10\n",
              "3.5      8      7      7         7          7\n",
              "4.0      3      1      1         1          1"
            ]
          },
          "metadata": {
            "tags": []
          },
          "execution_count": 73
        }
      ]
    },
    {
      "metadata": {
        "id": "C-N6reidlM4f",
        "colab_type": "code",
        "outputId": "33463d6d-e84d-4b95-f240-233ae629d88b",
        "colab": {
          "base_uri": "https://localhost:8080/",
          "height": 142
        }
      },
      "cell_type": "code",
      "source": [
        "low_rating = list_buss[list_buss['rating']<3.0]\n",
        "low_rating.groupby('rating').count()"
      ],
      "execution_count": 74,
      "outputs": [
        {
          "output_type": "execute_result",
          "data": {
            "text/html": [
              "<div>\n",
              "<style scoped>\n",
              "    .dataframe tbody tr th:only-of-type {\n",
              "        vertical-align: middle;\n",
              "    }\n",
              "\n",
              "    .dataframe tbody tr th {\n",
              "        vertical-align: top;\n",
              "    }\n",
              "\n",
              "    .dataframe thead th {\n",
              "        text-align: right;\n",
              "    }\n",
              "</style>\n",
              "<table border=\"1\" class=\"dataframe\">\n",
              "  <thead>\n",
              "    <tr style=\"text-align: right;\">\n",
              "      <th></th>\n",
              "      <th>id</th>\n",
              "      <th>price</th>\n",
              "      <th>count</th>\n",
              "      <th>latitude</th>\n",
              "      <th>longitude</th>\n",
              "    </tr>\n",
              "    <tr>\n",
              "      <th>rating</th>\n",
              "      <th></th>\n",
              "      <th></th>\n",
              "      <th></th>\n",
              "      <th></th>\n",
              "      <th></th>\n",
              "    </tr>\n",
              "  </thead>\n",
              "  <tbody>\n",
              "    <tr>\n",
              "      <th>2.0</th>\n",
              "      <td>10</td>\n",
              "      <td>10</td>\n",
              "      <td>10</td>\n",
              "      <td>10</td>\n",
              "      <td>10</td>\n",
              "    </tr>\n",
              "    <tr>\n",
              "      <th>2.5</th>\n",
              "      <td>18</td>\n",
              "      <td>17</td>\n",
              "      <td>17</td>\n",
              "      <td>17</td>\n",
              "      <td>17</td>\n",
              "    </tr>\n",
              "  </tbody>\n",
              "</table>\n",
              "</div>"
            ],
            "text/plain": [
              "        id  price  count  latitude  longitude\n",
              "rating                                       \n",
              "2.0     10     10     10        10         10\n",
              "2.5     18     17     17        17         17"
            ]
          },
          "metadata": {
            "tags": []
          },
          "execution_count": 74
        }
      ]
    },
    {
      "metadata": {
        "id": "y6aCJUuZcCaG",
        "colab_type": "code",
        "colab": {}
      },
      "cell_type": "code",
      "source": [
        "# collect review\n",
        "List_HR_review = []\n",
        "List_HR_rating = []\n",
        "for i in range(50):\n",
        "\n",
        "  try:\n",
        "    ENDPOINT_reviews = 'https://api.yelp.com/v3/businesses/'+ high_rating['id'][i] +'/reviews'\n",
        "    response_reviews = requests.get(url = ENDPOINT_reviews, headers = HEADERS)\n",
        "    for ii in range(3):\n",
        "\n",
        "      x = response_reviews.json()['reviews'][ii]['text']\n",
        "      List_HR_review.append(x)\n",
        "      y = response_reviews.json()['reviews'][ii]['rating']\n",
        "      List_HR_rating.append(y)\n",
        "  except:\n",
        "    pass"
      ],
      "execution_count": 0,
      "outputs": []
    },
    {
      "metadata": {
        "id": "uobFgqKicVv0",
        "colab_type": "code",
        "outputId": "b231cc29-75de-43e2-dbfe-f9b69ad10991",
        "colab": {
          "base_uri": "https://localhost:8080/",
          "height": 204
        }
      },
      "cell_type": "code",
      "source": [
        "List_HR_review_pd = pd.DataFrame(List_HR_review, columns =['review'])\n",
        "#len(List_reiew_all_pd)\n",
        "List_HR_review_pd.head()"
      ],
      "execution_count": 76,
      "outputs": [
        {
          "output_type": "execute_result",
          "data": {
            "text/html": [
              "<div>\n",
              "<style scoped>\n",
              "    .dataframe tbody tr th:only-of-type {\n",
              "        vertical-align: middle;\n",
              "    }\n",
              "\n",
              "    .dataframe tbody tr th {\n",
              "        vertical-align: top;\n",
              "    }\n",
              "\n",
              "    .dataframe thead th {\n",
              "        text-align: right;\n",
              "    }\n",
              "</style>\n",
              "<table border=\"1\" class=\"dataframe\">\n",
              "  <thead>\n",
              "    <tr style=\"text-align: right;\">\n",
              "      <th></th>\n",
              "      <th>review</th>\n",
              "    </tr>\n",
              "  </thead>\n",
              "  <tbody>\n",
              "    <tr>\n",
              "      <th>0</th>\n",
              "      <td>There's not really much you can say about Star...</td>\n",
              "    </tr>\n",
              "    <tr>\n",
              "      <th>1</th>\n",
              "      <td>Even though these photos are completely unreal...</td>\n",
              "    </tr>\n",
              "    <tr>\n",
              "      <th>2</th>\n",
              "      <td>It really doesn't matter what you get here, it...</td>\n",
              "    </tr>\n",
              "    <tr>\n",
              "      <th>3</th>\n",
              "      <td>Hot tip! There's seating upstairs!!!\\nI lived ...</td>\n",
              "    </tr>\n",
              "    <tr>\n",
              "      <th>4</th>\n",
              "      <td>Friendly staff. Helped me streamline my otherw...</td>\n",
              "    </tr>\n",
              "  </tbody>\n",
              "</table>\n",
              "</div>"
            ],
            "text/plain": [
              "                                              review\n",
              "0  There's not really much you can say about Star...\n",
              "1  Even though these photos are completely unreal...\n",
              "2  It really doesn't matter what you get here, it...\n",
              "3  Hot tip! There's seating upstairs!!!\\nI lived ...\n",
              "4  Friendly staff. Helped me streamline my otherw..."
            ]
          },
          "metadata": {
            "tags": []
          },
          "execution_count": 76
        }
      ]
    },
    {
      "metadata": {
        "id": "U70s9Yc5sAxj",
        "colab_type": "code",
        "outputId": "146730a6-a3d9-4638-9e6d-1346b1972bea",
        "colab": {
          "base_uri": "https://localhost:8080/",
          "height": 408
        }
      },
      "cell_type": "code",
      "source": [
        "high_rating['id']"
      ],
      "execution_count": 77,
      "outputs": [
        {
          "output_type": "execute_result",
          "data": {
            "text/plain": [
              "0     xAvwjM0F5LN9g3yFsk9e0w\n",
              "3     VGMdcAn34GeasB4arA8XUA\n",
              "6     OuNYQaqEJjkBHRdnC-4HOw\n",
              "7     mEMPhPK6dSgy5eXS-kYHLg\n",
              "8     7AlGQ0kJgYFz3xCW_rj2LQ\n",
              "10    pTv4RDll3N_CGG3BwtEctg\n",
              "11    j6nTfbYavGVsJKxz6bte6w\n",
              "20    p8Fygzdm1uONUTu4q-SfJA\n",
              "21    FrigBgxfxMxwPJNq-hAr0Q\n",
              "26    RIklVZ2AEvC62MtCPRmFRQ\n",
              "29    OQEU7KPvgDX9kX2xlHGm5g\n",
              "31    JXKpCS9Ru3nt7U0_kFqZgA\n",
              "32    rPXlTqHLYKcXyADOeqzwbg\n",
              "35    01cAFjVfryumdxZCs-QG-A\n",
              "36    iWoOAvIYqZ8nqx1BYcuZYw\n",
              "41    5mg6AXDk_j_RAlKvGIyROQ\n",
              "42    wE3_AwZoZ0ZXbngBH1xRrg\n",
              "44    gfDj7Aa8U9K5UkJ9H65N3w\n",
              "45    MMw3oR3cDbtUkvs78xD00Q\n",
              "46    AvpB-RQgEW9N4Eip3l3cww\n",
              "47    mQWt-66AkXyTrRNFElmFMw\n",
              "49    a2nfVfbuobr5EX6sDH7jyw\n",
              "Name: id, dtype: object"
            ]
          },
          "metadata": {
            "tags": []
          },
          "execution_count": 77
        }
      ]
    },
    {
      "metadata": {
        "id": "X3ldcgdxoSZI",
        "colab_type": "code",
        "outputId": "ffe15c43-6d7d-4f03-df8b-1d8fe5947c69",
        "colab": {
          "base_uri": "https://localhost:8080/",
          "height": 68
        }
      },
      "cell_type": "code",
      "source": [
        "print(len(high_rating))\n",
        "print(len(List_HR_review))\n",
        "print(len(List_HR_rating))"
      ],
      "execution_count": 78,
      "outputs": [
        {
          "output_type": "stream",
          "text": [
            "22\n",
            "64\n",
            "64\n"
          ],
          "name": "stdout"
        }
      ]
    },
    {
      "metadata": {
        "id": "NRKPw0KMcakQ",
        "colab_type": "code",
        "colab": {}
      },
      "cell_type": "code",
      "source": [
        "# colect review\n",
        "List_LR_review = []\n",
        "List_LR_rating = []\n",
        "for i in range(50):\n",
        "  #print(i)\n",
        "  try:\n",
        "    ENDPOINT_reviews = 'https://api.yelp.com/v3/businesses/'+ low_rating['id'][i] +'/reviews'\n",
        "    response_reviews = requests.get(url = ENDPOINT_reviews, headers = HEADERS)\n",
        "    for ii in range(2):\n",
        "      x = response_reviews.json()['reviews'][ii]['text']\n",
        "      List_LR_review.append(x)\n",
        "      y = response_reviews.json()['reviews'][ii]['rating']\n",
        "      List_LR_rating.append(y)\n",
        "  except:\n",
        "    pass"
      ],
      "execution_count": 0,
      "outputs": []
    },
    {
      "metadata": {
        "id": "WHsM6Mc2mUnM",
        "colab_type": "code",
        "colab": {}
      },
      "cell_type": "code",
      "source": [
        "List_LR_review_pd = pd.DataFrame(List_LR_review, columns =['review'])"
      ],
      "execution_count": 0,
      "outputs": []
    },
    {
      "metadata": {
        "id": "qAg0KlmomYIN",
        "colab_type": "code",
        "outputId": "20a7c9c2-ca69-4a6f-ff86-1f7a8c04d39a",
        "colab": {
          "base_uri": "https://localhost:8080/",
          "height": 68
        }
      },
      "cell_type": "code",
      "source": [
        "print(len(low_rating))\n",
        "print(len(List_LR_review))\n",
        "print(len(List_LR_rating))"
      ],
      "execution_count": 81,
      "outputs": [
        {
          "output_type": "stream",
          "text": [
            "28\n",
            "56\n",
            "56\n"
          ],
          "name": "stdout"
        }
      ]
    },
    {
      "metadata": {
        "id": "ZFp---5tnCu3",
        "colab_type": "code",
        "outputId": "dd3fd227-5169-4d30-f996-a9e918712a37",
        "colab": {
          "base_uri": "https://localhost:8080/",
          "height": 204
        }
      },
      "cell_type": "code",
      "source": [
        "d = {'rate': List_HR_rating, 'review': List_HR_review}\n",
        "df_HR = pd.DataFrame(data=d)\n",
        "df_HR.head()"
      ],
      "execution_count": 82,
      "outputs": [
        {
          "output_type": "execute_result",
          "data": {
            "text/html": [
              "<div>\n",
              "<style scoped>\n",
              "    .dataframe tbody tr th:only-of-type {\n",
              "        vertical-align: middle;\n",
              "    }\n",
              "\n",
              "    .dataframe tbody tr th {\n",
              "        vertical-align: top;\n",
              "    }\n",
              "\n",
              "    .dataframe thead th {\n",
              "        text-align: right;\n",
              "    }\n",
              "</style>\n",
              "<table border=\"1\" class=\"dataframe\">\n",
              "  <thead>\n",
              "    <tr style=\"text-align: right;\">\n",
              "      <th></th>\n",
              "      <th>rate</th>\n",
              "      <th>review</th>\n",
              "    </tr>\n",
              "  </thead>\n",
              "  <tbody>\n",
              "    <tr>\n",
              "      <th>0</th>\n",
              "      <td>4</td>\n",
              "      <td>There's not really much you can say about Star...</td>\n",
              "    </tr>\n",
              "    <tr>\n",
              "      <th>1</th>\n",
              "      <td>4</td>\n",
              "      <td>Even though these photos are completely unreal...</td>\n",
              "    </tr>\n",
              "    <tr>\n",
              "      <th>2</th>\n",
              "      <td>5</td>\n",
              "      <td>It really doesn't matter what you get here, it...</td>\n",
              "    </tr>\n",
              "    <tr>\n",
              "      <th>3</th>\n",
              "      <td>4</td>\n",
              "      <td>Hot tip! There's seating upstairs!!!\\nI lived ...</td>\n",
              "    </tr>\n",
              "    <tr>\n",
              "      <th>4</th>\n",
              "      <td>5</td>\n",
              "      <td>Friendly staff. Helped me streamline my otherw...</td>\n",
              "    </tr>\n",
              "  </tbody>\n",
              "</table>\n",
              "</div>"
            ],
            "text/plain": [
              "   rate                                             review\n",
              "0     4  There's not really much you can say about Star...\n",
              "1     4  Even though these photos are completely unreal...\n",
              "2     5  It really doesn't matter what you get here, it...\n",
              "3     4  Hot tip! There's seating upstairs!!!\\nI lived ...\n",
              "4     5  Friendly staff. Helped me streamline my otherw..."
            ]
          },
          "metadata": {
            "tags": []
          },
          "execution_count": 82
        }
      ]
    },
    {
      "metadata": {
        "id": "c_AqqcSrtSQt",
        "colab_type": "code",
        "outputId": "2a3e65a3-0819-4fa5-992c-13f835997eee",
        "colab": {
          "base_uri": "https://localhost:8080/",
          "height": 204
        }
      },
      "cell_type": "code",
      "source": [
        "d = {'rate': List_LR_rating, 'review': List_LR_review}\n",
        "df_LR = pd.DataFrame(data=d)\n",
        "df_LR.head()"
      ],
      "execution_count": 83,
      "outputs": [
        {
          "output_type": "execute_result",
          "data": {
            "text/html": [
              "<div>\n",
              "<style scoped>\n",
              "    .dataframe tbody tr th:only-of-type {\n",
              "        vertical-align: middle;\n",
              "    }\n",
              "\n",
              "    .dataframe tbody tr th {\n",
              "        vertical-align: top;\n",
              "    }\n",
              "\n",
              "    .dataframe thead th {\n",
              "        text-align: right;\n",
              "    }\n",
              "</style>\n",
              "<table border=\"1\" class=\"dataframe\">\n",
              "  <thead>\n",
              "    <tr style=\"text-align: right;\">\n",
              "      <th></th>\n",
              "      <th>rate</th>\n",
              "      <th>review</th>\n",
              "    </tr>\n",
              "  </thead>\n",
              "  <tbody>\n",
              "    <tr>\n",
              "      <th>0</th>\n",
              "      <td>4</td>\n",
              "      <td>I honestly had a great experience here so I'm ...</td>\n",
              "    </tr>\n",
              "    <tr>\n",
              "      <th>1</th>\n",
              "      <td>4</td>\n",
              "      <td>Who doesn't love a Vanilla Chai on a crisp fal...</td>\n",
              "    </tr>\n",
              "    <tr>\n",
              "      <th>2</th>\n",
              "      <td>4</td>\n",
              "      <td>Very clean, spacious, beautiful store.\\nFriend...</td>\n",
              "    </tr>\n",
              "    <tr>\n",
              "      <th>3</th>\n",
              "      <td>1</td>\n",
              "      <td>I went back for more punishment. This time I m...</td>\n",
              "    </tr>\n",
              "    <tr>\n",
              "      <th>4</th>\n",
              "      <td>4</td>\n",
              "      <td>This starbucks is so efficient! I work a 1-2mi...</td>\n",
              "    </tr>\n",
              "  </tbody>\n",
              "</table>\n",
              "</div>"
            ],
            "text/plain": [
              "   rate                                             review\n",
              "0     4  I honestly had a great experience here so I'm ...\n",
              "1     4  Who doesn't love a Vanilla Chai on a crisp fal...\n",
              "2     4  Very clean, spacious, beautiful store.\\nFriend...\n",
              "3     1  I went back for more punishment. This time I m...\n",
              "4     4  This starbucks is so efficient! I work a 1-2mi..."
            ]
          },
          "metadata": {
            "tags": []
          },
          "execution_count": 83
        }
      ]
    },
    {
      "metadata": {
        "id": "2nsp6xEnuGTz",
        "colab_type": "code",
        "outputId": "ff7b4963-8cd0-431b-a042-ab0259acb9d3",
        "colab": {
          "base_uri": "https://localhost:8080/",
          "height": 204
        }
      },
      "cell_type": "code",
      "source": [
        "df_total = df_HR.append(df_LR)\n",
        "df_total.head()"
      ],
      "execution_count": 84,
      "outputs": [
        {
          "output_type": "execute_result",
          "data": {
            "text/html": [
              "<div>\n",
              "<style scoped>\n",
              "    .dataframe tbody tr th:only-of-type {\n",
              "        vertical-align: middle;\n",
              "    }\n",
              "\n",
              "    .dataframe tbody tr th {\n",
              "        vertical-align: top;\n",
              "    }\n",
              "\n",
              "    .dataframe thead th {\n",
              "        text-align: right;\n",
              "    }\n",
              "</style>\n",
              "<table border=\"1\" class=\"dataframe\">\n",
              "  <thead>\n",
              "    <tr style=\"text-align: right;\">\n",
              "      <th></th>\n",
              "      <th>rate</th>\n",
              "      <th>review</th>\n",
              "    </tr>\n",
              "  </thead>\n",
              "  <tbody>\n",
              "    <tr>\n",
              "      <th>0</th>\n",
              "      <td>4</td>\n",
              "      <td>There's not really much you can say about Star...</td>\n",
              "    </tr>\n",
              "    <tr>\n",
              "      <th>1</th>\n",
              "      <td>4</td>\n",
              "      <td>Even though these photos are completely unreal...</td>\n",
              "    </tr>\n",
              "    <tr>\n",
              "      <th>2</th>\n",
              "      <td>5</td>\n",
              "      <td>It really doesn't matter what you get here, it...</td>\n",
              "    </tr>\n",
              "    <tr>\n",
              "      <th>3</th>\n",
              "      <td>4</td>\n",
              "      <td>Hot tip! There's seating upstairs!!!\\nI lived ...</td>\n",
              "    </tr>\n",
              "    <tr>\n",
              "      <th>4</th>\n",
              "      <td>5</td>\n",
              "      <td>Friendly staff. Helped me streamline my otherw...</td>\n",
              "    </tr>\n",
              "  </tbody>\n",
              "</table>\n",
              "</div>"
            ],
            "text/plain": [
              "   rate                                             review\n",
              "0     4  There's not really much you can say about Star...\n",
              "1     4  Even though these photos are completely unreal...\n",
              "2     5  It really doesn't matter what you get here, it...\n",
              "3     4  Hot tip! There's seating upstairs!!!\\nI lived ...\n",
              "4     5  Friendly staff. Helped me streamline my otherw..."
            ]
          },
          "metadata": {
            "tags": []
          },
          "execution_count": 84
        }
      ]
    },
    {
      "metadata": {
        "id": "T1PtmZstufve",
        "colab_type": "code",
        "outputId": "06e75021-5554-4fbf-d6de-b726e520761e",
        "colab": {
          "base_uri": "https://localhost:8080/",
          "height": 378
        }
      },
      "cell_type": "code",
      "source": [
        "sns.countplot(x=\"rate\", data=df_total)"
      ],
      "execution_count": 91,
      "outputs": [
        {
          "output_type": "execute_result",
          "data": {
            "text/plain": [
              "<matplotlib.axes._subplots.AxesSubplot at 0x7fbc321c7b38>"
            ]
          },
          "metadata": {
            "tags": []
          },
          "execution_count": 91
        },
        {
          "output_type": "display_data",
          "data": {
            "image/png": "[encoded data removed]",
            "text/plain": [
              "<Figure size 576x396 with 1 Axes>"
            ]
          },
          "metadata": {
            "tags": []
          }
        }
      ]
    },
    {
      "metadata": {
        "id": "2ax1pq-fvwoe",
        "colab_type": "code",
        "colab": {}
      },
      "cell_type": "code",
      "source": [
        "df_total['Polarity'] = [TextBlob(x).sentiment[0] for x in df_total['review'] ]\n",
        "df_total['Subjectivity'] = [TextBlob(x).sentiment[1] for x in df_total['review'] ]"
      ],
      "execution_count": 0,
      "outputs": []
    },
    {
      "metadata": {
        "id": "9v76pVdAunxC",
        "colab_type": "code",
        "outputId": "411743aa-6ed4-4c24-fd9e-817e26cd09f5",
        "colab": {
          "base_uri": "https://localhost:8080/",
          "height": 51
        }
      },
      "cell_type": "code",
      "source": [
        "df_total_HR = df_total[df_total['rate']>=4]\n",
        "df_total_LR = df_total[df_total['rate']<4]\n",
        "\n",
        "print(len(df_total_HR))\n",
        "print(len(df_total_LR))"
      ],
      "execution_count": 87,
      "outputs": [
        {
          "output_type": "stream",
          "text": [
            "67\n",
            "53\n"
          ],
          "name": "stdout"
        }
      ]
    },
    {
      "metadata": {
        "id": "FsrqPeaiu-a1",
        "colab_type": "code",
        "outputId": "d38ec1e5-253d-412b-c01a-fd0ee3ce5175",
        "colab": {
          "base_uri": "https://localhost:8080/",
          "height": 204
        }
      },
      "cell_type": "code",
      "source": [
        "df_total_HR.head()"
      ],
      "execution_count": 88,
      "outputs": [
        {
          "output_type": "execute_result",
          "data": {
            "text/html": [
              "<div>\n",
              "<style scoped>\n",
              "    .dataframe tbody tr th:only-of-type {\n",
              "        vertical-align: middle;\n",
              "    }\n",
              "\n",
              "    .dataframe tbody tr th {\n",
              "        vertical-align: top;\n",
              "    }\n",
              "\n",
              "    .dataframe thead th {\n",
              "        text-align: right;\n",
              "    }\n",
              "</style>\n",
              "<table border=\"1\" class=\"dataframe\">\n",
              "  <thead>\n",
              "    <tr style=\"text-align: right;\">\n",
              "      <th></th>\n",
              "      <th>rate</th>\n",
              "      <th>review</th>\n",
              "      <th>Polarity</th>\n",
              "      <th>Subjectivity</th>\n",
              "    </tr>\n",
              "  </thead>\n",
              "  <tbody>\n",
              "    <tr>\n",
              "      <th>0</th>\n",
              "      <td>4</td>\n",
              "      <td>There's not really much you can say about Star...</td>\n",
              "      <td>0.158333</td>\n",
              "      <td>0.391667</td>\n",
              "    </tr>\n",
              "    <tr>\n",
              "      <th>1</th>\n",
              "      <td>4</td>\n",
              "      <td>Even though these photos are completely unreal...</td>\n",
              "      <td>0.185417</td>\n",
              "      <td>0.675000</td>\n",
              "    </tr>\n",
              "    <tr>\n",
              "      <th>2</th>\n",
              "      <td>5</td>\n",
              "      <td>It really doesn't matter what you get here, it...</td>\n",
              "      <td>0.600000</td>\n",
              "      <td>0.600000</td>\n",
              "    </tr>\n",
              "    <tr>\n",
              "      <th>3</th>\n",
              "      <td>4</td>\n",
              "      <td>Hot tip! There's seating upstairs!!!\\nI lived ...</td>\n",
              "      <td>0.270117</td>\n",
              "      <td>0.350000</td>\n",
              "    </tr>\n",
              "    <tr>\n",
              "      <th>4</th>\n",
              "      <td>5</td>\n",
              "      <td>Friendly staff. Helped me streamline my otherw...</td>\n",
              "      <td>-0.007500</td>\n",
              "      <td>0.575000</td>\n",
              "    </tr>\n",
              "  </tbody>\n",
              "</table>\n",
              "</div>"
            ],
            "text/plain": [
              "   rate                                             review  Polarity  \\\n",
              "0     4  There's not really much you can say about Star...  0.158333   \n",
              "1     4  Even though these photos are completely unreal...  0.185417   \n",
              "2     5  It really doesn't matter what you get here, it...  0.600000   \n",
              "3     4  Hot tip! There's seating upstairs!!!\\nI lived ...  0.270117   \n",
              "4     5  Friendly staff. Helped me streamline my otherw... -0.007500   \n",
              "\n",
              "   Subjectivity  \n",
              "0      0.391667  \n",
              "1      0.675000  \n",
              "2      0.600000  \n",
              "3      0.350000  \n",
              "4      0.575000  "
            ]
          },
          "metadata": {
            "tags": []
          },
          "execution_count": 88
        }
      ]
    },
    {
      "metadata": {
        "id": "cs2fL5xOvDi5",
        "colab_type": "code",
        "outputId": "30ea6749-a5c7-4d12-b4d1-d452a5275364",
        "colab": {
          "base_uri": "https://localhost:8080/",
          "height": 204
        }
      },
      "cell_type": "code",
      "source": [
        "df_total_LR.head()"
      ],
      "execution_count": 89,
      "outputs": [
        {
          "output_type": "execute_result",
          "data": {
            "text/html": [
              "<div>\n",
              "<style scoped>\n",
              "    .dataframe tbody tr th:only-of-type {\n",
              "        vertical-align: middle;\n",
              "    }\n",
              "\n",
              "    .dataframe tbody tr th {\n",
              "        vertical-align: top;\n",
              "    }\n",
              "\n",
              "    .dataframe thead th {\n",
              "        text-align: right;\n",
              "    }\n",
              "</style>\n",
              "<table border=\"1\" class=\"dataframe\">\n",
              "  <thead>\n",
              "    <tr style=\"text-align: right;\">\n",
              "      <th></th>\n",
              "      <th>rate</th>\n",
              "      <th>review</th>\n",
              "      <th>Polarity</th>\n",
              "      <th>Subjectivity</th>\n",
              "    </tr>\n",
              "  </thead>\n",
              "  <tbody>\n",
              "    <tr>\n",
              "      <th>5</th>\n",
              "      <td>2</td>\n",
              "      <td>I can tell you why this starbucks gets a bad r...</td>\n",
              "      <td>-0.350000</td>\n",
              "      <td>0.383333</td>\n",
              "    </tr>\n",
              "    <tr>\n",
              "      <th>7</th>\n",
              "      <td>2</td>\n",
              "      <td>Starbucks has never been my favorite Java plac...</td>\n",
              "      <td>0.191071</td>\n",
              "      <td>0.592857</td>\n",
              "    </tr>\n",
              "    <tr>\n",
              "      <th>8</th>\n",
              "      <td>1</td>\n",
              "      <td>The cashier cut me off before I finished my or...</td>\n",
              "      <td>-0.125000</td>\n",
              "      <td>0.444444</td>\n",
              "    </tr>\n",
              "    <tr>\n",
              "      <th>16</th>\n",
              "      <td>2</td>\n",
              "      <td>Okay this is it. Been here couple of times and...</td>\n",
              "      <td>-0.166667</td>\n",
              "      <td>0.488889</td>\n",
              "    </tr>\n",
              "    <tr>\n",
              "      <th>17</th>\n",
              "      <td>3</td>\n",
              "      <td>Located close to City Hall Park and the entran...</td>\n",
              "      <td>0.130000</td>\n",
              "      <td>0.390000</td>\n",
              "    </tr>\n",
              "  </tbody>\n",
              "</table>\n",
              "</div>"
            ],
            "text/plain": [
              "    rate                                             review  Polarity  \\\n",
              "5      2  I can tell you why this starbucks gets a bad r... -0.350000   \n",
              "7      2  Starbucks has never been my favorite Java plac...  0.191071   \n",
              "8      1  The cashier cut me off before I finished my or... -0.125000   \n",
              "16     2  Okay this is it. Been here couple of times and... -0.166667   \n",
              "17     3  Located close to City Hall Park and the entran...  0.130000   \n",
              "\n",
              "    Subjectivity  \n",
              "5       0.383333  \n",
              "7       0.592857  \n",
              "8       0.444444  \n",
              "16      0.488889  \n",
              "17      0.390000  "
            ]
          },
          "metadata": {
            "tags": []
          },
          "execution_count": 89
        }
      ]
    },
    {
      "metadata": {
        "id": "knPxbRZnwBvo",
        "colab_type": "text"
      },
      "cell_type": "markdown",
      "source": [
        "Howis the review rate correlated to the polarity?"
      ]
    },
    {
      "metadata": {
        "id": "XDPuYl05vMRz",
        "colab_type": "code",
        "outputId": "45452aac-9048-4d03-95c0-56f97b4c4c66",
        "colab": {
          "base_uri": "https://localhost:8080/",
          "height": 378
        }
      },
      "cell_type": "code",
      "source": [
        "sns.boxplot(x=\"rate\", y=\"Polarity\", data=df_total)"
      ],
      "execution_count": 92,
      "outputs": [
        {
          "output_type": "execute_result",
          "data": {
            "text/plain": [
              "<matplotlib.axes._subplots.AxesSubplot at 0x7fbc322272e8>"
            ]
          },
          "metadata": {
            "tags": []
          },
          "execution_count": 92
        },
        {
          "output_type": "display_data",
          "data": {
            "image/png": "[encoded data removed]",
            "text/plain": [
              "<Figure size 576x396 with 1 Axes>"
            ]
          },
          "metadata": {
            "tags": []
          }
        }
      ]
    },
    {
      "metadata": {
        "id": "p_3El9NFwTEP",
        "colab_type": "code",
        "outputId": "d92020fd-f481-434b-9e37-08e50875a904",
        "colab": {
          "base_uri": "https://localhost:8080/",
          "height": 378
        }
      },
      "cell_type": "code",
      "source": [
        "sns.boxplot(x=\"rate\", y=\"Subjectivity\", data=df_total)"
      ],
      "execution_count": 93,
      "outputs": [
        {
          "output_type": "execute_result",
          "data": {
            "text/plain": [
              "<matplotlib.axes._subplots.AxesSubplot at 0x7fbc32225dd8>"
            ]
          },
          "metadata": {
            "tags": []
          },
          "execution_count": 93
        },
        {
          "output_type": "display_data",
          "data": {
            "image/png": "[encoded data removed]",
            "text/plain": [
              "<Figure size 576x396 with 1 Axes>"
            ]
          },
          "metadata": {
            "tags": []
          }
        }
      ]
    },
    {
      "metadata": {
        "id": "ihfc4TZdxXej",
        "colab_type": "code",
        "outputId": "632734e7-58d6-445c-fcc1-b3a00ea21a9d",
        "colab": {
          "base_uri": "https://localhost:8080/",
          "height": 164
        }
      },
      "cell_type": "code",
      "source": [
        "df_total.head()"
      ],
      "execution_count": 0,
      "outputs": [
        {
          "output_type": "error",
          "ename": "NameError",
          "evalue": "ignored",
          "traceback": [
            "\u001b[0;31m---------------------------------------------------------------------------\u001b[0m",
            "\u001b[0;31mNameError\u001b[0m                                 Traceback (most recent call last)",
            "\u001b[0;32m<ipython-input-1-3cb190f21d47>\u001b[0m in \u001b[0;36m<module>\u001b[0;34m()\u001b[0m\n\u001b[0;32m----> 1\u001b[0;31m \u001b[0mdf_total\u001b[0m\u001b[0;34m.\u001b[0m\u001b[0mhead\u001b[0m\u001b[0;34m(\u001b[0m\u001b[0;34m)\u001b[0m\u001b[0;34m\u001b[0m\u001b[0;34m\u001b[0m\u001b[0m\n\u001b[0m",
            "\u001b[0;31mNameError\u001b[0m: name 'df_total' is not defined"
          ]
        }
      ]
    },
    {
      "metadata": {
        "id": "J8MkBajJpNaY",
        "colab_type": "code",
        "colab": {}
      },
      "cell_type": "code",
      "source": [
        ""
      ],
      "execution_count": 0,
      "outputs": []
    },
    {
      "metadata": {
        "id": "XcbZuE5stz0N",
        "colab_type": "text"
      },
      "cell_type": "markdown",
      "source": [
        ""
      ]
    }
  ]
}