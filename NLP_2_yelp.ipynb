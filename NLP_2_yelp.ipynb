{
  "nbformat": 4,
  "nbformat_minor": 0,
  "metadata": {
    "colab": {
      "name": "NLP_2_yelp.ipynb",
      "version": "0.3.2",
      "provenance": [],
      "collapsed_sections": [],
      "include_colab_link": true
    },
    "kernelspec": {
      "name": "python3",
      "display_name": "Python 3"
    }
  },
  "cells": [
    {
      "cell_type": "markdown",
      "metadata": {
        "id": "view-in-github",
        "colab_type": "text"
      },
      "source": [
        "<a href=\"https://colab.research.google.com/github/cyuancheng/NLP_Yelp_review/blob/master/NLP_2_yelp.ipynb\" target=\"_parent\"><img src=\"https://colab.research.google.com/assets/colab-badge.svg\" alt=\"Open In Colab\"/></a>"
      ]
    },
    {
      "metadata": {
        "id": "2KTF4FByD2_V",
        "colab_type": "text"
      },
      "cell_type": "markdown",
      "source": [
        "**NLP - Yelp data wrangling**\n",
        "New York City restaurant"
      ]
    },
    {
      "metadata": {
        "id": "Bv_JR_8LHEZS",
        "colab_type": "code",
        "colab": {}
      },
      "cell_type": "code",
      "source": [
        "import pandas as pd\n",
        "import requests"
      ],
      "execution_count": 0,
      "outputs": []
    },
    {
      "metadata": {
        "id": "nu8hn15rl7MQ",
        "colab_type": "code",
        "colab": {}
      },
      "cell_type": "code",
      "source": [
        "#client_id = 'NTXTygLQ8Y5baxwIGObaJA' \n",
        "#key = 'V28EIFx3cLv9o7-oZfNIrwi7dw3cmEW8DVWOU1HKdhDMjZhlhMvmGKe8C3P0Ohwxi31DbZrVlZSa2CdodvGKMddaopwFOv8TUdymcROofzsIfYZbj21IFCWNiB2JXHYx'\n",
        "\n",
        "# get yelp api (https://www.yelp.com/developers)\n",
        "# \n",
        "\n",
        "client_id = 'fl6Gc_WOT5VLrae0o6fc7w' \n",
        "key = 'kArR8ttjf4JdZDtC27-InwcgepdkWrtTcSfaHKwf_JMtQY0LvXgfaG3lmUA3F2oCCp-KUa-W8tPuVXdm8Abwj6N0m0YJniJHVa61rXEFMLuAM11d2IrYSV5NEYGJXHYx'\n",
        "\n",
        "ENDPOINT = 'https://api.yelp.com/v3/businesses/search'\n",
        "\n",
        "HEADERS = {'Authorization':'bearer {}'.format(key)}\n",
        "\n",
        "PARAMETERS = {'term':'restaurant'or \"food\"  ,\n",
        "             'limit':50,\n",
        "             'radius':40000, # meter\n",
        "              #'sort_by' :'review_count', \n",
        "             'location':\"NYC\"}\n",
        "\n",
        "response = requests.get(url = ENDPOINT, params = PARAMETERS, headers = HEADERS)"
      ],
      "execution_count": 0,
      "outputs": []
    },
    {
      "metadata": {
        "id": "qj4W7eiUFoXa",
        "colab_type": "text"
      },
      "cell_type": "markdown",
      "source": [
        "read data (json) "
      ]
    },
    {
      "metadata": {
        "id": "vI-XhgJ7mDaH",
        "colab_type": "code",
        "colab": {}
      },
      "cell_type": "code",
      "source": [
        "data = response.json()"
      ],
      "execution_count": 0,
      "outputs": []
    },
    {
      "metadata": {
        "id": "SsQ8funaVwrd",
        "colab_type": "code",
        "colab": {
          "base_uri": "https://localhost:8080/",
          "height": 462
        },
        "outputId": "6290659b-b707-4a10-910e-50f569144154"
      },
      "cell_type": "code",
      "source": [
        "data[\"businesses\"][1]"
      ],
      "execution_count": 115,
      "outputs": [
        {
          "output_type": "execute_result",
          "data": {
            "text/plain": [
              "{'alias': 'upstate-new-york-2',\n",
              " 'categories': [{'alias': 'seafood', 'title': 'Seafood'},\n",
              "  {'alias': 'wine_bars', 'title': 'Wine Bars'},\n",
              "  {'alias': 'beerbar', 'title': 'Beer Bar'}],\n",
              " 'coordinates': {'latitude': 40.7263139141197, 'longitude': -73.9864901976935},\n",
              " 'display_phone': '(646) 791-5400',\n",
              " 'distance': 2411.9187177986864,\n",
              " 'id': 'ehUuSk5gPTCQmwS_ubgKRA',\n",
              " 'image_url': 'https://s3-media1.fl.yelpcdn.com/bphoto/RvnUVU7MF7DT0RzNL-EebQ/o.jpg',\n",
              " 'is_closed': False,\n",
              " 'location': {'address1': '95 1st Ave',\n",
              "  'address2': '',\n",
              "  'address3': '',\n",
              "  'city': 'New York',\n",
              "  'country': 'US',\n",
              "  'display_address': ['95 1st Ave', 'New York, NY 10003'],\n",
              "  'state': 'NY',\n",
              "  'zip_code': '10003'},\n",
              " 'name': 'Upstate',\n",
              " 'phone': '+16467915400',\n",
              " 'price': '$$',\n",
              " 'rating': 4.5,\n",
              " 'review_count': 1681,\n",
              " 'transactions': ['restaurant_reservation'],\n",
              " 'url': 'https://www.yelp.com/biz/upstate-new-york-2?adjust_creative=fl6Gc_WOT5VLrae0o6fc7w&utm_campaign=yelp_api_v3&utm_medium=api_v3_business_search&utm_source=fl6Gc_WOT5VLrae0o6fc7w'}"
            ]
          },
          "metadata": {
            "tags": []
          },
          "execution_count": 115
        }
      ]
    },
    {
      "metadata": {
        "id": "XkURaUTtJW7X",
        "colab_type": "code",
        "outputId": "4978d162-3fa9-4054-f9df-2ecba1bcc73a",
        "colab": {
          "base_uri": "https://localhost:8080/",
          "height": 34
        }
      },
      "cell_type": "code",
      "source": [
        "data[\"businesses\"][10]['categories'][2]['title']# info of the business"
      ],
      "execution_count": 112,
      "outputs": [
        {
          "output_type": "execute_result",
          "data": {
            "text/plain": [
              "'American (New)'"
            ]
          },
          "metadata": {
            "tags": []
          },
          "execution_count": 112
        }
      ]
    },
    {
      "metadata": {
        "id": "RL-WZfPgF77r",
        "colab_type": "code",
        "colab": {
          "base_uri": "https://localhost:8080/",
          "height": 34
        },
        "outputId": "078be613-9094-4ff7-8c86-7c4912379efb"
      },
      "cell_type": "code",
      "source": [
        "data[\"businesses\"][0]['id'] # parse id for review (with highest review count)"
      ],
      "execution_count": 33,
      "outputs": [
        {
          "output_type": "execute_result",
          "data": {
            "text/plain": [
              "'ETgJqJHV7BW6pIr9Ox74sA'"
            ]
          },
          "metadata": {
            "tags": []
          },
          "execution_count": 33
        }
      ]
    },
    {
      "metadata": {
        "id": "EEcceQGJGKY8",
        "colab_type": "text"
      },
      "cell_type": "markdown",
      "source": [
        "read review of this businesses of the highest review count"
      ]
    },
    {
      "metadata": {
        "id": "ApylqAplW9E2",
        "colab_type": "code",
        "colab": {}
      },
      "cell_type": "code",
      "source": [
        "ENDPOINT_reviews = 'https://api.yelp.com/v3/businesses/44SY464xDHbvOcjDzRbKkQ/reviews'   # id/reviews  \n",
        "response_reviews = requests.get(url = ENDPOINT_reviews, headers = HEADERS)"
      ],
      "execution_count": 0,
      "outputs": []
    },
    {
      "metadata": {
        "id": "AW42BuKqYd9L",
        "colab_type": "code",
        "outputId": "ee99a8ff-d81e-496c-dbf2-47f677541292",
        "colab": {
          "base_uri": "https://localhost:8080/",
          "height": 190
        }
      },
      "cell_type": "code",
      "source": [
        "response_reviews.json()['reviews'][0]#['user']['profile_url']"
      ],
      "execution_count": 163,
      "outputs": [
        {
          "output_type": "execute_result",
          "data": {
            "text/plain": [
              "{'id': 'ZNXhzuRQCRAuRlZp1qEhYA',\n",
              " 'rating': 5,\n",
              " 'text': \"OMG!!! I don't think this place needs another review but their ramen is out of this world.\\n\\nI ordered the akamaru modern, with their suggested toppings. It...\",\n",
              " 'time_created': '2019-03-13 11:20:34',\n",
              " 'url': 'https://www.yelp.com/biz/ippudo-ny-new-york-7?adjust_creative=fl6Gc_WOT5VLrae0o6fc7w&hrid=ZNXhzuRQCRAuRlZp1qEhYA&utm_campaign=yelp_api_v3&utm_medium=api_v3_business_reviews&utm_source=fl6Gc_WOT5VLrae0o6fc7w',\n",
              " 'user': {'id': 'jDxo59C8cG_2K9QinPggNQ',\n",
              "  'image_url': 'https://s3-media2.fl.yelpcdn.com/photo/Q_BkcvM91p8y0Vru3UZ1Og/o.jpg',\n",
              "  'name': 'Stephen N.',\n",
              "  'profile_url': 'https://www.yelp.com/user_details?userid=jDxo59C8cG_2K9QinPggNQ'}}"
            ]
          },
          "metadata": {
            "tags": []
          },
          "execution_count": 163
        }
      ]
    },
    {
      "metadata": {
        "id": "xRIcNN_tYpQP",
        "colab_type": "code",
        "outputId": "cf314c7b-e9e5-467c-8405-477e88137357",
        "colab": {
          "base_uri": "https://localhost:8080/",
          "height": 34
        }
      },
      "cell_type": "code",
      "source": [
        "len(response_reviews.json())"
      ],
      "execution_count": 24,
      "outputs": [
        {
          "output_type": "execute_result",
          "data": {
            "text/plain": [
              "3"
            ]
          },
          "metadata": {
            "tags": []
          },
          "execution_count": 24
        }
      ]
    },
    {
      "metadata": {
        "id": "AgHEAiqzZcNB",
        "colab_type": "code",
        "outputId": "1eb8bc20-0e9f-4087-cba8-94b3dad89fb3",
        "colab": {
          "base_uri": "https://localhost:8080/",
          "height": 54
        }
      },
      "cell_type": "code",
      "source": [
        "response_reviews.text"
      ],
      "execution_count": 25,
      "outputs": [
        {
          "output_type": "execute_result",
          "data": {
            "text/plain": [
              "'{\"reviews\": [{\"id\": \"ZNXhzuRQCRAuRlZp1qEhYA\", \"url\": \"https://www.yelp.com/biz/ippudo-ny-new-york-7?adjust_creative=fl6Gc_WOT5VLrae0o6fc7w&hrid=ZNXhzuRQCRAuRlZp1qEhYA&utm_campaign=yelp_api_v3&utm_medium=api_v3_business_reviews&utm_source=fl6Gc_WOT5VLrae0o6fc7w\", \"text\": \"OMG!!! I don\\'t think this place needs another review but their ramen is out of this world.\\\\n\\\\nI ordered the akamaru modern, with their suggested toppings. It...\", \"rating\": 5, \"time_created\": \"2019-03-13 11:20:34\", \"user\": {\"id\": \"jDxo59C8cG_2K9QinPggNQ\", \"profile_url\": \"https://www.yelp.com/user_details?userid=jDxo59C8cG_2K9QinPggNQ\", \"image_url\": \"https://s3-media2.fl.yelpcdn.com/photo/Q_BkcvM91p8y0Vru3UZ1Og/o.jpg\", \"name\": \"Stephen N.\"}}, {\"id\": \"Gv5yXSp5y8J-8Vf1BpV4ug\", \"url\": \"https://www.yelp.com/biz/ippudo-ny-new-york-7?adjust_creative=fl6Gc_WOT5VLrae0o6fc7w&hrid=Gv5yXSp5y8J-8Vf1BpV4ug&utm_campaign=yelp_api_v3&utm_medium=api_v3_business_reviews&utm_source=fl6Gc_WOT5VLrae0o6fc7w\", \"text\": \"Came here for lunch on a Saturday at 3PM and still had an hour wait but it was worth it! \\\\n\\\\nPros:\\\\n- The vegetarian bao was so good! Was not expecting that...\", \"rating\": 5, \"time_created\": \"2019-03-10 08:41:34\", \"user\": {\"id\": \"hgek71vAodJoBvYFnICwHg\", \"profile_url\": \"https://www.yelp.com/user_details?userid=hgek71vAodJoBvYFnICwHg\", \"image_url\": \"https://s3-media2.fl.yelpcdn.com/photo/391cm75LyJdHsKS9C9IWiQ/o.jpg\", \"name\": \"Mandy L.\"}}, {\"id\": \"_6L2dy7WinkapAd_HhmgFA\", \"url\": \"https://www.yelp.com/biz/ippudo-ny-new-york-7?adjust_creative=fl6Gc_WOT5VLrae0o6fc7w&hrid=_6L2dy7WinkapAd_HhmgFA&utm_campaign=yelp_api_v3&utm_medium=api_v3_business_reviews&utm_source=fl6Gc_WOT5VLrae0o6fc7w\", \"text\": \"After waiting an hour for a Sunday evening dinner, I was pretty excited to dine at Ippudo. We excitedly ordered the pork buns to start based on all the...\", \"rating\": 3, \"time_created\": \"2019-03-07 09:15:30\", \"user\": {\"id\": \"koq1nswcUyMFXiud3PEYBQ\", \"profile_url\": \"https://www.yelp.com/user_details?userid=koq1nswcUyMFXiud3PEYBQ\", \"image_url\": \"https://s3-media2.fl.yelpcdn.com/photo/Jt0P_zyxPjGoN-2F9C8VnQ/o.jpg\", \"name\": \"Amy B.\"}}], \"total\": 9677, \"possible_languages\": [\"fr\", \"en\", \"zh\", \"de\", \"nl\", \"ja\", \"es\"]}'"
            ]
          },
          "metadata": {
            "tags": []
          },
          "execution_count": 25
        }
      ]
    },
    {
      "metadata": {
        "id": "lS1G3_fjGuIl",
        "colab_type": "text"
      },
      "cell_type": "markdown",
      "source": [
        "Next, we can make a list of the businesses with their id, rating, and price"
      ]
    },
    {
      "metadata": {
        "id": "N1so2K95L3pl",
        "colab_type": "code",
        "colab": {}
      },
      "cell_type": "code",
      "source": [
        "# list of id in businesses with rating\n",
        "list_buss = []\n",
        "#i = 0s\n",
        "for item in data['businesses']:\n",
        "  #print(i)\n",
        "  #i+= 1\n",
        "  try:\n",
        "    list_buss.append([item['id'], item['rating'], item['price'],item['review_count']])#, \\\n",
        "                    #  item['categories'][0]['alias'], item['categories'][1]['alias'],item['categories'][2]['alias'],\\\n",
        "                    #  item['categories'][0]['title'], item['categories'][1]['title'],item['categories'][1]['title']])\n",
        "  except:\n",
        "    #list_buss.append([item['id'], item['rating'], None, None, None, None, None, None, None, None])\n",
        "    pass\n",
        "  #print(item['id'])\n",
        "#list_buss"
      ],
      "execution_count": 0,
      "outputs": []
    },
    {
      "metadata": {
        "id": "jPK5FF0VG1g9",
        "colab_type": "code",
        "colab": {
          "base_uri": "https://localhost:8080/",
          "height": 34
        },
        "outputId": "4d5cd704-3a1e-4f83-8bf1-fb56666941ef"
      },
      "cell_type": "code",
      "source": [
        "len(list_of_ids)"
      ],
      "execution_count": 138,
      "outputs": [
        {
          "output_type": "execute_result",
          "data": {
            "text/plain": [
              "50"
            ]
          },
          "metadata": {
            "tags": []
          },
          "execution_count": 138
        }
      ]
    },
    {
      "metadata": {
        "id": "fN9qqsHWG9Ze",
        "colab_type": "code",
        "colab": {
          "base_uri": "https://localhost:8080/",
          "height": 204
        },
        "outputId": "f97f63da-d357-40d4-f9da-c1281af5abd6"
      },
      "cell_type": "code",
      "source": [
        "# convert to pandas format\n",
        "#list_buss = pd.DataFrame(list_buss, columns = ['id','rating','price', 'count', 'alitas1', 'alitas2', 'alitas3','title1',\\\n",
        "#'title2','title3'])\n",
        "list_buss = pd.DataFrame(list_buss, columns = ['id','rating','price', 'count'])\n",
        "\n",
        "list_buss.head()"
      ],
      "execution_count": 140,
      "outputs": [
        {
          "output_type": "execute_result",
          "data": {
            "text/html": [
              "<div>\n",
              "<style scoped>\n",
              "    .dataframe tbody tr th:only-of-type {\n",
              "        vertical-align: middle;\n",
              "    }\n",
              "\n",
              "    .dataframe tbody tr th {\n",
              "        vertical-align: top;\n",
              "    }\n",
              "\n",
              "    .dataframe thead th {\n",
              "        text-align: right;\n",
              "    }\n",
              "</style>\n",
              "<table border=\"1\" class=\"dataframe\">\n",
              "  <thead>\n",
              "    <tr style=\"text-align: right;\">\n",
              "      <th></th>\n",
              "      <th>id</th>\n",
              "      <th>rating</th>\n",
              "      <th>price</th>\n",
              "      <th>count</th>\n",
              "    </tr>\n",
              "  </thead>\n",
              "  <tbody>\n",
              "    <tr>\n",
              "      <th>0</th>\n",
              "      <td>ETgJqJHV7BW6pIr9Ox74sA</td>\n",
              "      <td>4.5</td>\n",
              "      <td>$$</td>\n",
              "      <td>2395</td>\n",
              "    </tr>\n",
              "    <tr>\n",
              "      <th>1</th>\n",
              "      <td>ehUuSk5gPTCQmwS_ubgKRA</td>\n",
              "      <td>4.5</td>\n",
              "      <td>$$</td>\n",
              "      <td>1681</td>\n",
              "    </tr>\n",
              "    <tr>\n",
              "      <th>2</th>\n",
              "      <td>CwOAKJdX8AMz5iAoA-ZEuA</td>\n",
              "      <td>4.0</td>\n",
              "      <td>$$</td>\n",
              "      <td>428</td>\n",
              "    </tr>\n",
              "    <tr>\n",
              "      <th>3</th>\n",
              "      <td>tiSw-6DIm3-mMORyEIOVyg</td>\n",
              "      <td>4.5</td>\n",
              "      <td>$$</td>\n",
              "      <td>1746</td>\n",
              "    </tr>\n",
              "    <tr>\n",
              "      <th>4</th>\n",
              "      <td>jjJc_CrkB2HodEinB6cWww</td>\n",
              "      <td>4.0</td>\n",
              "      <td>$$</td>\n",
              "      <td>4032</td>\n",
              "    </tr>\n",
              "  </tbody>\n",
              "</table>\n",
              "</div>"
            ],
            "text/plain": [
              "                       id  rating price  count\n",
              "0  ETgJqJHV7BW6pIr9Ox74sA     4.5    $$   2395\n",
              "1  ehUuSk5gPTCQmwS_ubgKRA     4.5    $$   1681\n",
              "2  CwOAKJdX8AMz5iAoA-ZEuA     4.0    $$    428\n",
              "3  tiSw-6DIm3-mMORyEIOVyg     4.5    $$   1746\n",
              "4  jjJc_CrkB2HodEinB6cWww     4.0    $$   4032"
            ]
          },
          "metadata": {
            "tags": []
          },
          "execution_count": 140
        }
      ]
    },
    {
      "metadata": {
        "id": "zYrgnR07WN1R",
        "colab_type": "code",
        "colab": {
          "base_uri": "https://localhost:8080/",
          "height": 413
        },
        "outputId": "a0486854-3be3-48e4-9134-f9cf63e4f1ef"
      },
      "cell_type": "code",
      "source": [
        "list_buss.hist()"
      ],
      "execution_count": 141,
      "outputs": [
        {
          "output_type": "execute_result",
          "data": {
            "text/plain": [
              "array([[<matplotlib.axes._subplots.AxesSubplot object at 0x7fdeb95a2f60>,\n",
              "        <matplotlib.axes._subplots.AxesSubplot object at 0x7fdeb7417438>]],\n",
              "      dtype=object)"
            ]
          },
          "metadata": {
            "tags": []
          },
          "execution_count": 141
        },
        {
          "output_type": "display_data",
          "data": {
            "image/png": "[encoded data removed]",
            "text/plain": [
              "<Figure size 576x396 with 2 Axes>"
            ]
          },
          "metadata": {
            "tags": []
          }
        }
      ]
    },
    {
      "metadata": {
        "id": "cUDYyt2kWqgM",
        "colab_type": "code",
        "colab": {
          "base_uri": "https://localhost:8080/",
          "height": 173
        },
        "outputId": "cb73d8d9-99a6-4c50-bc21-faf2819ba118"
      },
      "cell_type": "code",
      "source": [
        "list_buss.groupby('price').count()"
      ],
      "execution_count": 143,
      "outputs": [
        {
          "output_type": "execute_result",
          "data": {
            "text/html": [
              "<div>\n",
              "<style scoped>\n",
              "    .dataframe tbody tr th:only-of-type {\n",
              "        vertical-align: middle;\n",
              "    }\n",
              "\n",
              "    .dataframe tbody tr th {\n",
              "        vertical-align: top;\n",
              "    }\n",
              "\n",
              "    .dataframe thead th {\n",
              "        text-align: right;\n",
              "    }\n",
              "</style>\n",
              "<table border=\"1\" class=\"dataframe\">\n",
              "  <thead>\n",
              "    <tr style=\"text-align: right;\">\n",
              "      <th></th>\n",
              "      <th>id</th>\n",
              "      <th>rating</th>\n",
              "      <th>count</th>\n",
              "    </tr>\n",
              "    <tr>\n",
              "      <th>price</th>\n",
              "      <th></th>\n",
              "      <th></th>\n",
              "      <th></th>\n",
              "    </tr>\n",
              "  </thead>\n",
              "  <tbody>\n",
              "    <tr>\n",
              "      <th>$</th>\n",
              "      <td>5</td>\n",
              "      <td>5</td>\n",
              "      <td>5</td>\n",
              "    </tr>\n",
              "    <tr>\n",
              "      <th>$$</th>\n",
              "      <td>38</td>\n",
              "      <td>38</td>\n",
              "      <td>38</td>\n",
              "    </tr>\n",
              "    <tr>\n",
              "      <th>$$$</th>\n",
              "      <td>5</td>\n",
              "      <td>5</td>\n",
              "      <td>5</td>\n",
              "    </tr>\n",
              "  </tbody>\n",
              "</table>\n",
              "</div>"
            ],
            "text/plain": [
              "       id  rating  count\n",
              "price                   \n",
              "$       5       5      5\n",
              "$$     38      38     38\n",
              "$$$     5       5      5"
            ]
          },
          "metadata": {
            "tags": []
          },
          "execution_count": 143
        }
      ]
    },
    {
      "metadata": {
        "id": "6KQ3269dYDg9",
        "colab_type": "code",
        "colab": {
          "base_uri": "https://localhost:8080/",
          "height": 204
        },
        "outputId": "977b55f1-c956-4af5-8643-2a18dc19abad"
      },
      "cell_type": "code",
      "source": [
        "high_rating = list_buss[list_buss['rating']>=4.0]\n",
        "high_rating.head()"
      ],
      "execution_count": 147,
      "outputs": [
        {
          "output_type": "execute_result",
          "data": {
            "text/html": [
              "<div>\n",
              "<style scoped>\n",
              "    .dataframe tbody tr th:only-of-type {\n",
              "        vertical-align: middle;\n",
              "    }\n",
              "\n",
              "    .dataframe tbody tr th {\n",
              "        vertical-align: top;\n",
              "    }\n",
              "\n",
              "    .dataframe thead th {\n",
              "        text-align: right;\n",
              "    }\n",
              "</style>\n",
              "<table border=\"1\" class=\"dataframe\">\n",
              "  <thead>\n",
              "    <tr style=\"text-align: right;\">\n",
              "      <th></th>\n",
              "      <th>id</th>\n",
              "      <th>rating</th>\n",
              "      <th>price</th>\n",
              "      <th>count</th>\n",
              "    </tr>\n",
              "  </thead>\n",
              "  <tbody>\n",
              "    <tr>\n",
              "      <th>0</th>\n",
              "      <td>ETgJqJHV7BW6pIr9Ox74sA</td>\n",
              "      <td>4.5</td>\n",
              "      <td>$$</td>\n",
              "      <td>2395</td>\n",
              "    </tr>\n",
              "    <tr>\n",
              "      <th>1</th>\n",
              "      <td>ehUuSk5gPTCQmwS_ubgKRA</td>\n",
              "      <td>4.5</td>\n",
              "      <td>$$</td>\n",
              "      <td>1681</td>\n",
              "    </tr>\n",
              "    <tr>\n",
              "      <th>2</th>\n",
              "      <td>CwOAKJdX8AMz5iAoA-ZEuA</td>\n",
              "      <td>4.0</td>\n",
              "      <td>$$</td>\n",
              "      <td>428</td>\n",
              "    </tr>\n",
              "    <tr>\n",
              "      <th>3</th>\n",
              "      <td>tiSw-6DIm3-mMORyEIOVyg</td>\n",
              "      <td>4.5</td>\n",
              "      <td>$$</td>\n",
              "      <td>1746</td>\n",
              "    </tr>\n",
              "    <tr>\n",
              "      <th>4</th>\n",
              "      <td>jjJc_CrkB2HodEinB6cWww</td>\n",
              "      <td>4.0</td>\n",
              "      <td>$$</td>\n",
              "      <td>4032</td>\n",
              "    </tr>\n",
              "  </tbody>\n",
              "</table>\n",
              "</div>"
            ],
            "text/plain": [
              "                       id  rating price  count\n",
              "0  ETgJqJHV7BW6pIr9Ox74sA     4.5    $$   2395\n",
              "1  ehUuSk5gPTCQmwS_ubgKRA     4.5    $$   1681\n",
              "2  CwOAKJdX8AMz5iAoA-ZEuA     4.0    $$    428\n",
              "3  tiSw-6DIm3-mMORyEIOVyg     4.5    $$   1746\n",
              "4  jjJc_CrkB2HodEinB6cWww     4.0    $$   4032"
            ]
          },
          "metadata": {
            "tags": []
          },
          "execution_count": 147
        }
      ]
    },
    {
      "metadata": {
        "id": "y6aCJUuZcCaG",
        "colab_type": "code",
        "colab": {}
      },
      "cell_type": "code",
      "source": [
        "# colect review\n",
        "List_reiew_all = []\n",
        "for i in range(len(high_rating)):\n",
        "  #print(i)\n",
        "  try:\n",
        "    ENDPOINT_reviews = 'https://api.yelp.com/v3/businesses/'+ high_rating['id'][i] +'/reviews'\n",
        "    response_reviews = requests.get(url = ENDPOINT_reviews, headers = HEADERS)\n",
        "    for ii in range(2):\n",
        "      x = response_reviews.json()['reviews'][ii]['text']\n",
        "      List_reiew_all.append(x)\n",
        "  except:\n",
        "    pass"
      ],
      "execution_count": 0,
      "outputs": []
    },
    {
      "metadata": {
        "id": "uobFgqKicVv0",
        "colab_type": "code",
        "colab": {
          "base_uri": "https://localhost:8080/",
          "height": 204
        },
        "outputId": "ae1a2a96-38a9-4fc9-f3db-464c751c221a"
      },
      "cell_type": "code",
      "source": [
        "List_reiew_all_pd = pd.DataFrame(List_reiew_all, columns =['review'])\n",
        "#len(List_reiew_all_pd)\n",
        "List_reiew_all_pd.head()"
      ],
      "execution_count": 151,
      "outputs": [
        {
          "output_type": "execute_result",
          "data": {
            "text/html": [
              "<div>\n",
              "<style scoped>\n",
              "    .dataframe tbody tr th:only-of-type {\n",
              "        vertical-align: middle;\n",
              "    }\n",
              "\n",
              "    .dataframe tbody tr th {\n",
              "        vertical-align: top;\n",
              "    }\n",
              "\n",
              "    .dataframe thead th {\n",
              "        text-align: right;\n",
              "    }\n",
              "</style>\n",
              "<table border=\"1\" class=\"dataframe\">\n",
              "  <thead>\n",
              "    <tr style=\"text-align: right;\">\n",
              "      <th></th>\n",
              "      <th>review</th>\n",
              "    </tr>\n",
              "  </thead>\n",
              "  <tbody>\n",
              "    <tr>\n",
              "      <th>0</th>\n",
              "      <td>Five star experience. I came here back in Dece...</td>\n",
              "    </tr>\n",
              "    <tr>\n",
              "      <th>1</th>\n",
              "      <td>My fiancé and I came here for brunch this past...</td>\n",
              "    </tr>\n",
              "    <tr>\n",
              "      <th>2</th>\n",
              "      <td>I came here a good 3 times and if you're an oy...</td>\n",
              "    </tr>\n",
              "    <tr>\n",
              "      <th>3</th>\n",
              "      <td>Read in a review/article somewhere to come and...</td>\n",
              "    </tr>\n",
              "    <tr>\n",
              "      <th>4</th>\n",
              "      <td>Hey I just had the calamari - it was one of th...</td>\n",
              "    </tr>\n",
              "  </tbody>\n",
              "</table>\n",
              "</div>"
            ],
            "text/plain": [
              "                                              review\n",
              "0  Five star experience. I came here back in Dece...\n",
              "1  My fiancé and I came here for brunch this past...\n",
              "2  I came here a good 3 times and if you're an oy...\n",
              "3  Read in a review/article somewhere to come and...\n",
              "4  Hey I just had the calamari - it was one of th..."
            ]
          },
          "metadata": {
            "tags": []
          },
          "execution_count": 151
        }
      ]
    },
    {
      "metadata": {
        "id": "nut5D8Etck_N",
        "colab_type": "code",
        "colab": {}
      },
      "cell_type": "code",
      "source": [
        ""
      ],
      "execution_count": 0,
      "outputs": []
    },
    {
      "metadata": {
        "id": "NRKPw0KMcakQ",
        "colab_type": "code",
        "colab": {}
      },
      "cell_type": "code",
      "source": [
        ""
      ],
      "execution_count": 0,
      "outputs": []
    }
  ]
}