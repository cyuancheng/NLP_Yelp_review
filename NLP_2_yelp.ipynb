{
  "nbformat": 4,
  "nbformat_minor": 0,
  "metadata": {
    "colab": {
      "name": "NLP_2_yelp.ipynb",
      "version": "0.3.2",
      "provenance": [],
      "collapsed_sections": [],
      "include_colab_link": true
    },
    "kernelspec": {
      "name": "python3",
      "display_name": "Python 3"
    }
  },
  "cells": [
    {
      "cell_type": "markdown",
      "metadata": {
        "id": "view-in-github",
        "colab_type": "text"
      },
      "source": [
        "<a href=\"https://colab.research.google.com/github/cyuancheng/NLP_Yelp_review/blob/master/NLP_2_yelp.ipynb\" target=\"_parent\"><img src=\"https://colab.research.google.com/assets/colab-badge.svg\" alt=\"Open In Colab\"/></a>"
      ]
    },
    {
      "metadata": {
        "id": "2KTF4FByD2_V",
        "colab_type": "text"
      },
      "cell_type": "markdown",
      "source": [
        "##Natural Language Processing and Sentiment Analysis for Yelp##\n",
        "\n",
        "Explore Starbucks review in New York City"
      ]
    },
    {
      "metadata": {
        "id": "Bv_JR_8LHEZS",
        "colab_type": "code",
        "colab": {}
      },
      "cell_type": "code",
      "source": [
        "import pandas as pd\n",
        "import requests\n",
        "import spacy #use NLP functions\n",
        "from spacy import displacy\n",
        "from textblob import TextBlob\n",
        "import re\n",
        "import matplotlib as mpl\n",
        "import matplotlib.pyplot as plt\n",
        "import seaborn as sns\n",
        "\n",
        "import folium\n",
        "import warnings\n",
        "warnings.filterwarnings(\"ignore\")"
      ],
      "execution_count": 0,
      "outputs": []
    },
    {
      "metadata": {
        "id": "5yO9p5IfpbM_",
        "colab_type": "text"
      },
      "cell_type": "markdown",
      "source": [
        "###1. Data pre-process and cleaning###\n",
        "Get data from Yelp api"
      ]
    },
    {
      "metadata": {
        "id": "nu8hn15rl7MQ",
        "colab_type": "code",
        "colab": {}
      },
      "cell_type": "code",
      "source": [
        "#get yelp api (https://www.yelp.com/developers)\n",
        "\n",
        "client_id = 'fl6Gc_WOT5VLrae0o6fc7w' \n",
        "key = 'kArR8ttjf4JdZDtC27-InwcgepdkWrtTcSfaHKwf_JMtQY0LvXgfaG3lmUA3F2oCCp-KUa-W8tPuVXdm8Abwj6N0m0YJniJHVa61rXEFMLuAM11d2IrYSV5NEYGJXHYx'\n",
        "\n",
        "ENDPOINT = 'https://api.yelp.com/v3/businesses/search'\n",
        "\n",
        "HEADERS = {'Authorization':'bearer {}'.format(key)}\n",
        "\n",
        "PARAMETERS = {'term' : 'Starbucks',\n",
        "              'limit':50,\n",
        "             'radius':40000, # meter\n",
        "              'latitude': 40.758862,\n",
        "              'longitude':-73.978663  # Rockefeller Center\n",
        "              #'sort_by' :'review_count', \n",
        "             #'location':\"New York City\"\n",
        "             }\n",
        "\n",
        "response = requests.get(url = ENDPOINT, params = PARAMETERS, headers = HEADERS)"
      ],
      "execution_count": 0,
      "outputs": []
    },
    {
      "metadata": {
        "id": "VXu-5_E-pmI7",
        "colab_type": "text"
      },
      "cell_type": "markdown",
      "source": [
        "- Process/Clean business data"
      ]
    },
    {
      "metadata": {
        "id": "vI-XhgJ7mDaH",
        "colab_type": "code",
        "colab": {}
      },
      "cell_type": "code",
      "source": [
        "data = response.json()"
      ],
      "execution_count": 0,
      "outputs": []
    },
    {
      "metadata": {
        "id": "SsQ8funaVwrd",
        "colab_type": "code",
        "outputId": "18199191-0895-482b-cdba-3c558f4e0633",
        "colab": {
          "base_uri": "https://localhost:8080/",
          "height": 428
        }
      },
      "cell_type": "code",
      "source": [
        "data[\"businesses\"][0]"
      ],
      "execution_count": 4,
      "outputs": [
        {
          "output_type": "execute_result",
          "data": {
            "text/plain": [
              "{'alias': 'starbucks-new-york-273',\n",
              " 'categories': [{'alias': 'coffee', 'title': 'Coffee & Tea'}],\n",
              " 'coordinates': {'latitude': 40.758856, 'longitude': -73.978954},\n",
              " 'display_phone': '(212) 397-7950',\n",
              " 'distance': 24.51886376624723,\n",
              " 'id': '5WHpzFh-ZbTBY919PlZPTw',\n",
              " 'image_url': 'https://s3-media2.fl.yelpcdn.com/bphoto/6f8_MgbQJiloz02QX6Oqxw/o.jpg',\n",
              " 'is_closed': False,\n",
              " 'location': {'address1': '30 Rockefeller Plaza',\n",
              "  'address2': '',\n",
              "  'address3': '',\n",
              "  'city': 'New York',\n",
              "  'country': 'US',\n",
              "  'display_address': ['30 Rockefeller Plaza', 'New York, NY 10112'],\n",
              "  'state': 'NY',\n",
              "  'zip_code': '10112'},\n",
              " 'name': 'Starbucks',\n",
              " 'phone': '+12123977950',\n",
              " 'price': '$$',\n",
              " 'rating': 3.0,\n",
              " 'review_count': 72,\n",
              " 'transactions': [],\n",
              " 'url': 'https://www.yelp.com/biz/starbucks-new-york-273?adjust_creative=fl6Gc_WOT5VLrae0o6fc7w&utm_campaign=yelp_api_v3&utm_medium=api_v3_business_search&utm_source=fl6Gc_WOT5VLrae0o6fc7w'}"
            ]
          },
          "metadata": {
            "tags": []
          },
          "execution_count": 4
        }
      ]
    },
    {
      "metadata": {
        "id": "lS1G3_fjGuIl",
        "colab_type": "text"
      },
      "cell_type": "markdown",
      "source": [
        "Next, we can make a list of the businesses with their id, rating, price, and location"
      ]
    },
    {
      "metadata": {
        "id": "N1so2K95L3pl",
        "colab_type": "code",
        "colab": {}
      },
      "cell_type": "code",
      "source": [
        "# list of id in businesses with rating\n",
        "list_buss = []\n",
        "\n",
        "for item in data['businesses']:\n",
        "  try:\n",
        "    list_buss.append([item['id'], item['rating'], item['price'],item['review_count'],\\\n",
        "                      item['coordinates']['latitude'],item['coordinates']['longitude'] ])\n",
        "  except:\n",
        "    list_buss.append([item['id'], item['rating'], None, None, None, None])"
      ],
      "execution_count": 0,
      "outputs": []
    },
    {
      "metadata": {
        "id": "fN9qqsHWG9Ze",
        "colab_type": "code",
        "outputId": "4544a0fc-a746-424b-c681-5842ccbd35c1",
        "colab": {
          "base_uri": "https://localhost:8080/",
          "height": 204
        }
      },
      "cell_type": "code",
      "source": [
        "# convert to pandas format\n",
        "list_buss = pd.DataFrame(list_buss, columns = ['id','rating','price', 'count', 'latitude','longitude' ])\n",
        "list_buss.head()"
      ],
      "execution_count": 8,
      "outputs": [
        {
          "output_type": "execute_result",
          "data": {
            "text/html": [
              "<div>\n",
              "<style scoped>\n",
              "    .dataframe tbody tr th:only-of-type {\n",
              "        vertical-align: middle;\n",
              "    }\n",
              "\n",
              "    .dataframe tbody tr th {\n",
              "        vertical-align: top;\n",
              "    }\n",
              "\n",
              "    .dataframe thead th {\n",
              "        text-align: right;\n",
              "    }\n",
              "</style>\n",
              "<table border=\"1\" class=\"dataframe\">\n",
              "  <thead>\n",
              "    <tr style=\"text-align: right;\">\n",
              "      <th></th>\n",
              "      <th>id</th>\n",
              "      <th>rating</th>\n",
              "      <th>price</th>\n",
              "      <th>count</th>\n",
              "      <th>latitude</th>\n",
              "      <th>longitude</th>\n",
              "    </tr>\n",
              "  </thead>\n",
              "  <tbody>\n",
              "    <tr>\n",
              "      <th>0</th>\n",
              "      <td>5WHpzFh-ZbTBY919PlZPTw</td>\n",
              "      <td>3.0</td>\n",
              "      <td>$$</td>\n",
              "      <td>72.0</td>\n",
              "      <td>40.758856</td>\n",
              "      <td>-73.978954</td>\n",
              "    </tr>\n",
              "    <tr>\n",
              "      <th>1</th>\n",
              "      <td>AJR1lIu3RzgC8bgCk2tFog</td>\n",
              "      <td>2.5</td>\n",
              "      <td>$$</td>\n",
              "      <td>30.0</td>\n",
              "      <td>40.758859</td>\n",
              "      <td>-73.978956</td>\n",
              "    </tr>\n",
              "    <tr>\n",
              "      <th>2</th>\n",
              "      <td>t8_nm5-yk8ArhZjT3nHxRA</td>\n",
              "      <td>2.5</td>\n",
              "      <td>$$</td>\n",
              "      <td>15.0</td>\n",
              "      <td>40.757802</td>\n",
              "      <td>-73.979602</td>\n",
              "    </tr>\n",
              "    <tr>\n",
              "      <th>3</th>\n",
              "      <td>DTRLsTwx0534Iv-0xfXijA</td>\n",
              "      <td>2.5</td>\n",
              "      <td>$$</td>\n",
              "      <td>26.0</td>\n",
              "      <td>40.760364</td>\n",
              "      <td>-73.979084</td>\n",
              "    </tr>\n",
              "    <tr>\n",
              "      <th>4</th>\n",
              "      <td>4VwDtb5wOxfaXFOvTp7C6A</td>\n",
              "      <td>2.5</td>\n",
              "      <td>$$</td>\n",
              "      <td>22.0</td>\n",
              "      <td>40.760587</td>\n",
              "      <td>-73.978598</td>\n",
              "    </tr>\n",
              "  </tbody>\n",
              "</table>\n",
              "</div>"
            ],
            "text/plain": [
              "                       id  rating price  count   latitude  longitude\n",
              "0  5WHpzFh-ZbTBY919PlZPTw     3.0    $$   72.0  40.758856 -73.978954\n",
              "1  AJR1lIu3RzgC8bgCk2tFog     2.5    $$   30.0  40.758859 -73.978956\n",
              "2  t8_nm5-yk8ArhZjT3nHxRA     2.5    $$   15.0  40.757802 -73.979602\n",
              "3  DTRLsTwx0534Iv-0xfXijA     2.5    $$   26.0  40.760364 -73.979084\n",
              "4  4VwDtb5wOxfaXFOvTp7C6A     2.5    $$   22.0  40.760587 -73.978598"
            ]
          },
          "metadata": {
            "tags": []
          },
          "execution_count": 8
        }
      ]
    },
    {
      "metadata": {
        "id": "Kh1QYa-JRYRT",
        "colab_type": "code",
        "colab": {
          "base_uri": "https://localhost:8080/",
          "height": 34
        },
        "outputId": "4fcf473b-3631-44d1-d6de-beff6ea6b7a3"
      },
      "cell_type": "code",
      "source": [
        "locations = list_buss[['latitude', 'longitude']]\n",
        "locationlist = locations.values.tolist()\n",
        "len(locationlist)\n",
        "locationlist[7]"
      ],
      "execution_count": 9,
      "outputs": [
        {
          "output_type": "execute_result",
          "data": {
            "text/plain": [
              "[40.760348, -73.976134]"
            ]
          },
          "metadata": {
            "tags": []
          },
          "execution_count": 9
        }
      ]
    },
    {
      "metadata": {
        "id": "U_P52HeW27wA",
        "colab_type": "code",
        "colab": {
          "base_uri": "https://localhost:8080/",
          "height": 674
        },
        "outputId": "183913d8-143c-42ee-d11d-6c20d2d3e307"
      },
      "cell_type": "code",
      "source": [
        "map = folium.Map(location=[40.758862, -73.978663], zoom_start=16)\n",
        "\n",
        "for point in range(0, len(locationlist)):\n",
        "    folium.Marker(locationlist[point], popup=list_buss['id'][point]).add_to(map)\n",
        "map"
      ],
      "execution_count": 14,
      "outputs": [
        {
          "output_type": "execute_result",
          "data": {
            "text/html": [
              "<div style=\"width:100%;\"><div style=\"position:relative;width:100%;height:0;padding-bottom:60%;\"><iframe src=\"data:text/html;base64,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\" style=\"position:absolute;width:100%;height:100%;left:0;top:0;\"></iframe></div></div>"
            ],
            "text/plain": [
              "<folium.folium.Map at 0x7fddeaca6668>"
            ]
          },
          "metadata": {
            "tags": []
          },
          "execution_count": 14
        }
      ]
    },
    {
      "metadata": {
        "id": "WCo6NeCEe0Ps",
        "colab_type": "text"
      },
      "cell_type": "markdown",
      "source": [
        "Optional. A suggested search radius in meters. This field is used as a suggestion to the search. The actual search radius may be lower than the suggested radius in dense urban areas, and higher in regions of less business density. If the specified value is too large, a AREA_TOO_LARGE error may be returned. The max value is 40000 meters (about 25 miles)."
      ]
    },
    {
      "metadata": {
        "id": "zYrgnR07WN1R",
        "colab_type": "code",
        "outputId": "7bb31bb3-c9fc-4d48-b28b-4a16443dc7c4",
        "colab": {
          "base_uri": "https://localhost:8080/",
          "height": 378
        }
      },
      "cell_type": "code",
      "source": [
        "sns.countplot(x=\"rating\", data=list_buss)"
      ],
      "execution_count": 15,
      "outputs": [
        {
          "output_type": "execute_result",
          "data": {
            "text/plain": [
              "<matplotlib.axes._subplots.AxesSubplot at 0x7fddeab6fc18>"
            ]
          },
          "metadata": {
            "tags": []
          },
          "execution_count": 15
        },
        {
          "output_type": "display_data",
          "data": {
            "image/png": "[encoded data removed]",
            "text/plain": [
              "<Figure size 576x396 with 1 Axes>"
            ]
          },
          "metadata": {
            "tags": []
          }
        }
      ]
    },
    {
      "metadata": {
        "id": "cUDYyt2kWqgM",
        "colab_type": "code",
        "outputId": "59cc42ab-ed2c-4e8f-b4ca-a35db1b27638",
        "colab": {
          "base_uri": "https://localhost:8080/",
          "height": 173
        }
      },
      "cell_type": "code",
      "source": [
        "list_buss.groupby('price').count()"
      ],
      "execution_count": 41,
      "outputs": [
        {
          "output_type": "execute_result",
          "data": {
            "text/html": [
              "<div>\n",
              "<style scoped>\n",
              "    .dataframe tbody tr th:only-of-type {\n",
              "        vertical-align: middle;\n",
              "    }\n",
              "\n",
              "    .dataframe tbody tr th {\n",
              "        vertical-align: top;\n",
              "    }\n",
              "\n",
              "    .dataframe thead th {\n",
              "        text-align: right;\n",
              "    }\n",
              "</style>\n",
              "<table border=\"1\" class=\"dataframe\">\n",
              "  <thead>\n",
              "    <tr style=\"text-align: right;\">\n",
              "      <th></th>\n",
              "      <th>id</th>\n",
              "      <th>rating</th>\n",
              "      <th>count</th>\n",
              "      <th>latitude</th>\n",
              "      <th>longitude</th>\n",
              "    </tr>\n",
              "    <tr>\n",
              "      <th>price</th>\n",
              "      <th></th>\n",
              "      <th></th>\n",
              "      <th></th>\n",
              "      <th></th>\n",
              "      <th></th>\n",
              "    </tr>\n",
              "  </thead>\n",
              "  <tbody>\n",
              "    <tr>\n",
              "      <th>$</th>\n",
              "      <td>10</td>\n",
              "      <td>10</td>\n",
              "      <td>10</td>\n",
              "      <td>10</td>\n",
              "      <td>10</td>\n",
              "    </tr>\n",
              "    <tr>\n",
              "      <th>$$</th>\n",
              "      <td>35</td>\n",
              "      <td>35</td>\n",
              "      <td>35</td>\n",
              "      <td>35</td>\n",
              "      <td>35</td>\n",
              "    </tr>\n",
              "    <tr>\n",
              "      <th>$$$</th>\n",
              "      <td>2</td>\n",
              "      <td>2</td>\n",
              "      <td>2</td>\n",
              "      <td>2</td>\n",
              "      <td>2</td>\n",
              "    </tr>\n",
              "  </tbody>\n",
              "</table>\n",
              "</div>"
            ],
            "text/plain": [
              "       id  rating  count  latitude  longitude\n",
              "price                                        \n",
              "$      10      10     10        10         10\n",
              "$$     35      35     35        35         35\n",
              "$$$     2       2      2         2          2"
            ]
          },
          "metadata": {
            "tags": []
          },
          "execution_count": 41
        }
      ]
    },
    {
      "metadata": {
        "id": "WU_w9e12uBNZ",
        "colab_type": "text"
      },
      "cell_type": "markdown",
      "source": [
        "review"
      ]
    },
    {
      "metadata": {
        "id": "RL-WZfPgF77r",
        "colab_type": "code",
        "outputId": "5324f01a-db40-4cd0-ed20-1b6377544be7",
        "colab": {
          "base_uri": "https://localhost:8080/",
          "height": 34
        }
      },
      "cell_type": "code",
      "source": [
        "data[\"businesses\"][0]['id'] # parse id# for review "
      ],
      "execution_count": 17,
      "outputs": [
        {
          "output_type": "execute_result",
          "data": {
            "text/plain": [
              "'5WHpzFh-ZbTBY919PlZPTw'"
            ]
          },
          "metadata": {
            "tags": []
          },
          "execution_count": 17
        }
      ]
    },
    {
      "metadata": {
        "id": "EEcceQGJGKY8",
        "colab_type": "text"
      },
      "cell_type": "markdown",
      "source": [
        "read review of this businesses "
      ]
    },
    {
      "metadata": {
        "id": "ApylqAplW9E2",
        "colab_type": "code",
        "colab": {}
      },
      "cell_type": "code",
      "source": [
        "ENDPOINT_reviews = 'https://api.yelp.com/v3/businesses/5WHpzFh-ZbTBY919PlZPTw/reviews'   # id/reviews  \n",
        "response_reviews = requests.get(url = ENDPOINT_reviews, headers = HEADERS)"
      ],
      "execution_count": 0,
      "outputs": []
    },
    {
      "metadata": {
        "id": "EQV6veiyq9y6",
        "colab_type": "text"
      },
      "cell_type": "markdown",
      "source": [
        "Each business has three reviews. Read first review"
      ]
    },
    {
      "metadata": {
        "id": "xRIcNN_tYpQP",
        "colab_type": "code",
        "outputId": "6fa586af-f128-47c7-fd2b-57c5458ac524",
        "colab": {
          "base_uri": "https://localhost:8080/",
          "height": 34
        }
      },
      "cell_type": "code",
      "source": [
        "len(response_reviews.json())"
      ],
      "execution_count": 19,
      "outputs": [
        {
          "output_type": "execute_result",
          "data": {
            "text/plain": [
              "3"
            ]
          },
          "metadata": {
            "tags": []
          },
          "execution_count": 19
        }
      ]
    },
    {
      "metadata": {
        "id": "AW42BuKqYd9L",
        "colab_type": "code",
        "outputId": "a3fa47e5-67a3-479f-dde6-9d528ea9892b",
        "colab": {
          "base_uri": "https://localhost:8080/",
          "height": 190
        }
      },
      "cell_type": "code",
      "source": [
        "response_reviews.json()['reviews'][0]#['user']['profile_url']"
      ],
      "execution_count": 20,
      "outputs": [
        {
          "output_type": "execute_result",
          "data": {
            "text/plain": [
              "{'id': '3gnJ62usiQh9VDdVPibDAw',\n",
              " 'rating': 4,\n",
              " 'text': 'I have been here at 630 am and the staff is always pleasant and well rested. Sometimes there are homeless people sitting in the seats but it may be a way of...',\n",
              " 'time_created': '2018-11-16 14:36:46',\n",
              " 'url': 'https://www.yelp.com/biz/starbucks-new-york-273?adjust_creative=fl6Gc_WOT5VLrae0o6fc7w&hrid=3gnJ62usiQh9VDdVPibDAw&utm_campaign=yelp_api_v3&utm_medium=api_v3_business_reviews&utm_source=fl6Gc_WOT5VLrae0o6fc7w',\n",
              " 'user': {'id': 'KVKIvMY5gL5scNgexlENiQ',\n",
              "  'image_url': 'https://s3-media3.fl.yelpcdn.com/photo/iMhwNj0d6t8ZZJ1sS2i6qg/o.jpg',\n",
              "  'name': 'Dionne H.',\n",
              "  'profile_url': 'https://www.yelp.com/user_details?userid=KVKIvMY5gL5scNgexlENiQ'}}"
            ]
          },
          "metadata": {
            "tags": []
          },
          "execution_count": 20
        }
      ]
    },
    {
      "metadata": {
        "id": "83KRCC8JiPEK",
        "colab_type": "text"
      },
      "cell_type": "markdown",
      "source": [
        "Since each buisness only has three reviews, the rating are not representive the business statistically. So I decide to pull out the rating that directly link to the review."
      ]
    },
    {
      "metadata": {
        "id": "y6aCJUuZcCaG",
        "colab_type": "code",
        "colab": {}
      },
      "cell_type": "code",
      "source": [
        "# collect review\n",
        "List_all_review = []\n",
        "List_all_rating = []\n",
        "for i in range(50):\n",
        "\n",
        "  try:\n",
        "    ENDPOINT_reviews = 'https://api.yelp.com/v3/businesses/'+ data[\"businesses\"][i]['id'] +'/reviews'\n",
        "    response_reviews = requests.get(url = ENDPOINT_reviews, headers = HEADERS)\n",
        "    for ii in range(3):\n",
        "\n",
        "      x = response_reviews.json()['reviews'][ii]['text']\n",
        "      List_all_review .append(x)\n",
        "      y = response_reviews.json()['reviews'][ii]['rating']\n",
        "      List_all_rating.append(y)\n",
        "  except:\n",
        "    pass"
      ],
      "execution_count": 0,
      "outputs": []
    },
    {
      "metadata": {
        "id": "uobFgqKicVv0",
        "colab_type": "code",
        "outputId": "1d721e5b-e139-4982-8dd0-238e834de315",
        "colab": {
          "base_uri": "https://localhost:8080/",
          "height": 204
        }
      },
      "cell_type": "code",
      "source": [
        "d = {'rate': List_all_rating, 'review': List_all_review}\n",
        "df_total = pd.DataFrame(data=d)\n",
        "df_total.head()"
      ],
      "execution_count": 45,
      "outputs": [
        {
          "output_type": "execute_result",
          "data": {
            "text/html": [
              "<div>\n",
              "<style scoped>\n",
              "    .dataframe tbody tr th:only-of-type {\n",
              "        vertical-align: middle;\n",
              "    }\n",
              "\n",
              "    .dataframe tbody tr th {\n",
              "        vertical-align: top;\n",
              "    }\n",
              "\n",
              "    .dataframe thead th {\n",
              "        text-align: right;\n",
              "    }\n",
              "</style>\n",
              "<table border=\"1\" class=\"dataframe\">\n",
              "  <thead>\n",
              "    <tr style=\"text-align: right;\">\n",
              "      <th></th>\n",
              "      <th>rate</th>\n",
              "      <th>review</th>\n",
              "    </tr>\n",
              "  </thead>\n",
              "  <tbody>\n",
              "    <tr>\n",
              "      <th>0</th>\n",
              "      <td>4</td>\n",
              "      <td>I have been here at 630 am and the staff is al...</td>\n",
              "    </tr>\n",
              "    <tr>\n",
              "      <th>1</th>\n",
              "      <td>2</td>\n",
              "      <td>Horrible experience this morning ,app orders s...</td>\n",
              "    </tr>\n",
              "    <tr>\n",
              "      <th>2</th>\n",
              "      <td>1</td>\n",
              "      <td>I freqent this location practically every work...</td>\n",
              "    </tr>\n",
              "    <tr>\n",
              "      <th>3</th>\n",
              "      <td>3</td>\n",
              "      <td>I arrived extremely early in NY so I decided t...</td>\n",
              "    </tr>\n",
              "    <tr>\n",
              "      <th>4</th>\n",
              "      <td>3</td>\n",
              "      <td>When I was younger, I used to play a game with...</td>\n",
              "    </tr>\n",
              "  </tbody>\n",
              "</table>\n",
              "</div>"
            ],
            "text/plain": [
              "   rate                                             review\n",
              "0     4  I have been here at 630 am and the staff is al...\n",
              "1     2  Horrible experience this morning ,app orders s...\n",
              "2     1  I freqent this location practically every work...\n",
              "3     3  I arrived extremely early in NY so I decided t...\n",
              "4     3  When I was younger, I used to play a game with..."
            ]
          },
          "metadata": {
            "tags": []
          },
          "execution_count": 45
        }
      ]
    },
    {
      "metadata": {
        "id": "T1PtmZstufve",
        "colab_type": "code",
        "outputId": "9dcb7b7f-3d45-4bb1-c108-c0c71323877b",
        "colab": {
          "base_uri": "https://localhost:8080/",
          "height": 378
        }
      },
      "cell_type": "code",
      "source": [
        "sns.countplot(x=\"rate\", data=df_total)"
      ],
      "execution_count": 46,
      "outputs": [
        {
          "output_type": "execute_result",
          "data": {
            "text/plain": [
              "<matplotlib.axes._subplots.AxesSubplot at 0x7fdde82a8b00>"
            ]
          },
          "metadata": {
            "tags": []
          },
          "execution_count": 46
        },
        {
          "output_type": "display_data",
          "data": {
            "image/png": "[encoded data removed]",
            "text/plain": [
              "<Figure size 576x396 with 1 Axes>"
            ]
          },
          "metadata": {
            "tags": []
          }
        }
      ]
    },
    {
      "metadata": {
        "id": "2ax1pq-fvwoe",
        "colab_type": "code",
        "colab": {}
      },
      "cell_type": "code",
      "source": [
        "df_total['Polarity'] = [TextBlob(x).sentiment[0] for x in df_total['review'] ]\n",
        "df_total['Subjectivity'] = [TextBlob(x).sentiment[1] for x in df_total['review'] ]"
      ],
      "execution_count": 0,
      "outputs": []
    },
    {
      "metadata": {
        "id": "9v76pVdAunxC",
        "colab_type": "code",
        "outputId": "f9eec693-c6f9-46c5-a95d-4db74331c924",
        "colab": {
          "base_uri": "https://localhost:8080/",
          "height": 51
        }
      },
      "cell_type": "code",
      "source": [
        "df_total_HR = df_total[df_total['rate']>=4]\n",
        "df_total_LR = df_total[df_total['rate']<4]\n",
        "\n",
        "print(len(df_total_HR))\n",
        "print(len(df_total_LR))"
      ],
      "execution_count": 48,
      "outputs": [
        {
          "output_type": "stream",
          "text": [
            "63\n",
            "83\n"
          ],
          "name": "stdout"
        }
      ]
    },
    {
      "metadata": {
        "id": "FsrqPeaiu-a1",
        "colab_type": "code",
        "outputId": "60c850e8-30f1-4935-cc48-594991299678",
        "colab": {
          "base_uri": "https://localhost:8080/",
          "height": 204
        }
      },
      "cell_type": "code",
      "source": [
        "df_total_HR.head()"
      ],
      "execution_count": 49,
      "outputs": [
        {
          "output_type": "execute_result",
          "data": {
            "text/html": [
              "<div>\n",
              "<style scoped>\n",
              "    .dataframe tbody tr th:only-of-type {\n",
              "        vertical-align: middle;\n",
              "    }\n",
              "\n",
              "    .dataframe tbody tr th {\n",
              "        vertical-align: top;\n",
              "    }\n",
              "\n",
              "    .dataframe thead th {\n",
              "        text-align: right;\n",
              "    }\n",
              "</style>\n",
              "<table border=\"1\" class=\"dataframe\">\n",
              "  <thead>\n",
              "    <tr style=\"text-align: right;\">\n",
              "      <th></th>\n",
              "      <th>rate</th>\n",
              "      <th>review</th>\n",
              "      <th>Polarity</th>\n",
              "      <th>Subjectivity</th>\n",
              "    </tr>\n",
              "  </thead>\n",
              "  <tbody>\n",
              "    <tr>\n",
              "      <th>0</th>\n",
              "      <td>4</td>\n",
              "      <td>I have been here at 630 am and the staff is al...</td>\n",
              "      <td>0.733333</td>\n",
              "      <td>0.966667</td>\n",
              "    </tr>\n",
              "    <tr>\n",
              "      <th>6</th>\n",
              "      <td>5</td>\n",
              "      <td>My go to Starbucks. Obviously people don't agr...</td>\n",
              "      <td>0.400000</td>\n",
              "      <td>0.600000</td>\n",
              "    </tr>\n",
              "    <tr>\n",
              "      <th>8</th>\n",
              "      <td>4</td>\n",
              "      <td>This location is kind of tucked away in the mi...</td>\n",
              "      <td>0.150000</td>\n",
              "      <td>0.325000</td>\n",
              "    </tr>\n",
              "    <tr>\n",
              "      <th>9</th>\n",
              "      <td>4</td>\n",
              "      <td>One of my usual spots for a Starbucks run whil...</td>\n",
              "      <td>0.106667</td>\n",
              "      <td>0.380000</td>\n",
              "    </tr>\n",
              "    <tr>\n",
              "      <th>10</th>\n",
              "      <td>5</td>\n",
              "      <td>I been here a few times. The service is pretty...</td>\n",
              "      <td>0.220000</td>\n",
              "      <td>0.545000</td>\n",
              "    </tr>\n",
              "  </tbody>\n",
              "</table>\n",
              "</div>"
            ],
            "text/plain": [
              "    rate                                             review  Polarity  \\\n",
              "0      4  I have been here at 630 am and the staff is al...  0.733333   \n",
              "6      5  My go to Starbucks. Obviously people don't agr...  0.400000   \n",
              "8      4  This location is kind of tucked away in the mi...  0.150000   \n",
              "9      4  One of my usual spots for a Starbucks run whil...  0.106667   \n",
              "10     5  I been here a few times. The service is pretty...  0.220000   \n",
              "\n",
              "    Subjectivity  \n",
              "0       0.966667  \n",
              "6       0.600000  \n",
              "8       0.325000  \n",
              "9       0.380000  \n",
              "10      0.545000  "
            ]
          },
          "metadata": {
            "tags": []
          },
          "execution_count": 49
        }
      ]
    },
    {
      "metadata": {
        "id": "cs2fL5xOvDi5",
        "colab_type": "code",
        "outputId": "1d2d7e2b-51cf-4c7b-9765-0e4625e455a5",
        "colab": {
          "base_uri": "https://localhost:8080/",
          "height": 204
        }
      },
      "cell_type": "code",
      "source": [
        "df_total_LR.head()"
      ],
      "execution_count": 50,
      "outputs": [
        {
          "output_type": "execute_result",
          "data": {
            "text/html": [
              "<div>\n",
              "<style scoped>\n",
              "    .dataframe tbody tr th:only-of-type {\n",
              "        vertical-align: middle;\n",
              "    }\n",
              "\n",
              "    .dataframe tbody tr th {\n",
              "        vertical-align: top;\n",
              "    }\n",
              "\n",
              "    .dataframe thead th {\n",
              "        text-align: right;\n",
              "    }\n",
              "</style>\n",
              "<table border=\"1\" class=\"dataframe\">\n",
              "  <thead>\n",
              "    <tr style=\"text-align: right;\">\n",
              "      <th></th>\n",
              "      <th>rate</th>\n",
              "      <th>review</th>\n",
              "      <th>Polarity</th>\n",
              "      <th>Subjectivity</th>\n",
              "    </tr>\n",
              "  </thead>\n",
              "  <tbody>\n",
              "    <tr>\n",
              "      <th>1</th>\n",
              "      <td>2</td>\n",
              "      <td>Horrible experience this morning ,app orders s...</td>\n",
              "      <td>-0.266667</td>\n",
              "      <td>0.70</td>\n",
              "    </tr>\n",
              "    <tr>\n",
              "      <th>2</th>\n",
              "      <td>1</td>\n",
              "      <td>I freqent this location practically every work...</td>\n",
              "      <td>-0.450000</td>\n",
              "      <td>1.00</td>\n",
              "    </tr>\n",
              "    <tr>\n",
              "      <th>3</th>\n",
              "      <td>3</td>\n",
              "      <td>I arrived extremely early in NY so I decided t...</td>\n",
              "      <td>0.100000</td>\n",
              "      <td>0.30</td>\n",
              "    </tr>\n",
              "    <tr>\n",
              "      <th>4</th>\n",
              "      <td>3</td>\n",
              "      <td>When I was younger, I used to play a game with...</td>\n",
              "      <td>-0.133333</td>\n",
              "      <td>0.30</td>\n",
              "    </tr>\n",
              "    <tr>\n",
              "      <th>5</th>\n",
              "      <td>1</td>\n",
              "      <td>The wait here I just had for only a cup of ice...</td>\n",
              "      <td>-0.103472</td>\n",
              "      <td>0.75</td>\n",
              "    </tr>\n",
              "  </tbody>\n",
              "</table>\n",
              "</div>"
            ],
            "text/plain": [
              "   rate                                             review  Polarity  \\\n",
              "1     2  Horrible experience this morning ,app orders s... -0.266667   \n",
              "2     1  I freqent this location practically every work... -0.450000   \n",
              "3     3  I arrived extremely early in NY so I decided t...  0.100000   \n",
              "4     3  When I was younger, I used to play a game with... -0.133333   \n",
              "5     1  The wait here I just had for only a cup of ice... -0.103472   \n",
              "\n",
              "   Subjectivity  \n",
              "1          0.70  \n",
              "2          1.00  \n",
              "3          0.30  \n",
              "4          0.30  \n",
              "5          0.75  "
            ]
          },
          "metadata": {
            "tags": []
          },
          "execution_count": 50
        }
      ]
    },
    {
      "metadata": {
        "id": "knPxbRZnwBvo",
        "colab_type": "text"
      },
      "cell_type": "markdown",
      "source": [
        "Howis the review rate correlated to the polarity?"
      ]
    },
    {
      "metadata": {
        "id": "XDPuYl05vMRz",
        "colab_type": "code",
        "outputId": "34cec58a-1bc0-4f88-d4ca-92433e2d0a36",
        "colab": {
          "base_uri": "https://localhost:8080/",
          "height": 378
        }
      },
      "cell_type": "code",
      "source": [
        "sns.boxplot(x=\"rate\", y=\"Polarity\", data=df_total)"
      ],
      "execution_count": 51,
      "outputs": [
        {
          "output_type": "execute_result",
          "data": {
            "text/plain": [
              "<matplotlib.axes._subplots.AxesSubplot at 0x7fdde7f1b518>"
            ]
          },
          "metadata": {
            "tags": []
          },
          "execution_count": 51
        },
        {
          "output_type": "display_data",
          "data": {
            "image/png": "[encoded data removed]",
            "text/plain": [
              "<Figure size 576x396 with 1 Axes>"
            ]
          },
          "metadata": {
            "tags": []
          }
        }
      ]
    },
    {
      "metadata": {
        "id": "p_3El9NFwTEP",
        "colab_type": "code",
        "outputId": "646f5171-43a1-4ba9-ddb1-c32dc913a190",
        "colab": {
          "base_uri": "https://localhost:8080/",
          "height": 378
        }
      },
      "cell_type": "code",
      "source": [
        "sns.boxplot(x=\"rate\", y=\"Subjectivity\", data=df_total)"
      ],
      "execution_count": 52,
      "outputs": [
        {
          "output_type": "execute_result",
          "data": {
            "text/plain": [
              "<matplotlib.axes._subplots.AxesSubplot at 0x7fdde801fcc0>"
            ]
          },
          "metadata": {
            "tags": []
          },
          "execution_count": 52
        },
        {
          "output_type": "display_data",
          "data": {
            "image/png": "[encoded data removed]",
            "text/plain": [
              "<Figure size 576x396 with 1 Axes>"
            ]
          },
          "metadata": {
            "tags": []
          }
        }
      ]
    },
    {
      "metadata": {
        "id": "ihfc4TZdxXej",
        "colab_type": "code",
        "outputId": "632734e7-58d6-445c-fcc1-b3a00ea21a9d",
        "colab": {
          "base_uri": "https://localhost:8080/",
          "height": 164
        }
      },
      "cell_type": "code",
      "source": [
        "df_total.head()"
      ],
      "execution_count": 0,
      "outputs": [
        {
          "output_type": "error",
          "ename": "NameError",
          "evalue": "ignored",
          "traceback": [
            "\u001b[0;31m---------------------------------------------------------------------------\u001b[0m",
            "\u001b[0;31mNameError\u001b[0m                                 Traceback (most recent call last)",
            "\u001b[0;32m<ipython-input-1-3cb190f21d47>\u001b[0m in \u001b[0;36m<module>\u001b[0;34m()\u001b[0m\n\u001b[0;32m----> 1\u001b[0;31m \u001b[0mdf_total\u001b[0m\u001b[0;34m.\u001b[0m\u001b[0mhead\u001b[0m\u001b[0;34m(\u001b[0m\u001b[0;34m)\u001b[0m\u001b[0;34m\u001b[0m\u001b[0;34m\u001b[0m\u001b[0m\n\u001b[0m",
            "\u001b[0;31mNameError\u001b[0m: name 'df_total' is not defined"
          ]
        }
      ]
    },
    {
      "metadata": {
        "id": "J8MkBajJpNaY",
        "colab_type": "code",
        "colab": {}
      },
      "cell_type": "code",
      "source": [
        ""
      ],
      "execution_count": 0,
      "outputs": []
    },
    {
      "metadata": {
        "id": "XcbZuE5stz0N",
        "colab_type": "text"
      },
      "cell_type": "markdown",
      "source": [
        ""
      ]
    }
  ]
}