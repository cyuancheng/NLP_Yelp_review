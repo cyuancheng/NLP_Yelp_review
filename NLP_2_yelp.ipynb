{
  "nbformat": 4,
  "nbformat_minor": 0,
  "metadata": {
    "colab": {
      "name": "NLP_2_yelp.ipynb",
      "version": "0.3.2",
      "provenance": [],
      "collapsed_sections": [],
      "toc_visible": true,
      "include_colab_link": true
    },
    "kernelspec": {
      "name": "python3",
      "display_name": "Python 3"
    }
  },
  "cells": [
    {
      "cell_type": "markdown",
      "metadata": {
        "id": "view-in-github",
        "colab_type": "text"
      },
      "source": [
        "<a href=\"https://colab.research.google.com/github/cyuancheng/NLP_Yelp_review/blob/master/NLP_2_yelp.ipynb\" target=\"_parent\"><img src=\"https://colab.research.google.com/assets/colab-badge.svg\" alt=\"Open In Colab\"/></a>"
      ]
    },
    {
      "metadata": {
        "id": "2KTF4FByD2_V",
        "colab_type": "text"
      },
      "cell_type": "markdown",
      "source": [
        "##Natural Language Processing and Sentiment Analysis for Yelp##\n",
        "\n",
        "Explore Starbucks review in New York City (Rockefeller Center )"
      ]
    },
    {
      "metadata": {
        "id": "Bv_JR_8LHEZS",
        "colab_type": "code",
        "colab": {}
      },
      "cell_type": "code",
      "source": [
        "import pandas as pd\n",
        "import numpy as np\n",
        "import requests\n",
        "import spacy #use NLP functions\n",
        "from spacy import displacy\n",
        "from textblob import TextBlob\n",
        "import re\n",
        "import matplotlib as mpl\n",
        "import matplotlib.pyplot as plt\n",
        "import seaborn as sns\n",
        "\n",
        "from nltk.sentiment.vader import SentimentIntensityAnalyzer\n",
        "\n",
        "import folium\n",
        "import warnings\n",
        "warnings.filterwarnings(\"ignore\")"
      ],
      "execution_count": 0,
      "outputs": []
    },
    {
      "metadata": {
        "id": "izJDv2CqCVF_",
        "colab_type": "code",
        "outputId": "e079e2f0-fd7a-4630-8933-c280d9f08b93",
        "colab": {
          "base_uri": "https://localhost:8080/",
          "height": 34
        }
      },
      "cell_type": "code",
      "source": [
        "from google.colab import drive\n",
        "drive.mount('/content/gdrive', force_remount=True)\n",
        "root_dir = \"/content/gdrive/My Drive/\"\n",
        "base_dir = root_dir + 'School_of_AI/'"
      ],
      "execution_count": 53,
      "outputs": [
        {
          "output_type": "stream",
          "text": [
            "Mounted at /content/gdrive\n"
          ],
          "name": "stdout"
        }
      ]
    },
    {
      "metadata": {
        "id": "5yO9p5IfpbM_",
        "colab_type": "text"
      },
      "cell_type": "markdown",
      "source": [
        "###1. Data pre-process and cleaning###\n",
        "Get data from Yelp API\n",
        "(50 Starbucks stores near Rockefeller Center in NYC)"
      ]
    },
    {
      "metadata": {
        "id": "nu8hn15rl7MQ",
        "colab_type": "code",
        "colab": {}
      },
      "cell_type": "code",
      "source": [
        "#get yelp api (https://www.yelp.com/developers)\n",
        "\n",
        "client_id = 'fl6Gc_WOT5VLrae0o6fc7w' \n",
        "key = 'kArR8ttjf4JdZDtC27-InwcgepdkWrtTcSfaHKwf_JMtQY0LvXgfaG3lmUA3F2oCCp-KUa-W8tPuVXdm8Abwj6N0m0YJniJHVa61rXEFMLuAM11d2IrYSV5NEYGJXHYx'\n",
        "\n",
        "ENDPOINT = 'https://api.yelp.com/v3/businesses/search'\n",
        "\n",
        "HEADERS = {'Authorization':'bearer {}'.format(key)}\n",
        "\n",
        "PARAMETERS = {'term' : 'Starbucks',\n",
        "              'limit':50,\n",
        "             'radius':40000, # meter\n",
        "              'latitude': 40.758862,\n",
        "              'longitude':-73.978663  # Rockefeller Center\n",
        "              #'sort_by' :'review_count', \n",
        "             #'location':\"New York City\"\n",
        "             }\n",
        "\n",
        "response = requests.get(url = ENDPOINT, params = PARAMETERS, headers = HEADERS)"
      ],
      "execution_count": 0,
      "outputs": []
    },
    {
      "metadata": {
        "id": "VXu-5_E-pmI7",
        "colab_type": "text"
      },
      "cell_type": "markdown",
      "source": [
        "####Get the data from Yelp API \n",
        "look at the first business"
      ]
    },
    {
      "metadata": {
        "id": "SsQ8funaVwrd",
        "colab_type": "code",
        "outputId": "f2c24864-e30b-4ac8-f5b1-68f2acb8434f",
        "colab": {
          "base_uri": "https://localhost:8080/",
          "height": 428
        }
      },
      "cell_type": "code",
      "source": [
        "data = response.json()\n",
        "data[\"businesses\"][0]"
      ],
      "execution_count": 7,
      "outputs": [
        {
          "output_type": "execute_result",
          "data": {
            "text/plain": [
              "{'alias': 'starbucks-new-york-273',\n",
              " 'categories': [{'alias': 'coffee', 'title': 'Coffee & Tea'}],\n",
              " 'coordinates': {'latitude': 40.758856, 'longitude': -73.978954},\n",
              " 'display_phone': '(212) 397-7950',\n",
              " 'distance': 24.51886376624723,\n",
              " 'id': '5WHpzFh-ZbTBY919PlZPTw',\n",
              " 'image_url': 'https://s3-media2.fl.yelpcdn.com/bphoto/6f8_MgbQJiloz02QX6Oqxw/o.jpg',\n",
              " 'is_closed': False,\n",
              " 'location': {'address1': '30 Rockefeller Plaza',\n",
              "  'address2': '',\n",
              "  'address3': '',\n",
              "  'city': 'New York',\n",
              "  'country': 'US',\n",
              "  'display_address': ['30 Rockefeller Plaza', 'New York, NY 10112'],\n",
              "  'state': 'NY',\n",
              "  'zip_code': '10112'},\n",
              " 'name': 'Starbucks',\n",
              " 'phone': '+12123977950',\n",
              " 'price': '$$',\n",
              " 'rating': 3.0,\n",
              " 'review_count': 72,\n",
              " 'transactions': [],\n",
              " 'url': 'https://www.yelp.com/biz/starbucks-new-york-273?adjust_creative=fl6Gc_WOT5VLrae0o6fc7w&utm_campaign=yelp_api_v3&utm_medium=api_v3_business_search&utm_source=fl6Gc_WOT5VLrae0o6fc7w'}"
            ]
          },
          "metadata": {
            "tags": []
          },
          "execution_count": 7
        }
      ]
    },
    {
      "metadata": {
        "id": "lS1G3_fjGuIl",
        "colab_type": "text"
      },
      "cell_type": "markdown",
      "source": [
        "Next, we can make a list of the businesses with their id, rating, price, and location"
      ]
    },
    {
      "metadata": {
        "id": "N1so2K95L3pl",
        "colab_type": "code",
        "colab": {}
      },
      "cell_type": "code",
      "source": [
        "# list of id in businesses with rating\n",
        "list_buss = []\n",
        "\n",
        "for item in data['businesses']:\n",
        "  try:\n",
        "    list_buss.append([item['id'], item['rating'], item['price'],item['review_count'],\\\n",
        "                      item['coordinates']['latitude'],item['coordinates']['longitude'] ])\n",
        "  except:\n",
        "    list_buss.append([item['id'], item['rating'], None, None, None, None])"
      ],
      "execution_count": 0,
      "outputs": []
    },
    {
      "metadata": {
        "id": "fN9qqsHWG9Ze",
        "colab_type": "code",
        "outputId": "915da710-9535-49a0-82cf-e29caed1e604",
        "colab": {
          "base_uri": "https://localhost:8080/",
          "height": 204
        }
      },
      "cell_type": "code",
      "source": [
        "# convert to pandas format\n",
        "list_buss = pd.DataFrame(list_buss, columns = ['id','rating','price', 'count', 'latitude','longitude' ])\n",
        "list_buss.head()"
      ],
      "execution_count": 56,
      "outputs": [
        {
          "output_type": "execute_result",
          "data": {
            "text/html": [
              "<div>\n",
              "<style scoped>\n",
              "    .dataframe tbody tr th:only-of-type {\n",
              "        vertical-align: middle;\n",
              "    }\n",
              "\n",
              "    .dataframe tbody tr th {\n",
              "        vertical-align: top;\n",
              "    }\n",
              "\n",
              "    .dataframe thead th {\n",
              "        text-align: right;\n",
              "    }\n",
              "</style>\n",
              "<table border=\"1\" class=\"dataframe\">\n",
              "  <thead>\n",
              "    <tr style=\"text-align: right;\">\n",
              "      <th></th>\n",
              "      <th>id</th>\n",
              "      <th>rating</th>\n",
              "      <th>price</th>\n",
              "      <th>count</th>\n",
              "      <th>latitude</th>\n",
              "      <th>longitude</th>\n",
              "    </tr>\n",
              "  </thead>\n",
              "  <tbody>\n",
              "    <tr>\n",
              "      <th>0</th>\n",
              "      <td>5WHpzFh-ZbTBY919PlZPTw</td>\n",
              "      <td>3.0</td>\n",
              "      <td>$$</td>\n",
              "      <td>72.0</td>\n",
              "      <td>40.758856</td>\n",
              "      <td>-73.978954</td>\n",
              "    </tr>\n",
              "    <tr>\n",
              "      <th>1</th>\n",
              "      <td>AJR1lIu3RzgC8bgCk2tFog</td>\n",
              "      <td>2.5</td>\n",
              "      <td>$$</td>\n",
              "      <td>30.0</td>\n",
              "      <td>40.758859</td>\n",
              "      <td>-73.978956</td>\n",
              "    </tr>\n",
              "    <tr>\n",
              "      <th>2</th>\n",
              "      <td>t8_nm5-yk8ArhZjT3nHxRA</td>\n",
              "      <td>2.5</td>\n",
              "      <td>$$</td>\n",
              "      <td>16.0</td>\n",
              "      <td>40.757802</td>\n",
              "      <td>-73.979602</td>\n",
              "    </tr>\n",
              "    <tr>\n",
              "      <th>3</th>\n",
              "      <td>DTRLsTwx0534Iv-0xfXijA</td>\n",
              "      <td>2.5</td>\n",
              "      <td>$$</td>\n",
              "      <td>26.0</td>\n",
              "      <td>40.760364</td>\n",
              "      <td>-73.979084</td>\n",
              "    </tr>\n",
              "    <tr>\n",
              "      <th>4</th>\n",
              "      <td>4VwDtb5wOxfaXFOvTp7C6A</td>\n",
              "      <td>2.5</td>\n",
              "      <td>$$</td>\n",
              "      <td>22.0</td>\n",
              "      <td>40.760587</td>\n",
              "      <td>-73.978598</td>\n",
              "    </tr>\n",
              "  </tbody>\n",
              "</table>\n",
              "</div>"
            ],
            "text/plain": [
              "                       id  rating price  count   latitude  longitude\n",
              "0  5WHpzFh-ZbTBY919PlZPTw     3.0    $$   72.0  40.758856 -73.978954\n",
              "1  AJR1lIu3RzgC8bgCk2tFog     2.5    $$   30.0  40.758859 -73.978956\n",
              "2  t8_nm5-yk8ArhZjT3nHxRA     2.5    $$   16.0  40.757802 -73.979602\n",
              "3  DTRLsTwx0534Iv-0xfXijA     2.5    $$   26.0  40.760364 -73.979084\n",
              "4  4VwDtb5wOxfaXFOvTp7C6A     2.5    $$   22.0  40.760587 -73.978598"
            ]
          },
          "metadata": {
            "tags": []
          },
          "execution_count": 56
        }
      ]
    },
    {
      "metadata": {
        "id": "Fe3ytzcSrG23",
        "colab_type": "text"
      },
      "cell_type": "markdown",
      "source": [
        "show the business location on the map"
      ]
    },
    {
      "metadata": {
        "id": "Kh1QYa-JRYRT",
        "colab_type": "code",
        "outputId": "242704e3-6868-4f77-f3e7-6569fbbdd253",
        "colab": {
          "base_uri": "https://localhost:8080/",
          "height": 34
        }
      },
      "cell_type": "code",
      "source": [
        "locations = list_buss[['latitude', 'longitude']].dropna()\n",
        "locationlist = locations.values.tolist()  # put all the locations in a list\n",
        "len(locationlist)"
      ],
      "execution_count": 64,
      "outputs": [
        {
          "output_type": "execute_result",
          "data": {
            "text/plain": [
              "47"
            ]
          },
          "metadata": {
            "tags": []
          },
          "execution_count": 64
        }
      ]
    },
    {
      "metadata": {
        "id": "U_P52HeW27wA",
        "colab_type": "code",
        "outputId": "9c08813f-6040-4ebe-e168-bde6147acc6e",
        "colab": {
          "base_uri": "https://localhost:8080/",
          "height": 492
        }
      },
      "cell_type": "code",
      "source": [
        "map = folium.Map(location=[40.758862, -73.978663], zoom_start=15)\n",
        "\n",
        "for point in range(0, len(locationlist)):\n",
        "    folium.Marker(locationlist[point], popup=list_buss['id'][point]).add_to(map)\n",
        "map"
      ],
      "execution_count": 68,
      "outputs": [
        {
          "output_type": "execute_result",
          "data": {
            "text/html": [
              "<div style=\"width:100%;\"><div style=\"position:relative;width:100%;height:0;padding-bottom:60%;\"><iframe src=\"data:text/html;charset=utf-8;base64,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\" style=\"position:absolute;width:100%;height:100%;left:0;top:0;border:none !important;\" allowfullscreen webkitallowfullscreen mozallowfullscreen></iframe></div></div>"
            ],
            "text/plain": [
              "<folium.folium.Map at 0x7f88bc20d710>"
            ]
          },
          "metadata": {
            "tags": []
          },
          "execution_count": 68
        }
      ]
    },
    {
      "metadata": {
        "id": "WCo6NeCEe0Ps",
        "colab_type": "text"
      },
      "cell_type": "markdown",
      "source": [
        "We set the 40000 meter radius on the Yelp API,  but the actural radius is much lower than the 40000 meter in the dense area due to high business density."
      ]
    },
    {
      "metadata": {
        "id": "zYrgnR07WN1R",
        "colab_type": "code",
        "outputId": "0654ed2c-e480-48d6-8b32-83afa3b6fe97",
        "colab": {
          "base_uri": "https://localhost:8080/",
          "height": 378
        }
      },
      "cell_type": "code",
      "source": [
        "# look at the rating\n",
        "sns.countplot(x=\"rating\", data=list_buss)"
      ],
      "execution_count": 69,
      "outputs": [
        {
          "output_type": "execute_result",
          "data": {
            "text/plain": [
              "<matplotlib.axes._subplots.AxesSubplot at 0x7f88c35fc128>"
            ]
          },
          "metadata": {
            "tags": []
          },
          "execution_count": 69
        },
        {
          "output_type": "display_data",
          "data": {
            "image/png": "[encoded data removed]",
            "text/plain": [
              "<Figure size 576x396 with 1 Axes>"
            ]
          },
          "metadata": {
            "tags": []
          }
        }
      ]
    },
    {
      "metadata": {
        "id": "cUDYyt2kWqgM",
        "colab_type": "code",
        "outputId": "e5e56e84-a08a-444c-a3e4-0dcc6004b57f",
        "colab": {
          "base_uri": "https://localhost:8080/",
          "height": 173
        }
      },
      "cell_type": "code",
      "source": [
        "# look at the price\n",
        "list_buss.groupby('price').count()"
      ],
      "execution_count": 70,
      "outputs": [
        {
          "output_type": "execute_result",
          "data": {
            "text/html": [
              "<div>\n",
              "<style scoped>\n",
              "    .dataframe tbody tr th:only-of-type {\n",
              "        vertical-align: middle;\n",
              "    }\n",
              "\n",
              "    .dataframe tbody tr th {\n",
              "        vertical-align: top;\n",
              "    }\n",
              "\n",
              "    .dataframe thead th {\n",
              "        text-align: right;\n",
              "    }\n",
              "</style>\n",
              "<table border=\"1\" class=\"dataframe\">\n",
              "  <thead>\n",
              "    <tr style=\"text-align: right;\">\n",
              "      <th></th>\n",
              "      <th>id</th>\n",
              "      <th>rating</th>\n",
              "      <th>count</th>\n",
              "      <th>latitude</th>\n",
              "      <th>longitude</th>\n",
              "    </tr>\n",
              "    <tr>\n",
              "      <th>price</th>\n",
              "      <th></th>\n",
              "      <th></th>\n",
              "      <th></th>\n",
              "      <th></th>\n",
              "      <th></th>\n",
              "    </tr>\n",
              "  </thead>\n",
              "  <tbody>\n",
              "    <tr>\n",
              "      <th>$</th>\n",
              "      <td>10</td>\n",
              "      <td>10</td>\n",
              "      <td>10</td>\n",
              "      <td>10</td>\n",
              "      <td>10</td>\n",
              "    </tr>\n",
              "    <tr>\n",
              "      <th>$$</th>\n",
              "      <td>35</td>\n",
              "      <td>35</td>\n",
              "      <td>35</td>\n",
              "      <td>35</td>\n",
              "      <td>35</td>\n",
              "    </tr>\n",
              "    <tr>\n",
              "      <th>$$$</th>\n",
              "      <td>2</td>\n",
              "      <td>2</td>\n",
              "      <td>2</td>\n",
              "      <td>2</td>\n",
              "      <td>2</td>\n",
              "    </tr>\n",
              "  </tbody>\n",
              "</table>\n",
              "</div>"
            ],
            "text/plain": [
              "       id  rating  count  latitude  longitude\n",
              "price                                        \n",
              "$      10      10     10        10         10\n",
              "$$     35      35     35        35         35\n",
              "$$$     2       2      2         2          2"
            ]
          },
          "metadata": {
            "tags": []
          },
          "execution_count": 70
        }
      ]
    },
    {
      "metadata": {
        "id": "WU_w9e12uBNZ",
        "colab_type": "text"
      },
      "cell_type": "markdown",
      "source": [
        "#### Get review data"
      ]
    },
    {
      "metadata": {
        "id": "RL-WZfPgF77r",
        "colab_type": "code",
        "outputId": "5ad18522-512d-465c-a108-e75eb23a1671",
        "colab": {
          "base_uri": "https://localhost:8080/",
          "height": 34
        }
      },
      "cell_type": "code",
      "source": [
        "data[\"businesses\"][0]['id'] # parse id# for review "
      ],
      "execution_count": 74,
      "outputs": [
        {
          "output_type": "execute_result",
          "data": {
            "text/plain": [
              "'5WHpzFh-ZbTBY919PlZPTw'"
            ]
          },
          "metadata": {
            "tags": []
          },
          "execution_count": 74
        }
      ]
    },
    {
      "metadata": {
        "id": "EEcceQGJGKY8",
        "colab_type": "text"
      },
      "cell_type": "markdown",
      "source": [
        "read review of this businesses "
      ]
    },
    {
      "metadata": {
        "id": "ApylqAplW9E2",
        "colab_type": "code",
        "colab": {}
      },
      "cell_type": "code",
      "source": [
        "ENDPOINT_reviews = 'https://api.yelp.com/v3/businesses/5WHpzFh-ZbTBY919PlZPTw/reviews'   # id/reviews  \n",
        "response_reviews = requests.get(url = ENDPOINT_reviews, headers = HEADERS)"
      ],
      "execution_count": 0,
      "outputs": []
    },
    {
      "metadata": {
        "id": "EQV6veiyq9y6",
        "colab_type": "text"
      },
      "cell_type": "markdown",
      "source": [
        "Each business has three reviews. Read first review"
      ]
    },
    {
      "metadata": {
        "id": "xRIcNN_tYpQP",
        "colab_type": "code",
        "outputId": "e094ded1-9c4b-4c14-8531-f018d8c779c1",
        "colab": {
          "base_uri": "https://localhost:8080/",
          "height": 34
        }
      },
      "cell_type": "code",
      "source": [
        "len(response_reviews.json())"
      ],
      "execution_count": 72,
      "outputs": [
        {
          "output_type": "execute_result",
          "data": {
            "text/plain": [
              "3"
            ]
          },
          "metadata": {
            "tags": []
          },
          "execution_count": 72
        }
      ]
    },
    {
      "metadata": {
        "id": "AW42BuKqYd9L",
        "colab_type": "code",
        "outputId": "05130606-9e62-4690-8ae9-62d82a93236b",
        "colab": {
          "base_uri": "https://localhost:8080/",
          "height": 190
        }
      },
      "cell_type": "code",
      "source": [
        "response_reviews.json()['reviews'][0]#['user']['id']#['profile_url']"
      ],
      "execution_count": 84,
      "outputs": [
        {
          "output_type": "execute_result",
          "data": {
            "text/plain": [
              "{'id': '3gnJ62usiQh9VDdVPibDAw',\n",
              " 'rating': 4,\n",
              " 'text': 'I have been here at 630 am and the staff is always pleasant and well rested. Sometimes there are homeless people sitting in the seats but it may be a way of...',\n",
              " 'time_created': '2018-11-16 14:36:46',\n",
              " 'url': 'https://www.yelp.com/biz/starbucks-new-york-273?adjust_creative=fl6Gc_WOT5VLrae0o6fc7w&hrid=3gnJ62usiQh9VDdVPibDAw&utm_campaign=yelp_api_v3&utm_medium=api_v3_business_reviews&utm_source=fl6Gc_WOT5VLrae0o6fc7w',\n",
              " 'user': {'id': 'KVKIvMY5gL5scNgexlENiQ',\n",
              "  'image_url': 'https://s3-media3.fl.yelpcdn.com/photo/iMhwNj0d6t8ZZJ1sS2i6qg/o.jpg',\n",
              "  'name': 'Dionne H.',\n",
              "  'profile_url': 'https://www.yelp.com/user_details?userid=KVKIvMY5gL5scNgexlENiQ'}}"
            ]
          },
          "metadata": {
            "tags": []
          },
          "execution_count": 84
        }
      ]
    },
    {
      "metadata": {
        "id": "83KRCC8JiPEK",
        "colab_type": "text"
      },
      "cell_type": "markdown",
      "source": [
        "Since each buisness only has three reviews, the rating are not representive the business statistically. So I decide to pull out the rating that directly link to the review."
      ]
    },
    {
      "metadata": {
        "id": "y6aCJUuZcCaG",
        "colab_type": "code",
        "colab": {}
      },
      "cell_type": "code",
      "source": [
        "# collect review\n",
        "List_review = []\n",
        "List_rating = []\n",
        "List_userid = []\n",
        "\n",
        "for i in range(50):\n",
        "\n",
        "  try:\n",
        "    ENDPOINT_reviews = 'https://api.yelp.com/v3/businesses/'+ data[\"businesses\"][i]['id'] +'/reviews'\n",
        "    response_reviews = requests.get(url = ENDPOINT_reviews, headers = HEADERS)\n",
        "    \n",
        "    for ii in range(3):\n",
        "\n",
        "      a = response_reviews.json()['reviews'][ii]['text']\n",
        "      List_review .append(a)\n",
        "      b = response_reviews.json()['reviews'][ii]['rating']\n",
        "      List_rating.append(b)\n",
        "      c = response_reviews.json()['reviews'][ii]['user']['id']\n",
        "      List_userid.append(c)\n",
        "      \n",
        "  except:\n",
        "    pass"
      ],
      "execution_count": 0,
      "outputs": []
    },
    {
      "metadata": {
        "id": "uobFgqKicVv0",
        "colab_type": "code",
        "outputId": "01f3ec7b-dcb4-4863-c965-a4096c9ba24a",
        "colab": {
          "base_uri": "https://localhost:8080/",
          "height": 204
        }
      },
      "cell_type": "code",
      "source": [
        "d = {'rate': List_rating, 'review': List_review, 'user_id' : List_userid}\n",
        "df_total = pd.DataFrame(data=d)\n",
        "df_total.head()"
      ],
      "execution_count": 86,
      "outputs": [
        {
          "output_type": "execute_result",
          "data": {
            "text/html": [
              "<div>\n",
              "<style scoped>\n",
              "    .dataframe tbody tr th:only-of-type {\n",
              "        vertical-align: middle;\n",
              "    }\n",
              "\n",
              "    .dataframe tbody tr th {\n",
              "        vertical-align: top;\n",
              "    }\n",
              "\n",
              "    .dataframe thead th {\n",
              "        text-align: right;\n",
              "    }\n",
              "</style>\n",
              "<table border=\"1\" class=\"dataframe\">\n",
              "  <thead>\n",
              "    <tr style=\"text-align: right;\">\n",
              "      <th></th>\n",
              "      <th>rate</th>\n",
              "      <th>review</th>\n",
              "      <th>user_id</th>\n",
              "    </tr>\n",
              "  </thead>\n",
              "  <tbody>\n",
              "    <tr>\n",
              "      <th>0</th>\n",
              "      <td>4</td>\n",
              "      <td>I have been here at 630 am and the staff is al...</td>\n",
              "      <td>KVKIvMY5gL5scNgexlENiQ</td>\n",
              "    </tr>\n",
              "    <tr>\n",
              "      <th>1</th>\n",
              "      <td>2</td>\n",
              "      <td>Horrible experience this morning ,app orders s...</td>\n",
              "      <td>Xx4lFM_a8mMsfnzJpsN4Zw</td>\n",
              "    </tr>\n",
              "    <tr>\n",
              "      <th>2</th>\n",
              "      <td>3</td>\n",
              "      <td>Can't say I'm a \"regular\" at Starbucks, but I ...</td>\n",
              "      <td>vmWuNyhSeqeKsLvRtOnYQQ</td>\n",
              "    </tr>\n",
              "    <tr>\n",
              "      <th>3</th>\n",
              "      <td>3</td>\n",
              "      <td>I arrived extremely early in NY so I decided t...</td>\n",
              "      <td>L261dYh3HYs28hnYs23yIQ</td>\n",
              "    </tr>\n",
              "    <tr>\n",
              "      <th>4</th>\n",
              "      <td>3</td>\n",
              "      <td>When I was younger, I used to play a game with...</td>\n",
              "      <td>HQ1kFlb7JO8nr-LZwbfEdA</td>\n",
              "    </tr>\n",
              "  </tbody>\n",
              "</table>\n",
              "</div>"
            ],
            "text/plain": [
              "   rate                                             review  \\\n",
              "0     4  I have been here at 630 am and the staff is al...   \n",
              "1     2  Horrible experience this morning ,app orders s...   \n",
              "2     3  Can't say I'm a \"regular\" at Starbucks, but I ...   \n",
              "3     3  I arrived extremely early in NY so I decided t...   \n",
              "4     3  When I was younger, I used to play a game with...   \n",
              "\n",
              "                  user_id  \n",
              "0  KVKIvMY5gL5scNgexlENiQ  \n",
              "1  Xx4lFM_a8mMsfnzJpsN4Zw  \n",
              "2  vmWuNyhSeqeKsLvRtOnYQQ  \n",
              "3  L261dYh3HYs28hnYs23yIQ  \n",
              "4  HQ1kFlb7JO8nr-LZwbfEdA  "
            ]
          },
          "metadata": {
            "tags": []
          },
          "execution_count": 86
        }
      ]
    },
    {
      "metadata": {
        "id": "tUpcmaNzhmXU",
        "colab_type": "code",
        "colab": {}
      },
      "cell_type": "code",
      "source": [
        "#df_total['review_len'] = df_total['review'].astype(str).apply(len)\n",
        "df_total['word_count'] = df_total['review'].apply(lambda x: len(str(x).split()))\n",
        "df_total['Polarity'] = [TextBlob(x).sentiment[0] for x in df_total['review'] ]\n",
        "df_total['Subjectivity'] = [TextBlob(x).sentiment[1] for x in df_total['review'] ]"
      ],
      "execution_count": 0,
      "outputs": []
    },
    {
      "metadata": {
        "id": "6QGxOym83dBr",
        "colab_type": "code",
        "colab": {
          "base_uri": "https://localhost:8080/",
          "height": 289
        },
        "outputId": "6f042257-6b87-4611-9184-dae29b762e86"
      },
      "cell_type": "code",
      "source": [
        "df_total.head()"
      ],
      "execution_count": 95,
      "outputs": [
        {
          "output_type": "execute_result",
          "data": {
            "text/html": [
              "<div>\n",
              "<style scoped>\n",
              "    .dataframe tbody tr th:only-of-type {\n",
              "        vertical-align: middle;\n",
              "    }\n",
              "\n",
              "    .dataframe tbody tr th {\n",
              "        vertical-align: top;\n",
              "    }\n",
              "\n",
              "    .dataframe thead th {\n",
              "        text-align: right;\n",
              "    }\n",
              "</style>\n",
              "<table border=\"1\" class=\"dataframe\">\n",
              "  <thead>\n",
              "    <tr style=\"text-align: right;\">\n",
              "      <th></th>\n",
              "      <th>rate</th>\n",
              "      <th>review</th>\n",
              "      <th>user_id</th>\n",
              "      <th>word_count</th>\n",
              "      <th>Polarity</th>\n",
              "      <th>Subjectivity</th>\n",
              "    </tr>\n",
              "  </thead>\n",
              "  <tbody>\n",
              "    <tr>\n",
              "      <th>0</th>\n",
              "      <td>4</td>\n",
              "      <td>I have been here at 630 am and the staff is al...</td>\n",
              "      <td>KVKIvMY5gL5scNgexlENiQ</td>\n",
              "      <td>32</td>\n",
              "      <td>0.733333</td>\n",
              "      <td>0.966667</td>\n",
              "    </tr>\n",
              "    <tr>\n",
              "      <th>1</th>\n",
              "      <td>2</td>\n",
              "      <td>Horrible experience this morning ,app orders s...</td>\n",
              "      <td>Xx4lFM_a8mMsfnzJpsN4Zw</td>\n",
              "      <td>28</td>\n",
              "      <td>-0.266667</td>\n",
              "      <td>0.700000</td>\n",
              "    </tr>\n",
              "    <tr>\n",
              "      <th>2</th>\n",
              "      <td>3</td>\n",
              "      <td>Can't say I'm a \"regular\" at Starbucks, but I ...</td>\n",
              "      <td>vmWuNyhSeqeKsLvRtOnYQQ</td>\n",
              "      <td>27</td>\n",
              "      <td>0.250000</td>\n",
              "      <td>0.538462</td>\n",
              "    </tr>\n",
              "    <tr>\n",
              "      <th>3</th>\n",
              "      <td>3</td>\n",
              "      <td>I arrived extremely early in NY so I decided t...</td>\n",
              "      <td>L261dYh3HYs28hnYs23yIQ</td>\n",
              "      <td>29</td>\n",
              "      <td>0.100000</td>\n",
              "      <td>0.300000</td>\n",
              "    </tr>\n",
              "    <tr>\n",
              "      <th>4</th>\n",
              "      <td>3</td>\n",
              "      <td>When I was younger, I used to play a game with...</td>\n",
              "      <td>HQ1kFlb7JO8nr-LZwbfEdA</td>\n",
              "      <td>28</td>\n",
              "      <td>-0.133333</td>\n",
              "      <td>0.300000</td>\n",
              "    </tr>\n",
              "  </tbody>\n",
              "</table>\n",
              "</div>"
            ],
            "text/plain": [
              "   rate                                             review  \\\n",
              "0     4  I have been here at 630 am and the staff is al...   \n",
              "1     2  Horrible experience this morning ,app orders s...   \n",
              "2     3  Can't say I'm a \"regular\" at Starbucks, but I ...   \n",
              "3     3  I arrived extremely early in NY so I decided t...   \n",
              "4     3  When I was younger, I used to play a game with...   \n",
              "\n",
              "                  user_id  word_count  Polarity  Subjectivity  \n",
              "0  KVKIvMY5gL5scNgexlENiQ          32  0.733333      0.966667  \n",
              "1  Xx4lFM_a8mMsfnzJpsN4Zw          28 -0.266667      0.700000  \n",
              "2  vmWuNyhSeqeKsLvRtOnYQQ          27  0.250000      0.538462  \n",
              "3  L261dYh3HYs28hnYs23yIQ          29  0.100000      0.300000  \n",
              "4  HQ1kFlb7JO8nr-LZwbfEdA          28 -0.133333      0.300000  "
            ]
          },
          "metadata": {
            "tags": []
          },
          "execution_count": 95
        }
      ]
    },
    {
      "metadata": {
        "id": "Y9ck0HI4C-bU",
        "colab_type": "code",
        "colab": {}
      },
      "cell_type": "code",
      "source": [
        "#save file to Google Drive\n",
        "df_total.to_csv(base_dir + 'export_review_rate.csv', index = None, header=True) #Don't forget to add '.csv' at the end of the path\n"
      ],
      "execution_count": 0,
      "outputs": []
    },
    {
      "metadata": {
        "id": "WoRQay5Vxji1",
        "colab_type": "code",
        "colab": {
          "base_uri": "https://localhost:8080/",
          "height": 145
        },
        "outputId": "de6069f0-06fc-4f86-c90d-faf64a3e4434"
      },
      "cell_type": "code",
      "source": [
        "df_total[df_total['user_id']==\"38dPWgd8DRM-I5x4Qr6Fsw\"]"
      ],
      "execution_count": 98,
      "outputs": [
        {
          "output_type": "execute_result",
          "data": {
            "text/html": [
              "<div>\n",
              "<style scoped>\n",
              "    .dataframe tbody tr th:only-of-type {\n",
              "        vertical-align: middle;\n",
              "    }\n",
              "\n",
              "    .dataframe tbody tr th {\n",
              "        vertical-align: top;\n",
              "    }\n",
              "\n",
              "    .dataframe thead th {\n",
              "        text-align: right;\n",
              "    }\n",
              "</style>\n",
              "<table border=\"1\" class=\"dataframe\">\n",
              "  <thead>\n",
              "    <tr style=\"text-align: right;\">\n",
              "      <th></th>\n",
              "      <th>rate</th>\n",
              "      <th>review</th>\n",
              "      <th>user_id</th>\n",
              "      <th>word_count</th>\n",
              "      <th>Polarity</th>\n",
              "      <th>Subjectivity</th>\n",
              "    </tr>\n",
              "  </thead>\n",
              "  <tbody>\n",
              "    <tr>\n",
              "      <th>44</th>\n",
              "      <td>3</td>\n",
              "      <td>As mentioned below, the service here is lackin...</td>\n",
              "      <td>38dPWgd8DRM-I5x4Qr6Fsw</td>\n",
              "      <td>29</td>\n",
              "      <td>-0.146667</td>\n",
              "      <td>0.640000</td>\n",
              "    </tr>\n",
              "    <tr>\n",
              "      <th>134</th>\n",
              "      <td>4</td>\n",
              "      <td>Pretty good Bux for sure. Some good things abo...</td>\n",
              "      <td>38dPWgd8DRM-I5x4Qr6Fsw</td>\n",
              "      <td>27</td>\n",
              "      <td>0.303827</td>\n",
              "      <td>0.631066</td>\n",
              "    </tr>\n",
              "  </tbody>\n",
              "</table>\n",
              "</div>"
            ],
            "text/plain": [
              "     rate                                             review  \\\n",
              "44      3  As mentioned below, the service here is lackin...   \n",
              "134     4  Pretty good Bux for sure. Some good things abo...   \n",
              "\n",
              "                    user_id  word_count  Polarity  Subjectivity  \n",
              "44   38dPWgd8DRM-I5x4Qr6Fsw          29 -0.146667      0.640000  \n",
              "134  38dPWgd8DRM-I5x4Qr6Fsw          27  0.303827      0.631066  "
            ]
          },
          "metadata": {
            "tags": []
          },
          "execution_count": 98
        }
      ]
    },
    {
      "metadata": {
        "id": "T1PtmZstufve",
        "colab_type": "code",
        "outputId": "aa69ee49-8e29-4a41-e9a8-3a9faffef207",
        "colab": {
          "base_uri": "https://localhost:8080/",
          "height": 378
        }
      },
      "cell_type": "code",
      "source": [
        "sns.countplot(x=\"rate\", data=df_total)"
      ],
      "execution_count": 23,
      "outputs": [
        {
          "output_type": "execute_result",
          "data": {
            "text/plain": [
              "<matplotlib.axes._subplots.AxesSubplot at 0x7f88c0e1a908>"
            ]
          },
          "metadata": {
            "tags": []
          },
          "execution_count": 23
        },
        {
          "output_type": "display_data",
          "data": {
            "image/png": "[encoded data removed]",
            "text/plain": [
              "<Figure size 576x396 with 1 Axes>"
            ]
          },
          "metadata": {
            "tags": []
          }
        }
      ]
    },
    {
      "metadata": {
        "id": "zKu3mVh53tAk",
        "colab_type": "code",
        "colab": {
          "base_uri": "https://localhost:8080/",
          "height": 364
        },
        "outputId": "fa9e9e6a-f91e-4534-80b5-c6e2b0952c35"
      },
      "cell_type": "code",
      "source": [
        "#sns.distplot(x=\"review_len\", data=df_total) \n",
        "sns.distplot(df_total[\"review_len\"].values,bins=12,kde=False) "
      ],
      "execution_count": 26,
      "outputs": [
        {
          "output_type": "execute_result",
          "data": {
            "text/plain": [
              "<matplotlib.axes._subplots.AxesSubplot at 0x7f88c0e5ab38>"
            ]
          },
          "metadata": {
            "tags": []
          },
          "execution_count": 26
        },
        {
          "output_type": "display_data",
          "data": {
            "image/png": "[encoded data removed]",
            "text/plain": [
              "<Figure size 576x396 with 1 Axes>"
            ]
          },
          "metadata": {
            "tags": []
          }
        }
      ]
    },
    {
      "metadata": {
        "id": "SrCEhWGrfjBK",
        "colab_type": "code",
        "colab": {
          "base_uri": "https://localhost:8080/",
          "height": 364
        },
        "outputId": "95d5fda7-32c0-45f2-fd07-feb11904d1dc"
      },
      "cell_type": "code",
      "source": [
        "sns.distplot(df_total[\"word_count\"].values,bins=10,kde=False) "
      ],
      "execution_count": 33,
      "outputs": [
        {
          "output_type": "execute_result",
          "data": {
            "text/plain": [
              "<matplotlib.axes._subplots.AxesSubplot at 0x7f88c0612f28>"
            ]
          },
          "metadata": {
            "tags": []
          },
          "execution_count": 33
        },
        {
          "output_type": "display_data",
          "data": {
            "image/png": "[encoded data removed]",
            "text/plain": [
              "<Figure size 576x396 with 1 Axes>"
            ]
          },
          "metadata": {
            "tags": []
          }
        }
      ]
    },
    {
      "metadata": {
        "id": "h3A27VWxfNgw",
        "colab_type": "code",
        "colab": {
          "base_uri": "https://localhost:8080/",
          "height": 364
        },
        "outputId": "a299a42b-0554-42fa-d100-9f5343909b4b"
      },
      "cell_type": "code",
      "source": [
        "sns.distplot(df_total[\"Polarity\"].values,bins=10,kde=False)"
      ],
      "execution_count": 31,
      "outputs": [
        {
          "output_type": "execute_result",
          "data": {
            "text/plain": [
              "<matplotlib.axes._subplots.AxesSubplot at 0x7f88c0f9d550>"
            ]
          },
          "metadata": {
            "tags": []
          },
          "execution_count": 31
        },
        {
          "output_type": "display_data",
          "data": {
            "image/png": "[encoded data removed]",
            "text/plain": [
              "<Figure size 576x396 with 1 Axes>"
            ]
          },
          "metadata": {
            "tags": []
          }
        }
      ]
    },
    {
      "metadata": {
        "id": "knPxbRZnwBvo",
        "colab_type": "text"
      },
      "cell_type": "markdown",
      "source": [
        "Howis the review rate correlated to the polarity?"
      ]
    },
    {
      "metadata": {
        "id": "XDPuYl05vMRz",
        "colab_type": "code",
        "outputId": "5c6c3d44-c22d-4639-b95e-0948d5120dea",
        "colab": {
          "base_uri": "https://localhost:8080/",
          "height": 378
        }
      },
      "cell_type": "code",
      "source": [
        "sns.boxplot(x=\"rate\", y=\"Polarity\", data=df_total)"
      ],
      "execution_count": 35,
      "outputs": [
        {
          "output_type": "execute_result",
          "data": {
            "text/plain": [
              "<matplotlib.axes._subplots.AxesSubplot at 0x7f88c05d81d0>"
            ]
          },
          "metadata": {
            "tags": []
          },
          "execution_count": 35
        },
        {
          "output_type": "display_data",
          "data": {
            "image/png": "[encoded data removed]",
            "text/plain": [
              "<Figure size 576x396 with 1 Axes>"
            ]
          },
          "metadata": {
            "tags": []
          }
        }
      ]
    },
    {
      "metadata": {
        "id": "p_3El9NFwTEP",
        "colab_type": "code",
        "outputId": "fb67a903-3bdf-44a1-85f0-1a8be431190c",
        "colab": {
          "base_uri": "https://localhost:8080/",
          "height": 378
        }
      },
      "cell_type": "code",
      "source": [
        "sns.boxplot(x=\"rate\", y=\"Subjectivity\", data=df_total)"
      ],
      "execution_count": 36,
      "outputs": [
        {
          "output_type": "execute_result",
          "data": {
            "text/plain": [
              "<matplotlib.axes._subplots.AxesSubplot at 0x7f88c0500c50>"
            ]
          },
          "metadata": {
            "tags": []
          },
          "execution_count": 36
        },
        {
          "output_type": "display_data",
          "data": {
            "image/png": "[encoded data removed]",
            "text/plain": [
              "<Figure size 576x396 with 1 Axes>"
            ]
          },
          "metadata": {
            "tags": []
          }
        }
      ]
    },
    {
      "metadata": {
        "id": "Dv17fxVBhnv0",
        "colab_type": "text"
      },
      "cell_type": "markdown",
      "source": [
        "Topic Modeling with LSA"
      ]
    },
    {
      "metadata": {
        "id": "S0oPILt-Z-B2",
        "colab_type": "code",
        "colab": {}
      },
      "cell_type": "code",
      "source": [
        "from sklearn.feature_extraction.text import CountVectorizer\n",
        "from sklearn.feature_extraction.text import TfidfVectorizer\n",
        "from sklearn.decomposition import TruncatedSVD\n",
        "from sklearn.decomposition import LatentDirichletAllocation\n",
        "from sklearn.manifold import TSNE\n",
        "from collections import Counter"
      ],
      "execution_count": 0,
      "outputs": []
    },
    {
      "metadata": {
        "id": "ihfc4TZdxXej",
        "colab_type": "code",
        "colab": {}
      },
      "cell_type": "code",
      "source": [
        "reindexed_data = df_total['review']\n",
        "tfidf_vectorizer = TfidfVectorizer(stop_words='english', use_idf=True, smooth_idf=True)\n",
        "reindexed_data = reindexed_data.values\n",
        "document_term_matrix = tfidf_vectorizer.fit_transform(reindexed_data)"
      ],
      "execution_count": 0,
      "outputs": []
    },
    {
      "metadata": {
        "id": "J8MkBajJpNaY",
        "colab_type": "code",
        "colab": {}
      },
      "cell_type": "code",
      "source": [
        "n_topics = 6\n",
        "lsa_model = TruncatedSVD(n_components=n_topics)\n",
        "lsa_topic_matrix = lsa_model.fit_transform(document_term_matrix)"
      ],
      "execution_count": 0,
      "outputs": []
    },
    {
      "metadata": {
        "id": "eZdIRs55ie_e",
        "colab_type": "code",
        "colab": {}
      },
      "cell_type": "code",
      "source": [
        "def get_keys(topic_matrix):\n",
        "    '''\n",
        "    returns an integer list of predicted topic \n",
        "    categories for a given topic matrix\n",
        "    '''\n",
        "    keys = topic_matrix.argmax(axis=1).tolist()\n",
        "    return keys\n",
        "\n",
        "def keys_to_counts(keys):\n",
        "    '''\n",
        "    returns a tuple of topic categories and their \n",
        "    accompanying magnitudes for a given list of keys\n",
        "    '''\n",
        "    count_pairs = Counter(keys).items()\n",
        "    categories = [pair[0] for pair in count_pairs]\n",
        "    counts = [pair[1] for pair in count_pairs]\n",
        "    return (categories, counts)"
      ],
      "execution_count": 0,
      "outputs": []
    },
    {
      "metadata": {
        "id": "LfCZaLk6ih8-",
        "colab_type": "code",
        "colab": {}
      },
      "cell_type": "code",
      "source": [
        "lsa_keys = get_keys(lsa_topic_matrix)\n",
        "lsa_categories, lsa_counts = keys_to_counts(lsa_keys)"
      ],
      "execution_count": 0,
      "outputs": []
    },
    {
      "metadata": {
        "id": "cDw74cmQirdn",
        "colab_type": "code",
        "colab": {}
      },
      "cell_type": "code",
      "source": [
        "def get_top_n_words(n, keys, document_term_matrix, tfidf_vectorizer):\n",
        "    '''\n",
        "    returns a list of n_topic strings, where each string contains the n most common \n",
        "    words in a predicted category, in order\n",
        "    '''\n",
        "    top_word_indices = []\n",
        "    for topic in range(n_topics):\n",
        "        temp_vector_sum = 0\n",
        "        for i in range(len(keys)):\n",
        "            if keys[i] == topic:\n",
        "                temp_vector_sum += document_term_matrix[i]\n",
        "        temp_vector_sum = temp_vector_sum.toarray()\n",
        "        top_n_word_indices = np.flip(np.argsort(temp_vector_sum)[0][-n:],0)\n",
        "        top_word_indices.append(top_n_word_indices)   \n",
        "    top_words = []\n",
        "    for topic in top_word_indices:\n",
        "        topic_words = []\n",
        "        for index in topic:\n",
        "            temp_word_vector = np.zeros((1,document_term_matrix.shape[1]))\n",
        "            temp_word_vector[:,index] = 1\n",
        "            the_word = tfidf_vectorizer.inverse_transform(temp_word_vector)[0][0]\n",
        "            topic_words.append(the_word.encode('ascii').decode('utf-8'))\n",
        "        top_words.append(\" \".join(topic_words))         \n",
        "    return top_words"
      ],
      "execution_count": 0,
      "outputs": []
    },
    {
      "metadata": {
        "id": "N_kRWd1VisU5",
        "colab_type": "code",
        "colab": {
          "base_uri": "https://localhost:8080/",
          "height": 119
        },
        "outputId": "2dfb0f77-ff0d-49cc-a2cb-89022febee7a"
      },
      "cell_type": "code",
      "source": [
        "top_n_words_lsa = get_top_n_words(3, lsa_keys, document_term_matrix, tfidf_vectorizer)\n",
        "\n",
        "for i in range(len(top_n_words_lsa)):\n",
        "    print(\"Topic {}: \".format(i+1), top_n_words_lsa[i])"
      ],
      "execution_count": 50,
      "outputs": [
        {
          "output_type": "stream",
          "text": [
            "Topic 1:  starbucks service location\n",
            "Topic 2:  order minutes got\n",
            "Topic 3:  location busy seating\n",
            "Topic 4:  staff morning small\n",
            "Topic 5:  times line located\n",
            "Topic 6:  best like makes\n"
          ],
          "name": "stdout"
        }
      ]
    },
    {
      "metadata": {
        "id": "y957AvxljXaE",
        "colab_type": "code",
        "colab": {
          "base_uri": "https://localhost:8080/",
          "height": 529
        },
        "outputId": "f119d570-a99e-4b34-cabf-7db36fdc522a"
      },
      "cell_type": "code",
      "source": [
        "top_3_words = get_top_n_words(3, lsa_keys, document_term_matrix, tfidf_vectorizer)\n",
        "labels = ['Topic {}: \\n'.format(i) + top_3_words[i] for i in lsa_categories]\n",
        "\n",
        "fig, ax = plt.subplots(figsize=(16,8))\n",
        "ax.bar(lsa_categories, lsa_counts);\n",
        "ax.set_xticks(lsa_categories);\n",
        "ax.set_xticklabels(labels);\n",
        "ax.set_ylabel('Number of review text');\n",
        "ax.set_title('LSA topic counts');\n",
        "plt.show();"
      ],
      "execution_count": 51,
      "outputs": [
        {
          "output_type": "display_data",
          "data": {
            "image/png": "[encoded data removed]",
            "text/plain": [
              "<Figure size 1152x576 with 1 Axes>"
            ]
          },
          "metadata": {
            "tags": []
          }
        }
      ]
    },
    {
      "metadata": {
        "id": "XcbZuE5stz0N",
        "colab_type": "text"
      },
      "cell_type": "markdown",
      "source": [
        ""
      ]
    }
  ]
}