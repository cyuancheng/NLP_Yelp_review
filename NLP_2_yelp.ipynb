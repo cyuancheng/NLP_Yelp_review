{
  "nbformat": 4,
  "nbformat_minor": 0,
  "metadata": {
    "colab": {
      "name": "NLP_2_yelp.ipynb",
      "version": "0.3.2",
      "provenance": [],
      "collapsed_sections": [],
      "include_colab_link": true
    },
    "kernelspec": {
      "name": "python3",
      "display_name": "Python 3"
    }
  },
  "cells": [
    {
      "cell_type": "markdown",
      "metadata": {
        "id": "view-in-github",
        "colab_type": "text"
      },
      "source": [
        "<a href=\"https://colab.research.google.com/github/cyuancheng/NLP_Yelp_review/blob/master/NLP_2_yelp.ipynb\" target=\"_parent\"><img src=\"https://colab.research.google.com/assets/colab-badge.svg\" alt=\"Open In Colab\"/></a>"
      ]
    },
    {
      "metadata": {
        "id": "2KTF4FByD2_V",
        "colab_type": "text"
      },
      "cell_type": "markdown",
      "source": [
        "**Natural Language Processing and Sentiment Analysis for Yelp**\n",
        "\n",
        "Explore Starbucks review in New York City"
      ]
    },
    {
      "metadata": {
        "id": "Bv_JR_8LHEZS",
        "colab_type": "code",
        "colab": {}
      },
      "cell_type": "code",
      "source": [
        "import pandas as pd\n",
        "import requests\n",
        "import spacy #use NLP functions\n",
        "from spacy import displacy\n",
        "from textblob import TextBlob\n",
        "import re\n",
        "import matplotlib as mpl\n",
        "import matplotlib.pyplot as plt\n",
        "import seaborn as sns"
      ],
      "execution_count": 0,
      "outputs": []
    },
    {
      "metadata": {
        "id": "nu8hn15rl7MQ",
        "colab_type": "code",
        "colab": {}
      },
      "cell_type": "code",
      "source": [
        "#client_id = 'NTXTygLQ8Y5baxwIGObaJA' \n",
        "#key = 'V28EIFx3cLv9o7-oZfNIrwi7dw3cmEW8DVWOU1HKdhDMjZhlhMvmGKe8C3P0Ohwxi31DbZrVlZSa2CdodvGKMddaopwFOv8TUdymcROofzsIfYZbj21IFCWNiB2JXHYx'\n",
        "\n",
        "# get yelp api (https://www.yelp.com/developers)\n",
        "# \n",
        "\n",
        "client_id = 'fl6Gc_WOT5VLrae0o6fc7w' \n",
        "key = 'kArR8ttjf4JdZDtC27-InwcgepdkWrtTcSfaHKwf_JMtQY0LvXgfaG3lmUA3F2oCCp-KUa-W8tPuVXdm8Abwj6N0m0YJniJHVa61rXEFMLuAM11d2IrYSV5NEYGJXHYx'\n",
        "\n",
        "ENDPOINT = 'https://api.yelp.com/v3/businesses/search'\n",
        "\n",
        "HEADERS = {'Authorization':'bearer {}'.format(key)}\n",
        "\n",
        "PARAMETERS = {#'term':'restaurant'or \"food\"  ,\n",
        "             'term' : 'Starbucks',\n",
        "              'limit':50,\n",
        "             'radius':20000, # meter\n",
        "              #'sort_by' :'review_count', \n",
        "             'location':\"NYC\"\n",
        "             }\n",
        "\n",
        "response = requests.get(url = ENDPOINT, params = PARAMETERS, headers = HEADERS)"
      ],
      "execution_count": 0,
      "outputs": []
    },
    {
      "metadata": {
        "id": "qj4W7eiUFoXa",
        "colab_type": "text"
      },
      "cell_type": "markdown",
      "source": [
        "read data (json) "
      ]
    },
    {
      "metadata": {
        "id": "vI-XhgJ7mDaH",
        "colab_type": "code",
        "colab": {}
      },
      "cell_type": "code",
      "source": [
        "data = response.json()"
      ],
      "execution_count": 0,
      "outputs": []
    },
    {
      "metadata": {
        "id": "SsQ8funaVwrd",
        "colab_type": "code",
        "colab": {
          "base_uri": "https://localhost:8080/",
          "height": 428
        },
        "outputId": "64f424f6-d99c-4358-9e55-a65289fd9dda"
      },
      "cell_type": "code",
      "source": [
        "data[\"businesses\"][1]"
      ],
      "execution_count": 59,
      "outputs": [
        {
          "output_type": "execute_result",
          "data": {
            "text/plain": [
              "{'alias': 'starbucks-brooklyn-21',\n",
              " 'categories': [{'alias': 'coffee', 'title': 'Coffee & Tea'}],\n",
              " 'coordinates': {'latitude': 40.702668, 'longitude': -73.990806294802},\n",
              " 'display_phone': '(718) 855-0856',\n",
              " 'distance': 426.3054744805125,\n",
              " 'id': 'qcnoyytlFIuqlcjDXkXJiw',\n",
              " 'image_url': 'https://s3-media2.fl.yelpcdn.com/bphoto/cTvcr7PmCfAWs01sLr-E3A/o.jpg',\n",
              " 'is_closed': False,\n",
              " 'location': {'address1': '67 Front Street',\n",
              "  'address2': '',\n",
              "  'address3': '',\n",
              "  'city': 'Brooklyn',\n",
              "  'country': 'US',\n",
              "  'display_address': ['67 Front Street', 'Brooklyn, NY 11201'],\n",
              "  'state': 'NY',\n",
              "  'zip_code': '11201'},\n",
              " 'name': 'Starbucks',\n",
              " 'phone': '+17188550856',\n",
              " 'price': '$$',\n",
              " 'rating': 2.5,\n",
              " 'review_count': 62,\n",
              " 'transactions': [],\n",
              " 'url': 'https://www.yelp.com/biz/starbucks-brooklyn-21?adjust_creative=fl6Gc_WOT5VLrae0o6fc7w&utm_campaign=yelp_api_v3&utm_medium=api_v3_business_search&utm_source=fl6Gc_WOT5VLrae0o6fc7w'}"
            ]
          },
          "metadata": {
            "tags": []
          },
          "execution_count": 59
        }
      ]
    },
    {
      "metadata": {
        "id": "XkURaUTtJW7X",
        "colab_type": "code",
        "outputId": "ebaa245b-79da-4b59-d503-528b11c70042",
        "colab": {
          "base_uri": "https://localhost:8080/",
          "height": 164
        }
      },
      "cell_type": "code",
      "source": [
        "data[\"businesses\"][10]['categories'][2]['title']# info of the business"
      ],
      "execution_count": 60,
      "outputs": [
        {
          "output_type": "error",
          "ename": "IndexError",
          "evalue": "ignored",
          "traceback": [
            "\u001b[0;31m---------------------------------------------------------------------------\u001b[0m",
            "\u001b[0;31mIndexError\u001b[0m                                Traceback (most recent call last)",
            "\u001b[0;32m<ipython-input-60-ac0fdd5af848>\u001b[0m in \u001b[0;36m<module>\u001b[0;34m()\u001b[0m\n\u001b[0;32m----> 1\u001b[0;31m \u001b[0mdata\u001b[0m\u001b[0;34m[\u001b[0m\u001b[0;34m\"businesses\"\u001b[0m\u001b[0;34m]\u001b[0m\u001b[0;34m[\u001b[0m\u001b[0;36m10\u001b[0m\u001b[0;34m]\u001b[0m\u001b[0;34m[\u001b[0m\u001b[0;34m'categories'\u001b[0m\u001b[0;34m]\u001b[0m\u001b[0;34m[\u001b[0m\u001b[0;36m2\u001b[0m\u001b[0;34m]\u001b[0m\u001b[0;34m[\u001b[0m\u001b[0;34m'title'\u001b[0m\u001b[0;34m]\u001b[0m\u001b[0;31m# info of the business\u001b[0m\u001b[0;34m\u001b[0m\u001b[0;34m\u001b[0m\u001b[0m\n\u001b[0m",
            "\u001b[0;31mIndexError\u001b[0m: list index out of range"
          ]
        }
      ]
    },
    {
      "metadata": {
        "id": "RL-WZfPgF77r",
        "colab_type": "code",
        "colab": {
          "base_uri": "https://localhost:8080/",
          "height": 34
        },
        "outputId": "1628448e-4f3d-4b03-f250-c814b4090a42"
      },
      "cell_type": "code",
      "source": [
        "data[\"businesses\"][0]['id'] # parse id for review (with highest review count)"
      ],
      "execution_count": 61,
      "outputs": [
        {
          "output_type": "execute_result",
          "data": {
            "text/plain": [
              "'xAvwjM0F5LN9g3yFsk9e0w'"
            ]
          },
          "metadata": {
            "tags": []
          },
          "execution_count": 61
        }
      ]
    },
    {
      "metadata": {
        "id": "EEcceQGJGKY8",
        "colab_type": "text"
      },
      "cell_type": "markdown",
      "source": [
        "read review of this businesses of the highest review count"
      ]
    },
    {
      "metadata": {
        "id": "ApylqAplW9E2",
        "colab_type": "code",
        "colab": {}
      },
      "cell_type": "code",
      "source": [
        "ENDPOINT_reviews = 'https://api.yelp.com/v3/businesses/xAvwjM0F5LN9g3yFsk9e0w/reviews'   # id/reviews  \n",
        "response_reviews = requests.get(url = ENDPOINT_reviews, headers = HEADERS)"
      ],
      "execution_count": 0,
      "outputs": []
    },
    {
      "metadata": {
        "id": "AW42BuKqYd9L",
        "colab_type": "code",
        "outputId": "c0d401bf-a698-4c0c-dd2e-8e72e1ba0d44",
        "colab": {
          "base_uri": "https://localhost:8080/",
          "height": 190
        }
      },
      "cell_type": "code",
      "source": [
        "response_reviews.json()['reviews'][2]#['user']['profile_url']"
      ],
      "execution_count": 85,
      "outputs": [
        {
          "output_type": "execute_result",
          "data": {
            "text/plain": [
              "{'id': 'kQgAMxZ8QnR2QBasRGhf1Q',\n",
              " 'rating': 1,\n",
              " 'text': \"I ordered a frap grande at about 630am. Terrible customer service. The person that took my order tells her co worker that she doesn't know how to make the...\",\n",
              " 'time_created': '2018-10-29 04:32:36',\n",
              " 'url': 'https://www.yelp.com/biz/starbucks-new-york-128?adjust_creative=fl6Gc_WOT5VLrae0o6fc7w&hrid=kQgAMxZ8QnR2QBasRGhf1Q&utm_campaign=yelp_api_v3&utm_medium=api_v3_business_reviews&utm_source=fl6Gc_WOT5VLrae0o6fc7w',\n",
              " 'user': {'id': '80C0TcovjunD9hr6loBujg',\n",
              "  'image_url': 'https://s3-media2.fl.yelpcdn.com/photo/f9ZHThG7eSjFsEzwuoYOPQ/o.jpg',\n",
              "  'name': 'Chris T.',\n",
              "  'profile_url': 'https://www.yelp.com/user_details?userid=80C0TcovjunD9hr6loBujg'}}"
            ]
          },
          "metadata": {
            "tags": []
          },
          "execution_count": 85
        }
      ]
    },
    {
      "metadata": {
        "id": "xRIcNN_tYpQP",
        "colab_type": "code",
        "outputId": "c1d224fc-8e8d-43da-f8e7-89f5b30150ec",
        "colab": {
          "base_uri": "https://localhost:8080/",
          "height": 34
        }
      },
      "cell_type": "code",
      "source": [
        "len(response_reviews.json())"
      ],
      "execution_count": 43,
      "outputs": [
        {
          "output_type": "execute_result",
          "data": {
            "text/plain": [
              "3"
            ]
          },
          "metadata": {
            "tags": []
          },
          "execution_count": 43
        }
      ]
    },
    {
      "metadata": {
        "id": "AgHEAiqzZcNB",
        "colab_type": "code",
        "outputId": "3fc536e6-5061-48fd-afd1-9b8953799c42",
        "colab": {
          "base_uri": "https://localhost:8080/",
          "height": 54
        }
      },
      "cell_type": "code",
      "source": [
        "response_reviews.text"
      ],
      "execution_count": 44,
      "outputs": [
        {
          "output_type": "execute_result",
          "data": {
            "text/plain": [
              "'{\"reviews\": [{\"id\": \"UmxqFImoe3N-aT2RAimHCw\", \"url\": \"https://www.yelp.com/biz/starbucks-brooklyn-54?adjust_creative=fl6Gc_WOT5VLrae0o6fc7w&hrid=UmxqFImoe3N-aT2RAimHCw&utm_campaign=yelp_api_v3&utm_medium=api_v3_business_reviews&utm_source=fl6Gc_WOT5VLrae0o6fc7w\", \"text\": \"There\\'s not really much you can say about Starbucks coffee or food other than that it\\'s usually good despite of where you are. What I can say about this...\", \"rating\": 4, \"time_created\": \"2018-12-19 15:41:36\", \"user\": {\"id\": \"y6pqwNJzRbC8iqBQvLbiXQ\", \"profile_url\": \"https://www.yelp.com/user_details?userid=y6pqwNJzRbC8iqBQvLbiXQ\", \"image_url\": \"https://s3-media1.fl.yelpcdn.com/photo/628D_JGWn5mvAlelCTsyvQ/o.jpg\", \"name\": \"Shantee E.\"}}, {\"id\": \"KO0ty3kRBuSmYe0TkB49eQ\", \"url\": \"https://www.yelp.com/biz/starbucks-brooklyn-54?adjust_creative=fl6Gc_WOT5VLrae0o6fc7w&hrid=KO0ty3kRBuSmYe0TkB49eQ&utm_campaign=yelp_api_v3&utm_medium=api_v3_business_reviews&utm_source=fl6Gc_WOT5VLrae0o6fc7w\", \"text\": \"Even though these photos are completely unrealistic, this is still one of the better Starbucks locations. Friendly staff, (relatively) clean tables, and a...\", \"rating\": 4, \"time_created\": \"2019-01-09 19:35:56\", \"user\": {\"id\": \"ubOjPWwzyNWou9ZxW9NXdw\", \"profile_url\": \"https://www.yelp.com/user_details?userid=ubOjPWwzyNWou9ZxW9NXdw\", \"image_url\": \"https://s3-media3.fl.yelpcdn.com/photo/d2GW8DLSSqDHBtQCx_pp-A/o.jpg\", \"name\": \"Gerard P.\"}}, {\"id\": \"aklWBVx8rqxMlQN_TeHEhw\", \"url\": \"https://www.yelp.com/biz/starbucks-brooklyn-54?adjust_creative=fl6Gc_WOT5VLrae0o6fc7w&hrid=aklWBVx8rqxMlQN_TeHEhw&utm_campaign=yelp_api_v3&utm_medium=api_v3_business_reviews&utm_source=fl6Gc_WOT5VLrae0o6fc7w\", \"text\": \"It really doesn\\'t matter what you get here, it\\'s going do be delicious.  Try the banana bread.\", \"rating\": 5, \"time_created\": \"2018-03-25 14:07:28\", \"user\": {\"id\": \"TWnbuWyHX3Nr2C09dtWqwg\", \"profile_url\": \"https://www.yelp.com/user_details?userid=TWnbuWyHX3Nr2C09dtWqwg\", \"image_url\": \"https://s3-media3.fl.yelpcdn.com/photo/eIViwWgeH2jTez2YzzurVg/o.jpg\", \"name\": \"Larry H.\"}}], \"total\": 7, \"possible_languages\": [\"en\"]}'"
            ]
          },
          "metadata": {
            "tags": []
          },
          "execution_count": 44
        }
      ]
    },
    {
      "metadata": {
        "id": "lS1G3_fjGuIl",
        "colab_type": "text"
      },
      "cell_type": "markdown",
      "source": [
        "Next, we can make a list of the businesses with their id, rating, and price"
      ]
    },
    {
      "metadata": {
        "id": "N1so2K95L3pl",
        "colab_type": "code",
        "colab": {}
      },
      "cell_type": "code",
      "source": [
        "# list of id in businesses with rating\n",
        "list_buss = []\n",
        "#i = 0s\n",
        "for item in data['businesses']:\n",
        "  #print(i)\n",
        "  #i+= 1\n",
        "  try:\n",
        "    list_buss.append([item['id'], item['rating'], item['price'],item['review_count']])#, \\\n",
        "  except:\n",
        "    list_buss.append([item['id'], item['rating'], None, None])\n",
        "    #pass\n",
        "  #print(item['id'])\n",
        "#list_buss"
      ],
      "execution_count": 0,
      "outputs": []
    },
    {
      "metadata": {
        "id": "jPK5FF0VG1g9",
        "colab_type": "code",
        "colab": {
          "base_uri": "https://localhost:8080/",
          "height": 34
        },
        "outputId": "f95fbf7f-8e99-4a64-b889-c57fb0505261"
      },
      "cell_type": "code",
      "source": [
        "len(list_buss)"
      ],
      "execution_count": 66,
      "outputs": [
        {
          "output_type": "execute_result",
          "data": {
            "text/plain": [
              "50"
            ]
          },
          "metadata": {
            "tags": []
          },
          "execution_count": 66
        }
      ]
    },
    {
      "metadata": {
        "id": "fN9qqsHWG9Ze",
        "colab_type": "code",
        "colab": {
          "base_uri": "https://localhost:8080/",
          "height": 204
        },
        "outputId": "79caab6f-2e4d-4cf1-ea35-98152dc48559"
      },
      "cell_type": "code",
      "source": [
        "# convert to pandas format\n",
        "#list_buss = pd.DataFrame(list_buss, columns = ['id','rating','price', 'count', 'alitas1', 'alitas2', 'alitas3','title1',\\\n",
        "#'title2','title3'])\n",
        "list_buss = pd.DataFrame(list_buss, columns = ['id','rating','price', 'count'])\n",
        "\n",
        "list_buss.head()"
      ],
      "execution_count": 67,
      "outputs": [
        {
          "output_type": "execute_result",
          "data": {
            "text/html": [
              "<div>\n",
              "<style scoped>\n",
              "    .dataframe tbody tr th:only-of-type {\n",
              "        vertical-align: middle;\n",
              "    }\n",
              "\n",
              "    .dataframe tbody tr th {\n",
              "        vertical-align: top;\n",
              "    }\n",
              "\n",
              "    .dataframe thead th {\n",
              "        text-align: right;\n",
              "    }\n",
              "</style>\n",
              "<table border=\"1\" class=\"dataframe\">\n",
              "  <thead>\n",
              "    <tr style=\"text-align: right;\">\n",
              "      <th></th>\n",
              "      <th>id</th>\n",
              "      <th>rating</th>\n",
              "      <th>price</th>\n",
              "      <th>count</th>\n",
              "    </tr>\n",
              "  </thead>\n",
              "  <tbody>\n",
              "    <tr>\n",
              "      <th>0</th>\n",
              "      <td>xAvwjM0F5LN9g3yFsk9e0w</td>\n",
              "      <td>4.0</td>\n",
              "      <td>$$</td>\n",
              "      <td>7.0</td>\n",
              "    </tr>\n",
              "    <tr>\n",
              "      <th>1</th>\n",
              "      <td>qcnoyytlFIuqlcjDXkXJiw</td>\n",
              "      <td>2.5</td>\n",
              "      <td>$$</td>\n",
              "      <td>62.0</td>\n",
              "    </tr>\n",
              "    <tr>\n",
              "      <th>2</th>\n",
              "      <td>60agfQbky4cX8BEApyltIA</td>\n",
              "      <td>2.0</td>\n",
              "      <td>$</td>\n",
              "      <td>22.0</td>\n",
              "    </tr>\n",
              "    <tr>\n",
              "      <th>3</th>\n",
              "      <td>VGMdcAn34GeasB4arA8XUA</td>\n",
              "      <td>3.0</td>\n",
              "      <td>$</td>\n",
              "      <td>35.0</td>\n",
              "    </tr>\n",
              "    <tr>\n",
              "      <th>4</th>\n",
              "      <td>_H9AnQkr5VtOiykNnxcQlQ</td>\n",
              "      <td>2.5</td>\n",
              "      <td>$$</td>\n",
              "      <td>23.0</td>\n",
              "    </tr>\n",
              "  </tbody>\n",
              "</table>\n",
              "</div>"
            ],
            "text/plain": [
              "                       id  rating price  count\n",
              "0  xAvwjM0F5LN9g3yFsk9e0w     4.0    $$    7.0\n",
              "1  qcnoyytlFIuqlcjDXkXJiw     2.5    $$   62.0\n",
              "2  60agfQbky4cX8BEApyltIA     2.0     $   22.0\n",
              "3  VGMdcAn34GeasB4arA8XUA     3.0     $   35.0\n",
              "4  _H9AnQkr5VtOiykNnxcQlQ     2.5    $$   23.0"
            ]
          },
          "metadata": {
            "tags": []
          },
          "execution_count": 67
        }
      ]
    },
    {
      "metadata": {
        "id": "zYrgnR07WN1R",
        "colab_type": "code",
        "colab": {
          "base_uri": "https://localhost:8080/",
          "height": 413
        },
        "outputId": "9a78bd39-72c1-4203-c91b-efdccd402484"
      },
      "cell_type": "code",
      "source": [
        "list_buss.hist()"
      ],
      "execution_count": 68,
      "outputs": [
        {
          "output_type": "execute_result",
          "data": {
            "text/plain": [
              "array([[<matplotlib.axes._subplots.AxesSubplot object at 0x7fe68e9e3b70>,\n",
              "        <matplotlib.axes._subplots.AxesSubplot object at 0x7fe68e989208>]],\n",
              "      dtype=object)"
            ]
          },
          "metadata": {
            "tags": []
          },
          "execution_count": 68
        },
        {
          "output_type": "display_data",
          "data": {
            "image/png": "[encoded data removed]",
            "text/plain": [
              "<Figure size 576x396 with 2 Axes>"
            ]
          },
          "metadata": {
            "tags": []
          }
        }
      ]
    },
    {
      "metadata": {
        "id": "cUDYyt2kWqgM",
        "colab_type": "code",
        "colab": {
          "base_uri": "https://localhost:8080/",
          "height": 142
        },
        "outputId": "6098b423-85a4-4612-d15a-a480ade92c7c"
      },
      "cell_type": "code",
      "source": [
        "list_buss.groupby('price').count()"
      ],
      "execution_count": 69,
      "outputs": [
        {
          "output_type": "execute_result",
          "data": {
            "text/html": [
              "<div>\n",
              "<style scoped>\n",
              "    .dataframe tbody tr th:only-of-type {\n",
              "        vertical-align: middle;\n",
              "    }\n",
              "\n",
              "    .dataframe tbody tr th {\n",
              "        vertical-align: top;\n",
              "    }\n",
              "\n",
              "    .dataframe thead th {\n",
              "        text-align: right;\n",
              "    }\n",
              "</style>\n",
              "<table border=\"1\" class=\"dataframe\">\n",
              "  <thead>\n",
              "    <tr style=\"text-align: right;\">\n",
              "      <th></th>\n",
              "      <th>id</th>\n",
              "      <th>rating</th>\n",
              "      <th>count</th>\n",
              "    </tr>\n",
              "    <tr>\n",
              "      <th>price</th>\n",
              "      <th></th>\n",
              "      <th></th>\n",
              "      <th></th>\n",
              "    </tr>\n",
              "  </thead>\n",
              "  <tbody>\n",
              "    <tr>\n",
              "      <th>$</th>\n",
              "      <td>12</td>\n",
              "      <td>12</td>\n",
              "      <td>12</td>\n",
              "    </tr>\n",
              "    <tr>\n",
              "      <th>$$</th>\n",
              "      <td>33</td>\n",
              "      <td>33</td>\n",
              "      <td>33</td>\n",
              "    </tr>\n",
              "  </tbody>\n",
              "</table>\n",
              "</div>"
            ],
            "text/plain": [
              "       id  rating  count\n",
              "price                   \n",
              "$      12      12     12\n",
              "$$     33      33     33"
            ]
          },
          "metadata": {
            "tags": []
          },
          "execution_count": 69
        }
      ]
    },
    {
      "metadata": {
        "id": "6KQ3269dYDg9",
        "colab_type": "code",
        "colab": {
          "base_uri": "https://localhost:8080/",
          "height": 173
        },
        "outputId": "fb48cc8f-d874-4129-d0b5-5aa709ba57b2"
      },
      "cell_type": "code",
      "source": [
        "high_rating = list_buss[list_buss['rating']>=3.0]\n",
        "high_rating.groupby('rating').count()"
      ],
      "execution_count": 70,
      "outputs": [
        {
          "output_type": "execute_result",
          "data": {
            "text/html": [
              "<div>\n",
              "<style scoped>\n",
              "    .dataframe tbody tr th:only-of-type {\n",
              "        vertical-align: middle;\n",
              "    }\n",
              "\n",
              "    .dataframe tbody tr th {\n",
              "        vertical-align: top;\n",
              "    }\n",
              "\n",
              "    .dataframe thead th {\n",
              "        text-align: right;\n",
              "    }\n",
              "</style>\n",
              "<table border=\"1\" class=\"dataframe\">\n",
              "  <thead>\n",
              "    <tr style=\"text-align: right;\">\n",
              "      <th></th>\n",
              "      <th>id</th>\n",
              "      <th>price</th>\n",
              "      <th>count</th>\n",
              "    </tr>\n",
              "    <tr>\n",
              "      <th>rating</th>\n",
              "      <th></th>\n",
              "      <th></th>\n",
              "      <th></th>\n",
              "    </tr>\n",
              "  </thead>\n",
              "  <tbody>\n",
              "    <tr>\n",
              "      <th>3.0</th>\n",
              "      <td>11</td>\n",
              "      <td>10</td>\n",
              "      <td>10</td>\n",
              "    </tr>\n",
              "    <tr>\n",
              "      <th>3.5</th>\n",
              "      <td>8</td>\n",
              "      <td>7</td>\n",
              "      <td>7</td>\n",
              "    </tr>\n",
              "    <tr>\n",
              "      <th>4.0</th>\n",
              "      <td>3</td>\n",
              "      <td>1</td>\n",
              "      <td>1</td>\n",
              "    </tr>\n",
              "  </tbody>\n",
              "</table>\n",
              "</div>"
            ],
            "text/plain": [
              "        id  price  count\n",
              "rating                  \n",
              "3.0     11     10     10\n",
              "3.5      8      7      7\n",
              "4.0      3      1      1"
            ]
          },
          "metadata": {
            "tags": []
          },
          "execution_count": 70
        }
      ]
    },
    {
      "metadata": {
        "id": "C-N6reidlM4f",
        "colab_type": "code",
        "colab": {
          "base_uri": "https://localhost:8080/",
          "height": 142
        },
        "outputId": "f2776c59-f831-40bb-da65-8b2bd273ab45"
      },
      "cell_type": "code",
      "source": [
        "low_rating = list_buss[list_buss['rating']<3.0]\n",
        "low_rating.groupby('rating').count()"
      ],
      "execution_count": 71,
      "outputs": [
        {
          "output_type": "execute_result",
          "data": {
            "text/html": [
              "<div>\n",
              "<style scoped>\n",
              "    .dataframe tbody tr th:only-of-type {\n",
              "        vertical-align: middle;\n",
              "    }\n",
              "\n",
              "    .dataframe tbody tr th {\n",
              "        vertical-align: top;\n",
              "    }\n",
              "\n",
              "    .dataframe thead th {\n",
              "        text-align: right;\n",
              "    }\n",
              "</style>\n",
              "<table border=\"1\" class=\"dataframe\">\n",
              "  <thead>\n",
              "    <tr style=\"text-align: right;\">\n",
              "      <th></th>\n",
              "      <th>id</th>\n",
              "      <th>price</th>\n",
              "      <th>count</th>\n",
              "    </tr>\n",
              "    <tr>\n",
              "      <th>rating</th>\n",
              "      <th></th>\n",
              "      <th></th>\n",
              "      <th></th>\n",
              "    </tr>\n",
              "  </thead>\n",
              "  <tbody>\n",
              "    <tr>\n",
              "      <th>2.0</th>\n",
              "      <td>10</td>\n",
              "      <td>10</td>\n",
              "      <td>10</td>\n",
              "    </tr>\n",
              "    <tr>\n",
              "      <th>2.5</th>\n",
              "      <td>18</td>\n",
              "      <td>17</td>\n",
              "      <td>17</td>\n",
              "    </tr>\n",
              "  </tbody>\n",
              "</table>\n",
              "</div>"
            ],
            "text/plain": [
              "        id  price  count\n",
              "rating                  \n",
              "2.0     10     10     10\n",
              "2.5     18     17     17"
            ]
          },
          "metadata": {
            "tags": []
          },
          "execution_count": 71
        }
      ]
    },
    {
      "metadata": {
        "id": "y6aCJUuZcCaG",
        "colab_type": "code",
        "colab": {}
      },
      "cell_type": "code",
      "source": [
        "# colect review\n",
        "List_HR_review = []\n",
        "List_HR_rating = []\n",
        "for i in range(50):\n",
        "\n",
        "  try:\n",
        "    ENDPOINT_reviews = 'https://api.yelp.com/v3/businesses/'+ high_rating['id'][i] +'/reviews'\n",
        "    response_reviews = requests.get(url = ENDPOINT_reviews, headers = HEADERS)\n",
        "    for ii in range(3):\n",
        "\n",
        "      x = response_reviews.json()['reviews'][ii]['text']\n",
        "      List_HR_review.append(x)\n",
        "      y = response_reviews.json()['reviews'][ii]['rating']\n",
        "      List_HR_rating.append(y)\n",
        "  except:\n",
        "    pass"
      ],
      "execution_count": 0,
      "outputs": []
    },
    {
      "metadata": {
        "id": "uobFgqKicVv0",
        "colab_type": "code",
        "colab": {
          "base_uri": "https://localhost:8080/",
          "height": 204
        },
        "outputId": "2ff93c4a-9b68-4750-f550-76a85060c555"
      },
      "cell_type": "code",
      "source": [
        "List_HR_review_pd = pd.DataFrame(List_HR_review, columns =['review'])\n",
        "#len(List_reiew_all_pd)\n",
        "List_HR_review_pd.head()"
      ],
      "execution_count": 135,
      "outputs": [
        {
          "output_type": "execute_result",
          "data": {
            "text/html": [
              "<div>\n",
              "<style scoped>\n",
              "    .dataframe tbody tr th:only-of-type {\n",
              "        vertical-align: middle;\n",
              "    }\n",
              "\n",
              "    .dataframe tbody tr th {\n",
              "        vertical-align: top;\n",
              "    }\n",
              "\n",
              "    .dataframe thead th {\n",
              "        text-align: right;\n",
              "    }\n",
              "</style>\n",
              "<table border=\"1\" class=\"dataframe\">\n",
              "  <thead>\n",
              "    <tr style=\"text-align: right;\">\n",
              "      <th></th>\n",
              "      <th>review</th>\n",
              "    </tr>\n",
              "  </thead>\n",
              "  <tbody>\n",
              "    <tr>\n",
              "      <th>0</th>\n",
              "      <td>There's not really much you can say about Star...</td>\n",
              "    </tr>\n",
              "    <tr>\n",
              "      <th>1</th>\n",
              "      <td>Even though these photos are completely unreal...</td>\n",
              "    </tr>\n",
              "    <tr>\n",
              "      <th>2</th>\n",
              "      <td>It really doesn't matter what you get here, it...</td>\n",
              "    </tr>\n",
              "    <tr>\n",
              "      <th>3</th>\n",
              "      <td>Hot tip! There's seating upstairs!!!\\nI lived ...</td>\n",
              "    </tr>\n",
              "    <tr>\n",
              "      <th>4</th>\n",
              "      <td>Friendly staff. Helped me streamline my otherw...</td>\n",
              "    </tr>\n",
              "  </tbody>\n",
              "</table>\n",
              "</div>"
            ],
            "text/plain": [
              "                                              review\n",
              "0  There's not really much you can say about Star...\n",
              "1  Even though these photos are completely unreal...\n",
              "2  It really doesn't matter what you get here, it...\n",
              "3  Hot tip! There's seating upstairs!!!\\nI lived ...\n",
              "4  Friendly staff. Helped me streamline my otherw..."
            ]
          },
          "metadata": {
            "tags": []
          },
          "execution_count": 135
        }
      ]
    },
    {
      "metadata": {
        "id": "U70s9Yc5sAxj",
        "colab_type": "code",
        "colab": {
          "base_uri": "https://localhost:8080/",
          "height": 408
        },
        "outputId": "3b916c28-0d48-4893-8ba2-dfd6b573afe9"
      },
      "cell_type": "code",
      "source": [
        "high_rating['id']"
      ],
      "execution_count": 136,
      "outputs": [
        {
          "output_type": "execute_result",
          "data": {
            "text/plain": [
              "0     xAvwjM0F5LN9g3yFsk9e0w\n",
              "3     VGMdcAn34GeasB4arA8XUA\n",
              "6     OuNYQaqEJjkBHRdnC-4HOw\n",
              "7     mEMPhPK6dSgy5eXS-kYHLg\n",
              "8     7AlGQ0kJgYFz3xCW_rj2LQ\n",
              "10    pTv4RDll3N_CGG3BwtEctg\n",
              "11    j6nTfbYavGVsJKxz6bte6w\n",
              "20    p8Fygzdm1uONUTu4q-SfJA\n",
              "21    FrigBgxfxMxwPJNq-hAr0Q\n",
              "26    RIklVZ2AEvC62MtCPRmFRQ\n",
              "29    OQEU7KPvgDX9kX2xlHGm5g\n",
              "31    JXKpCS9Ru3nt7U0_kFqZgA\n",
              "32    rPXlTqHLYKcXyADOeqzwbg\n",
              "35    01cAFjVfryumdxZCs-QG-A\n",
              "36    iWoOAvIYqZ8nqx1BYcuZYw\n",
              "41    5mg6AXDk_j_RAlKvGIyROQ\n",
              "42    wE3_AwZoZ0ZXbngBH1xRrg\n",
              "44    gfDj7Aa8U9K5UkJ9H65N3w\n",
              "45    MMw3oR3cDbtUkvs78xD00Q\n",
              "46    AvpB-RQgEW9N4Eip3l3cww\n",
              "47    mQWt-66AkXyTrRNFElmFMw\n",
              "49    a2nfVfbuobr5EX6sDH7jyw\n",
              "Name: id, dtype: object"
            ]
          },
          "metadata": {
            "tags": []
          },
          "execution_count": 136
        }
      ]
    },
    {
      "metadata": {
        "id": "X3ldcgdxoSZI",
        "colab_type": "code",
        "colab": {
          "base_uri": "https://localhost:8080/",
          "height": 68
        },
        "outputId": "f4bfff4f-7cd2-4322-e42d-fd68e80f00b0"
      },
      "cell_type": "code",
      "source": [
        "print(len(high_rating))\n",
        "print(len(List_HR_review))\n",
        "print(len(List_HR_rating))"
      ],
      "execution_count": 137,
      "outputs": [
        {
          "output_type": "stream",
          "text": [
            "22\n",
            "64\n",
            "64\n"
          ],
          "name": "stdout"
        }
      ]
    },
    {
      "metadata": {
        "id": "NRKPw0KMcakQ",
        "colab_type": "code",
        "colab": {}
      },
      "cell_type": "code",
      "source": [
        "# colect review\n",
        "List_LR_review = []\n",
        "List_LR_rating = []\n",
        "for i in range(50):\n",
        "  #print(i)\n",
        "  try:\n",
        "    ENDPOINT_reviews = 'https://api.yelp.com/v3/businesses/'+ low_rating['id'][i] +'/reviews'\n",
        "    response_reviews = requests.get(url = ENDPOINT_reviews, headers = HEADERS)\n",
        "    for ii in range(2):\n",
        "      x = response_reviews.json()['reviews'][ii]['text']\n",
        "      List_LR_review.append(x)\n",
        "      y = response_reviews.json()['reviews'][ii]['rating']\n",
        "      List_LR_rating.append(y)\n",
        "  except:\n",
        "    pass"
      ],
      "execution_count": 0,
      "outputs": []
    },
    {
      "metadata": {
        "id": "WHsM6Mc2mUnM",
        "colab_type": "code",
        "colab": {
          "base_uri": "https://localhost:8080/",
          "height": 34
        },
        "outputId": "f58541bd-c6b2-4dcf-b2e8-ca33765c3fa8"
      },
      "cell_type": "code",
      "source": [
        "List_LR_review_pd = pd.DataFrame(List_LR_review, columns =['review'])"
      ],
      "execution_count": 142,
      "outputs": [
        {
          "output_type": "execute_result",
          "data": {
            "text/plain": [
              "56"
            ]
          },
          "metadata": {
            "tags": []
          },
          "execution_count": 142
        }
      ]
    },
    {
      "metadata": {
        "id": "qAg0KlmomYIN",
        "colab_type": "code",
        "colab": {
          "base_uri": "https://localhost:8080/",
          "height": 68
        },
        "outputId": "f4800246-c60c-42b4-8d7d-391a4e625f17"
      },
      "cell_type": "code",
      "source": [
        "print(len(low_rating))\n",
        "print(len(List_LR_review))\n",
        "print(len(List_LR_rating))"
      ],
      "execution_count": 145,
      "outputs": [
        {
          "output_type": "stream",
          "text": [
            "28\n",
            "56\n",
            "56\n"
          ],
          "name": "stdout"
        }
      ]
    },
    {
      "metadata": {
        "id": "ZFp---5tnCu3",
        "colab_type": "code",
        "colab": {
          "base_uri": "https://localhost:8080/",
          "height": 204
        },
        "outputId": "af57f82d-0cec-464e-cf95-1006d92d379b"
      },
      "cell_type": "code",
      "source": [
        "d = {'rate': List_HR_rating, 'review': List_HR_review}\n",
        "df_HR = pd.DataFrame(data=d)\n",
        "df_HR.head()"
      ],
      "execution_count": 151,
      "outputs": [
        {
          "output_type": "execute_result",
          "data": {
            "text/html": [
              "<div>\n",
              "<style scoped>\n",
              "    .dataframe tbody tr th:only-of-type {\n",
              "        vertical-align: middle;\n",
              "    }\n",
              "\n",
              "    .dataframe tbody tr th {\n",
              "        vertical-align: top;\n",
              "    }\n",
              "\n",
              "    .dataframe thead th {\n",
              "        text-align: right;\n",
              "    }\n",
              "</style>\n",
              "<table border=\"1\" class=\"dataframe\">\n",
              "  <thead>\n",
              "    <tr style=\"text-align: right;\">\n",
              "      <th></th>\n",
              "      <th>rate</th>\n",
              "      <th>review</th>\n",
              "    </tr>\n",
              "  </thead>\n",
              "  <tbody>\n",
              "    <tr>\n",
              "      <th>0</th>\n",
              "      <td>4</td>\n",
              "      <td>There's not really much you can say about Star...</td>\n",
              "    </tr>\n",
              "    <tr>\n",
              "      <th>1</th>\n",
              "      <td>4</td>\n",
              "      <td>Even though these photos are completely unreal...</td>\n",
              "    </tr>\n",
              "    <tr>\n",
              "      <th>2</th>\n",
              "      <td>5</td>\n",
              "      <td>It really doesn't matter what you get here, it...</td>\n",
              "    </tr>\n",
              "    <tr>\n",
              "      <th>3</th>\n",
              "      <td>4</td>\n",
              "      <td>Hot tip! There's seating upstairs!!!\\nI lived ...</td>\n",
              "    </tr>\n",
              "    <tr>\n",
              "      <th>4</th>\n",
              "      <td>5</td>\n",
              "      <td>Friendly staff. Helped me streamline my otherw...</td>\n",
              "    </tr>\n",
              "  </tbody>\n",
              "</table>\n",
              "</div>"
            ],
            "text/plain": [
              "   rate                                             review\n",
              "0     4  There's not really much you can say about Star...\n",
              "1     4  Even though these photos are completely unreal...\n",
              "2     5  It really doesn't matter what you get here, it...\n",
              "3     4  Hot tip! There's seating upstairs!!!\\nI lived ...\n",
              "4     5  Friendly staff. Helped me streamline my otherw..."
            ]
          },
          "metadata": {
            "tags": []
          },
          "execution_count": 151
        }
      ]
    },
    {
      "metadata": {
        "id": "c_AqqcSrtSQt",
        "colab_type": "code",
        "colab": {
          "base_uri": "https://localhost:8080/",
          "height": 204
        },
        "outputId": "7faaf88f-857d-4a89-e5d4-9fec858d8491"
      },
      "cell_type": "code",
      "source": [
        "d = {'rate': List_LR_rating, 'review': List_LR_review}\n",
        "df_LR = pd.DataFrame(data=d)\n",
        "df_LR.head()"
      ],
      "execution_count": 152,
      "outputs": [
        {
          "output_type": "execute_result",
          "data": {
            "text/html": [
              "<div>\n",
              "<style scoped>\n",
              "    .dataframe tbody tr th:only-of-type {\n",
              "        vertical-align: middle;\n",
              "    }\n",
              "\n",
              "    .dataframe tbody tr th {\n",
              "        vertical-align: top;\n",
              "    }\n",
              "\n",
              "    .dataframe thead th {\n",
              "        text-align: right;\n",
              "    }\n",
              "</style>\n",
              "<table border=\"1\" class=\"dataframe\">\n",
              "  <thead>\n",
              "    <tr style=\"text-align: right;\">\n",
              "      <th></th>\n",
              "      <th>rate</th>\n",
              "      <th>review</th>\n",
              "    </tr>\n",
              "  </thead>\n",
              "  <tbody>\n",
              "    <tr>\n",
              "      <th>0</th>\n",
              "      <td>4</td>\n",
              "      <td>I honestly had a great experience here so I'm ...</td>\n",
              "    </tr>\n",
              "    <tr>\n",
              "      <th>1</th>\n",
              "      <td>4</td>\n",
              "      <td>Who doesn't love a Vanilla Chai on a crisp fal...</td>\n",
              "    </tr>\n",
              "    <tr>\n",
              "      <th>2</th>\n",
              "      <td>4</td>\n",
              "      <td>Very clean, spacious, beautiful store.\\nFriend...</td>\n",
              "    </tr>\n",
              "    <tr>\n",
              "      <th>3</th>\n",
              "      <td>1</td>\n",
              "      <td>I went back for more punishment. This time I m...</td>\n",
              "    </tr>\n",
              "    <tr>\n",
              "      <th>4</th>\n",
              "      <td>4</td>\n",
              "      <td>This starbucks is so efficient! I work a 1-2mi...</td>\n",
              "    </tr>\n",
              "  </tbody>\n",
              "</table>\n",
              "</div>"
            ],
            "text/plain": [
              "   rate                                             review\n",
              "0     4  I honestly had a great experience here so I'm ...\n",
              "1     4  Who doesn't love a Vanilla Chai on a crisp fal...\n",
              "2     4  Very clean, spacious, beautiful store.\\nFriend...\n",
              "3     1  I went back for more punishment. This time I m...\n",
              "4     4  This starbucks is so efficient! I work a 1-2mi..."
            ]
          },
          "metadata": {
            "tags": []
          },
          "execution_count": 152
        }
      ]
    },
    {
      "metadata": {
        "id": "2nsp6xEnuGTz",
        "colab_type": "code",
        "colab": {
          "base_uri": "https://localhost:8080/",
          "height": 204
        },
        "outputId": "3621ed0d-9260-4d2e-9f9e-5ca8c7b25f94"
      },
      "cell_type": "code",
      "source": [
        "df_total = df_HR.append(df_LR)\n",
        "df_total.head()"
      ],
      "execution_count": 154,
      "outputs": [
        {
          "output_type": "execute_result",
          "data": {
            "text/html": [
              "<div>\n",
              "<style scoped>\n",
              "    .dataframe tbody tr th:only-of-type {\n",
              "        vertical-align: middle;\n",
              "    }\n",
              "\n",
              "    .dataframe tbody tr th {\n",
              "        vertical-align: top;\n",
              "    }\n",
              "\n",
              "    .dataframe thead th {\n",
              "        text-align: right;\n",
              "    }\n",
              "</style>\n",
              "<table border=\"1\" class=\"dataframe\">\n",
              "  <thead>\n",
              "    <tr style=\"text-align: right;\">\n",
              "      <th></th>\n",
              "      <th>rate</th>\n",
              "      <th>review</th>\n",
              "    </tr>\n",
              "  </thead>\n",
              "  <tbody>\n",
              "    <tr>\n",
              "      <th>0</th>\n",
              "      <td>4</td>\n",
              "      <td>There's not really much you can say about Star...</td>\n",
              "    </tr>\n",
              "    <tr>\n",
              "      <th>1</th>\n",
              "      <td>4</td>\n",
              "      <td>Even though these photos are completely unreal...</td>\n",
              "    </tr>\n",
              "    <tr>\n",
              "      <th>2</th>\n",
              "      <td>5</td>\n",
              "      <td>It really doesn't matter what you get here, it...</td>\n",
              "    </tr>\n",
              "    <tr>\n",
              "      <th>3</th>\n",
              "      <td>4</td>\n",
              "      <td>Hot tip! There's seating upstairs!!!\\nI lived ...</td>\n",
              "    </tr>\n",
              "    <tr>\n",
              "      <th>4</th>\n",
              "      <td>5</td>\n",
              "      <td>Friendly staff. Helped me streamline my otherw...</td>\n",
              "    </tr>\n",
              "  </tbody>\n",
              "</table>\n",
              "</div>"
            ],
            "text/plain": [
              "   rate                                             review\n",
              "0     4  There's not really much you can say about Star...\n",
              "1     4  Even though these photos are completely unreal...\n",
              "2     5  It really doesn't matter what you get here, it...\n",
              "3     4  Hot tip! There's seating upstairs!!!\\nI lived ...\n",
              "4     5  Friendly staff. Helped me streamline my otherw..."
            ]
          },
          "metadata": {
            "tags": []
          },
          "execution_count": 154
        }
      ]
    },
    {
      "metadata": {
        "id": "T1PtmZstufve",
        "colab_type": "code",
        "colab": {
          "base_uri": "https://localhost:8080/",
          "height": 396
        },
        "outputId": "5dc8c40a-ac06-42f8-bcc6-402b4b76f9d2"
      },
      "cell_type": "code",
      "source": [
        "df_total.hist()"
      ],
      "execution_count": 155,
      "outputs": [
        {
          "output_type": "execute_result",
          "data": {
            "text/plain": [
              "array([[<matplotlib.axes._subplots.AxesSubplot object at 0x7fe68e888518>]],\n",
              "      dtype=object)"
            ]
          },
          "metadata": {
            "tags": []
          },
          "execution_count": 155
        },
        {
          "output_type": "display_data",
          "data": {
            "image/png": "[encoded data removed]",
            "text/plain": [
              "<Figure size 576x396 with 1 Axes>"
            ]
          },
          "metadata": {
            "tags": []
          }
        }
      ]
    },
    {
      "metadata": {
        "id": "2ax1pq-fvwoe",
        "colab_type": "code",
        "colab": {}
      },
      "cell_type": "code",
      "source": [
        "df_total['Polarity'] = [TextBlob(x).sentiment[0] for x in df_total['review'] ]\n",
        "df_total['Subjectivity'] = [TextBlob(x).sentiment[1] for x in df_total['review'] ]"
      ],
      "execution_count": 0,
      "outputs": []
    },
    {
      "metadata": {
        "id": "9v76pVdAunxC",
        "colab_type": "code",
        "colab": {
          "base_uri": "https://localhost:8080/",
          "height": 51
        },
        "outputId": "44a2b2ce-999f-43e0-ac27-931b7595e3b2"
      },
      "cell_type": "code",
      "source": [
        "df_total_HR = df_total[df_total['rate']>=4]\n",
        "df_total_LR = df_total[df_total['rate']<4]\n",
        "\n",
        "print(len(df_total_HR))\n",
        "print(len(df_total_LR))"
      ],
      "execution_count": 163,
      "outputs": [
        {
          "output_type": "stream",
          "text": [
            "69\n",
            "51\n"
          ],
          "name": "stdout"
        }
      ]
    },
    {
      "metadata": {
        "id": "FsrqPeaiu-a1",
        "colab_type": "code",
        "colab": {
          "base_uri": "https://localhost:8080/",
          "height": 204
        },
        "outputId": "46875cf7-d3cf-4d8f-821a-097454d4f85f"
      },
      "cell_type": "code",
      "source": [
        "df_total_HR.head()"
      ],
      "execution_count": 165,
      "outputs": [
        {
          "output_type": "execute_result",
          "data": {
            "text/html": [
              "<div>\n",
              "<style scoped>\n",
              "    .dataframe tbody tr th:only-of-type {\n",
              "        vertical-align: middle;\n",
              "    }\n",
              "\n",
              "    .dataframe tbody tr th {\n",
              "        vertical-align: top;\n",
              "    }\n",
              "\n",
              "    .dataframe thead th {\n",
              "        text-align: right;\n",
              "    }\n",
              "</style>\n",
              "<table border=\"1\" class=\"dataframe\">\n",
              "  <thead>\n",
              "    <tr style=\"text-align: right;\">\n",
              "      <th></th>\n",
              "      <th>rate</th>\n",
              "      <th>review</th>\n",
              "      <th>Polarity</th>\n",
              "      <th>Subjectivity</th>\n",
              "    </tr>\n",
              "  </thead>\n",
              "  <tbody>\n",
              "    <tr>\n",
              "      <th>0</th>\n",
              "      <td>4</td>\n",
              "      <td>There's not really much you can say about Star...</td>\n",
              "      <td>0.158333</td>\n",
              "      <td>0.391667</td>\n",
              "    </tr>\n",
              "    <tr>\n",
              "      <th>1</th>\n",
              "      <td>4</td>\n",
              "      <td>Even though these photos are completely unreal...</td>\n",
              "      <td>0.185417</td>\n",
              "      <td>0.675000</td>\n",
              "    </tr>\n",
              "    <tr>\n",
              "      <th>2</th>\n",
              "      <td>5</td>\n",
              "      <td>It really doesn't matter what you get here, it...</td>\n",
              "      <td>0.600000</td>\n",
              "      <td>0.600000</td>\n",
              "    </tr>\n",
              "    <tr>\n",
              "      <th>3</th>\n",
              "      <td>4</td>\n",
              "      <td>Hot tip! There's seating upstairs!!!\\nI lived ...</td>\n",
              "      <td>0.270117</td>\n",
              "      <td>0.350000</td>\n",
              "    </tr>\n",
              "    <tr>\n",
              "      <th>4</th>\n",
              "      <td>5</td>\n",
              "      <td>Friendly staff. Helped me streamline my otherw...</td>\n",
              "      <td>-0.007500</td>\n",
              "      <td>0.575000</td>\n",
              "    </tr>\n",
              "  </tbody>\n",
              "</table>\n",
              "</div>"
            ],
            "text/plain": [
              "   rate                                             review  Polarity  \\\n",
              "0     4  There's not really much you can say about Star...  0.158333   \n",
              "1     4  Even though these photos are completely unreal...  0.185417   \n",
              "2     5  It really doesn't matter what you get here, it...  0.600000   \n",
              "3     4  Hot tip! There's seating upstairs!!!\\nI lived ...  0.270117   \n",
              "4     5  Friendly staff. Helped me streamline my otherw... -0.007500   \n",
              "\n",
              "   Subjectivity  \n",
              "0      0.391667  \n",
              "1      0.675000  \n",
              "2      0.600000  \n",
              "3      0.350000  \n",
              "4      0.575000  "
            ]
          },
          "metadata": {
            "tags": []
          },
          "execution_count": 165
        }
      ]
    },
    {
      "metadata": {
        "id": "cs2fL5xOvDi5",
        "colab_type": "code",
        "colab": {
          "base_uri": "https://localhost:8080/",
          "height": 204
        },
        "outputId": "5ac32ea3-dbcd-4be3-e018-fdfe9b437eaa"
      },
      "cell_type": "code",
      "source": [
        "df_total_LR.head()"
      ],
      "execution_count": 166,
      "outputs": [
        {
          "output_type": "execute_result",
          "data": {
            "text/html": [
              "<div>\n",
              "<style scoped>\n",
              "    .dataframe tbody tr th:only-of-type {\n",
              "        vertical-align: middle;\n",
              "    }\n",
              "\n",
              "    .dataframe tbody tr th {\n",
              "        vertical-align: top;\n",
              "    }\n",
              "\n",
              "    .dataframe thead th {\n",
              "        text-align: right;\n",
              "    }\n",
              "</style>\n",
              "<table border=\"1\" class=\"dataframe\">\n",
              "  <thead>\n",
              "    <tr style=\"text-align: right;\">\n",
              "      <th></th>\n",
              "      <th>rate</th>\n",
              "      <th>review</th>\n",
              "      <th>Polarity</th>\n",
              "      <th>Subjectivity</th>\n",
              "    </tr>\n",
              "  </thead>\n",
              "  <tbody>\n",
              "    <tr>\n",
              "      <th>5</th>\n",
              "      <td>2</td>\n",
              "      <td>I can tell you why this starbucks gets a bad r...</td>\n",
              "      <td>-0.350000</td>\n",
              "      <td>0.383333</td>\n",
              "    </tr>\n",
              "    <tr>\n",
              "      <th>7</th>\n",
              "      <td>2</td>\n",
              "      <td>Starbucks has never been my favorite Java plac...</td>\n",
              "      <td>0.191071</td>\n",
              "      <td>0.592857</td>\n",
              "    </tr>\n",
              "    <tr>\n",
              "      <th>8</th>\n",
              "      <td>1</td>\n",
              "      <td>The cashier cut me off before I finished my or...</td>\n",
              "      <td>-0.125000</td>\n",
              "      <td>0.444444</td>\n",
              "    </tr>\n",
              "    <tr>\n",
              "      <th>16</th>\n",
              "      <td>2</td>\n",
              "      <td>Okay this is it. Been here couple of times and...</td>\n",
              "      <td>-0.166667</td>\n",
              "      <td>0.488889</td>\n",
              "    </tr>\n",
              "    <tr>\n",
              "      <th>17</th>\n",
              "      <td>3</td>\n",
              "      <td>Located close to City Hall Park and the entran...</td>\n",
              "      <td>0.130000</td>\n",
              "      <td>0.390000</td>\n",
              "    </tr>\n",
              "  </tbody>\n",
              "</table>\n",
              "</div>"
            ],
            "text/plain": [
              "    rate                                             review  Polarity  \\\n",
              "5      2  I can tell you why this starbucks gets a bad r... -0.350000   \n",
              "7      2  Starbucks has never been my favorite Java plac...  0.191071   \n",
              "8      1  The cashier cut me off before I finished my or... -0.125000   \n",
              "16     2  Okay this is it. Been here couple of times and... -0.166667   \n",
              "17     3  Located close to City Hall Park and the entran...  0.130000   \n",
              "\n",
              "    Subjectivity  \n",
              "5       0.383333  \n",
              "7       0.592857  \n",
              "8       0.444444  \n",
              "16      0.488889  \n",
              "17      0.390000  "
            ]
          },
          "metadata": {
            "tags": []
          },
          "execution_count": 166
        }
      ]
    },
    {
      "metadata": {
        "id": "knPxbRZnwBvo",
        "colab_type": "text"
      },
      "cell_type": "markdown",
      "source": [
        "Howis the review rate correlated to the polarity?"
      ]
    },
    {
      "metadata": {
        "id": "XDPuYl05vMRz",
        "colab_type": "code",
        "colab": {
          "base_uri": "https://localhost:8080/",
          "height": 432
        },
        "outputId": "08adef65-f4f5-4637-f9de-3bb4cb5fcf1d"
      },
      "cell_type": "code",
      "source": [
        "sns.boxplot(x=\"rate\", y=\"Polarity\", data=df_total)"
      ],
      "execution_count": 175,
      "outputs": [
        {
          "output_type": "stream",
          "text": [
            "/usr/local/lib/python3.6/dist-packages/seaborn/categorical.py:454: FutureWarning: remove_na is deprecated and is a private function. Do not use.\n",
            "  box_data = remove_na(group_data)\n"
          ],
          "name": "stderr"
        },
        {
          "output_type": "execute_result",
          "data": {
            "text/plain": [
              "<matplotlib.axes._subplots.AxesSubplot at 0x7fe6826aa668>"
            ]
          },
          "metadata": {
            "tags": []
          },
          "execution_count": 175
        },
        {
          "output_type": "display_data",
          "data": {
            "image/png": "[encoded data removed]",
            "text/plain": [
              "<Figure size 576x396 with 1 Axes>"
            ]
          },
          "metadata": {
            "tags": []
          }
        }
      ]
    },
    {
      "metadata": {
        "id": "p_3El9NFwTEP",
        "colab_type": "code",
        "colab": {
          "base_uri": "https://localhost:8080/",
          "height": 432
        },
        "outputId": "1411d122-50bd-4e08-b875-afa6fbb2a1ff"
      },
      "cell_type": "code",
      "source": [
        "sns.boxplot(x=\"rate\", y=\"Subjectivity\", data=df_total)"
      ],
      "execution_count": 176,
      "outputs": [
        {
          "output_type": "stream",
          "text": [
            "/usr/local/lib/python3.6/dist-packages/seaborn/categorical.py:454: FutureWarning: remove_na is deprecated and is a private function. Do not use.\n",
            "  box_data = remove_na(group_data)\n"
          ],
          "name": "stderr"
        },
        {
          "output_type": "execute_result",
          "data": {
            "text/plain": [
              "<matplotlib.axes._subplots.AxesSubplot at 0x7fe6826ed7f0>"
            ]
          },
          "metadata": {
            "tags": []
          },
          "execution_count": 176
        },
        {
          "output_type": "display_data",
          "data": {
            "image/png": "[encoded data removed]",
            "text/plain": [
              "<Figure size 576x396 with 1 Axes>"
            ]
          },
          "metadata": {
            "tags": []
          }
        }
      ]
    },
    {
      "metadata": {
        "id": "ihfc4TZdxXej",
        "colab_type": "code",
        "colab": {}
      },
      "cell_type": "code",
      "source": [
        ""
      ],
      "execution_count": 0,
      "outputs": []
    }
  ]
}