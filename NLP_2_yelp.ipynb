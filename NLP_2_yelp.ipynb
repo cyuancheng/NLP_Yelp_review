{
  "nbformat": 4,
  "nbformat_minor": 0,
  "metadata": {
    "colab": {
      "name": "NLP_2_yelp.ipynb",
      "version": "0.3.2",
      "provenance": [],
      "collapsed_sections": [],
      "toc_visible": true,
      "include_colab_link": true
    },
    "kernelspec": {
      "name": "python3",
      "display_name": "Python 3"
    }
  },
  "cells": [
    {
      "cell_type": "markdown",
      "metadata": {
        "id": "view-in-github",
        "colab_type": "text"
      },
      "source": [
        "<a href=\"https://colab.research.google.com/github/cyuancheng/NLP_Yelp_review/blob/master/NLP_2_yelp.ipynb\" target=\"_parent\"><img src=\"https://colab.research.google.com/assets/colab-badge.svg\" alt=\"Open In Colab\"/></a>"
      ]
    },
    {
      "metadata": {
        "id": "2KTF4FByD2_V",
        "colab_type": "text"
      },
      "cell_type": "markdown",
      "source": [
        "##Natural Language Processing and Sentiment Analysis for Yelp##\n",
        "\n",
        "Explore Starbucks review in New York City (Rockefeller Center )"
      ]
    },
    {
      "metadata": {
        "id": "Bv_JR_8LHEZS",
        "colab_type": "code",
        "colab": {}
      },
      "cell_type": "code",
      "source": [
        "import pandas as pd\n",
        "import numpy as np\n",
        "import requests\n",
        "import spacy #use NLP functions\n",
        "from spacy import displacy\n",
        "from textblob import TextBlob\n",
        "import re\n",
        "import matplotlib as mpl\n",
        "import matplotlib.pyplot as plt\n",
        "import seaborn as sns\n",
        "\n",
        "from nltk.sentiment.vader import SentimentIntensityAnalyzer\n",
        "\n",
        "import folium\n",
        "import warnings\n",
        "warnings.filterwarnings(\"ignore\")"
      ],
      "execution_count": 0,
      "outputs": []
    },
    {
      "metadata": {
        "id": "izJDv2CqCVF_",
        "colab_type": "code",
        "outputId": "fe579a06-f648-4915-c0c8-839f0b3e65a2",
        "colab": {
          "base_uri": "https://localhost:8080/",
          "height": 34
        }
      },
      "cell_type": "code",
      "source": [
        "from google.colab import drive\n",
        "drive.mount('/content/gdrive', force_remount=True)\n",
        "root_dir = \"/content/gdrive/My Drive/\"\n",
        "base_dir = root_dir + 'School_of_AI/'"
      ],
      "execution_count": 2,
      "outputs": [
        {
          "output_type": "stream",
          "text": [
            "Mounted at /content/gdrive\n"
          ],
          "name": "stdout"
        }
      ]
    },
    {
      "metadata": {
        "id": "5yO9p5IfpbM_",
        "colab_type": "text"
      },
      "cell_type": "markdown",
      "source": [
        "###1. Data pre-process and cleaning###\n",
        "Get data from Yelp API\n",
        "(50 Starbucks stores near Rockefeller Center in NYC)"
      ]
    },
    {
      "metadata": {
        "id": "nu8hn15rl7MQ",
        "colab_type": "code",
        "colab": {}
      },
      "cell_type": "code",
      "source": [
        "#get yelp api (https://www.yelp.com/developers)\n",
        "\n",
        "client_id = 'fl6Gc_WOT5VLrae0o6fc7w' \n",
        "key = 'kArR8ttjf4JdZDtC27-InwcgepdkWrtTcSfaHKwf_JMtQY0LvXgfaG3lmUA3F2oCCp-KUa-W8tPuVXdm8Abwj6N0m0YJniJHVa61rXEFMLuAM11d2IrYSV5NEYGJXHYx'\n",
        "\n",
        "ENDPOINT = 'https://api.yelp.com/v3/businesses/search'\n",
        "\n",
        "HEADERS = {'Authorization':'bearer {}'.format(key)}\n",
        "\n",
        "PARAMETERS = {'term' : 'Starbucks',\n",
        "              'limit':50,\n",
        "             'radius':40000, # meter\n",
        "              'latitude': 40.758862,\n",
        "              'longitude':-73.978663  # Rockefeller Center\n",
        "              #'sort_by' :'review_count', \n",
        "             #'location':\"New York City\"\n",
        "             }\n",
        "\n",
        "response = requests.get(url = ENDPOINT, params = PARAMETERS, headers = HEADERS)"
      ],
      "execution_count": 0,
      "outputs": []
    },
    {
      "metadata": {
        "id": "VXu-5_E-pmI7",
        "colab_type": "text"
      },
      "cell_type": "markdown",
      "source": [
        "####Get the data from Yelp API \n",
        "look at the first business"
      ]
    },
    {
      "metadata": {
        "id": "SsQ8funaVwrd",
        "colab_type": "code",
        "outputId": "95a7b511-75c8-4f7f-d294-8b20a6f5e2b9",
        "colab": {
          "base_uri": "https://localhost:8080/",
          "height": 428
        }
      },
      "cell_type": "code",
      "source": [
        "data = response.json()\n",
        "data[\"businesses\"][0]"
      ],
      "execution_count": 4,
      "outputs": [
        {
          "output_type": "execute_result",
          "data": {
            "text/plain": [
              "{'alias': 'starbucks-new-york-273',\n",
              " 'categories': [{'alias': 'coffee', 'title': 'Coffee & Tea'}],\n",
              " 'coordinates': {'latitude': 40.758856, 'longitude': -73.978954},\n",
              " 'display_phone': '(212) 397-7950',\n",
              " 'distance': 24.51886376624723,\n",
              " 'id': '5WHpzFh-ZbTBY919PlZPTw',\n",
              " 'image_url': 'https://s3-media2.fl.yelpcdn.com/bphoto/6f8_MgbQJiloz02QX6Oqxw/o.jpg',\n",
              " 'is_closed': False,\n",
              " 'location': {'address1': '30 Rockefeller Plaza',\n",
              "  'address2': '',\n",
              "  'address3': '',\n",
              "  'city': 'New York',\n",
              "  'country': 'US',\n",
              "  'display_address': ['30 Rockefeller Plaza', 'New York, NY 10112'],\n",
              "  'state': 'NY',\n",
              "  'zip_code': '10112'},\n",
              " 'name': 'Starbucks',\n",
              " 'phone': '+12123977950',\n",
              " 'price': '$$',\n",
              " 'rating': 3.0,\n",
              " 'review_count': 72,\n",
              " 'transactions': [],\n",
              " 'url': 'https://www.yelp.com/biz/starbucks-new-york-273?adjust_creative=fl6Gc_WOT5VLrae0o6fc7w&utm_campaign=yelp_api_v3&utm_medium=api_v3_business_search&utm_source=fl6Gc_WOT5VLrae0o6fc7w'}"
            ]
          },
          "metadata": {
            "tags": []
          },
          "execution_count": 4
        }
      ]
    },
    {
      "metadata": {
        "id": "lS1G3_fjGuIl",
        "colab_type": "text"
      },
      "cell_type": "markdown",
      "source": [
        "Next, we can make a list of the businesses with their id, rating, price, and location"
      ]
    },
    {
      "metadata": {
        "id": "N1so2K95L3pl",
        "colab_type": "code",
        "colab": {}
      },
      "cell_type": "code",
      "source": [
        "# list of id in businesses with rating\n",
        "list_buss = []\n",
        "\n",
        "for item in data['businesses']:\n",
        "  try:\n",
        "    list_buss.append([item['id'], item['rating'], item['price'],item['review_count'],\\\n",
        "                      item['coordinates']['latitude'],item['coordinates']['longitude'] ])\n",
        "  except:\n",
        "    list_buss.append([item['id'], item['rating'], None, None, None, None])"
      ],
      "execution_count": 0,
      "outputs": []
    },
    {
      "metadata": {
        "id": "fN9qqsHWG9Ze",
        "colab_type": "code",
        "outputId": "c6089c5f-09fd-4676-ffdf-675896b5499c",
        "colab": {
          "base_uri": "https://localhost:8080/",
          "height": 204
        }
      },
      "cell_type": "code",
      "source": [
        "# convert to pandas format\n",
        "list_buss = pd.DataFrame(list_buss, columns = ['id','rating','price', 'count', 'latitude','longitude' ])\n",
        "list_buss.head()"
      ],
      "execution_count": 6,
      "outputs": [
        {
          "output_type": "execute_result",
          "data": {
            "text/html": [
              "<div>\n",
              "<style scoped>\n",
              "    .dataframe tbody tr th:only-of-type {\n",
              "        vertical-align: middle;\n",
              "    }\n",
              "\n",
              "    .dataframe tbody tr th {\n",
              "        vertical-align: top;\n",
              "    }\n",
              "\n",
              "    .dataframe thead th {\n",
              "        text-align: right;\n",
              "    }\n",
              "</style>\n",
              "<table border=\"1\" class=\"dataframe\">\n",
              "  <thead>\n",
              "    <tr style=\"text-align: right;\">\n",
              "      <th></th>\n",
              "      <th>id</th>\n",
              "      <th>rating</th>\n",
              "      <th>price</th>\n",
              "      <th>count</th>\n",
              "      <th>latitude</th>\n",
              "      <th>longitude</th>\n",
              "    </tr>\n",
              "  </thead>\n",
              "  <tbody>\n",
              "    <tr>\n",
              "      <th>0</th>\n",
              "      <td>5WHpzFh-ZbTBY919PlZPTw</td>\n",
              "      <td>3.0</td>\n",
              "      <td>$$</td>\n",
              "      <td>72.0</td>\n",
              "      <td>40.758856</td>\n",
              "      <td>-73.978954</td>\n",
              "    </tr>\n",
              "    <tr>\n",
              "      <th>1</th>\n",
              "      <td>AJR1lIu3RzgC8bgCk2tFog</td>\n",
              "      <td>2.5</td>\n",
              "      <td>$$</td>\n",
              "      <td>30.0</td>\n",
              "      <td>40.758859</td>\n",
              "      <td>-73.978956</td>\n",
              "    </tr>\n",
              "    <tr>\n",
              "      <th>2</th>\n",
              "      <td>t8_nm5-yk8ArhZjT3nHxRA</td>\n",
              "      <td>2.5</td>\n",
              "      <td>$$</td>\n",
              "      <td>16.0</td>\n",
              "      <td>40.757802</td>\n",
              "      <td>-73.979602</td>\n",
              "    </tr>\n",
              "    <tr>\n",
              "      <th>3</th>\n",
              "      <td>DTRLsTwx0534Iv-0xfXijA</td>\n",
              "      <td>2.5</td>\n",
              "      <td>$$</td>\n",
              "      <td>26.0</td>\n",
              "      <td>40.760364</td>\n",
              "      <td>-73.979084</td>\n",
              "    </tr>\n",
              "    <tr>\n",
              "      <th>4</th>\n",
              "      <td>4VwDtb5wOxfaXFOvTp7C6A</td>\n",
              "      <td>2.5</td>\n",
              "      <td>$$</td>\n",
              "      <td>22.0</td>\n",
              "      <td>40.760587</td>\n",
              "      <td>-73.978598</td>\n",
              "    </tr>\n",
              "  </tbody>\n",
              "</table>\n",
              "</div>"
            ],
            "text/plain": [
              "                       id  rating price  count   latitude  longitude\n",
              "0  5WHpzFh-ZbTBY919PlZPTw     3.0    $$   72.0  40.758856 -73.978954\n",
              "1  AJR1lIu3RzgC8bgCk2tFog     2.5    $$   30.0  40.758859 -73.978956\n",
              "2  t8_nm5-yk8ArhZjT3nHxRA     2.5    $$   16.0  40.757802 -73.979602\n",
              "3  DTRLsTwx0534Iv-0xfXijA     2.5    $$   26.0  40.760364 -73.979084\n",
              "4  4VwDtb5wOxfaXFOvTp7C6A     2.5    $$   22.0  40.760587 -73.978598"
            ]
          },
          "metadata": {
            "tags": []
          },
          "execution_count": 6
        }
      ]
    },
    {
      "metadata": {
        "id": "Fe3ytzcSrG23",
        "colab_type": "text"
      },
      "cell_type": "markdown",
      "source": [
        "show the business location on the map"
      ]
    },
    {
      "metadata": {
        "id": "Kh1QYa-JRYRT",
        "colab_type": "code",
        "outputId": "3f074443-ccd2-40b7-9b47-eeb9d89537df",
        "colab": {
          "base_uri": "https://localhost:8080/",
          "height": 34
        }
      },
      "cell_type": "code",
      "source": [
        "locations = list_buss[['latitude', 'longitude']].dropna()\n",
        "locationlist = locations.values.tolist()  # put all the locations in a list\n",
        "len(locationlist)"
      ],
      "execution_count": 7,
      "outputs": [
        {
          "output_type": "execute_result",
          "data": {
            "text/plain": [
              "47"
            ]
          },
          "metadata": {
            "tags": []
          },
          "execution_count": 7
        }
      ]
    },
    {
      "metadata": {
        "id": "U_P52HeW27wA",
        "colab_type": "code",
        "outputId": "6dc2470c-ece5-4d0c-b1cb-67a982fed987",
        "colab": {
          "base_uri": "https://localhost:8080/",
          "height": 492
        }
      },
      "cell_type": "code",
      "source": [
        "map = folium.Map(location=[40.758862, -73.978663], zoom_start=15)\n",
        "\n",
        "for point in range(0, len(locationlist)):\n",
        "    folium.Marker(locationlist[point], popup=list_buss['id'][point]).add_to(map)\n",
        "map"
      ],
      "execution_count": 8,
      "outputs": [
        {
          "output_type": "execute_result",
          "data": {
            "text/html": [
              "<div style=\"width:100%;\"><div style=\"position:relative;width:100%;height:0;padding-bottom:60%;\"><iframe src=\"data:text/html;charset=utf-8;base64,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\" style=\"position:absolute;width:100%;height:100%;left:0;top:0;border:none !important;\" allowfullscreen webkitallowfullscreen mozallowfullscreen></iframe></div></div>"
            ],
            "text/plain": [
              "<folium.folium.Map at 0x7fe4b01fc4e0>"
            ]
          },
          "metadata": {
            "tags": []
          },
          "execution_count": 8
        }
      ]
    },
    {
      "metadata": {
        "id": "WCo6NeCEe0Ps",
        "colab_type": "text"
      },
      "cell_type": "markdown",
      "source": [
        "We set the 40000 meter radius on the Yelp API,  but the actural radius is much lower than the 40000 meter in the dense area due to high business density."
      ]
    },
    {
      "metadata": {
        "id": "zYrgnR07WN1R",
        "colab_type": "code",
        "outputId": "f467da58-f985-4cb1-c4c2-f603c21113e9",
        "colab": {
          "base_uri": "https://localhost:8080/",
          "height": 378
        }
      },
      "cell_type": "code",
      "source": [
        "# look at the rating\n",
        "sns.countplot(x=\"rating\", data=list_buss)"
      ],
      "execution_count": 9,
      "outputs": [
        {
          "output_type": "execute_result",
          "data": {
            "text/plain": [
              "<matplotlib.axes._subplots.AxesSubplot at 0x7fe4b01fca58>"
            ]
          },
          "metadata": {
            "tags": []
          },
          "execution_count": 9
        },
        {
          "output_type": "display_data",
          "data": {
            "image/png": "[encoded data removed]",
            "text/plain": [
              "<Figure size 576x396 with 1 Axes>"
            ]
          },
          "metadata": {
            "tags": []
          }
        }
      ]
    },
    {
      "metadata": {
        "id": "cUDYyt2kWqgM",
        "colab_type": "code",
        "outputId": "d8f1a6bc-4de0-4724-b4c2-60d541351d4a",
        "colab": {
          "base_uri": "https://localhost:8080/",
          "height": 173
        }
      },
      "cell_type": "code",
      "source": [
        "# look at the price\n",
        "list_buss.groupby('price').count()"
      ],
      "execution_count": 10,
      "outputs": [
        {
          "output_type": "execute_result",
          "data": {
            "text/html": [
              "<div>\n",
              "<style scoped>\n",
              "    .dataframe tbody tr th:only-of-type {\n",
              "        vertical-align: middle;\n",
              "    }\n",
              "\n",
              "    .dataframe tbody tr th {\n",
              "        vertical-align: top;\n",
              "    }\n",
              "\n",
              "    .dataframe thead th {\n",
              "        text-align: right;\n",
              "    }\n",
              "</style>\n",
              "<table border=\"1\" class=\"dataframe\">\n",
              "  <thead>\n",
              "    <tr style=\"text-align: right;\">\n",
              "      <th></th>\n",
              "      <th>id</th>\n",
              "      <th>rating</th>\n",
              "      <th>count</th>\n",
              "      <th>latitude</th>\n",
              "      <th>longitude</th>\n",
              "    </tr>\n",
              "    <tr>\n",
              "      <th>price</th>\n",
              "      <th></th>\n",
              "      <th></th>\n",
              "      <th></th>\n",
              "      <th></th>\n",
              "      <th></th>\n",
              "    </tr>\n",
              "  </thead>\n",
              "  <tbody>\n",
              "    <tr>\n",
              "      <th>$</th>\n",
              "      <td>10</td>\n",
              "      <td>10</td>\n",
              "      <td>10</td>\n",
              "      <td>10</td>\n",
              "      <td>10</td>\n",
              "    </tr>\n",
              "    <tr>\n",
              "      <th>$$</th>\n",
              "      <td>35</td>\n",
              "      <td>35</td>\n",
              "      <td>35</td>\n",
              "      <td>35</td>\n",
              "      <td>35</td>\n",
              "    </tr>\n",
              "    <tr>\n",
              "      <th>$$$</th>\n",
              "      <td>2</td>\n",
              "      <td>2</td>\n",
              "      <td>2</td>\n",
              "      <td>2</td>\n",
              "      <td>2</td>\n",
              "    </tr>\n",
              "  </tbody>\n",
              "</table>\n",
              "</div>"
            ],
            "text/plain": [
              "       id  rating  count  latitude  longitude\n",
              "price                                        \n",
              "$      10      10     10        10         10\n",
              "$$     35      35     35        35         35\n",
              "$$$     2       2      2         2          2"
            ]
          },
          "metadata": {
            "tags": []
          },
          "execution_count": 10
        }
      ]
    },
    {
      "metadata": {
        "id": "WU_w9e12uBNZ",
        "colab_type": "text"
      },
      "cell_type": "markdown",
      "source": [
        "#### Get review data"
      ]
    },
    {
      "metadata": {
        "id": "RL-WZfPgF77r",
        "colab_type": "code",
        "outputId": "13168c5b-b679-4afc-fb59-bf78e3985163",
        "colab": {
          "base_uri": "https://localhost:8080/",
          "height": 34
        }
      },
      "cell_type": "code",
      "source": [
        "data[\"businesses\"][0]['id'] # parse id# for review "
      ],
      "execution_count": 11,
      "outputs": [
        {
          "output_type": "execute_result",
          "data": {
            "text/plain": [
              "'5WHpzFh-ZbTBY919PlZPTw'"
            ]
          },
          "metadata": {
            "tags": []
          },
          "execution_count": 11
        }
      ]
    },
    {
      "metadata": {
        "id": "EEcceQGJGKY8",
        "colab_type": "text"
      },
      "cell_type": "markdown",
      "source": [
        "read review of this businesses "
      ]
    },
    {
      "metadata": {
        "id": "ApylqAplW9E2",
        "colab_type": "code",
        "colab": {}
      },
      "cell_type": "code",
      "source": [
        "ENDPOINT_reviews = 'https://api.yelp.com/v3/businesses/5WHpzFh-ZbTBY919PlZPTw/reviews'   # id/reviews  \n",
        "response_reviews = requests.get(url = ENDPOINT_reviews, headers = HEADERS)"
      ],
      "execution_count": 0,
      "outputs": []
    },
    {
      "metadata": {
        "id": "EQV6veiyq9y6",
        "colab_type": "text"
      },
      "cell_type": "markdown",
      "source": [
        "Each business has three reviews. Read first review"
      ]
    },
    {
      "metadata": {
        "id": "xRIcNN_tYpQP",
        "colab_type": "code",
        "outputId": "9be20988-0dd7-4075-a166-6e09841fc838",
        "colab": {
          "base_uri": "https://localhost:8080/",
          "height": 34
        }
      },
      "cell_type": "code",
      "source": [
        "len(response_reviews.json())"
      ],
      "execution_count": 13,
      "outputs": [
        {
          "output_type": "execute_result",
          "data": {
            "text/plain": [
              "3"
            ]
          },
          "metadata": {
            "tags": []
          },
          "execution_count": 13
        }
      ]
    },
    {
      "metadata": {
        "id": "AW42BuKqYd9L",
        "colab_type": "code",
        "outputId": "a17af143-a0e6-4780-b9f8-41512b18ec43",
        "colab": {
          "base_uri": "https://localhost:8080/",
          "height": 190
        }
      },
      "cell_type": "code",
      "source": [
        "response_reviews.json()['reviews'][0]#['user']['id']#['profile_url']"
      ],
      "execution_count": 14,
      "outputs": [
        {
          "output_type": "execute_result",
          "data": {
            "text/plain": [
              "{'id': '3gnJ62usiQh9VDdVPibDAw',\n",
              " 'rating': 4,\n",
              " 'text': 'I have been here at 630 am and the staff is always pleasant and well rested. Sometimes there are homeless people sitting in the seats but it may be a way of...',\n",
              " 'time_created': '2018-11-16 14:36:46',\n",
              " 'url': 'https://www.yelp.com/biz/starbucks-new-york-273?adjust_creative=fl6Gc_WOT5VLrae0o6fc7w&hrid=3gnJ62usiQh9VDdVPibDAw&utm_campaign=yelp_api_v3&utm_medium=api_v3_business_reviews&utm_source=fl6Gc_WOT5VLrae0o6fc7w',\n",
              " 'user': {'id': 'KVKIvMY5gL5scNgexlENiQ',\n",
              "  'image_url': 'https://s3-media3.fl.yelpcdn.com/photo/iMhwNj0d6t8ZZJ1sS2i6qg/o.jpg',\n",
              "  'name': 'Dionne H.',\n",
              "  'profile_url': 'https://www.yelp.com/user_details?userid=KVKIvMY5gL5scNgexlENiQ'}}"
            ]
          },
          "metadata": {
            "tags": []
          },
          "execution_count": 14
        }
      ]
    },
    {
      "metadata": {
        "id": "83KRCC8JiPEK",
        "colab_type": "text"
      },
      "cell_type": "markdown",
      "source": [
        "Since each buisness only has three reviews, the rating are not representive the business statistically. So I decide to pull out the rating that directly link to the review."
      ]
    },
    {
      "metadata": {
        "id": "sVEsUmxPk6iT",
        "colab_type": "code",
        "colab": {}
      },
      "cell_type": "code",
      "source": [
        "# collect review\n",
        "List = []\n",
        "\n",
        "for i in range(50):\n",
        "  \n",
        "  try:\n",
        "    a = data[\"businesses\"][i]['id']\n",
        "    ENDPOINT_reviews = 'https://api.yelp.com/v3/businesses/'+ a +'/reviews'\n",
        "    response_reviews = requests.get(url = ENDPOINT_reviews, headers = HEADERS)\n",
        "    \n",
        "    for ii in range(3):\n",
        "      b = response_reviews.json()['reviews'][ii]['user']['id']\n",
        "      c = response_reviews.json()['reviews'][ii]['text']\n",
        "      d = response_reviews.json()['reviews'][ii]['rating']\n",
        "      \n",
        "      List.append([a,b,c,d])\n",
        "      \n",
        "  except:\n",
        "    List.append([a, None, None, None])\n",
        "    #pass"
      ],
      "execution_count": 0,
      "outputs": []
    },
    {
      "metadata": {
        "id": "q04GXVW9nuPJ",
        "colab_type": "code",
        "colab": {
          "base_uri": "https://localhost:8080/",
          "height": 272
        },
        "outputId": "890b2991-fd28-479f-f79e-6d33eda9051e"
      },
      "cell_type": "code",
      "source": [
        "df_total = pd.DataFrame(List, columns = [\"buss_id\", \"user_id\", \"review\", \"rating\"])\n",
        "df_total.head()"
      ],
      "execution_count": 31,
      "outputs": [
        {
          "output_type": "execute_result",
          "data": {
            "text/html": [
              "<div>\n",
              "<style scoped>\n",
              "    .dataframe tbody tr th:only-of-type {\n",
              "        vertical-align: middle;\n",
              "    }\n",
              "\n",
              "    .dataframe tbody tr th {\n",
              "        vertical-align: top;\n",
              "    }\n",
              "\n",
              "    .dataframe thead th {\n",
              "        text-align: right;\n",
              "    }\n",
              "</style>\n",
              "<table border=\"1\" class=\"dataframe\">\n",
              "  <thead>\n",
              "    <tr style=\"text-align: right;\">\n",
              "      <th></th>\n",
              "      <th>buss_id</th>\n",
              "      <th>user_id</th>\n",
              "      <th>review</th>\n",
              "      <th>rating</th>\n",
              "    </tr>\n",
              "  </thead>\n",
              "  <tbody>\n",
              "    <tr>\n",
              "      <th>0</th>\n",
              "      <td>5WHpzFh-ZbTBY919PlZPTw</td>\n",
              "      <td>KVKIvMY5gL5scNgexlENiQ</td>\n",
              "      <td>I have been here at 630 am and the staff is al...</td>\n",
              "      <td>4.0</td>\n",
              "    </tr>\n",
              "    <tr>\n",
              "      <th>1</th>\n",
              "      <td>5WHpzFh-ZbTBY919PlZPTw</td>\n",
              "      <td>Xx4lFM_a8mMsfnzJpsN4Zw</td>\n",
              "      <td>Horrible experience this morning ,app orders s...</td>\n",
              "      <td>2.0</td>\n",
              "    </tr>\n",
              "    <tr>\n",
              "      <th>2</th>\n",
              "      <td>5WHpzFh-ZbTBY919PlZPTw</td>\n",
              "      <td>vmWuNyhSeqeKsLvRtOnYQQ</td>\n",
              "      <td>Can't say I'm a \"regular\" at Starbucks, but I ...</td>\n",
              "      <td>3.0</td>\n",
              "    </tr>\n",
              "    <tr>\n",
              "      <th>3</th>\n",
              "      <td>AJR1lIu3RzgC8bgCk2tFog</td>\n",
              "      <td>L261dYh3HYs28hnYs23yIQ</td>\n",
              "      <td>I arrived extremely early in NY so I decided t...</td>\n",
              "      <td>3.0</td>\n",
              "    </tr>\n",
              "    <tr>\n",
              "      <th>4</th>\n",
              "      <td>AJR1lIu3RzgC8bgCk2tFog</td>\n",
              "      <td>HQ1kFlb7JO8nr-LZwbfEdA</td>\n",
              "      <td>When I was younger, I used to play a game with...</td>\n",
              "      <td>3.0</td>\n",
              "    </tr>\n",
              "  </tbody>\n",
              "</table>\n",
              "</div>"
            ],
            "text/plain": [
              "                  buss_id                 user_id  \\\n",
              "0  5WHpzFh-ZbTBY919PlZPTw  KVKIvMY5gL5scNgexlENiQ   \n",
              "1  5WHpzFh-ZbTBY919PlZPTw  Xx4lFM_a8mMsfnzJpsN4Zw   \n",
              "2  5WHpzFh-ZbTBY919PlZPTw  vmWuNyhSeqeKsLvRtOnYQQ   \n",
              "3  AJR1lIu3RzgC8bgCk2tFog  L261dYh3HYs28hnYs23yIQ   \n",
              "4  AJR1lIu3RzgC8bgCk2tFog  HQ1kFlb7JO8nr-LZwbfEdA   \n",
              "\n",
              "                                              review  rating  \n",
              "0  I have been here at 630 am and the staff is al...     4.0  \n",
              "1  Horrible experience this morning ,app orders s...     2.0  \n",
              "2  Can't say I'm a \"regular\" at Starbucks, but I ...     3.0  \n",
              "3  I arrived extremely early in NY so I decided t...     3.0  \n",
              "4  When I was younger, I used to play a game with...     3.0  "
            ]
          },
          "metadata": {
            "tags": []
          },
          "execution_count": 31
        }
      ]
    },
    {
      "metadata": {
        "id": "eJ6SUBEIpBlb",
        "colab_type": "code",
        "colab": {}
      },
      "cell_type": "code",
      "source": [
        "df_total = df_total[~df_total['review'].isnull()] # remove missing data"
      ],
      "execution_count": 0,
      "outputs": []
    },
    {
      "metadata": {
        "id": "k7pASarApvAu",
        "colab_type": "code",
        "colab": {
          "base_uri": "https://localhost:8080/",
          "height": 54
        },
        "outputId": "8203f019-f150-4347-a1a8-9638bd3c5118"
      },
      "cell_type": "code",
      "source": [
        "df_total['review'][20]"
      ],
      "execution_count": 67,
      "outputs": [
        {
          "output_type": "execute_result",
          "data": {
            "text/plain": [
              "'Yeah, the low ratings are accurate. The wait staff was rude--I got a nasty look and an admonition to wait at the end of the bar for my food, and ten minutes...'"
            ]
          },
          "metadata": {
            "tags": []
          },
          "execution_count": 67
        }
      ]
    },
    {
      "metadata": {
        "id": "tUpcmaNzhmXU",
        "colab_type": "code",
        "colab": {}
      },
      "cell_type": "code",
      "source": [
        "#df_total['review_len'] = df_total['review'].astype(str).apply(len)\n",
        "df_total['word_count'] = df_total['review'].apply(lambda x: len(str(x).split()))\n",
        "df_total['Polarity'] = [TextBlob(x).sentiment[0] for x in df_total['review'] ]\n",
        "df_total['Subjectivity'] = [TextBlob(x).sentiment[1] for x in df_total['review'] ]\n"
      ],
      "execution_count": 0,
      "outputs": []
    },
    {
      "metadata": {
        "id": "6QGxOym83dBr",
        "colab_type": "code",
        "colab": {
          "base_uri": "https://localhost:8080/",
          "height": 632
        },
        "outputId": "90fa6bec-4ec4-449f-94e3-d12ed94965f5"
      },
      "cell_type": "code",
      "source": [
        "df_total.head()"
      ],
      "execution_count": 64,
      "outputs": [
        {
          "output_type": "execute_result",
          "data": {
            "text/html": [
              "<div>\n",
              "<style scoped>\n",
              "    .dataframe tbody tr th:only-of-type {\n",
              "        vertical-align: middle;\n",
              "    }\n",
              "\n",
              "    .dataframe tbody tr th {\n",
              "        vertical-align: top;\n",
              "    }\n",
              "\n",
              "    .dataframe thead th {\n",
              "        text-align: right;\n",
              "    }\n",
              "</style>\n",
              "<table border=\"1\" class=\"dataframe\">\n",
              "  <thead>\n",
              "    <tr style=\"text-align: right;\">\n",
              "      <th></th>\n",
              "      <th>buss_id</th>\n",
              "      <th>user_id</th>\n",
              "      <th>review</th>\n",
              "      <th>rating</th>\n",
              "      <th>word_count</th>\n",
              "      <th>Polarity</th>\n",
              "      <th>Subjectivity</th>\n",
              "    </tr>\n",
              "  </thead>\n",
              "  <tbody>\n",
              "    <tr>\n",
              "      <th>0</th>\n",
              "      <td>5WHpzFh-ZbTBY919PlZPTw</td>\n",
              "      <td>KVKIvMY5gL5scNgexlENiQ</td>\n",
              "      <td>I have been here at 630 am and the staff is al...</td>\n",
              "      <td>4.0</td>\n",
              "      <td>32</td>\n",
              "      <td>0.733333</td>\n",
              "      <td>0.966667</td>\n",
              "    </tr>\n",
              "    <tr>\n",
              "      <th>1</th>\n",
              "      <td>5WHpzFh-ZbTBY919PlZPTw</td>\n",
              "      <td>Xx4lFM_a8mMsfnzJpsN4Zw</td>\n",
              "      <td>Horrible experience this morning ,app orders s...</td>\n",
              "      <td>2.0</td>\n",
              "      <td>28</td>\n",
              "      <td>-0.266667</td>\n",
              "      <td>0.700000</td>\n",
              "    </tr>\n",
              "    <tr>\n",
              "      <th>2</th>\n",
              "      <td>5WHpzFh-ZbTBY919PlZPTw</td>\n",
              "      <td>vmWuNyhSeqeKsLvRtOnYQQ</td>\n",
              "      <td>Can't say I'm a \"regular\" at Starbucks, but I ...</td>\n",
              "      <td>3.0</td>\n",
              "      <td>27</td>\n",
              "      <td>0.250000</td>\n",
              "      <td>0.538462</td>\n",
              "    </tr>\n",
              "    <tr>\n",
              "      <th>3</th>\n",
              "      <td>AJR1lIu3RzgC8bgCk2tFog</td>\n",
              "      <td>L261dYh3HYs28hnYs23yIQ</td>\n",
              "      <td>I arrived extremely early in NY so I decided t...</td>\n",
              "      <td>3.0</td>\n",
              "      <td>29</td>\n",
              "      <td>0.100000</td>\n",
              "      <td>0.300000</td>\n",
              "    </tr>\n",
              "    <tr>\n",
              "      <th>4</th>\n",
              "      <td>AJR1lIu3RzgC8bgCk2tFog</td>\n",
              "      <td>HQ1kFlb7JO8nr-LZwbfEdA</td>\n",
              "      <td>When I was younger, I used to play a game with...</td>\n",
              "      <td>3.0</td>\n",
              "      <td>28</td>\n",
              "      <td>-0.133333</td>\n",
              "      <td>0.300000</td>\n",
              "    </tr>\n",
              "  </tbody>\n",
              "</table>\n",
              "</div>"
            ],
            "text/plain": [
              "                  buss_id                 user_id  \\\n",
              "0  5WHpzFh-ZbTBY919PlZPTw  KVKIvMY5gL5scNgexlENiQ   \n",
              "1  5WHpzFh-ZbTBY919PlZPTw  Xx4lFM_a8mMsfnzJpsN4Zw   \n",
              "2  5WHpzFh-ZbTBY919PlZPTw  vmWuNyhSeqeKsLvRtOnYQQ   \n",
              "3  AJR1lIu3RzgC8bgCk2tFog  L261dYh3HYs28hnYs23yIQ   \n",
              "4  AJR1lIu3RzgC8bgCk2tFog  HQ1kFlb7JO8nr-LZwbfEdA   \n",
              "\n",
              "                                              review  rating  word_count  \\\n",
              "0  I have been here at 630 am and the staff is al...     4.0          32   \n",
              "1  Horrible experience this morning ,app orders s...     2.0          28   \n",
              "2  Can't say I'm a \"regular\" at Starbucks, but I ...     3.0          27   \n",
              "3  I arrived extremely early in NY so I decided t...     3.0          29   \n",
              "4  When I was younger, I used to play a game with...     3.0          28   \n",
              "\n",
              "   Polarity  Subjectivity  \n",
              "0  0.733333      0.966667  \n",
              "1 -0.266667      0.700000  \n",
              "2  0.250000      0.538462  \n",
              "3  0.100000      0.300000  \n",
              "4 -0.133333      0.300000  "
            ]
          },
          "metadata": {
            "tags": []
          },
          "execution_count": 64
        }
      ]
    },
    {
      "metadata": {
        "id": "Y9ck0HI4C-bU",
        "colab_type": "code",
        "colab": {}
      },
      "cell_type": "code",
      "source": [
        "#save file to Google Drive\n",
        "df_total.to_csv(base_dir + 'export_review_rate.csv', index = None, header=True) #Don't forget to add '.csv' at the end of the path\n"
      ],
      "execution_count": 0,
      "outputs": []
    },
    {
      "metadata": {
        "id": "mzfUOZl6vzOP",
        "colab_type": "code",
        "colab": {
          "base_uri": "https://localhost:8080/",
          "height": 2000
        },
        "outputId": "415995a2-b7ed-49b4-fee9-6b8f74893cf0"
      },
      "cell_type": "code",
      "source": [
        "df_total.groupby(['user_id']).count().sort_values([\"buss_id\"],ascending=False)"
      ],
      "execution_count": 81,
      "outputs": [
        {
          "output_type": "execute_result",
          "data": {
            "text/html": [
              "<div>\n",
              "<style scoped>\n",
              "    .dataframe tbody tr th:only-of-type {\n",
              "        vertical-align: middle;\n",
              "    }\n",
              "\n",
              "    .dataframe tbody tr th {\n",
              "        vertical-align: top;\n",
              "    }\n",
              "\n",
              "    .dataframe thead th {\n",
              "        text-align: right;\n",
              "    }\n",
              "</style>\n",
              "<table border=\"1\" class=\"dataframe\">\n",
              "  <thead>\n",
              "    <tr style=\"text-align: right;\">\n",
              "      <th></th>\n",
              "      <th>buss_id</th>\n",
              "      <th>review</th>\n",
              "      <th>rating</th>\n",
              "      <th>word_count</th>\n",
              "      <th>Polarity</th>\n",
              "      <th>Subjectivity</th>\n",
              "    </tr>\n",
              "    <tr>\n",
              "      <th>user_id</th>\n",
              "      <th></th>\n",
              "      <th></th>\n",
              "      <th></th>\n",
              "      <th></th>\n",
              "      <th></th>\n",
              "      <th></th>\n",
              "    </tr>\n",
              "  </thead>\n",
              "  <tbody>\n",
              "    <tr>\n",
              "      <th>Hi10sGSZNxQH3NLyWSZ1oA</th>\n",
              "      <td>3</td>\n",
              "      <td>3</td>\n",
              "      <td>3</td>\n",
              "      <td>3</td>\n",
              "      <td>3</td>\n",
              "      <td>3</td>\n",
              "    </tr>\n",
              "    <tr>\n",
              "      <th>YttDgOC9AlM4HcAlDsbB2A</th>\n",
              "      <td>2</td>\n",
              "      <td>2</td>\n",
              "      <td>2</td>\n",
              "      <td>2</td>\n",
              "      <td>2</td>\n",
              "      <td>2</td>\n",
              "    </tr>\n",
              "    <tr>\n",
              "      <th>38dPWgd8DRM-I5x4Qr6Fsw</th>\n",
              "      <td>2</td>\n",
              "      <td>2</td>\n",
              "      <td>2</td>\n",
              "      <td>2</td>\n",
              "      <td>2</td>\n",
              "      <td>2</td>\n",
              "    </tr>\n",
              "    <tr>\n",
              "      <th>ES9iOw3bysnt7kd_kzUMXg</th>\n",
              "      <td>2</td>\n",
              "      <td>2</td>\n",
              "      <td>2</td>\n",
              "      <td>2</td>\n",
              "      <td>2</td>\n",
              "      <td>2</td>\n",
              "    </tr>\n",
              "    <tr>\n",
              "      <th>KVKIvMY5gL5scNgexlENiQ</th>\n",
              "      <td>2</td>\n",
              "      <td>2</td>\n",
              "      <td>2</td>\n",
              "      <td>2</td>\n",
              "      <td>2</td>\n",
              "      <td>2</td>\n",
              "    </tr>\n",
              "    <tr>\n",
              "      <th>tfLA8WgftF0skR7skllD0w</th>\n",
              "      <td>2</td>\n",
              "      <td>2</td>\n",
              "      <td>2</td>\n",
              "      <td>2</td>\n",
              "      <td>2</td>\n",
              "      <td>2</td>\n",
              "    </tr>\n",
              "    <tr>\n",
              "      <th>hrvigsJKZQo-u17_0NOvaw</th>\n",
              "      <td>2</td>\n",
              "      <td>2</td>\n",
              "      <td>2</td>\n",
              "      <td>2</td>\n",
              "      <td>2</td>\n",
              "      <td>2</td>\n",
              "    </tr>\n",
              "    <tr>\n",
              "      <th>3aOeVccmezfYCRBT9tP7Ng</th>\n",
              "      <td>2</td>\n",
              "      <td>2</td>\n",
              "      <td>2</td>\n",
              "      <td>2</td>\n",
              "      <td>2</td>\n",
              "      <td>2</td>\n",
              "    </tr>\n",
              "    <tr>\n",
              "      <th>6pbNMgTnSYrtPHDN07IXwA</th>\n",
              "      <td>2</td>\n",
              "      <td>2</td>\n",
              "      <td>2</td>\n",
              "      <td>2</td>\n",
              "      <td>2</td>\n",
              "      <td>2</td>\n",
              "    </tr>\n",
              "    <tr>\n",
              "      <th>wRq5ZTtytlyRRr0jAllklA</th>\n",
              "      <td>2</td>\n",
              "      <td>2</td>\n",
              "      <td>2</td>\n",
              "      <td>2</td>\n",
              "      <td>2</td>\n",
              "      <td>2</td>\n",
              "    </tr>\n",
              "    <tr>\n",
              "      <th>wce0tudXf9BCeWhQRr0TiA</th>\n",
              "      <td>2</td>\n",
              "      <td>2</td>\n",
              "      <td>2</td>\n",
              "      <td>2</td>\n",
              "      <td>2</td>\n",
              "      <td>2</td>\n",
              "    </tr>\n",
              "    <tr>\n",
              "      <th>l0MBP2olaZc5_SP5nWTCWg</th>\n",
              "      <td>2</td>\n",
              "      <td>2</td>\n",
              "      <td>2</td>\n",
              "      <td>2</td>\n",
              "      <td>2</td>\n",
              "      <td>2</td>\n",
              "    </tr>\n",
              "    <tr>\n",
              "      <th>fHIn0GZWRvg8l5qbWRbN_g</th>\n",
              "      <td>2</td>\n",
              "      <td>2</td>\n",
              "      <td>2</td>\n",
              "      <td>2</td>\n",
              "      <td>2</td>\n",
              "      <td>2</td>\n",
              "    </tr>\n",
              "    <tr>\n",
              "      <th>jkjNqqRan2jTImPzbK5DqA</th>\n",
              "      <td>1</td>\n",
              "      <td>1</td>\n",
              "      <td>1</td>\n",
              "      <td>1</td>\n",
              "      <td>1</td>\n",
              "      <td>1</td>\n",
              "    </tr>\n",
              "    <tr>\n",
              "      <th>kEVYuzPxo-JAo8RKmRB7yA</th>\n",
              "      <td>1</td>\n",
              "      <td>1</td>\n",
              "      <td>1</td>\n",
              "      <td>1</td>\n",
              "      <td>1</td>\n",
              "      <td>1</td>\n",
              "    </tr>\n",
              "    <tr>\n",
              "      <th>hlb7l_e1Z78I9h0zsknuaA</th>\n",
              "      <td>1</td>\n",
              "      <td>1</td>\n",
              "      <td>1</td>\n",
              "      <td>1</td>\n",
              "      <td>1</td>\n",
              "      <td>1</td>\n",
              "    </tr>\n",
              "    <tr>\n",
              "      <th>hMCdGj-5RFcMkCA4bE28Cg</th>\n",
              "      <td>1</td>\n",
              "      <td>1</td>\n",
              "      <td>1</td>\n",
              "      <td>1</td>\n",
              "      <td>1</td>\n",
              "      <td>1</td>\n",
              "    </tr>\n",
              "    <tr>\n",
              "      <th>hC8xB5hWEkFS38QeJH7mSQ</th>\n",
              "      <td>1</td>\n",
              "      <td>1</td>\n",
              "      <td>1</td>\n",
              "      <td>1</td>\n",
              "      <td>1</td>\n",
              "      <td>1</td>\n",
              "    </tr>\n",
              "    <tr>\n",
              "      <th>kjKLL1Inyqy33TjJFGlHDA</th>\n",
              "      <td>1</td>\n",
              "      <td>1</td>\n",
              "      <td>1</td>\n",
              "      <td>1</td>\n",
              "      <td>1</td>\n",
              "      <td>1</td>\n",
              "    </tr>\n",
              "    <tr>\n",
              "      <th>koCmHPtoVzpu8sXJTxPI7g</th>\n",
              "      <td>1</td>\n",
              "      <td>1</td>\n",
              "      <td>1</td>\n",
              "      <td>1</td>\n",
              "      <td>1</td>\n",
              "      <td>1</td>\n",
              "    </tr>\n",
              "    <tr>\n",
              "      <th>gbbPmcwT66ET6xJekRsSaQ</th>\n",
              "      <td>1</td>\n",
              "      <td>1</td>\n",
              "      <td>1</td>\n",
              "      <td>1</td>\n",
              "      <td>1</td>\n",
              "      <td>1</td>\n",
              "    </tr>\n",
              "    <tr>\n",
              "      <th>dils1_8BuzqAeFLbzv8MHg</th>\n",
              "      <td>1</td>\n",
              "      <td>1</td>\n",
              "      <td>1</td>\n",
              "      <td>1</td>\n",
              "      <td>1</td>\n",
              "      <td>1</td>\n",
              "    </tr>\n",
              "    <tr>\n",
              "      <th>f-Ke5owl3vuHxObmd67_Og</th>\n",
              "      <td>1</td>\n",
              "      <td>1</td>\n",
              "      <td>1</td>\n",
              "      <td>1</td>\n",
              "      <td>1</td>\n",
              "      <td>1</td>\n",
              "    </tr>\n",
              "    <tr>\n",
              "      <th>eCy43X201JNHYKbPDN8xpA</th>\n",
              "      <td>1</td>\n",
              "      <td>1</td>\n",
              "      <td>1</td>\n",
              "      <td>1</td>\n",
              "      <td>1</td>\n",
              "      <td>1</td>\n",
              "    </tr>\n",
              "    <tr>\n",
              "      <th>eBQif58aCcJ_OJlI5VOquA</th>\n",
              "      <td>1</td>\n",
              "      <td>1</td>\n",
              "      <td>1</td>\n",
              "      <td>1</td>\n",
              "      <td>1</td>\n",
              "      <td>1</td>\n",
              "    </tr>\n",
              "    <tr>\n",
              "      <th>bqXKmkg2GzwNrjrjHGM5Lg</th>\n",
              "      <td>1</td>\n",
              "      <td>1</td>\n",
              "      <td>1</td>\n",
              "      <td>1</td>\n",
              "      <td>1</td>\n",
              "      <td>1</td>\n",
              "    </tr>\n",
              "    <tr>\n",
              "      <th>bhZcelJrT0fp7v1WlJoOWw</th>\n",
              "      <td>1</td>\n",
              "      <td>1</td>\n",
              "      <td>1</td>\n",
              "      <td>1</td>\n",
              "      <td>1</td>\n",
              "      <td>1</td>\n",
              "    </tr>\n",
              "    <tr>\n",
              "      <th>bPdlbHrw9YTo6m6WMQbN5g</th>\n",
              "      <td>1</td>\n",
              "      <td>1</td>\n",
              "      <td>1</td>\n",
              "      <td>1</td>\n",
              "      <td>1</td>\n",
              "      <td>1</td>\n",
              "    </tr>\n",
              "    <tr>\n",
              "      <th>azsJSVc5HtVZC0Iub0Tw1Q</th>\n",
              "      <td>1</td>\n",
              "      <td>1</td>\n",
              "      <td>1</td>\n",
              "      <td>1</td>\n",
              "      <td>1</td>\n",
              "      <td>1</td>\n",
              "    </tr>\n",
              "    <tr>\n",
              "      <th>ayOnVoGxXpPg4aU9Xajssg</th>\n",
              "      <td>1</td>\n",
              "      <td>1</td>\n",
              "      <td>1</td>\n",
              "      <td>1</td>\n",
              "      <td>1</td>\n",
              "      <td>1</td>\n",
              "    </tr>\n",
              "    <tr>\n",
              "      <th>...</th>\n",
              "      <td>...</td>\n",
              "      <td>...</td>\n",
              "      <td>...</td>\n",
              "      <td>...</td>\n",
              "      <td>...</td>\n",
              "      <td>...</td>\n",
              "    </tr>\n",
              "    <tr>\n",
              "      <th>CIH4QMBy5R5qUBqo861lIw</th>\n",
              "      <td>1</td>\n",
              "      <td>1</td>\n",
              "      <td>1</td>\n",
              "      <td>1</td>\n",
              "      <td>1</td>\n",
              "      <td>1</td>\n",
              "    </tr>\n",
              "    <tr>\n",
              "      <th>C_SXjo805ECOlzQNLJBmCg</th>\n",
              "      <td>1</td>\n",
              "      <td>1</td>\n",
              "      <td>1</td>\n",
              "      <td>1</td>\n",
              "      <td>1</td>\n",
              "      <td>1</td>\n",
              "    </tr>\n",
              "    <tr>\n",
              "      <th>-FZBTkAZEXoP7CYvRV2ZwQ</th>\n",
              "      <td>1</td>\n",
              "      <td>1</td>\n",
              "      <td>1</td>\n",
              "      <td>1</td>\n",
              "      <td>1</td>\n",
              "      <td>1</td>\n",
              "    </tr>\n",
              "    <tr>\n",
              "      <th>Xx4lFM_a8mMsfnzJpsN4Zw</th>\n",
              "      <td>1</td>\n",
              "      <td>1</td>\n",
              "      <td>1</td>\n",
              "      <td>1</td>\n",
              "      <td>1</td>\n",
              "      <td>1</td>\n",
              "    </tr>\n",
              "    <tr>\n",
              "      <th>V4BL4o4q6PMbhiGrfYn0wA</th>\n",
              "      <td>1</td>\n",
              "      <td>1</td>\n",
              "      <td>1</td>\n",
              "      <td>1</td>\n",
              "      <td>1</td>\n",
              "      <td>1</td>\n",
              "    </tr>\n",
              "    <tr>\n",
              "      <th>Uv4mDHonpD2XdvRXiUv_Xg</th>\n",
              "      <td>1</td>\n",
              "      <td>1</td>\n",
              "      <td>1</td>\n",
              "      <td>1</td>\n",
              "      <td>1</td>\n",
              "      <td>1</td>\n",
              "    </tr>\n",
              "    <tr>\n",
              "      <th>UhkuEEnEh9nHOl-QsYOksg</th>\n",
              "      <td>1</td>\n",
              "      <td>1</td>\n",
              "      <td>1</td>\n",
              "      <td>1</td>\n",
              "      <td>1</td>\n",
              "      <td>1</td>\n",
              "    </tr>\n",
              "    <tr>\n",
              "      <th>UKSw9kfoBfdatSMUl-jGnA</th>\n",
              "      <td>1</td>\n",
              "      <td>1</td>\n",
              "      <td>1</td>\n",
              "      <td>1</td>\n",
              "      <td>1</td>\n",
              "      <td>1</td>\n",
              "    </tr>\n",
              "    <tr>\n",
              "      <th>U1RVZKtKM4cGCXfoeqSC1Q</th>\n",
              "      <td>1</td>\n",
              "      <td>1</td>\n",
              "      <td>1</td>\n",
              "      <td>1</td>\n",
              "      <td>1</td>\n",
              "      <td>1</td>\n",
              "    </tr>\n",
              "    <tr>\n",
              "      <th>ToGj_fIW20YLhFRznh9sHg</th>\n",
              "      <td>1</td>\n",
              "      <td>1</td>\n",
              "      <td>1</td>\n",
              "      <td>1</td>\n",
              "      <td>1</td>\n",
              "      <td>1</td>\n",
              "    </tr>\n",
              "    <tr>\n",
              "      <th>T-BDLpJPZQZKlZvWiovY7Q</th>\n",
              "      <td>1</td>\n",
              "      <td>1</td>\n",
              "      <td>1</td>\n",
              "      <td>1</td>\n",
              "      <td>1</td>\n",
              "      <td>1</td>\n",
              "    </tr>\n",
              "    <tr>\n",
              "      <th>Rt2Eh-yUqk4zU27ikmLCdw</th>\n",
              "      <td>1</td>\n",
              "      <td>1</td>\n",
              "      <td>1</td>\n",
              "      <td>1</td>\n",
              "      <td>1</td>\n",
              "      <td>1</td>\n",
              "    </tr>\n",
              "    <tr>\n",
              "      <th>RCGf7uijqtwOaCecsTElrw</th>\n",
              "      <td>1</td>\n",
              "      <td>1</td>\n",
              "      <td>1</td>\n",
              "      <td>1</td>\n",
              "      <td>1</td>\n",
              "      <td>1</td>\n",
              "    </tr>\n",
              "    <tr>\n",
              "      <th>PV7wPkH5CTTQKmF4U-WnBw</th>\n",
              "      <td>1</td>\n",
              "      <td>1</td>\n",
              "      <td>1</td>\n",
              "      <td>1</td>\n",
              "      <td>1</td>\n",
              "      <td>1</td>\n",
              "    </tr>\n",
              "    <tr>\n",
              "      <th>Od12Vlr4wlH7k8fBDMxVjg</th>\n",
              "      <td>1</td>\n",
              "      <td>1</td>\n",
              "      <td>1</td>\n",
              "      <td>1</td>\n",
              "      <td>1</td>\n",
              "      <td>1</td>\n",
              "    </tr>\n",
              "    <tr>\n",
              "      <th>NjEb7_-m9OuukSt22Z4JaQ</th>\n",
              "      <td>1</td>\n",
              "      <td>1</td>\n",
              "      <td>1</td>\n",
              "      <td>1</td>\n",
              "      <td>1</td>\n",
              "      <td>1</td>\n",
              "    </tr>\n",
              "    <tr>\n",
              "      <th>LE7sv_nv3UO8Yvtw1E2Pig</th>\n",
              "      <td>1</td>\n",
              "      <td>1</td>\n",
              "      <td>1</td>\n",
              "      <td>1</td>\n",
              "      <td>1</td>\n",
              "      <td>1</td>\n",
              "    </tr>\n",
              "    <tr>\n",
              "      <th>L261dYh3HYs28hnYs23yIQ</th>\n",
              "      <td>1</td>\n",
              "      <td>1</td>\n",
              "      <td>1</td>\n",
              "      <td>1</td>\n",
              "      <td>1</td>\n",
              "      <td>1</td>\n",
              "    </tr>\n",
              "    <tr>\n",
              "      <th>J_NZejScaR5_D6LerjASew</th>\n",
              "      <td>1</td>\n",
              "      <td>1</td>\n",
              "      <td>1</td>\n",
              "      <td>1</td>\n",
              "      <td>1</td>\n",
              "      <td>1</td>\n",
              "    </tr>\n",
              "    <tr>\n",
              "      <th>JM7iBT1tkW0ddm76H-TGXQ</th>\n",
              "      <td>1</td>\n",
              "      <td>1</td>\n",
              "      <td>1</td>\n",
              "      <td>1</td>\n",
              "      <td>1</td>\n",
              "      <td>1</td>\n",
              "    </tr>\n",
              "    <tr>\n",
              "      <th>J8GA0RaZ1PH0BpaZ4s45Ww</th>\n",
              "      <td>1</td>\n",
              "      <td>1</td>\n",
              "      <td>1</td>\n",
              "      <td>1</td>\n",
              "      <td>1</td>\n",
              "      <td>1</td>\n",
              "    </tr>\n",
              "    <tr>\n",
              "      <th>In1DHpy_5E6ESJFSTDyBCQ</th>\n",
              "      <td>1</td>\n",
              "      <td>1</td>\n",
              "      <td>1</td>\n",
              "      <td>1</td>\n",
              "      <td>1</td>\n",
              "      <td>1</td>\n",
              "    </tr>\n",
              "    <tr>\n",
              "      <th>IAl37etHtGwbFewjqKu87A</th>\n",
              "      <td>1</td>\n",
              "      <td>1</td>\n",
              "      <td>1</td>\n",
              "      <td>1</td>\n",
              "      <td>1</td>\n",
              "      <td>1</td>\n",
              "    </tr>\n",
              "    <tr>\n",
              "      <th>HQ1kFlb7JO8nr-LZwbfEdA</th>\n",
              "      <td>1</td>\n",
              "      <td>1</td>\n",
              "      <td>1</td>\n",
              "      <td>1</td>\n",
              "      <td>1</td>\n",
              "      <td>1</td>\n",
              "    </tr>\n",
              "    <tr>\n",
              "      <th>GON8Ynfiro1jxnFoWD5jwQ</th>\n",
              "      <td>1</td>\n",
              "      <td>1</td>\n",
              "      <td>1</td>\n",
              "      <td>1</td>\n",
              "      <td>1</td>\n",
              "      <td>1</td>\n",
              "    </tr>\n",
              "    <tr>\n",
              "      <th>GNhZixEu6MOkpWwKnW7XTg</th>\n",
              "      <td>1</td>\n",
              "      <td>1</td>\n",
              "      <td>1</td>\n",
              "      <td>1</td>\n",
              "      <td>1</td>\n",
              "      <td>1</td>\n",
              "    </tr>\n",
              "    <tr>\n",
              "      <th>Fje-V_SH8douRePG7XaRzw</th>\n",
              "      <td>1</td>\n",
              "      <td>1</td>\n",
              "      <td>1</td>\n",
              "      <td>1</td>\n",
              "      <td>1</td>\n",
              "      <td>1</td>\n",
              "    </tr>\n",
              "    <tr>\n",
              "      <th>EuQlgxYHcuSgZ_noD1UaiA</th>\n",
              "      <td>1</td>\n",
              "      <td>1</td>\n",
              "      <td>1</td>\n",
              "      <td>1</td>\n",
              "      <td>1</td>\n",
              "      <td>1</td>\n",
              "    </tr>\n",
              "    <tr>\n",
              "      <th>DdkPEh3f4_2gOZqkxz5vMg</th>\n",
              "      <td>1</td>\n",
              "      <td>1</td>\n",
              "      <td>1</td>\n",
              "      <td>1</td>\n",
              "      <td>1</td>\n",
              "      <td>1</td>\n",
              "    </tr>\n",
              "    <tr>\n",
              "      <th>zh4Agl3sSlYobtgLlePKFQ</th>\n",
              "      <td>1</td>\n",
              "      <td>1</td>\n",
              "      <td>1</td>\n",
              "      <td>1</td>\n",
              "      <td>1</td>\n",
              "      <td>1</td>\n",
              "    </tr>\n",
              "  </tbody>\n",
              "</table>\n",
              "<p>132 rows × 6 columns</p>\n",
              "</div>"
            ],
            "text/plain": [
              "                        buss_id  review  rating  word_count  Polarity  \\\n",
              "user_id                                                                 \n",
              "Hi10sGSZNxQH3NLyWSZ1oA        3       3       3           3         3   \n",
              "YttDgOC9AlM4HcAlDsbB2A        2       2       2           2         2   \n",
              "38dPWgd8DRM-I5x4Qr6Fsw        2       2       2           2         2   \n",
              "ES9iOw3bysnt7kd_kzUMXg        2       2       2           2         2   \n",
              "KVKIvMY5gL5scNgexlENiQ        2       2       2           2         2   \n",
              "tfLA8WgftF0skR7skllD0w        2       2       2           2         2   \n",
              "hrvigsJKZQo-u17_0NOvaw        2       2       2           2         2   \n",
              "3aOeVccmezfYCRBT9tP7Ng        2       2       2           2         2   \n",
              "6pbNMgTnSYrtPHDN07IXwA        2       2       2           2         2   \n",
              "wRq5ZTtytlyRRr0jAllklA        2       2       2           2         2   \n",
              "wce0tudXf9BCeWhQRr0TiA        2       2       2           2         2   \n",
              "l0MBP2olaZc5_SP5nWTCWg        2       2       2           2         2   \n",
              "fHIn0GZWRvg8l5qbWRbN_g        2       2       2           2         2   \n",
              "jkjNqqRan2jTImPzbK5DqA        1       1       1           1         1   \n",
              "kEVYuzPxo-JAo8RKmRB7yA        1       1       1           1         1   \n",
              "hlb7l_e1Z78I9h0zsknuaA        1       1       1           1         1   \n",
              "hMCdGj-5RFcMkCA4bE28Cg        1       1       1           1         1   \n",
              "hC8xB5hWEkFS38QeJH7mSQ        1       1       1           1         1   \n",
              "kjKLL1Inyqy33TjJFGlHDA        1       1       1           1         1   \n",
              "koCmHPtoVzpu8sXJTxPI7g        1       1       1           1         1   \n",
              "gbbPmcwT66ET6xJekRsSaQ        1       1       1           1         1   \n",
              "dils1_8BuzqAeFLbzv8MHg        1       1       1           1         1   \n",
              "f-Ke5owl3vuHxObmd67_Og        1       1       1           1         1   \n",
              "eCy43X201JNHYKbPDN8xpA        1       1       1           1         1   \n",
              "eBQif58aCcJ_OJlI5VOquA        1       1       1           1         1   \n",
              "bqXKmkg2GzwNrjrjHGM5Lg        1       1       1           1         1   \n",
              "bhZcelJrT0fp7v1WlJoOWw        1       1       1           1         1   \n",
              "bPdlbHrw9YTo6m6WMQbN5g        1       1       1           1         1   \n",
              "azsJSVc5HtVZC0Iub0Tw1Q        1       1       1           1         1   \n",
              "ayOnVoGxXpPg4aU9Xajssg        1       1       1           1         1   \n",
              "...                         ...     ...     ...         ...       ...   \n",
              "CIH4QMBy5R5qUBqo861lIw        1       1       1           1         1   \n",
              "C_SXjo805ECOlzQNLJBmCg        1       1       1           1         1   \n",
              "-FZBTkAZEXoP7CYvRV2ZwQ        1       1       1           1         1   \n",
              "Xx4lFM_a8mMsfnzJpsN4Zw        1       1       1           1         1   \n",
              "V4BL4o4q6PMbhiGrfYn0wA        1       1       1           1         1   \n",
              "Uv4mDHonpD2XdvRXiUv_Xg        1       1       1           1         1   \n",
              "UhkuEEnEh9nHOl-QsYOksg        1       1       1           1         1   \n",
              "UKSw9kfoBfdatSMUl-jGnA        1       1       1           1         1   \n",
              "U1RVZKtKM4cGCXfoeqSC1Q        1       1       1           1         1   \n",
              "ToGj_fIW20YLhFRznh9sHg        1       1       1           1         1   \n",
              "T-BDLpJPZQZKlZvWiovY7Q        1       1       1           1         1   \n",
              "Rt2Eh-yUqk4zU27ikmLCdw        1       1       1           1         1   \n",
              "RCGf7uijqtwOaCecsTElrw        1       1       1           1         1   \n",
              "PV7wPkH5CTTQKmF4U-WnBw        1       1       1           1         1   \n",
              "Od12Vlr4wlH7k8fBDMxVjg        1       1       1           1         1   \n",
              "NjEb7_-m9OuukSt22Z4JaQ        1       1       1           1         1   \n",
              "LE7sv_nv3UO8Yvtw1E2Pig        1       1       1           1         1   \n",
              "L261dYh3HYs28hnYs23yIQ        1       1       1           1         1   \n",
              "J_NZejScaR5_D6LerjASew        1       1       1           1         1   \n",
              "JM7iBT1tkW0ddm76H-TGXQ        1       1       1           1         1   \n",
              "J8GA0RaZ1PH0BpaZ4s45Ww        1       1       1           1         1   \n",
              "In1DHpy_5E6ESJFSTDyBCQ        1       1       1           1         1   \n",
              "IAl37etHtGwbFewjqKu87A        1       1       1           1         1   \n",
              "HQ1kFlb7JO8nr-LZwbfEdA        1       1       1           1         1   \n",
              "GON8Ynfiro1jxnFoWD5jwQ        1       1       1           1         1   \n",
              "GNhZixEu6MOkpWwKnW7XTg        1       1       1           1         1   \n",
              "Fje-V_SH8douRePG7XaRzw        1       1       1           1         1   \n",
              "EuQlgxYHcuSgZ_noD1UaiA        1       1       1           1         1   \n",
              "DdkPEh3f4_2gOZqkxz5vMg        1       1       1           1         1   \n",
              "zh4Agl3sSlYobtgLlePKFQ        1       1       1           1         1   \n",
              "\n",
              "                        Subjectivity  \n",
              "user_id                               \n",
              "Hi10sGSZNxQH3NLyWSZ1oA             3  \n",
              "YttDgOC9AlM4HcAlDsbB2A             2  \n",
              "38dPWgd8DRM-I5x4Qr6Fsw             2  \n",
              "ES9iOw3bysnt7kd_kzUMXg             2  \n",
              "KVKIvMY5gL5scNgexlENiQ             2  \n",
              "tfLA8WgftF0skR7skllD0w             2  \n",
              "hrvigsJKZQo-u17_0NOvaw             2  \n",
              "3aOeVccmezfYCRBT9tP7Ng             2  \n",
              "6pbNMgTnSYrtPHDN07IXwA             2  \n",
              "wRq5ZTtytlyRRr0jAllklA             2  \n",
              "wce0tudXf9BCeWhQRr0TiA             2  \n",
              "l0MBP2olaZc5_SP5nWTCWg             2  \n",
              "fHIn0GZWRvg8l5qbWRbN_g             2  \n",
              "jkjNqqRan2jTImPzbK5DqA             1  \n",
              "kEVYuzPxo-JAo8RKmRB7yA             1  \n",
              "hlb7l_e1Z78I9h0zsknuaA             1  \n",
              "hMCdGj-5RFcMkCA4bE28Cg             1  \n",
              "hC8xB5hWEkFS38QeJH7mSQ             1  \n",
              "kjKLL1Inyqy33TjJFGlHDA             1  \n",
              "koCmHPtoVzpu8sXJTxPI7g             1  \n",
              "gbbPmcwT66ET6xJekRsSaQ             1  \n",
              "dils1_8BuzqAeFLbzv8MHg             1  \n",
              "f-Ke5owl3vuHxObmd67_Og             1  \n",
              "eCy43X201JNHYKbPDN8xpA             1  \n",
              "eBQif58aCcJ_OJlI5VOquA             1  \n",
              "bqXKmkg2GzwNrjrjHGM5Lg             1  \n",
              "bhZcelJrT0fp7v1WlJoOWw             1  \n",
              "bPdlbHrw9YTo6m6WMQbN5g             1  \n",
              "azsJSVc5HtVZC0Iub0Tw1Q             1  \n",
              "ayOnVoGxXpPg4aU9Xajssg             1  \n",
              "...                              ...  \n",
              "CIH4QMBy5R5qUBqo861lIw             1  \n",
              "C_SXjo805ECOlzQNLJBmCg             1  \n",
              "-FZBTkAZEXoP7CYvRV2ZwQ             1  \n",
              "Xx4lFM_a8mMsfnzJpsN4Zw             1  \n",
              "V4BL4o4q6PMbhiGrfYn0wA             1  \n",
              "Uv4mDHonpD2XdvRXiUv_Xg             1  \n",
              "UhkuEEnEh9nHOl-QsYOksg             1  \n",
              "UKSw9kfoBfdatSMUl-jGnA             1  \n",
              "U1RVZKtKM4cGCXfoeqSC1Q             1  \n",
              "ToGj_fIW20YLhFRznh9sHg             1  \n",
              "T-BDLpJPZQZKlZvWiovY7Q             1  \n",
              "Rt2Eh-yUqk4zU27ikmLCdw             1  \n",
              "RCGf7uijqtwOaCecsTElrw             1  \n",
              "PV7wPkH5CTTQKmF4U-WnBw             1  \n",
              "Od12Vlr4wlH7k8fBDMxVjg             1  \n",
              "NjEb7_-m9OuukSt22Z4JaQ             1  \n",
              "LE7sv_nv3UO8Yvtw1E2Pig             1  \n",
              "L261dYh3HYs28hnYs23yIQ             1  \n",
              "J_NZejScaR5_D6LerjASew             1  \n",
              "JM7iBT1tkW0ddm76H-TGXQ             1  \n",
              "J8GA0RaZ1PH0BpaZ4s45Ww             1  \n",
              "In1DHpy_5E6ESJFSTDyBCQ             1  \n",
              "IAl37etHtGwbFewjqKu87A             1  \n",
              "HQ1kFlb7JO8nr-LZwbfEdA             1  \n",
              "GON8Ynfiro1jxnFoWD5jwQ             1  \n",
              "GNhZixEu6MOkpWwKnW7XTg             1  \n",
              "Fje-V_SH8douRePG7XaRzw             1  \n",
              "EuQlgxYHcuSgZ_noD1UaiA             1  \n",
              "DdkPEh3f4_2gOZqkxz5vMg             1  \n",
              "zh4Agl3sSlYobtgLlePKFQ             1  \n",
              "\n",
              "[132 rows x 6 columns]"
            ]
          },
          "metadata": {
            "tags": []
          },
          "execution_count": 81
        }
      ]
    },
    {
      "metadata": {
        "id": "WoRQay5Vxji1",
        "colab_type": "code",
        "colab": {
          "base_uri": "https://localhost:8080/",
          "height": 400
        },
        "outputId": "ce047f9d-b66a-4265-ef62-d10aa580e92d"
      },
      "cell_type": "code",
      "source": [
        "df_total[df_total['user_id']==\"Hi10sGSZNxQH3NLyWSZ1oA\"]"
      ],
      "execution_count": 82,
      "outputs": [
        {
          "output_type": "execute_result",
          "data": {
            "text/html": [
              "<div>\n",
              "<style scoped>\n",
              "    .dataframe tbody tr th:only-of-type {\n",
              "        vertical-align: middle;\n",
              "    }\n",
              "\n",
              "    .dataframe tbody tr th {\n",
              "        vertical-align: top;\n",
              "    }\n",
              "\n",
              "    .dataframe thead th {\n",
              "        text-align: right;\n",
              "    }\n",
              "</style>\n",
              "<table border=\"1\" class=\"dataframe\">\n",
              "  <thead>\n",
              "    <tr style=\"text-align: right;\">\n",
              "      <th></th>\n",
              "      <th>buss_id</th>\n",
              "      <th>user_id</th>\n",
              "      <th>review</th>\n",
              "      <th>rating</th>\n",
              "      <th>word_count</th>\n",
              "      <th>Polarity</th>\n",
              "      <th>Subjectivity</th>\n",
              "    </tr>\n",
              "  </thead>\n",
              "  <tbody>\n",
              "    <tr>\n",
              "      <th>131</th>\n",
              "      <td>8NHISsd0gKhyPNJoqhEqnA</td>\n",
              "      <td>Hi10sGSZNxQH3NLyWSZ1oA</td>\n",
              "      <td>Don't sneer at me for reviewing Starbucks. Oth...</td>\n",
              "      <td>3.0</td>\n",
              "      <td>27</td>\n",
              "      <td>0.0</td>\n",
              "      <td>0.5</td>\n",
              "    </tr>\n",
              "    <tr>\n",
              "      <th>138</th>\n",
              "      <td>lSncUPNBY-qs_QOtEOpkVA</td>\n",
              "      <td>Hi10sGSZNxQH3NLyWSZ1oA</td>\n",
              "      <td>I brought my dog in here. He didn't like it. H...</td>\n",
              "      <td>2.0</td>\n",
              "      <td>30</td>\n",
              "      <td>0.2</td>\n",
              "      <td>0.2</td>\n",
              "    </tr>\n",
              "    <tr>\n",
              "      <th>140</th>\n",
              "      <td>UgjaEX9ssUmISd63QdLiyw</td>\n",
              "      <td>Hi10sGSZNxQH3NLyWSZ1oA</td>\n",
              "      <td>I got scared that I was about to pee myself, s...</td>\n",
              "      <td>3.0</td>\n",
              "      <td>30</td>\n",
              "      <td>0.2</td>\n",
              "      <td>0.3</td>\n",
              "    </tr>\n",
              "  </tbody>\n",
              "</table>\n",
              "</div>"
            ],
            "text/plain": [
              "                    buss_id                 user_id  \\\n",
              "131  8NHISsd0gKhyPNJoqhEqnA  Hi10sGSZNxQH3NLyWSZ1oA   \n",
              "138  lSncUPNBY-qs_QOtEOpkVA  Hi10sGSZNxQH3NLyWSZ1oA   \n",
              "140  UgjaEX9ssUmISd63QdLiyw  Hi10sGSZNxQH3NLyWSZ1oA   \n",
              "\n",
              "                                                review  rating  word_count  \\\n",
              "131  Don't sneer at me for reviewing Starbucks. Oth...     3.0          27   \n",
              "138  I brought my dog in here. He didn't like it. H...     2.0          30   \n",
              "140  I got scared that I was about to pee myself, s...     3.0          30   \n",
              "\n",
              "     Polarity  Subjectivity  \n",
              "131       0.0           0.5  \n",
              "138       0.2           0.2  \n",
              "140       0.2           0.3  "
            ]
          },
          "metadata": {
            "tags": []
          },
          "execution_count": 82
        }
      ]
    },
    {
      "metadata": {
        "id": "T1PtmZstufve",
        "colab_type": "code",
        "outputId": "f2b89c25-fec5-4f08-cebd-7b4e3b49e23d",
        "colab": {
          "base_uri": "https://localhost:8080/",
          "height": 378
        }
      },
      "cell_type": "code",
      "source": [
        "sns.countplot(x=\"rating\", data=df_total)"
      ],
      "execution_count": 83,
      "outputs": [
        {
          "output_type": "execute_result",
          "data": {
            "text/plain": [
              "<matplotlib.axes._subplots.AxesSubplot at 0x7fe4add9fb38>"
            ]
          },
          "metadata": {
            "tags": []
          },
          "execution_count": 83
        },
        {
          "output_type": "display_data",
          "data": {
            "image/png": "[encoded data removed]",
            "text/plain": [
              "<Figure size 576x396 with 1 Axes>"
            ]
          },
          "metadata": {
            "tags": []
          }
        }
      ]
    },
    {
      "metadata": {
        "id": "SrCEhWGrfjBK",
        "colab_type": "code",
        "colab": {
          "base_uri": "https://localhost:8080/",
          "height": 364
        },
        "outputId": "122bed4b-5499-468d-8ca2-0da4be127475"
      },
      "cell_type": "code",
      "source": [
        "sns.distplot(df_total[\"word_count\"].values,bins=10,kde=False) "
      ],
      "execution_count": 72,
      "outputs": [
        {
          "output_type": "execute_result",
          "data": {
            "text/plain": [
              "<matplotlib.axes._subplots.AxesSubplot at 0x7fe4adc9b7f0>"
            ]
          },
          "metadata": {
            "tags": []
          },
          "execution_count": 72
        },
        {
          "output_type": "display_data",
          "data": {
            "image/png": "[encoded data removed]",
            "text/plain": [
              "<Figure size 576x396 with 1 Axes>"
            ]
          },
          "metadata": {
            "tags": []
          }
        }
      ]
    },
    {
      "metadata": {
        "id": "h3A27VWxfNgw",
        "colab_type": "code",
        "colab": {
          "base_uri": "https://localhost:8080/",
          "height": 364
        },
        "outputId": "32f4778b-38d4-46ab-a5d0-0de41d80ca3c"
      },
      "cell_type": "code",
      "source": [
        "sns.distplot(df_total[\"Polarity\"].values,bins=10,kde=False)"
      ],
      "execution_count": 73,
      "outputs": [
        {
          "output_type": "execute_result",
          "data": {
            "text/plain": [
              "<matplotlib.axes._subplots.AxesSubplot at 0x7fe4adc869e8>"
            ]
          },
          "metadata": {
            "tags": []
          },
          "execution_count": 73
        },
        {
          "output_type": "display_data",
          "data": {
            "image/png": "[encoded data removed]",
            "text/plain": [
              "<Figure size 576x396 with 1 Axes>"
            ]
          },
          "metadata": {
            "tags": []
          }
        }
      ]
    },
    {
      "metadata": {
        "id": "knPxbRZnwBvo",
        "colab_type": "text"
      },
      "cell_type": "markdown",
      "source": [
        "Howis the review rate correlated to the polarity?"
      ]
    },
    {
      "metadata": {
        "id": "XDPuYl05vMRz",
        "colab_type": "code",
        "outputId": "58a35b13-e3d2-4099-dba1-54b513744f1c",
        "colab": {
          "base_uri": "https://localhost:8080/",
          "height": 378
        }
      },
      "cell_type": "code",
      "source": [
        "sns.boxplot(x=\"rating\", y=\"Polarity\", data=df_total)"
      ],
      "execution_count": 74,
      "outputs": [
        {
          "output_type": "execute_result",
          "data": {
            "text/plain": [
              "<matplotlib.axes._subplots.AxesSubplot at 0x7fe4adcbfb00>"
            ]
          },
          "metadata": {
            "tags": []
          },
          "execution_count": 74
        },
        {
          "output_type": "display_data",
          "data": {
            "image/png": "[encoded data removed]",
            "text/plain": [
              "<Figure size 576x396 with 1 Axes>"
            ]
          },
          "metadata": {
            "tags": []
          }
        }
      ]
    },
    {
      "metadata": {
        "id": "p_3El9NFwTEP",
        "colab_type": "code",
        "outputId": "74b453ad-51ea-40ea-a3ce-32b6dc1cba75",
        "colab": {
          "base_uri": "https://localhost:8080/",
          "height": 378
        }
      },
      "cell_type": "code",
      "source": [
        "sns.boxplot(x=\"rating\", y=\"Subjectivity\", data=df_total)"
      ],
      "execution_count": 75,
      "outputs": [
        {
          "output_type": "execute_result",
          "data": {
            "text/plain": [
              "<matplotlib.axes._subplots.AxesSubplot at 0x7fe4add74cc0>"
            ]
          },
          "metadata": {
            "tags": []
          },
          "execution_count": 75
        },
        {
          "output_type": "display_data",
          "data": {
            "image/png": "[encoded data removed]",
            "text/plain": [
              "<Figure size 576x396 with 1 Axes>"
            ]
          },
          "metadata": {
            "tags": []
          }
        }
      ]
    },
    {
      "metadata": {
        "id": "Dv17fxVBhnv0",
        "colab_type": "text"
      },
      "cell_type": "markdown",
      "source": [
        "Topic Modeling with LSA"
      ]
    },
    {
      "metadata": {
        "id": "S0oPILt-Z-B2",
        "colab_type": "code",
        "colab": {}
      },
      "cell_type": "code",
      "source": [
        "from sklearn.feature_extraction.text import CountVectorizer\n",
        "from sklearn.feature_extraction.text import TfidfVectorizer\n",
        "from sklearn.decomposition import TruncatedSVD\n",
        "from sklearn.decomposition import LatentDirichletAllocation\n",
        "from sklearn.manifold import TSNE\n",
        "from collections import Counter"
      ],
      "execution_count": 0,
      "outputs": []
    },
    {
      "metadata": {
        "id": "ihfc4TZdxXej",
        "colab_type": "code",
        "colab": {}
      },
      "cell_type": "code",
      "source": [
        "reindexed_data = df_total['review']\n",
        "tfidf_vectorizer = TfidfVectorizer(stop_words='english', use_idf=True, smooth_idf=True)\n",
        "reindexed_data = reindexed_data.values\n",
        "document_term_matrix = tfidf_vectorizer.fit_transform(reindexed_data)"
      ],
      "execution_count": 0,
      "outputs": []
    },
    {
      "metadata": {
        "id": "J8MkBajJpNaY",
        "colab_type": "code",
        "colab": {}
      },
      "cell_type": "code",
      "source": [
        "n_topics = 6\n",
        "lsa_model = TruncatedSVD(n_components=n_topics)\n",
        "lsa_topic_matrix = lsa_model.fit_transform(document_term_matrix)"
      ],
      "execution_count": 0,
      "outputs": []
    },
    {
      "metadata": {
        "id": "eZdIRs55ie_e",
        "colab_type": "code",
        "colab": {}
      },
      "cell_type": "code",
      "source": [
        "def get_keys(topic_matrix):\n",
        "    '''\n",
        "    returns an integer list of predicted topic \n",
        "    categories for a given topic matrix\n",
        "    '''\n",
        "    keys = topic_matrix.argmax(axis=1).tolist()\n",
        "    return keys\n",
        "\n",
        "def keys_to_counts(keys):\n",
        "    '''\n",
        "    returns a tuple of topic categories and their \n",
        "    accompanying magnitudes for a given list of keys\n",
        "    '''\n",
        "    count_pairs = Counter(keys).items()\n",
        "    categories = [pair[0] for pair in count_pairs]\n",
        "    counts = [pair[1] for pair in count_pairs]\n",
        "    return (categories, counts)"
      ],
      "execution_count": 0,
      "outputs": []
    },
    {
      "metadata": {
        "id": "LfCZaLk6ih8-",
        "colab_type": "code",
        "colab": {}
      },
      "cell_type": "code",
      "source": [
        "lsa_keys = get_keys(lsa_topic_matrix)\n",
        "lsa_categories, lsa_counts = keys_to_counts(lsa_keys)"
      ],
      "execution_count": 0,
      "outputs": []
    },
    {
      "metadata": {
        "id": "cDw74cmQirdn",
        "colab_type": "code",
        "colab": {}
      },
      "cell_type": "code",
      "source": [
        "def get_top_n_words(n, keys, document_term_matrix, tfidf_vectorizer):\n",
        "    '''\n",
        "    returns a list of n_topic strings, where each string contains the n most common \n",
        "    words in a predicted category, in order\n",
        "    '''\n",
        "    top_word_indices = []\n",
        "    for topic in range(n_topics):\n",
        "        temp_vector_sum = 0\n",
        "        for i in range(len(keys)):\n",
        "            if keys[i] == topic:\n",
        "                temp_vector_sum += document_term_matrix[i]\n",
        "        temp_vector_sum = temp_vector_sum.toarray()\n",
        "        top_n_word_indices = np.flip(np.argsort(temp_vector_sum)[0][-n:],0)\n",
        "        top_word_indices.append(top_n_word_indices)   \n",
        "    top_words = []\n",
        "    for topic in top_word_indices:\n",
        "        topic_words = []\n",
        "        for index in topic:\n",
        "            temp_word_vector = np.zeros((1,document_term_matrix.shape[1]))\n",
        "            temp_word_vector[:,index] = 1\n",
        "            the_word = tfidf_vectorizer.inverse_transform(temp_word_vector)[0][0]\n",
        "            topic_words.append(the_word.encode('ascii').decode('utf-8'))\n",
        "        top_words.append(\" \".join(topic_words))         \n",
        "    return top_words"
      ],
      "execution_count": 0,
      "outputs": []
    },
    {
      "metadata": {
        "id": "N_kRWd1VisU5",
        "colab_type": "code",
        "colab": {
          "base_uri": "https://localhost:8080/",
          "height": 119
        },
        "outputId": "2dfb0f77-ff0d-49cc-a2cb-89022febee7a"
      },
      "cell_type": "code",
      "source": [
        "top_n_words_lsa = get_top_n_words(3, lsa_keys, document_term_matrix, tfidf_vectorizer)\n",
        "\n",
        "for i in range(len(top_n_words_lsa)):\n",
        "    print(\"Topic {}: \".format(i+1), top_n_words_lsa[i])"
      ],
      "execution_count": 50,
      "outputs": [
        {
          "output_type": "stream",
          "text": [
            "Topic 1:  starbucks service location\n",
            "Topic 2:  order minutes got\n",
            "Topic 3:  location busy seating\n",
            "Topic 4:  staff morning small\n",
            "Topic 5:  times line located\n",
            "Topic 6:  best like makes\n"
          ],
          "name": "stdout"
        }
      ]
    },
    {
      "metadata": {
        "id": "y957AvxljXaE",
        "colab_type": "code",
        "colab": {
          "base_uri": "https://localhost:8080/",
          "height": 529
        },
        "outputId": "f119d570-a99e-4b34-cabf-7db36fdc522a"
      },
      "cell_type": "code",
      "source": [
        "top_3_words = get_top_n_words(3, lsa_keys, document_term_matrix, tfidf_vectorizer)\n",
        "labels = ['Topic {}: \\n'.format(i) + top_3_words[i] for i in lsa_categories]\n",
        "\n",
        "fig, ax = plt.subplots(figsize=(16,8))\n",
        "ax.bar(lsa_categories, lsa_counts);\n",
        "ax.set_xticks(lsa_categories);\n",
        "ax.set_xticklabels(labels);\n",
        "ax.set_ylabel('Number of review text');\n",
        "ax.set_title('LSA topic counts');\n",
        "plt.show();"
      ],
      "execution_count": 51,
      "outputs": [
        {
          "output_type": "display_data",
          "data": {
            "image/png": "[encoded data removed]",
            "text/plain": [
              "<Figure size 1152x576 with 1 Axes>"
            ]
          },
          "metadata": {
            "tags": []
          }
        }
      ]
    },
    {
      "metadata": {
        "id": "XcbZuE5stz0N",
        "colab_type": "text"
      },
      "cell_type": "markdown",
      "source": [
        ""
      ]
    }
  ]
}