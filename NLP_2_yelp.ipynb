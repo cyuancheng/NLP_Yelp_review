{
  "nbformat": 4,
  "nbformat_minor": 0,
  "metadata": {
    "colab": {
      "name": "NLP_2_yelp.ipynb",
      "version": "0.3.2",
      "provenance": [],
      "collapsed_sections": [],
      "toc_visible": true,
      "include_colab_link": true
    },
    "kernelspec": {
      "name": "python3",
      "display_name": "Python 3"
    }
  },
  "cells": [
    {
      "cell_type": "markdown",
      "metadata": {
        "id": "view-in-github",
        "colab_type": "text"
      },
      "source": [
        "<a href=\"https://colab.research.google.com/github/cyuancheng/NLP_Yelp_review/blob/master/NLP_2_yelp.ipynb\" target=\"_parent\"><img src=\"https://colab.research.google.com/assets/colab-badge.svg\" alt=\"Open In Colab\"/></a>"
      ]
    },
    {
      "metadata": {
        "id": "2KTF4FByD2_V",
        "colab_type": "text"
      },
      "cell_type": "markdown",
      "source": [
        "##Natural Language Processing and Sentiment Analysis for Yelp##\n",
        "\n",
        "Explore Starbucks review in New York City"
      ]
    },
    {
      "metadata": {
        "id": "Bv_JR_8LHEZS",
        "colab_type": "code",
        "colab": {
          "base_uri": "https://localhost:8080/",
          "height": 71
        },
        "outputId": "d7645da6-6f12-4fa3-ebbb-3dddbf5ddf59"
      },
      "cell_type": "code",
      "source": [
        "import pandas as pd\n",
        "import requests\n",
        "import spacy #use NLP functions\n",
        "from spacy import displacy\n",
        "from textblob import TextBlob\n",
        "import re\n",
        "import matplotlib as mpl\n",
        "import matplotlib.pyplot as plt\n",
        "import seaborn as sns\n",
        "\n",
        "from nltk.sentiment.vader import SentimentIntensityAnalyzer\n",
        "\n",
        "import folium\n",
        "import warnings\n",
        "warnings.filterwarnings(\"ignore\")"
      ],
      "execution_count": 1,
      "outputs": [
        {
          "output_type": "stream",
          "text": [
            "/usr/local/lib/python3.6/dist-packages/nltk/twitter/__init__.py:20: UserWarning: The twython library has not been installed. Some functionality from the twitter package will not be available.\n",
            "  warnings.warn(\"The twython library has not been installed. \"\n"
          ],
          "name": "stderr"
        }
      ]
    },
    {
      "metadata": {
        "id": "izJDv2CqCVF_",
        "colab_type": "code",
        "colab": {
          "base_uri": "https://localhost:8080/",
          "height": 122
        },
        "outputId": "513f903e-a130-4eda-a9e3-c086cad95d61"
      },
      "cell_type": "code",
      "source": [
        "from google.colab import drive\n",
        "drive.mount('/content/gdrive', force_remount=True)\n",
        "root_dir = \"/content/gdrive/My Drive/\"\n",
        "base_dir = root_dir + 'School_of_AI/'"
      ],
      "execution_count": 17,
      "outputs": [
        {
          "output_type": "stream",
          "text": [
            "Go to this URL in a browser: https://accounts.google.com/o/oauth2/auth?client_id=947318989803-6bn6qk8qdgf4n4g3pfee6491hc0brc4i.apps.googleusercontent.com&redirect_uri=urn%3Aietf%3Awg%3Aoauth%3A2.0%3Aoob&scope=email%20https%3A%2F%2Fwww.googleapis.com%2Fauth%2Fdocs.test%20https%3A%2F%2Fwww.googleapis.com%2Fauth%2Fdrive%20https%3A%2F%2Fwww.googleapis.com%2Fauth%2Fdrive.photos.readonly%20https%3A%2F%2Fwww.googleapis.com%2Fauth%2Fpeopleapi.readonly&response_type=code\n",
            "\n",
            "Enter your authorization code:\n",
            "··········\n",
            "Mounted at /content/gdrive\n"
          ],
          "name": "stdout"
        }
      ]
    },
    {
      "metadata": {
        "id": "Ygbx8hErDDno",
        "colab_type": "code",
        "colab": {
          "base_uri": "https://localhost:8080/",
          "height": 34
        },
        "outputId": "35db5584-131d-4b31-fc41-d1978dd17a39"
      },
      "cell_type": "code",
      "source": [
        "base_dir "
      ],
      "execution_count": 18,
      "outputs": [
        {
          "output_type": "execute_result",
          "data": {
            "text/plain": [
              "'/content/gdrive/My Drive/School_of_AI/'"
            ]
          },
          "metadata": {
            "tags": []
          },
          "execution_count": 18
        }
      ]
    },
    {
      "metadata": {
        "id": "5yO9p5IfpbM_",
        "colab_type": "text"
      },
      "cell_type": "markdown",
      "source": [
        "###1. Data pre-process and cleaning###\n",
        "Get data from Yelp api"
      ]
    },
    {
      "metadata": {
        "id": "nu8hn15rl7MQ",
        "colab_type": "code",
        "colab": {}
      },
      "cell_type": "code",
      "source": [
        "#get yelp api (https://www.yelp.com/developers)\n",
        "\n",
        "client_id = 'fl6Gc_WOT5VLrae0o6fc7w' \n",
        "key = 'kArR8ttjf4JdZDtC27-InwcgepdkWrtTcSfaHKwf_JMtQY0LvXgfaG3lmUA3F2oCCp-KUa-W8tPuVXdm8Abwj6N0m0YJniJHVa61rXEFMLuAM11d2IrYSV5NEYGJXHYx'\n",
        "\n",
        "ENDPOINT = 'https://api.yelp.com/v3/businesses/search'\n",
        "\n",
        "HEADERS = {'Authorization':'bearer {}'.format(key)}\n",
        "\n",
        "PARAMETERS = {'term' : 'Starbucks',\n",
        "              'limit':50,\n",
        "             'radius':40000, # meter\n",
        "              'latitude': 40.758862,\n",
        "              'longitude':-73.978663  # Rockefeller Center\n",
        "              #'sort_by' :'review_count', \n",
        "             #'location':\"New York City\"\n",
        "             }\n",
        "\n",
        "response = requests.get(url = ENDPOINT, params = PARAMETERS, headers = HEADERS)"
      ],
      "execution_count": 0,
      "outputs": []
    },
    {
      "metadata": {
        "id": "VXu-5_E-pmI7",
        "colab_type": "text"
      },
      "cell_type": "markdown",
      "source": [
        "- Process/Clean business data"
      ]
    },
    {
      "metadata": {
        "id": "vI-XhgJ7mDaH",
        "colab_type": "code",
        "colab": {}
      },
      "cell_type": "code",
      "source": [
        "data = response.json()"
      ],
      "execution_count": 0,
      "outputs": []
    },
    {
      "metadata": {
        "id": "SsQ8funaVwrd",
        "colab_type": "code",
        "outputId": "4a76b7c0-81b0-4a1d-f8a6-fb277209b4e3",
        "colab": {
          "base_uri": "https://localhost:8080/",
          "height": 428
        }
      },
      "cell_type": "code",
      "source": [
        "data[\"businesses\"][0]"
      ],
      "execution_count": 4,
      "outputs": [
        {
          "output_type": "execute_result",
          "data": {
            "text/plain": [
              "{'alias': 'starbucks-new-york-273',\n",
              " 'categories': [{'alias': 'coffee', 'title': 'Coffee & Tea'}],\n",
              " 'coordinates': {'latitude': 40.758856, 'longitude': -73.978954},\n",
              " 'display_phone': '(212) 397-7950',\n",
              " 'distance': 24.51886376624723,\n",
              " 'id': '5WHpzFh-ZbTBY919PlZPTw',\n",
              " 'image_url': 'https://s3-media2.fl.yelpcdn.com/bphoto/6f8_MgbQJiloz02QX6Oqxw/o.jpg',\n",
              " 'is_closed': False,\n",
              " 'location': {'address1': '30 Rockefeller Plaza',\n",
              "  'address2': '',\n",
              "  'address3': '',\n",
              "  'city': 'New York',\n",
              "  'country': 'US',\n",
              "  'display_address': ['30 Rockefeller Plaza', 'New York, NY 10112'],\n",
              "  'state': 'NY',\n",
              "  'zip_code': '10112'},\n",
              " 'name': 'Starbucks',\n",
              " 'phone': '+12123977950',\n",
              " 'price': '$$',\n",
              " 'rating': 3.0,\n",
              " 'review_count': 72,\n",
              " 'transactions': [],\n",
              " 'url': 'https://www.yelp.com/biz/starbucks-new-york-273?adjust_creative=fl6Gc_WOT5VLrae0o6fc7w&utm_campaign=yelp_api_v3&utm_medium=api_v3_business_search&utm_source=fl6Gc_WOT5VLrae0o6fc7w'}"
            ]
          },
          "metadata": {
            "tags": []
          },
          "execution_count": 4
        }
      ]
    },
    {
      "metadata": {
        "id": "lS1G3_fjGuIl",
        "colab_type": "text"
      },
      "cell_type": "markdown",
      "source": [
        "Next, we can make a list of the businesses with their id, rating, price, and location"
      ]
    },
    {
      "metadata": {
        "id": "N1so2K95L3pl",
        "colab_type": "code",
        "colab": {}
      },
      "cell_type": "code",
      "source": [
        "# list of id in businesses with rating\n",
        "list_buss = []\n",
        "\n",
        "for item in data['businesses']:\n",
        "  try:\n",
        "    list_buss.append([item['id'], item['rating'], item['price'],item['review_count'],\\\n",
        "                      item['coordinates']['latitude'],item['coordinates']['longitude'] ])\n",
        "  except:\n",
        "    list_buss.append([item['id'], item['rating'], None, None, None, None])"
      ],
      "execution_count": 0,
      "outputs": []
    },
    {
      "metadata": {
        "id": "fN9qqsHWG9Ze",
        "colab_type": "code",
        "outputId": "d0ee521f-aae8-49bd-ea6c-8e60a4fc0636",
        "colab": {
          "base_uri": "https://localhost:8080/",
          "height": 204
        }
      },
      "cell_type": "code",
      "source": [
        "# convert to pandas format\n",
        "list_buss = pd.DataFrame(list_buss, columns = ['id','rating','price', 'count', 'latitude','longitude' ])\n",
        "list_buss.head()"
      ],
      "execution_count": 6,
      "outputs": [
        {
          "output_type": "execute_result",
          "data": {
            "text/html": [
              "<div>\n",
              "<style scoped>\n",
              "    .dataframe tbody tr th:only-of-type {\n",
              "        vertical-align: middle;\n",
              "    }\n",
              "\n",
              "    .dataframe tbody tr th {\n",
              "        vertical-align: top;\n",
              "    }\n",
              "\n",
              "    .dataframe thead th {\n",
              "        text-align: right;\n",
              "    }\n",
              "</style>\n",
              "<table border=\"1\" class=\"dataframe\">\n",
              "  <thead>\n",
              "    <tr style=\"text-align: right;\">\n",
              "      <th></th>\n",
              "      <th>id</th>\n",
              "      <th>rating</th>\n",
              "      <th>price</th>\n",
              "      <th>count</th>\n",
              "      <th>latitude</th>\n",
              "      <th>longitude</th>\n",
              "    </tr>\n",
              "  </thead>\n",
              "  <tbody>\n",
              "    <tr>\n",
              "      <th>0</th>\n",
              "      <td>5WHpzFh-ZbTBY919PlZPTw</td>\n",
              "      <td>3.0</td>\n",
              "      <td>$$</td>\n",
              "      <td>72.0</td>\n",
              "      <td>40.758856</td>\n",
              "      <td>-73.978954</td>\n",
              "    </tr>\n",
              "    <tr>\n",
              "      <th>1</th>\n",
              "      <td>AJR1lIu3RzgC8bgCk2tFog</td>\n",
              "      <td>2.5</td>\n",
              "      <td>$$</td>\n",
              "      <td>30.0</td>\n",
              "      <td>40.758859</td>\n",
              "      <td>-73.978956</td>\n",
              "    </tr>\n",
              "    <tr>\n",
              "      <th>2</th>\n",
              "      <td>t8_nm5-yk8ArhZjT3nHxRA</td>\n",
              "      <td>2.5</td>\n",
              "      <td>$$</td>\n",
              "      <td>16.0</td>\n",
              "      <td>40.757802</td>\n",
              "      <td>-73.979602</td>\n",
              "    </tr>\n",
              "    <tr>\n",
              "      <th>3</th>\n",
              "      <td>DTRLsTwx0534Iv-0xfXijA</td>\n",
              "      <td>2.5</td>\n",
              "      <td>$$</td>\n",
              "      <td>26.0</td>\n",
              "      <td>40.760364</td>\n",
              "      <td>-73.979084</td>\n",
              "    </tr>\n",
              "    <tr>\n",
              "      <th>4</th>\n",
              "      <td>4VwDtb5wOxfaXFOvTp7C6A</td>\n",
              "      <td>2.5</td>\n",
              "      <td>$$</td>\n",
              "      <td>22.0</td>\n",
              "      <td>40.760587</td>\n",
              "      <td>-73.978598</td>\n",
              "    </tr>\n",
              "  </tbody>\n",
              "</table>\n",
              "</div>"
            ],
            "text/plain": [
              "                       id  rating price  count   latitude  longitude\n",
              "0  5WHpzFh-ZbTBY919PlZPTw     3.0    $$   72.0  40.758856 -73.978954\n",
              "1  AJR1lIu3RzgC8bgCk2tFog     2.5    $$   30.0  40.758859 -73.978956\n",
              "2  t8_nm5-yk8ArhZjT3nHxRA     2.5    $$   16.0  40.757802 -73.979602\n",
              "3  DTRLsTwx0534Iv-0xfXijA     2.5    $$   26.0  40.760364 -73.979084\n",
              "4  4VwDtb5wOxfaXFOvTp7C6A     2.5    $$   22.0  40.760587 -73.978598"
            ]
          },
          "metadata": {
            "tags": []
          },
          "execution_count": 6
        }
      ]
    },
    {
      "metadata": {
        "id": "Kh1QYa-JRYRT",
        "colab_type": "code",
        "outputId": "aaddbfd3-98c6-4f32-e5bf-1b28e71c3a60",
        "colab": {
          "base_uri": "https://localhost:8080/",
          "height": 34
        }
      },
      "cell_type": "code",
      "source": [
        "locations = list_buss[['latitude', 'longitude']]\n",
        "locationlist = locations.values.tolist()\n",
        "len(locationlist)\n",
        "locationlist[7]"
      ],
      "execution_count": 7,
      "outputs": [
        {
          "output_type": "execute_result",
          "data": {
            "text/plain": [
              "[40.760348, -73.976134]"
            ]
          },
          "metadata": {
            "tags": []
          },
          "execution_count": 7
        }
      ]
    },
    {
      "metadata": {
        "id": "U_P52HeW27wA",
        "colab_type": "code",
        "outputId": "28fa8b13-7afa-4c98-ae47-458397c8f54e",
        "colab": {
          "base_uri": "https://localhost:8080/",
          "height": 512
        }
      },
      "cell_type": "code",
      "source": [
        "map = folium.Map(location=[40.758862, -73.978663], zoom_start=16)\n",
        "\n",
        "for point in range(0, len(locationlist)):\n",
        "    folium.Marker(locationlist[point], popup=list_buss['id'][point]).add_to(map)\n",
        "map"
      ],
      "execution_count": 8,
      "outputs": [
        {
          "output_type": "execute_result",
          "data": {
            "text/html": [
              "<div style=\"width:100%;\"><div style=\"position:relative;width:100%;height:0;padding-bottom:60%;\"><iframe src=\"data:text/html;base64,CiAgICAgICAgPCFET0NUWVBFIGh0bWw+CiAgICAgICAgPGhlYWQ+CiAgICAgICAgICAgIAogICAgICAgIAogICAgICAgICAgICA8bWV0YSBodHRwLWVxdWl2PSJjb250ZW50LXR5cGUiIGNvbnRlbnQ9InRleHQvaHRtbDsgY2hhcnNldD1VVEYtOCIgLz4KICAgICAgICAKICAgICAgICAgICAgCiAgICAgICAgCiAgICAgICAgICAgIDxzY3JpcHQgc3JjPSJodHRwczovL2NkbmpzLmNsb3VkZmxhcmUuY29tL2FqYXgvbGlicy9sZWFmbGV0LzAuNy4zL2xlYWZsZXQuanMiPjwvc2NyaXB0PgogICAgICAgIAogICAgICAgIAogICAgICAgIAogICAgICAgICAgICAKICAgICAgICAKICAgICAgICAgICAgPHNjcmlwdCBzcmM9Imh0dHBzOi8vYWpheC5nb29nbGVhcGlzLmNvbS9hamF4L2xpYnMvanF1ZXJ5LzEuMTEuMS9qcXVlcnkubWluLmpzIj48L3NjcmlwdD4KICAgICAgICAKICAgICAgICAKICAgICAgICAKICAgICAgICAgICAgCiAgICAgICAgCiAgICAgICAgICAgIDxzY3JpcHQgc3JjPSJodHRwczovL21heGNkbi5ib290c3RyYXBjZG4uY29tL2Jvb3RzdHJhcC8zLjIuMC9qcy9ib290c3RyYXAubWluLmpzIj48L3NjcmlwdD4KICAgICAgICAKICAgICAgICAKICAgICAgICAKICAgICAgICAgICAgCiAgICAgICAgCiAgICAgICAgICAgIDxzY3JpcHQgc3JjPSJodHRwczovL2NkbmpzLmNsb3VkZmxhcmUuY29tL2FqYXgvbGlicy9MZWFmbGV0LmF3ZXNvbWUtbWFya2Vycy8yLjAuMi9sZWFmbGV0LmF3ZXNvbWUtbWFya2Vycy5taW4uanMiPjwvc2NyaXB0PgogICAgICAgIAogICAgICAgIAogICAgICAgIAogICAgICAgICAgICAKICAgICAgICAKICAgICAgICAgICAgPHNjcmlwdCBzcmM9Imh0dHBzOi8vY2RuanMuY2xvdWRmbGFyZS5jb20vYWpheC9saWJzL2xlYWZsZXQubWFya2VyY2x1c3Rlci8wLjQuMC9sZWFmbGV0Lm1hcmtlcmNsdXN0ZXItc3JjLmpzIj48L3NjcmlwdD4KICAgICAgICAKICAgICAgICAKICAgICAgICAKICAgICAgICAgICAgCiAgICAgICAgCiAgICAgICAgICAgIDxzY3JpcHQgc3JjPSJodHRwczovL2NkbmpzLmNsb3VkZmxhcmUuY29tL2FqYXgvbGlicy9sZWFmbGV0Lm1hcmtlcmNsdXN0ZXIvMC40LjAvbGVhZmxldC5tYXJrZXJjbHVzdGVyLmpzIj48L3NjcmlwdD4KICAgICAgICAKICAgICAgICAKICAgICAgICAKICAgICAgICAgICAgCiAgICAgICAgCiAgICAgICAgICAgIDxsaW5rIHJlbD0ic3R5bGVzaGVldCIgaHJlZj0iaHR0cHM6Ly9jZG5qcy5jbG91ZGZsYXJlLmNvbS9hamF4L2xpYnMvbGVhZmxldC8wLjcuMy9sZWFmbGV0LmNzcyIgLz4KICAgICAgICAKICAgICAgICAKICAgICAgICAKICAgICAgICAgICAgCiAgICAgICAgCiAgICAgICAgICAgIDxsaW5rIHJlbD0ic3R5bGVzaGVldCIgaHJlZj0iaHR0cHM6Ly9tYXhjZG4uYm9vdHN0cmFwY2RuLmNvbS9ib290c3RyYXAvMy4yLjAvY3NzL2Jvb3RzdHJhcC5taW4uY3NzIiAvPgogICAgICAgIAogICAgICAgIAogICAgICAgIAogICAgICAgICAgICAKICAgICAgICAKICAgICAgICAgICAgPGxpbmsgcmVsPSJzdHlsZXNoZWV0IiBocmVmPSJodHRwczovL21heGNkbi5ib290c3RyYXBjZG4uY29tL2Jvb3RzdHJhcC8zLjIuMC9jc3MvYm9vdHN0cmFwLXRoZW1lLm1pbi5jc3MiIC8+CiAgICAgICAgCiAgICAgICAgCiAgICAgICAgCiAgICAgICAgICAgIAogICAgICAgIAogICAgICAgICAgICA8bGluayByZWw9InN0eWxlc2hlZXQiIGhyZWY9Imh0dHBzOi8vbWF4Y2RuLmJvb3RzdHJhcGNkbi5jb20vZm9udC1hd2Vzb21lLzQuMS4wL2Nzcy9mb250LWF3ZXNvbWUubWluLmNzcyIgLz4KICAgICAgICAKICAgICAgICAKICAgICAgICAKICAgICAgICAgICAgCiAgICAgICAgCiAgICAgICAgICAgIDxsaW5rIHJlbD0ic3R5bGVzaGVldCIgaHJlZj0iaHR0cHM6Ly9jZG5qcy5jbG91ZGZsYXJlLmNvbS9hamF4L2xpYnMvTGVhZmxldC5hd2Vzb21lLW1hcmtlcnMvMi4wLjIvbGVhZmxldC5hd2Vzb21lLW1hcmtlcnMuY3NzIiAvPgogICAgICAgIAogICAgICAgIAogICAgICAgIAogICAgICAgICAgICAKICAgICAgICAKICAgICAgICAgICAgPGxpbmsgcmVsPSJzdHlsZXNoZWV0IiBocmVmPSJodHRwczovL2NkbmpzLmNsb3VkZmxhcmUuY29tL2FqYXgvbGlicy9sZWFmbGV0Lm1hcmtlcmNsdXN0ZXIvMC40LjAvTWFya2VyQ2x1c3Rlci5EZWZhdWx0LmNzcyIgLz4KICAgICAgICAKICAgICAgICAKICAgICAgICAKICAgICAgICAgICAgCiAgICAgICAgCiAgICAgICAgICAgIDxsaW5rIHJlbD0ic3R5bGVzaGVldCIgaHJlZj0iaHR0cHM6Ly9jZG5qcy5jbG91ZGZsYXJlLmNvbS9hamF4L2xpYnMvbGVhZmxldC5tYXJrZXJjbHVzdGVyLzAuNC4wL01hcmtlckNsdXN0ZXIuY3NzIiAvPgogICAgICAgIAogICAgICAgIAogICAgICAgIAogICAgICAgICAgICAKICAgICAgICAKICAgICAgICAgICAgPGxpbmsgcmVsPSJzdHlsZXNoZWV0IiBocmVmPSJodHRwczovL3Jhdy5naXRodWJ1c2VyY29udGVudC5jb20vcHl0aG9uLXZpc3VhbGl6YXRpb24vZm9saXVtL21hc3Rlci9mb2xpdW0vdGVtcGxhdGVzL2xlYWZsZXQuYXdlc29tZS5yb3RhdGUuY3NzIiAvPgogICAgICAgIAogICAgICAgIAogICAgICAgIAogICAgICAgICAgICAKICAgICAgICAgICAgPHN0eWxlPgoKICAgICAgICAgICAgaHRtbCwgYm9keSB7CiAgICAgICAgICAgICAgICB3aWR0aDogMTAwJTsKICAgICAgICAgICAgICAgIGhlaWdodDogMTAwJTsKICAgICAgICAgICAgICAgIG1hcmdpbjogMDsKICAgICAgICAgICAgICAgIHBhZGRpbmc6IDA7CiAgICAgICAgICAgICAgICB9CgogICAgICAgICAgICAjbWFwIHsKICAgICAgICAgICAgICAgIHBvc2l0aW9uOmFic29sdXRlOwogICAgICAgICAgICAgICAgdG9wOjA7CiAgICAgICAgICAgICAgICBib3R0b206MDsKICAgICAgICAgICAgICAgIHJpZ2h0OjA7CiAgICAgICAgICAgICAgICBsZWZ0OjA7CiAgICAgICAgICAgICAgICB9CiAgICAgICAgICAgIDwvc3R5bGU+CiAgICAgICAgICAgIAogICAgICAgIAogICAgICAgICAgICAKICAgICAgICAgICAgPHN0eWxlPiAjbWFwX2NjODg3NWQ0NDVjOTRjNjRiZmJkNGZiOWZhYzgxYjIzIHsKICAgICAgICAgICAgICAgIHBvc2l0aW9uIDogcmVsYXRpdmU7CiAgICAgICAgICAgICAgICB3aWR0aCA6IDEwMC4wJTsKICAgICAgICAgICAgICAgIGhlaWdodDogMTAwLjAlOwogICAgICAgICAgICAgICAgbGVmdDogMC4wJTsKICAgICAgICAgICAgICAgIHRvcDogMC4wJTsKICAgICAgICAgICAgICAgIH0KICAgICAgICAgICAgPC9zdHlsZT4KICAgICAgICAKICAgICAgICAKICAgICAgICAKICAgICAgICA8L2hlYWQ+CiAgICAgICAgPGJvZHk+CiAgICAgICAgICAgIAogICAgICAgIAogICAgICAgICAgICAKICAgICAgICAgICAgPGRpdiBjbGFzcz0iZm9saXVtLW1hcCIgaWQ9Im1hcF9jYzg4NzVkNDQ1Yzk0YzY0YmZiZDRmYjlmYWM4MWIyMyIgPjwvZGl2PgogICAgICAgIAogICAgICAgIAogICAgICAgIAogICAgICAgIDwvYm9keT4KICAgICAgICA8c2NyaXB0PgogICAgICAgICAgICAKICAgICAgICAKICAgICAgICAgICAgCgogICAgICAgICAgICB2YXIgc291dGhXZXN0ID0gTC5sYXRMbmcoLTkwLCAtMTgwKTsKICAgICAgICAgICAgdmFyIG5vcnRoRWFzdCA9IEwubGF0TG5nKDkwLCAxODApOwogICAgICAgICAgICB2YXIgYm91bmRzID0gTC5sYXRMbmdCb3VuZHMoc291dGhXZXN0LCBub3J0aEVhc3QpOwoKICAgICAgICAgICAgdmFyIG1hcF9jYzg4NzVkNDQ1Yzk0YzY0YmZiZDRmYjlmYWM4MWIyMyA9IEwubWFwKCdtYXBfY2M4ODc1ZDQ0NWM5NGM2NGJmYmQ0ZmI5ZmFjODFiMjMnLCB7CiAgICAgICAgICAgICAgICAgICAgICAgICAgICAgICAgICAgICAgICAgICBjZW50ZXI6WzQwLjc1ODg2MiwtNzMuOTc4NjYzXSwKICAgICAgICAgICAgICAgICAgICAgICAgICAgICAgICAgICAgICAgICAgIHpvb206IDE2LAogICAgICAgICAgICAgICAgICAgICAgICAgICAgICAgICAgICAgICAgICAgbWF4Qm91bmRzOiBib3VuZHMsCiAgICAgICAgICAgICAgICAgICAgICAgICAgICAgICAgICAgICAgICAgICBsYXllcnM6IFtdLAogICAgICAgICAgICAgICAgICAgICAgICAgICAgICAgICAgICAgICAgICAgY3JzOiBMLkNSUy5FUFNHMzg1NwogICAgICAgICAgICAgICAgICAgICAgICAgICAgICAgICAgICAgICAgIH0pOwogICAgICAgICAgICAKICAgICAgICAKICAgICAgICAKICAgICAgICAgICAgCiAgICAgICAgICAgIHZhciB0aWxlX2xheWVyX2I4MTExODJmOTZjOTQ4YjA5YzJhNmY5MTI5OTE5MzcwID0gTC50aWxlTGF5ZXIoCiAgICAgICAgICAgICAgICAnaHR0cHM6Ly97c30udGlsZS5vcGVuc3RyZWV0bWFwLm9yZy97en0ve3h9L3t5fS5wbmcnLAogICAgICAgICAgICAgICAgewogICAgICAgICAgICAgICAgICAgIG1heFpvb206IDE4LAogICAgICAgICAgICAgICAgICAgIG1pblpvb206IDEsCiAgICAgICAgICAgICAgICAgICAgYXR0cmlidXRpb246ICdEYXRhIGJ5IDxhIGhyZWY9Imh0dHA6Ly9vcGVuc3RyZWV0bWFwLm9yZyI+T3BlblN0cmVldE1hcDwvYT4sIHVuZGVyIDxhIGhyZWY9Imh0dHA6Ly93d3cub3BlbnN0cmVldG1hcC5vcmcvY29weXJpZ2h0Ij5PRGJMPC9hPi4nLAogICAgICAgICAgICAgICAgICAgIGRldGVjdFJldGluYTogZmFsc2UKICAgICAgICAgICAgICAgICAgICB9CiAgICAgICAgICAgICAgICApLmFkZFRvKG1hcF9jYzg4NzVkNDQ1Yzk0YzY0YmZiZDRmYjlmYWM4MWIyMyk7CgogICAgICAgIAogICAgICAgIAogICAgICAgICAgICAKCiAgICAgICAgICAgIHZhciBtYXJrZXJfMjQ3ZGUxOGJlY2Y5NDhhNWEzNGEzODBmYjQ0OTNmODQgPSBMLm1hcmtlcigKICAgICAgICAgICAgICAgIFs0MC43NTg4NTYsLTczLjk3ODk1NF0sCiAgICAgICAgICAgICAgICB7CiAgICAgICAgICAgICAgICAgICAgaWNvbjogbmV3IEwuSWNvbi5EZWZhdWx0KCkKICAgICAgICAgICAgICAgICAgICB9CiAgICAgICAgICAgICAgICApCiAgICAgICAgICAgICAgICAuYWRkVG8obWFwX2NjODg3NWQ0NDVjOTRjNjRiZmJkNGZiOWZhYzgxYjIzKTsKICAgICAgICAgICAgCiAgICAgICAgCiAgICAgICAgICAgIAogICAgICAgICAgICB2YXIgcG9wdXBfYmJhNjZhZDJhN2FmNDE3OTllMmZiM2RkMTI5MGFlMTAgPSBMLnBvcHVwKHttYXhXaWR0aDogJzMwMCd9KTsKCiAgICAgICAgICAgIAogICAgICAgICAgICAgICAgdmFyIGh0bWxfMWQ4YWVmNzA1NTQwNGE4OThjNmU5OGMyMmVkYTkxMzIgPSAkKCcgICAgICAgICA8ZGl2IGlkPSJodG1sXzFkOGFlZjcwNTU0MDRhODk4YzZlOThjMjJlZGE5MTMyIiAgICAgICAgICAgICAgICAgc3R5bGU9IndpZHRoOiAxMDAuMCU7IGhlaWdodDogMTAwLjAlOyI+ICAgICAgICAgICAgICAgICA1V0hwekZoLVpiVEJZOTE5UGxaUFR3PC9kaXY+ICAgICAgICAgICAgICAgICAnKVswXTsKICAgICAgICAgICAgICAgIHBvcHVwX2JiYTY2YWQyYTdhZjQxNzk5ZTJmYjNkZDEyOTBhZTEwLnNldENvbnRlbnQoaHRtbF8xZDhhZWY3MDU1NDA0YTg5OGM2ZTk4YzIyZWRhOTEzMik7CiAgICAgICAgICAgIAoKICAgICAgICAgICAgbWFya2VyXzI0N2RlMThiZWNmOTQ4YTVhMzRhMzgwZmI0NDkzZjg0LmJpbmRQb3B1cChwb3B1cF9iYmE2NmFkMmE3YWY0MTc5OWUyZmIzZGQxMjkwYWUxMCk7CgogICAgICAgICAgICAKICAgICAgICAKICAgICAgICAKICAgICAgICAgICAgCgogICAgICAgICAgICB2YXIgbWFya2VyX2E5ODUxOTY0MDJlZDQ4MzZhYWJkN2UyYTM1N2RiNjBjID0gTC5tYXJrZXIoCiAgICAgICAgICAgICAgICBbNDAuNzU4ODU5LC03My45Nzg5NTZdLAogICAgICAgICAgICAgICAgewogICAgICAgICAgICAgICAgICAgIGljb246IG5ldyBMLkljb24uRGVmYXVsdCgpCiAgICAgICAgICAgICAgICAgICAgfQogICAgICAgICAgICAgICAgKQogICAgICAgICAgICAgICAgLmFkZFRvKG1hcF9jYzg4NzVkNDQ1Yzk0YzY0YmZiZDRmYjlmYWM4MWIyMyk7CiAgICAgICAgICAgIAogICAgICAgIAogICAgICAgICAgICAKICAgICAgICAgICAgdmFyIHBvcHVwX2YzODE1NWFjMWZjMTRlMDNhMTc1ZmI0Mzk3OGI5OWYwID0gTC5wb3B1cCh7bWF4V2lkdGg6ICczMDAnfSk7CgogICAgICAgICAgICAKICAgICAgICAgICAgICAgIHZhciBodG1sX2U5NjAyNDMzMmYxMjQzNDE4NTNjMmI5MmQwM2JlY2NkID0gJCgnICAgICAgICAgPGRpdiBpZD0iaHRtbF9lOTYwMjQzMzJmMTI0MzQxODUzYzJiOTJkMDNiZWNjZCIgICAgICAgICAgICAgICAgIHN0eWxlPSJ3aWR0aDogMTAwLjAlOyBoZWlnaHQ6IDEwMC4wJTsiPiAgICAgICAgICAgICAgICAgQUpSMWxJdTNSemdDOGJnQ2sydEZvZzwvZGl2PiAgICAgICAgICAgICAgICAgJylbMF07CiAgICAgICAgICAgICAgICBwb3B1cF9mMzgxNTVhYzFmYzE0ZTAzYTE3NWZiNDM5NzhiOTlmMC5zZXRDb250ZW50KGh0bWxfZTk2MDI0MzMyZjEyNDM0MTg1M2MyYjkyZDAzYmVjY2QpOwogICAgICAgICAgICAKCiAgICAgICAgICAgIG1hcmtlcl9hOTg1MTk2NDAyZWQ0ODM2YWFiZDdlMmEzNTdkYjYwYy5iaW5kUG9wdXAocG9wdXBfZjM4MTU1YWMxZmMxNGUwM2ExNzVmYjQzOTc4Yjk5ZjApOwoKICAgICAgICAgICAgCiAgICAgICAgCiAgICAgICAgCiAgICAgICAgICAgIAoKICAgICAgICAgICAgdmFyIG1hcmtlcl9jNzNmNWVjYjIwNTU0ZWRlYmQ1YzRkYTExY2JkNGRiMSA9IEwubWFya2VyKAogICAgICAgICAgICAgICAgWzQwLjc1NzgwMTg2MTgzODMsLTczLjk3OTYwMjQxODgzOTldLAogICAgICAgICAgICAgICAgewogICAgICAgICAgICAgICAgICAgIGljb246IG5ldyBMLkljb24uRGVmYXVsdCgpCiAgICAgICAgICAgICAgICAgICAgfQogICAgICAgICAgICAgICAgKQogICAgICAgICAgICAgICAgLmFkZFRvKG1hcF9jYzg4NzVkNDQ1Yzk0YzY0YmZiZDRmYjlmYWM4MWIyMyk7CiAgICAgICAgICAgIAogICAgICAgIAogICAgICAgICAgICAKICAgICAgICAgICAgdmFyIHBvcHVwX2JiMTdkZjQ5OTJkMDQ4Yjk4MTM0ZjJjZDU2ZTgxOTUwID0gTC5wb3B1cCh7bWF4V2lkdGg6ICczMDAnfSk7CgogICAgICAgICAgICAKICAgICAgICAgICAgICAgIHZhciBodG1sXzU4YTgwNjUyNTNkNzRmN2ZhYjlhMDdlOWI5ZDU4OTIwID0gJCgnICAgICAgICAgPGRpdiBpZD0iaHRtbF81OGE4MDY1MjUzZDc0ZjdmYWI5YTA3ZTliOWQ1ODkyMCIgICAgICAgICAgICAgICAgIHN0eWxlPSJ3aWR0aDogMTAwLjAlOyBoZWlnaHQ6IDEwMC4wJTsiPiAgICAgICAgICAgICAgICAgdDhfbm01LXlrOEFyaFpqVDNuSHhSQTwvZGl2PiAgICAgICAgICAgICAgICAgJylbMF07CiAgICAgICAgICAgICAgICBwb3B1cF9iYjE3ZGY0OTkyZDA0OGI5ODEzNGYyY2Q1NmU4MTk1MC5zZXRDb250ZW50KGh0bWxfNThhODA2NTI1M2Q3NGY3ZmFiOWEwN2U5YjlkNTg5MjApOwogICAgICAgICAgICAKCiAgICAgICAgICAgIG1hcmtlcl9jNzNmNWVjYjIwNTU0ZWRlYmQ1YzRkYTExY2JkNGRiMS5iaW5kUG9wdXAocG9wdXBfYmIxN2RmNDk5MmQwNDhiOTgxMzRmMmNkNTZlODE5NTApOwoKICAgICAgICAgICAgCiAgICAgICAgCiAgICAgICAgCiAgICAgICAgICAgIAoKICAgICAgICAgICAgdmFyIG1hcmtlcl80MDYwMDY5YjNkZTk0ZWYzODJkMjU2N2JmNjRjY2JkNyA9IEwubWFya2VyKAogICAgICAgICAgICAgICAgWzQwLjc2MDM2NCwtNzMuOTc5MDg0XSwKICAgICAgICAgICAgICAgIHsKICAgICAgICAgICAgICAgICAgICBpY29uOiBuZXcgTC5JY29uLkRlZmF1bHQoKQogICAgICAgICAgICAgICAgICAgIH0KICAgICAgICAgICAgICAgICkKICAgICAgICAgICAgICAgIC5hZGRUbyhtYXBfY2M4ODc1ZDQ0NWM5NGM2NGJmYmQ0ZmI5ZmFjODFiMjMpOwogICAgICAgICAgICAKICAgICAgICAKICAgICAgICAgICAgCiAgICAgICAgICAgIHZhciBwb3B1cF9mMjI4YTY0MWViYjU0Y2YxYThjMzJmYmY4MmU1MTJmYyA9IEwucG9wdXAoe21heFdpZHRoOiAnMzAwJ30pOwoKICAgICAgICAgICAgCiAgICAgICAgICAgICAgICB2YXIgaHRtbF82OTc3NjExYmEwMmI0OTMyOTk5MGI0ZTg0NzU5ZmY0OSA9ICQoJyAgICAgICAgIDxkaXYgaWQ9Imh0bWxfNjk3NzYxMWJhMDJiNDkzMjk5OTBiNGU4NDc1OWZmNDkiICAgICAgICAgICAgICAgICBzdHlsZT0id2lkdGg6IDEwMC4wJTsgaGVpZ2h0OiAxMDAuMCU7Ij4gICAgICAgICAgICAgICAgIERUUkxzVHd4MDUzNEl2LTB4ZlhpakE8L2Rpdj4gICAgICAgICAgICAgICAgICcpWzBdOwogICAgICAgICAgICAgICAgcG9wdXBfZjIyOGE2NDFlYmI1NGNmMWE4YzMyZmJmODJlNTEyZmMuc2V0Q29udGVudChodG1sXzY5Nzc2MTFiYTAyYjQ5MzI5OTkwYjRlODQ3NTlmZjQ5KTsKICAgICAgICAgICAgCgogICAgICAgICAgICBtYXJrZXJfNDA2MDA2OWIzZGU5NGVmMzgyZDI1NjdiZjY0Y2NiZDcuYmluZFBvcHVwKHBvcHVwX2YyMjhhNjQxZWJiNTRjZjFhOGMzMmZiZjgyZTUxMmZjKTsKCiAgICAgICAgICAgIAogICAgICAgIAogICAgICAgIAogICAgICAgICAgICAKCiAgICAgICAgICAgIHZhciBtYXJrZXJfNzg3MWVmMjQzNzk0NDMzM2E3YWU4NGVmMGVhNWEwMmMgPSBMLm1hcmtlcigKICAgICAgICAgICAgICAgIFs0MC43NjA1ODcsLTczLjk3ODU5OF0sCiAgICAgICAgICAgICAgICB7CiAgICAgICAgICAgICAgICAgICAgaWNvbjogbmV3IEwuSWNvbi5EZWZhdWx0KCkKICAgICAgICAgICAgICAgICAgICB9CiAgICAgICAgICAgICAgICApCiAgICAgICAgICAgICAgICAuYWRkVG8obWFwX2NjODg3NWQ0NDVjOTRjNjRiZmJkNGZiOWZhYzgxYjIzKTsKICAgICAgICAgICAgCiAgICAgICAgCiAgICAgICAgICAgIAogICAgICAgICAgICB2YXIgcG9wdXBfMDhjOTgxOTU0OTRjNDViNWFhYzQ1NjJlM2M1M2Q1NTQgPSBMLnBvcHVwKHttYXhXaWR0aDogJzMwMCd9KTsKCiAgICAgICAgICAgIAogICAgICAgICAgICAgICAgdmFyIGh0bWxfNzBjZGY3MTUwYzZjNDhkZGI2N2M4OWU3MzkzY2JkYjAgPSAkKCcgICAgICAgICA8ZGl2IGlkPSJodG1sXzcwY2RmNzE1MGM2YzQ4ZGRiNjdjODllNzM5M2NiZGIwIiAgICAgICAgICAgICAgICAgc3R5bGU9IndpZHRoOiAxMDAuMCU7IGhlaWdodDogMTAwLjAlOyI+ICAgICAgICAgICAgICAgICA0VndEdGI1d094ZmFYRk92VHA3QzZBPC9kaXY+ICAgICAgICAgICAgICAgICAnKVswXTsKICAgICAgICAgICAgICAgIHBvcHVwXzA4Yzk4MTk1NDk0YzQ1YjVhYWM0NTYyZTNjNTNkNTU0LnNldENvbnRlbnQoaHRtbF83MGNkZjcxNTBjNmM0OGRkYjY3Yzg5ZTczOTNjYmRiMCk7CiAgICAgICAgICAgIAoKICAgICAgICAgICAgbWFya2VyXzc4NzFlZjI0Mzc5NDQzMzNhN2FlODRlZjBlYTVhMDJjLmJpbmRQb3B1cChwb3B1cF8wOGM5ODE5NTQ5NGM0NWI1YWFjNDU2MmUzYzUzZDU1NCk7CgogICAgICAgICAgICAKICAgICAgICAKICAgICAgICAKICAgICAgICAgICAgCgogICAgICAgICAgICB2YXIgbWFya2VyXzEyYWQ0ZWYzM2Q1MDQyY2Q5MzZkZmE4ZjIzYzU5MmZjID0gTC5tYXJrZXIoCiAgICAgICAgICAgICAgICBbNDAuNzYwNjA4NjczMDk1NywtNzMuOTc4NDMxNzAxNjYwMl0sCiAgICAgICAgICAgICAgICB7CiAgICAgICAgICAgICAgICAgICAgaWNvbjogbmV3IEwuSWNvbi5EZWZhdWx0KCkKICAgICAgICAgICAgICAgICAgICB9CiAgICAgICAgICAgICAgICApCiAgICAgICAgICAgICAgICAuYWRkVG8obWFwX2NjODg3NWQ0NDVjOTRjNjRiZmJkNGZiOWZhYzgxYjIzKTsKICAgICAgICAgICAgCiAgICAgICAgCiAgICAgICAgICAgIAogICAgICAgICAgICB2YXIgcG9wdXBfMWVmNzFjYWY2NmQ2NDU4ZGFjZmJhZTQyNjUwNzkzMzMgPSBMLnBvcHVwKHttYXhXaWR0aDogJzMwMCd9KTsKCiAgICAgICAgICAgIAogICAgICAgICAgICAgICAgdmFyIGh0bWxfNzc2OWZjNjBhOWVjNDliNmJkYTY5Nzc4MTllYmNjMDAgPSAkKCcgICAgICAgICA8ZGl2IGlkPSJodG1sXzc3NjlmYzYwYTllYzQ5YjZiZGE2OTc3ODE5ZWJjYzAwIiAgICAgICAgICAgICAgICAgc3R5bGU9IndpZHRoOiAxMDAuMCU7IGhlaWdodDogMTAwLjAlOyI+ICAgICAgICAgICAgICAgICBXNUdOTnd4TWVLTVJ2UUp3dFZuSmRBPC9kaXY+ICAgICAgICAgICAgICAgICAnKVswXTsKICAgICAgICAgICAgICAgIHBvcHVwXzFlZjcxY2FmNjZkNjQ1OGRhY2ZiYWU0MjY1MDc5MzMzLnNldENvbnRlbnQoaHRtbF83NzY5ZmM2MGE5ZWM0OWI2YmRhNjk3NzgxOWViY2MwMCk7CiAgICAgICAgICAgIAoKICAgICAgICAgICAgbWFya2VyXzEyYWQ0ZWYzM2Q1MDQyY2Q5MzZkZmE4ZjIzYzU5MmZjLmJpbmRQb3B1cChwb3B1cF8xZWY3MWNhZjY2ZDY0NThkYWNmYmFlNDI2NTA3OTMzMyk7CgogICAgICAgICAgICAKICAgICAgICAKICAgICAgICAKICAgICAgICAgICAgCgogICAgICAgICAgICB2YXIgbWFya2VyXzlkNjk3MDgwZTNiYTQ5ZmNhN2I1N2U1MWExZGMzNmJlID0gTC5tYXJrZXIoCiAgICAgICAgICAgICAgICBbNDAuNzU2NDI1LC03My45NzgzXSwKICAgICAgICAgICAgICAgIHsKICAgICAgICAgICAgICAgICAgICBpY29uOiBuZXcgTC5JY29uLkRlZmF1bHQoKQogICAgICAgICAgICAgICAgICAgIH0KICAgICAgICAgICAgICAgICkKICAgICAgICAgICAgICAgIC5hZGRUbyhtYXBfY2M4ODc1ZDQ0NWM5NGM2NGJmYmQ0ZmI5ZmFjODFiMjMpOwogICAgICAgICAgICAKICAgICAgICAKICAgICAgICAgICAgCiAgICAgICAgICAgIHZhciBwb3B1cF8xZDMzZmU3OWZlZTY0MDY3YThjNjNjMDg0Nzk2YmYzOSA9IEwucG9wdXAoe21heFdpZHRoOiAnMzAwJ30pOwoKICAgICAgICAgICAgCiAgICAgICAgICAgICAgICB2YXIgaHRtbF9kZTM4NzA5ZmE2NWE0ZDcyYjg3ZWI4MWQ1YTllYjA5NCA9ICQoJyAgICAgICAgIDxkaXYgaWQ9Imh0bWxfZGUzODcwOWZhNjVhNGQ3MmI4N2ViODFkNWE5ZWIwOTQiICAgICAgICAgICAgICAgICBzdHlsZT0id2lkdGg6IDEwMC4wJTsgaGVpZ2h0OiAxMDAuMCU7Ij4gICAgICAgICAgICAgICAgIGx0aGRSTGI5X1FQQ2ZEYTNpMkJwVXc8L2Rpdj4gICAgICAgICAgICAgICAgICcpWzBdOwogICAgICAgICAgICAgICAgcG9wdXBfMWQzM2ZlNzlmZWU2NDA2N2E4YzYzYzA4NDc5NmJmMzkuc2V0Q29udGVudChodG1sX2RlMzg3MDlmYTY1YTRkNzJiODdlYjgxZDVhOWViMDk0KTsKICAgICAgICAgICAgCgogICAgICAgICAgICBtYXJrZXJfOWQ2OTcwODBlM2JhNDlmY2E3YjU3ZTUxYTFkYzM2YmUuYmluZFBvcHVwKHBvcHVwXzFkMzNmZTc5ZmVlNjQwNjdhOGM2M2MwODQ3OTZiZjM5KTsKCiAgICAgICAgICAgIAogICAgICAgIAogICAgICAgIAogICAgICAgICAgICAKCiAgICAgICAgICAgIHZhciBtYXJrZXJfZjIxOTg5NDU5MTI2NDNhN2IyZDYwZDE3NDFkYjM1NTcgPSBMLm1hcmtlcigKICAgICAgICAgICAgICAgIFs0MC43NjAzNDgsLTczLjk3NjEzNF0sCiAgICAgICAgICAgICAgICB7CiAgICAgICAgICAgICAgICAgICAgaWNvbjogbmV3IEwuSWNvbi5EZWZhdWx0KCkKICAgICAgICAgICAgICAgICAgICB9CiAgICAgICAgICAgICAgICApCiAgICAgICAgICAgICAgICAuYWRkVG8obWFwX2NjODg3NWQ0NDVjOTRjNjRiZmJkNGZiOWZhYzgxYjIzKTsKICAgICAgICAgICAgCiAgICAgICAgCiAgICAgICAgICAgIAogICAgICAgICAgICB2YXIgcG9wdXBfMTJmOGZjMWQwOTE5NDAzYmI3ZDY5MDM2YTc2M2YxYWQgPSBMLnBvcHVwKHttYXhXaWR0aDogJzMwMCd9KTsKCiAgICAgICAgICAgIAogICAgICAgICAgICAgICAgdmFyIGh0bWxfYTNiNWQwMmQ5NTI0NDM0MDk1YWQxNjUxYmNjMGFjMGEgPSAkKCcgICAgICAgICA8ZGl2IGlkPSJodG1sX2EzYjVkMDJkOTUyNDQzNDA5NWFkMTY1MWJjYzBhYzBhIiAgICAgICAgICAgICAgICAgc3R5bGU9IndpZHRoOiAxMDAuMCU7IGhlaWdodDogMTAwLjAlOyI+ICAgICAgICAgICAgICAgICAtYVlYdHFSR2d3NzBDUkRNVXlCRWJBPC9kaXY+ICAgICAgICAgICAgICAgICAnKVswXTsKICAgICAgICAgICAgICAgIHBvcHVwXzEyZjhmYzFkMDkxOTQwM2JiN2Q2OTAzNmE3NjNmMWFkLnNldENvbnRlbnQoaHRtbF9hM2I1ZDAyZDk1MjQ0MzQwOTVhZDE2NTFiY2MwYWMwYSk7CiAgICAgICAgICAgIAoKICAgICAgICAgICAgbWFya2VyX2YyMTk4OTQ1OTEyNjQzYTdiMmQ2MGQxNzQxZGIzNTU3LmJpbmRQb3B1cChwb3B1cF8xMmY4ZmMxZDA5MTk0MDNiYjdkNjkwMzZhNzYzZjFhZCk7CgogICAgICAgICAgICAKICAgICAgICAKICAgICAgICAKICAgICAgICAgICAgCgogICAgICAgICAgICB2YXIgbWFya2VyXzY1MzU1N2Q0MzQ2ZDQwZmM4ZDllYWE3Y2YzNWZhNGE3ID0gTC5tYXJrZXIoCiAgICAgICAgICAgICAgICBbNDAuNzU3MDc5LC03My45ODExNjNdLAogICAgICAgICAgICAgICAgewogICAgICAgICAgICAgICAgICAgIGljb246IG5ldyBMLkljb24uRGVmYXVsdCgpCiAgICAgICAgICAgICAgICAgICAgfQogICAgICAgICAgICAgICAgKQogICAgICAgICAgICAgICAgLmFkZFRvKG1hcF9jYzg4NzVkNDQ1Yzk0YzY0YmZiZDRmYjlmYWM4MWIyMyk7CiAgICAgICAgICAgIAogICAgICAgIAogICAgICAgICAgICAKICAgICAgICAgICAgdmFyIHBvcHVwX2Y3MTNjN2ViMjYxZTRjMWY4ZTFjNjU3ZmM2M2NhOWJjID0gTC5wb3B1cCh7bWF4V2lkdGg6ICczMDAnfSk7CgogICAgICAgICAgICAKICAgICAgICAgICAgICAgIHZhciBodG1sX2Q5MWVkMjEwYjg0ZDQ3NWRiYmY1ZTUzMTQ4Mzg0N2VmID0gJCgnICAgICAgICAgPGRpdiBpZD0iaHRtbF9kOTFlZDIxMGI4NGQ0NzVkYmJmNWU1MzE0ODM4NDdlZiIgICAgICAgICAgICAgICAgIHN0eWxlPSJ3aWR0aDogMTAwLjAlOyBoZWlnaHQ6IDEwMC4wJTsiPiAgICAgICAgICAgICAgICAgemZPYVlieXg1UkFhOTFRd19UaHNQUTwvZGl2PiAgICAgICAgICAgICAgICAgJylbMF07CiAgICAgICAgICAgICAgICBwb3B1cF9mNzEzYzdlYjI2MWU0YzFmOGUxYzY1N2ZjNjNjYTliYy5zZXRDb250ZW50KGh0bWxfZDkxZWQyMTBiODRkNDc1ZGJiZjVlNTMxNDgzODQ3ZWYpOwogICAgICAgICAgICAKCiAgICAgICAgICAgIG1hcmtlcl82NTM1NTdkNDM0NmQ0MGZjOGQ5ZWFhN2NmMzVmYTRhNy5iaW5kUG9wdXAocG9wdXBfZjcxM2M3ZWIyNjFlNGMxZjhlMWM2NTdmYzYzY2E5YmMpOwoKICAgICAgICAgICAgCiAgICAgICAgCiAgICAgICAgCiAgICAgICAgICAgIAoKICAgICAgICAgICAgdmFyIG1hcmtlcl9jNDFkMjBiZjhkNDE0ODUzYjhmNmM1ZjI4ODczODA2NSA9IEwubWFya2VyKAogICAgICAgICAgICAgICAgWzQwLjc1NzA3NywtNzMuOTc1OTY5XSwKICAgICAgICAgICAgICAgIHsKICAgICAgICAgICAgICAgICAgICBpY29uOiBuZXcgTC5JY29uLkRlZmF1bHQoKQogICAgICAgICAgICAgICAgICAgIH0KICAgICAgICAgICAgICAgICkKICAgICAgICAgICAgICAgIC5hZGRUbyhtYXBfY2M4ODc1ZDQ0NWM5NGM2NGJmYmQ0ZmI5ZmFjODFiMjMpOwogICAgICAgICAgICAKICAgICAgICAKICAgICAgICAgICAgCiAgICAgICAgICAgIHZhciBwb3B1cF84Njg5M2ViMmQ0N2E0YWFhYjM2ZDQzZTNiMTQ5NDViOSA9IEwucG9wdXAoe21heFdpZHRoOiAnMzAwJ30pOwoKICAgICAgICAgICAgCiAgICAgICAgICAgICAgICB2YXIgaHRtbF9lMDQxMzdkMWNmNTA0ZTRhYjUzN2E3MjIxMmI0MDY0YyA9ICQoJyAgICAgICAgIDxkaXYgaWQ9Imh0bWxfZTA0MTM3ZDFjZjUwNGU0YWI1MzdhNzIyMTJiNDA2NGMiICAgICAgICAgICAgICAgICBzdHlsZT0id2lkdGg6IDEwMC4wJTsgaGVpZ2h0OiAxMDAuMCU7Ij4gICAgICAgICAgICAgICAgIE9JQWdWMlB5dlVOSUViWE5vT2Vzb3c8L2Rpdj4gICAgICAgICAgICAgICAgICcpWzBdOwogICAgICAgICAgICAgICAgcG9wdXBfODY4OTNlYjJkNDdhNGFhYWIzNmQ0M2UzYjE0OTQ1Yjkuc2V0Q29udGVudChodG1sX2UwNDEzN2QxY2Y1MDRlNGFiNTM3YTcyMjEyYjQwNjRjKTsKICAgICAgICAgICAgCgogICAgICAgICAgICBtYXJrZXJfYzQxZDIwYmY4ZDQxNDg1M2I4ZjZjNWYyODg3MzgwNjUuYmluZFBvcHVwKHBvcHVwXzg2ODkzZWIyZDQ3YTRhYWFiMzZkNDNlM2IxNDk0NWI5KTsKCiAgICAgICAgICAgIAogICAgICAgIAogICAgICAgIAogICAgICAgICAgICAKCiAgICAgICAgICAgIHZhciBtYXJrZXJfNWQxYjM1ODJhMjI1NGM0Mzk0OTI2NzA3MWVjZGY3MmMgPSBMLm1hcmtlcigKICAgICAgICAgICAgICAgIFs0MC43NTgxMTcsLTczLjk4MjQ1XSwKICAgICAgICAgICAgICAgIHsKICAgICAgICAgICAgICAgICAgICBpY29uOiBuZXcgTC5JY29uLkRlZmF1bHQoKQogICAgICAgICAgICAgICAgICAgIH0KICAgICAgICAgICAgICAgICkKICAgICAgICAgICAgICAgIC5hZGRUbyhtYXBfY2M4ODc1ZDQ0NWM5NGM2NGJmYmQ0ZmI5ZmFjODFiMjMpOwogICAgICAgICAgICAKICAgICAgICAKICAgICAgICAgICAgCiAgICAgICAgICAgIHZhciBwb3B1cF8wODFiMTgwMDFiNGY0OWE5ODViYjM3YjE4YjMyMTJmNCA9IEwucG9wdXAoe21heFdpZHRoOiAnMzAwJ30pOwoKICAgICAgICAgICAgCiAgICAgICAgICAgICAgICB2YXIgaHRtbF9lNTFkZjE3YTc0MTk0YWU4ODYxMTI3ZmU4OGQzNjNhOCA9ICQoJyAgICAgICAgIDxkaXYgaWQ9Imh0bWxfZTUxZGYxN2E3NDE5NGFlODg2MTEyN2ZlODhkMzYzYTgiICAgICAgICAgICAgICAgICBzdHlsZT0id2lkdGg6IDEwMC4wJTsgaGVpZ2h0OiAxMDAuMCU7Ij4gICAgICAgICAgICAgICAgIHV1X0l1SGpId3lCdVFKQlM0WWJPVHc8L2Rpdj4gICAgICAgICAgICAgICAgICcpWzBdOwogICAgICAgICAgICAgICAgcG9wdXBfMDgxYjE4MDAxYjRmNDlhOTg1YmIzN2IxOGIzMjEyZjQuc2V0Q29udGVudChodG1sX2U1MWRmMTdhNzQxOTRhZTg4NjExMjdmZTg4ZDM2M2E4KTsKICAgICAgICAgICAgCgogICAgICAgICAgICBtYXJrZXJfNWQxYjM1ODJhMjI1NGM0Mzk0OTI2NzA3MWVjZGY3MmMuYmluZFBvcHVwKHBvcHVwXzA4MWIxODAwMWI0ZjQ5YTk4NWJiMzdiMThiMzIxMmY0KTsKCiAgICAgICAgICAgIAogICAgICAgIAogICAgICAgIAogICAgICAgICAgICAKCiAgICAgICAgICAgIHZhciBtYXJrZXJfNjdkOGE4ODczNGNhNGYxN2I4Y2Q3ZDJiOTZmNGEwMWQgPSBMLm1hcmtlcigKICAgICAgICAgICAgICAgIFs0MC43NjE4OCwtNzMuOTc4Njk0XSwKICAgICAgICAgICAgICAgIHsKICAgICAgICAgICAgICAgICAgICBpY29uOiBuZXcgTC5JY29uLkRlZmF1bHQoKQogICAgICAgICAgICAgICAgICAgIH0KICAgICAgICAgICAgICAgICkKICAgICAgICAgICAgICAgIC5hZGRUbyhtYXBfY2M4ODc1ZDQ0NWM5NGM2NGJmYmQ0ZmI5ZmFjODFiMjMpOwogICAgICAgICAgICAKICAgICAgICAKICAgICAgICAgICAgCiAgICAgICAgICAgIHZhciBwb3B1cF9iMDlhNmRhZjNmNzU0NWI3ODhiYjYwMTg2ZGE2Yjk3YSA9IEwucG9wdXAoe21heFdpZHRoOiAnMzAwJ30pOwoKICAgICAgICAgICAgCiAgICAgICAgICAgICAgICB2YXIgaHRtbF81NTU5NDE5ZjVkM2I0ZTcwODUxYWYwZTgyMzExNTVhNSA9ICQoJyAgICAgICAgIDxkaXYgaWQ9Imh0bWxfNTU1OTQxOWY1ZDNiNGU3MDg1MWFmMGU4MjMxMTU1YTUiICAgICAgICAgICAgICAgICBzdHlsZT0id2lkdGg6IDEwMC4wJTsgaGVpZ2h0OiAxMDAuMCU7Ij4gICAgICAgICAgICAgICAgIGl6VThrTk5acjktRUlYVGtOTzNOYVE8L2Rpdj4gICAgICAgICAgICAgICAgICcpWzBdOwogICAgICAgICAgICAgICAgcG9wdXBfYjA5YTZkYWYzZjc1NDViNzg4YmI2MDE4NmRhNmI5N2Euc2V0Q29udGVudChodG1sXzU1NTk0MTlmNWQzYjRlNzA4NTFhZjBlODIzMTE1NWE1KTsKICAgICAgICAgICAgCgogICAgICAgICAgICBtYXJrZXJfNjdkOGE4ODczNGNhNGYxN2I4Y2Q3ZDJiOTZmNGEwMWQuYmluZFBvcHVwKHBvcHVwX2IwOWE2ZGFmM2Y3NTQ1Yjc4OGJiNjAxODZkYTZiOTdhKTsKCiAgICAgICAgICAgIAogICAgICAgIAogICAgICAgIAogICAgICAgICAgICAKCiAgICAgICAgICAgIHZhciBtYXJrZXJfZTdhOWE0NGQwMmIzNDBlYmEzMTU4NmJkM2M5NDc4NTcgPSBMLm1hcmtlcigKICAgICAgICAgICAgICAgIFs0MC43NjE3ODksLTczLjk3OTY3NF0sCiAgICAgICAgICAgICAgICB7CiAgICAgICAgICAgICAgICAgICAgaWNvbjogbmV3IEwuSWNvbi5EZWZhdWx0KCkKICAgICAgICAgICAgICAgICAgICB9CiAgICAgICAgICAgICAgICApCiAgICAgICAgICAgICAgICAuYWRkVG8obWFwX2NjODg3NWQ0NDVjOTRjNjRiZmJkNGZiOWZhYzgxYjIzKTsKICAgICAgICAgICAgCiAgICAgICAgCiAgICAgICAgICAgIAogICAgICAgICAgICB2YXIgcG9wdXBfMzBhNGZiZjkzZGU5NDUwNGFiYTUyZDEyNzllYTQ4MjEgPSBMLnBvcHVwKHttYXhXaWR0aDogJzMwMCd9KTsKCiAgICAgICAgICAgIAogICAgICAgICAgICAgICAgdmFyIGh0bWxfNDZmNTBlNDMwODA0NDc4ZGEyMGRiN2QxYzg2MTMwY2QgPSAkKCcgICAgICAgICA8ZGl2IGlkPSJodG1sXzQ2ZjUwZTQzMDgwNDQ3OGRhMjBkYjdkMWM4NjEzMGNkIiAgICAgICAgICAgICAgICAgc3R5bGU9IndpZHRoOiAxMDAuMCU7IGhlaWdodDogMTAwLjAlOyI+ICAgICAgICAgICAgICAgICAtVUtHSDBiY3lMTk1tVGVGbHgwcWRBPC9kaXY+ICAgICAgICAgICAgICAgICAnKVswXTsKICAgICAgICAgICAgICAgIHBvcHVwXzMwYTRmYmY5M2RlOTQ1MDRhYmE1MmQxMjc5ZWE0ODIxLnNldENvbnRlbnQoaHRtbF80NmY1MGU0MzA4MDQ0NzhkYTIwZGI3ZDFjODYxMzBjZCk7CiAgICAgICAgICAgIAoKICAgICAgICAgICAgbWFya2VyX2U3YTlhNDRkMDJiMzQwZWJhMzE1ODZiZDNjOTQ3ODU3LmJpbmRQb3B1cChwb3B1cF8zMGE0ZmJmOTNkZTk0NTA0YWJhNTJkMTI3OWVhNDgyMSk7CgogICAgICAgICAgICAKICAgICAgICAKICAgICAgICAKICAgICAgICAgICAgCgogICAgICAgICAgICB2YXIgbWFya2VyXzQ5ZGU0NTM5ODVjNzQyZGI5NmNlNmY5Y2I1YmJjMTgzID0gTC5tYXJrZXIoCiAgICAgICAgICAgICAgICBbNDAuNzU1NTk5LC03My45ODAyMDhdLAogICAgICAgICAgICAgICAgewogICAgICAgICAgICAgICAgICAgIGljb246IG5ldyBMLkljb24uRGVmYXVsdCgpCiAgICAgICAgICAgICAgICAgICAgfQogICAgICAgICAgICAgICAgKQogICAgICAgICAgICAgICAgLmFkZFRvKG1hcF9jYzg4NzVkNDQ1Yzk0YzY0YmZiZDRmYjlmYWM4MWIyMyk7CiAgICAgICAgICAgIAogICAgICAgIAogICAgICAgICAgICAKICAgICAgICAgICAgdmFyIHBvcHVwX2FiZTc2OTY5YTY5ZDRmMTE4MTZjMmViODRmMjRmYTE1ID0gTC5wb3B1cCh7bWF4V2lkdGg6ICczMDAnfSk7CgogICAgICAgICAgICAKICAgICAgICAgICAgICAgIHZhciBodG1sXzNhZDllOWQyYjhkZDQ4MDhiNjcxNDFlMDEzMDg2OTY2ID0gJCgnICAgICAgICAgPGRpdiBpZD0iaHRtbF8zYWQ5ZTlkMmI4ZGQ0ODA4YjY3MTQxZTAxMzA4Njk2NiIgICAgICAgICAgICAgICAgIHN0eWxlPSJ3aWR0aDogMTAwLjAlOyBoZWlnaHQ6IDEwMC4wJTsiPiAgICAgICAgICAgICAgICAgbVRkdGNtWXd1UFVxUVMwYlJKbGg3QTwvZGl2PiAgICAgICAgICAgICAgICAgJylbMF07CiAgICAgICAgICAgICAgICBwb3B1cF9hYmU3Njk2OWE2OWQ0ZjExODE2YzJlYjg0ZjI0ZmExNS5zZXRDb250ZW50KGh0bWxfM2FkOWU5ZDJiOGRkNDgwOGI2NzE0MWUwMTMwODY5NjYpOwogICAgICAgICAgICAKCiAgICAgICAgICAgIG1hcmtlcl80OWRlNDUzOTg1Yzc0MmRiOTZjZTZmOWNiNWJiYzE4My5iaW5kUG9wdXAocG9wdXBfYWJlNzY5NjlhNjlkNGYxMTgxNmMyZWI4NGYyNGZhMTUpOwoKICAgICAgICAgICAgCiAgICAgICAgCiAgICAgICAgCiAgICAgICAgICAgIAoKICAgICAgICAgICAgdmFyIG1hcmtlcl9iZTEzMDM5NDFlZWU0ODljOWViOWMzYTQxMDc3NGNiYiA9IEwubWFya2VyKAogICAgICAgICAgICAgICAgWzQwLjc1NjY0MiwtNzMuOTc1MDY0XSwKICAgICAgICAgICAgICAgIHsKICAgICAgICAgICAgICAgICAgICBpY29uOiBuZXcgTC5JY29uLkRlZmF1bHQoKQogICAgICAgICAgICAgICAgICAgIH0KICAgICAgICAgICAgICAgICkKICAgICAgICAgICAgICAgIC5hZGRUbyhtYXBfY2M4ODc1ZDQ0NWM5NGM2NGJmYmQ0ZmI5ZmFjODFiMjMpOwogICAgICAgICAgICAKICAgICAgICAKICAgICAgICAgICAgCiAgICAgICAgICAgIHZhciBwb3B1cF80Y2NiMjkxNWI4MDE0OGUxYWQ5ZWRjYTA0MzZjMGUzZiA9IEwucG9wdXAoe21heFdpZHRoOiAnMzAwJ30pOwoKICAgICAgICAgICAgCiAgICAgICAgICAgICAgICB2YXIgaHRtbF8xZWI2YTNlNzE4ZWQ0NTlkYWVkYTMxZGJlNWJjM2YzMSA9ICQoJyAgICAgICAgIDxkaXYgaWQ9Imh0bWxfMWViNmEzZTcxOGVkNDU5ZGFlZGEzMWRiZTViYzNmMzEiICAgICAgICAgICAgICAgICBzdHlsZT0id2lkdGg6IDEwMC4wJTsgaGVpZ2h0OiAxMDAuMCU7Ij4gICAgICAgICAgICAgICAgIDF1eGhHdy1nN2d0MjZKaHgxZjlnNXc8L2Rpdj4gICAgICAgICAgICAgICAgICcpWzBdOwogICAgICAgICAgICAgICAgcG9wdXBfNGNjYjI5MTViODAxNDhlMWFkOWVkY2EwNDM2YzBlM2Yuc2V0Q29udGVudChodG1sXzFlYjZhM2U3MThlZDQ1OWRhZWRhMzFkYmU1YmMzZjMxKTsKICAgICAgICAgICAgCgogICAgICAgICAgICBtYXJrZXJfYmUxMzAzOTQxZWVlNDg5YzllYjljM2E0MTA3NzRjYmIuYmluZFBvcHVwKHBvcHVwXzRjY2IyOTE1YjgwMTQ4ZTFhZDllZGNhMDQzNmMwZTNmKTsKCiAgICAgICAgICAgIAogICAgICAgIAogICAgICAgIAogICAgICAgICAgICAKCiAgICAgICAgICAgIHZhciBtYXJrZXJfOWIyMTE4ODY1OWZhNGY5ODllMGJjMTkzMDViYzg4ZDkgPSBMLm1hcmtlcigKICAgICAgICAgICAgICAgIFs0MC43NjI0NDMsLTczLjk3OTcxM10sCiAgICAgICAgICAgICAgICB7CiAgICAgICAgICAgICAgICAgICAgaWNvbjogbmV3IEwuSWNvbi5EZWZhdWx0KCkKICAgICAgICAgICAgICAgICAgICB9CiAgICAgICAgICAgICAgICApCiAgICAgICAgICAgICAgICAuYWRkVG8obWFwX2NjODg3NWQ0NDVjOTRjNjRiZmJkNGZiOWZhYzgxYjIzKTsKICAgICAgICAgICAgCiAgICAgICAgCiAgICAgICAgICAgIAogICAgICAgICAgICB2YXIgcG9wdXBfNGY0ZDA1ODg5OTdjNGU3MThlMGM2Nzk2MDYwZTU1ZmQgPSBMLnBvcHVwKHttYXhXaWR0aDogJzMwMCd9KTsKCiAgICAgICAgICAgIAogICAgICAgICAgICAgICAgdmFyIGh0bWxfZmY5MmVmMTliMzlkNGQ1OGE2YmJkYTE4YTMwNGE5ZGUgPSAkKCcgICAgICAgICA8ZGl2IGlkPSJodG1sX2ZmOTJlZjE5YjM5ZDRkNThhNmJiZGExOGEzMDRhOWRlIiAgICAgICAgICAgICAgICAgc3R5bGU9IndpZHRoOiAxMDAuMCU7IGhlaWdodDogMTAwLjAlOyI+ICAgICAgICAgICAgICAgICBRQ01tX1RMeGgwV3liTmRYbE1PbFh3PC9kaXY+ICAgICAgICAgICAgICAgICAnKVswXTsKICAgICAgICAgICAgICAgIHBvcHVwXzRmNGQwNTg4OTk3YzRlNzE4ZTBjNjc5NjA2MGU1NWZkLnNldENvbnRlbnQoaHRtbF9mZjkyZWYxOWIzOWQ0ZDU4YTZiYmRhMThhMzA0YTlkZSk7CiAgICAgICAgICAgIAoKICAgICAgICAgICAgbWFya2VyXzliMjExODg2NTlmYTRmOTg5ZTBiYzE5MzA1YmM4OGQ5LmJpbmRQb3B1cChwb3B1cF80ZjRkMDU4ODk5N2M0ZTcxOGUwYzY3OTYwNjBlNTVmZCk7CgogICAgICAgICAgICAKICAgICAgICAKICAgICAgICAKICAgICAgICAgICAgCgogICAgICAgICAgICB2YXIgbWFya2VyX2UwMDZiOWMyNDdlNzQ3OWU4ZmIwMWIzOWYxZjhhYTI1ID0gTC5tYXJrZXIoCiAgICAgICAgICAgICAgICBbNDAuNzU5NTk4LC03My45NzM2MTNdLAogICAgICAgICAgICAgICAgewogICAgICAgICAgICAgICAgICAgIGljb246IG5ldyBMLkljb24uRGVmYXVsdCgpCiAgICAgICAgICAgICAgICAgICAgfQogICAgICAgICAgICAgICAgKQogICAgICAgICAgICAgICAgLmFkZFRvKG1hcF9jYzg4NzVkNDQ1Yzk0YzY0YmZiZDRmYjlmYWM4MWIyMyk7CiAgICAgICAgICAgIAogICAgICAgIAogICAgICAgICAgICAKICAgICAgICAgICAgdmFyIHBvcHVwX2E2NTFkMGFkZjZmYTQxYThhYTM3MTc3YzhkZTVkNTRmID0gTC5wb3B1cCh7bWF4V2lkdGg6ICczMDAnfSk7CgogICAgICAgICAgICAKICAgICAgICAgICAgICAgIHZhciBodG1sX2JjYmVhMDY3NTJmYTQxN2I5ZTk3ZDkxODA1M2U4YTMyID0gJCgnICAgICAgICAgPGRpdiBpZD0iaHRtbF9iY2JlYTA2NzUyZmE0MTdiOWU5N2Q5MTgwNTNlOGEzMiIgICAgICAgICAgICAgICAgIHN0eWxlPSJ3aWR0aDogMTAwLjAlOyBoZWlnaHQ6IDEwMC4wJTsiPiAgICAgICAgICAgICAgICAgc3N3dU42Vy1wOHdwSWVRSW9HdUhtUTwvZGl2PiAgICAgICAgICAgICAgICAgJylbMF07CiAgICAgICAgICAgICAgICBwb3B1cF9hNjUxZDBhZGY2ZmE0MWE4YWEzNzE3N2M4ZGU1ZDU0Zi5zZXRDb250ZW50KGh0bWxfYmNiZWEwNjc1MmZhNDE3YjllOTdkOTE4MDUzZThhMzIpOwogICAgICAgICAgICAKCiAgICAgICAgICAgIG1hcmtlcl9lMDA2YjljMjQ3ZTc0NzllOGZiMDFiMzlmMWY4YWEyNS5iaW5kUG9wdXAocG9wdXBfYTY1MWQwYWRmNmZhNDFhOGFhMzcxNzdjOGRlNWQ1NGYpOwoKICAgICAgICAgICAgCiAgICAgICAgCiAgICAgICAgCiAgICAgICAgICAgIAoKICAgICAgICAgICAgdmFyIG1hcmtlcl9jZTJkMjc0OTZhYTc0ZGNlYmZlZDZhOWM2MTQ0YTY4NCA9IEwubWFya2VyKAogICAgICAgICAgICAgICAgWzQwLjc2MTU0LC03My45ODA3Nl0sCiAgICAgICAgICAgICAgICB7CiAgICAgICAgICAgICAgICAgICAgaWNvbjogbmV3IEwuSWNvbi5EZWZhdWx0KCkKICAgICAgICAgICAgICAgICAgICB9CiAgICAgICAgICAgICAgICApCiAgICAgICAgICAgICAgICAuYWRkVG8obWFwX2NjODg3NWQ0NDVjOTRjNjRiZmJkNGZiOWZhYzgxYjIzKTsKICAgICAgICAgICAgCiAgICAgICAgCiAgICAgICAgICAgIAogICAgICAgICAgICB2YXIgcG9wdXBfMDVkODVjODUwMmRmNDZhMWEyYTU0NTg3YjQ1MDhmNjIgPSBMLnBvcHVwKHttYXhXaWR0aDogJzMwMCd9KTsKCiAgICAgICAgICAgIAogICAgICAgICAgICAgICAgdmFyIGh0bWxfZTEwNzYxOWI1NmZkNDBhZThjYTdlMGI3ZDMzMThmOGMgPSAkKCcgICAgICAgICA8ZGl2IGlkPSJodG1sX2UxMDc2MTliNTZmZDQwYWU4Y2E3ZTBiN2QzMzE4ZjhjIiAgICAgICAgICAgICAgICAgc3R5bGU9IndpZHRoOiAxMDAuMCU7IGhlaWdodDogMTAwLjAlOyI+ICAgICAgICAgICAgICAgICBYT1hDaGFVaGdkZVJLeU5yNlUzdmFBPC9kaXY+ICAgICAgICAgICAgICAgICAnKVswXTsKICAgICAgICAgICAgICAgIHBvcHVwXzA1ZDg1Yzg1MDJkZjQ2YTFhMmE1NDU4N2I0NTA4ZjYyLnNldENvbnRlbnQoaHRtbF9lMTA3NjE5YjU2ZmQ0MGFlOGNhN2UwYjdkMzMxOGY4Yyk7CiAgICAgICAgICAgIAoKICAgICAgICAgICAgbWFya2VyX2NlMmQyNzQ5NmFhNzRkY2ViZmVkNmE5YzYxNDRhNjg0LmJpbmRQb3B1cChwb3B1cF8wNWQ4NWM4NTAyZGY0NmExYTJhNTQ1ODdiNDUwOGY2Mik7CgogICAgICAgICAgICAKICAgICAgICAKICAgICAgICAKICAgICAgICAgICAgCgogICAgICAgICAgICB2YXIgbWFya2VyXzU2ZTE4YjNiOGU3MTQwOTQ4NmI3NDkwZGMzZDk3NjgyID0gTC5tYXJrZXIoCiAgICAgICAgICAgICAgICBbNDAuNzU4NzUwNzYsLTczLjk3MzU1NjMzXSwKICAgICAgICAgICAgICAgIHsKICAgICAgICAgICAgICAgICAgICBpY29uOiBuZXcgTC5JY29uLkRlZmF1bHQoKQogICAgICAgICAgICAgICAgICAgIH0KICAgICAgICAgICAgICAgICkKICAgICAgICAgICAgICAgIC5hZGRUbyhtYXBfY2M4ODc1ZDQ0NWM5NGM2NGJmYmQ0ZmI5ZmFjODFiMjMpOwogICAgICAgICAgICAKICAgICAgICAKICAgICAgICAgICAgCiAgICAgICAgICAgIHZhciBwb3B1cF8xNmIxM2I1MGUyYjA0YmRkOTdiMmUzNmUwMWRlMTcxMSA9IEwucG9wdXAoe21heFdpZHRoOiAnMzAwJ30pOwoKICAgICAgICAgICAgCiAgICAgICAgICAgICAgICB2YXIgaHRtbF9hZTQzYzU4YTZkZTc0ZTU0OTVmZTMwNjE5NmJmZTRmMyA9ICQoJyAgICAgICAgIDxkaXYgaWQ9Imh0bWxfYWU0M2M1OGE2ZGU3NGU1NDk1ZmUzMDYxOTZiZmU0ZjMiICAgICAgICAgICAgICAgICBzdHlsZT0id2lkdGg6IDEwMC4wJTsgaGVpZ2h0OiAxMDAuMCU7Ij4gICAgICAgICAgICAgICAgIDhVcFlzQldvekxoRHJpcnlLX3d3VUE8L2Rpdj4gICAgICAgICAgICAgICAgICcpWzBdOwogICAgICAgICAgICAgICAgcG9wdXBfMTZiMTNiNTBlMmIwNGJkZDk3YjJlMzZlMDFkZTE3MTEuc2V0Q29udGVudChodG1sX2FlNDNjNThhNmRlNzRlNTQ5NWZlMzA2MTk2YmZlNGYzKTsKICAgICAgICAgICAgCgogICAgICAgICAgICBtYXJrZXJfNTZlMThiM2I4ZTcxNDA5NDg2Yjc0OTBkYzNkOTc2ODIuYmluZFBvcHVwKHBvcHVwXzE2YjEzYjUwZTJiMDRiZGQ5N2IyZTM2ZTAxZGUxNzExKTsKCiAgICAgICAgICAgIAogICAgICAgIAogICAgICAgIAogICAgICAgICAgICAKCiAgICAgICAgICAgIHZhciBtYXJrZXJfOTZkYzc4MjVjMzc5NDllNzlmZjMzZDZhNGMyZWVkNWEgPSBMLm1hcmtlcigKICAgICAgICAgICAgICAgIFs0MC43NjE2OTU4NjE4MTY0LC03My45ODE3OTYyNjQ2NDg0XSwKICAgICAgICAgICAgICAgIHsKICAgICAgICAgICAgICAgICAgICBpY29uOiBuZXcgTC5JY29uLkRlZmF1bHQoKQogICAgICAgICAgICAgICAgICAgIH0KICAgICAgICAgICAgICAgICkKICAgICAgICAgICAgICAgIC5hZGRUbyhtYXBfY2M4ODc1ZDQ0NWM5NGM2NGJmYmQ0ZmI5ZmFjODFiMjMpOwogICAgICAgICAgICAKICAgICAgICAKICAgICAgICAgICAgCiAgICAgICAgICAgIHZhciBwb3B1cF9mNTdiNjY4Zjc2NmY0Njg0YjM1ZGRkNDcyMmRkZjRkMiA9IEwucG9wdXAoe21heFdpZHRoOiAnMzAwJ30pOwoKICAgICAgICAgICAgCiAgICAgICAgICAgICAgICB2YXIgaHRtbF8zYzhiMjA1NDcxYTA0OGI1YWJiZjNhZTFjMTQ0MzA3ZiA9ICQoJyAgICAgICAgIDxkaXYgaWQ9Imh0bWxfM2M4YjIwNTQ3MWEwNDhiNWFiYmYzYWUxYzE0NDMwN2YiICAgICAgICAgICAgICAgICBzdHlsZT0id2lkdGg6IDEwMC4wJTsgaGVpZ2h0OiAxMDAuMCU7Ij4gICAgICAgICAgICAgICAgIHNuQ29zUHlZTzFHLVNEeE1zMHVscHc8L2Rpdj4gICAgICAgICAgICAgICAgICcpWzBdOwogICAgICAgICAgICAgICAgcG9wdXBfZjU3YjY2OGY3NjZmNDY4NGIzNWRkZDQ3MjJkZGY0ZDIuc2V0Q29udGVudChodG1sXzNjOGIyMDU0NzFhMDQ4YjVhYmJmM2FlMWMxNDQzMDdmKTsKICAgICAgICAgICAgCgogICAgICAgICAgICBtYXJrZXJfOTZkYzc4MjVjMzc5NDllNzlmZjMzZDZhNGMyZWVkNWEuYmluZFBvcHVwKHBvcHVwX2Y1N2I2NjhmNzY2ZjQ2ODRiMzVkZGQ0NzIyZGRmNGQyKTsKCiAgICAgICAgICAgIAogICAgICAgIAogICAgICAgIAogICAgICAgICAgICAKCiAgICAgICAgICAgIHZhciBtYXJrZXJfYWQ1MjkxZjRlOGRiNDE1MWI3M2M4Njc0YmMwMDU3NzcgPSBMLm1hcmtlcigKICAgICAgICAgICAgICAgIFs0MC43NTY1MDQsLTczLjk3MzM1XSwKICAgICAgICAgICAgICAgIHsKICAgICAgICAgICAgICAgICAgICBpY29uOiBuZXcgTC5JY29uLkRlZmF1bHQoKQogICAgICAgICAgICAgICAgICAgIH0KICAgICAgICAgICAgICAgICkKICAgICAgICAgICAgICAgIC5hZGRUbyhtYXBfY2M4ODc1ZDQ0NWM5NGM2NGJmYmQ0ZmI5ZmFjODFiMjMpOwogICAgICAgICAgICAKICAgICAgICAKICAgICAgICAgICAgCiAgICAgICAgICAgIHZhciBwb3B1cF8wNjgxZTlkYjQ1Y2Q0Mjg1YjBmMzc4YjBlYTMwZWJkMCA9IEwucG9wdXAoe21heFdpZHRoOiAnMzAwJ30pOwoKICAgICAgICAgICAgCiAgICAgICAgICAgICAgICB2YXIgaHRtbF9hYjU5ZjIyODZiNWM0YTRiOTYxZWYwZWVhMTAyODE5NCA9ICQoJyAgICAgICAgIDxkaXYgaWQ9Imh0bWxfYWI1OWYyMjg2YjVjNGE0Yjk2MWVmMGVlYTEwMjgxOTQiICAgICAgICAgICAgICAgICBzdHlsZT0id2lkdGg6IDEwMC4wJTsgaGVpZ2h0OiAxMDAuMCU7Ij4gICAgICAgICAgICAgICAgIDUtSjBvMzFGOFo5VTlPZDYwb3otQVE8L2Rpdj4gICAgICAgICAgICAgICAgICcpWzBdOwogICAgICAgICAgICAgICAgcG9wdXBfMDY4MWU5ZGI0NWNkNDI4NWIwZjM3OGIwZWEzMGViZDAuc2V0Q29udGVudChodG1sX2FiNTlmMjI4NmI1YzRhNGI5NjFlZjBlZWExMDI4MTk0KTsKICAgICAgICAgICAgCgogICAgICAgICAgICBtYXJrZXJfYWQ1MjkxZjRlOGRiNDE1MWI3M2M4Njc0YmMwMDU3NzcuYmluZFBvcHVwKHBvcHVwXzA2ODFlOWRiNDVjZDQyODViMGYzNzhiMGVhMzBlYmQwKTsKCiAgICAgICAgICAgIAogICAgICAgIAogICAgICAgIAogICAgICAgICAgICAKCiAgICAgICAgICAgIHZhciBtYXJrZXJfZWFkZTViYzgyZjEyNDNmOWFmNjMxZmRjZmI1ZGJjN2YgPSBMLm1hcmtlcigKICAgICAgICAgICAgICAgIFs0MC43NjA3MzYsLTczLjk4Mzc4Ml0sCiAgICAgICAgICAgICAgICB7CiAgICAgICAgICAgICAgICAgICAgaWNvbjogbmV3IEwuSWNvbi5EZWZhdWx0KCkKICAgICAgICAgICAgICAgICAgICB9CiAgICAgICAgICAgICAgICApCiAgICAgICAgICAgICAgICAuYWRkVG8obWFwX2NjODg3NWQ0NDVjOTRjNjRiZmJkNGZiOWZhYzgxYjIzKTsKICAgICAgICAgICAgCiAgICAgICAgCiAgICAgICAgICAgIAogICAgICAgICAgICB2YXIgcG9wdXBfY2QxYWE5NGRkZmE5NDZkOThjZjAzMGNiMjE1OWRmMTkgPSBMLnBvcHVwKHttYXhXaWR0aDogJzMwMCd9KTsKCiAgICAgICAgICAgIAogICAgICAgICAgICAgICAgdmFyIGh0bWxfYTVkNmIyNGYzYWMxNDYzYTliM2UyYTQyMDczNGVmMDAgPSAkKCcgICAgICAgICA8ZGl2IGlkPSJodG1sX2E1ZDZiMjRmM2FjMTQ2M2E5YjNlMmE0MjA3MzRlZjAwIiAgICAgICAgICAgICAgICAgc3R5bGU9IndpZHRoOiAxMDAuMCU7IGhlaWdodDogMTAwLjAlOyI+ICAgICAgICAgICAgICAgICBHLVAxVktVbmJEQzFUeFZ3d3RTNFh3PC9kaXY+ICAgICAgICAgICAgICAgICAnKVswXTsKICAgICAgICAgICAgICAgIHBvcHVwX2NkMWFhOTRkZGZhOTQ2ZDk4Y2YwMzBjYjIxNTlkZjE5LnNldENvbnRlbnQoaHRtbF9hNWQ2YjI0ZjNhYzE0NjNhOWIzZTJhNDIwNzM0ZWYwMCk7CiAgICAgICAgICAgIAoKICAgICAgICAgICAgbWFya2VyX2VhZGU1YmM4MmYxMjQzZjlhZjYzMWZkY2ZiNWRiYzdmLmJpbmRQb3B1cChwb3B1cF9jZDFhYTk0ZGRmYTk0NmQ5OGNmMDMwY2IyMTU5ZGYxOSk7CgogICAgICAgICAgICAKICAgICAgICAKICAgICAgICAKICAgICAgICAgICAgCgogICAgICAgICAgICB2YXIgbWFya2VyXzNiNDYzYWU4ZmUzNjRjYmViODBkYjdiYWI3YjVmMGE5ID0gTC5tYXJrZXIoCiAgICAgICAgICAgICAgICBbNDAuNzYwMTg5LC03My45ODQzNTldLAogICAgICAgICAgICAgICAgewogICAgICAgICAgICAgICAgICAgIGljb246IG5ldyBMLkljb24uRGVmYXVsdCgpCiAgICAgICAgICAgICAgICAgICAgfQogICAgICAgICAgICAgICAgKQogICAgICAgICAgICAgICAgLmFkZFRvKG1hcF9jYzg4NzVkNDQ1Yzk0YzY0YmZiZDRmYjlmYWM4MWIyMyk7CiAgICAgICAgICAgIAogICAgICAgIAogICAgICAgICAgICAKICAgICAgICAgICAgdmFyIHBvcHVwXzhiNTE1MmMyYjNiMjQ3NmRhNTJjMTRjYzQ0Yjg1M2RkID0gTC5wb3B1cCh7bWF4V2lkdGg6ICczMDAnfSk7CgogICAgICAgICAgICAKICAgICAgICAgICAgICAgIHZhciBodG1sXzM4YTAyMmZmM2Q4MTQ4Y2RiYzNhZGM5ZWU5MDA4MWNlID0gJCgnICAgICAgICAgPGRpdiBpZD0iaHRtbF8zOGEwMjJmZjNkODE0OGNkYmMzYWRjOWVlOTAwODFjZSIgICAgICAgICAgICAgICAgIHN0eWxlPSJ3aWR0aDogMTAwLjAlOyBoZWlnaHQ6IDEwMC4wJTsiPiAgICAgICAgICAgICAgICAgQVlqaHRmZWlfb2lYU0k0Vmo2Qkg3QTwvZGl2PiAgICAgICAgICAgICAgICAgJylbMF07CiAgICAgICAgICAgICAgICBwb3B1cF84YjUxNTJjMmIzYjI0NzZkYTUyYzE0Y2M0NGI4NTNkZC5zZXRDb250ZW50KGh0bWxfMzhhMDIyZmYzZDgxNDhjZGJjM2FkYzllZTkwMDgxY2UpOwogICAgICAgICAgICAKCiAgICAgICAgICAgIG1hcmtlcl8zYjQ2M2FlOGZlMzY0Y2JlYjgwZGI3YmFiN2I1ZjBhOS5iaW5kUG9wdXAocG9wdXBfOGI1MTUyYzJiM2IyNDc2ZGE1MmMxNGNjNDRiODUzZGQpOwoKICAgICAgICAgICAgCiAgICAgICAgCiAgICAgICAgCiAgICAgICAgICAgIAoKICAgICAgICAgICAgdmFyIG1hcmtlcl9kMWIzYzZmNmRlZWU0ZDc2YTI0ZjE0NTE3NWEwMWU4NiA9IEwubWFya2VyKAogICAgICAgICAgICAgICAgWzQwLjc2MzYzMiwtNzMuOTc3MzUzXSwKICAgICAgICAgICAgICAgIHsKICAgICAgICAgICAgICAgICAgICBpY29uOiBuZXcgTC5JY29uLkRlZmF1bHQoKQogICAgICAgICAgICAgICAgICAgIH0KICAgICAgICAgICAgICAgICkKICAgICAgICAgICAgICAgIC5hZGRUbyhtYXBfY2M4ODc1ZDQ0NWM5NGM2NGJmYmQ0ZmI5ZmFjODFiMjMpOwogICAgICAgICAgICAKICAgICAgICAKICAgICAgICAgICAgCiAgICAgICAgICAgIHZhciBwb3B1cF80ODFkNTM1ZGRkZjQ0ZGZmYWIxZTI5NDY1NzUxZTUxYSA9IEwucG9wdXAoe21heFdpZHRoOiAnMzAwJ30pOwoKICAgICAgICAgICAgCiAgICAgICAgICAgICAgICB2YXIgaHRtbF80M2U3NzQ4OTZhMTU0OTM3OTI0Y2M2MTgzNTRlNTFhYyA9ICQoJyAgICAgICAgIDxkaXYgaWQ9Imh0bWxfNDNlNzc0ODk2YTE1NDkzNzkyNGNjNjE4MzU0ZTUxYWMiICAgICAgICAgICAgICAgICBzdHlsZT0id2lkdGg6IDEwMC4wJTsgaGVpZ2h0OiAxMDAuMCU7Ij4gICAgICAgICAgICAgICAgIFhUMFhtdFRzWjBzMnpCdEZCeHJSZkE8L2Rpdj4gICAgICAgICAgICAgICAgICcpWzBdOwogICAgICAgICAgICAgICAgcG9wdXBfNDgxZDUzNWRkZGY0NGRmZmFiMWUyOTQ2NTc1MWU1MWEuc2V0Q29udGVudChodG1sXzQzZTc3NDg5NmExNTQ5Mzc5MjRjYzYxODM1NGU1MWFjKTsKICAgICAgICAgICAgCgogICAgICAgICAgICBtYXJrZXJfZDFiM2M2ZjZkZWVlNGQ3NmEyNGYxNDUxNzVhMDFlODYuYmluZFBvcHVwKHBvcHVwXzQ4MWQ1MzVkZGRmNDRkZmZhYjFlMjk0NjU3NTFlNTFhKTsKCiAgICAgICAgICAgIAogICAgICAgIAogICAgICAgIAogICAgICAgICAgICAKCiAgICAgICAgICAgIHZhciBtYXJrZXJfNDM5ZGVlNDZjZGJmNDk4OWJiYmE1MTY3Y2JhNDI3NzEgPSBMLm1hcmtlcigKICAgICAgICAgICAgICAgIFs0MC43NTY4MzYsLTczLjk3MjgzXSwKICAgICAgICAgICAgICAgIHsKICAgICAgICAgICAgICAgICAgICBpY29uOiBuZXcgTC5JY29uLkRlZmF1bHQoKQogICAgICAgICAgICAgICAgICAgIH0KICAgICAgICAgICAgICAgICkKICAgICAgICAgICAgICAgIC5hZGRUbyhtYXBfY2M4ODc1ZDQ0NWM5NGM2NGJmYmQ0ZmI5ZmFjODFiMjMpOwogICAgICAgICAgICAKICAgICAgICAKICAgICAgICAgICAgCiAgICAgICAgICAgIHZhciBwb3B1cF8zMTFmNDQzN2Y5MTk0Y2ZhODVkN2FjMjBlZDc3NDRlNCA9IEwucG9wdXAoe21heFdpZHRoOiAnMzAwJ30pOwoKICAgICAgICAgICAgCiAgICAgICAgICAgICAgICB2YXIgaHRtbF9iZjFiODY4NWQxMTY0NzI4OTg1YzQ3NDQwNjJjMjRmMCA9ICQoJyAgICAgICAgIDxkaXYgaWQ9Imh0bWxfYmYxYjg2ODVkMTE2NDcyODk4NWM0NzQ0MDYyYzI0ZjAiICAgICAgICAgICAgICAgICBzdHlsZT0id2lkdGg6IDEwMC4wJTsgaGVpZ2h0OiAxMDAuMCU7Ij4gICAgICAgICAgICAgICAgIDN6bnMyQ1VBNFNXNFg1clhGOHJEMmc8L2Rpdj4gICAgICAgICAgICAgICAgICcpWzBdOwogICAgICAgICAgICAgICAgcG9wdXBfMzExZjQ0MzdmOTE5NGNmYTg1ZDdhYzIwZWQ3NzQ0ZTQuc2V0Q29udGVudChodG1sX2JmMWI4Njg1ZDExNjQ3Mjg5ODVjNDc0NDA2MmMyNGYwKTsKICAgICAgICAgICAgCgogICAgICAgICAgICBtYXJrZXJfNDM5ZGVlNDZjZGJmNDk4OWJiYmE1MTY3Y2JhNDI3NzEuYmluZFBvcHVwKHBvcHVwXzMxMWY0NDM3ZjkxOTRjZmE4NWQ3YWMyMGVkNzc0NGU0KTsKCiAgICAgICAgICAgIAogICAgICAgIAogICAgICAgIAogICAgICAgICAgICAKCiAgICAgICAgICAgIHZhciBtYXJrZXJfNzBlMTYwMzY5YzEzNDhiYWEzM2U4ODgyZDBiYzY3MWEgPSBMLm1hcmtlcigKICAgICAgICAgICAgICAgIFs0MC43NTM5MDEsLTczLjk3ODY5M10sCiAgICAgICAgICAgICAgICB7CiAgICAgICAgICAgICAgICAgICAgaWNvbjogbmV3IEwuSWNvbi5EZWZhdWx0KCkKICAgICAgICAgICAgICAgICAgICB9CiAgICAgICAgICAgICAgICApCiAgICAgICAgICAgICAgICAuYWRkVG8obWFwX2NjODg3NWQ0NDVjOTRjNjRiZmJkNGZiOWZhYzgxYjIzKTsKICAgICAgICAgICAgCiAgICAgICAgCiAgICAgICAgICAgIAogICAgICAgICAgICB2YXIgcG9wdXBfOTQyMmVkYjg1ZGJkNGQ2ZThkMjkyMGM1NGI3N2IwZjYgPSBMLnBvcHVwKHttYXhXaWR0aDogJzMwMCd9KTsKCiAgICAgICAgICAgIAogICAgICAgICAgICAgICAgdmFyIGh0bWxfNDVjNDg5ZjhiYjliNGQyMThkNGVkOWEzMmY5ODRhNTUgPSAkKCcgICAgICAgICA8ZGl2IGlkPSJodG1sXzQ1YzQ4OWY4YmI5YjRkMjE4ZDRlZDlhMzJmOTg0YTU1IiAgICAgICAgICAgICAgICAgc3R5bGU9IndpZHRoOiAxMDAuMCU7IGhlaWdodDogMTAwLjAlOyI+ICAgICAgICAgICAgICAgICAyYmZDbERuUXVZc0dodFU0NmpkX1FRPC9kaXY+ICAgICAgICAgICAgICAgICAnKVswXTsKICAgICAgICAgICAgICAgIHBvcHVwXzk0MjJlZGI4NWRiZDRkNmU4ZDI5MjBjNTRiNzdiMGY2LnNldENvbnRlbnQoaHRtbF80NWM0ODlmOGJiOWI0ZDIxOGQ0ZWQ5YTMyZjk4NGE1NSk7CiAgICAgICAgICAgIAoKICAgICAgICAgICAgbWFya2VyXzcwZTE2MDM2OWMxMzQ4YmFhMzNlODg4MmQwYmM2NzFhLmJpbmRQb3B1cChwb3B1cF85NDIyZWRiODVkYmQ0ZDZlOGQyOTIwYzU0Yjc3YjBmNik7CgogICAgICAgICAgICAKICAgICAgICAKICAgICAgICAKICAgICAgICAgICAgCgogICAgICAgICAgICB2YXIgbWFya2VyX2I1ODhkZDE3ZWQ2NDQyYTQ4YTA4MzQ3MThlOGNkY2YzID0gTC5tYXJrZXIoCiAgICAgICAgICAgICAgICBbNDAuNzU0MjIyLC03My45NzYzNl0sCiAgICAgICAgICAgICAgICB7CiAgICAgICAgICAgICAgICAgICAgaWNvbjogbmV3IEwuSWNvbi5EZWZhdWx0KCkKICAgICAgICAgICAgICAgICAgICB9CiAgICAgICAgICAgICAgICApCiAgICAgICAgICAgICAgICAuYWRkVG8obWFwX2NjODg3NWQ0NDVjOTRjNjRiZmJkNGZiOWZhYzgxYjIzKTsKICAgICAgICAgICAgCiAgICAgICAgCiAgICAgICAgICAgIAogICAgICAgICAgICB2YXIgcG9wdXBfMWMzMWMxMzZkZDQ2NGRlNmFmNzQ4NTkwNGRiYjI3MDggPSBMLnBvcHVwKHttYXhXaWR0aDogJzMwMCd9KTsKCiAgICAgICAgICAgIAogICAgICAgICAgICAgICAgdmFyIGh0bWxfMWRjZmRmZDQyYWIzNDlkODkxMDZiM2EwNGQ2MjkxMmIgPSAkKCcgICAgICAgICA8ZGl2IGlkPSJodG1sXzFkY2ZkZmQ0MmFiMzQ5ZDg5MTA2YjNhMDRkNjI5MTJiIiAgICAgICAgICAgICAgICAgc3R5bGU9IndpZHRoOiAxMDAuMCU7IGhlaWdodDogMTAwLjAlOyI+ICAgICAgICAgICAgICAgICBfU0lKNDd5Y1dpQlNDY29MRWFMSE1nPC9kaXY+ICAgICAgICAgICAgICAgICAnKVswXTsKICAgICAgICAgICAgICAgIHBvcHVwXzFjMzFjMTM2ZGQ0NjRkZTZhZjc0ODU5MDRkYmIyNzA4LnNldENvbnRlbnQoaHRtbF8xZGNmZGZkNDJhYjM0OWQ4OTEwNmIzYTA0ZDYyOTEyYik7CiAgICAgICAgICAgIAoKICAgICAgICAgICAgbWFya2VyX2I1ODhkZDE3ZWQ2NDQyYTQ4YTA4MzQ3MThlOGNkY2YzLmJpbmRQb3B1cChwb3B1cF8xYzMxYzEzNmRkNDY0ZGU2YWY3NDg1OTA0ZGJiMjcwOCk7CgogICAgICAgICAgICAKICAgICAgICAKICAgICAgICAKICAgICAgICAgICAgCgogICAgICAgICAgICB2YXIgbWFya2VyX2E2MTRhMDVjZTk3ZjQ4ZWZiZjUxOTJmNTUzNWYzM2Q1ID0gTC5tYXJrZXIoCiAgICAgICAgICAgICAgICBbNDAuNzU5NjM2LC03My45ODUyMjJdLAogICAgICAgICAgICAgICAgewogICAgICAgICAgICAgICAgICAgIGljb246IG5ldyBMLkljb24uRGVmYXVsdCgpCiAgICAgICAgICAgICAgICAgICAgfQogICAgICAgICAgICAgICAgKQogICAgICAgICAgICAgICAgLmFkZFRvKG1hcF9jYzg4NzVkNDQ1Yzk0YzY0YmZiZDRmYjlmYWM4MWIyMyk7CiAgICAgICAgICAgIAogICAgICAgIAogICAgICAgICAgICAKICAgICAgICAgICAgdmFyIHBvcHVwX2Q2YTIzZDAyYjgyNDRkY2JiNTgxMDIzZTg2MDk3OGQzID0gTC5wb3B1cCh7bWF4V2lkdGg6ICczMDAnfSk7CgogICAgICAgICAgICAKICAgICAgICAgICAgICAgIHZhciBodG1sX2I1OTY2Mjk3ODc1MzRkZDU5MDU4NDVkYzc5NGI4NTUwID0gJCgnICAgICAgICAgPGRpdiBpZD0iaHRtbF9iNTk2NjI5Nzg3NTM0ZGQ1OTA1ODQ1ZGM3OTRiODU1MCIgICAgICAgICAgICAgICAgIHN0eWxlPSJ3aWR0aDogMTAwLjAlOyBoZWlnaHQ6IDEwMC4wJTsiPiAgICAgICAgICAgICAgICAgY1ZudkxtaUxFcUJ4bl9LNUZIa3dwUTwvZGl2PiAgICAgICAgICAgICAgICAgJylbMF07CiAgICAgICAgICAgICAgICBwb3B1cF9kNmEyM2QwMmI4MjQ0ZGNiYjU4MTAyM2U4NjA5NzhkMy5zZXRDb250ZW50KGh0bWxfYjU5NjYyOTc4NzUzNGRkNTkwNTg0NWRjNzk0Yjg1NTApOwogICAgICAgICAgICAKCiAgICAgICAgICAgIG1hcmtlcl9hNjE0YTA1Y2U5N2Y0OGVmYmY1MTkyZjU1MzVmMzNkNS5iaW5kUG9wdXAocG9wdXBfZDZhMjNkMDJiODI0NGRjYmI1ODEwMjNlODYwOTc4ZDMpOwoKICAgICAgICAgICAgCiAgICAgICAgCiAgICAgICAgCiAgICAgICAgICAgIAoKICAgICAgICAgICAgdmFyIG1hcmtlcl9mMjg4YmYzYmQyNTY0OGExODk2YmJhNWJmOTk4MjI2MiA9IEwubWFya2VyKAogICAgICAgICAgICAgICAgW25hbixuYW5dLAogICAgICAgICAgICAgICAgewogICAgICAgICAgICAgICAgICAgIGljb246IG5ldyBMLkljb24uRGVmYXVsdCgpCiAgICAgICAgICAgICAgICAgICAgfQogICAgICAgICAgICAgICAgKQogICAgICAgICAgICAgICAgLmFkZFRvKG1hcF9jYzg4NzVkNDQ1Yzk0YzY0YmZiZDRmYjlmYWM4MWIyMyk7CiAgICAgICAgICAgIAogICAgICAgIAogICAgICAgICAgICAKICAgICAgICAgICAgdmFyIHBvcHVwX2U2NzE4NzZkMzZiYzQ1M2JhN2NlYzMxN2Q1OTExODFhID0gTC5wb3B1cCh7bWF4V2lkdGg6ICczMDAnfSk7CgogICAgICAgICAgICAKICAgICAgICAgICAgICAgIHZhciBodG1sXzEyY2IxMGFiOWY0MTQ2NWE4MmZhY2I5NjkwNzAzNWMwID0gJCgnICAgICAgICAgPGRpdiBpZD0iaHRtbF8xMmNiMTBhYjlmNDE0NjVhODJmYWNiOTY5MDcwMzVjMCIgICAgICAgICAgICAgICAgIHN0eWxlPSJ3aWR0aDogMTAwLjAlOyBoZWlnaHQ6IDEwMC4wJTsiPiAgICAgICAgICAgICAgICAgaG9BZ1U2cnZoQnVjcGdQZmh3VFE1UTwvZGl2PiAgICAgICAgICAgICAgICAgJylbMF07CiAgICAgICAgICAgICAgICBwb3B1cF9lNjcxODc2ZDM2YmM0NTNiYTdjZWMzMTdkNTkxMTgxYS5zZXRDb250ZW50KGh0bWxfMTJjYjEwYWI5ZjQxNDY1YTgyZmFjYjk2OTA3MDM1YzApOwogICAgICAgICAgICAKCiAgICAgICAgICAgIG1hcmtlcl9mMjg4YmYzYmQyNTY0OGExODk2YmJhNWJmOTk4MjI2Mi5iaW5kUG9wdXAocG9wdXBfZTY3MTg3NmQzNmJjNDUzYmE3Y2VjMzE3ZDU5MTE4MWEpOwoKICAgICAgICAgICAgCiAgICAgICAgCiAgICAgICAgCiAgICAgICAgICAgIAoKICAgICAgICAgICAgdmFyIG1hcmtlcl8xN2ZmMDBhNGVjNmM0NjU5OWRlODExYjdmNjYxYjNhMyA9IEwubWFya2VyKAogICAgICAgICAgICAgICAgWzQwLjc2Mzk5LC03My45Nzg4ODRdLAogICAgICAgICAgICAgICAgewogICAgICAgICAgICAgICAgICAgIGljb246IG5ldyBMLkljb24uRGVmYXVsdCgpCiAgICAgICAgICAgICAgICAgICAgfQogICAgICAgICAgICAgICAgKQogICAgICAgICAgICAgICAgLmFkZFRvKG1hcF9jYzg4NzVkNDQ1Yzk0YzY0YmZiZDRmYjlmYWM4MWIyMyk7CiAgICAgICAgICAgIAogICAgICAgIAogICAgICAgICAgICAKICAgICAgICAgICAgdmFyIHBvcHVwX2Y5N2Y1YzM3MzI1MDQ2ZjZiZDFmMWEzNzU4NjUxZDEwID0gTC5wb3B1cCh7bWF4V2lkdGg6ICczMDAnfSk7CgogICAgICAgICAgICAKICAgICAgICAgICAgICAgIHZhciBodG1sXzJiNmE3ZWRjYTMxNDQwMzE4OGVlZTE0MTdiMWY5YTMyID0gJCgnICAgICAgICAgPGRpdiBpZD0iaHRtbF8yYjZhN2VkY2EzMTQ0MDMxODhlZWUxNDE3YjFmOWEzMiIgICAgICAgICAgICAgICAgIHN0eWxlPSJ3aWR0aDogMTAwLjAlOyBoZWlnaHQ6IDEwMC4wJTsiPiAgICAgICAgICAgICAgICAgdUFyc19SeEpwZzFaRmY0NV83NkdodzwvZGl2PiAgICAgICAgICAgICAgICAgJylbMF07CiAgICAgICAgICAgICAgICBwb3B1cF9mOTdmNWMzNzMyNTA0NmY2YmQxZjFhMzc1ODY1MWQxMC5zZXRDb250ZW50KGh0bWxfMmI2YTdlZGNhMzE0NDAzMTg4ZWVlMTQxN2IxZjlhMzIpOwogICAgICAgICAgICAKCiAgICAgICAgICAgIG1hcmtlcl8xN2ZmMDBhNGVjNmM0NjU5OWRlODExYjdmNjYxYjNhMy5iaW5kUG9wdXAocG9wdXBfZjk3ZjVjMzczMjUwNDZmNmJkMWYxYTM3NTg2NTFkMTApOwoKICAgICAgICAgICAgCiAgICAgICAgCiAgICAgICAgCiAgICAgICAgICAgIAoKICAgICAgICAgICAgdmFyIG1hcmtlcl82NmY4Mjc3Y2U0ZDY0NzZkOGZiNzNiN2RmYjYyYWY0ZCA9IEwubWFya2VyKAogICAgICAgICAgICAgICAgWzQwLjc1MzYwODc4OTczNzEsLTczLjk3ODI3MjM3ODQ0NDddLAogICAgICAgICAgICAgICAgewogICAgICAgICAgICAgICAgICAgIGljb246IG5ldyBMLkljb24uRGVmYXVsdCgpCiAgICAgICAgICAgICAgICAgICAgfQogICAgICAgICAgICAgICAgKQogICAgICAgICAgICAgICAgLmFkZFRvKG1hcF9jYzg4NzVkNDQ1Yzk0YzY0YmZiZDRmYjlmYWM4MWIyMyk7CiAgICAgICAgICAgIAogICAgICAgIAogICAgICAgICAgICAKICAgICAgICAgICAgdmFyIHBvcHVwX2FmMjY3MmI1MDM1NTQ0YzU4MjRmZjg4YWEwZmMyNGU0ID0gTC5wb3B1cCh7bWF4V2lkdGg6ICczMDAnfSk7CgogICAgICAgICAgICAKICAgICAgICAgICAgICAgIHZhciBodG1sX2ViZDRjZWUxODc1NTRiMmZiYWJkNDNiNjgwMmJhMzk1ID0gJCgnICAgICAgICAgPGRpdiBpZD0iaHRtbF9lYmQ0Y2VlMTg3NTU0YjJmYmFiZDQzYjY4MDJiYTM5NSIgICAgICAgICAgICAgICAgIHN0eWxlPSJ3aWR0aDogMTAwLjAlOyBoZWlnaHQ6IDEwMC4wJTsiPiAgICAgICAgICAgICAgICAgcmtRb0tLdHk5Y3JVOFJQMEc4X2lQQTwvZGl2PiAgICAgICAgICAgICAgICAgJylbMF07CiAgICAgICAgICAgICAgICBwb3B1cF9hZjI2NzJiNTAzNTU0NGM1ODI0ZmY4OGFhMGZjMjRlNC5zZXRDb250ZW50KGh0bWxfZWJkNGNlZTE4NzU1NGIyZmJhYmQ0M2I2ODAyYmEzOTUpOwogICAgICAgICAgICAKCiAgICAgICAgICAgIG1hcmtlcl82NmY4Mjc3Y2U0ZDY0NzZkOGZiNzNiN2RmYjYyYWY0ZC5iaW5kUG9wdXAocG9wdXBfYWYyNjcyYjUwMzU1NDRjNTgyNGZmODhhYTBmYzI0ZTQpOwoKICAgICAgICAgICAgCiAgICAgICAgCiAgICAgICAgCiAgICAgICAgICAgIAoKICAgICAgICAgICAgdmFyIG1hcmtlcl9jYzcxYTkzNmIxODg0OTQwOTBiMWM0YjQyODY5YjhkNCA9IEwubWFya2VyKAogICAgICAgICAgICAgICAgWzQwLjc2MjQyNiwtNzMuOTgzNjMzMl0sCiAgICAgICAgICAgICAgICB7CiAgICAgICAgICAgICAgICAgICAgaWNvbjogbmV3IEwuSWNvbi5EZWZhdWx0KCkKICAgICAgICAgICAgICAgICAgICB9CiAgICAgICAgICAgICAgICApCiAgICAgICAgICAgICAgICAuYWRkVG8obWFwX2NjODg3NWQ0NDVjOTRjNjRiZmJkNGZiOWZhYzgxYjIzKTsKICAgICAgICAgICAgCiAgICAgICAgCiAgICAgICAgICAgIAogICAgICAgICAgICB2YXIgcG9wdXBfOTliMGEyMjAzNDU5NDRhMGEzMWY4ZGQ0NTFkODIxMTkgPSBMLnBvcHVwKHttYXhXaWR0aDogJzMwMCd9KTsKCiAgICAgICAgICAgIAogICAgICAgICAgICAgICAgdmFyIGh0bWxfYTk2YTZmZmIxNTE5NDJmOWI1MDYzMTZjODAxZGJlNDEgPSAkKCcgICAgICAgICA8ZGl2IGlkPSJodG1sX2E5NmE2ZmZiMTUxOTQyZjliNTA2MzE2YzgwMWRiZTQxIiAgICAgICAgICAgICAgICAgc3R5bGU9IndpZHRoOiAxMDAuMCU7IGhlaWdodDogMTAwLjAlOyI+ICAgICAgICAgICAgICAgICAwa2pwc1BRWDV5blNYWjFhdWZCaXp3PC9kaXY+ICAgICAgICAgICAgICAgICAnKVswXTsKICAgICAgICAgICAgICAgIHBvcHVwXzk5YjBhMjIwMzQ1OTQ0YTBhMzFmOGRkNDUxZDgyMTE5LnNldENvbnRlbnQoaHRtbF9hOTZhNmZmYjE1MTk0MmY5YjUwNjMxNmM4MDFkYmU0MSk7CiAgICAgICAgICAgIAoKICAgICAgICAgICAgbWFya2VyX2NjNzFhOTM2YjE4ODQ5NDA5MGIxYzRiNDI4NjliOGQ0LmJpbmRQb3B1cChwb3B1cF85OWIwYTIyMDM0NTk0NGEwYTMxZjhkZDQ1MWQ4MjExOSk7CgogICAgICAgICAgICAKICAgICAgICAKICAgICAgICAKICAgICAgICAgICAgCgogICAgICAgICAgICB2YXIgbWFya2VyXzk5NTk1MDZhOGIwODQ3OTc4Nzk0OTVjNDJiZTU2MTcwID0gTC5tYXJrZXIoCiAgICAgICAgICAgICAgICBbNDAuNzYyNzI1LC03My45NzQwMDJdLAogICAgICAgICAgICAgICAgewogICAgICAgICAgICAgICAgICAgIGljb246IG5ldyBMLkljb24uRGVmYXVsdCgpCiAgICAgICAgICAgICAgICAgICAgfQogICAgICAgICAgICAgICAgKQogICAgICAgICAgICAgICAgLmFkZFRvKG1hcF9jYzg4NzVkNDQ1Yzk0YzY0YmZiZDRmYjlmYWM4MWIyMyk7CiAgICAgICAgICAgIAogICAgICAgIAogICAgICAgICAgICAKICAgICAgICAgICAgdmFyIHBvcHVwXzNkZGQ0ZWRlNTVjYTRmYjQ5MDIyZGNlMDg0Zjc2YTY2ID0gTC5wb3B1cCh7bWF4V2lkdGg6ICczMDAnfSk7CgogICAgICAgICAgICAKICAgICAgICAgICAgICAgIHZhciBodG1sXzg4NjM2OTE4NDdjMzQ5YWZhNDc2ZmI4YWI5MWIzNDQ1ID0gJCgnICAgICAgICAgPGRpdiBpZD0iaHRtbF84ODYzNjkxODQ3YzM0OWFmYTQ3NmZiOGFiOTFiMzQ0NSIgICAgICAgICAgICAgICAgIHN0eWxlPSJ3aWR0aDogMTAwLjAlOyBoZWlnaHQ6IDEwMC4wJTsiPiAgICAgICAgICAgICAgICAgd2IzYXBSZmhsVW9PUGMwWk1VeUl1QTwvZGl2PiAgICAgICAgICAgICAgICAgJylbMF07CiAgICAgICAgICAgICAgICBwb3B1cF8zZGRkNGVkZTU1Y2E0ZmI0OTAyMmRjZTA4NGY3NmE2Ni5zZXRDb250ZW50KGh0bWxfODg2MzY5MTg0N2MzNDlhZmE0NzZmYjhhYjkxYjM0NDUpOwogICAgICAgICAgICAKCiAgICAgICAgICAgIG1hcmtlcl85OTU5NTA2YThiMDg0Nzk3ODc5NDk1YzQyYmU1NjE3MC5iaW5kUG9wdXAocG9wdXBfM2RkZDRlZGU1NWNhNGZiNDkwMjJkY2UwODRmNzZhNjYpOwoKICAgICAgICAgICAgCiAgICAgICAgCiAgICAgICAgCiAgICAgICAgICAgIAoKICAgICAgICAgICAgdmFyIG1hcmtlcl8zZTE0YmFjOWU4Y2U0MjdkYTI4NTFlYWQ2YTIyY2ZkNyA9IEwubWFya2VyKAogICAgICAgICAgICAgICAgW25hbixuYW5dLAogICAgICAgICAgICAgICAgewogICAgICAgICAgICAgICAgICAgIGljb246IG5ldyBMLkljb24uRGVmYXVsdCgpCiAgICAgICAgICAgICAgICAgICAgfQogICAgICAgICAgICAgICAgKQogICAgICAgICAgICAgICAgLmFkZFRvKG1hcF9jYzg4NzVkNDQ1Yzk0YzY0YmZiZDRmYjlmYWM4MWIyMyk7CiAgICAgICAgICAgIAogICAgICAgIAogICAgICAgICAgICAKICAgICAgICAgICAgdmFyIHBvcHVwXzY0Zjk0ZWE5NDJhNTQ1ZTA5MzM5YmNiOTliOWUxZTYxID0gTC5wb3B1cCh7bWF4V2lkdGg6ICczMDAnfSk7CgogICAgICAgICAgICAKICAgICAgICAgICAgICAgIHZhciBodG1sX2FiZDk4OTMzZGNmNjQxYTdhNDY1OTFkNjM5YjQyMzA0ID0gJCgnICAgICAgICAgPGRpdiBpZD0iaHRtbF9hYmQ5ODkzM2RjZjY0MWE3YTQ2NTkxZDYzOWI0MjMwNCIgICAgICAgICAgICAgICAgIHN0eWxlPSJ3aWR0aDogMTAwLjAlOyBoZWlnaHQ6IDEwMC4wJTsiPiAgICAgICAgICAgICAgICAgSEJMSXNFTWduTlN4ZE1JdGFUU2JFQTwvZGl2PiAgICAgICAgICAgICAgICAgJylbMF07CiAgICAgICAgICAgICAgICBwb3B1cF82NGY5NGVhOTQyYTU0NWUwOTMzOWJjYjk5YjllMWU2MS5zZXRDb250ZW50KGh0bWxfYWJkOTg5MzNkY2Y2NDFhN2E0NjU5MWQ2MzliNDIzMDQpOwogICAgICAgICAgICAKCiAgICAgICAgICAgIG1hcmtlcl8zZTE0YmFjOWU4Y2U0MjdkYTI4NTFlYWQ2YTIyY2ZkNy5iaW5kUG9wdXAocG9wdXBfNjRmOTRlYTk0MmE1NDVlMDkzMzliY2I5OWI5ZTFlNjEpOwoKICAgICAgICAgICAgCiAgICAgICAgCiAgICAgICAgCiAgICAgICAgICAgIAoKICAgICAgICAgICAgdmFyIG1hcmtlcl81ZGUwOWE1YjkzNGE0MmM3OGU5NjNlMTI4OWE3NWI4YSA9IEwubWFya2VyKAogICAgICAgICAgICAgICAgWzQwLjc1NDk5MTkwNTUwMTksLTczLjk4MzcxMjcyMzQyNjVdLAogICAgICAgICAgICAgICAgewogICAgICAgICAgICAgICAgICAgIGljb246IG5ldyBMLkljb24uRGVmYXVsdCgpCiAgICAgICAgICAgICAgICAgICAgfQogICAgICAgICAgICAgICAgKQogICAgICAgICAgICAgICAgLmFkZFRvKG1hcF9jYzg4NzVkNDQ1Yzk0YzY0YmZiZDRmYjlmYWM4MWIyMyk7CiAgICAgICAgICAgIAogICAgICAgIAogICAgICAgICAgICAKICAgICAgICAgICAgdmFyIHBvcHVwXzA5YWZmOWQ3Yjk2ZTRkYmU5MGI1NzE1YmEzYzhlYmFkID0gTC5wb3B1cCh7bWF4V2lkdGg6ICczMDAnfSk7CgogICAgICAgICAgICAKICAgICAgICAgICAgICAgIHZhciBodG1sXzI5MjNkYmM2Njg1YjRhMzQ4NzEzMGFkODFkMTExNGY1ID0gJCgnICAgICAgICAgPGRpdiBpZD0iaHRtbF8yOTIzZGJjNjY4NWI0YTM0ODcxMzBhZDgxZDExMTRmNSIgICAgICAgICAgICAgICAgIHN0eWxlPSJ3aWR0aDogMTAwLjAlOyBoZWlnaHQ6IDEwMC4wJTsiPiAgICAgICAgICAgICAgICAgRHN2WmFQTnp2YWFMaldEOFJIMVM3QTwvZGl2PiAgICAgICAgICAgICAgICAgJylbMF07CiAgICAgICAgICAgICAgICBwb3B1cF8wOWFmZjlkN2I5NmU0ZGJlOTBiNTcxNWJhM2M4ZWJhZC5zZXRDb250ZW50KGh0bWxfMjkyM2RiYzY2ODViNGEzNDg3MTMwYWQ4MWQxMTE0ZjUpOwogICAgICAgICAgICAKCiAgICAgICAgICAgIG1hcmtlcl81ZGUwOWE1YjkzNGE0MmM3OGU5NjNlMTI4OWE3NWI4YS5iaW5kUG9wdXAocG9wdXBfMDlhZmY5ZDdiOTZlNGRiZTkwYjU3MTViYTNjOGViYWQpOwoKICAgICAgICAgICAgCiAgICAgICAgCiAgICAgICAgCiAgICAgICAgICAgIAoKICAgICAgICAgICAgdmFyIG1hcmtlcl84MWRiOTUwZDYyMDk0NjQyOGQ4NGU4ODZlM2QzYjlmMCA9IEwubWFya2VyKAogICAgICAgICAgICAgICAgWzQwLjc1NDkwMywtNzMuOTgzODI0XSwKICAgICAgICAgICAgICAgIHsKICAgICAgICAgICAgICAgICAgICBpY29uOiBuZXcgTC5JY29uLkRlZmF1bHQoKQogICAgICAgICAgICAgICAgICAgIH0KICAgICAgICAgICAgICAgICkKICAgICAgICAgICAgICAgIC5hZGRUbyhtYXBfY2M4ODc1ZDQ0NWM5NGM2NGJmYmQ0ZmI5ZmFjODFiMjMpOwogICAgICAgICAgICAKICAgICAgICAKICAgICAgICAgICAgCiAgICAgICAgICAgIHZhciBwb3B1cF9mMjBmZjUyZTQyYWM0MGRkYTI4ZDNkYjhlZjcwMzlkMiA9IEwucG9wdXAoe21heFdpZHRoOiAnMzAwJ30pOwoKICAgICAgICAgICAgCiAgICAgICAgICAgICAgICB2YXIgaHRtbF82NDYwMWY5OGM0Zjg0ZTA1OTk3YWQ3NWRhMDM4MmQyNyA9ICQoJyAgICAgICAgIDxkaXYgaWQ9Imh0bWxfNjQ2MDFmOThjNGY4NGUwNTk5N2FkNzVkYTAzODJkMjciICAgICAgICAgICAgICAgICBzdHlsZT0id2lkdGg6IDEwMC4wJTsgaGVpZ2h0OiAxMDAuMCU7Ij4gICAgICAgICAgICAgICAgIDdidC1iZHRiMV9NdTdpSzlSNFk5aGc8L2Rpdj4gICAgICAgICAgICAgICAgICcpWzBdOwogICAgICAgICAgICAgICAgcG9wdXBfZjIwZmY1MmU0MmFjNDBkZGEyOGQzZGI4ZWY3MDM5ZDIuc2V0Q29udGVudChodG1sXzY0NjAxZjk4YzRmODRlMDU5OTdhZDc1ZGEwMzgyZDI3KTsKICAgICAgICAgICAgCgogICAgICAgICAgICBtYXJrZXJfODFkYjk1MGQ2MjA5NDY0MjhkODRlODg2ZTNkM2I5ZjAuYmluZFBvcHVwKHBvcHVwX2YyMGZmNTJlNDJhYzQwZGRhMjhkM2RiOGVmNzAzOWQyKTsKCiAgICAgICAgICAgIAogICAgICAgIAogICAgICAgIAogICAgICAgICAgICAKCiAgICAgICAgICAgIHZhciBtYXJrZXJfZWZmNjkzZDVjNThhNDNlZGEwM2FhZmIzMjcyYTRjZTkgPSBMLm1hcmtlcigKICAgICAgICAgICAgICAgIFs0MC43NjM3MzUsLTczLjk4MjM0NF0sCiAgICAgICAgICAgICAgICB7CiAgICAgICAgICAgICAgICAgICAgaWNvbjogbmV3IEwuSWNvbi5EZWZhdWx0KCkKICAgICAgICAgICAgICAgICAgICB9CiAgICAgICAgICAgICAgICApCiAgICAgICAgICAgICAgICAuYWRkVG8obWFwX2NjODg3NWQ0NDVjOTRjNjRiZmJkNGZiOWZhYzgxYjIzKTsKICAgICAgICAgICAgCiAgICAgICAgCiAgICAgICAgICAgIAogICAgICAgICAgICB2YXIgcG9wdXBfZTFmNmRlMzJmNjE0NDIyNjkzZDU1NTAxNjQ4MDA5YzggPSBMLnBvcHVwKHttYXhXaWR0aDogJzMwMCd9KTsKCiAgICAgICAgICAgIAogICAgICAgICAgICAgICAgdmFyIGh0bWxfYjIxMDllMjNkMWYxNDU1ZTk2YjJlOWI4MGRkNmZiMTEgPSAkKCcgICAgICAgICA8ZGl2IGlkPSJodG1sX2IyMTA5ZTIzZDFmMTQ1NWU5NmIyZTliODBkZDZmYjExIiAgICAgICAgICAgICAgICAgc3R5bGU9IndpZHRoOiAxMDAuMCU7IGhlaWdodDogMTAwLjAlOyI+ICAgICAgICAgICAgICAgICBhR2ljbWNvU0YwbUpwNXpKUFNPTDdRPC9kaXY+ICAgICAgICAgICAgICAgICAnKVswXTsKICAgICAgICAgICAgICAgIHBvcHVwX2UxZjZkZTMyZjYxNDQyMjY5M2Q1NTUwMTY0ODAwOWM4LnNldENvbnRlbnQoaHRtbF9iMjEwOWUyM2QxZjE0NTVlOTZiMmU5YjgwZGQ2ZmIxMSk7CiAgICAgICAgICAgIAoKICAgICAgICAgICAgbWFya2VyX2VmZjY5M2Q1YzU4YTQzZWRhMDNhYWZiMzI3MmE0Y2U5LmJpbmRQb3B1cChwb3B1cF9lMWY2ZGUzMmY2MTQ0MjI2OTNkNTU1MDE2NDgwMDljOCk7CgogICAgICAgICAgICAKICAgICAgICAKICAgICAgICAKICAgICAgICAgICAgCgogICAgICAgICAgICB2YXIgbWFya2VyXzY2OGY3Njk4NmEwZjQzYmI5ZDQ5M2ZhODExMjU0M2RhID0gTC5tYXJrZXIoCiAgICAgICAgICAgICAgICBbNDAuNzUzMjcsLTczLjk3NzYwNl0sCiAgICAgICAgICAgICAgICB7CiAgICAgICAgICAgICAgICAgICAgaWNvbjogbmV3IEwuSWNvbi5EZWZhdWx0KCkKICAgICAgICAgICAgICAgICAgICB9CiAgICAgICAgICAgICAgICApCiAgICAgICAgICAgICAgICAuYWRkVG8obWFwX2NjODg3NWQ0NDVjOTRjNjRiZmJkNGZiOWZhYzgxYjIzKTsKICAgICAgICAgICAgCiAgICAgICAgCiAgICAgICAgICAgIAogICAgICAgICAgICB2YXIgcG9wdXBfMWE0Mjg0YWJiYzg3NGQyODg3ZTkwZWIxZjFlMmU2OWYgPSBMLnBvcHVwKHttYXhXaWR0aDogJzMwMCd9KTsKCiAgICAgICAgICAgIAogICAgICAgICAgICAgICAgdmFyIGh0bWxfNjgwYzgwOTQwZmJlNDljM2I0NWYzMmYyMTNiNzg3NGMgPSAkKCcgICAgICAgICA8ZGl2IGlkPSJodG1sXzY4MGM4MDk0MGZiZTQ5YzNiNDVmMzJmMjEzYjc4NzRjIiAgICAgICAgICAgICAgICAgc3R5bGU9IndpZHRoOiAxMDAuMCU7IGhlaWdodDogMTAwLjAlOyI+ICAgICAgICAgICAgICAgICBfX094bnh1eG54Smk4LXhnWUV3Rmh3PC9kaXY+ICAgICAgICAgICAgICAgICAnKVswXTsKICAgICAgICAgICAgICAgIHBvcHVwXzFhNDI4NGFiYmM4NzRkMjg4N2U5MGViMWYxZTJlNjlmLnNldENvbnRlbnQoaHRtbF82ODBjODA5NDBmYmU0OWMzYjQ1ZjMyZjIxM2I3ODc0Yyk7CiAgICAgICAgICAgIAoKICAgICAgICAgICAgbWFya2VyXzY2OGY3Njk4NmEwZjQzYmI5ZDQ5M2ZhODExMjU0M2RhLmJpbmRQb3B1cChwb3B1cF8xYTQyODRhYmJjODc0ZDI4ODdlOTBlYjFmMWUyZTY5Zik7CgogICAgICAgICAgICAKICAgICAgICAKICAgICAgICAKICAgICAgICAgICAgCgogICAgICAgICAgICB2YXIgbWFya2VyXzE3YzQ5MTVlYmU1YTRlZWU4YWYyZTAwMDYzODhjYWRlID0gTC5tYXJrZXIoCiAgICAgICAgICAgICAgICBbNDAuNzU0OTk0LC03My45NzMyNjNdLAogICAgICAgICAgICAgICAgewogICAgICAgICAgICAgICAgICAgIGljb246IG5ldyBMLkljb24uRGVmYXVsdCgpCiAgICAgICAgICAgICAgICAgICAgfQogICAgICAgICAgICAgICAgKQogICAgICAgICAgICAgICAgLmFkZFRvKG1hcF9jYzg4NzVkNDQ1Yzk0YzY0YmZiZDRmYjlmYWM4MWIyMyk7CiAgICAgICAgICAgIAogICAgICAgIAogICAgICAgICAgICAKICAgICAgICAgICAgdmFyIHBvcHVwXzQxZjRhZWNjZGQxZTQyN2NiNjZkMjkxNTBiMzQ2N2MwID0gTC5wb3B1cCh7bWF4V2lkdGg6ICczMDAnfSk7CgogICAgICAgICAgICAKICAgICAgICAgICAgICAgIHZhciBodG1sX2JjNWEyZTc0NTYyNzRjOWRiYmRiMjY2MTM0N2YyZTA5ID0gJCgnICAgICAgICAgPGRpdiBpZD0iaHRtbF9iYzVhMmU3NDU2Mjc0YzlkYmJkYjI2NjEzNDdmMmUwOSIgICAgICAgICAgICAgICAgIHN0eWxlPSJ3aWR0aDogMTAwLjAlOyBoZWlnaHQ6IDEwMC4wJTsiPiAgICAgICAgICAgICAgICAgX2tBS0l3SVhDbHhzQmZiLUxuMWp1dzwvZGl2PiAgICAgICAgICAgICAgICAgJylbMF07CiAgICAgICAgICAgICAgICBwb3B1cF80MWY0YWVjY2RkMWU0MjdjYjY2ZDI5MTUwYjM0NjdjMC5zZXRDb250ZW50KGh0bWxfYmM1YTJlNzQ1NjI3NGM5ZGJiZGIyNjYxMzQ3ZjJlMDkpOwogICAgICAgICAgICAKCiAgICAgICAgICAgIG1hcmtlcl8xN2M0OTE1ZWJlNWE0ZWVlOGFmMmUwMDA2Mzg4Y2FkZS5iaW5kUG9wdXAocG9wdXBfNDFmNGFlY2NkZDFlNDI3Y2I2NmQyOTE1MGIzNDY3YzApOwoKICAgICAgICAgICAgCiAgICAgICAgCiAgICAgICAgCiAgICAgICAgICAgIAoKICAgICAgICAgICAgdmFyIG1hcmtlcl83NTIwYWUwYWNlNjM0MDUzYjRmYmVjYjIxZGY1NzNkOSA9IEwubWFya2VyKAogICAgICAgICAgICAgICAgWzQwLjc1MzIwNCwtNzMuOTc5Nzk4XSwKICAgICAgICAgICAgICAgIHsKICAgICAgICAgICAgICAgICAgICBpY29uOiBuZXcgTC5JY29uLkRlZmF1bHQoKQogICAgICAgICAgICAgICAgICAgIH0KICAgICAgICAgICAgICAgICkKICAgICAgICAgICAgICAgIC5hZGRUbyhtYXBfY2M4ODc1ZDQ0NWM5NGM2NGJmYmQ0ZmI5ZmFjODFiMjMpOwogICAgICAgICAgICAKICAgICAgICAKICAgICAgICAgICAgCiAgICAgICAgICAgIHZhciBwb3B1cF84MTk2MWIzM2YyNjQ0NDIzODhiYWM0N2RkYzRmYTFkYSA9IEwucG9wdXAoe21heFdpZHRoOiAnMzAwJ30pOwoKICAgICAgICAgICAgCiAgICAgICAgICAgICAgICB2YXIgaHRtbF9lMTQ3MWExMDkyYjc0ZTVmOGJkNGFhZjQ2YmExODY5YSA9ICQoJyAgICAgICAgIDxkaXYgaWQ9Imh0bWxfZTE0NzFhMTA5MmI3NGU1ZjhiZDRhYWY0NmJhMTg2OWEiICAgICAgICAgICAgICAgICBzdHlsZT0id2lkdGg6IDEwMC4wJTsgaGVpZ2h0OiAxMDAuMCU7Ij4gICAgICAgICAgICAgICAgIHBCajBtcDNnaTdHMUEtNks1ZkVRbkE8L2Rpdj4gICAgICAgICAgICAgICAgICcpWzBdOwogICAgICAgICAgICAgICAgcG9wdXBfODE5NjFiMzNmMjY0NDQyMzg4YmFjNDdkZGM0ZmExZGEuc2V0Q29udGVudChodG1sX2UxNDcxYTEwOTJiNzRlNWY4YmQ0YWFmNDZiYTE4NjlhKTsKICAgICAgICAgICAgCgogICAgICAgICAgICBtYXJrZXJfNzUyMGFlMGFjZTYzNDA1M2I0ZmJlY2IyMWRmNTczZDkuYmluZFBvcHVwKHBvcHVwXzgxOTYxYjMzZjI2NDQ0MjM4OGJhYzQ3ZGRjNGZhMWRhKTsKCiAgICAgICAgICAgIAogICAgICAgIAogICAgICAgIAogICAgICAgICAgICAKCiAgICAgICAgICAgIHZhciBtYXJrZXJfMTBkNTBhZDIxY2UwNDIyZGJlY2UwN2Y3YWRhNDg3ZDggPSBMLm1hcmtlcigKICAgICAgICAgICAgICAgIFs0MC43NTg2ODEyNDI2MTQ3LC03My45NzA5NTMwNTY2MDExXSwKICAgICAgICAgICAgICAgIHsKICAgICAgICAgICAgICAgICAgICBpY29uOiBuZXcgTC5JY29uLkRlZmF1bHQoKQogICAgICAgICAgICAgICAgICAgIH0KICAgICAgICAgICAgICAgICkKICAgICAgICAgICAgICAgIC5hZGRUbyhtYXBfY2M4ODc1ZDQ0NWM5NGM2NGJmYmQ0ZmI5ZmFjODFiMjMpOwogICAgICAgICAgICAKICAgICAgICAKICAgICAgICAgICAgCiAgICAgICAgICAgIHZhciBwb3B1cF9lNjYzOGI4MDM1ZDA0NDJjYTZiNThkNjM3Y2RmZWE0YiA9IEwucG9wdXAoe21heFdpZHRoOiAnMzAwJ30pOwoKICAgICAgICAgICAgCiAgICAgICAgICAgICAgICB2YXIgaHRtbF9hZTUzZTM5NDNmM2E0MGEzOWMyYjBmNmE2MDhjZTZhMiA9ICQoJyAgICAgICAgIDxkaXYgaWQ9Imh0bWxfYWU1M2UzOTQzZjNhNDBhMzljMmIwZjZhNjA4Y2U2YTIiICAgICAgICAgICAgICAgICBzdHlsZT0id2lkdGg6IDEwMC4wJTsgaGVpZ2h0OiAxMDAuMCU7Ij4gICAgICAgICAgICAgICAgIFd3bW44OE9GR1FFandObDNWaVpyMHc8L2Rpdj4gICAgICAgICAgICAgICAgICcpWzBdOwogICAgICAgICAgICAgICAgcG9wdXBfZTY2MzhiODAzNWQwNDQyY2E2YjU4ZDYzN2NkZmVhNGIuc2V0Q29udGVudChodG1sX2FlNTNlMzk0M2YzYTQwYTM5YzJiMGY2YTYwOGNlNmEyKTsKICAgICAgICAgICAgCgogICAgICAgICAgICBtYXJrZXJfMTBkNTBhZDIxY2UwNDIyZGJlY2UwN2Y3YWRhNDg3ZDguYmluZFBvcHVwKHBvcHVwX2U2NjM4YjgwMzVkMDQ0MmNhNmI1OGQ2MzdjZGZlYTRiKTsKCiAgICAgICAgICAgIAogICAgICAgIAogICAgICAgIAogICAgICAgICAgICAKCiAgICAgICAgICAgIHZhciBtYXJrZXJfODQ5NWRjZDI5M2E5NDYxN2IyMDg3M2Y0NjQ2ZWNiOWQgPSBMLm1hcmtlcigKICAgICAgICAgICAgICAgIFtuYW4sbmFuXSwKICAgICAgICAgICAgICAgIHsKICAgICAgICAgICAgICAgICAgICBpY29uOiBuZXcgTC5JY29uLkRlZmF1bHQoKQogICAgICAgICAgICAgICAgICAgIH0KICAgICAgICAgICAgICAgICkKICAgICAgICAgICAgICAgIC5hZGRUbyhtYXBfY2M4ODc1ZDQ0NWM5NGM2NGJmYmQ0ZmI5ZmFjODFiMjMpOwogICAgICAgICAgICAKICAgICAgICAKICAgICAgICAgICAgCiAgICAgICAgICAgIHZhciBwb3B1cF8xYWY2NjI2ZDM5ZTM0MzMwYmYyZTQ3ZjQ3YWFkYzIyOSA9IEwucG9wdXAoe21heFdpZHRoOiAnMzAwJ30pOwoKICAgICAgICAgICAgCiAgICAgICAgICAgICAgICB2YXIgaHRtbF8xOGJhODQ0ZjkyZWY0ZmY4YmM1OTE5ODMzOTlkMzJkOCA9ICQoJyAgICAgICAgIDxkaXYgaWQ9Imh0bWxfMThiYTg0NGY5MmVmNGZmOGJjNTkxOTgzMzk5ZDMyZDgiICAgICAgICAgICAgICAgICBzdHlsZT0id2lkdGg6IDEwMC4wJTsgaGVpZ2h0OiAxMDAuMCU7Ij4gICAgICAgICAgICAgICAgIEZoRlBUMkxrMjdwa1FwTnVUQWdmU3c8L2Rpdj4gICAgICAgICAgICAgICAgICcpWzBdOwogICAgICAgICAgICAgICAgcG9wdXBfMWFmNjYyNmQzOWUzNDMzMGJmMmU0N2Y0N2FhZGMyMjkuc2V0Q29udGVudChodG1sXzE4YmE4NDRmOTJlZjRmZjhiYzU5MTk4MzM5OWQzMmQ4KTsKICAgICAgICAgICAgCgogICAgICAgICAgICBtYXJrZXJfODQ5NWRjZDI5M2E5NDYxN2IyMDg3M2Y0NjQ2ZWNiOWQuYmluZFBvcHVwKHBvcHVwXzFhZjY2MjZkMzllMzQzMzBiZjJlNDdmNDdhYWRjMjI5KTsKCiAgICAgICAgICAgIAogICAgICAgIAogICAgICAgIAogICAgICAgICAgICAKCiAgICAgICAgICAgIHZhciBtYXJrZXJfZjViYzdhMWFhNzYxNDNiZmIzMjUxMWY0ZjcxY2U3MTYgPSBMLm1hcmtlcigKICAgICAgICAgICAgICAgIFs0MC43NjQ0MTIsLTczLjk4MTA2OV0sCiAgICAgICAgICAgICAgICB7CiAgICAgICAgICAgICAgICAgICAgaWNvbjogbmV3IEwuSWNvbi5EZWZhdWx0KCkKICAgICAgICAgICAgICAgICAgICB9CiAgICAgICAgICAgICAgICApCiAgICAgICAgICAgICAgICAuYWRkVG8obWFwX2NjODg3NWQ0NDVjOTRjNjRiZmJkNGZiOWZhYzgxYjIzKTsKICAgICAgICAgICAgCiAgICAgICAgCiAgICAgICAgICAgIAogICAgICAgICAgICB2YXIgcG9wdXBfM2YzZTI3ZGJkZTBmNGQ3YTllMjJiZjNkOTIzZTcyNzEgPSBMLnBvcHVwKHttYXhXaWR0aDogJzMwMCd9KTsKCiAgICAgICAgICAgIAogICAgICAgICAgICAgICAgdmFyIGh0bWxfYWJhMzNiMGY1ZmZkNGZiY2FjNDQyMjUxZWNhYTY4ZGIgPSAkKCcgICAgICAgICA8ZGl2IGlkPSJodG1sX2FiYTMzYjBmNWZmZDRmYmNhYzQ0MjI1MWVjYWE2OGRiIiAgICAgICAgICAgICAgICAgc3R5bGU9IndpZHRoOiAxMDAuMCU7IGhlaWdodDogMTAwLjAlOyI+ICAgICAgICAgICAgICAgICAwSWZKb3l3QmV6dGhDbXlsQklVeFh3PC9kaXY+ICAgICAgICAgICAgICAgICAnKVswXTsKICAgICAgICAgICAgICAgIHBvcHVwXzNmM2UyN2RiZGUwZjRkN2E5ZTIyYmYzZDkyM2U3MjcxLnNldENvbnRlbnQoaHRtbF9hYmEzM2IwZjVmZmQ0ZmJjYWM0NDIyNTFlY2FhNjhkYik7CiAgICAgICAgICAgIAoKICAgICAgICAgICAgbWFya2VyX2Y1YmM3YTFhYTc2MTQzYmZiMzI1MTFmNGY3MWNlNzE2LmJpbmRQb3B1cChwb3B1cF8zZjNlMjdkYmRlMGY0ZDdhOWUyMmJmM2Q5MjNlNzI3MSk7CgogICAgICAgICAgICAKICAgICAgICAKICAgICAgICAKICAgICAgICAgICAgCgogICAgICAgICAgICB2YXIgbWFya2VyXzMwOTYzZmY3ZGVkNjQyMjE4ZjA1NjQ2NzcyYmRhMWMyID0gTC5tYXJrZXIoCiAgICAgICAgICAgICAgICBbNDAuNzU3NjY3NDg5Njk1MywtNzMuOTcwODk3XSwKICAgICAgICAgICAgICAgIHsKICAgICAgICAgICAgICAgICAgICBpY29uOiBuZXcgTC5JY29uLkRlZmF1bHQoKQogICAgICAgICAgICAgICAgICAgIH0KICAgICAgICAgICAgICAgICkKICAgICAgICAgICAgICAgIC5hZGRUbyhtYXBfY2M4ODc1ZDQ0NWM5NGM2NGJmYmQ0ZmI5ZmFjODFiMjMpOwogICAgICAgICAgICAKICAgICAgICAKICAgICAgICAgICAgCiAgICAgICAgICAgIHZhciBwb3B1cF8zOTZlMWJkNGM5Y2U0OWM4OGIxYzU3YjdkYWU4ZGQzZiA9IEwucG9wdXAoe21heFdpZHRoOiAnMzAwJ30pOwoKICAgICAgICAgICAgCiAgICAgICAgICAgICAgICB2YXIgaHRtbF8yYTBkNDRmM2MxNGM0MWE3YjBkOGI5OWJkY2RiZDBiNCA9ICQoJyAgICAgICAgIDxkaXYgaWQ9Imh0bWxfMmEwZDQ0ZjNjMTRjNDFhN2IwZDhiOTliZGNkYmQwYjQiICAgICAgICAgICAgICAgICBzdHlsZT0id2lkdGg6IDEwMC4wJTsgaGVpZ2h0OiAxMDAuMCU7Ij4gICAgICAgICAgICAgICAgIE5fWWRFTE1FWjlleGtONkNJckN4Smc8L2Rpdj4gICAgICAgICAgICAgICAgICcpWzBdOwogICAgICAgICAgICAgICAgcG9wdXBfMzk2ZTFiZDRjOWNlNDljODhiMWM1N2I3ZGFlOGRkM2Yuc2V0Q29udGVudChodG1sXzJhMGQ0NGYzYzE0YzQxYTdiMGQ4Yjk5YmRjZGJkMGI0KTsKICAgICAgICAgICAgCgogICAgICAgICAgICBtYXJrZXJfMzA5NjNmZjdkZWQ2NDIyMThmMDU2NDY3NzJiZGExYzIuYmluZFBvcHVwKHBvcHVwXzM5NmUxYmQ0YzljZTQ5Yzg4YjFjNTdiN2RhZThkZDNmKTsKCiAgICAgICAgICAgIAogICAgICAgIAogICAgICAgIAogICAgICAgICAgICAKCiAgICAgICAgICAgIHZhciBtYXJrZXJfNjQ1NDRlMTkzMzI5NDM0M2E4ZGU4YWFhNTY4OWQ0MTAgPSBMLm1hcmtlcigKICAgICAgICAgICAgICAgIFs0MC43NTY2OTQsLTczLjk4NTg5M10sCiAgICAgICAgICAgICAgICB7CiAgICAgICAgICAgICAgICAgICAgaWNvbjogbmV3IEwuSWNvbi5EZWZhdWx0KCkKICAgICAgICAgICAgICAgICAgICB9CiAgICAgICAgICAgICAgICApCiAgICAgICAgICAgICAgICAuYWRkVG8obWFwX2NjODg3NWQ0NDVjOTRjNjRiZmJkNGZiOWZhYzgxYjIzKTsKICAgICAgICAgICAgCiAgICAgICAgCiAgICAgICAgICAgIAogICAgICAgICAgICB2YXIgcG9wdXBfZTljOTM5NGZjZmIwNDQ2NDg0MGRjNTU3NDFiZTkxMzUgPSBMLnBvcHVwKHttYXhXaWR0aDogJzMwMCd9KTsKCiAgICAgICAgICAgIAogICAgICAgICAgICAgICAgdmFyIGh0bWxfMDg1Mjk5YmM5Y2NlNDM4N2JmZTQwNjQ0YzRkYzNlYTMgPSAkKCcgICAgICAgICA8ZGl2IGlkPSJodG1sXzA4NTI5OWJjOWNjZTQzODdiZmU0MDY0NGM0ZGMzZWEzIiAgICAgICAgICAgICAgICAgc3R5bGU9IndpZHRoOiAxMDAuMCU7IGhlaWdodDogMTAwLjAlOyI+ICAgICAgICAgICAgICAgICA4TkhJU3NkMGdLaHlQTkpvcWhFcW5BPC9kaXY+ICAgICAgICAgICAgICAgICAnKVswXTsKICAgICAgICAgICAgICAgIHBvcHVwX2U5YzkzOTRmY2ZiMDQ0NjQ4NDBkYzU1NzQxYmU5MTM1LnNldENvbnRlbnQoaHRtbF8wODUyOTliYzljY2U0Mzg3YmZlNDA2NDRjNGRjM2VhMyk7CiAgICAgICAgICAgIAoKICAgICAgICAgICAgbWFya2VyXzY0NTQ0ZTE5MzMyOTQzNDNhOGRlOGFhYTU2ODlkNDEwLmJpbmRQb3B1cChwb3B1cF9lOWM5Mzk0ZmNmYjA0NDY0ODQwZGM1NTc0MWJlOTEzNSk7CgogICAgICAgICAgICAKICAgICAgICAKICAgICAgICAKICAgICAgICAgICAgCgogICAgICAgICAgICB2YXIgbWFya2VyXzViNDRhNzk4ZjdhNDQ2NTg5ODljMTdkZTY1NjhlYTE3ID0gTC5tYXJrZXIoCiAgICAgICAgICAgICAgICBbNDAuNzU0NjYyOSwtNzMuOTgzMzEyN10sCiAgICAgICAgICAgICAgICB7CiAgICAgICAgICAgICAgICAgICAgaWNvbjogbmV3IEwuSWNvbi5EZWZhdWx0KCkKICAgICAgICAgICAgICAgICAgICB9CiAgICAgICAgICAgICAgICApCiAgICAgICAgICAgICAgICAuYWRkVG8obWFwX2NjODg3NWQ0NDVjOTRjNjRiZmJkNGZiOWZhYzgxYjIzKTsKICAgICAgICAgICAgCiAgICAgICAgCiAgICAgICAgICAgIAogICAgICAgICAgICB2YXIgcG9wdXBfN2Q3Njk0YjA4YjQ3NDBjZWFhMjYxZTE1OTA5MzVhZTUgPSBMLnBvcHVwKHttYXhXaWR0aDogJzMwMCd9KTsKCiAgICAgICAgICAgIAogICAgICAgICAgICAgICAgdmFyIGh0bWxfYzAwYzEzYTMyNmFmNGQ0ZDkwMGYwYzRhZjU4NjU0NjAgPSAkKCcgICAgICAgICA8ZGl2IGlkPSJodG1sX2MwMGMxM2EzMjZhZjRkNGQ5MDBmMGM0YWY1ODY1NDYwIiAgICAgICAgICAgICAgICAgc3R5bGU9IndpZHRoOiAxMDAuMCU7IGhlaWdodDogMTAwLjAlOyI+ICAgICAgICAgICAgICAgICBUSUU3N01zeFJuNDBWLWZlaE5yY2pnPC9kaXY+ICAgICAgICAgICAgICAgICAnKVswXTsKICAgICAgICAgICAgICAgIHBvcHVwXzdkNzY5NGIwOGI0NzQwY2VhYTI2MWUxNTkwOTM1YWU1LnNldENvbnRlbnQoaHRtbF9jMDBjMTNhMzI2YWY0ZDRkOTAwZjBjNGFmNTg2NTQ2MCk7CiAgICAgICAgICAgIAoKICAgICAgICAgICAgbWFya2VyXzViNDRhNzk4ZjdhNDQ2NTg5ODljMTdkZTY1NjhlYTE3LmJpbmRQb3B1cChwb3B1cF83ZDc2OTRiMDhiNDc0MGNlYWEyNjFlMTU5MDkzNWFlNSk7CgogICAgICAgICAgICAKICAgICAgICAKICAgICAgICAKICAgICAgICAgICAgCgogICAgICAgICAgICB2YXIgbWFya2VyX2I0ZmVlYThlYzMyMDQ3MDk4ZTY5OGRiMDcxMmIyZGFjID0gTC5tYXJrZXIoCiAgICAgICAgICAgICAgICBbNDAuNzY0Nzg0LC03My45NzcxMDJdLAogICAgICAgICAgICAgICAgewogICAgICAgICAgICAgICAgICAgIGljb246IG5ldyBMLkljb24uRGVmYXVsdCgpCiAgICAgICAgICAgICAgICAgICAgfQogICAgICAgICAgICAgICAgKQogICAgICAgICAgICAgICAgLmFkZFRvKG1hcF9jYzg4NzVkNDQ1Yzk0YzY0YmZiZDRmYjlmYWM4MWIyMyk7CiAgICAgICAgICAgIAogICAgICAgIAogICAgICAgICAgICAKICAgICAgICAgICAgdmFyIHBvcHVwXzk2OTBjMGM2MmM1ZTQwMTc5YWI4NDIwMjc1YTI1ZTVjID0gTC5wb3B1cCh7bWF4V2lkdGg6ICczMDAnfSk7CgogICAgICAgICAgICAKICAgICAgICAgICAgICAgIHZhciBodG1sX2Q3YzE0ZTcwMWIzMTRlNjg5N2QyMzRiYzIxMGVjOTZkID0gJCgnICAgICAgICAgPGRpdiBpZD0iaHRtbF9kN2MxNGU3MDFiMzE0ZTY4OTdkMjM0YmMyMTBlYzk2ZCIgICAgICAgICAgICAgICAgIHN0eWxlPSJ3aWR0aDogMTAwLjAlOyBoZWlnaHQ6IDEwMC4wJTsiPiAgICAgICAgICAgICAgICAgbFNuY1VQTkJZLXFzX1FPdEVPcGtWQTwvZGl2PiAgICAgICAgICAgICAgICAgJylbMF07CiAgICAgICAgICAgICAgICBwb3B1cF85NjkwYzBjNjJjNWU0MDE3OWFiODQyMDI3NWEyNWU1Yy5zZXRDb250ZW50KGh0bWxfZDdjMTRlNzAxYjMxNGU2ODk3ZDIzNGJjMjEwZWM5NmQpOwogICAgICAgICAgICAKCiAgICAgICAgICAgIG1hcmtlcl9iNGZlZWE4ZWMzMjA0NzA5OGU2OThkYjA3MTJiMmRhYy5iaW5kUG9wdXAocG9wdXBfOTY5MGMwYzYyYzVlNDAxNzlhYjg0MjAyNzVhMjVlNWMpOwoKICAgICAgICAgICAgCiAgICAgICAgCiAgICAgICAgCiAgICAgICAgICAgIAoKICAgICAgICAgICAgdmFyIG1hcmtlcl81ZTM5ODk0YjUyMGM0OWRkYjBiZmE1OWU0NGNlZDQ0MCA9IEwubWFya2VyKAogICAgICAgICAgICAgICAgWzQwLjc1ODUzMiwtNzMuOTg2NjA3XSwKICAgICAgICAgICAgICAgIHsKICAgICAgICAgICAgICAgICAgICBpY29uOiBuZXcgTC5JY29uLkRlZmF1bHQoKQogICAgICAgICAgICAgICAgICAgIH0KICAgICAgICAgICAgICAgICkKICAgICAgICAgICAgICAgIC5hZGRUbyhtYXBfY2M4ODc1ZDQ0NWM5NGM2NGJmYmQ0ZmI5ZmFjODFiMjMpOwogICAgICAgICAgICAKICAgICAgICAKICAgICAgICAgICAgCiAgICAgICAgICAgIHZhciBwb3B1cF83N2NkNDUyY2FjYzk0ZjY1YWE5ZmRjYjk2MjM0OTA4YSA9IEwucG9wdXAoe21heFdpZHRoOiAnMzAwJ30pOwoKICAgICAgICAgICAgCiAgICAgICAgICAgICAgICB2YXIgaHRtbF8yZjA3Nzg4ZTZmNTI0ZWIwYjg2M2NjYjEwNjNhYmYwMSA9ICQoJyAgICAgICAgIDxkaXYgaWQ9Imh0bWxfMmYwNzc4OGU2ZjUyNGViMGI4NjNjY2IxMDYzYWJmMDEiICAgICAgICAgICAgICAgICBzdHlsZT0id2lkdGg6IDEwMC4wJTsgaGVpZ2h0OiAxMDAuMCU7Ij4gICAgICAgICAgICAgICAgIFVnamFFWDlzc1VtSVNkNjNRZExpeXc8L2Rpdj4gICAgICAgICAgICAgICAgICcpWzBdOwogICAgICAgICAgICAgICAgcG9wdXBfNzdjZDQ1MmNhY2M5NGY2NWFhOWZkY2I5NjIzNDkwOGEuc2V0Q29udGVudChodG1sXzJmMDc3ODhlNmY1MjRlYjBiODYzY2NiMTA2M2FiZjAxKTsKICAgICAgICAgICAgCgogICAgICAgICAgICBtYXJrZXJfNWUzOTg5NGI1MjBjNDlkZGIwYmZhNTllNDRjZWQ0NDAuYmluZFBvcHVwKHBvcHVwXzc3Y2Q0NTJjYWNjOTRmNjVhYTlmZGNiOTYyMzQ5MDhhKTsKCiAgICAgICAgICAgIAogICAgICAgIAogICAgICAgIAogICAgICAgICAgICAKCiAgICAgICAgICAgIHZhciBtYXJrZXJfY2IwYjBiMGVkNTljNGM5YTg5ZmUyMTM5N2JjZjgzZDYgPSBMLm1hcmtlcigKICAgICAgICAgICAgICAgIFs0MC43NjQ5MjYsLTczLjk3OTEwOF0sCiAgICAgICAgICAgICAgICB7CiAgICAgICAgICAgICAgICAgICAgaWNvbjogbmV3IEwuSWNvbi5EZWZhdWx0KCkKICAgICAgICAgICAgICAgICAgICB9CiAgICAgICAgICAgICAgICApCiAgICAgICAgICAgICAgICAuYWRkVG8obWFwX2NjODg3NWQ0NDVjOTRjNjRiZmJkNGZiOWZhYzgxYjIzKTsKICAgICAgICAgICAgCiAgICAgICAgCiAgICAgICAgICAgIAogICAgICAgICAgICB2YXIgcG9wdXBfMDhlOWY3YTEzZGYwNDY5Y2I3MWZhOTcyMjM4NjUzYTAgPSBMLnBvcHVwKHttYXhXaWR0aDogJzMwMCd9KTsKCiAgICAgICAgICAgIAogICAgICAgICAgICAgICAgdmFyIGh0bWxfMzhjYTI4YzFhZDNjNGVkNzliNTllODc3ZjFmZjMwNmMgPSAkKCcgICAgICAgICA8ZGl2IGlkPSJodG1sXzM4Y2EyOGMxYWQzYzRlZDc5YjU5ZTg3N2YxZmYzMDZjIiAgICAgICAgICAgICAgICAgc3R5bGU9IndpZHRoOiAxMDAuMCU7IGhlaWdodDogMTAwLjAlOyI+ICAgICAgICAgICAgICAgICByMzVWUHpOOUZ3cTMyb0RxTUlTd2p3PC9kaXY+ICAgICAgICAgICAgICAgICAnKVswXTsKICAgICAgICAgICAgICAgIHBvcHVwXzA4ZTlmN2ExM2RmMDQ2OWNiNzFmYTk3MjIzODY1M2EwLnNldENvbnRlbnQoaHRtbF8zOGNhMjhjMWFkM2M0ZWQ3OWI1OWU4NzdmMWZmMzA2Yyk7CiAgICAgICAgICAgIAoKICAgICAgICAgICAgbWFya2VyX2NiMGIwYjBlZDU5YzRjOWE4OWZlMjEzOTdiY2Y4M2Q2LmJpbmRQb3B1cChwb3B1cF8wOGU5ZjdhMTNkZjA0NjljYjcxZmE5NzIyMzg2NTNhMCk7CgogICAgICAgICAgICAKICAgICAgICAKICAgICAgICAKICAgICAgICAgICAgCgogICAgICAgICAgICB2YXIgbWFya2VyXzdlOGU2OTg3NzIwMDQ5M2U5ZjZlMGY2ZTFlNTExNGE2ID0gTC5tYXJrZXIoCiAgICAgICAgICAgICAgICBbNDAuNzYzMSwtNzMuOTcyNDddLAogICAgICAgICAgICAgICAgewogICAgICAgICAgICAgICAgICAgIGljb246IG5ldyBMLkljb24uRGVmYXVsdCgpCiAgICAgICAgICAgICAgICAgICAgfQogICAgICAgICAgICAgICAgKQogICAgICAgICAgICAgICAgLmFkZFRvKG1hcF9jYzg4NzVkNDQ1Yzk0YzY0YmZiZDRmYjlmYWM4MWIyMyk7CiAgICAgICAgICAgIAogICAgICAgIAogICAgICAgICAgICAKICAgICAgICAgICAgdmFyIHBvcHVwX2QzN2M0NGFjZGRkZjRjYWE5Y2M2ZWM4MDcxNzE0NTgzID0gTC5wb3B1cCh7bWF4V2lkdGg6ICczMDAnfSk7CgogICAgICAgICAgICAKICAgICAgICAgICAgICAgIHZhciBodG1sXzYzODAwMjAyZjc5NjRmYmI4YmViZWZhNDA2ZmE0YzdkID0gJCgnICAgICAgICAgPGRpdiBpZD0iaHRtbF82MzgwMDIwMmY3OTY0ZmJiOGJlYmVmYTQwNmZhNGM3ZCIgICAgICAgICAgICAgICAgIHN0eWxlPSJ3aWR0aDogMTAwLjAlOyBoZWlnaHQ6IDEwMC4wJTsiPiAgICAgICAgICAgICAgICAgN2ctUG5oeGRmS29RUG9lOEp0cUpOUTwvZGl2PiAgICAgICAgICAgICAgICAgJylbMF07CiAgICAgICAgICAgICAgICBwb3B1cF9kMzdjNDRhY2RkZGY0Y2FhOWNjNmVjODA3MTcxNDU4My5zZXRDb250ZW50KGh0bWxfNjM4MDAyMDJmNzk2NGZiYjhiZWJlZmE0MDZmYTRjN2QpOwogICAgICAgICAgICAKCiAgICAgICAgICAgIG1hcmtlcl83ZThlNjk4NzcyMDA0OTNlOWY2ZTBmNmUxZTUxMTRhNi5iaW5kUG9wdXAocG9wdXBfZDM3YzQ0YWNkZGRmNGNhYTljYzZlYzgwNzE3MTQ1ODMpOwoKICAgICAgICAgICAgCiAgICAgICAgCiAgICAgICAgCiAgICAgICAgCiAgICAgICAgPC9zY3JpcHQ+CiAgICAgICAg\" style=\"position:absolute;width:100%;height:100%;left:0;top:0;\"></iframe></div></div>"
            ],
            "text/plain": [
              "<folium.folium.Map at 0x7f875573cb00>"
            ]
          },
          "metadata": {
            "tags": []
          },
          "execution_count": 8
        }
      ]
    },
    {
      "metadata": {
        "id": "WCo6NeCEe0Ps",
        "colab_type": "text"
      },
      "cell_type": "markdown",
      "source": [
        "Optional. A suggested search radius in meters. This field is used as a suggestion to the search. The actual search radius may be lower than the suggested radius in dense urban areas, and higher in regions of less business density. If the specified value is too large, a AREA_TOO_LARGE error may be returned. The max value is 40000 meters (about 25 miles)."
      ]
    },
    {
      "metadata": {
        "id": "zYrgnR07WN1R",
        "colab_type": "code",
        "outputId": "094afeba-ad57-49a2-93a0-147b55452509",
        "colab": {
          "base_uri": "https://localhost:8080/",
          "height": 378
        }
      },
      "cell_type": "code",
      "source": [
        "sns.countplot(x=\"rating\", data=list_buss)"
      ],
      "execution_count": 9,
      "outputs": [
        {
          "output_type": "execute_result",
          "data": {
            "text/plain": [
              "<matplotlib.axes._subplots.AxesSubplot at 0x7f87551f95f8>"
            ]
          },
          "metadata": {
            "tags": []
          },
          "execution_count": 9
        },
        {
          "output_type": "display_data",
          "data": {
            "image/png": "[encoded data removed]",
            "text/plain": [
              "<Figure size 576x396 with 1 Axes>"
            ]
          },
          "metadata": {
            "tags": []
          }
        }
      ]
    },
    {
      "metadata": {
        "id": "cUDYyt2kWqgM",
        "colab_type": "code",
        "outputId": "4bb2e87b-5489-4ac9-8398-40a6e774f33f",
        "colab": {
          "base_uri": "https://localhost:8080/",
          "height": 173
        }
      },
      "cell_type": "code",
      "source": [
        "list_buss.groupby('price').count()"
      ],
      "execution_count": 10,
      "outputs": [
        {
          "output_type": "execute_result",
          "data": {
            "text/html": [
              "<div>\n",
              "<style scoped>\n",
              "    .dataframe tbody tr th:only-of-type {\n",
              "        vertical-align: middle;\n",
              "    }\n",
              "\n",
              "    .dataframe tbody tr th {\n",
              "        vertical-align: top;\n",
              "    }\n",
              "\n",
              "    .dataframe thead th {\n",
              "        text-align: right;\n",
              "    }\n",
              "</style>\n",
              "<table border=\"1\" class=\"dataframe\">\n",
              "  <thead>\n",
              "    <tr style=\"text-align: right;\">\n",
              "      <th></th>\n",
              "      <th>id</th>\n",
              "      <th>rating</th>\n",
              "      <th>count</th>\n",
              "      <th>latitude</th>\n",
              "      <th>longitude</th>\n",
              "    </tr>\n",
              "    <tr>\n",
              "      <th>price</th>\n",
              "      <th></th>\n",
              "      <th></th>\n",
              "      <th></th>\n",
              "      <th></th>\n",
              "      <th></th>\n",
              "    </tr>\n",
              "  </thead>\n",
              "  <tbody>\n",
              "    <tr>\n",
              "      <th>$</th>\n",
              "      <td>10</td>\n",
              "      <td>10</td>\n",
              "      <td>10</td>\n",
              "      <td>10</td>\n",
              "      <td>10</td>\n",
              "    </tr>\n",
              "    <tr>\n",
              "      <th>$$</th>\n",
              "      <td>35</td>\n",
              "      <td>35</td>\n",
              "      <td>35</td>\n",
              "      <td>35</td>\n",
              "      <td>35</td>\n",
              "    </tr>\n",
              "    <tr>\n",
              "      <th>$$$</th>\n",
              "      <td>2</td>\n",
              "      <td>2</td>\n",
              "      <td>2</td>\n",
              "      <td>2</td>\n",
              "      <td>2</td>\n",
              "    </tr>\n",
              "  </tbody>\n",
              "</table>\n",
              "</div>"
            ],
            "text/plain": [
              "       id  rating  count  latitude  longitude\n",
              "price                                        \n",
              "$      10      10     10        10         10\n",
              "$$     35      35     35        35         35\n",
              "$$$     2       2      2         2          2"
            ]
          },
          "metadata": {
            "tags": []
          },
          "execution_count": 10
        }
      ]
    },
    {
      "metadata": {
        "id": "WU_w9e12uBNZ",
        "colab_type": "text"
      },
      "cell_type": "markdown",
      "source": [
        "review"
      ]
    },
    {
      "metadata": {
        "id": "RL-WZfPgF77r",
        "colab_type": "code",
        "outputId": "e04f4716-7b3a-4238-ff3f-89442832fe28",
        "colab": {
          "base_uri": "https://localhost:8080/",
          "height": 34
        }
      },
      "cell_type": "code",
      "source": [
        "data[\"businesses\"][0]['id'] # parse id# for review "
      ],
      "execution_count": 11,
      "outputs": [
        {
          "output_type": "execute_result",
          "data": {
            "text/plain": [
              "'5WHpzFh-ZbTBY919PlZPTw'"
            ]
          },
          "metadata": {
            "tags": []
          },
          "execution_count": 11
        }
      ]
    },
    {
      "metadata": {
        "id": "EEcceQGJGKY8",
        "colab_type": "text"
      },
      "cell_type": "markdown",
      "source": [
        "read review of this businesses "
      ]
    },
    {
      "metadata": {
        "id": "ApylqAplW9E2",
        "colab_type": "code",
        "colab": {}
      },
      "cell_type": "code",
      "source": [
        "ENDPOINT_reviews = 'https://api.yelp.com/v3/businesses/5WHpzFh-ZbTBY919PlZPTw/reviews'   # id/reviews  \n",
        "response_reviews = requests.get(url = ENDPOINT_reviews, headers = HEADERS)"
      ],
      "execution_count": 0,
      "outputs": []
    },
    {
      "metadata": {
        "id": "EQV6veiyq9y6",
        "colab_type": "text"
      },
      "cell_type": "markdown",
      "source": [
        "Each business has three reviews. Read first review"
      ]
    },
    {
      "metadata": {
        "id": "xRIcNN_tYpQP",
        "colab_type": "code",
        "outputId": "b7a0d1fc-20f6-4c4f-c881-a000201f147e",
        "colab": {
          "base_uri": "https://localhost:8080/",
          "height": 34
        }
      },
      "cell_type": "code",
      "source": [
        "len(response_reviews.json())"
      ],
      "execution_count": 13,
      "outputs": [
        {
          "output_type": "execute_result",
          "data": {
            "text/plain": [
              "3"
            ]
          },
          "metadata": {
            "tags": []
          },
          "execution_count": 13
        }
      ]
    },
    {
      "metadata": {
        "id": "AW42BuKqYd9L",
        "colab_type": "code",
        "outputId": "b79adf08-4696-4cbb-c4e2-d675d684259a",
        "colab": {
          "base_uri": "https://localhost:8080/",
          "height": 190
        }
      },
      "cell_type": "code",
      "source": [
        "response_reviews.json()['reviews'][0]#['user']['profile_url']"
      ],
      "execution_count": 14,
      "outputs": [
        {
          "output_type": "execute_result",
          "data": {
            "text/plain": [
              "{'id': '3gnJ62usiQh9VDdVPibDAw',\n",
              " 'rating': 4,\n",
              " 'text': 'I have been here at 630 am and the staff is always pleasant and well rested. Sometimes there are homeless people sitting in the seats but it may be a way of...',\n",
              " 'time_created': '2018-11-16 14:36:46',\n",
              " 'url': 'https://www.yelp.com/biz/starbucks-new-york-273?adjust_creative=fl6Gc_WOT5VLrae0o6fc7w&hrid=3gnJ62usiQh9VDdVPibDAw&utm_campaign=yelp_api_v3&utm_medium=api_v3_business_reviews&utm_source=fl6Gc_WOT5VLrae0o6fc7w',\n",
              " 'user': {'id': 'KVKIvMY5gL5scNgexlENiQ',\n",
              "  'image_url': 'https://s3-media3.fl.yelpcdn.com/photo/iMhwNj0d6t8ZZJ1sS2i6qg/o.jpg',\n",
              "  'name': 'Dionne H.',\n",
              "  'profile_url': 'https://www.yelp.com/user_details?userid=KVKIvMY5gL5scNgexlENiQ'}}"
            ]
          },
          "metadata": {
            "tags": []
          },
          "execution_count": 14
        }
      ]
    },
    {
      "metadata": {
        "id": "83KRCC8JiPEK",
        "colab_type": "text"
      },
      "cell_type": "markdown",
      "source": [
        "Since each buisness only has three reviews, the rating are not representive the business statistically. So I decide to pull out the rating that directly link to the review."
      ]
    },
    {
      "metadata": {
        "id": "y6aCJUuZcCaG",
        "colab_type": "code",
        "colab": {}
      },
      "cell_type": "code",
      "source": [
        "# collect review\n",
        "List_all_review = []\n",
        "List_all_rating = []\n",
        "for i in range(50):\n",
        "\n",
        "  try:\n",
        "    ENDPOINT_reviews = 'https://api.yelp.com/v3/businesses/'+ data[\"businesses\"][i]['id'] +'/reviews'\n",
        "    response_reviews = requests.get(url = ENDPOINT_reviews, headers = HEADERS)\n",
        "    for ii in range(3):\n",
        "\n",
        "      x = response_reviews.json()['reviews'][ii]['text']\n",
        "      List_all_review .append(x)\n",
        "      y = response_reviews.json()['reviews'][ii]['rating']\n",
        "      List_all_rating.append(y)\n",
        "  except:\n",
        "    pass"
      ],
      "execution_count": 0,
      "outputs": []
    },
    {
      "metadata": {
        "id": "uobFgqKicVv0",
        "colab_type": "code",
        "outputId": "874d4750-4326-462a-8371-01a719fdb61d",
        "colab": {
          "base_uri": "https://localhost:8080/",
          "height": 204
        }
      },
      "cell_type": "code",
      "source": [
        "d = {'rate': List_all_rating, 'review': List_all_review}\n",
        "df_total = pd.DataFrame(data=d)\n",
        "df_total.head()"
      ],
      "execution_count": 16,
      "outputs": [
        {
          "output_type": "execute_result",
          "data": {
            "text/html": [
              "<div>\n",
              "<style scoped>\n",
              "    .dataframe tbody tr th:only-of-type {\n",
              "        vertical-align: middle;\n",
              "    }\n",
              "\n",
              "    .dataframe tbody tr th {\n",
              "        vertical-align: top;\n",
              "    }\n",
              "\n",
              "    .dataframe thead th {\n",
              "        text-align: right;\n",
              "    }\n",
              "</style>\n",
              "<table border=\"1\" class=\"dataframe\">\n",
              "  <thead>\n",
              "    <tr style=\"text-align: right;\">\n",
              "      <th></th>\n",
              "      <th>rate</th>\n",
              "      <th>review</th>\n",
              "    </tr>\n",
              "  </thead>\n",
              "  <tbody>\n",
              "    <tr>\n",
              "      <th>0</th>\n",
              "      <td>4</td>\n",
              "      <td>I have been here at 630 am and the staff is al...</td>\n",
              "    </tr>\n",
              "    <tr>\n",
              "      <th>1</th>\n",
              "      <td>2</td>\n",
              "      <td>Horrible experience this morning ,app orders s...</td>\n",
              "    </tr>\n",
              "    <tr>\n",
              "      <th>2</th>\n",
              "      <td>1</td>\n",
              "      <td>I freqent this location practically every work...</td>\n",
              "    </tr>\n",
              "    <tr>\n",
              "      <th>3</th>\n",
              "      <td>3</td>\n",
              "      <td>I arrived extremely early in NY so I decided t...</td>\n",
              "    </tr>\n",
              "    <tr>\n",
              "      <th>4</th>\n",
              "      <td>3</td>\n",
              "      <td>When I was younger, I used to play a game with...</td>\n",
              "    </tr>\n",
              "  </tbody>\n",
              "</table>\n",
              "</div>"
            ],
            "text/plain": [
              "   rate                                             review\n",
              "0     4  I have been here at 630 am and the staff is al...\n",
              "1     2  Horrible experience this morning ,app orders s...\n",
              "2     1  I freqent this location practically every work...\n",
              "3     3  I arrived extremely early in NY so I decided t...\n",
              "4     3  When I was younger, I used to play a game with..."
            ]
          },
          "metadata": {
            "tags": []
          },
          "execution_count": 16
        }
      ]
    },
    {
      "metadata": {
        "id": "Y9ck0HI4C-bU",
        "colab_type": "code",
        "colab": {}
      },
      "cell_type": "code",
      "source": [
        "#save file to Google Drive\n",
        "df_total.to_csv(base_dir + 'export_review_rate.csv', index = None, header=True) #Don't forget to add '.csv' at the end of the path\n"
      ],
      "execution_count": 0,
      "outputs": []
    },
    {
      "metadata": {
        "id": "T1PtmZstufve",
        "colab_type": "code",
        "outputId": "9e80e98e-9175-4ca2-c96c-9bc528ae1cd3",
        "colab": {
          "base_uri": "https://localhost:8080/",
          "height": 378
        }
      },
      "cell_type": "code",
      "source": [
        "sns.countplot(x=\"rate\", data=df_total)"
      ],
      "execution_count": 24,
      "outputs": [
        {
          "output_type": "execute_result",
          "data": {
            "text/plain": [
              "<matplotlib.axes._subplots.AxesSubplot at 0x7f8750edeeb8>"
            ]
          },
          "metadata": {
            "tags": []
          },
          "execution_count": 24
        },
        {
          "output_type": "display_data",
          "data": {
            "image/png": "[encoded data removed]",
            "text/plain": [
              "<Figure size 576x396 with 1 Axes>"
            ]
          },
          "metadata": {
            "tags": []
          }
        }
      ]
    },
    {
      "metadata": {
        "id": "2ax1pq-fvwoe",
        "colab_type": "code",
        "colab": {}
      },
      "cell_type": "code",
      "source": [
        "df_total['Polarity'] = [TextBlob(x).sentiment[0] for x in df_total['review'] ]\n",
        "df_total['Subjectivity'] = [TextBlob(x).sentiment[1] for x in df_total['review'] ]"
      ],
      "execution_count": 0,
      "outputs": []
    },
    {
      "metadata": {
        "id": "9v76pVdAunxC",
        "colab_type": "code",
        "outputId": "4d406fe9-6116-4e2a-cf41-fe312ed78578",
        "colab": {
          "base_uri": "https://localhost:8080/",
          "height": 51
        }
      },
      "cell_type": "code",
      "source": [
        "df_total_HR = df_total[df_total['rate']>=4]\n",
        "df_total_LR = df_total[df_total['rate']<4]\n",
        "\n",
        "print(len(df_total_HR))\n",
        "print(len(df_total_LR))"
      ],
      "execution_count": 26,
      "outputs": [
        {
          "output_type": "stream",
          "text": [
            "63\n",
            "83\n"
          ],
          "name": "stdout"
        }
      ]
    },
    {
      "metadata": {
        "id": "FsrqPeaiu-a1",
        "colab_type": "code",
        "outputId": "c9edf30d-0754-4e95-a540-284cd8e577e7",
        "colab": {
          "base_uri": "https://localhost:8080/",
          "height": 204
        }
      },
      "cell_type": "code",
      "source": [
        "df_total_HR.head()"
      ],
      "execution_count": 27,
      "outputs": [
        {
          "output_type": "execute_result",
          "data": {
            "text/html": [
              "<div>\n",
              "<style scoped>\n",
              "    .dataframe tbody tr th:only-of-type {\n",
              "        vertical-align: middle;\n",
              "    }\n",
              "\n",
              "    .dataframe tbody tr th {\n",
              "        vertical-align: top;\n",
              "    }\n",
              "\n",
              "    .dataframe thead th {\n",
              "        text-align: right;\n",
              "    }\n",
              "</style>\n",
              "<table border=\"1\" class=\"dataframe\">\n",
              "  <thead>\n",
              "    <tr style=\"text-align: right;\">\n",
              "      <th></th>\n",
              "      <th>rate</th>\n",
              "      <th>review</th>\n",
              "      <th>Polarity</th>\n",
              "      <th>Subjectivity</th>\n",
              "    </tr>\n",
              "  </thead>\n",
              "  <tbody>\n",
              "    <tr>\n",
              "      <th>0</th>\n",
              "      <td>4</td>\n",
              "      <td>I have been here at 630 am and the staff is al...</td>\n",
              "      <td>0.733333</td>\n",
              "      <td>0.966667</td>\n",
              "    </tr>\n",
              "    <tr>\n",
              "      <th>6</th>\n",
              "      <td>4</td>\n",
              "      <td>That's pretty high remarks coming from a Starb...</td>\n",
              "      <td>0.003333</td>\n",
              "      <td>0.713333</td>\n",
              "    </tr>\n",
              "    <tr>\n",
              "      <th>8</th>\n",
              "      <td>4</td>\n",
              "      <td>This location is kind of tucked away in the mi...</td>\n",
              "      <td>0.150000</td>\n",
              "      <td>0.325000</td>\n",
              "    </tr>\n",
              "    <tr>\n",
              "      <th>9</th>\n",
              "      <td>4</td>\n",
              "      <td>One of my usual spots for a Starbucks run whil...</td>\n",
              "      <td>0.106667</td>\n",
              "      <td>0.380000</td>\n",
              "    </tr>\n",
              "    <tr>\n",
              "      <th>10</th>\n",
              "      <td>5</td>\n",
              "      <td>I been here a few times. The service is pretty...</td>\n",
              "      <td>0.220000</td>\n",
              "      <td>0.545000</td>\n",
              "    </tr>\n",
              "  </tbody>\n",
              "</table>\n",
              "</div>"
            ],
            "text/plain": [
              "    rate                                             review  Polarity  \\\n",
              "0      4  I have been here at 630 am and the staff is al...  0.733333   \n",
              "6      4  That's pretty high remarks coming from a Starb...  0.003333   \n",
              "8      4  This location is kind of tucked away in the mi...  0.150000   \n",
              "9      4  One of my usual spots for a Starbucks run whil...  0.106667   \n",
              "10     5  I been here a few times. The service is pretty...  0.220000   \n",
              "\n",
              "    Subjectivity  \n",
              "0       0.966667  \n",
              "6       0.713333  \n",
              "8       0.325000  \n",
              "9       0.380000  \n",
              "10      0.545000  "
            ]
          },
          "metadata": {
            "tags": []
          },
          "execution_count": 27
        }
      ]
    },
    {
      "metadata": {
        "id": "cs2fL5xOvDi5",
        "colab_type": "code",
        "outputId": "b82f1cb9-059e-4193-b0d5-3eda9da949fc",
        "colab": {
          "base_uri": "https://localhost:8080/",
          "height": 204
        }
      },
      "cell_type": "code",
      "source": [
        "df_total_LR.head()"
      ],
      "execution_count": 28,
      "outputs": [
        {
          "output_type": "execute_result",
          "data": {
            "text/html": [
              "<div>\n",
              "<style scoped>\n",
              "    .dataframe tbody tr th:only-of-type {\n",
              "        vertical-align: middle;\n",
              "    }\n",
              "\n",
              "    .dataframe tbody tr th {\n",
              "        vertical-align: top;\n",
              "    }\n",
              "\n",
              "    .dataframe thead th {\n",
              "        text-align: right;\n",
              "    }\n",
              "</style>\n",
              "<table border=\"1\" class=\"dataframe\">\n",
              "  <thead>\n",
              "    <tr style=\"text-align: right;\">\n",
              "      <th></th>\n",
              "      <th>rate</th>\n",
              "      <th>review</th>\n",
              "      <th>Polarity</th>\n",
              "      <th>Subjectivity</th>\n",
              "    </tr>\n",
              "  </thead>\n",
              "  <tbody>\n",
              "    <tr>\n",
              "      <th>1</th>\n",
              "      <td>2</td>\n",
              "      <td>Horrible experience this morning ,app orders s...</td>\n",
              "      <td>-0.266667</td>\n",
              "      <td>0.70</td>\n",
              "    </tr>\n",
              "    <tr>\n",
              "      <th>2</th>\n",
              "      <td>1</td>\n",
              "      <td>I freqent this location practically every work...</td>\n",
              "      <td>-0.450000</td>\n",
              "      <td>1.00</td>\n",
              "    </tr>\n",
              "    <tr>\n",
              "      <th>3</th>\n",
              "      <td>3</td>\n",
              "      <td>I arrived extremely early in NY so I decided t...</td>\n",
              "      <td>0.100000</td>\n",
              "      <td>0.30</td>\n",
              "    </tr>\n",
              "    <tr>\n",
              "      <th>4</th>\n",
              "      <td>3</td>\n",
              "      <td>When I was younger, I used to play a game with...</td>\n",
              "      <td>-0.133333</td>\n",
              "      <td>0.30</td>\n",
              "    </tr>\n",
              "    <tr>\n",
              "      <th>5</th>\n",
              "      <td>1</td>\n",
              "      <td>The wait here I just had for only a cup of ice...</td>\n",
              "      <td>-0.103472</td>\n",
              "      <td>0.75</td>\n",
              "    </tr>\n",
              "  </tbody>\n",
              "</table>\n",
              "</div>"
            ],
            "text/plain": [
              "   rate                                             review  Polarity  \\\n",
              "1     2  Horrible experience this morning ,app orders s... -0.266667   \n",
              "2     1  I freqent this location practically every work... -0.450000   \n",
              "3     3  I arrived extremely early in NY so I decided t...  0.100000   \n",
              "4     3  When I was younger, I used to play a game with... -0.133333   \n",
              "5     1  The wait here I just had for only a cup of ice... -0.103472   \n",
              "\n",
              "   Subjectivity  \n",
              "1          0.70  \n",
              "2          1.00  \n",
              "3          0.30  \n",
              "4          0.30  \n",
              "5          0.75  "
            ]
          },
          "metadata": {
            "tags": []
          },
          "execution_count": 28
        }
      ]
    },
    {
      "metadata": {
        "id": "knPxbRZnwBvo",
        "colab_type": "text"
      },
      "cell_type": "markdown",
      "source": [
        "Howis the review rate correlated to the polarity?"
      ]
    },
    {
      "metadata": {
        "id": "XDPuYl05vMRz",
        "colab_type": "code",
        "outputId": "010bda48-87a9-4b75-d823-f489fa7a55b7",
        "colab": {
          "base_uri": "https://localhost:8080/",
          "height": 378
        }
      },
      "cell_type": "code",
      "source": [
        "sns.boxplot(x=\"rate\", y=\"Polarity\", data=df_total)"
      ],
      "execution_count": 29,
      "outputs": [
        {
          "output_type": "execute_result",
          "data": {
            "text/plain": [
              "<matplotlib.axes._subplots.AxesSubplot at 0x7f8750abf940>"
            ]
          },
          "metadata": {
            "tags": []
          },
          "execution_count": 29
        },
        {
          "output_type": "display_data",
          "data": {
            "image/png": "[encoded data removed]",
            "text/plain": [
              "<Figure size 576x396 with 1 Axes>"
            ]
          },
          "metadata": {
            "tags": []
          }
        }
      ]
    },
    {
      "metadata": {
        "id": "p_3El9NFwTEP",
        "colab_type": "code",
        "outputId": "9be1eb2a-256d-4db7-a1b0-5240fab3a4b2",
        "colab": {
          "base_uri": "https://localhost:8080/",
          "height": 378
        }
      },
      "cell_type": "code",
      "source": [
        "sns.boxplot(x=\"rate\", y=\"Subjectivity\", data=df_total)"
      ],
      "execution_count": 30,
      "outputs": [
        {
          "output_type": "execute_result",
          "data": {
            "text/plain": [
              "<matplotlib.axes._subplots.AxesSubplot at 0x7f8750afeeb8>"
            ]
          },
          "metadata": {
            "tags": []
          },
          "execution_count": 30
        },
        {
          "output_type": "display_data",
          "data": {
            "image/png": "[encoded data removed]",
            "text/plain": [
              "<Figure size 576x396 with 1 Axes>"
            ]
          },
          "metadata": {
            "tags": []
          }
        }
      ]
    },
    {
      "metadata": {
        "id": "HYC6idN_DyaJ",
        "colab_type": "code",
        "colab": {}
      },
      "cell_type": "code",
      "source": [
        "#save file to Google Drive\n",
        "df_total.to_csv(base_dir + 'export_review_rate_all.csv', index = None, header=True) #Don't forget to add '.csv' at the end of the path\n"
      ],
      "execution_count": 0,
      "outputs": []
    },
    {
      "metadata": {
        "id": "S0oPILt-Z-B2",
        "colab_type": "code",
        "colab": {
          "base_uri": "https://localhost:8080/",
          "height": 51
        },
        "outputId": "2b4debe8-c879-451b-a848-829b079d73ad"
      },
      "cell_type": "code",
      "source": [
        "import nltk\n",
        "nltk.download('vader_lexicon')"
      ],
      "execution_count": 25,
      "outputs": [
        {
          "output_type": "stream",
          "text": [
            "[nltk_data] Downloading package vader_lexicon to /root/nltk_data...\n"
          ],
          "name": "stdout"
        },
        {
          "output_type": "execute_result",
          "data": {
            "text/plain": [
              "True"
            ]
          },
          "metadata": {
            "tags": []
          },
          "execution_count": 25
        }
      ]
    },
    {
      "metadata": {
        "id": "ihfc4TZdxXej",
        "colab_type": "code",
        "outputId": "dfe5891a-437c-44f3-de76-fbf5051067eb",
        "colab": {
          "base_uri": "https://localhost:8080/",
          "height": 289
        }
      },
      "cell_type": "code",
      "source": [
        "sid = SentimentIntensityAnalyzer()\n",
        "\n",
        "\n",
        "listy = []\n",
        "\n",
        "for index, row in df_total.iterrows():\n",
        "  ss = sid.polarity_scores(row[\"review\"])\n",
        "  listy.append(ss)\n",
        "  \n",
        "se = pd.Series(listy)\n",
        "df_total['polarity1'] = se.values\n",
        "\n",
        "#display(data.head(10))\n",
        "df_total.head()"
      ],
      "execution_count": 30,
      "outputs": [
        {
          "output_type": "execute_result",
          "data": {
            "text/html": [
              "<div>\n",
              "<style scoped>\n",
              "    .dataframe tbody tr th:only-of-type {\n",
              "        vertical-align: middle;\n",
              "    }\n",
              "\n",
              "    .dataframe tbody tr th {\n",
              "        vertical-align: top;\n",
              "    }\n",
              "\n",
              "    .dataframe thead th {\n",
              "        text-align: right;\n",
              "    }\n",
              "</style>\n",
              "<table border=\"1\" class=\"dataframe\">\n",
              "  <thead>\n",
              "    <tr style=\"text-align: right;\">\n",
              "      <th></th>\n",
              "      <th>rate</th>\n",
              "      <th>review</th>\n",
              "      <th>Polarity</th>\n",
              "      <th>Subjectivity</th>\n",
              "      <th>polarity1</th>\n",
              "    </tr>\n",
              "  </thead>\n",
              "  <tbody>\n",
              "    <tr>\n",
              "      <th>0</th>\n",
              "      <td>4</td>\n",
              "      <td>I have been here at 630 am and the staff is al...</td>\n",
              "      <td>0.733333</td>\n",
              "      <td>0.966667</td>\n",
              "      <td>{'neg': 0.0, 'neu': 0.883, 'pos': 0.117, 'comp...</td>\n",
              "    </tr>\n",
              "    <tr>\n",
              "      <th>1</th>\n",
              "      <td>2</td>\n",
              "      <td>Horrible experience this morning ,app orders s...</td>\n",
              "      <td>-0.266667</td>\n",
              "      <td>0.700000</td>\n",
              "      <td>{'neg': 0.211, 'neu': 0.789, 'pos': 0.0, 'comp...</td>\n",
              "    </tr>\n",
              "    <tr>\n",
              "      <th>2</th>\n",
              "      <td>1</td>\n",
              "      <td>I freqent this location practically every work...</td>\n",
              "      <td>-0.450000</td>\n",
              "      <td>1.000000</td>\n",
              "      <td>{'neg': 0.146, 'neu': 0.854, 'pos': 0.0, 'comp...</td>\n",
              "    </tr>\n",
              "    <tr>\n",
              "      <th>3</th>\n",
              "      <td>3</td>\n",
              "      <td>I arrived extremely early in NY so I decided t...</td>\n",
              "      <td>0.100000</td>\n",
              "      <td>0.300000</td>\n",
              "      <td>{'neg': 0.0, 'neu': 1.0, 'pos': 0.0, 'compound...</td>\n",
              "    </tr>\n",
              "    <tr>\n",
              "      <th>4</th>\n",
              "      <td>3</td>\n",
              "      <td>When I was younger, I used to play a game with...</td>\n",
              "      <td>-0.133333</td>\n",
              "      <td>0.300000</td>\n",
              "      <td>{'neg': 0.0, 'neu': 0.807, 'pos': 0.193, 'comp...</td>\n",
              "    </tr>\n",
              "  </tbody>\n",
              "</table>\n",
              "</div>"
            ],
            "text/plain": [
              "   rate                                             review  Polarity  \\\n",
              "0     4  I have been here at 630 am and the staff is al...  0.733333   \n",
              "1     2  Horrible experience this morning ,app orders s... -0.266667   \n",
              "2     1  I freqent this location practically every work... -0.450000   \n",
              "3     3  I arrived extremely early in NY so I decided t...  0.100000   \n",
              "4     3  When I was younger, I used to play a game with... -0.133333   \n",
              "\n",
              "   Subjectivity                                          polarity1  \n",
              "0      0.966667  {'neg': 0.0, 'neu': 0.883, 'pos': 0.117, 'comp...  \n",
              "1      0.700000  {'neg': 0.211, 'neu': 0.789, 'pos': 0.0, 'comp...  \n",
              "2      1.000000  {'neg': 0.146, 'neu': 0.854, 'pos': 0.0, 'comp...  \n",
              "3      0.300000  {'neg': 0.0, 'neu': 1.0, 'pos': 0.0, 'compound...  \n",
              "4      0.300000  {'neg': 0.0, 'neu': 0.807, 'pos': 0.193, 'comp...  "
            ]
          },
          "metadata": {
            "tags": []
          },
          "execution_count": 30
        }
      ]
    },
    {
      "metadata": {
        "id": "J8MkBajJpNaY",
        "colab_type": "code",
        "colab": {
          "base_uri": "https://localhost:8080/",
          "height": 34
        },
        "outputId": "a38b9532-75a5-42c6-b823-f046f989fc78"
      },
      "cell_type": "code",
      "source": [
        "df_total['polarity1'][0]\n",
        "#df_total2 =  df_total['polarity1']\n",
        "#df_total2 = pd.DataFrame(df_total2)\n",
        "#df_total2.head()\n",
        "#your_df_from_dict=pd.DataFrame.from_dict(df_total['polarity1'],orient='index')\n",
        "#print(your_df_from_dict)"
      ],
      "execution_count": 46,
      "outputs": [
        {
          "output_type": "execute_result",
          "data": {
            "text/plain": [
              "{'compound': 0.4019, 'neg': 0.0, 'neu': 0.883, 'pos': 0.117}"
            ]
          },
          "metadata": {
            "tags": []
          },
          "execution_count": 46
        }
      ]
    },
    {
      "metadata": {
        "id": "XcbZuE5stz0N",
        "colab_type": "text"
      },
      "cell_type": "markdown",
      "source": [
        ""
      ]
    }
  ]
}