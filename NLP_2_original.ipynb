{
  "nbformat": 4,
  "nbformat_minor": 0,
  "metadata": {
    "colab": {
      "name": "NLP_2_original.ipynb",
      "version": "0.3.2",
      "provenance": [],
      "collapsed_sections": [],
      "include_colab_link": true
    },
    "kernelspec": {
      "name": "python3",
      "display_name": "Python 3"
    }
  },
  "cells": [
    {
      "cell_type": "markdown",
      "metadata": {
        "id": "view-in-github",
        "colab_type": "text"
      },
      "source": [
        "<a href=\"https://colab.research.google.com/github/cyuancheng/NLP_Yelp_review/blob/master/NLP_2_original.ipynb\" target=\"_parent\"><img src=\"https://colab.research.google.com/assets/colab-badge.svg\" alt=\"Open In Colab\"/></a>"
      ]
    },
    {
      "metadata": {
        "id": "2KTF4FByD2_V",
        "colab_type": "text"
      },
      "cell_type": "markdown",
      "source": [
        "**NLP - Yelp data wrangling**"
      ]
    },
    {
      "metadata": {
        "id": "Bv_JR_8LHEZS",
        "colab_type": "code",
        "colab": {}
      },
      "cell_type": "code",
      "source": [
        "import pandas as pd\n",
        "import requests"
      ],
      "execution_count": 0,
      "outputs": []
    },
    {
      "metadata": {
        "id": "nu8hn15rl7MQ",
        "colab_type": "code",
        "colab": {}
      },
      "cell_type": "code",
      "source": [
        "#client_id = 'NTXTygLQ8Y5baxwIGObaJA' \n",
        "#key = 'V28EIFx3cLv9o7-oZfNIrwi7dw3cmEW8DVWOU1HKdhDMjZhlhMvmGKe8C3P0Ohwxi31DbZrVlZSa2CdodvGKMddaopwFOv8TUdymcROofzsIfYZbj21IFCWNiB2JXHYx'\n",
        "\n",
        "# get yelp api (https://www.yelp.com/developers)\n",
        "# \n",
        "\n",
        "client_id = 'fl6Gc_WOT5VLrae0o6fc7w' \n",
        "key = 'kArR8ttjf4JdZDtC27-InwcgepdkWrtTcSfaHKwf_JMtQY0LvXgfaG3lmUA3F2oCCp-KUa-W8tPuVXdm8Abwj6N0m0YJniJHVa61rXEFMLuAM11d2IrYSV5NEYGJXHYx'\n",
        "\n",
        "ENDPOINT = 'https://api.yelp.com/v3/businesses/search'\n",
        "\n",
        "HEADERS = {'Authorization':'bearer {}'.format(key)}\n",
        "\n",
        "PARAMETERS = {'term':'restaurant',\n",
        "             'limit':50,\n",
        "             'radius':40000, # meter\n",
        "              #'sort_by' :'review_count', \n",
        "             'location':\"NYC\"}\n",
        "\n",
        "response = requests.get(url = ENDPOINT, params = PARAMETERS, headers = HEADERS)"
      ],
      "execution_count": 0,
      "outputs": []
    },
    {
      "metadata": {
        "id": "qj4W7eiUFoXa",
        "colab_type": "text"
      },
      "cell_type": "markdown",
      "source": [
        "read data (json) "
      ]
    },
    {
      "metadata": {
        "id": "vI-XhgJ7mDaH",
        "colab_type": "code",
        "colab": {}
      },
      "cell_type": "code",
      "source": [
        "data = response.json()"
      ],
      "execution_count": 0,
      "outputs": []
    },
    {
      "metadata": {
        "id": "XkURaUTtJW7X",
        "colab_type": "code",
        "outputId": "8fb77fb8-d66a-4e0a-c72c-576799898820",
        "colab": {
          "base_uri": "https://localhost:8080/",
          "height": 445
        }
      },
      "cell_type": "code",
      "source": [
        "data[\"businesses\"][0] # info of the business"
      ],
      "execution_count": 0,
      "outputs": [
        {
          "output_type": "execute_result",
          "data": {
            "text/plain": [
              "{'alias': 'amélie-new-york',\n",
              " 'categories': [{'alias': 'french', 'title': 'French'},\n",
              "  {'alias': 'wine_bars', 'title': 'Wine Bars'}],\n",
              " 'coordinates': {'latitude': 40.7327, 'longitude': -73.99766},\n",
              " 'display_phone': '(212) 533-2962',\n",
              " 'distance': 3038.8699032940094,\n",
              " 'id': 'ETgJqJHV7BW6pIr9Ox74sA',\n",
              " 'image_url': 'https://s3-media4.fl.yelpcdn.com/bphoto/cSDgVuPMnJgMLTrTNSEXug/o.jpg',\n",
              " 'is_closed': False,\n",
              " 'location': {'address1': '22 W 8th St',\n",
              "  'address2': '',\n",
              "  'address3': '',\n",
              "  'city': 'New York',\n",
              "  'country': 'US',\n",
              "  'display_address': ['22 W 8th St', 'New York, NY 10011'],\n",
              "  'state': 'NY',\n",
              "  'zip_code': '10011'},\n",
              " 'name': 'Amélie',\n",
              " 'phone': '+12125332962',\n",
              " 'price': '$$',\n",
              " 'rating': 4.5,\n",
              " 'review_count': 2395,\n",
              " 'transactions': ['restaurant_reservation'],\n",
              " 'url': 'https://www.yelp.com/biz/am%C3%A9lie-new-york?adjust_creative=fl6Gc_WOT5VLrae0o6fc7w&utm_campaign=yelp_api_v3&utm_medium=api_v3_business_search&utm_source=fl6Gc_WOT5VLrae0o6fc7w'}"
            ]
          },
          "metadata": {
            "tags": []
          },
          "execution_count": 20
        }
      ]
    },
    {
      "metadata": {
        "id": "RL-WZfPgF77r",
        "colab_type": "code",
        "outputId": "73c86e61-4c2d-43e3-925b-a20b8c7aefe2",
        "colab": {
          "base_uri": "https://localhost:8080/",
          "height": 34
        }
      },
      "cell_type": "code",
      "source": [
        "data[\"businesses\"][0]['id'] # parse id for review (with highest review count)"
      ],
      "execution_count": 0,
      "outputs": [
        {
          "output_type": "execute_result",
          "data": {
            "text/plain": [
              "'ETgJqJHV7BW6pIr9Ox74sA'"
            ]
          },
          "metadata": {
            "tags": []
          },
          "execution_count": 21
        }
      ]
    },
    {
      "metadata": {
        "id": "EEcceQGJGKY8",
        "colab_type": "text"
      },
      "cell_type": "markdown",
      "source": [
        "read review of this businesses of the highest review count"
      ]
    },
    {
      "metadata": {
        "id": "ApylqAplW9E2",
        "colab_type": "code",
        "colab": {}
      },
      "cell_type": "code",
      "source": [
        "ENDPOINT_reviews = 'https://api.yelp.com/v3/businesses/44SY464xDHbvOcjDzRbKkQ/reviews'   # id/reviews  \n",
        "\n",
        "response_reviews = requests.get(url = ENDPOINT_reviews, headers = HEADERS)"
      ],
      "execution_count": 0,
      "outputs": []
    },
    {
      "metadata": {
        "id": "AW42BuKqYd9L",
        "colab_type": "code",
        "outputId": "6e8615fd-3a95-4501-cd4d-36c6fbc73448",
        "colab": {
          "base_uri": "https://localhost:8080/",
          "height": 530
        }
      },
      "cell_type": "code",
      "source": [
        "response_reviews.json()"
      ],
      "execution_count": 0,
      "outputs": [
        {
          "output_type": "execute_result",
          "data": {
            "text/plain": [
              "{'possible_languages': ['fr', 'en', 'zh', 'de', 'nl', 'ja', 'es'],\n",
              " 'reviews': [{'id': 'ZNXhzuRQCRAuRlZp1qEhYA',\n",
              "   'rating': 5,\n",
              "   'text': \"OMG!!! I don't think this place needs another review but their ramen is out of this world.\\n\\nI ordered the akamaru modern, with their suggested toppings. It...\",\n",
              "   'time_created': '2019-03-13 11:20:34',\n",
              "   'url': 'https://www.yelp.com/biz/ippudo-ny-new-york-7?adjust_creative=fl6Gc_WOT5VLrae0o6fc7w&hrid=ZNXhzuRQCRAuRlZp1qEhYA&utm_campaign=yelp_api_v3&utm_medium=api_v3_business_reviews&utm_source=fl6Gc_WOT5VLrae0o6fc7w',\n",
              "   'user': {'id': 'jDxo59C8cG_2K9QinPggNQ',\n",
              "    'image_url': 'https://s3-media2.fl.yelpcdn.com/photo/Q_BkcvM91p8y0Vru3UZ1Og/o.jpg',\n",
              "    'name': 'Stephen N.',\n",
              "    'profile_url': 'https://www.yelp.com/user_details?userid=jDxo59C8cG_2K9QinPggNQ'}},\n",
              "  {'id': 'Gv5yXSp5y8J-8Vf1BpV4ug',\n",
              "   'rating': 5,\n",
              "   'text': 'Came here for lunch on a Saturday at 3PM and still had an hour wait but it was worth it! \\n\\nPros:\\n- The vegetarian bao was so good! Was not expecting that...',\n",
              "   'time_created': '2019-03-10 08:41:34',\n",
              "   'url': 'https://www.yelp.com/biz/ippudo-ny-new-york-7?adjust_creative=fl6Gc_WOT5VLrae0o6fc7w&hrid=Gv5yXSp5y8J-8Vf1BpV4ug&utm_campaign=yelp_api_v3&utm_medium=api_v3_business_reviews&utm_source=fl6Gc_WOT5VLrae0o6fc7w',\n",
              "   'user': {'id': 'hgek71vAodJoBvYFnICwHg',\n",
              "    'image_url': 'https://s3-media2.fl.yelpcdn.com/photo/391cm75LyJdHsKS9C9IWiQ/o.jpg',\n",
              "    'name': 'Mandy L.',\n",
              "    'profile_url': 'https://www.yelp.com/user_details?userid=hgek71vAodJoBvYFnICwHg'}},\n",
              "  {'id': '_6L2dy7WinkapAd_HhmgFA',\n",
              "   'rating': 3,\n",
              "   'text': 'After waiting an hour for a Sunday evening dinner, I was pretty excited to dine at Ippudo. We excitedly ordered the pork buns to start based on all the...',\n",
              "   'time_created': '2019-03-07 09:15:30',\n",
              "   'url': 'https://www.yelp.com/biz/ippudo-ny-new-york-7?adjust_creative=fl6Gc_WOT5VLrae0o6fc7w&hrid=_6L2dy7WinkapAd_HhmgFA&utm_campaign=yelp_api_v3&utm_medium=api_v3_business_reviews&utm_source=fl6Gc_WOT5VLrae0o6fc7w',\n",
              "   'user': {'id': 'koq1nswcUyMFXiud3PEYBQ',\n",
              "    'image_url': 'https://s3-media2.fl.yelpcdn.com/photo/Jt0P_zyxPjGoN-2F9C8VnQ/o.jpg',\n",
              "    'name': 'Amy B.',\n",
              "    'profile_url': 'https://www.yelp.com/user_details?userid=koq1nswcUyMFXiud3PEYBQ'}}],\n",
              " 'total': 9677}"
            ]
          },
          "metadata": {
            "tags": []
          },
          "execution_count": 23
        }
      ]
    },
    {
      "metadata": {
        "id": "xRIcNN_tYpQP",
        "colab_type": "code",
        "outputId": "cf314c7b-e9e5-467c-8405-477e88137357",
        "colab": {
          "base_uri": "https://localhost:8080/",
          "height": 34
        }
      },
      "cell_type": "code",
      "source": [
        "len(response_reviews.json())"
      ],
      "execution_count": 0,
      "outputs": [
        {
          "output_type": "execute_result",
          "data": {
            "text/plain": [
              "3"
            ]
          },
          "metadata": {
            "tags": []
          },
          "execution_count": 24
        }
      ]
    },
    {
      "metadata": {
        "id": "AgHEAiqzZcNB",
        "colab_type": "code",
        "outputId": "1eb8bc20-0e9f-4087-cba8-94b3dad89fb3",
        "colab": {
          "base_uri": "https://localhost:8080/",
          "height": 54
        }
      },
      "cell_type": "code",
      "source": [
        "response_reviews.text"
      ],
      "execution_count": 0,
      "outputs": [
        {
          "output_type": "execute_result",
          "data": {
            "text/plain": [
              "'{\"reviews\": [{\"id\": \"ZNXhzuRQCRAuRlZp1qEhYA\", \"url\": \"https://www.yelp.com/biz/ippudo-ny-new-york-7?adjust_creative=fl6Gc_WOT5VLrae0o6fc7w&hrid=ZNXhzuRQCRAuRlZp1qEhYA&utm_campaign=yelp_api_v3&utm_medium=api_v3_business_reviews&utm_source=fl6Gc_WOT5VLrae0o6fc7w\", \"text\": \"OMG!!! I don\\'t think this place needs another review but their ramen is out of this world.\\\\n\\\\nI ordered the akamaru modern, with their suggested toppings. It...\", \"rating\": 5, \"time_created\": \"2019-03-13 11:20:34\", \"user\": {\"id\": \"jDxo59C8cG_2K9QinPggNQ\", \"profile_url\": \"https://www.yelp.com/user_details?userid=jDxo59C8cG_2K9QinPggNQ\", \"image_url\": \"https://s3-media2.fl.yelpcdn.com/photo/Q_BkcvM91p8y0Vru3UZ1Og/o.jpg\", \"name\": \"Stephen N.\"}}, {\"id\": \"Gv5yXSp5y8J-8Vf1BpV4ug\", \"url\": \"https://www.yelp.com/biz/ippudo-ny-new-york-7?adjust_creative=fl6Gc_WOT5VLrae0o6fc7w&hrid=Gv5yXSp5y8J-8Vf1BpV4ug&utm_campaign=yelp_api_v3&utm_medium=api_v3_business_reviews&utm_source=fl6Gc_WOT5VLrae0o6fc7w\", \"text\": \"Came here for lunch on a Saturday at 3PM and still had an hour wait but it was worth it! \\\\n\\\\nPros:\\\\n- The vegetarian bao was so good! Was not expecting that...\", \"rating\": 5, \"time_created\": \"2019-03-10 08:41:34\", \"user\": {\"id\": \"hgek71vAodJoBvYFnICwHg\", \"profile_url\": \"https://www.yelp.com/user_details?userid=hgek71vAodJoBvYFnICwHg\", \"image_url\": \"https://s3-media2.fl.yelpcdn.com/photo/391cm75LyJdHsKS9C9IWiQ/o.jpg\", \"name\": \"Mandy L.\"}}, {\"id\": \"_6L2dy7WinkapAd_HhmgFA\", \"url\": \"https://www.yelp.com/biz/ippudo-ny-new-york-7?adjust_creative=fl6Gc_WOT5VLrae0o6fc7w&hrid=_6L2dy7WinkapAd_HhmgFA&utm_campaign=yelp_api_v3&utm_medium=api_v3_business_reviews&utm_source=fl6Gc_WOT5VLrae0o6fc7w\", \"text\": \"After waiting an hour for a Sunday evening dinner, I was pretty excited to dine at Ippudo. We excitedly ordered the pork buns to start based on all the...\", \"rating\": 3, \"time_created\": \"2019-03-07 09:15:30\", \"user\": {\"id\": \"koq1nswcUyMFXiud3PEYBQ\", \"profile_url\": \"https://www.yelp.com/user_details?userid=koq1nswcUyMFXiud3PEYBQ\", \"image_url\": \"https://s3-media2.fl.yelpcdn.com/photo/Jt0P_zyxPjGoN-2F9C8VnQ/o.jpg\", \"name\": \"Amy B.\"}}], \"total\": 9677, \"possible_languages\": [\"fr\", \"en\", \"zh\", \"de\", \"nl\", \"ja\", \"es\"]}'"
            ]
          },
          "metadata": {
            "tags": []
          },
          "execution_count": 25
        }
      ]
    },
    {
      "metadata": {
        "id": "lS1G3_fjGuIl",
        "colab_type": "text"
      },
      "cell_type": "markdown",
      "source": [
        "Next, we can make a list of the businesses with their id, rating, and price"
      ]
    },
    {
      "metadata": {
        "id": "N1so2K95L3pl",
        "colab_type": "code",
        "outputId": "6ed549d4-c3a3-4c2c-f0ca-44555dcb1be5",
        "colab": {
          "base_uri": "https://localhost:8080/",
          "height": 867
        }
      },
      "cell_type": "code",
      "source": [
        "# list of id in businesses with rating\n",
        "list_buss = []\n",
        "#i = 0s\n",
        "for item in data['businesses']:\n",
        "  #print(i)\n",
        "  #i+= 1\n",
        "  try:\n",
        "    list_buss.append([item['id'], item['rating'], item['price']])\n",
        "  except:\n",
        "    list_buss.append([item['id'], item['rating'], None])\n",
        "    pass\n",
        "  #print(item['id'])\n",
        "list_buss"
      ],
      "execution_count": 0,
      "outputs": [
        {
          "output_type": "execute_result",
          "data": {
            "text/plain": [
              "[['ETgJqJHV7BW6pIr9Ox74sA', 4.5, '$$'],\n",
              " ['ehUuSk5gPTCQmwS_ubgKRA', 4.5, '$$'],\n",
              " ['CwOAKJdX8AMz5iAoA-ZEuA', 4.0, '$$'],\n",
              " ['tiSw-6DIm3-mMORyEIOVyg', 4.5, '$$'],\n",
              " ['jjJc_CrkB2HodEinB6cWww', 4.0, '$$'],\n",
              " ['I2lgw_7DUnwD92ND4PN-Ow', 4.0, '$$'],\n",
              " ['0CjK3esfpFcxIopebzjFxA', 4.0, '$$'],\n",
              " ['xt4sa64WOrpJvZBDPNPNYg', 4.0, '$$'],\n",
              " ['s3jou_L_LVYGkNHiuhjlew', 4.5, '$$$'],\n",
              " ['UA2M9QFZghe-9th2KwLoWQ', 4.0, '$$'],\n",
              " ['ysqgdbSrezXgVwER2kQWKA', 4.5, '$$'],\n",
              " ['ULt3kmA0_hbZ3j6cMORCaA', 4.0, '$$'],\n",
              " ['qOomR3AwClOGpV1HdqOTFg', 4.5, '$$'],\n",
              " ['22nKUyCIbpnzR6R3_g1ptQ', 4.0, '$$'],\n",
              " ['Lbs8QBRN1U7IYBo5Mcv-RQ', 4.0, '$'],\n",
              " ['hmdm-dO72hLsMQwQRcGEUQ', 4.0, '$$'],\n",
              " ['jAaVnUKLITkuhzwXIe0vLQ', 4.5, '$$'],\n",
              " ['-udRA8VRsQJoIaT-kxCrGg', 4.0, '$$'],\n",
              " ['L7_siqDfU4-ZA17YtA-SBg', 4.5, '$$'],\n",
              " ['OCTiJwvjoK81WoDwsTkFvA', 4.0, '$$'],\n",
              " ['PWDSfW-c8198UegLtaTR1A', 3.0, None],\n",
              " ['X8ZS-dgiMIJvhwf9SaDnjw', 4.5, '$'],\n",
              " ['m1cJLpDN4B-_0hGgPfe5OA', 4.0, '$$'],\n",
              " ['XEugUtbw4rRmGr9S1XA-aQ', 4.0, '$$$'],\n",
              " ['44SY464xDHbvOcjDzRbKkQ', 4.0, '$$'],\n",
              " ['y1192qiuwi3m0tqdt1Dh7g', 4.5, '$$'],\n",
              " ['XipQLDbyTl5tsLlyzAWzug', 4.5, '$$'],\n",
              " ['Je2MuObgrne2wSKhD5MZ0w', 4.5, '$$'],\n",
              " ['qm1J_dPA5IHij1oAnoZwHw', 4.0, '$$'],\n",
              " ['fVbUVAiLiGgLA_nxBFxyww', 4.5, '$$'],\n",
              " ['sCC7-hSdCkNPExejZT9BAQ', 4.5, '$$'],\n",
              " ['nU4XBdvxDABXqZ6CnB8Dig', 4.0, '$$'],\n",
              " ['FlZ1zdVEKWv7dwqm8Uw8-w', 4.5, '$$'],\n",
              " ['wdGMVLUzocmnl2tST0lheg', 4.0, '$$'],\n",
              " ['StF9WWWbrRzEOmNAcEINcA', 4.0, '$$'],\n",
              " ['xEnNFXtMLDF5kZDxfaCJgA', 4.0, '$'],\n",
              " ['04exhf1PZ79_Km9vHAzvfA', 4.0, '$$'],\n",
              " ['B3_K2kUVbYOU0VaLcj_LTw', 4.5, '$$'],\n",
              " ['jnEv25Y2DosTq2sNnvmC9g', 4.5, '$'],\n",
              " ['rp8S7scxOkVVeG7dNneMGQ', 4.5, '$$$'],\n",
              " ['oOsJn3leUnWDfErRWMf81g', 4.0, '$$'],\n",
              " ['Rc1lxc5lSKJYd162JHNMfQ', 4.0, '$$'],\n",
              " ['tteuwV9tNqiANsw1ryfX0A', 4.0, '$$'],\n",
              " ['DoSU8IPq-Py_YV3kYmXPfQ', 4.0, '$$'],\n",
              " ['BtVnZmPY51ZWGY63-mzJ7A', 4.5, None],\n",
              " ['ogCC-lJJYnwXDvKGmKZ6Sw', 4.0, '$'],\n",
              " ['16ZnHpuaaBt92XWeJHCC5A', 4.0, '$$'],\n",
              " ['WHQpLvxkCK_BMtF8pIShnQ', 4.0, '$$'],\n",
              " ['fxGpXRxFUDzlU3Cyszu4uQ', 3.5, '$$$'],\n",
              " ['8XHbZIKDQbXhyKIGiukVeQ', 4.5, '$$$']]"
            ]
          },
          "metadata": {
            "tags": []
          },
          "execution_count": 26
        }
      ]
    },
    {
      "metadata": {
        "id": "jPK5FF0VG1g9",
        "colab_type": "code",
        "outputId": "01a88232-d5b2-47b5-a44b-b7e1d5473b46",
        "colab": {
          "base_uri": "https://localhost:8080/",
          "height": 34
        }
      },
      "cell_type": "code",
      "source": [
        "len(list_of_ids)"
      ],
      "execution_count": 0,
      "outputs": [
        {
          "output_type": "execute_result",
          "data": {
            "text/plain": [
              "50"
            ]
          },
          "metadata": {
            "tags": []
          },
          "execution_count": 12
        }
      ]
    },
    {
      "metadata": {
        "id": "fN9qqsHWG9Ze",
        "colab_type": "code",
        "colab": {}
      },
      "cell_type": "code",
      "source": [
        "# convert to pandas format\n",
        "list_buss = pd.DataFrame(list_buss, columns = ['id','rating','price'])\n",
        "list_buss"
      ],
      "execution_count": 0,
      "outputs": []
    }
  ]
}